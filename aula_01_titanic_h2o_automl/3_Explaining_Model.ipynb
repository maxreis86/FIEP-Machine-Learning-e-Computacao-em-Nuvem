{
 "cells": [
  {
   "cell_type": "markdown",
   "metadata": {},
   "source": [
    "# Explain the Best Model\n",
    "* To succecfully run this notebook you need a python3.7 kernel with requirements in ./sagemaker-custom-image/requirements.txt"
   ]
  },
  {
   "cell_type": "markdown",
   "metadata": {
    "papermill": {
     "duration": 0.04859,
     "end_time": "2021-04-22T18:42:32.131294",
     "exception": false,
     "start_time": "2021-04-22T18:42:32.082704",
     "status": "completed"
    },
    "tags": []
   },
   "source": [
    "## This notebook will help you to do:\n",
    "* Import scored data\n",
    "* Use Shapley Value to explain the model\n",
    "* Define Ratings with homogeneous group"
   ]
  },
  {
   "cell_type": "markdown",
   "metadata": {
    "papermill": {
     "duration": 0.046916,
     "end_time": "2021-04-22T18:42:32.225806",
     "exception": false,
     "start_time": "2021-04-22T18:42:32.178890",
     "status": "completed"
    },
    "tags": []
   },
   "source": [
    "# 1. Parameters"
   ]
  },
  {
   "cell_type": "code",
   "execution_count": 38,
   "metadata": {
    "gather": {
     "logged": 1668730379002
    },
    "papermill": {
     "duration": 0.055908,
     "end_time": "2021-04-22T18:42:32.329142",
     "exception": false,
     "start_time": "2021-04-22T18:42:32.273234",
     "status": "completed"
    },
    "tags": []
   },
   "outputs": [],
   "source": [
    "#Copiar o caminho path_model_mojo do step \"5. Exporting the best model to Deploy\" no código \"2_Fast_Machine_Learning.ipynb\"\n",
    "path_model_mojo = 'h2o_champion_titanic_propensity_survive_v1_20221127_154332.zip'\n",
    "\n",
    "#Name\n",
    "ModelName = 'titanic_propensity_survive'\n",
    "\n",
    "#Setting the model target variable name\n",
    "VarTarget = 'Survived'\n",
    "VarId = 'PassengerId'\n",
    "VarDate = 'ReferenceDate' \n",
    "\n",
    "#process outputs such as MOJO model, images and performance of tested models\n",
    "OutputPath = './output_model/'\n",
    "\n",
    "#If you have a huge dataset, I should consider use a small sample for first execution\n",
    "PctSampleSize = 1\n",
    "\n",
    "#Version\n",
    "ModelVersion = 'v1'\n",
    "\n",
    "#Model ID\n",
    "ModelId = ModelName+'_'+ModelVersion\n",
    "\n",
    "CAT = ['Pclass'\n",
    ",'Embarked'\n",
    ",'cabine_prefix'\n",
    ",'Ticket_str'\n",
    ",'NameTitle']\n",
    "\n",
    "# #float\n",
    "# NUM = ['Fare'\n",
    "# ,'SibSp'\n",
    "# ,'Parch'\n",
    "# ,'Age_Mean'\n",
    "# ,'Ticket_int']\n",
    "\n",
    "#float\n",
    "NUM = [\n",
    "'SibSp'\n",
    ",'Parch'\n",
    ",'Age_Mean'\n",
    ",'Ticket_int']\n",
    "selected_features = CAT + NUM"
   ]
  },
  {
   "cell_type": "markdown",
   "metadata": {
    "papermill": {
     "duration": 0.047515,
     "end_time": "2021-04-22T18:42:32.423393",
     "exception": false,
     "start_time": "2021-04-22T18:42:32.375878",
     "status": "completed"
    },
    "tags": []
   },
   "source": [
    "# 2. Import Libraries"
   ]
  },
  {
   "cell_type": "code",
   "execution_count": 39,
   "metadata": {},
   "outputs": [
    {
     "name": "stderr",
     "output_type": "stream",
     "text": [
      "WARNING: Ignoring invalid distribution -2o (c:\\program files\\python37\\lib\\site-packages)\n",
      "WARNING: Ignoring invalid distribution -ffi (c:\\program files\\python37\\lib\\site-packages)\n",
      "WARNING: Ignoring invalid distribution -atplotlib (c:\\program files\\python37\\lib\\site-packages)\n",
      "WARNING: Ignoring invalid distribution -2o (c:\\program files\\python37\\lib\\site-packages)\n",
      "WARNING: Ignoring invalid distribution -ffi (c:\\program files\\python37\\lib\\site-packages)\n",
      "WARNING: Ignoring invalid distribution -atplotlib (c:\\program files\\python37\\lib\\site-packages)\n",
      "ERROR: Could not find a version that satisfies the requirement gcc7==0.0.7 (from versions: none)\n",
      "ERROR: No matching distribution found for gcc7==0.0.7\n",
      "WARNING: Ignoring invalid distribution -2o (c:\\program files\\python37\\lib\\site-packages)\n",
      "WARNING: Ignoring invalid distribution -ffi (c:\\program files\\python37\\lib\\site-packages)\n",
      "WARNING: Ignoring invalid distribution -atplotlib (c:\\program files\\python37\\lib\\site-packages)\n"
     ]
    }
   ],
   "source": [
    "!pip -q install -r requirements.txt"
   ]
  },
  {
   "cell_type": "code",
   "execution_count": 40,
   "metadata": {
    "gather": {
     "logged": 1668729676619
    },
    "papermill": {
     "duration": 9.765238,
     "end_time": "2021-04-22T18:42:42.235677",
     "exception": false,
     "start_time": "2021-04-22T18:42:32.470439",
     "status": "completed"
    },
    "tags": []
   },
   "outputs": [],
   "source": [
    "import datetime as dt\n",
    "import pandas as pd\n",
    "import numpy as np\n",
    "import matplotlib.pyplot as plt\n",
    "import shap\n",
    "import h2o\n",
    "import seaborn as sns"
   ]
  },
  {
   "cell_type": "markdown",
   "metadata": {
    "papermill": {
     "duration": 0.045874,
     "end_time": "2021-04-22T18:42:42.327994",
     "exception": false,
     "start_time": "2021-04-22T18:42:42.282120",
     "status": "completed"
    },
    "tags": []
   },
   "source": [
    "# 3. Importing Scored Data for Explain Modeling"
   ]
  },
  {
   "cell_type": "code",
   "execution_count": 41,
   "metadata": {
    "gather": {
     "logged": 1668729716531
    }
   },
   "outputs": [],
   "source": [
    "datascored_df_full = pd.read_csv('./titanic/df_predict.csv')"
   ]
  },
  {
   "cell_type": "code",
   "execution_count": 42,
   "metadata": {
    "gather": {
     "logged": 1668729717527
    },
    "papermill": {
     "duration": 0.054085,
     "end_time": "2021-04-22T18:42:42.984342",
     "exception": false,
     "start_time": "2021-04-22T18:42:42.930257",
     "status": "completed"
    },
    "tags": []
   },
   "outputs": [],
   "source": [
    "#Work with a sample data if the PctSampleSize is less than 1\n",
    "if PctSampleSize == 1:\n",
    "    datascored_df = datascored_df_full.copy()\n",
    "else:\n",
    "    datascored_df = datascored_df_full.sample(frac=PctSampleSize, replace=False, random_state=1)\n",
    "del datascored_df_full"
   ]
  },
  {
   "cell_type": "code",
   "execution_count": 43,
   "metadata": {
    "gather": {
     "logged": 1668729720729
    },
    "papermill": {
     "duration": 1.860101,
     "end_time": "2021-04-22T18:45:15.821982",
     "exception": false,
     "start_time": "2021-04-22T18:45:13.961881",
     "status": "completed"
    },
    "tags": []
   },
   "outputs": [],
   "source": [
    "#Numeric features must be float type\n",
    "for col_name in NUM:\n",
    "    datascored_df[col_name] = datascored_df[col_name].astype(float)\n",
    "\n",
    "#Categorical features must be string type and null values will be filled with \"missing\"\n",
    "for col_name in CAT:\n",
    "    datascored_df[col_name] = datascored_df[col_name].astype(str)"
   ]
  },
  {
   "cell_type": "code",
   "execution_count": 44,
   "metadata": {
    "gather": {
     "logged": 1668729722472
    }
   },
   "outputs": [
    {
     "data": {
      "image/png": "[encoded data removed]",
      "text/plain": [
       "<Figure size 432x288 with 2 Axes>"
      ]
     },
     "metadata": {
      "needs_background": "light"
     },
     "output_type": "display_data"
    },
    {
     "data": {
      "image/png": "[encoded data removed]",
      "text/plain": [
       "<Figure size 432x288 with 2 Axes>"
      ]
     },
     "metadata": {
      "needs_background": "light"
     },
     "output_type": "display_data"
    }
   ],
   "source": [
    "#Confusion Matrix for the Champion\n",
    "df_matrix = datascored_df.reset_index().groupby([VarTarget, 'predict']).count()[['index']].reset_index().pivot(index=VarTarget, columns='predict', values='index').sort_values(by=[VarTarget], ascending=False).loc[:,(1,0)]\n",
    "\n",
    "sns.heatmap(df_matrix, annot=True, center=True,cmap='Blues', fmt='g')\n",
    "plt.show()\n",
    "sns.heatmap(df_matrix/np.sum(df_matrix), annot=True,\n",
    "            fmt='.2%', cmap='Blues')\n",
    "plt.show()"
   ]
  },
  {
   "cell_type": "markdown",
   "metadata": {
    "papermill": {
     "duration": 2.134508,
     "end_time": "2021-04-22T19:09:38.212116",
     "exception": false,
     "start_time": "2021-04-22T19:09:36.077608",
     "status": "completed"
    },
    "tags": []
   },
   "source": [
    "# 4. Calculate Shapley Values using SHAP KernelExplainer for H20 models"
   ]
  },
  {
   "cell_type": "markdown",
   "metadata": {
    "papermill": {
     "duration": 2.108162,
     "end_time": "2021-04-22T19:09:42.477746",
     "exception": false,
     "start_time": "2021-04-22T19:09:40.369584",
     "status": "completed"
    },
    "tags": []
   },
   "source": [
    "#### The SHAP library calculates the Shaley Value of each variable used in the model and shows the individual impact of each variable on the predicted value for each record. To better understand how the SHAP library works, see the link https://github.com/slundberg/shap"
   ]
  },
  {
   "cell_type": "code",
   "execution_count": 45,
   "metadata": {
    "gather": {
     "logged": 1668729727589
    },
    "papermill": {
     "duration": 2.398585,
     "end_time": "2021-04-22T19:09:47.033982",
     "exception": false,
     "start_time": "2021-04-22T19:09:44.635397",
     "status": "completed"
    },
    "tags": []
   },
   "outputs": [],
   "source": [
    "#Funcao para calcular o valor de shapley\n",
    "class H2oProbWrapper:\n",
    "    def __init__(self, h2o_model, feature_names, NUM, CAT):\n",
    "        self.h2o_model = h2o_model\n",
    "        self.feature_names = feature_names\n",
    "        self.NUM = NUM\n",
    "        self.CAT = CAT\n",
    "    def predict_binary_prob(self, X):\n",
    "        if isinstance(X, pd.Series):\n",
    "            X = X.values.reshape(1,-1) \n",
    "        self.dataframe = pd.DataFrame(X, columns=self.feature_names)\n",
    "\n",
    "        #Numeric features must be float type\n",
    "        for col_name in self.NUM:\n",
    "            self.dataframe[col_name] = self.dataframe[col_name].astype(float)\n",
    "\n",
    "        #Categorical features must be string type and null values will be filled with \"Missing\"\n",
    "        for col_name in self.CAT:        \n",
    "            self.dataframe = self.dataframe.astype(str)\n",
    "            self.dataframe = self.dataframe.fillna(value={col_name: 'Missing'})\n",
    "\n",
    "        self.predictions = h2o.mojo_predict_pandas(self.dataframe.set_index(self.feature_names[0], inplace=False), mojo_zip_path=self.h2o_model, verbose=False).loc[:,('predict','p1')]        \n",
    "        return self.predictions['p1'].astype('float64').values"
   ]
  },
  {
   "cell_type": "code",
   "execution_count": 46,
   "metadata": {
    "gather": {
     "logged": 1668729728678
    },
    "papermill": {
     "duration": 2.164212,
     "end_time": "2021-04-22T19:09:51.305279",
     "exception": false,
     "start_time": "2021-04-22T19:09:49.141067",
     "status": "completed"
    },
    "tags": []
   },
   "outputs": [],
   "source": [
    "#The calculation of the Shapley Value for H20 models takes a while. So it will only be done for 20 records. Increase the sample to deepen your analysis\n",
    "shap_sample = datascored_df.loc[:,(selected_features)].sample(n=50, replace=False, random_state=1)\n",
    "shap_sample = shap_sample.fillna(0)"
   ]
  },
  {
   "cell_type": "code",
   "execution_count": 48,
   "metadata": {
    "gather": {
     "logged": 1668729898496
    }
   },
   "outputs": [
    {
     "data": {
      "application/vnd.jupyter.widget-view+json": {
       "model_id": "a1fcd6ebb76a41d481b2a97d4b6a0270",
       "version_major": 2,
       "version_minor": 0
      },
      "text/plain": [
       "HBox(children=(HTML(value=''), FloatProgress(value=0.0, max=50.0), HTML(value='')))"
      ]
     },
     "metadata": {},
     "output_type": "display_data"
    },
    {
     "name": "stdout",
     "output_type": "stream",
     "text": [
      "\n"
     ]
    }
   ],
   "source": [
    "h2o_wrapper = H2oProbWrapper(path_model_mojo, selected_features, NUM, CAT)\n",
    "h2o_explainer = shap.KernelExplainer(h2o_wrapper.predict_binary_prob, shap_sample)\n",
    "h2o_shap_values = h2o_explainer.shap_values(shap_sample, nsamples=\"auto\")"
   ]
  },
  {
   "cell_type": "markdown",
   "metadata": {
    "papermill": {
     "duration": 2.209221,
     "end_time": "2021-04-22T19:11:31.684714",
     "exception": false,
     "start_time": "2021-04-22T19:11:29.475493",
     "status": "completed"
    },
    "tags": []
   },
   "source": [
    "## 4.1 Main SHAP Graphics"
   ]
  },
  {
   "cell_type": "code",
   "execution_count": 49,
   "metadata": {
    "gather": {
     "logged": 1668729954482
    },
    "papermill": {
     "duration": 2.679674,
     "end_time": "2021-04-22T19:11:36.555789",
     "exception": false,
     "start_time": "2021-04-22T19:11:33.876115",
     "status": "completed"
    },
    "tags": []
   },
   "outputs": [
    {
     "data": {
      "image/png": "[encoded data removed]",
      "text/plain": [
       "<Figure size 576x367.2 with 1 Axes>"
      ]
     },
     "metadata": {
      "needs_background": "light"
     },
     "output_type": "display_data"
    },
    {
     "data": {
      "text/plain": [
       "None"
      ]
     },
     "metadata": {},
     "output_type": "display_data"
    }
   ],
   "source": [
    "fig = shap.summary_plot(h2o_shap_values, shap_sample, plot_type=\"bar\", show=True)\n",
    "display(fig)"
   ]
  },
  {
   "cell_type": "code",
   "execution_count": 50,
   "metadata": {
    "gather": {
     "logged": 1668729955819
    },
    "papermill": {
     "duration": 2.958057,
     "end_time": "2021-04-22T19:11:42.115703",
     "exception": false,
     "start_time": "2021-04-22T19:11:39.157646",
     "status": "completed"
    },
    "tags": []
   },
   "outputs": [
    {
     "data": {
      "text/plain": [
       "None"
      ]
     },
     "metadata": {},
     "output_type": "display_data"
    },
    {
     "data": {
      "image/png": "[encoded data removed]",
      "text/plain": [
       "<Figure size 576x367.2 with 2 Axes>"
      ]
     },
     "metadata": {
      "needs_background": "light"
     },
     "output_type": "display_data"
    }
   ],
   "source": [
    "display(shap.summary_plot(h2o_shap_values, shap_sample, show=False))"
   ]
  },
  {
   "cell_type": "code",
   "execution_count": 51,
   "metadata": {
    "gather": {
     "logged": 1668729908846
    },
    "papermill": {
     "duration": 4.71479,
     "end_time": "2021-04-22T19:11:49.002130",
     "exception": false,
     "start_time": "2021-04-22T19:11:44.287340",
     "status": "completed"
    },
    "tags": []
   },
   "outputs": [
    {
     "data": {
      "image/png": "[encoded data removed]",
      "text/plain": [
       "<Figure size 540x360 with 2 Axes>"
      ]
     },
     "metadata": {
      "needs_background": "light"
     },
     "output_type": "display_data"
    },
    {
     "data": {
      "image/png": "[encoded data removed]",
      "text/plain": [
       "<Figure size 540x360 with 2 Axes>"
      ]
     },
     "metadata": {
      "needs_background": "light"
     },
     "output_type": "display_data"
    },
    {
     "data": {
      "image/png": "[encoded data removed]",
      "text/plain": [
       "<Figure size 540x360 with 2 Axes>"
      ]
     },
     "metadata": {
      "needs_background": "light"
     },
     "output_type": "display_data"
    },
    {
     "data": {
      "image/png": "[encoded data removed]",
      "text/plain": [
       "<Figure size 540x360 with 2 Axes>"
      ]
     },
     "metadata": {
      "needs_background": "light"
     },
     "output_type": "display_data"
    },
    {
     "data": {
      "image/png": "[encoded data removed]",
      "text/plain": [
       "<Figure size 540x360 with 2 Axes>"
      ]
     },
     "metadata": {
      "needs_background": "light"
     },
     "output_type": "display_data"
    },
    {
     "data": {
      "image/png": "[encoded data removed]",
      "text/plain": [
       "<Figure size 540x360 with 2 Axes>"
      ]
     },
     "metadata": {
      "needs_background": "light"
     },
     "output_type": "display_data"
    },
    {
     "data": {
      "image/png": "[encoded data removed]",
      "text/plain": [
       "<Figure size 540x360 with 2 Axes>"
      ]
     },
     "metadata": {
      "needs_background": "light"
     },
     "output_type": "display_data"
    },
    {
     "data": {
      "image/png": "[encoded data removed]",
      "text/plain": [
       "<Figure size 540x360 with 2 Axes>"
      ]
     },
     "metadata": {
      "needs_background": "light"
     },
     "output_type": "display_data"
    },
    {
     "data": {
      "image/png": "[encoded data removed]",
      "text/plain": [
       "<Figure size 540x360 with 2 Axes>"
      ]
     },
     "metadata": {
      "needs_background": "light"
     },
     "output_type": "display_data"
    }
   ],
   "source": [
    "#sort the features indexes by their importance in the model\n",
    "#(sum of SHAP value magnitudes over the validation dataset)\n",
    "top_inds = np.argsort(-np.sum(np.abs(h2o_shap_values),0))\n",
    "\n",
    "#make SHAP plots of the three most important features\n",
    "for i in range(len(selected_features)):\n",
    "    fig=shap.dependence_plot(top_inds[i], h2o_shap_values, shap_sample, show=False)\n",
    "#     display(fig)"
   ]
  },
  {
   "cell_type": "markdown",
   "metadata": {
    "papermill": {
     "duration": 2.719016,
     "end_time": "2021-04-22T19:12:09.858958",
     "exception": false,
     "start_time": "2021-04-22T19:12:07.139942",
     "status": "completed"
    },
    "tags": []
   },
   "source": [
    "## 4.2 Shap Waterfall Plot"
   ]
  },
  {
   "cell_type": "code",
   "execution_count": 52,
   "metadata": {
    "collapsed": false,
    "gather": {
     "logged": 1668730071562
    },
    "jupyter": {
     "outputs_hidden": false
    },
    "nteract": {
     "transient": {
      "deleting": false
     }
    }
   },
   "outputs": [],
   "source": [
    "df_shap_values = pd.DataFrame(h2o_shap_values)\n",
    "df_shap_values['sum_shap'] = df_shap_values.sum(axis=1)"
   ]
  },
  {
   "cell_type": "code",
   "execution_count": 53,
   "metadata": {
    "gather": {
     "logged": 1668730075594
    },
    "papermill": {
     "duration": 4.178804,
     "end_time": "2021-04-22T19:12:16.641465",
     "exception": false,
     "start_time": "2021-04-22T19:12:12.462661",
     "status": "completed"
    },
    "tags": []
   },
   "outputs": [
    {
     "data": {
      "image/png": "[encoded data removed]",
      "text/plain": [
       "<Figure size 576x432 with 3 Axes>"
      ]
     },
     "metadata": {},
     "output_type": "display_data"
    },
    {
     "data": {
      "text/plain": [
       "None"
      ]
     },
     "metadata": {},
     "output_type": "display_data"
    },
    {
     "data": {
      "image/png": "[encoded data removed]",
      "text/plain": [
       "<Figure size 576x432 with 3 Axes>"
      ]
     },
     "metadata": {},
     "output_type": "display_data"
    },
    {
     "data": {
      "text/plain": [
       "None"
      ]
     },
     "metadata": {},
     "output_type": "display_data"
    },
    {
     "data": {
      "image/png": "[encoded data removed]",
      "text/plain": [
       "<Figure size 576x432 with 3 Axes>"
      ]
     },
     "metadata": {},
     "output_type": "display_data"
    },
    {
     "data": {
      "text/plain": [
       "None"
      ]
     },
     "metadata": {},
     "output_type": "display_data"
    }
   ],
   "source": [
    "for i in df_shap_values.sort_values(by='sum_shap').iloc[0:3,:].index.values:\n",
    "    fig = shap.plots._waterfall.waterfall_legacy(h2o_explainer.expected_value, h2o_shap_values[i,:], shap_sample.iloc[i,:].to_numpy(), selected_features, show=True)\n",
    "    display(fig)"
   ]
  },
  {
   "cell_type": "code",
   "execution_count": 54,
   "metadata": {
    "gather": {
     "logged": 1668730078512
    }
   },
   "outputs": [
    {
     "data": {
      "image/png": "[encoded data removed]",
      "text/plain": [
       "<Figure size 576x432 with 3 Axes>"
      ]
     },
     "metadata": {},
     "output_type": "display_data"
    },
    {
     "data": {
      "text/plain": [
       "None"
      ]
     },
     "metadata": {},
     "output_type": "display_data"
    },
    {
     "data": {
      "image/png": "[encoded data removed]",
      "text/plain": [
       "<Figure size 576x432 with 3 Axes>"
      ]
     },
     "metadata": {},
     "output_type": "display_data"
    },
    {
     "data": {
      "text/plain": [
       "None"
      ]
     },
     "metadata": {},
     "output_type": "display_data"
    },
    {
     "data": {
      "image/png": "[encoded data removed]",
      "text/plain": [
       "<Figure size 576x432 with 3 Axes>"
      ]
     },
     "metadata": {},
     "output_type": "display_data"
    },
    {
     "data": {
      "text/plain": [
       "None"
      ]
     },
     "metadata": {},
     "output_type": "display_data"
    }
   ],
   "source": [
    "for i in df_shap_values.sort_values(by='sum_shap', ascending=False).iloc[0:3,:].index.values:\n",
    "    fig = shap.plots._waterfall.waterfall_legacy(h2o_explainer.expected_value, h2o_shap_values[i,:], shap_sample.iloc[i,:].to_numpy(), selected_features, show=True)\n",
    "    display(fig)"
   ]
  },
  {
   "cell_type": "markdown",
   "metadata": {},
   "source": [
    "# 5. Define Ratings with homogeneous group"
   ]
  },
  {
   "cell_type": "code",
   "execution_count": 55,
   "metadata": {
    "gather": {
     "logged": 1668730088300
    }
   },
   "outputs": [],
   "source": [
    "def calculate_IV(dataframe, coluna_feature, coluna_target, cat_goods = None, buckets=20):\n",
    "    '''\n",
    "    Function to calculate the IV.\n",
    "         Parameters\n",
    "         dataframe: DataFrame with the input and target variables.\n",
    "         column_feature (str): Name of the variable that contains the independent variable.\n",
    "         column_target (str): Name of the variable that contains the dependent variable or target.\n",
    "         cat_goods (str): Level of the target variable that should be considered \"GOOD\", if it is categorical.\n",
    "         buckets (int): Number of partitions to be created in numeric variables.\n",
    "    \n",
    "    Returns\n",
    "    stats (list):\n",
    "    List with:\n",
    "        [1] IV\n",
    "        [0] dataframe pandas with statistics table\n",
    "    '''\n",
    "    \n",
    "    # Initial definitions\n",
    "    df = dataframe.loc[:,(coluna_feature, coluna_target)]\n",
    "    tpVar = 'categorical'    \n",
    "    \n",
    "    #If the variable is numeric (float or int), it creates a category for discretization\n",
    "    if df[coluna_feature].dtype=='float64' or df[coluna_feature].dtype=='int64' or df[coluna_feature].dtype=='int32' or df[coluna_feature].dtype=='float32':\n",
    "        tpVar='numeric'\n",
    "        coluna_feature_bucket = coluna_feature + \"_bucket\"\n",
    "        #create buckets using qcut\n",
    "        df[coluna_feature_bucket] = pd.qcut(df[coluna_feature], buckets, labels=False, duplicates='drop')\n",
    "        analyse_df = df.groupby(coluna_feature_bucket).agg({coluna_target: ['count', 'sum'], coluna_feature: ['min', 'max']})\n",
    "        analyse_df.columns = ['_'.join(tup).rstrip('_') for tup in analyse_df.columns.values]\n",
    "        analyse_df.rename(columns={(coluna_target+'_count'):'qty', (coluna_target+'_sum'):'qty_goods'}, inplace=True)\n",
    "        \n",
    "    #Categorical variables\n",
    "    if tpVar == 'categorical':\n",
    "        analyse_df = df.groupby(coluna_feature).agg({coluna_target: ['count', 'sum']})\n",
    "        analyse_df.columns = ['_'.join(tup).rstrip('_') for tup in analyse_df.columns.values]\n",
    "        analyse_df.rename(columns={(coluna_target+'_count'):'qty', (coluna_target+'_sum'):'qty_goods'}, inplace=True)\n",
    "        \n",
    "    #IV Calculation\n",
    "    analyse_df.loc[:, 'qty_bads'] = analyse_df.loc[:,'qty'] - analyse_df.loc[:,'qty_goods']\n",
    "    analyse_df.loc[:, 'tot_goods'] = analyse_df.loc[:,'qty_goods'].sum()\n",
    "    analyse_df.loc[:, 'tot_bads'] = analyse_df.loc[:,'qty_bads'].sum()\n",
    "    analyse_df.loc[:, 'perc_goods'] = analyse_df.loc[:,'qty_goods'] / analyse_df.loc[:,'tot_goods']\n",
    "    analyse_df.loc[:, 'perc_bads'] = analyse_df.loc[:,'qty_bads'] / analyse_df.loc[:,'tot_bads']\n",
    "    analyse_df.loc[:, 'good_rate'] = analyse_df.loc[:,'qty_goods'] / analyse_df.loc[:,'qty']\n",
    "    analyse_df.loc[:, 'odds'] = analyse_df.loc[:,'perc_goods'] / analyse_df.loc[:,'perc_bads']\n",
    "    analyse_df.loc[:, 'ln_odds'] = np.log2(analyse_df['odds'])\n",
    "    analyse_df.loc[:, 'iv_cat'] = (analyse_df.loc[:,'perc_goods'] / analyse_df.loc[:,'perc_bads']) * analyse_df.loc[:, 'ln_odds']\n",
    "    \n",
    "    if tpVar == 'numeric':\n",
    "        analyse_df.reset_index(inplace=True)\n",
    "        tabela_pdf = analyse_df.loc[:, (coluna_feature_bucket, coluna_feature+\"_min\", coluna_feature+\"_max\", 'qty', 'good_rate', 'odds', 'iv_cat')]\n",
    "    else:\n",
    "        analyse_df.reset_index(inplace=True)\n",
    "        tabela_pdf = analyse_df.loc[:, (coluna_feature, 'qty', 'good_rate', 'odds', 'iv_cat')]\n",
    "        \n",
    "    df_iv = tabela_pdf.query('iv_cat != inf')['iv_cat'].sum()\n",
    "    resultado = [df_iv, tabela_pdf]\n",
    "    return resultado\n",
    "\n",
    "def colunas_dataframe(dataframe):\n",
    "    lista_colunas = []\n",
    "    lista_colunas = [i for i in dataframe.columns if i in selected_features]\n",
    "    return lista_colunas\n",
    "\n",
    "def table_iv(dataframe):\n",
    "    lista_colunas = colunas_dataframe(dataframe)\n",
    "    dict_resultados = {}\n",
    "    for col in lista_colunas:\n",
    "        print(\"{0:.0%}\".format((lista_colunas.index(col)+1) / (len(lista_colunas)+1)) + \":\" + col)              \n",
    "        dict_resultados[col] = calculate_IV(dataframe=dataframe, coluna_feature=col, coluna_target=VarTarget, buckets=10)\n",
    "    return dict_resultados"
   ]
  },
  {
   "cell_type": "code",
   "execution_count": 56,
   "metadata": {
    "gather": {
     "logged": 1668730089159
    }
   },
   "outputs": [
    {
     "name": "stderr",
     "output_type": "stream",
     "text": [
      "divide by zero encountered in log2\n"
     ]
    }
   ],
   "source": [
    "#Calcular Taxa de Bons, IV, ODDS e WOE\n",
    "IV_p1=calculate_IV(dataframe=datascored_df, coluna_feature='p1', coluna_target=VarTarget, buckets=20)\n",
    "#IV_p1"
   ]
  },
  {
   "cell_type": "code",
   "execution_count": 57,
   "metadata": {
    "gather": {
     "logged": 1668730090807
    }
   },
   "outputs": [
    {
     "data": {
      "text/plain": [
       "<matplotlib.axes._subplots.AxesSubplot at 0x21f3051c808>"
      ]
     },
     "execution_count": 57,
     "metadata": {},
     "output_type": "execute_result"
    },
    {
     "data": {
      "image/png": "[encoded data removed]",
      "text/plain": [
       "<Figure size 1080x360 with 1 Axes>"
      ]
     },
     "metadata": {
      "needs_background": "light"
     },
     "output_type": "display_data"
    }
   ],
   "source": [
    "IV_GH_graf = IV_p1[1]\n",
    "IV_GH_graf['Bucket'] = IV_GH_graf.index+1\n",
    "IV_GH_graf['Bucket'] = IV_GH_graf['Bucket'].astype(int)\n",
    "IV_GH_graf = IV_GH_graf.sort_values(by='Bucket')                                     \n",
    "IV_GH_graf.set_index('Bucket', inplace=True)\n",
    "#IV_GH_graf\n",
    "\n",
    "IV_GH_graf['Distribuicao'] = IV_GH_graf.qty / IV_GH_graf.qty.sum()\n",
    "df_plot_gh_t1 = IV_GH_graf.reset_index().loc[:, ('Bucket', 'Distribuicao')]                                                \n",
    "df_plot_gh_t1['Bucket'] = df_plot_gh_t1.Bucket.astype(str)\n",
    "df_plot_gh_t1 = df_plot_gh_t1.set_index('Bucket')\n",
    "\n",
    "df_plot_gh_t2 = IV_GH_graf.reset_index().loc[:, ('Bucket', 'good_rate')]\n",
    "df_plot_gh_t2['Bucket'] = df_plot_gh_t2.Bucket.astype(str)\n",
    "df_plot_gh_t2 = df_plot_gh_t2.set_index('Bucket')\n",
    "\n",
    "ax = df_plot_gh_t2.good_rate.plot(secondary_y=False, ylim=[0,1], kind=\"line\", rot=0, figsize=(15,5), linewidth=2, fontsize=12, marker=\"D\", ms=8, grid=True, color='r', legend=1)\n",
    "for p in range(len(df_plot_gh_t2)):\n",
    "    ax.annotate(str(int(df_plot_gh_t2.reset_index().iloc[p,1]*100)/100), (int(df_plot_gh_t2.reset_index().iloc[p, 0])-1, df_plot_gh_t2.reset_index().iloc[p, 1] * 1.1))\n",
    "df_plot_gh_t1.Distribuicao.plot(ylim=[0,1], kind='bar', rot=0, figsize=(15,5), linewidth=2, fontsize=12, grid=True, legend=1, title=\"Distribuição dos Buckets\")\n",
    "#display(ax)"
   ]
  },
  {
   "cell_type": "markdown",
   "metadata": {},
   "source": [
    "## 5.1 Escolher as faixas que podem ser agrupadas"
   ]
  },
  {
   "cell_type": "code",
   "execution_count": 58,
   "metadata": {
    "gather": {
     "logged": 1668730095529
    }
   },
   "outputs": [
    {
     "name": "stdout",
     "output_type": "stream",
     "text": [
      "if p1 <= 0.1120064931452788:\n",
      "    return 1\n",
      "elif p1 <= 0.1158597733185995:\n",
      "    return 2\n",
      "elif p1 <= 0.1183053451496254:\n",
      "    return 3\n",
      "elif p1 <= 0.1257972609129387:\n",
      "    return 4\n",
      "elif p1 <= 0.1489519370188294:\n",
      "    return 5\n",
      "elif p1 <= 0.1608103959253382:\n",
      "    return 6\n",
      "elif p1 <= 0.1746120216958007:\n",
      "    return 7\n",
      "elif p1 <= 0.1924186953090161:\n",
      "    return 8\n",
      "elif p1 <= 0.2180300633186048:\n",
      "    return 9\n",
      "elif p1 <= 0.2821085932168102:\n",
      "    return 10\n",
      "elif p1 <= 0.3446990409459845:\n",
      "    return 11\n",
      "elif p1 <= 0.3992163437784312:\n",
      "    return 12\n",
      "elif p1 <= 0.4370686907210606:\n",
      "    return 13\n",
      "elif p1 <= 0.468307786233222:\n",
      "    return 14\n",
      "elif p1 <= 0.5054596388629075:\n",
      "    return 15\n",
      "elif p1 <= 0.5441608671988534:\n",
      "    return 16\n",
      "elif p1 <= 0.588546585601757:\n",
      "    return 17\n",
      "elif p1 <= 0.6893817258354984:\n",
      "    return 18\n",
      "elif p1 <= 0.791061511103377:\n",
      "    return 19\n",
      "else:\n",
      "    return 20\n"
     ]
    }
   ],
   "source": [
    "for i in range(len(IV_p1[1].p1_max)):\n",
    "    #se for o primeiro iniciar com if ao inves de elif\n",
    "    if i==0:\n",
    "        print('if p1 <= '+str(IV_p1[1].p1_max.iloc[i])+':')\n",
    "        print('    return '+ str(i+1))\n",
    "    #se for o ultimo finalizar com else ao inves de elif\n",
    "    elif i==(len(IV_p1[1].p1_max))-1:\n",
    "        print('else:')\n",
    "        print('    return '+ str(i+1))\n",
    "    else:\n",
    "        print('elif p1 <= '+str(IV_p1[1].p1_max.iloc[i])+':')\n",
    "        print('    return '+ str(i+1))"
   ]
  },
  {
   "cell_type": "code",
   "execution_count": 59,
   "metadata": {
    "gather": {
     "logged": 1668730100867
    }
   },
   "outputs": [],
   "source": [
    "def ratings(p1): \n",
    "    if p1 <= 0.2508362656036639:\n",
    "        return 1\n",
    "    elif p1 <= 0.6540492277407066:\n",
    "        return 2\n",
    "    else:\n",
    "        return 3"
   ]
  },
  {
   "cell_type": "code",
   "execution_count": 60,
   "metadata": {
    "gather": {
     "logged": 1668730101703
    }
   },
   "outputs": [],
   "source": [
    "#Criar GHs\n",
    "datascored_df['GH'] = datascored_df.apply(lambda x: ratings(x['p1']),axis=1).astype(str)"
   ]
  },
  {
   "cell_type": "markdown",
   "metadata": {},
   "source": [
    "## 5.2 Calcular o IV do GH após a definição das faixas"
   ]
  },
  {
   "cell_type": "code",
   "execution_count": 61,
   "metadata": {
    "gather": {
     "logged": 1668730103087
    }
   },
   "outputs": [],
   "source": [
    "#Aqui precisa ser somente OOT\n",
    "IV_GH=calculate_IV(dataframe=datascored_df, coluna_feature='GH', coluna_target=VarTarget)\n",
    "IV_GH[1];"
   ]
  },
  {
   "cell_type": "code",
   "execution_count": 62,
   "metadata": {
    "gather": {
     "logged": 1668730104455
    }
   },
   "outputs": [
    {
     "data": {
      "text/plain": [
       "<matplotlib.lines.Line2D at 0x21f30f16dc8>"
      ]
     },
     "execution_count": 62,
     "metadata": {},
     "output_type": "execute_result"
    },
    {
     "data": {
      "image/png": "[encoded data removed]",
      "text/plain": [
       "<Figure size 288x216 with 1 Axes>"
      ]
     },
     "metadata": {
      "needs_background": "light"
     },
     "output_type": "display_data"
    }
   ],
   "source": [
    "IV_GH_graf = IV_GH[1]\n",
    "IV_GH_graf['GH'] = IV_GH_graf['GH'].astype(int)\n",
    "IV_GH_graf = IV_GH_graf.sort_values(by='GH')\n",
    "IV_GH_graf.set_index('GH', inplace=True)\n",
    "#IV_GH_graf\n",
    "\n",
    "IV_GH_graf['Distribuicao'] = IV_GH_graf.qty / IV_GH_graf.qty.sum()\n",
    "df_plot_gh_t1 = IV_GH_graf.reset_index().loc[:, ('GH', 'Distribuicao')]\n",
    "df_plot_gh_t1['GH'] = df_plot_gh_t1.GH.astype(str)\n",
    "df_plot_gh_t1 = df_plot_gh_t1.set_index('GH')\n",
    "\n",
    "df_plot_gh_t2 = IV_GH_graf.reset_index().loc[:, ('GH', 'good_rate')]\n",
    "df_plot_gh_t2['GH'] = df_plot_gh_t2.GH.astype(str)\n",
    "df_plot_gh_t2 = df_plot_gh_t2.set_index('GH')\n",
    "\n",
    "target_mean = sum(IV_GH[1].qty * IV_GH[1].good_rate) / sum(IV_GH[1].qty)\n",
    "\n",
    "#calculate o KS in test dataset\n",
    "kstable = IV_GH_graf.sort_values(by=\"good_rate\", ascending=False).copy()\n",
    "kstable['events'] = (kstable['qty']*kstable['good_rate'])\n",
    "kstable['nonevents'] = (kstable['qty']*(1-kstable['good_rate']))\n",
    "kstable['event_rate'] = (kstable.events / kstable['events'].sum()).apply('{0:.2%}'.format)\n",
    "kstable['nonevent_rate'] = (kstable.nonevents / kstable['nonevents'].sum()).apply('{0:.2%}'.format)\n",
    "kstable['cum_eventrate'] = (kstable.events / kstable['events'].sum()).cumsum()\n",
    "kstable['cum_noneventrate'] = (kstable.nonevents / kstable['nonevents'].sum()).cumsum()\n",
    "kstable['cum_eventrate'] = kstable['cum_eventrate'].astype(float)\n",
    "kstable['cum_noneventrate'] = kstable['cum_noneventrate'].astype(float)\n",
    "kstable['KS'] = np.round(kstable['cum_eventrate'] - kstable['cum_noneventrate'], 3)\n",
    "ks = kstable['KS'].max()\n",
    "\n",
    "ax = df_plot_gh_t2.good_rate.plot(secondary_y=False, ylim=[0,1], kind=\"line\", rot=0, figsize=(15,5), linewidth=2, fontsize=12, marker=\"D\", ms=8, grid=True, color='r', legend=1)\n",
    "for p in range(len(df_plot_gh_t2)):\n",
    "    #ax.annotate(str(int(df_plot_gh_t2.reset_index().iloc[p,1]*100)/100), (int(df_plot_gh_t2.reset_index().iloc[p, 0])-1, df_plot_gh_t2.reset_index().iloc[p, 1] * 1.1))\n",
    "    ax.annotate(str('{0:.1%}'.format(int(df_plot_gh_t2.reset_index().iloc[p,1]*1000)/1000))\\\n",
    "                ,(df_plot_gh_t2.reset_index().index.values[p]+0.0\\\n",
    "                  ,df_plot_gh_t2.reset_index().iloc[p,1]+0.04))\n",
    "    ax.annotate(str('{0:.1%}'.format(int(df_plot_gh_t1.reset_index().iloc[p,1]*1000)/1000))\\\n",
    "                ,(df_plot_gh_t1.reset_index().index.values[p]-0.2\\\n",
    "                  ,0))\n",
    "ax.annotate(str('{0:.1%}'.format(int(target_mean*1000)/1000))\\\n",
    "            ,(7.5\\\n",
    "              ,target_mean))\n",
    "ax.annotate(str('KS: {0:.1%}'.format(ks)),(len(df_plot_gh_t1)/2-1,0.5))\n",
    "df_plot_gh_t1.Distribuicao.plot(ylim=[0,1], kind='bar', rot=0, figsize=(4,3), linewidth=2, fontsize=12, grid=True, legend=1, title=\"GHs Distribution (Out of Sample)\")\n",
    "ax.axhline(y=target_mean, color='r', linestyle='--')\n",
    "# display(ax)"
   ]
  },
  {
   "cell_type": "markdown",
   "metadata": {},
   "source": [
    "# 6. Predict Submision dataset using MOJO or H2O Model"
   ]
  },
  {
   "cell_type": "code",
   "execution_count": 63,
   "metadata": {
    "gather": {
     "logged": 1668730338123
    }
   },
   "outputs": [],
   "source": [
    "test = pd.read_csv('./titanic/test.csv')"
   ]
  },
  {
   "cell_type": "code",
   "execution_count": 64,
   "metadata": {
    "gather": {
     "logged": 1668730338740
    }
   },
   "outputs": [
    {
     "data": {
      "text/plain": [
       "PassengerId      int64\n",
       "Pclass           int64\n",
       "Name            object\n",
       "Sex             object\n",
       "Age            float64\n",
       "SibSp            int64\n",
       "Parch            int64\n",
       "Ticket          object\n",
       "Fare           float64\n",
       "Cabin           object\n",
       "Embarked        object\n",
       "dtype: object"
      ]
     },
     "execution_count": 64,
     "metadata": {},
     "output_type": "execute_result"
    }
   ],
   "source": [
    "test.dtypes"
   ]
  },
  {
   "cell_type": "code",
   "execution_count": 65,
   "metadata": {
    "gather": {
     "logged": 1668730696426
    }
   },
   "outputs": [],
   "source": [
    "#criar o prefix para a variavel cabine (A, B, C, D, ou E)\n",
    "test['cabine_prefix'] = test['Cabin'].str[0:1]\n",
    "test = test.fillna(value={'cabine_prefix': 'missing'})\n",
    "\n",
    "#Tiket\n",
    "import re\n",
    "for i in range(len(test)):\n",
    "    t=test.loc[i:i,'Ticket'].values\n",
    "    t2=re.sub(\"[^0-9]\", \"\", str(t))\n",
    "    t3=re.sub('[^A-Za-z]+', '', str(t))\n",
    "    if t2 != \"\":\n",
    "        test.loc[i:i,'Ticket_int']=int(t2)\n",
    "    if t3 != \"\":\n",
    "        if t3 == 'SC':\n",
    "            t3 = 'SCAHBasle'\n",
    "        if t3 == 'SOP':\n",
    "            t3 = 'SOPP'\n",
    "        if t3 == 'C':\n",
    "            t3 = 'CA'\n",
    "        if t3 == 'FC':\n",
    "            t3 = 'FCC'\n",
    "        if t3 == 'PP':\n",
    "            t3 = 'PPP'\n",
    "        if t3 == 'SCOW':\n",
    "            t3 = 'Fa'\n",
    "        if t3 in ('AS', 'CASOTON', 'Fa', 'SCA','SOPP','SOTONO','SP'):\n",
    "            t3='LOW'\n",
    "        test.loc[i:i,'Ticket_str']=str(t3)\n",
    "\n",
    "test['Ticket_int'] = test['Ticket_int'].fillna(0)\n",
    "test = test.fillna(value={'Ticket_str': 'missing'})\n",
    "\n",
    "#Name: Criar uma categoria com o titulo do nome\n",
    "for i in range(len(test)):\n",
    "    t1 = str(test.loc[i:i,'Name'].values)\n",
    "    t2 = t1[0:t1.find('.')].split()[-1]\n",
    "    if t2 in ('Rev', 'Capt', 'Don', 'Jonkheer'):\n",
    "        t2='LOW'\n",
    "    if t2 in ('Lady', 'Mme'):\n",
    "        t2='Miss'\n",
    "    test.loc[i:i,'NameTitle']=str(t2)\n",
    "\n",
    "#Create the \"Missing\" category for missing values in string vaviables\n",
    "test = test.apply(lambda x: x.fillna(np.nan) if x.dtype.kind in 'biufc' else x.fillna('Missing'))\n",
    "\n",
    "#Tratamento da idade\n",
    "test['Age_Mean'] = test['Age'].fillna(test['Age'].mean())"
   ]
  },
  {
   "cell_type": "code",
   "execution_count": 66,
   "metadata": {
    "gather": {
     "logged": 1668730697752
    }
   },
   "outputs": [
    {
     "data": {
      "text/html": [
       "<div>\n",
       "<style scoped>\n",
       "    .dataframe tbody tr th:only-of-type {\n",
       "        vertical-align: middle;\n",
       "    }\n",
       "\n",
       "    .dataframe tbody tr th {\n",
       "        vertical-align: top;\n",
       "    }\n",
       "\n",
       "    .dataframe thead th {\n",
       "        text-align: right;\n",
       "    }\n",
       "</style>\n",
       "<table border=\"1\" class=\"dataframe\">\n",
       "  <thead>\n",
       "    <tr style=\"text-align: right;\">\n",
       "      <th></th>\n",
       "      <th>PassengerId</th>\n",
       "      <th>Survived</th>\n",
       "    </tr>\n",
       "  </thead>\n",
       "  <tbody>\n",
       "    <tr>\n",
       "      <th>0</th>\n",
       "      <td>892</td>\n",
       "      <td>0</td>\n",
       "    </tr>\n",
       "    <tr>\n",
       "      <th>1</th>\n",
       "      <td>893</td>\n",
       "      <td>0</td>\n",
       "    </tr>\n",
       "    <tr>\n",
       "      <th>2</th>\n",
       "      <td>894</td>\n",
       "      <td>0</td>\n",
       "    </tr>\n",
       "    <tr>\n",
       "      <th>3</th>\n",
       "      <td>895</td>\n",
       "      <td>0</td>\n",
       "    </tr>\n",
       "    <tr>\n",
       "      <th>4</th>\n",
       "      <td>896</td>\n",
       "      <td>0</td>\n",
       "    </tr>\n",
       "    <tr>\n",
       "      <th>...</th>\n",
       "      <td>...</td>\n",
       "      <td>...</td>\n",
       "    </tr>\n",
       "    <tr>\n",
       "      <th>413</th>\n",
       "      <td>1305</td>\n",
       "      <td>0</td>\n",
       "    </tr>\n",
       "    <tr>\n",
       "      <th>414</th>\n",
       "      <td>1306</td>\n",
       "      <td>0</td>\n",
       "    </tr>\n",
       "    <tr>\n",
       "      <th>415</th>\n",
       "      <td>1307</td>\n",
       "      <td>0</td>\n",
       "    </tr>\n",
       "    <tr>\n",
       "      <th>416</th>\n",
       "      <td>1308</td>\n",
       "      <td>0</td>\n",
       "    </tr>\n",
       "    <tr>\n",
       "      <th>417</th>\n",
       "      <td>1309</td>\n",
       "      <td>0</td>\n",
       "    </tr>\n",
       "  </tbody>\n",
       "</table>\n",
       "<p>418 rows × 2 columns</p>\n",
       "</div>"
      ],
      "text/plain": [
       "     PassengerId  Survived\n",
       "0            892         0\n",
       "1            893         0\n",
       "2            894         0\n",
       "3            895         0\n",
       "4            896         0\n",
       "..           ...       ...\n",
       "413         1305         0\n",
       "414         1306         0\n",
       "415         1307         0\n",
       "416         1308         0\n",
       "417         1309         0\n",
       "\n",
       "[418 rows x 2 columns]"
      ]
     },
     "execution_count": 66,
     "metadata": {},
     "output_type": "execute_result"
    }
   ],
   "source": [
    "#Importar MOJO\n",
    "\n",
    "test_tmp = h2o.mojo_predict_pandas(test, path_model_mojo)    \n",
    "predict_df = test.merge(test_tmp, left_index=True, right_index=True)\n",
    "    \n",
    "predict_df.rename(columns={'predict':'Survived', 'passengerid': 'PassengerId'}, inplace=True)\n",
    "predict_df = predict_df.reset_index(drop=True)\n",
    "predict_df = predict_df.loc[:, ('PassengerId', 'Survived')]\n",
    "predict_df"
   ]
  },
  {
   "cell_type": "markdown",
   "metadata": {},
   "source": [
    "## 8.1 Save final dataset with predictions for submissions in https://www.kaggle.com/competitions/titanic/submissions"
   ]
  },
  {
   "cell_type": "code",
   "execution_count": 67,
   "metadata": {
    "gather": {
     "logged": 1668730704898
    }
   },
   "outputs": [],
   "source": [
    "predict_df.loc[:, ('PassengerId', 'Survived')].to_csv('./titanic/titanic_submission.csv', index=False)"
   ]
  }
 ],
 "metadata": {
  "instance_type": "ml.t3.medium",
  "kernel_info": {
   "name": "python38-azureml"
  },
  "kernelspec": {
   "display_name": "Python 3",
   "language": "python",
   "name": "python3"
  },
  "language_info": {
   "codemirror_mode": {
    "name": "ipython",
    "version": 3
   },
   "file_extension": ".py",
   "mimetype": "text/x-python",
   "name": "python",
   "nbconvert_exporter": "python",
   "pygments_lexer": "ipython3",
   "version": "3.7.7"
  },
  "microsoft": {
   "host": {
    "AzureML": {
     "notebookHasBeenCompleted": true
    }
   }
  },
  "nteract": {
   "version": "nteract-front-end@1.0.0"
  },
  "papermill": {
   "default_parameters": {},
   "duration": 1824.891487,
   "end_time": "2021-04-22T19:12:51.593458",
   "environment_variables": {},
   "exception": null,
   "input_path": "__notebook__.ipynb",
   "output_path": "__notebook__.ipynb",
   "parameters": {},
   "start_time": "2021-04-22T18:42:26.701971",
   "version": "2.3.2"
  },
  "widgets": {
   "application/vnd.jupyter.widget-state+json": {
    "state": {
     "1367ae52c04143d8b569a2018607131f": {
      "model_module": "@jupyter-widgets/controls",
      "model_module_version": "1.5.0",
      "model_name": "HTMLModel",
      "state": {
       "_dom_classes": [],
       "_model_module": "@jupyter-widgets/controls",
       "_model_module_version": "1.5.0",
       "_model_name": "HTMLModel",
       "_view_count": null,
       "_view_module": "@jupyter-widgets/controls",
       "_view_module_version": "1.5.0",
       "_view_name": "HTMLView",
       "description": "",
       "description_tooltip": null,
       "layout": "IPY_MODEL_cf0f1a3dba55429b94630faccf8f142f",
       "placeholder": "​",
       "style": "IPY_MODEL_8003ac93421f49c0bcc8412a93783fdc",
       "value": " 20/20 [01:30&lt;00:00,  4.10s/it]"
      }
     },
     "1960307545e444afa597f3ae9e570980": {
      "model_module": "@jupyter-widgets/controls",
      "model_module_version": "1.5.0",
      "model_name": "DescriptionStyleModel",
      "state": {
       "_model_module": "@jupyter-widgets/controls",
       "_model_module_version": "1.5.0",
       "_model_name": "DescriptionStyleModel",
       "_view_count": null,
       "_view_module": "@jupyter-widgets/base",
       "_view_module_version": "1.2.0",
       "_view_name": "StyleView",
       "description_width": ""
      }
     },
     "19f5b02e6d3145de9146687274a9b90d": {
      "model_module": "@jupyter-widgets/controls",
      "model_module_version": "1.5.0",
      "model_name": "HTMLModel",
      "state": {
       "_dom_classes": [],
       "_model_module": "@jupyter-widgets/controls",
       "_model_module_version": "1.5.0",
       "_model_name": "HTMLModel",
       "_view_count": null,
       "_view_module": "@jupyter-widgets/controls",
       "_view_module_version": "1.5.0",
       "_view_name": "HTMLView",
       "description": "",
       "description_tooltip": null,
       "layout": "IPY_MODEL_72b6da2d33514ad78863f8abc472304d",
       "placeholder": "​",
       "style": "IPY_MODEL_7fa7a452971a43f893f67bea5d998d27",
       "value": "Export report to file: 100%"
      }
     },
     "1aaccbf8980a4a87b279c54c0cd6ecdd": {
      "model_module": "@jupyter-widgets/base",
      "model_module_version": "1.2.0",
      "model_name": "LayoutModel",
      "state": {
       "_model_module": "@jupyter-widgets/base",
       "_model_module_version": "1.2.0",
       "_model_name": "LayoutModel",
       "_view_count": null,
       "_view_module": "@jupyter-widgets/base",
       "_view_module_version": "1.2.0",
       "_view_name": "LayoutView",
       "align_content": null,
       "align_items": null,
       "align_self": null,
       "border": null,
       "bottom": null,
       "display": null,
       "flex": null,
       "flex_flow": null,
       "grid_area": null,
       "grid_auto_columns": null,
       "grid_auto_flow": null,
       "grid_auto_rows": null,
       "grid_column": null,
       "grid_gap": null,
       "grid_row": null,
       "grid_template_areas": null,
       "grid_template_columns": null,
       "grid_template_rows": null,
       "height": null,
       "justify_content": null,
       "justify_items": null,
       "left": null,
       "margin": null,
       "max_height": null,
       "max_width": null,
       "min_height": null,
       "min_width": null,
       "object_fit": null,
       "object_position": null,
       "order": null,
       "overflow": null,
       "overflow_x": null,
       "overflow_y": null,
       "padding": null,
       "right": null,
       "top": null,
       "visibility": null,
       "width": null
      }
     },
     "1c7de68230104c4995b47fa29a599fc3": {
      "model_module": "@jupyter-widgets/controls",
      "model_module_version": "1.5.0",
      "model_name": "DescriptionStyleModel",
      "state": {
       "_model_module": "@jupyter-widgets/controls",
       "_model_module_version": "1.5.0",
       "_model_name": "DescriptionStyleModel",
       "_view_count": null,
       "_view_module": "@jupyter-widgets/base",
       "_view_module_version": "1.2.0",
       "_view_name": "StyleView",
       "description_width": ""
      }
     },
     "1e1865bed82a4c90a94b4024f9c7b585": {
      "model_module": "@jupyter-widgets/base",
      "model_module_version": "1.2.0",
      "model_name": "LayoutModel",
      "state": {
       "_model_module": "@jupyter-widgets/base",
       "_model_module_version": "1.2.0",
       "_model_name": "LayoutModel",
       "_view_count": null,
       "_view_module": "@jupyter-widgets/base",
       "_view_module_version": "1.2.0",
       "_view_name": "LayoutView",
       "align_content": null,
       "align_items": null,
       "align_self": null,
       "border": null,
       "bottom": null,
       "display": null,
       "flex": null,
       "flex_flow": null,
       "grid_area": null,
       "grid_auto_columns": null,
       "grid_auto_flow": null,
       "grid_auto_rows": null,
       "grid_column": null,
       "grid_gap": null,
       "grid_row": null,
       "grid_template_areas": null,
       "grid_template_columns": null,
       "grid_template_rows": null,
       "height": null,
       "justify_content": null,
       "justify_items": null,
       "left": null,
       "margin": null,
       "max_height": null,
       "max_width": null,
       "min_height": null,
       "min_width": null,
       "object_fit": null,
       "object_position": null,
       "order": null,
       "overflow": null,
       "overflow_x": null,
       "overflow_y": null,
       "padding": null,
       "right": null,
       "top": null,
       "visibility": null,
       "width": null
      }
     },
     "1f6013e469f44bae906f8b8d796ddf03": {
      "model_module": "@jupyter-widgets/base",
      "model_module_version": "1.2.0",
      "model_name": "LayoutModel",
      "state": {
       "_model_module": "@jupyter-widgets/base",
       "_model_module_version": "1.2.0",
       "_model_name": "LayoutModel",
       "_view_count": null,
       "_view_module": "@jupyter-widgets/base",
       "_view_module_version": "1.2.0",
       "_view_name": "LayoutView",
       "align_content": null,
       "align_items": null,
       "align_self": null,
       "border": null,
       "bottom": null,
       "display": null,
       "flex": null,
       "flex_flow": null,
       "grid_area": null,
       "grid_auto_columns": null,
       "grid_auto_flow": null,
       "grid_auto_rows": null,
       "grid_column": null,
       "grid_gap": null,
       "grid_row": null,
       "grid_template_areas": null,
       "grid_template_columns": null,
       "grid_template_rows": null,
       "height": null,
       "justify_content": null,
       "justify_items": null,
       "left": null,
       "margin": null,
       "max_height": null,
       "max_width": null,
       "min_height": null,
       "min_width": null,
       "object_fit": null,
       "object_position": null,
       "order": null,
       "overflow": null,
       "overflow_x": null,
       "overflow_y": null,
       "padding": null,
       "right": null,
       "top": null,
       "visibility": null,
       "width": null
      }
     },
     "2816683bca8b403393d16ddce7f61451": {
      "model_module": "@jupyter-widgets/controls",
      "model_module_version": "1.5.0",
      "model_name": "DescriptionStyleModel",
      "state": {
       "_model_module": "@jupyter-widgets/controls",
       "_model_module_version": "1.5.0",
       "_model_name": "DescriptionStyleModel",
       "_view_count": null,
       "_view_module": "@jupyter-widgets/base",
       "_view_module_version": "1.2.0",
       "_view_name": "StyleView",
       "description_width": ""
      }
     },
     "350e60f28d9b48938c8cd3c7a65adfc8": {
      "model_module": "@jupyter-widgets/base",
      "model_module_version": "1.2.0",
      "model_name": "LayoutModel",
      "state": {
       "_model_module": "@jupyter-widgets/base",
       "_model_module_version": "1.2.0",
       "_model_name": "LayoutModel",
       "_view_count": null,
       "_view_module": "@jupyter-widgets/base",
       "_view_module_version": "1.2.0",
       "_view_name": "LayoutView",
       "align_content": null,
       "align_items": null,
       "align_self": null,
       "border": null,
       "bottom": null,
       "display": null,
       "flex": null,
       "flex_flow": null,
       "grid_area": null,
       "grid_auto_columns": null,
       "grid_auto_flow": null,
       "grid_auto_rows": null,
       "grid_column": null,
       "grid_gap": null,
       "grid_row": null,
       "grid_template_areas": null,
       "grid_template_columns": null,
       "grid_template_rows": null,
       "height": null,
       "justify_content": null,
       "justify_items": null,
       "left": null,
       "margin": null,
       "max_height": null,
       "max_width": null,
       "min_height": null,
       "min_width": null,
       "object_fit": null,
       "object_position": null,
       "order": null,
       "overflow": null,
       "overflow_x": null,
       "overflow_y": null,
       "padding": null,
       "right": null,
       "top": null,
       "visibility": null,
       "width": null
      }
     },
     "4f4eb35c26b1492798fee9d3c4e5bb03": {
      "model_module": "@jupyter-widgets/controls",
      "model_module_version": "1.5.0",
      "model_name": "HTMLModel",
      "state": {
       "_dom_classes": [],
       "_model_module": "@jupyter-widgets/controls",
       "_model_module_version": "1.5.0",
       "_model_name": "HTMLModel",
       "_view_count": null,
       "_view_module": "@jupyter-widgets/controls",
       "_view_module_version": "1.5.0",
       "_view_name": "HTMLView",
       "description": "",
       "description_tooltip": null,
       "layout": "IPY_MODEL_bd08b7d0ff3a427d89a418e30f1ab16c",
       "placeholder": "​",
       "style": "IPY_MODEL_74688d13d99042c0aa1f214ded632a98",
       "value": " 50/50 [01:24&lt;00:00,  4.61s/it, Completed]"
      }
     },
     "5474ed5e459a4b07973ac3c6de3ae6e4": {
      "model_module": "@jupyter-widgets/controls",
      "model_module_version": "1.5.0",
      "model_name": "HTMLModel",
      "state": {
       "_dom_classes": [],
       "_model_module": "@jupyter-widgets/controls",
       "_model_module_version": "1.5.0",
       "_model_name": "HTMLModel",
       "_view_count": null,
       "_view_module": "@jupyter-widgets/controls",
       "_view_module_version": "1.5.0",
       "_view_name": "HTMLView",
       "description": "",
       "description_tooltip": null,
       "layout": "IPY_MODEL_c4aa5744ad87433dbf595d79c833656c",
       "placeholder": "​",
       "style": "IPY_MODEL_1960307545e444afa597f3ae9e570980",
       "value": "Render HTML: 100%"
      }
     },
     "552e9ee63afb4e9f9437d29dadcbe0ee": {
      "model_module": "@jupyter-widgets/controls",
      "model_module_version": "1.5.0",
      "model_name": "DescriptionStyleModel",
      "state": {
       "_model_module": "@jupyter-widgets/controls",
       "_model_module_version": "1.5.0",
       "_model_name": "DescriptionStyleModel",
       "_view_count": null,
       "_view_module": "@jupyter-widgets/base",
       "_view_module_version": "1.2.0",
       "_view_name": "StyleView",
       "description_width": ""
      }
     },
     "55b5e671bdc54737914052f021be0b42": {
      "model_module": "@jupyter-widgets/controls",
      "model_module_version": "1.5.0",
      "model_name": "HTMLModel",
      "state": {
       "_dom_classes": [],
       "_model_module": "@jupyter-widgets/controls",
       "_model_module_version": "1.5.0",
       "_model_name": "HTMLModel",
       "_view_count": null,
       "_view_module": "@jupyter-widgets/controls",
       "_view_module_version": "1.5.0",
       "_view_name": "HTMLView",
       "description": "",
       "description_tooltip": null,
       "layout": "IPY_MODEL_1f6013e469f44bae906f8b8d796ddf03",
       "placeholder": "​",
       "style": "IPY_MODEL_1c7de68230104c4995b47fa29a599fc3",
       "value": " 1/1 [00:00&lt;00:00,  5.95it/s]"
      }
     },
     "6b28a19b4fc34c7a8e973878b6f7c0a9": {
      "model_module": "@jupyter-widgets/controls",
      "model_module_version": "1.5.0",
      "model_name": "ProgressStyleModel",
      "state": {
       "_model_module": "@jupyter-widgets/controls",
       "_model_module_version": "1.5.0",
       "_model_name": "ProgressStyleModel",
       "_view_count": null,
       "_view_module": "@jupyter-widgets/base",
       "_view_module_version": "1.2.0",
       "_view_name": "StyleView",
       "bar_color": null,
       "description_width": ""
      }
     },
     "6d4bcb70a3e940619712a90fd9ee4cef": {
      "model_module": "@jupyter-widgets/controls",
      "model_module_version": "1.5.0",
      "model_name": "DescriptionStyleModel",
      "state": {
       "_model_module": "@jupyter-widgets/controls",
       "_model_module_version": "1.5.0",
       "_model_name": "DescriptionStyleModel",
       "_view_count": null,
       "_view_module": "@jupyter-widgets/base",
       "_view_module_version": "1.2.0",
       "_view_name": "StyleView",
       "description_width": ""
      }
     },
     "6f17d9d9c82c4179a703e6b4b458dcb2": {
      "model_module": "@jupyter-widgets/base",
      "model_module_version": "1.2.0",
      "model_name": "LayoutModel",
      "state": {
       "_model_module": "@jupyter-widgets/base",
       "_model_module_version": "1.2.0",
       "_model_name": "LayoutModel",
       "_view_count": null,
       "_view_module": "@jupyter-widgets/base",
       "_view_module_version": "1.2.0",
       "_view_name": "LayoutView",
       "align_content": null,
       "align_items": null,
       "align_self": null,
       "border": null,
       "bottom": null,
       "display": null,
       "flex": null,
       "flex_flow": null,
       "grid_area": null,
       "grid_auto_columns": null,
       "grid_auto_flow": null,
       "grid_auto_rows": null,
       "grid_column": null,
       "grid_gap": null,
       "grid_row": null,
       "grid_template_areas": null,
       "grid_template_columns": null,
       "grid_template_rows": null,
       "height": null,
       "justify_content": null,
       "justify_items": null,
       "left": null,
       "margin": null,
       "max_height": null,
       "max_width": null,
       "min_height": null,
       "min_width": null,
       "object_fit": null,
       "object_position": null,
       "order": null,
       "overflow": null,
       "overflow_x": null,
       "overflow_y": null,
       "padding": null,
       "right": null,
       "top": null,
       "visibility": null,
       "width": null
      }
     },
     "72b6da2d33514ad78863f8abc472304d": {
      "model_module": "@jupyter-widgets/base",
      "model_module_version": "1.2.0",
      "model_name": "LayoutModel",
      "state": {
       "_model_module": "@jupyter-widgets/base",
       "_model_module_version": "1.2.0",
       "_model_name": "LayoutModel",
       "_view_count": null,
       "_view_module": "@jupyter-widgets/base",
       "_view_module_version": "1.2.0",
       "_view_name": "LayoutView",
       "align_content": null,
       "align_items": null,
       "align_self": null,
       "border": null,
       "bottom": null,
       "display": null,
       "flex": null,
       "flex_flow": null,
       "grid_area": null,
       "grid_auto_columns": null,
       "grid_auto_flow": null,
       "grid_auto_rows": null,
       "grid_column": null,
       "grid_gap": null,
       "grid_row": null,
       "grid_template_areas": null,
       "grid_template_columns": null,
       "grid_template_rows": null,
       "height": null,
       "justify_content": null,
       "justify_items": null,
       "left": null,
       "margin": null,
       "max_height": null,
       "max_width": null,
       "min_height": null,
       "min_width": null,
       "object_fit": null,
       "object_position": null,
       "order": null,
       "overflow": null,
       "overflow_x": null,
       "overflow_y": null,
       "padding": null,
       "right": null,
       "top": null,
       "visibility": null,
       "width": null
      }
     },
     "74688d13d99042c0aa1f214ded632a98": {
      "model_module": "@jupyter-widgets/controls",
      "model_module_version": "1.5.0",
      "model_name": "DescriptionStyleModel",
      "state": {
       "_model_module": "@jupyter-widgets/controls",
       "_model_module_version": "1.5.0",
       "_model_name": "DescriptionStyleModel",
       "_view_count": null,
       "_view_module": "@jupyter-widgets/base",
       "_view_module_version": "1.2.0",
       "_view_name": "StyleView",
       "description_width": ""
      }
     },
     "762e5b00a7ec49938287a92e9a580d19": {
      "model_module": "@jupyter-widgets/controls",
      "model_module_version": "1.5.0",
      "model_name": "DescriptionStyleModel",
      "state": {
       "_model_module": "@jupyter-widgets/controls",
       "_model_module_version": "1.5.0",
       "_model_name": "DescriptionStyleModel",
       "_view_count": null,
       "_view_module": "@jupyter-widgets/base",
       "_view_module_version": "1.2.0",
       "_view_name": "StyleView",
       "description_width": ""
      }
     },
     "76c56e1e33a7431492e707c94f679aca": {
      "model_module": "@jupyter-widgets/controls",
      "model_module_version": "1.5.0",
      "model_name": "HBoxModel",
      "state": {
       "_dom_classes": [],
       "_model_module": "@jupyter-widgets/controls",
       "_model_module_version": "1.5.0",
       "_model_name": "HBoxModel",
       "_view_count": null,
       "_view_module": "@jupyter-widgets/controls",
       "_view_module_version": "1.5.0",
       "_view_name": "HBoxView",
       "box_style": "",
       "children": [
        "IPY_MODEL_ede833cb0df046c5a6a4d4ccd16aa2e3",
        "IPY_MODEL_f56bfc6a11e948e28d78ea2301c2f477",
        "IPY_MODEL_1367ae52c04143d8b569a2018607131f"
       ],
       "layout": "IPY_MODEL_aa3e16338d604e4eb9a39e0299403146"
      }
     },
     "786c2267f8114517950e53245ae33022": {
      "model_module": "@jupyter-widgets/controls",
      "model_module_version": "1.5.0",
      "model_name": "HBoxModel",
      "state": {
       "_dom_classes": [],
       "_model_module": "@jupyter-widgets/controls",
       "_model_module_version": "1.5.0",
       "_model_name": "HBoxModel",
       "_view_count": null,
       "_view_module": "@jupyter-widgets/controls",
       "_view_module_version": "1.5.0",
       "_view_name": "HBoxView",
       "box_style": "",
       "children": [
        "IPY_MODEL_ba18d469602341cf9a58cf3b0b22aea9",
        "IPY_MODEL_a4c3d9944af64d68b4ebc01e5dd2437c",
        "IPY_MODEL_4f4eb35c26b1492798fee9d3c4e5bb03"
       ],
       "layout": "IPY_MODEL_b8b02491395045f5875ce167c0210c27"
      }
     },
     "7d988be3a23740abb4b092b50a7de2b0": {
      "model_module": "@jupyter-widgets/controls",
      "model_module_version": "1.5.0",
      "model_name": "HTMLModel",
      "state": {
       "_dom_classes": [],
       "_model_module": "@jupyter-widgets/controls",
       "_model_module_version": "1.5.0",
       "_model_name": "HTMLModel",
       "_view_count": null,
       "_view_module": "@jupyter-widgets/controls",
       "_view_module_version": "1.5.0",
       "_view_name": "HTMLView",
       "description": "",
       "description_tooltip": null,
       "layout": "IPY_MODEL_aac3cc7d1f2849cebbc45462095c0a48",
       "placeholder": "​",
       "style": "IPY_MODEL_552e9ee63afb4e9f9437d29dadcbe0ee",
       "value": "Generate report structure: 100%"
      }
     },
     "7dc03db759c64b779a38890f763846f6": {
      "model_module": "@jupyter-widgets/controls",
      "model_module_version": "1.5.0",
      "model_name": "FloatProgressModel",
      "state": {
       "_dom_classes": [],
       "_model_module": "@jupyter-widgets/controls",
       "_model_module_version": "1.5.0",
       "_model_name": "FloatProgressModel",
       "_view_count": null,
       "_view_module": "@jupyter-widgets/controls",
       "_view_module_version": "1.5.0",
       "_view_name": "ProgressView",
       "bar_style": "success",
       "description": "",
       "description_tooltip": null,
       "layout": "IPY_MODEL_f599ccf3d064469b90cc2bb818d0d8cb",
       "max": 1,
       "min": 0,
       "orientation": "horizontal",
       "style": "IPY_MODEL_d047c358579f42de823c513d8b87bd54",
       "value": 1
      }
     },
     "7fa7a452971a43f893f67bea5d998d27": {
      "model_module": "@jupyter-widgets/controls",
      "model_module_version": "1.5.0",
      "model_name": "DescriptionStyleModel",
      "state": {
       "_model_module": "@jupyter-widgets/controls",
       "_model_module_version": "1.5.0",
       "_model_name": "DescriptionStyleModel",
       "_view_count": null,
       "_view_module": "@jupyter-widgets/base",
       "_view_module_version": "1.2.0",
       "_view_name": "StyleView",
       "description_width": ""
      }
     },
     "7fc985fe271c400f8d922006f845e02d": {
      "model_module": "@jupyter-widgets/controls",
      "model_module_version": "1.5.0",
      "model_name": "ProgressStyleModel",
      "state": {
       "_model_module": "@jupyter-widgets/controls",
       "_model_module_version": "1.5.0",
       "_model_name": "ProgressStyleModel",
       "_view_count": null,
       "_view_module": "@jupyter-widgets/base",
       "_view_module_version": "1.2.0",
       "_view_name": "StyleView",
       "bar_color": null,
       "description_width": ""
      }
     },
     "8003ac93421f49c0bcc8412a93783fdc": {
      "model_module": "@jupyter-widgets/controls",
      "model_module_version": "1.5.0",
      "model_name": "DescriptionStyleModel",
      "state": {
       "_model_module": "@jupyter-widgets/controls",
       "_model_module_version": "1.5.0",
       "_model_name": "DescriptionStyleModel",
       "_view_count": null,
       "_view_module": "@jupyter-widgets/base",
       "_view_module_version": "1.2.0",
       "_view_name": "StyleView",
       "description_width": ""
      }
     },
     "8b62d842cd4f41b79aa6da6cec427083": {
      "model_module": "@jupyter-widgets/base",
      "model_module_version": "1.2.0",
      "model_name": "LayoutModel",
      "state": {
       "_model_module": "@jupyter-widgets/base",
       "_model_module_version": "1.2.0",
       "_model_name": "LayoutModel",
       "_view_count": null,
       "_view_module": "@jupyter-widgets/base",
       "_view_module_version": "1.2.0",
       "_view_name": "LayoutView",
       "align_content": null,
       "align_items": null,
       "align_self": null,
       "border": null,
       "bottom": null,
       "display": null,
       "flex": null,
       "flex_flow": null,
       "grid_area": null,
       "grid_auto_columns": null,
       "grid_auto_flow": null,
       "grid_auto_rows": null,
       "grid_column": null,
       "grid_gap": null,
       "grid_row": null,
       "grid_template_areas": null,
       "grid_template_columns": null,
       "grid_template_rows": null,
       "height": null,
       "justify_content": null,
       "justify_items": null,
       "left": null,
       "margin": null,
       "max_height": null,
       "max_width": null,
       "min_height": null,
       "min_width": null,
       "object_fit": null,
       "object_position": null,
       "order": null,
       "overflow": null,
       "overflow_x": null,
       "overflow_y": null,
       "padding": null,
       "right": null,
       "top": null,
       "visibility": null,
       "width": null
      }
     },
     "8b71ddb9a01d466b91484d1f3e7d96af": {
      "model_module": "@jupyter-widgets/base",
      "model_module_version": "1.2.0",
      "model_name": "LayoutModel",
      "state": {
       "_model_module": "@jupyter-widgets/base",
       "_model_module_version": "1.2.0",
       "_model_name": "LayoutModel",
       "_view_count": null,
       "_view_module": "@jupyter-widgets/base",
       "_view_module_version": "1.2.0",
       "_view_name": "LayoutView",
       "align_content": null,
       "align_items": null,
       "align_self": null,
       "border": null,
       "bottom": null,
       "display": null,
       "flex": null,
       "flex_flow": null,
       "grid_area": null,
       "grid_auto_columns": null,
       "grid_auto_flow": null,
       "grid_auto_rows": null,
       "grid_column": null,
       "grid_gap": null,
       "grid_row": null,
       "grid_template_areas": null,
       "grid_template_columns": null,
       "grid_template_rows": null,
       "height": null,
       "justify_content": null,
       "justify_items": null,
       "left": null,
       "margin": null,
       "max_height": null,
       "max_width": null,
       "min_height": null,
       "min_width": null,
       "object_fit": null,
       "object_position": null,
       "order": null,
       "overflow": null,
       "overflow_x": null,
       "overflow_y": null,
       "padding": null,
       "right": null,
       "top": null,
       "visibility": null,
       "width": null
      }
     },
     "8bc5b0e540704062bebfd2be22d96e03": {
      "model_module": "@jupyter-widgets/controls",
      "model_module_version": "1.5.0",
      "model_name": "ProgressStyleModel",
      "state": {
       "_model_module": "@jupyter-widgets/controls",
       "_model_module_version": "1.5.0",
       "_model_name": "ProgressStyleModel",
       "_view_count": null,
       "_view_module": "@jupyter-widgets/base",
       "_view_module_version": "1.2.0",
       "_view_name": "StyleView",
       "bar_color": null,
       "description_width": ""
      }
     },
     "8f4ad3ed9b624449bb3951c1b78206d7": {
      "model_module": "@jupyter-widgets/controls",
      "model_module_version": "1.5.0",
      "model_name": "HBoxModel",
      "state": {
       "_dom_classes": [],
       "_model_module": "@jupyter-widgets/controls",
       "_model_module_version": "1.5.0",
       "_model_name": "HBoxModel",
       "_view_count": null,
       "_view_module": "@jupyter-widgets/controls",
       "_view_module_version": "1.5.0",
       "_view_name": "HBoxView",
       "box_style": "",
       "children": [
        "IPY_MODEL_5474ed5e459a4b07973ac3c6de3ae6e4",
        "IPY_MODEL_90e6c04395594a2baea9e529efd6cafb",
        "IPY_MODEL_b1a09a450d25455fb7d6f0fda505bb00"
       ],
       "layout": "IPY_MODEL_8b62d842cd4f41b79aa6da6cec427083"
      }
     },
     "90e6c04395594a2baea9e529efd6cafb": {
      "model_module": "@jupyter-widgets/controls",
      "model_module_version": "1.5.0",
      "model_name": "FloatProgressModel",
      "state": {
       "_dom_classes": [],
       "_model_module": "@jupyter-widgets/controls",
       "_model_module_version": "1.5.0",
       "_model_name": "FloatProgressModel",
       "_view_count": null,
       "_view_module": "@jupyter-widgets/controls",
       "_view_module_version": "1.5.0",
       "_view_name": "ProgressView",
       "bar_style": "success",
       "description": "",
       "description_tooltip": null,
       "layout": "IPY_MODEL_a8d065cce96144b3abede928e48b70d6",
       "max": 1,
       "min": 0,
       "orientation": "horizontal",
       "style": "IPY_MODEL_6b28a19b4fc34c7a8e973878b6f7c0a9",
       "value": 1
      }
     },
     "98237f92a3e04185a26d148ebfd67b53": {
      "model_module": "@jupyter-widgets/base",
      "model_module_version": "1.2.0",
      "model_name": "LayoutModel",
      "state": {
       "_model_module": "@jupyter-widgets/base",
       "_model_module_version": "1.2.0",
       "_model_name": "LayoutModel",
       "_view_count": null,
       "_view_module": "@jupyter-widgets/base",
       "_view_module_version": "1.2.0",
       "_view_name": "LayoutView",
       "align_content": null,
       "align_items": null,
       "align_self": null,
       "border": null,
       "bottom": null,
       "display": null,
       "flex": null,
       "flex_flow": null,
       "grid_area": null,
       "grid_auto_columns": null,
       "grid_auto_flow": null,
       "grid_auto_rows": null,
       "grid_column": null,
       "grid_gap": null,
       "grid_row": null,
       "grid_template_areas": null,
       "grid_template_columns": null,
       "grid_template_rows": null,
       "height": null,
       "justify_content": null,
       "justify_items": null,
       "left": null,
       "margin": null,
       "max_height": null,
       "max_width": null,
       "min_height": null,
       "min_width": null,
       "object_fit": null,
       "object_position": null,
       "order": null,
       "overflow": null,
       "overflow_x": null,
       "overflow_y": null,
       "padding": null,
       "right": null,
       "top": null,
       "visibility": null,
       "width": null
      }
     },
     "a4c3d9944af64d68b4ebc01e5dd2437c": {
      "model_module": "@jupyter-widgets/controls",
      "model_module_version": "1.5.0",
      "model_name": "FloatProgressModel",
      "state": {
       "_dom_classes": [],
       "_model_module": "@jupyter-widgets/controls",
       "_model_module_version": "1.5.0",
       "_model_name": "FloatProgressModel",
       "_view_count": null,
       "_view_module": "@jupyter-widgets/controls",
       "_view_module_version": "1.5.0",
       "_view_name": "ProgressView",
       "bar_style": "success",
       "description": "",
       "description_tooltip": null,
       "layout": "IPY_MODEL_c46b4f3793fa4e229cb30cfb2db5b75b",
       "max": 50,
       "min": 0,
       "orientation": "horizontal",
       "style": "IPY_MODEL_7fc985fe271c400f8d922006f845e02d",
       "value": 50
      }
     },
     "a8d065cce96144b3abede928e48b70d6": {
      "model_module": "@jupyter-widgets/base",
      "model_module_version": "1.2.0",
      "model_name": "LayoutModel",
      "state": {
       "_model_module": "@jupyter-widgets/base",
       "_model_module_version": "1.2.0",
       "_model_name": "LayoutModel",
       "_view_count": null,
       "_view_module": "@jupyter-widgets/base",
       "_view_module_version": "1.2.0",
       "_view_name": "LayoutView",
       "align_content": null,
       "align_items": null,
       "align_self": null,
       "border": null,
       "bottom": null,
       "display": null,
       "flex": null,
       "flex_flow": null,
       "grid_area": null,
       "grid_auto_columns": null,
       "grid_auto_flow": null,
       "grid_auto_rows": null,
       "grid_column": null,
       "grid_gap": null,
       "grid_row": null,
       "grid_template_areas": null,
       "grid_template_columns": null,
       "grid_template_rows": null,
       "height": null,
       "justify_content": null,
       "justify_items": null,
       "left": null,
       "margin": null,
       "max_height": null,
       "max_width": null,
       "min_height": null,
       "min_width": null,
       "object_fit": null,
       "object_position": null,
       "order": null,
       "overflow": null,
       "overflow_x": null,
       "overflow_y": null,
       "padding": null,
       "right": null,
       "top": null,
       "visibility": null,
       "width": null
      }
     },
     "a9a926e54eb9475da96c6213bac01c20": {
      "model_module": "@jupyter-widgets/controls",
      "model_module_version": "1.5.0",
      "model_name": "HTMLModel",
      "state": {
       "_dom_classes": [],
       "_model_module": "@jupyter-widgets/controls",
       "_model_module_version": "1.5.0",
       "_model_name": "HTMLModel",
       "_view_count": null,
       "_view_module": "@jupyter-widgets/controls",
       "_view_module_version": "1.5.0",
       "_view_name": "HTMLView",
       "description": "",
       "description_tooltip": null,
       "layout": "IPY_MODEL_1e1865bed82a4c90a94b4024f9c7b585",
       "placeholder": "​",
       "style": "IPY_MODEL_e6074bcf78cb4f2eab2fd3728ecc3838",
       "value": " 1/1 [00:11&lt;00:00, 11.20s/it]"
      }
     },
     "a9f8a338fef14fa4822404f98c9e4b01": {
      "model_module": "@jupyter-widgets/controls",
      "model_module_version": "1.5.0",
      "model_name": "FloatProgressModel",
      "state": {
       "_dom_classes": [],
       "_model_module": "@jupyter-widgets/controls",
       "_model_module_version": "1.5.0",
       "_model_name": "FloatProgressModel",
       "_view_count": null,
       "_view_module": "@jupyter-widgets/controls",
       "_view_module_version": "1.5.0",
       "_view_name": "ProgressView",
       "bar_style": "success",
       "description": "",
       "description_tooltip": null,
       "layout": "IPY_MODEL_adf7c0b9f9ad4328a5caec0007d0d89c",
       "max": 1,
       "min": 0,
       "orientation": "horizontal",
       "style": "IPY_MODEL_8bc5b0e540704062bebfd2be22d96e03",
       "value": 1
      }
     },
     "aa3e16338d604e4eb9a39e0299403146": {
      "model_module": "@jupyter-widgets/base",
      "model_module_version": "1.2.0",
      "model_name": "LayoutModel",
      "state": {
       "_model_module": "@jupyter-widgets/base",
       "_model_module_version": "1.2.0",
       "_model_name": "LayoutModel",
       "_view_count": null,
       "_view_module": "@jupyter-widgets/base",
       "_view_module_version": "1.2.0",
       "_view_name": "LayoutView",
       "align_content": null,
       "align_items": null,
       "align_self": null,
       "border": null,
       "bottom": null,
       "display": null,
       "flex": null,
       "flex_flow": null,
       "grid_area": null,
       "grid_auto_columns": null,
       "grid_auto_flow": null,
       "grid_auto_rows": null,
       "grid_column": null,
       "grid_gap": null,
       "grid_row": null,
       "grid_template_areas": null,
       "grid_template_columns": null,
       "grid_template_rows": null,
       "height": null,
       "justify_content": null,
       "justify_items": null,
       "left": null,
       "margin": null,
       "max_height": null,
       "max_width": null,
       "min_height": null,
       "min_width": null,
       "object_fit": null,
       "object_position": null,
       "order": null,
       "overflow": null,
       "overflow_x": null,
       "overflow_y": null,
       "padding": null,
       "right": null,
       "top": null,
       "visibility": null,
       "width": null
      }
     },
     "aac3cc7d1f2849cebbc45462095c0a48": {
      "model_module": "@jupyter-widgets/base",
      "model_module_version": "1.2.0",
      "model_name": "LayoutModel",
      "state": {
       "_model_module": "@jupyter-widgets/base",
       "_model_module_version": "1.2.0",
       "_model_name": "LayoutModel",
       "_view_count": null,
       "_view_module": "@jupyter-widgets/base",
       "_view_module_version": "1.2.0",
       "_view_name": "LayoutView",
       "align_content": null,
       "align_items": null,
       "align_self": null,
       "border": null,
       "bottom": null,
       "display": null,
       "flex": null,
       "flex_flow": null,
       "grid_area": null,
       "grid_auto_columns": null,
       "grid_auto_flow": null,
       "grid_auto_rows": null,
       "grid_column": null,
       "grid_gap": null,
       "grid_row": null,
       "grid_template_areas": null,
       "grid_template_columns": null,
       "grid_template_rows": null,
       "height": null,
       "justify_content": null,
       "justify_items": null,
       "left": null,
       "margin": null,
       "max_height": null,
       "max_width": null,
       "min_height": null,
       "min_width": null,
       "object_fit": null,
       "object_position": null,
       "order": null,
       "overflow": null,
       "overflow_x": null,
       "overflow_y": null,
       "padding": null,
       "right": null,
       "top": null,
       "visibility": null,
       "width": null
      }
     },
     "adf7c0b9f9ad4328a5caec0007d0d89c": {
      "model_module": "@jupyter-widgets/base",
      "model_module_version": "1.2.0",
      "model_name": "LayoutModel",
      "state": {
       "_model_module": "@jupyter-widgets/base",
       "_model_module_version": "1.2.0",
       "_model_name": "LayoutModel",
       "_view_count": null,
       "_view_module": "@jupyter-widgets/base",
       "_view_module_version": "1.2.0",
       "_view_name": "LayoutView",
       "align_content": null,
       "align_items": null,
       "align_self": null,
       "border": null,
       "bottom": null,
       "display": null,
       "flex": null,
       "flex_flow": null,
       "grid_area": null,
       "grid_auto_columns": null,
       "grid_auto_flow": null,
       "grid_auto_rows": null,
       "grid_column": null,
       "grid_gap": null,
       "grid_row": null,
       "grid_template_areas": null,
       "grid_template_columns": null,
       "grid_template_rows": null,
       "height": null,
       "justify_content": null,
       "justify_items": null,
       "left": null,
       "margin": null,
       "max_height": null,
       "max_width": null,
       "min_height": null,
       "min_width": null,
       "object_fit": null,
       "object_position": null,
       "order": null,
       "overflow": null,
       "overflow_x": null,
       "overflow_y": null,
       "padding": null,
       "right": null,
       "top": null,
       "visibility": null,
       "width": null
      }
     },
     "b0790db729a74457b1d381473d748b8a": {
      "model_module": "@jupyter-widgets/base",
      "model_module_version": "1.2.0",
      "model_name": "LayoutModel",
      "state": {
       "_model_module": "@jupyter-widgets/base",
       "_model_module_version": "1.2.0",
       "_model_name": "LayoutModel",
       "_view_count": null,
       "_view_module": "@jupyter-widgets/base",
       "_view_module_version": "1.2.0",
       "_view_name": "LayoutView",
       "align_content": null,
       "align_items": null,
       "align_self": null,
       "border": null,
       "bottom": null,
       "display": null,
       "flex": null,
       "flex_flow": null,
       "grid_area": null,
       "grid_auto_columns": null,
       "grid_auto_flow": null,
       "grid_auto_rows": null,
       "grid_column": null,
       "grid_gap": null,
       "grid_row": null,
       "grid_template_areas": null,
       "grid_template_columns": null,
       "grid_template_rows": null,
       "height": null,
       "justify_content": null,
       "justify_items": null,
       "left": null,
       "margin": null,
       "max_height": null,
       "max_width": null,
       "min_height": null,
       "min_width": null,
       "object_fit": null,
       "object_position": null,
       "order": null,
       "overflow": null,
       "overflow_x": null,
       "overflow_y": null,
       "padding": null,
       "right": null,
       "top": null,
       "visibility": null,
       "width": null
      }
     },
     "b1a09a450d25455fb7d6f0fda505bb00": {
      "model_module": "@jupyter-widgets/controls",
      "model_module_version": "1.5.0",
      "model_name": "HTMLModel",
      "state": {
       "_dom_classes": [],
       "_model_module": "@jupyter-widgets/controls",
       "_model_module_version": "1.5.0",
       "_model_name": "HTMLModel",
       "_view_count": null,
       "_view_module": "@jupyter-widgets/controls",
       "_view_module_version": "1.5.0",
       "_view_name": "HTMLView",
       "description": "",
       "description_tooltip": null,
       "layout": "IPY_MODEL_6f17d9d9c82c4179a703e6b4b458dcb2",
       "placeholder": "​",
       "style": "IPY_MODEL_6d4bcb70a3e940619712a90fd9ee4cef",
       "value": " 1/1 [00:29&lt;00:00, 29.17s/it]"
      }
     },
     "b8b02491395045f5875ce167c0210c27": {
      "model_module": "@jupyter-widgets/base",
      "model_module_version": "1.2.0",
      "model_name": "LayoutModel",
      "state": {
       "_model_module": "@jupyter-widgets/base",
       "_model_module_version": "1.2.0",
       "_model_name": "LayoutModel",
       "_view_count": null,
       "_view_module": "@jupyter-widgets/base",
       "_view_module_version": "1.2.0",
       "_view_name": "LayoutView",
       "align_content": null,
       "align_items": null,
       "align_self": null,
       "border": null,
       "bottom": null,
       "display": null,
       "flex": null,
       "flex_flow": null,
       "grid_area": null,
       "grid_auto_columns": null,
       "grid_auto_flow": null,
       "grid_auto_rows": null,
       "grid_column": null,
       "grid_gap": null,
       "grid_row": null,
       "grid_template_areas": null,
       "grid_template_columns": null,
       "grid_template_rows": null,
       "height": null,
       "justify_content": null,
       "justify_items": null,
       "left": null,
       "margin": null,
       "max_height": null,
       "max_width": null,
       "min_height": null,
       "min_width": null,
       "object_fit": null,
       "object_position": null,
       "order": null,
       "overflow": null,
       "overflow_x": null,
       "overflow_y": null,
       "padding": null,
       "right": null,
       "top": null,
       "visibility": null,
       "width": null
      }
     },
     "ba18d469602341cf9a58cf3b0b22aea9": {
      "model_module": "@jupyter-widgets/controls",
      "model_module_version": "1.5.0",
      "model_name": "HTMLModel",
      "state": {
       "_dom_classes": [],
       "_model_module": "@jupyter-widgets/controls",
       "_model_module_version": "1.5.0",
       "_model_name": "HTMLModel",
       "_view_count": null,
       "_view_module": "@jupyter-widgets/controls",
       "_view_module_version": "1.5.0",
       "_view_name": "HTMLView",
       "description": "",
       "description_tooltip": null,
       "layout": "IPY_MODEL_8b71ddb9a01d466b91484d1f3e7d96af",
       "placeholder": "​",
       "style": "IPY_MODEL_2816683bca8b403393d16ddce7f61451",
       "value": "Summarize dataset: 100%"
      }
     },
     "bd08b7d0ff3a427d89a418e30f1ab16c": {
      "model_module": "@jupyter-widgets/base",
      "model_module_version": "1.2.0",
      "model_name": "LayoutModel",
      "state": {
       "_model_module": "@jupyter-widgets/base",
       "_model_module_version": "1.2.0",
       "_model_name": "LayoutModel",
       "_view_count": null,
       "_view_module": "@jupyter-widgets/base",
       "_view_module_version": "1.2.0",
       "_view_name": "LayoutView",
       "align_content": null,
       "align_items": null,
       "align_self": null,
       "border": null,
       "bottom": null,
       "display": null,
       "flex": null,
       "flex_flow": null,
       "grid_area": null,
       "grid_auto_columns": null,
       "grid_auto_flow": null,
       "grid_auto_rows": null,
       "grid_column": null,
       "grid_gap": null,
       "grid_row": null,
       "grid_template_areas": null,
       "grid_template_columns": null,
       "grid_template_rows": null,
       "height": null,
       "justify_content": null,
       "justify_items": null,
       "left": null,
       "margin": null,
       "max_height": null,
       "max_width": null,
       "min_height": null,
       "min_width": null,
       "object_fit": null,
       "object_position": null,
       "order": null,
       "overflow": null,
       "overflow_x": null,
       "overflow_y": null,
       "padding": null,
       "right": null,
       "top": null,
       "visibility": null,
       "width": null
      }
     },
     "c46b4f3793fa4e229cb30cfb2db5b75b": {
      "model_module": "@jupyter-widgets/base",
      "model_module_version": "1.2.0",
      "model_name": "LayoutModel",
      "state": {
       "_model_module": "@jupyter-widgets/base",
       "_model_module_version": "1.2.0",
       "_model_name": "LayoutModel",
       "_view_count": null,
       "_view_module": "@jupyter-widgets/base",
       "_view_module_version": "1.2.0",
       "_view_name": "LayoutView",
       "align_content": null,
       "align_items": null,
       "align_self": null,
       "border": null,
       "bottom": null,
       "display": null,
       "flex": null,
       "flex_flow": null,
       "grid_area": null,
       "grid_auto_columns": null,
       "grid_auto_flow": null,
       "grid_auto_rows": null,
       "grid_column": null,
       "grid_gap": null,
       "grid_row": null,
       "grid_template_areas": null,
       "grid_template_columns": null,
       "grid_template_rows": null,
       "height": null,
       "justify_content": null,
       "justify_items": null,
       "left": null,
       "margin": null,
       "max_height": null,
       "max_width": null,
       "min_height": null,
       "min_width": null,
       "object_fit": null,
       "object_position": null,
       "order": null,
       "overflow": null,
       "overflow_x": null,
       "overflow_y": null,
       "padding": null,
       "right": null,
       "top": null,
       "visibility": null,
       "width": null
      }
     },
     "c4aa5744ad87433dbf595d79c833656c": {
      "model_module": "@jupyter-widgets/base",
      "model_module_version": "1.2.0",
      "model_name": "LayoutModel",
      "state": {
       "_model_module": "@jupyter-widgets/base",
       "_model_module_version": "1.2.0",
       "_model_name": "LayoutModel",
       "_view_count": null,
       "_view_module": "@jupyter-widgets/base",
       "_view_module_version": "1.2.0",
       "_view_name": "LayoutView",
       "align_content": null,
       "align_items": null,
       "align_self": null,
       "border": null,
       "bottom": null,
       "display": null,
       "flex": null,
       "flex_flow": null,
       "grid_area": null,
       "grid_auto_columns": null,
       "grid_auto_flow": null,
       "grid_auto_rows": null,
       "grid_column": null,
       "grid_gap": null,
       "grid_row": null,
       "grid_template_areas": null,
       "grid_template_columns": null,
       "grid_template_rows": null,
       "height": null,
       "justify_content": null,
       "justify_items": null,
       "left": null,
       "margin": null,
       "max_height": null,
       "max_width": null,
       "min_height": null,
       "min_width": null,
       "object_fit": null,
       "object_position": null,
       "order": null,
       "overflow": null,
       "overflow_x": null,
       "overflow_y": null,
       "padding": null,
       "right": null,
       "top": null,
       "visibility": null,
       "width": null
      }
     },
     "cf0f1a3dba55429b94630faccf8f142f": {
      "model_module": "@jupyter-widgets/base",
      "model_module_version": "1.2.0",
      "model_name": "LayoutModel",
      "state": {
       "_model_module": "@jupyter-widgets/base",
       "_model_module_version": "1.2.0",
       "_model_name": "LayoutModel",
       "_view_count": null,
       "_view_module": "@jupyter-widgets/base",
       "_view_module_version": "1.2.0",
       "_view_name": "LayoutView",
       "align_content": null,
       "align_items": null,
       "align_self": null,
       "border": null,
       "bottom": null,
       "display": null,
       "flex": null,
       "flex_flow": null,
       "grid_area": null,
       "grid_auto_columns": null,
       "grid_auto_flow": null,
       "grid_auto_rows": null,
       "grid_column": null,
       "grid_gap": null,
       "grid_row": null,
       "grid_template_areas": null,
       "grid_template_columns": null,
       "grid_template_rows": null,
       "height": null,
       "justify_content": null,
       "justify_items": null,
       "left": null,
       "margin": null,
       "max_height": null,
       "max_width": null,
       "min_height": null,
       "min_width": null,
       "object_fit": null,
       "object_position": null,
       "order": null,
       "overflow": null,
       "overflow_x": null,
       "overflow_y": null,
       "padding": null,
       "right": null,
       "top": null,
       "visibility": null,
       "width": null
      }
     },
     "d047c358579f42de823c513d8b87bd54": {
      "model_module": "@jupyter-widgets/controls",
      "model_module_version": "1.5.0",
      "model_name": "ProgressStyleModel",
      "state": {
       "_model_module": "@jupyter-widgets/controls",
       "_model_module_version": "1.5.0",
       "_model_name": "ProgressStyleModel",
       "_view_count": null,
       "_view_module": "@jupyter-widgets/base",
       "_view_module_version": "1.2.0",
       "_view_name": "StyleView",
       "bar_color": null,
       "description_width": ""
      }
     },
     "e367d8585ece43f3a5a07d2baf9a7f18": {
      "model_module": "@jupyter-widgets/controls",
      "model_module_version": "1.5.0",
      "model_name": "HBoxModel",
      "state": {
       "_dom_classes": [],
       "_model_module": "@jupyter-widgets/controls",
       "_model_module_version": "1.5.0",
       "_model_name": "HBoxModel",
       "_view_count": null,
       "_view_module": "@jupyter-widgets/controls",
       "_view_module_version": "1.5.0",
       "_view_name": "HBoxView",
       "box_style": "",
       "children": [
        "IPY_MODEL_7d988be3a23740abb4b092b50a7de2b0",
        "IPY_MODEL_7dc03db759c64b779a38890f763846f6",
        "IPY_MODEL_a9a926e54eb9475da96c6213bac01c20"
       ],
       "layout": "IPY_MODEL_b0790db729a74457b1d381473d748b8a"
      }
     },
     "e4589928473345f786402b635e35a412": {
      "model_module": "@jupyter-widgets/controls",
      "model_module_version": "1.5.0",
      "model_name": "ProgressStyleModel",
      "state": {
       "_model_module": "@jupyter-widgets/controls",
       "_model_module_version": "1.5.0",
       "_model_name": "ProgressStyleModel",
       "_view_count": null,
       "_view_module": "@jupyter-widgets/base",
       "_view_module_version": "1.2.0",
       "_view_name": "StyleView",
       "bar_color": null,
       "description_width": ""
      }
     },
     "e6074bcf78cb4f2eab2fd3728ecc3838": {
      "model_module": "@jupyter-widgets/controls",
      "model_module_version": "1.5.0",
      "model_name": "DescriptionStyleModel",
      "state": {
       "_model_module": "@jupyter-widgets/controls",
       "_model_module_version": "1.5.0",
       "_model_name": "DescriptionStyleModel",
       "_view_count": null,
       "_view_module": "@jupyter-widgets/base",
       "_view_module_version": "1.2.0",
       "_view_name": "StyleView",
       "description_width": ""
      }
     },
     "ec581eeca781490e94efaccfad85d37b": {
      "model_module": "@jupyter-widgets/controls",
      "model_module_version": "1.5.0",
      "model_name": "HBoxModel",
      "state": {
       "_dom_classes": [],
       "_model_module": "@jupyter-widgets/controls",
       "_model_module_version": "1.5.0",
       "_model_name": "HBoxModel",
       "_view_count": null,
       "_view_module": "@jupyter-widgets/controls",
       "_view_module_version": "1.5.0",
       "_view_name": "HBoxView",
       "box_style": "",
       "children": [
        "IPY_MODEL_19f5b02e6d3145de9146687274a9b90d",
        "IPY_MODEL_a9f8a338fef14fa4822404f98c9e4b01",
        "IPY_MODEL_55b5e671bdc54737914052f021be0b42"
       ],
       "layout": "IPY_MODEL_1aaccbf8980a4a87b279c54c0cd6ecdd"
      }
     },
     "ede833cb0df046c5a6a4d4ccd16aa2e3": {
      "model_module": "@jupyter-widgets/controls",
      "model_module_version": "1.5.0",
      "model_name": "HTMLModel",
      "state": {
       "_dom_classes": [],
       "_model_module": "@jupyter-widgets/controls",
       "_model_module_version": "1.5.0",
       "_model_name": "HTMLModel",
       "_view_count": null,
       "_view_module": "@jupyter-widgets/controls",
       "_view_module_version": "1.5.0",
       "_view_name": "HTMLView",
       "description": "",
       "description_tooltip": null,
       "layout": "IPY_MODEL_98237f92a3e04185a26d148ebfd67b53",
       "placeholder": "​",
       "style": "IPY_MODEL_762e5b00a7ec49938287a92e9a580d19",
       "value": "100%"
      }
     },
     "f56bfc6a11e948e28d78ea2301c2f477": {
      "model_module": "@jupyter-widgets/controls",
      "model_module_version": "1.5.0",
      "model_name": "FloatProgressModel",
      "state": {
       "_dom_classes": [],
       "_model_module": "@jupyter-widgets/controls",
       "_model_module_version": "1.5.0",
       "_model_name": "FloatProgressModel",
       "_view_count": null,
       "_view_module": "@jupyter-widgets/controls",
       "_view_module_version": "1.5.0",
       "_view_name": "ProgressView",
       "bar_style": "success",
       "description": "",
       "description_tooltip": null,
       "layout": "IPY_MODEL_350e60f28d9b48938c8cd3c7a65adfc8",
       "max": 20,
       "min": 0,
       "orientation": "horizontal",
       "style": "IPY_MODEL_e4589928473345f786402b635e35a412",
       "value": 20
      }
     },
     "f599ccf3d064469b90cc2bb818d0d8cb": {
      "model_module": "@jupyter-widgets/base",
      "model_module_version": "1.2.0",
      "model_name": "LayoutModel",
      "state": {
       "_model_module": "@jupyter-widgets/base",
       "_model_module_version": "1.2.0",
       "_model_name": "LayoutModel",
       "_view_count": null,
       "_view_module": "@jupyter-widgets/base",
       "_view_module_version": "1.2.0",
       "_view_name": "LayoutView",
       "align_content": null,
       "align_items": null,
       "align_self": null,
       "border": null,
       "bottom": null,
       "display": null,
       "flex": null,
       "flex_flow": null,
       "grid_area": null,
       "grid_auto_columns": null,
       "grid_auto_flow": null,
       "grid_auto_rows": null,
       "grid_column": null,
       "grid_gap": null,
       "grid_row": null,
       "grid_template_areas": null,
       "grid_template_columns": null,
       "grid_template_rows": null,
       "height": null,
       "justify_content": null,
       "justify_items": null,
       "left": null,
       "margin": null,
       "max_height": null,
       "max_width": null,
       "min_height": null,
       "min_width": null,
       "object_fit": null,
       "object_position": null,
       "order": null,
       "overflow": null,
       "overflow_x": null,
       "overflow_y": null,
       "padding": null,
       "right": null,
       "top": null,
       "visibility": null,
       "width": null
      }
     }
    },
    "version_major": 2,
    "version_minor": 0
   }
  }
 },
 "nbformat": 4,
 "nbformat_minor": 5
}
