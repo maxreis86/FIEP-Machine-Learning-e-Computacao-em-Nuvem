{
 "cells": [
  {
   "cell_type": "code",
   "execution_count": 3,
   "id": "c2db70c7-ff4b-4ce7-966e-dcfb1a831636",
   "metadata": {},
   "outputs": [],
   "source": [
    "import sys\n",
    "sys.path.append('/anaconda/envs/azureml_py38/lib/python3.8/site-packages')\n",
    "\n",
    "#importing the libraries\n",
    "import torch\n",
    "import numpy as np\n",
    "import matplotlib.pyplot as plt\n",
    "from h2o4gpu.metrics import recall_score, precision_score\n",
    "from h2o4gpu import RandomForestClassifier"
   ]
  },
  {
   "cell_type": "code",
   "execution_count": 4,
   "id": "46509a4f-1acc-40e6-85c2-2987e8d8c5a8",
   "metadata": {},
   "outputs": [
    {
     "name": "stdout",
     "output_type": "stream",
     "text": [
      "shape of x: (569, 30)\n",
      "shape of y: (569,)\n"
     ]
    }
   ],
   "source": [
    "#importing the dataset\n",
    "from sklearn.datasets import load_breast_cancer\n",
    "data = load_breast_cancer()\n",
    "x = data['data']\n",
    "y = data['target']\n",
    "print(\"shape of x: {}\\nshape of y: {}\".format(x.shape,y.shape))"
   ]
  },
  {
   "cell_type": "code",
   "execution_count": null,
   "id": "755adcfa-5881-4045-8f2f-cff90c2fef7b",
   "metadata": {},
   "outputs": [],
   "source": [
    "\n",
    "\n",
    "rf_gpu = RandomForestClassifier(n_estimators=5000, n_gpus=1)\n",
    "rf_gpu.fit(X_train, y_train)\n",
    "rf_gpu_pred = clf.predict(X_test)\n",
    "\n",
    "recall_score(rf_gpu_pred, y_test)\n",
    "precision_score(rf_gpu_pred, y_test)"
   ]
  }
 ],
 "metadata": {
  "kernelspec": {
   "display_name": "Python 3.8 - Pytorch and Tensorflow",
   "language": "python",
   "name": "python38-azureml-pt-tf"
  },
  "language_info": {
   "codemirror_mode": {
    "name": "ipython",
    "version": 3
   },
   "file_extension": ".py",
   "mimetype": "text/x-python",
   "name": "python",
   "nbconvert_exporter": "python",
   "pygments_lexer": "ipython3",
   "version": "3.8.5"
  }
 },
 "nbformat": 4,
 "nbformat_minor": 5
}
