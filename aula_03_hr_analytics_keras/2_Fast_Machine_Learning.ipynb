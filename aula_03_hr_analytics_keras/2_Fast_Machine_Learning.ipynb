{
 "cells": [
  {
   "cell_type": "markdown",
   "id": "9b9a345b",
   "metadata": {
    "tags": []
   },
   "source": [
    "# Train and Compare Machine Learning Models\n",
    "* To succecfully run this notebook you need a python3.7 kernel with requirements in ./sagemaker-custom-image/requirements.txt"
   ]
  },
  {
   "cell_type": "markdown",
   "id": "7e1cd532",
   "metadata": {
    "papermill": {
     "duration": 0.04859,
     "end_time": "2021-04-22T18:42:32.131294",
     "exception": false,
     "start_time": "2021-04-22T18:42:32.082704",
     "status": "completed"
    },
    "tags": []
   },
   "source": [
    "## This notebook will help you to do:\n",
    "* Import train and test data\n",
    "* Run many ML algorithms using H2O AutoML\n",
    "* Compare all model performance in test dataset\n",
    "* Choosing and save the best model"
   ]
  },
  {
   "cell_type": "markdown",
   "id": "bc9fc03d",
   "metadata": {
    "papermill": {
     "duration": 0.046916,
     "end_time": "2021-04-22T18:42:32.225806",
     "exception": false,
     "start_time": "2021-04-22T18:42:32.178890",
     "status": "completed"
    },
    "tags": []
   },
   "source": [
    "# 1. Parameters"
   ]
  },
  {
   "cell_type": "code",
   "execution_count": 53,
   "id": "066f3b3e",
   "metadata": {
    "gather": {
     "logged": 1669469881332
    },
    "papermill": {
     "duration": 0.055908,
     "end_time": "2021-04-22T18:42:32.329142",
     "exception": false,
     "start_time": "2021-04-22T18:42:32.273234",
     "status": "completed"
    },
    "tags": []
   },
   "outputs": [],
   "source": [
    "#Name\n",
    "ModelName = 'titanic_propensity_survive'\n",
    "\n",
    "#Setting the model target variable name\n",
    "VarTarget = 'Survived'\n",
    "VarId = 'PassengerId'\n",
    "VarDate = 'ReferenceDate' \n",
    "\n",
    "#process outputs such as MOJO model, images and performance of tested models\n",
    "OutputPath = './output_model/'\n",
    "\n",
    "#If you have a huge dataset, I should consider use a small sample for first execution\n",
    "PctSampleSize = 1\n",
    "\n",
    "#Version\n",
    "ModelVersion = 'v1'\n",
    "\n",
    "#Model ID\n",
    "ModelId = ModelName+'_'+ModelVersion\n",
    "\n",
    "CAT = ['Pclass'\n",
    ",'Embarked'\n",
    ",'cabine_prefix'\n",
    ",'Ticket_str'\n",
    ",'NameTitle']\n",
    "\n",
    "# #float\n",
    "NUM = ['Fare'\n",
    ",'SibSp'\n",
    ",'Parch'\n",
    ",'Age_Mean'\n",
    ",'Ticket_int']\n",
    "\n",
    "#float\n",
    "selected_features = CAT + NUM"
   ]
  },
  {
   "cell_type": "markdown",
   "id": "194dae3d",
   "metadata": {
    "papermill": {
     "duration": 0.047515,
     "end_time": "2021-04-22T18:42:32.423393",
     "exception": false,
     "start_time": "2021-04-22T18:42:32.375878",
     "status": "completed"
    },
    "tags": []
   },
   "source": [
    "# 2. Import Libraries"
   ]
  },
  {
   "cell_type": "code",
   "execution_count": 43,
   "id": "a2ea6fd1-198f-442a-9f10-55f561e54c2f",
   "metadata": {
    "tags": []
   },
   "outputs": [],
   "source": [
    "# !pip -q install -r requirements.txt"
   ]
  },
  {
   "cell_type": "code",
   "execution_count": 1,
   "id": "ff8db37f-621a-41b9-b15b-5b499b4676ed",
   "metadata": {
    "gather": {
     "logged": 1669469907517
    }
   },
   "outputs": [],
   "source": [
    "try:\n",
    "    import sys\n",
    "    sys.path.append('/anaconda/envs/azureml_py38/lib/python3.8/site-packages')    \n",
    "except:\n",
    "    pass"
   ]
  },
  {
   "cell_type": "code",
   "execution_count": 45,
   "id": "d9fe0364",
   "metadata": {
    "gather": {
     "logged": 1669469924465
    },
    "papermill": {
     "duration": 9.765238,
     "end_time": "2021-04-22T18:42:42.235677",
     "exception": false,
     "start_time": "2021-04-22T18:42:32.470439",
     "status": "completed"
    },
    "tags": []
   },
   "outputs": [],
   "source": [
    "from sklearn.preprocessing import StandardScaler, LabelEncoder\n",
    "from sklearn.model_selection import cross_val_score, StratifiedKFold\n",
    "from keras.wrappers.scikit_learn import KerasClassifier\n",
    "from keras.models import Sequential\n",
    "from keras.layers import Dense, Dropout\n",
    "import functools\n",
    "import os\n",
    "from time import gmtime, strftime, sleep\n",
    "import datetime as dt\n",
    "import pandas as pd\n",
    "import numpy as np\n",
    "import glob\n",
    "import h2o\n",
    "import matplotlib.pyplot as plt\n",
    "from sklearn import metrics\n",
    "import shutil\n",
    "import seaborn as sns\n",
    "import warnings\n",
    "warnings.filterwarnings(\"ignore\", category=FutureWarning)"
   ]
  },
  {
   "cell_type": "markdown",
   "id": "31e39df3",
   "metadata": {
    "papermill": {
     "duration": 0.045874,
     "end_time": "2021-04-22T18:42:42.327994",
     "exception": false,
     "start_time": "2021-04-22T18:42:42.282120",
     "status": "completed"
    },
    "tags": []
   },
   "source": [
    "# 3. Importing Data for Modeling"
   ]
  },
  {
   "cell_type": "code",
   "execution_count": 46,
   "id": "7dd66760",
   "metadata": {
    "gather": {
     "logged": 1669469924926
    },
    "papermill": {
     "duration": 0.075628,
     "end_time": "2021-04-22T18:42:42.449145",
     "exception": false,
     "start_time": "2021-04-22T18:42:42.373517",
     "status": "completed"
    },
    "tags": []
   },
   "outputs": [],
   "source": [
    "dataprep_df_full = pd.read_csv('./titanic/dataprep_df.csv')"
   ]
  },
  {
   "cell_type": "code",
   "execution_count": 47,
   "id": "ff809ba1",
   "metadata": {
    "gather": {
     "logged": 1669469925333
    },
    "papermill": {
     "duration": 0.054085,
     "end_time": "2021-04-22T18:42:42.984342",
     "exception": false,
     "start_time": "2021-04-22T18:42:42.930257",
     "status": "completed"
    },
    "tags": []
   },
   "outputs": [],
   "source": [
    "#Work with a sample data if the PctSampleSize is less than 1\n",
    "if PctSampleSize == 1:\n",
    "    dataprep_df = dataprep_df_full.copy()\n",
    "else:\n",
    "    dataprep_df = dataprep_df_full.sample(frac=PctSampleSize, replace=False, random_state=1)\n",
    "del dataprep_df_full"
   ]
  },
  {
   "cell_type": "code",
   "execution_count": 48,
   "id": "10f40f8d",
   "metadata": {
    "gather": {
     "logged": 1669469925781
    },
    "papermill": {
     "duration": 1.860101,
     "end_time": "2021-04-22T18:45:15.821982",
     "exception": false,
     "start_time": "2021-04-22T18:45:13.961881",
     "status": "completed"
    },
    "tags": []
   },
   "outputs": [],
   "source": [
    "#Numeric features must be float type\n",
    "for col_name in NUM:\n",
    "    dataprep_df[col_name] = dataprep_df[col_name].astype(int)\n",
    "\n",
    "#Categorical features must be string type and null values will be filled with \"missing\"\n",
    "for col_name in CAT:\n",
    "    dataprep_df[col_name] = dataprep_df[col_name].astype(str)"
   ]
  },
  {
   "cell_type": "code",
   "execution_count": 49,
   "id": "a154fd86",
   "metadata": {
    "gather": {
     "logged": 1669469926282
    }
   },
   "outputs": [
    {
     "data": {
      "image/png": "[encoded data removed]",
      "text/plain": [
       "<Figure size 1080x360 with 2 Axes>"
      ]
     },
     "metadata": {
      "needs_background": "light"
     },
     "output_type": "display_data"
    }
   ],
   "source": [
    "#plot the final dataset with time period, train and test definitions\n",
    "dataprep_target = dataprep_df[[VarDate, VarId, VarTarget, 'dataset']].groupby(by=[VarDate, 'dataset']).agg({VarId:'count', VarTarget:'sum'})\n",
    "dataprep_target['target_rate'] = dataprep_target[VarTarget] / dataprep_target[VarId]\n",
    "\n",
    "dataprep_target[VarId].plot(secondary_y=False, kind='bar', rot=90, figsize=(15,5), linewidth=2, fontsize=12, grid=True, legend=1, title=(\"# Observations / % Good Rate\"))\n",
    "ax = dataprep_target.target_rate.plot(secondary_y=True, kind=\"line\", rot=90, figsize=(15,5), linewidth=2, fontsize=12, marker=\"D\", ms=8, grid=True, color='r', legend=1)\n",
    "for p in range(len(dataprep_target)):\n",
    "    ax.annotate(str('{0:.1%}'.format(int(dataprep_target.reset_index().iloc[p,4]*1000)/1000)), (dataprep_target.reset_index().index.values[p], dataprep_target.reset_index().iloc[p,4]*1))"
   ]
  },
  {
   "cell_type": "markdown",
   "id": "6723de5a",
   "metadata": {},
   "source": [
    "## 3.1 Treatment of Numeric Missing Data"
   ]
  },
  {
   "cell_type": "code",
   "execution_count": 50,
   "id": "899aa941",
   "metadata": {
    "gather": {
     "logged": 1669469926739
    }
   },
   "outputs": [],
   "source": [
    "#Create the \"Missing\" category for missing values in string vaviables\n",
    "# dataprep_df = dataprep_df.apply(lambda x: x.fillna(np.nan) if x.dtype.kind in 'biufc' else x.fillna('Missing'))"
   ]
  },
  {
   "cell_type": "code",
   "execution_count": 51,
   "id": "ecbf9803",
   "metadata": {
    "gather": {
     "logged": 1669469927220
    }
   },
   "outputs": [],
   "source": [
    "#Tratamento da idade\n",
    "# dataprep_df['age_mean'] = dataprep_df['age'].fillna(dataprep_df['age'].mean())"
   ]
  },
  {
   "cell_type": "markdown",
   "id": "9ad40624",
   "metadata": {},
   "source": [
    "## 3.2 Outliers Removing"
   ]
  },
  {
   "cell_type": "code",
   "execution_count": 52,
   "id": "ed9f0165",
   "metadata": {
    "gather": {
     "logged": 1669469927703
    }
   },
   "outputs": [],
   "source": [
    "# var = 'max_salary_offered_to_prev_application'\n",
    "\n",
    "# q_low = dataprep_df[var].quantile(0.00012)\n",
    "# q_hi  = dataprep_df[var].quantile(0.9999)\n",
    "# print('Low: ' + str(q_low))\n",
    "# print('High: ' + str(q_hi))\n",
    "# print('Reduction: ' \n",
    "#       + \"{0:.2%}\".format(len(dataprep_df[(dataprep_df[var] <= q_hi) & (dataprep_df[var] >= q_low)])/len(dataprep_df)-1) \n",
    "#       + \" | \" \n",
    "#       + str(len(dataprep_df)-len(dataprep_df[(dataprep_df[var] <= q_hi) & (dataprep_df[var] >= q_low)])))\n",
    "\n",
    "# def plot_comparison(x, title, low, high):\n",
    "#     fig, ax = plt.subplots(3, 1, sharex=True, constrained_layout=True, figsize=(15,5))\n",
    "#     fig.suptitle(title, fontsize=16)\n",
    "#     sns.distplot(x.rename(\"\"), ax=ax[0])\n",
    "#     ax[0].set_title('Histogram + KDE')\n",
    "#     sns.boxplot(x.rename(\"\"), ax=ax[1])\n",
    "#     ax[1].set_title('Boxplot')\n",
    "#     sns.violinplot(x.rename(\"\"), ax=ax[2])\n",
    "#     ax[2].set_title('Violin plot')\n",
    "#     # only one line may be specified; full height\n",
    "#     ax[1].axvline(x = low, color = 'red')\n",
    "#     ax[1].axvline(x = high, color = 'red')\n",
    "#     plt.show()\n",
    "    \n",
    "# plot_comparison(dataprep_df[var], var, q_low, q_hi)\n",
    "\n",
    "# dataprep_df = dataprep_df[(dataprep_df[var] <= q_hi) & (dataprep_df[var] >= q_low)]"
   ]
  },
  {
   "cell_type": "markdown",
   "id": "96c5d9b2",
   "metadata": {
    "papermill": {
     "duration": 1.872284,
     "end_time": "2021-04-22T18:45:55.674812",
     "exception": false,
     "start_time": "2021-04-22T18:45:53.802528",
     "status": "completed"
    },
    "tags": []
   },
   "source": [
    "# 4. Modeling"
   ]
  },
  {
   "cell_type": "markdown",
   "id": "75140177",
   "metadata": {},
   "source": [
    "## 4.1 H2O AutoML"
   ]
  },
  {
   "cell_type": "markdown",
   "id": "60dfd052",
   "metadata": {
    "papermill": {
     "duration": 1.852401,
     "end_time": "2021-04-22T18:45:59.917491",
     "exception": false,
     "start_time": "2021-04-22T18:45:58.065090",
     "status": "completed"
    },
    "tags": []
   },
   "source": [
    "## 4.1.1 Creating context and H2O and Importing data into the H2O context"
   ]
  },
  {
   "cell_type": "code",
   "execution_count": 13,
   "id": "76d4da38",
   "metadata": {
    "collapsed": true,
    "gather": {
     "logged": 1668728859427
    },
    "jupyter": {
     "outputs_hidden": true
    },
    "papermill": {
     "duration": 9.429937,
     "end_time": "2021-04-22T18:46:11.178938",
     "exception": false,
     "start_time": "2021-04-22T18:46:01.749001",
     "status": "completed"
    },
    "tags": []
   },
   "outputs": [
    {
     "name": "stdout",
     "output_type": "stream",
     "text": [
      "Checking whether there is an H2O instance running at http://localhost:54321 ..... not found.\n",
      "Attempting to start a local H2O server...\n",
      "  Java Version: openjdk version \"11.0.17\" 2022-10-18; OpenJDK Runtime Environment (build 11.0.17+8-post-Ubuntu-1ubuntu220.04); OpenJDK 64-Bit Server VM (build 11.0.17+8-post-Ubuntu-1ubuntu220.04, mixed mode, sharing)\n",
      "  Starting server from /anaconda/envs/azureml_py38/lib/python3.8/site-packages/h2o/backend/bin/h2o.jar\n",
      "  Ice root: /tmp/tmpovcst08j\n",
      "  JVM stdout: /tmp/tmpovcst08j/h2o_azureuser_started_from_python.out\n",
      "  JVM stderr: /tmp/tmpovcst08j/h2o_azureuser_started_from_python.err\n",
      "  Server is running at http://127.0.0.1:54321\n",
      "Connecting to H2O server at http://127.0.0.1:54321 ... successful.\n",
      "Warning: Your H2O cluster version is too old (4 months and 25 days)!Please download and install the latest version from http://h2o.ai/download/\n"
     ]
    },
    {
     "data": {
      "text/html": [
       "<div style=\"overflow:auto\"><table style=\"width:50%\"><tr><td>H2O_cluster_uptime:</td>\n",
       "<td>01 secs</td></tr>\n",
       "<tr><td>H2O_cluster_timezone:</td>\n",
       "<td>Etc/UTC</td></tr>\n",
       "<tr><td>H2O_data_parsing_timezone:</td>\n",
       "<td>UTC</td></tr>\n",
       "<tr><td>H2O_cluster_version:</td>\n",
       "<td>3.36.1.3</td></tr>\n",
       "<tr><td>H2O_cluster_version_age:</td>\n",
       "<td>4 months and 25 days !!!</td></tr>\n",
       "<tr><td>H2O_cluster_name:</td>\n",
       "<td>H2O_from_python_azureuser_dp2y2u</td></tr>\n",
       "<tr><td>H2O_cluster_total_nodes:</td>\n",
       "<td>1</td></tr>\n",
       "<tr><td>H2O_cluster_free_memory:</td>\n",
       "<td>13.73 Gb</td></tr>\n",
       "<tr><td>H2O_cluster_total_cores:</td>\n",
       "<td>6</td></tr>\n",
       "<tr><td>H2O_cluster_allowed_cores:</td>\n",
       "<td>6</td></tr>\n",
       "<tr><td>H2O_cluster_status:</td>\n",
       "<td>locked, healthy</td></tr>\n",
       "<tr><td>H2O_connection_url:</td>\n",
       "<td>http://127.0.0.1:54321</td></tr>\n",
       "<tr><td>H2O_connection_proxy:</td>\n",
       "<td>{\"http\": null, \"https\": null}</td></tr>\n",
       "<tr><td>H2O_internal_security:</td>\n",
       "<td>False</td></tr>\n",
       "<tr><td>Python_version:</td>\n",
       "<td>3.8.5 final</td></tr></table></div>"
      ],
      "text/plain": [
       "--------------------------  --------------------------------\n",
       "H2O_cluster_uptime:         01 secs\n",
       "H2O_cluster_timezone:       Etc/UTC\n",
       "H2O_data_parsing_timezone:  UTC\n",
       "H2O_cluster_version:        3.36.1.3\n",
       "H2O_cluster_version_age:    4 months and 25 days !!!\n",
       "H2O_cluster_name:           H2O_from_python_azureuser_dp2y2u\n",
       "H2O_cluster_total_nodes:    1\n",
       "H2O_cluster_free_memory:    13.73 Gb\n",
       "H2O_cluster_total_cores:    6\n",
       "H2O_cluster_allowed_cores:  6\n",
       "H2O_cluster_status:         locked, healthy\n",
       "H2O_connection_url:         http://127.0.0.1:54321\n",
       "H2O_connection_proxy:       {\"http\": null, \"https\": null}\n",
       "H2O_internal_security:      False\n",
       "Python_version:             3.8.5 final\n",
       "--------------------------  --------------------------------"
      ]
     },
     "metadata": {},
     "output_type": "display_data"
    }
   ],
   "source": [
    "# Number of threads, nthreads = -1, means use all cores on your machine\n",
    "# max_mem_size is the maximum memory (in GB) to allocate to H2O\n",
    "h2o.init(nthreads = -1)"
   ]
  },
  {
   "cell_type": "code",
   "execution_count": 14,
   "id": "02669d63",
   "metadata": {
    "gather": {
     "logged": 1668728902404
    },
    "papermill": {
     "duration": 6.347148,
     "end_time": "2021-04-22T18:46:19.457051",
     "exception": false,
     "start_time": "2021-04-22T18:46:13.109903",
     "status": "completed"
    },
    "tags": []
   },
   "outputs": [
    {
     "name": "stdout",
     "output_type": "stream",
     "text": [
      "Parse progress: |████████████████████████████████████████████████████████████████| (done) 100%\n",
      "Training: 606\n",
      "Validation: 64\n"
     ]
    }
   ],
   "source": [
    "#Import TRAINING base to the H20 context\n",
    "data_hdf = h2o.H2OFrame(dataprep_df.query('dataset == \"train\"').loc[:, (selected_features+[VarTarget])])\n",
    "\n",
    "# Conversion of Target variables and categorical features to factor (enum)\n",
    "#no H2O it is necessary that the categorical variables are transformed into a factor\n",
    "data_hdf[VarTarget] = data_hdf[VarTarget].asfactor()\n",
    "for col_name in CAT:\n",
    "    data_hdf[col_name] = data_hdf[col_name].asfactor()\n",
    "for col_name in NUM:\n",
    "    data_hdf[col_name] = data_hdf[col_name].asnumeric()\n",
    "    \n",
    "# Partition data into 90%, 10% chunks\n",
    "# Setting a seed will guarantee reproducibility\n",
    "train_hdf, valid_hdf = data_hdf.split_frame(ratios=[0.90], destination_frames=['train_hdf', 'valid_hdf'], seed=1)\n",
    "        \n",
    "#Notice that `split_frame()` uses approximate splitting not exact splitting (for efficiency), so these are not exactly 90%, 10% of the total rows.\n",
    "print('Training: ' + str(train_hdf.nrow))\n",
    "print('Validation: ' + str(valid_hdf.nrow))"
   ]
  },
  {
   "cell_type": "code",
   "execution_count": 15,
   "id": "d29d63d7",
   "metadata": {
    "gather": {
     "logged": 1668728907391
    },
    "papermill": {
     "duration": 2.207041,
     "end_time": "2021-04-22T18:46:25.310701",
     "exception": false,
     "start_time": "2021-04-22T18:46:23.103660",
     "status": "completed"
    },
    "tags": []
   },
   "outputs": [
    {
     "name": "stdout",
     "output_type": "stream",
     "text": [
      "Parse progress: |████████████████████████████████████████████████████████████████| (done) 100%\n",
      "Test: 221\n"
     ]
    }
   ],
   "source": [
    "#Import TEST base to the H20 context\n",
    "test_hdf = h2o.H2OFrame(dataprep_df.query('dataset == \"test\"').loc[:, (selected_features+[VarTarget])])\n",
    "\n",
    "# Conversion of Target variables and categorical features to factor (enum)\n",
    "#no H2O it is necessary that the categorical variables are transformed into a factor\n",
    "test_hdf[VarTarget] = test_hdf[VarTarget].asfactor()\n",
    "for col_name in CAT:\n",
    "    test_hdf[col_name] = test_hdf[col_name].asfactor()\n",
    "for col_name in NUM:\n",
    "    test_hdf[col_name] = test_hdf[col_name].asnumeric()\n",
    "    \n",
    "print('Test: ' + str(test_hdf.nrow))"
   ]
  },
  {
   "cell_type": "markdown",
   "id": "9b486e68",
   "metadata": {
    "papermill": {
     "duration": 2.256133,
     "end_time": "2021-04-22T18:46:29.610706",
     "exception": false,
     "start_time": "2021-04-22T18:46:27.354573",
     "status": "completed"
    },
    "tags": []
   },
   "source": [
    "## 4.1.2 Using H2O AutoML to performe all algorithms"
   ]
  },
  {
   "cell_type": "code",
   "execution_count": 16,
   "id": "bddbf265",
   "metadata": {
    "gather": {
     "logged": 1668729055603
    },
    "papermill": {
     "duration": 1235.649013,
     "end_time": "2021-04-22T19:08:07.242503",
     "exception": false,
     "start_time": "2021-04-22T18:47:31.593490",
     "status": "completed"
    },
    "tags": []
   },
   "outputs": [
    {
     "name": "stdout",
     "output_type": "stream",
     "text": [
      "AutoML progress: |\n",
      "20:03:52.303: User specified a validation frame with cross-validation still enabled. Please note that the models will still be validated using cross-validation only, the validation frame will be used to provide purely informative validation metrics on the trained models.\n",
      "\n",
      "███████████████████████████████████████████████████████████████| (done) 100%\n",
      "\n",
      "Execution time: 0:02:03.320076\n",
      "\n"
     ]
    }
   ],
   "source": [
    "##H2O Parameters:\n",
    "\n",
    "vModel='AUTOML'\n",
    "\n",
    "#Set the maximum time in seconds for the H20 AutoML\n",
    "max_runtime_secs=60*2\n",
    "\n",
    "#Define metrics to select the best model in AutoML\n",
    "sort_metric = 'AUCPR'\n",
    "\n",
    "#Execution time of the model\n",
    "start = dt.datetime.now()\n",
    "\n",
    "from h2o.automl import H2OAutoML\n",
    "AUTOML = H2OAutoML(seed=1,\n",
    "#                    exclude_algos=[\"StackedEnsemble\"],\n",
    "                   max_runtime_secs = max_runtime_secs,\n",
    "                   stopping_metric = sort_metric,\n",
    "                   sort_metric = sort_metric)\n",
    "AUTOML.train(x=selected_features, y=VarTarget, training_frame = train_hdf, validation_frame = valid_hdf, leaderboard_frame=test_hdf)\n",
    "\n",
    "#Execution time of the model\n",
    "stop = dt.datetime.now()\n",
    "execution_time = stop-start\n",
    "print(\"\\n\"+ \"Execution time: \" + str(execution_time) + \"\\n\")"
   ]
  },
  {
   "cell_type": "code",
   "execution_count": 19,
   "id": "2735c200",
   "metadata": {
    "gather": {
     "logged": 1668729060740
    },
    "tags": []
   },
   "outputs": [],
   "source": [
    "#View the AutoML Leaderboard\n",
    "lb = AUTOML.leaderboard\n",
    "# print(lb.head(rows=lb.nrows))"
   ]
  },
  {
   "cell_type": "code",
   "execution_count": 20,
   "id": "3cb6bf62",
   "metadata": {
    "collapsed": true,
    "gather": {
     "logged": 1668729071921
    },
    "jupyter": {
     "outputs_hidden": true
    },
    "papermill": {
     "duration": 2.774434,
     "end_time": "2021-04-22T19:08:12.096956",
     "exception": false,
     "start_time": "2021-04-22T19:08:09.322522",
     "status": "completed"
    },
    "tags": []
   },
   "outputs": [],
   "source": [
    "#Choose the desired AutoML model\n",
    "best_automl_position=0\n",
    "if len(AUTOML.leaderboard) > 0:\n",
    "    best_AutoML = h2o.get_model(AUTOML.leaderboard[best_automl_position, 0])\n",
    "    # print(best_AutoML)"
   ]
  },
  {
   "cell_type": "code",
   "execution_count": null,
   "id": "cb290c90-d93c-4c99-a022-62ad97be04b6",
   "metadata": {},
   "outputs": [],
   "source": [
    "# explain_model = best_AutoML.explain(frame=test_hdf, figsize=(8, 6))"
   ]
  },
  {
   "cell_type": "markdown",
   "id": "41933eed",
   "metadata": {},
   "source": [
    "## 4.2 PyTorch"
   ]
  },
  {
   "cell_type": "code",
   "execution_count": 54,
   "id": "6bad3320",
   "metadata": {},
   "outputs": [],
   "source": [
    "normalized = []\n",
    "for i in dataprep_df.columns:\n",
    "    if (i.startswith('normalized_')):\n",
    "        normalized.append(i)\n",
    "\n",
    "dummy = []\n",
    "for i in dataprep_df.columns:\n",
    "    if (i.startswith('dummy_')):\n",
    "        dummy.append(i)"
   ]
  },
  {
   "cell_type": "code",
   "execution_count": 71,
   "id": "f97f94f0",
   "metadata": {},
   "outputs": [],
   "source": [
    "# dataprep_df.query('dataset == \"train\"').loc[:, (selected_features+[VarTarget])]\n",
    "# dataprep_df.query('dataset == \"test\"').loc[:, (selected_features+[VarTarget])]\n",
    "\n",
    "x_train = dataprep_df.query('dataset == \"train\"').loc[:, (dummy)].to_numpy()\n",
    "x_test = dataprep_df.query('dataset == \"test\"').loc[:, (dummy)].to_numpy()\n",
    "\n",
    "y_train = dataprep_df.query('dataset == \"train\"').loc[:, (VarTarget)].values\n",
    "y_test = dataprep_df.query('dataset == \"test\"').loc[:, (VarTarget)].values"
   ]
  },
  {
   "cell_type": "code",
   "execution_count": 75,
   "id": "ac074403",
   "metadata": {},
   "outputs": [],
   "source": [
    "X_train = dataprep_df.query('dataset == \"train\"').loc[:, (CAT)].values\n",
    "Y_train = dataprep_df.query('dataset == \"train\"').loc[:, (VarTarget)].values\n",
    "X_test = dataprep_df.query('dataset == \"test\"').loc[:, (CAT)].values"
   ]
  },
  {
   "cell_type": "code",
   "execution_count": 76,
   "id": "dc2aa4a8",
   "metadata": {},
   "outputs": [
    {
     "ename": "IndexError",
     "evalue": "index 5 is out of bounds for axis 1 with size 5",
     "output_type": "error",
     "traceback": [
      "\u001b[0;31m---------------------------------------------------------------------------\u001b[0m",
      "\u001b[0;31mIndexError\u001b[0m                                Traceback (most recent call last)",
      "\u001b[1;32m/home/azureuser/cloudfiles/code/Users/maxreis86/FIEP-Machine-Learning-e-Computacao-em-Nuvem/aula_03_hr_analytics_keras/2_Fast_Machine_Learning.ipynb Cell 34\u001b[0m in \u001b[0;36m<cell line: 6>\u001b[0;34m()\u001b[0m\n\u001b[1;32m      <a href='vscode-notebook-cell://amlext%2B2f737562736372697074696f6e732f62663031353034322d333634632d343738662d396461642d3661346635646332373139642f7265736f7572636547726f7570732f666965702d6d6c2d75732f70726f7669646572732f4d6963726f736f66742e4d616368696e654c6561726e696e6753657276696365732f776f726b7370616365732f464945502d4d4c2d55532f636f6d70757465732f6d617872656973383631/home/azureuser/cloudfiles/code/Users/maxreis86/FIEP-Machine-Learning-e-Computacao-em-Nuvem/aula_03_hr_analytics_keras/2_Fast_Machine_Learning.ipynb#Y151sdnNjb2RlLXJlbW90ZQ%3D%3D?line=3'>4</a>\u001b[0m X_train[:, \u001b[39m1\u001b[39m] \u001b[39m=\u001b[39m labelencoder_X_1\u001b[39m.\u001b[39mfit_transform(X_train[:, \u001b[39m1\u001b[39m])\n\u001b[1;32m      <a href='vscode-notebook-cell://amlext%2B2f737562736372697074696f6e732f62663031353034322d333634632d343738662d396461642d3661346635646332373139642f7265736f7572636547726f7570732f666965702d6d6c2d75732f70726f7669646572732f4d6963726f736f66742e4d616368696e654c6561726e696e6753657276696365732f776f726b7370616365732f464945502d4d4c2d55532f636f6d70757465732f6d617872656973383631/home/azureuser/cloudfiles/code/Users/maxreis86/FIEP-Machine-Learning-e-Computacao-em-Nuvem/aula_03_hr_analytics_keras/2_Fast_Machine_Learning.ipynb#Y151sdnNjb2RlLXJlbW90ZQ%3D%3D?line=4'>5</a>\u001b[0m X_train[:, \u001b[39m4\u001b[39m] \u001b[39m=\u001b[39m labelencoder_X_1\u001b[39m.\u001b[39mfit_transform(X_train[:, \u001b[39m4\u001b[39m])\n\u001b[0;32m----> <a href='vscode-notebook-cell://amlext%2B2f737562736372697074696f6e732f62663031353034322d333634632d343738662d396461642d3661346635646332373139642f7265736f7572636547726f7570732f666965702d6d6c2d75732f70726f7669646572732f4d6963726f736f66742e4d616368696e654c6561726e696e6753657276696365732f776f726b7370616365732f464945502d4d4c2d55532f636f6d70757465732f6d617872656973383631/home/azureuser/cloudfiles/code/Users/maxreis86/FIEP-Machine-Learning-e-Computacao-em-Nuvem/aula_03_hr_analytics_keras/2_Fast_Machine_Learning.ipynb#Y151sdnNjb2RlLXJlbW90ZQ%3D%3D?line=5'>6</a>\u001b[0m X_train[:, \u001b[39m5\u001b[39m] \u001b[39m=\u001b[39m labelencoder_X_1\u001b[39m.\u001b[39mfit_transform(X_train[:, \u001b[39m5\u001b[39;49m])\n\u001b[1;32m      <a href='vscode-notebook-cell://amlext%2B2f737562736372697074696f6e732f62663031353034322d333634632d343738662d396461642d3661346635646332373139642f7265736f7572636547726f7570732f666965702d6d6c2d75732f70726f7669646572732f4d6963726f736f66742e4d616368696e654c6561726e696e6753657276696365732f776f726b7370616365732f464945502d4d4c2d55532f636f6d70757465732f6d617872656973383631/home/azureuser/cloudfiles/code/Users/maxreis86/FIEP-Machine-Learning-e-Computacao-em-Nuvem/aula_03_hr_analytics_keras/2_Fast_Machine_Learning.ipynb#Y151sdnNjb2RlLXJlbW90ZQ%3D%3D?line=6'>7</a>\u001b[0m X_train[:, \u001b[39m6\u001b[39m] \u001b[39m=\u001b[39m labelencoder_X_1\u001b[39m.\u001b[39mfit_transform(X_train[:, \u001b[39m6\u001b[39m])\n\u001b[1;32m      <a href='vscode-notebook-cell://amlext%2B2f737562736372697074696f6e732f62663031353034322d333634632d343738662d396461642d3661346635646332373139642f7265736f7572636547726f7570732f666965702d6d6c2d75732f70726f7669646572732f4d6963726f736f66742e4d616368696e654c6561726e696e6753657276696365732f776f726b7370616365732f464945502d4d4c2d55532f636f6d70757465732f6d617872656973383631/home/azureuser/cloudfiles/code/Users/maxreis86/FIEP-Machine-Learning-e-Computacao-em-Nuvem/aula_03_hr_analytics_keras/2_Fast_Machine_Learning.ipynb#Y151sdnNjb2RlLXJlbW90ZQ%3D%3D?line=8'>9</a>\u001b[0m labelencoder_X_2 \u001b[39m=\u001b[39m LabelEncoder()\n",
      "\u001b[0;31mIndexError\u001b[0m: index 5 is out of bounds for axis 1 with size 5"
     ]
    }
   ],
   "source": [
    "# Converting the remaining labels to numbers\n",
    "from sklearn.preprocessing import LabelEncoder, OneHotEncoder\n",
    "labelencoder_X_1 = LabelEncoder()\n",
    "X_train[:, 1] = labelencoder_X_1.fit_transform(X_train[:, 1])\n",
    "X_train[:, 4] = labelencoder_X_1.fit_transform(X_train[:, 4])\n",
    "X_train[:, 5] = labelencoder_X_1.fit_transform(X_train[:, 5])\n",
    "X_train[:, 6] = labelencoder_X_1.fit_transform(X_train[:, 6])\n",
    "\n",
    "labelencoder_X_2 = LabelEncoder()\n",
    "X_test[:, 1] = labelencoder_X_2.fit_transform(X_test[:, 1])\n",
    "X_test[:, 4] = labelencoder_X_2.fit_transform(X_test[:, 4])\n",
    "X_test[:, 5] = labelencoder_X_2.fit_transform(X_test[:, 5])\n",
    "X_test[:, 6] = labelencoder_X_2.fit_transform(X_test[:, 6])"
   ]
  },
  {
   "cell_type": "code",
   "execution_count": null,
   "id": "3d9e2730",
   "metadata": {},
   "outputs": [],
   "source": [
    "# Converting categorical values to one-hot representation\n",
    "one_hot_encoder = OneHotEncoder(categorical_features = [0, 1, 4, 5, 6])\n",
    "X_train = one_hot_encoder.fit_transform(X_train).toarray()\n",
    "X_test = one_hot_encoder.fit_transform(X_test).toarray()"
   ]
  },
  {
   "cell_type": "code",
   "execution_count": null,
   "id": "d4778962",
   "metadata": {},
   "outputs": [],
   "source": [
    "from sklearn.model_selection import train_test_split\n",
    "\n",
    "x_train, x_val, y_train, y_val = train_test_split(X_train, Y_train, test_size = 0.1)"
   ]
  },
  {
   "cell_type": "code",
   "execution_count": 67,
   "id": "f7585d20",
   "metadata": {},
   "outputs": [],
   "source": [
    "import torch\n",
    "import torch.nn as nn\n",
    "import torch.nn.functional as F\n",
    "\n",
    "class Net(nn.Module):\n",
    "    \n",
    "    def __init__(self):\n",
    "        super(Net, self).__init__()\n",
    "        self.fc1 = nn.Linear(19, 270)\n",
    "        self.fc2 = nn.Linear(270, 2)\n",
    "        \n",
    "    def forward(self, x):\n",
    "        x = self.fc1(x)\n",
    "        x = F.dropout(x, p=0.1)\n",
    "        x = F.relu(x)\n",
    "        x = self.fc2(x)\n",
    "        x = F.sigmoid(x)\n",
    "        \n",
    "        return x\n",
    "    \n",
    "net = Net()"
   ]
  },
  {
   "cell_type": "code",
   "execution_count": 68,
   "id": "be41335d",
   "metadata": {},
   "outputs": [],
   "source": [
    "batch_size = 50\n",
    "num_epochs = 50\n",
    "learning_rate = 0.01\n",
    "batch_no = len(dataprep_df.query('dataset == \"train\"')) // batch_size"
   ]
  },
  {
   "cell_type": "code",
   "execution_count": 69,
   "id": "cf147d5f",
   "metadata": {},
   "outputs": [],
   "source": [
    "criterion = nn.CrossEntropyLoss()\n",
    "optimizer = torch.optim.Adam(net.parameters(), lr=learning_rate)"
   ]
  },
  {
   "cell_type": "code",
   "execution_count": 72,
   "id": "112aaa96",
   "metadata": {},
   "outputs": [
    {
     "name": "stdout",
     "output_type": "stream",
     "text": [
      "Epoch 1\n"
     ]
    },
    {
     "ename": "RuntimeError",
     "evalue": "mat1 and mat2 shapes cannot be multiplied (50x41 and 19x270)",
     "output_type": "error",
     "traceback": [
      "\u001b[0;31m---------------------------------------------------------------------------\u001b[0m",
      "\u001b[0;31mRuntimeError\u001b[0m                              Traceback (most recent call last)",
      "\u001b[1;32m/home/azureuser/cloudfiles/code/Users/maxreis86/FIEP-Machine-Learning-e-Computacao-em-Nuvem/aula_03_hr_analytics_keras/2_Fast_Machine_Learning.ipynb Cell 36\u001b[0m in \u001b[0;36m<cell line: 4>\u001b[0;34m()\u001b[0m\n\u001b[1;32m     <a href='vscode-notebook-cell://amlext%2B2f737562736372697074696f6e732f62663031353034322d333634632d343738662d396461642d3661346635646332373139642f7265736f7572636547726f7570732f666965702d6d6c2d75732f70726f7669646572732f4d6963726f736f66742e4d616368696e654c6561726e696e6753657276696365732f776f726b7370616365732f464945502d4d4c2d55532f636f6d70757465732f6d617872656973383631/home/azureuser/cloudfiles/code/Users/maxreis86/FIEP-Machine-Learning-e-Computacao-em-Nuvem/aula_03_hr_analytics_keras/2_Fast_Machine_Learning.ipynb#Y143sdnNjb2RlLXJlbW90ZQ%3D%3D?line=13'>14</a>\u001b[0m \u001b[39m# Forward + Backward + Optimize\u001b[39;00m\n\u001b[1;32m     <a href='vscode-notebook-cell://amlext%2B2f737562736372697074696f6e732f62663031353034322d333634632d343738662d396461642d3661346635646332373139642f7265736f7572636547726f7570732f666965702d6d6c2d75732f70726f7669646572732f4d6963726f736f66742e4d616368696e654c6561726e696e6753657276696365732f776f726b7370616365732f464945502d4d4c2d55532f636f6d70757465732f6d617872656973383631/home/azureuser/cloudfiles/code/Users/maxreis86/FIEP-Machine-Learning-e-Computacao-em-Nuvem/aula_03_hr_analytics_keras/2_Fast_Machine_Learning.ipynb#Y143sdnNjb2RlLXJlbW90ZQ%3D%3D?line=14'>15</a>\u001b[0m optimizer\u001b[39m.\u001b[39mzero_grad()\n\u001b[0;32m---> <a href='vscode-notebook-cell://amlext%2B2f737562736372697074696f6e732f62663031353034322d333634632d343738662d396461642d3661346635646332373139642f7265736f7572636547726f7570732f666965702d6d6c2d75732f70726f7669646572732f4d6963726f736f66742e4d616368696e654c6561726e696e6753657276696365732f776f726b7370616365732f464945502d4d4c2d55532f636f6d70757465732f6d617872656973383631/home/azureuser/cloudfiles/code/Users/maxreis86/FIEP-Machine-Learning-e-Computacao-em-Nuvem/aula_03_hr_analytics_keras/2_Fast_Machine_Learning.ipynb#Y143sdnNjb2RlLXJlbW90ZQ%3D%3D?line=15'>16</a>\u001b[0m ypred_var \u001b[39m=\u001b[39m net(x_var)\n\u001b[1;32m     <a href='vscode-notebook-cell://amlext%2B2f737562736372697074696f6e732f62663031353034322d333634632d343738662d396461642d3661346635646332373139642f7265736f7572636547726f7570732f666965702d6d6c2d75732f70726f7669646572732f4d6963726f736f66742e4d616368696e654c6561726e696e6753657276696365732f776f726b7370616365732f464945502d4d4c2d55532f636f6d70757465732f6d617872656973383631/home/azureuser/cloudfiles/code/Users/maxreis86/FIEP-Machine-Learning-e-Computacao-em-Nuvem/aula_03_hr_analytics_keras/2_Fast_Machine_Learning.ipynb#Y143sdnNjb2RlLXJlbW90ZQ%3D%3D?line=16'>17</a>\u001b[0m loss \u001b[39m=\u001b[39mcriterion(ypred_var, y_var)\n\u001b[1;32m     <a href='vscode-notebook-cell://amlext%2B2f737562736372697074696f6e732f62663031353034322d333634632d343738662d396461642d3661346635646332373139642f7265736f7572636547726f7570732f666965702d6d6c2d75732f70726f7669646572732f4d6963726f736f66742e4d616368696e654c6561726e696e6753657276696365732f776f726b7370616365732f464945502d4d4c2d55532f636f6d70757465732f6d617872656973383631/home/azureuser/cloudfiles/code/Users/maxreis86/FIEP-Machine-Learning-e-Computacao-em-Nuvem/aula_03_hr_analytics_keras/2_Fast_Machine_Learning.ipynb#Y143sdnNjb2RlLXJlbW90ZQ%3D%3D?line=17'>18</a>\u001b[0m loss\u001b[39m.\u001b[39mbackward()\n",
      "File \u001b[0;32m/anaconda/envs/azureml_py38_PT_TF/lib/python3.8/site-packages/torch/nn/modules/module.py:1130\u001b[0m, in \u001b[0;36mModule._call_impl\u001b[0;34m(self, *input, **kwargs)\u001b[0m\n\u001b[1;32m   1126\u001b[0m \u001b[39m# If we don't have any hooks, we want to skip the rest of the logic in\u001b[39;00m\n\u001b[1;32m   1127\u001b[0m \u001b[39m# this function, and just call forward.\u001b[39;00m\n\u001b[1;32m   1128\u001b[0m \u001b[39mif\u001b[39;00m \u001b[39mnot\u001b[39;00m (\u001b[39mself\u001b[39m\u001b[39m.\u001b[39m_backward_hooks \u001b[39mor\u001b[39;00m \u001b[39mself\u001b[39m\u001b[39m.\u001b[39m_forward_hooks \u001b[39mor\u001b[39;00m \u001b[39mself\u001b[39m\u001b[39m.\u001b[39m_forward_pre_hooks \u001b[39mor\u001b[39;00m _global_backward_hooks\n\u001b[1;32m   1129\u001b[0m         \u001b[39mor\u001b[39;00m _global_forward_hooks \u001b[39mor\u001b[39;00m _global_forward_pre_hooks):\n\u001b[0;32m-> 1130\u001b[0m     \u001b[39mreturn\u001b[39;00m forward_call(\u001b[39m*\u001b[39;49m\u001b[39minput\u001b[39;49m, \u001b[39m*\u001b[39;49m\u001b[39m*\u001b[39;49mkwargs)\n\u001b[1;32m   1131\u001b[0m \u001b[39m# Do not call functions when jit is used\u001b[39;00m\n\u001b[1;32m   1132\u001b[0m full_backward_hooks, non_full_backward_hooks \u001b[39m=\u001b[39m [], []\n",
      "\u001b[1;32m/home/azureuser/cloudfiles/code/Users/maxreis86/FIEP-Machine-Learning-e-Computacao-em-Nuvem/aula_03_hr_analytics_keras/2_Fast_Machine_Learning.ipynb Cell 36\u001b[0m in \u001b[0;36mNet.forward\u001b[0;34m(self, x)\u001b[0m\n\u001b[1;32m     <a href='vscode-notebook-cell://amlext%2B2f737562736372697074696f6e732f62663031353034322d333634632d343738662d396461642d3661346635646332373139642f7265736f7572636547726f7570732f666965702d6d6c2d75732f70726f7669646572732f4d6963726f736f66742e4d616368696e654c6561726e696e6753657276696365732f776f726b7370616365732f464945502d4d4c2d55532f636f6d70757465732f6d617872656973383631/home/azureuser/cloudfiles/code/Users/maxreis86/FIEP-Machine-Learning-e-Computacao-em-Nuvem/aula_03_hr_analytics_keras/2_Fast_Machine_Learning.ipynb#Y143sdnNjb2RlLXJlbW90ZQ%3D%3D?line=11'>12</a>\u001b[0m \u001b[39mdef\u001b[39;00m \u001b[39mforward\u001b[39m(\u001b[39mself\u001b[39m, x):\n\u001b[0;32m---> <a href='vscode-notebook-cell://amlext%2B2f737562736372697074696f6e732f62663031353034322d333634632d343738662d396461642d3661346635646332373139642f7265736f7572636547726f7570732f666965702d6d6c2d75732f70726f7669646572732f4d6963726f736f66742e4d616368696e654c6561726e696e6753657276696365732f776f726b7370616365732f464945502d4d4c2d55532f636f6d70757465732f6d617872656973383631/home/azureuser/cloudfiles/code/Users/maxreis86/FIEP-Machine-Learning-e-Computacao-em-Nuvem/aula_03_hr_analytics_keras/2_Fast_Machine_Learning.ipynb#Y143sdnNjb2RlLXJlbW90ZQ%3D%3D?line=12'>13</a>\u001b[0m     x \u001b[39m=\u001b[39m \u001b[39mself\u001b[39;49m\u001b[39m.\u001b[39;49mfc1(x)\n\u001b[1;32m     <a href='vscode-notebook-cell://amlext%2B2f737562736372697074696f6e732f62663031353034322d333634632d343738662d396461642d3661346635646332373139642f7265736f7572636547726f7570732f666965702d6d6c2d75732f70726f7669646572732f4d6963726f736f66742e4d616368696e654c6561726e696e6753657276696365732f776f726b7370616365732f464945502d4d4c2d55532f636f6d70757465732f6d617872656973383631/home/azureuser/cloudfiles/code/Users/maxreis86/FIEP-Machine-Learning-e-Computacao-em-Nuvem/aula_03_hr_analytics_keras/2_Fast_Machine_Learning.ipynb#Y143sdnNjb2RlLXJlbW90ZQ%3D%3D?line=13'>14</a>\u001b[0m     x \u001b[39m=\u001b[39m F\u001b[39m.\u001b[39mdropout(x, p\u001b[39m=\u001b[39m\u001b[39m0.1\u001b[39m)\n\u001b[1;32m     <a href='vscode-notebook-cell://amlext%2B2f737562736372697074696f6e732f62663031353034322d333634632d343738662d396461642d3661346635646332373139642f7265736f7572636547726f7570732f666965702d6d6c2d75732f70726f7669646572732f4d6963726f736f66742e4d616368696e654c6561726e696e6753657276696365732f776f726b7370616365732f464945502d4d4c2d55532f636f6d70757465732f6d617872656973383631/home/azureuser/cloudfiles/code/Users/maxreis86/FIEP-Machine-Learning-e-Computacao-em-Nuvem/aula_03_hr_analytics_keras/2_Fast_Machine_Learning.ipynb#Y143sdnNjb2RlLXJlbW90ZQ%3D%3D?line=14'>15</a>\u001b[0m     x \u001b[39m=\u001b[39m F\u001b[39m.\u001b[39mrelu(x)\n",
      "File \u001b[0;32m/anaconda/envs/azureml_py38_PT_TF/lib/python3.8/site-packages/torch/nn/modules/module.py:1130\u001b[0m, in \u001b[0;36mModule._call_impl\u001b[0;34m(self, *input, **kwargs)\u001b[0m\n\u001b[1;32m   1126\u001b[0m \u001b[39m# If we don't have any hooks, we want to skip the rest of the logic in\u001b[39;00m\n\u001b[1;32m   1127\u001b[0m \u001b[39m# this function, and just call forward.\u001b[39;00m\n\u001b[1;32m   1128\u001b[0m \u001b[39mif\u001b[39;00m \u001b[39mnot\u001b[39;00m (\u001b[39mself\u001b[39m\u001b[39m.\u001b[39m_backward_hooks \u001b[39mor\u001b[39;00m \u001b[39mself\u001b[39m\u001b[39m.\u001b[39m_forward_hooks \u001b[39mor\u001b[39;00m \u001b[39mself\u001b[39m\u001b[39m.\u001b[39m_forward_pre_hooks \u001b[39mor\u001b[39;00m _global_backward_hooks\n\u001b[1;32m   1129\u001b[0m         \u001b[39mor\u001b[39;00m _global_forward_hooks \u001b[39mor\u001b[39;00m _global_forward_pre_hooks):\n\u001b[0;32m-> 1130\u001b[0m     \u001b[39mreturn\u001b[39;00m forward_call(\u001b[39m*\u001b[39;49m\u001b[39minput\u001b[39;49m, \u001b[39m*\u001b[39;49m\u001b[39m*\u001b[39;49mkwargs)\n\u001b[1;32m   1131\u001b[0m \u001b[39m# Do not call functions when jit is used\u001b[39;00m\n\u001b[1;32m   1132\u001b[0m full_backward_hooks, non_full_backward_hooks \u001b[39m=\u001b[39m [], []\n",
      "File \u001b[0;32m/anaconda/envs/azureml_py38_PT_TF/lib/python3.8/site-packages/torch/nn/modules/linear.py:114\u001b[0m, in \u001b[0;36mLinear.forward\u001b[0;34m(self, input)\u001b[0m\n\u001b[1;32m    113\u001b[0m \u001b[39mdef\u001b[39;00m \u001b[39mforward\u001b[39m(\u001b[39mself\u001b[39m, \u001b[39minput\u001b[39m: Tensor) \u001b[39m-\u001b[39m\u001b[39m>\u001b[39m Tensor:\n\u001b[0;32m--> 114\u001b[0m     \u001b[39mreturn\u001b[39;00m F\u001b[39m.\u001b[39;49mlinear(\u001b[39minput\u001b[39;49m, \u001b[39mself\u001b[39;49m\u001b[39m.\u001b[39;49mweight, \u001b[39mself\u001b[39;49m\u001b[39m.\u001b[39;49mbias)\n",
      "\u001b[0;31mRuntimeError\u001b[0m: mat1 and mat2 shapes cannot be multiplied (50x41 and 19x270)"
     ]
    }
   ],
   "source": [
    "from sklearn.utils import shuffle\n",
    "from torch.autograd import Variable\n",
    "\n",
    "for epoch in range(num_epochs):\n",
    "    if epoch % 5 == 0:\n",
    "        print('Epoch {}'.format(epoch+1))\n",
    "    x_train, y_train = shuffle(x_train, y_train)\n",
    "    # Mini batch learning\n",
    "    for i in range(batch_no):\n",
    "        start = i * batch_size\n",
    "        end = start + batch_size\n",
    "        x_var = Variable(torch.FloatTensor(x_train[start:end]))\n",
    "        y_var = Variable(torch.LongTensor(y_train[start:end]))\n",
    "        # Forward + Backward + Optimize\n",
    "        optimizer.zero_grad()\n",
    "        ypred_var = net(x_var)\n",
    "        loss =criterion(ypred_var, y_var)\n",
    "        loss.backward()\n",
    "        optimizer.step()"
   ]
  },
  {
   "cell_type": "code",
   "execution_count": 58,
   "id": "48e67486",
   "metadata": {},
   "outputs": [],
   "source": [
    "# dataprep_df.query('dataset == \"train\"').loc[:, (selected_features+[VarTarget])]\n",
    "# dataprep_df.query('dataset == \"test\"').loc[:, (selected_features+[VarTarget])]"
   ]
  },
  {
   "cell_type": "code",
   "execution_count": null,
   "id": "a61b4ea6",
   "metadata": {},
   "outputs": [],
   "source": [
    "from sklearn.utils import shuffle\n",
    "from torch.autograd import Variable\n",
    "\n",
    "for epoch in range(num_epochs):\n",
    "    if epoch % 5 == 0:\n",
    "        print('Epoch {}'.format(epoch+1))\n",
    "    x_train, y_train = shuffle(x_train, y_train)\n",
    "    # Mini batch learning\n",
    "    for i in range(batch_no):\n",
    "        start = i * batch_size\n",
    "        end = start + batch_size\n",
    "        x_var = Variable(torch.FloatTensor(x_train[start:end]))\n",
    "        y_var = Variable(torch.LongTensor(y_train[start:end]))\n",
    "        # Forward + Backward + Optimize\n",
    "        optimizer.zero_grad()\n",
    "        ypred_var = net(x_var)\n",
    "        loss =criterion(ypred_var, y_var)\n",
    "        loss.backward()\n",
    "        optimizer.step()"
   ]
  },
  {
   "cell_type": "markdown",
   "id": "21fc873e",
   "metadata": {
    "papermill": {
     "duration": 2.076548,
     "end_time": "2021-04-22T19:08:16.274849",
     "exception": false,
     "start_time": "2021-04-22T19:08:14.198301",
     "status": "completed"
    },
    "tags": []
   },
   "source": [
    "## 4.3 Compare performance on the TEST dataset for all trained models"
   ]
  },
  {
   "cell_type": "code",
   "execution_count": 28,
   "id": "19b0f87d",
   "metadata": {
    "gather": {
     "logged": 1668729118724
    },
    "papermill": {
     "duration": 2.092593,
     "end_time": "2021-04-22T19:08:20.691318",
     "exception": false,
     "start_time": "2021-04-22T19:08:18.598725",
     "status": "completed"
    },
    "tags": []
   },
   "outputs": [],
   "source": [
    "#Create empty model list\n",
    "list_models = []\n",
    "\n",
    "#Define the list of all models that have been executed and should be compared\n",
    "try:\n",
    "    list_models.append(h2o_champion)\n",
    "except NameError:\n",
    "    pass\n",
    "try:\n",
    "    list_models.append(best_AutoML)\n",
    "except NameError:\n",
    "    pass"
   ]
  },
  {
   "cell_type": "code",
   "execution_count": 29,
   "id": "c57e2270",
   "metadata": {
    "gather": {
     "logged": 1668729123797
    },
    "papermill": {
     "duration": 2.142011,
     "end_time": "2021-04-22T19:08:36.084630",
     "exception": false,
     "start_time": "2021-04-22T19:08:33.942619",
     "status": "completed"
    },
    "tags": []
   },
   "outputs": [],
   "source": [
    "#Consider all models in the history ./models/candidates/performance_*.csv. To disregard any old version, set erase_modelos = \"S\":\n",
    "apagar_modelos = 'N'\n",
    "if apagar_modelos == 'S':\n",
    "    os.system('rm %s/models/candidates/performance_*.csv' % OutputPath)"
   ]
  },
  {
   "cell_type": "code",
   "execution_count": 30,
   "id": "71dcea94",
   "metadata": {
    "gather": {
     "logged": 1668729129491
    }
   },
   "outputs": [
    {
     "name": "stdout",
     "output_type": "stream",
     "text": [
      "gbm prediction progress: |███████████████████████████████████████████████████████| (done) 100%\n",
      "stackedensemble prediction progress: |███████████████████████████████████████████| (done) 100%\n"
     ]
    },
    {
     "data": {
      "image/png": "[encoded data removed]",
      "text/plain": [
       "<Figure size 1000x1000 with 1 Axes>"
      ]
     },
     "metadata": {},
     "output_type": "display_data"
    },
    {
     "data": {
      "text/plain": [
       "<matplotlib.legend.Legend at 0x7f7896683d00>"
      ]
     },
     "execution_count": 30,
     "metadata": {},
     "output_type": "execute_result"
    },
    {
     "data": {
      "image/png": "[encoded data removed]",
      "text/plain": [
       "<Figure size 1000x500 with 1 Axes>"
      ]
     },
     "metadata": {},
     "output_type": "display_data"
    }
   ],
   "source": [
    "#Compare performance on the TEST dataset for all trained models\n",
    "plt.rcParams.update({'font.size': 12})\n",
    "fig = plt.figure(figsize=(10, 10))\n",
    "for i in list_models:    \n",
    "    if (isinstance(i, h2o.estimators.gbm.H2OGradientBoostingEstimator)) | (isinstance(i, h2o.estimators.stackedensemble.H2OStackedEnsembleEstimator)):\n",
    "        #Save all models in H20 format\n",
    "        h2o.save_model(model=i, path='%s/models/candidates/' % OutputPath, force=True)\n",
    "        #calculate o KS in test dataset\n",
    "        h2o_predict = i.predict(test_hdf)\n",
    "        data = h2o_predict.cbind(test_hdf[VarTarget]).as_data_frame()\n",
    "        data['target0'] = 1 - data[VarTarget]\n",
    "        data['bucket'] = pd.qcut(data['p1'], 10, duplicates='drop', labels=False)\n",
    "        grouped = data.groupby('bucket', as_index=False)\n",
    "        kstable = pd.DataFrame()\n",
    "        kstable['min_prob'] = grouped.min()['p1']\n",
    "        kstable['max_prob'] = grouped.max()['p1']\n",
    "        kstable['events'] = grouped.sum()[VarTarget]\n",
    "        kstable['nonevents'] = grouped.sum()['target0']    \n",
    "        kstable = kstable.sort_values(by=\"min_prob\", ascending=False).reset_index(drop=True)\n",
    "        kstable['event_rate'] = (kstable.events / data[VarTarget].sum()).apply('{0:.2%}'.format)\n",
    "        kstable['nonevent_rate'] = (kstable.nonevents / data['target0'].sum()).apply('{0:.2%}'.format)\n",
    "        kstable['cum_eventrate'] = (kstable.events / data[VarTarget].sum()).cumsum()\n",
    "        kstable['cum_noneventrate'] = (kstable.nonevents / data['target0'].sum()).cumsum()\n",
    "        kstable['KS'] = np.round(kstable['cum_eventrate'] - kstable['cum_noneventrate'], 3)\n",
    "        ks = kstable['KS'].max()\n",
    "\n",
    "        #Ascertain the performance of all models on the test base\n",
    "        performance = i.model_performance(test_hdf)\n",
    "\n",
    "        #Salve metrics\n",
    "        f=open(\"%s/models/candidates/performance_%s.csv\" % (OutputPath, i.model_id), 'w')\n",
    "        f.write(\n",
    "            str(i.model_id) + \";\"\n",
    "            + str(performance.accuracy()[0][0]) + \";\"\n",
    "            + str(performance.auc()) + ';'\n",
    "            + str(performance.aucpr()) + ';'\n",
    "            + str(performance.logloss()) + ';'\n",
    "            + str(ks) + ';'\n",
    "            + str(performance.F1()[0][0]))\n",
    "        f.write('\\n')\n",
    "        f.close()\n",
    "\n",
    "        #graph with the ROC curve of all models\n",
    "        fpr = performance.fprs\n",
    "        tpr = performance.tprs\n",
    "        plt.plot(fpr, tpr, lw=2, label=i.model_id.split(\"_\")[0]+\"_\"+i.model_id.split(\"_\")[1]+\"_\"+i.model_id.split(\"_\")[2])\n",
    "        plt.title(\"ROC Curve for Model (Test dataset)\")    \n",
    "\n",
    "        if i == list_models[0]:\n",
    "            df_plot = pd.DataFrame({'Model_id': i.model_id.split(\"_\")[0]+\"_\"+i.model_id.split(\"_\")[1]+\"_\"+i.model_id.split(\"_\")[2],\n",
    "                                        'AUROC': int(performance.auc()*100)/100,\n",
    "                                        'AUCPR': int(performance.aucpr()*100)/100,\n",
    "                                        'KS': int(ks*100)/100\n",
    "                                        }, index=[0])\n",
    "        else:\n",
    "            df_plot = df_plot.append(pd.DataFrame({'Model_id': i.model_id.split(\"_\")[0]+\"_\"+i.model_id.split(\"_\")[1]+\"_\"+i.model_id.split(\"_\")[2],\n",
    "                                        'AUROC': int(performance.auc()*100)/100,\n",
    "                                        'AUCPR': int(performance.aucpr()*100)/100,\n",
    "                                        'KS': int(ks*100)/100\n",
    "                                        }, index=[0]))\n",
    "            \n",
    "    elif isinstance(i, sagemaker.predictor.Predictor):\n",
    "        #Save model\n",
    "        model_id = (sm.describe_endpoint_config(EndpointConfigName=sm.describe_endpoint(EndpointName=i.endpoint_name)['EndpointConfigName'])['ProductionVariants'][0]['ModelName'])\n",
    "        text_file = open(\"%s/models/candidates/%s.py\" % (OutputPath, model_id), \"w\")        \n",
    "        text_file.write(\"\"\"#recreate create_endpoint_config and create_endpoint for model %s\n",
    "epc_name = \"%s\"\n",
    "ep_config = sm.create_endpoint_config(\n",
    "    EndpointConfigName=epc_name,\n",
    "    ProductionVariants=[\n",
    "        {\n",
    "            \"InstanceType\": \"ml.m5.2xlarge\",\n",
    "            \"InitialInstanceCount\": 1,\n",
    "            \"ModelName\": \"%s\",\n",
    "            \"VariantName\": \"main\",\n",
    "        }\n",
    "    ],\n",
    ")\n",
    "\n",
    "#Create end endpoint\n",
    "ep_name = \"%s\"\n",
    "create_endpoint_response = sm.create_endpoint(EndpointName=ep_name, EndpointConfigName=epc_name)\n",
    "sm.get_waiter(\"endpoint_in_service\").wait(EndpointName=ep_name)\n",
    "print(\"ep_name: \" + str(ep_name))\n",
    "\n",
    "sm_predictor = Predictor(\n",
    "    endpoint_name=\"%s\",\n",
    "    sagemaker_session=session,\n",
    "    serializer=CSVSerializer(),\n",
    "    deserializer=CSVDeserializer(),)\"\"\" % (model_id,\n",
    "                                        model_id.replace('-model', '-epc'),\n",
    "                                        model_id,\n",
    "                                        model_id.replace('-model', '-ep'),\n",
    "                                        model_id.replace('-model', '-ep')       \n",
    "                                       )\n",
    "                       )\n",
    "        text_file.close()\n",
    "        \n",
    "        sm_predict = pd.DataFrame(i.predict(dataprep_df.query('dataset == \"test\"').loc[:, (selected_features)].to_csv(sep=\",\", header=False, index=False)))\n",
    "        sm_predict.columns = ['predict', 'p1', 'probabilities']\n",
    "        sm_predict['predict'] = sm_predict['predict'].astype(int)\n",
    "        sm_predict['p1'] = sm_predict['p1'].astype(float)\n",
    "\n",
    "        data = pd.concat([sm_predict.reset_index(drop=True), dataprep_df.query('dataset == \"test\"').reset_index(drop=True)[VarTarget]], axis=1)\n",
    "        data['target0'] = 1 - data[VarTarget]\n",
    "        data['bucket'] = pd.qcut(data['p1'], 10, duplicates='drop', labels=False)\n",
    "        grouped = data.groupby('bucket', as_index=False)\n",
    "        kstable = pd.DataFrame()\n",
    "        kstable['min_prob'] = grouped.min()['p1']\n",
    "        kstable['max_prob'] = grouped.max()['p1']\n",
    "        kstable['events'] = grouped.sum()[VarTarget]\n",
    "        kstable['nonevents'] = grouped.sum()['target0']\n",
    "        kstable = kstable.sort_values(by=\"min_prob\", ascending=False).reset_index(drop=True)\n",
    "        kstable['event_rate'] = (kstable.events / data[VarTarget].sum()).apply('{0:.2%}'.format)\n",
    "        kstable['nonevent_rate'] = (kstable.nonevents / data['target0'].sum()).apply('{0:.2%}'.format)\n",
    "        kstable['cum_eventrate'] = (kstable.events / data[VarTarget].sum()).cumsum()\n",
    "        kstable['cum_noneventrate'] = (kstable.nonevents / data['target0'].sum()).cumsum()\n",
    "        kstable['cum_eventrate'] = kstable['cum_eventrate'].astype(float)\n",
    "        kstable['cum_noneventrate'] = kstable['cum_noneventrate'].astype(float)\n",
    "        kstable['KS'] = np.round(kstable['cum_eventrate'] - kstable['cum_noneventrate'], 3)\n",
    "        ks = kstable['KS'].max()\n",
    "        \n",
    "        accuracy = metrics.accuracy_score(dataprep_df.query('dataset == \"test\"').reset_index(drop=True)[VarTarget].astype(str), sm_predict['predict'].astype(str))\n",
    "        fpr, tpr, thresholds = metrics.roc_curve(dataprep_df.query('dataset == \"test\"').reset_index(drop=True)[VarTarget].astype(int), sm_predict['predict'].astype(int), pos_label=1)\n",
    "        auc = metrics.auc(fpr, tpr)\n",
    "        aucpr = metrics.average_precision_score(dataprep_df.query('dataset == \"test\"').reset_index(drop=True)[VarTarget].astype(int), sm_predict['predict'].astype(int), pos_label=1)\n",
    "        f1 = metrics.f1_score(dataprep_df.query('dataset == \"test\"').reset_index(drop=True)[VarTarget].astype(str), sm_predict['predict'].astype(str), pos_label='1')\n",
    "        log_loss = metrics.log_loss(dataprep_df.query('dataset == \"test\"').reset_index(drop=True)[VarTarget].astype(str), sm_predict['predict'].astype(str))\n",
    "        \n",
    "        #Salve metrics\n",
    "        f=open(\"%s/models/candidates/performance_%s.csv\" % (OutputPath, model_id), 'w')\n",
    "        f.write(\n",
    "            str(model_id) + \";\"\n",
    "            + str(accuracy) + \";\"\n",
    "            + str(auc) + ';'\n",
    "            + str(aucpr) + ';'\n",
    "            + str(log_loss) + ';'\n",
    "            + str(ks) + ';'\n",
    "            + str(f1))\n",
    "        f.write('\\n')\n",
    "        f.close()\n",
    "        \n",
    "        plt.plot(fpr, tpr, lw=2, label=model_id.split(\"-\")[0]+\"-\"+model_id.split(\"-\")[1]+\"-\"+model_id.split(\"-\")[2])\n",
    "        plt.title(\"ROC Curve for Model (Test dataset)\")\n",
    "        \n",
    "        if i == list_models[0]:\n",
    "            df_plot = pd.DataFrame({'Model_id': model_id.split(\"-\")[0]+\"-\"+model_id.split(\"-\")[1]+\"-\"+model_id.split(\"-\")[2],\n",
    "                                        'AUROC': int(auc*100)/100,\n",
    "                                        'AUCPR': int(aucpr*100)/100,\n",
    "                                        'KS': int(ks*100)/100\n",
    "                                        }, index=[0])\n",
    "        else:\n",
    "            df_plot = df_plot.append(pd.DataFrame({'Model_id': model_id.split(\"-\")[0]+\"-\"+model_id.split(\"-\")[1]+\"-\"+model_id.split(\"-\")[2],\n",
    "                                        'AUROC': int(auc*100)/100,\n",
    "                                        'AUCPR': int(aucpr*100)/100,\n",
    "                                        'KS': int(ks*100)/100\n",
    "                                        }, index=[0]))\n",
    "        \n",
    "plt.plot([0, 1], [0, 1], color='red', lw=2, linestyle='--')\n",
    "plt.xlim([0.0, 1.05])\n",
    "plt.ylim([0.0, 1.05])\n",
    "plt.legend(loc=\"lower right\")\n",
    "plt.show()\n",
    "plt.close()\n",
    "ax = df_plot.plot(kind='bar', x=\"Model_id\", title=\"AUROC, AUCPR e KS for Model (Test dataset)\", grid=True, figsize=(10,5), legend=1)\n",
    "for p in ax.patches:\n",
    "    ax.annotate(str(p.get_height()), (p.get_x() * 1.005, p.get_height() * 1.005))\n",
    "plt.legend(loc=3, prop={'size': 10})"
   ]
  },
  {
   "cell_type": "markdown",
   "id": "3a9c2629",
   "metadata": {
    "papermill": {
     "duration": 2.131734,
     "end_time": "2021-04-22T19:08:31.870437",
     "exception": false,
     "start_time": "2021-04-22T19:08:29.738703",
     "status": "completed"
    },
    "tags": []
   },
   "source": [
    "## 4.4 Choose the best model among all tested"
   ]
  },
  {
   "cell_type": "code",
   "execution_count": 31,
   "id": "90a7eea1",
   "metadata": {
    "gather": {
     "logged": 1668729136967
    },
    "papermill": {
     "duration": 2.310282,
     "end_time": "2021-04-22T19:08:40.490479",
     "exception": false,
     "start_time": "2021-04-22T19:08:38.180197",
     "status": "completed"
    },
    "tags": []
   },
   "outputs": [
    {
     "name": "stdout",
     "output_type": "stream",
     "text": [
      "MBest Models. Sorted by : AUCPR\n"
     ]
    },
    {
     "data": {
      "text/html": [
       "<div>\n",
       "<style scoped>\n",
       "    .dataframe tbody tr th:only-of-type {\n",
       "        vertical-align: middle;\n",
       "    }\n",
       "\n",
       "    .dataframe tbody tr th {\n",
       "        vertical-align: top;\n",
       "    }\n",
       "\n",
       "    .dataframe thead th {\n",
       "        text-align: right;\n",
       "    }\n",
       "</style>\n",
       "<table border=\"1\" class=\"dataframe\">\n",
       "  <thead>\n",
       "    <tr style=\"text-align: right;\">\n",
       "      <th></th>\n",
       "      <th>index</th>\n",
       "      <th>model_id</th>\n",
       "      <th>accuracy</th>\n",
       "      <th>AUC</th>\n",
       "      <th>AUCPR</th>\n",
       "      <th>logloss</th>\n",
       "      <th>KS</th>\n",
       "      <th>F1</th>\n",
       "    </tr>\n",
       "  </thead>\n",
       "  <tbody>\n",
       "    <tr>\n",
       "      <th>0</th>\n",
       "      <td>0</td>\n",
       "      <td>StackedEnsemble_BestOfFamily_4_AutoML_1_20221117_234854</td>\n",
       "      <td>0.652013</td>\n",
       "      <td>0.878693</td>\n",
       "      <td>0.862852</td>\n",
       "      <td>0.412667</td>\n",
       "      <td>0.625</td>\n",
       "      <td>0.445537</td>\n",
       "    </tr>\n",
       "    <tr>\n",
       "      <th>1</th>\n",
       "      <td>0</td>\n",
       "      <td>h2o_champion_titanic_propensity_survive_v1_20221117_234843</td>\n",
       "      <td>0.483557</td>\n",
       "      <td>0.839155</td>\n",
       "      <td>0.806852</td>\n",
       "      <td>0.483301</td>\n",
       "      <td>0.517</td>\n",
       "      <td>0.383971</td>\n",
       "    </tr>\n",
       "  </tbody>\n",
       "</table>\n",
       "</div>"
      ],
      "text/plain": [
       "   index                                                    model_id  \\\n",
       "0      0     StackedEnsemble_BestOfFamily_4_AutoML_1_20221117_234854   \n",
       "1      0  h2o_champion_titanic_propensity_survive_v1_20221117_234843   \n",
       "\n",
       "   accuracy       AUC     AUCPR   logloss     KS        F1  \n",
       "0  0.652013  0.878693  0.862852  0.412667  0.625  0.445537  \n",
       "1  0.483557  0.839155  0.806852  0.483301  0.517  0.383971  "
      ]
     },
     "execution_count": 31,
     "metadata": {},
     "output_type": "execute_result"
    }
   ],
   "source": [
    "sort_metric_best_model='AUCPR'\n",
    "#import all tested models and print the 10 bests sorted by AUC on the screen\n",
    "modelos_testados = pd.concat(map(functools.partial(pd.read_csv, sep=';', header=None), glob.glob('%s/models/candidates/performance_*.csv' % OutputPath)))\n",
    "modelos_testados.columns = ('model_id', 'accuracy', 'AUC', 'AUCPR', 'logloss', 'KS', 'F1')\n",
    "modelos_testados = modelos_testados.sort_values(by=sort_metric_best_model, ascending=False)\n",
    "modelos_testados = modelos_testados.drop_duplicates(subset=[\"model_id\"])\n",
    "print('MBest Models. Sorted by : ' + str(sort_metric_best_model))\n",
    "modelos_testados.reset_index(0).head(30)"
   ]
  },
  {
   "cell_type": "code",
   "execution_count": 33,
   "id": "fe71412d",
   "metadata": {
    "gather": {
     "logged": 1668729157430
    }
   },
   "outputs": [
    {
     "name": "stdout",
     "output_type": "stream",
     "text": [
      "\n",
      "BEST MODEL: h2o_champion_titanic_propensity_survive_v1_20221117_234843\n",
      "\n"
     ]
    },
    {
     "data": {
      "image/png": "[encoded data removed]",
      "text/plain": [
       "<Figure size 1400x1000 with 1 Axes>"
      ]
     },
     "metadata": {},
     "output_type": "display_data"
    },
    {
     "data": {
      "text/plain": [
       "<Figure size 640x480 with 0 Axes>"
      ]
     },
     "metadata": {},
     "output_type": "display_data"
    }
   ],
   "source": [
    "#If you want to choose a model other than the first one on the list. Choose the position number:\n",
    "posicao_melhor_modelo=1\n",
    "\n",
    "plt.rcParams.update({'font.size': 10})\n",
    "try:\n",
    "    melhor_modelo = h2o.load_model('%s/models/candidates/%s' % (OutputPath, modelos_testados.iloc[posicao_melhor_modelo, 0]))\n",
    "    (print(\"\\n\"+ \"BEST MODEL: \" + str(modelos_testados.iloc[posicao_melhor_modelo, 0]) + \"\\n\"))\n",
    "    \n",
    "    melhor_modelo.varimp_plot(50)\n",
    "except Exception as e:\n",
    "    print(e)    \n",
    "    (print(\"\\n\"+ \"BEST MODEL: \" + str(modelos_testados.iloc[posicao_melhor_modelo, 0]) + \"\\n\"))\n",
    "    print(\"Warning: This model doesn't have variable importances\")"
   ]
  },
  {
   "cell_type": "markdown",
   "id": "3a740dd3",
   "metadata": {
    "papermill": {
     "duration": 2.101093,
     "end_time": "2021-04-22T19:08:49.276346",
     "exception": false,
     "start_time": "2021-04-22T19:08:47.175253",
     "status": "completed"
    },
    "tags": []
   },
   "source": [
    "## 4.5 Stepwise for Analysis of the importance of variables and reduce the number of variables in the best model (Only for H2O)"
   ]
  },
  {
   "cell_type": "code",
   "execution_count": 34,
   "id": "04edba27",
   "metadata": {
    "gather": {
     "logged": 1668729160872
    },
    "papermill": {
     "duration": 2.090193,
     "end_time": "2021-04-22T19:08:53.688602",
     "exception": false,
     "start_time": "2021-04-22T19:08:51.598409",
     "status": "completed"
    },
    "tags": []
   },
   "outputs": [],
   "source": [
    "#List all variables in the current model, ordered by variable importance\n",
    "#For variables defined as a factor (which possibly are like dummys), remove the category from the name and leave only the orifinal name of the variable\n",
    "try:\n",
    "    df_features_sorted = melhor_modelo.varimp(True).variable.str.split('.', expand=True).drop_duplicates(subset = 0)[0].reset_index(drop=True).to_list()\n",
    "except Exception as e:\n",
    "    #As the model with ensemble in H20 does not show the importance of variables, we will include variables in selected_features\n",
    "    df_features_sorted = selected_features"
   ]
  },
  {
   "cell_type": "code",
   "execution_count": 35,
   "id": "2aac8876",
   "metadata": {
    "gather": {
     "logged": 1668729171390
    },
    "papermill": {
     "duration": 14.013682,
     "end_time": "2021-04-22T19:09:09.811180",
     "exception": false,
     "start_time": "2021-04-22T19:08:55.797498",
     "status": "completed"
    },
    "tags": []
   },
   "outputs": [
    {
     "name": "stdout",
     "output_type": "stream",
     "text": [
      "gbm Model Build progress: |██████████████████████████████████████████████████████| (done) 100%\n",
      "gbm Model Build progress: |██████████████████████████████████████████████████████| (done) 100%\n",
      "gbm Model Build progress: |██████████████████████████████████████████████████████| (done) 100%\n",
      "gbm Model Build progress: |██████████████████████████████████████████████████████| (done) 100%\n",
      "gbm Model Build progress: |██████████████████████████████████████████████████████| (done) 100%\n",
      "gbm Model Build progress: |██████████████████████████████████████████████████████| (done) 100%\n",
      "gbm Model Build progress: |██████████████████████████████████████████████████████| (done) 100%\n",
      "gbm Model Build progress: |██████████████████████████████████████████████████████| (done) 100%\n",
      "gbm Model Build progress: |██████████████████████████████████████████████████████| (done) 100%\n",
      "gbm Model Build progress: |██████████████████████████████████████████████████████| (done) 100%\n"
     ]
    }
   ],
   "source": [
    "#Define the number of variables to be increased with each new model. Try to put 10% or 20% of the total, as it can take a long time\n",
    "qt_var=1\n",
    "qt_total_var = len(df_features_sorted)\n",
    "\n",
    "dict_model_tmp={}\n",
    "dict_performance={}\n",
    "\n",
    "for i in range(qt_var, qt_total_var+qt_var, qt_var):    \n",
    "    df_features_sorted[0:i]\n",
    "    \n",
    "    #If no model chosen is not an ensemble of models. Then use the same model for training with increment of variables\n",
    "    melhor_modelo_tmp = melhor_modelo\n",
    "    if melhor_modelo_tmp.model_id.lower().find(\"ensemble\") == -1:\n",
    "        dict_model_tmp[i] = melhor_modelo_tmp\n",
    "        dict_model_tmp[i].train(x = df_features_sorted[0:i],\n",
    "                                y = VarTarget,\n",
    "                                training_frame=train_hdf, \n",
    "                                validation_frame=valid_hdf)\n",
    "    ##If it is not possible, for the home of an ensemble of models, use GradientBoostingEstimator to make the assessment\n",
    "    else:\n",
    "        dict_model_tmp[i] = H2OGradientBoostingEstimator(seed=1, model_id=str('model_tmp_%s' % i))\n",
    "        dict_model_tmp[i].train(x = df_features_sorted[0:i],\n",
    "                                y = VarTarget,\n",
    "                                training_frame=train_hdf, \n",
    "                                validation_frame=valid_hdf)       \n",
    "\n",
    "\n",
    "    perform_oot = dict_model_tmp[i].model_performance(test_hdf)\n",
    "    dict_performance_tmp = {}\n",
    "    dict_performance_tmp['AUC'] = {'qt_var': i, 'medida': 'AUC', 'Validation_Dataset': dict_model_tmp[i].auc(valid=True), 'testset': perform_oot.auc()}\n",
    "    dict_performance_tmp['accuracy'] = {'qt_var': i, 'medida': 'accuracy', 'Validation_Dataset': dict_model_tmp[i].accuracy(valid=True)[0][0], 'testset': perform_oot.accuracy()[0][0]}\n",
    "    dict_performance_tmp['AUCPR'] = {'qt_var': i, 'medida': 'AUCPR', 'Validation_Dataset': dict_model_tmp[i].aucpr(valid=True), 'testset': perform_oot.aucpr()}\n",
    "    dict_performance_tmp['F1'] = {'qt_var': i, 'medida': 'F1', 'Validation_Dataset': dict_model_tmp[i].F1(valid=True)[0][0], 'testset': perform_oot.F1()[0][0]}\n",
    "    dict_performance_tmp['logloss'] = {'qt_var': i, 'medida': 'logloss', 'Validation_Dataset': dict_model_tmp[i].logloss(valid=True), 'testset': perform_oot.logloss()}\n",
    "    dict_performance[i] = pd.DataFrame(dict_performance_tmp).transpose()"
   ]
  },
  {
   "cell_type": "code",
   "execution_count": 36,
   "id": "c5b6489d",
   "metadata": {
    "gather": {
     "logged": 1668729172425
    },
    "papermill": {
     "duration": 3.526531,
     "end_time": "2021-04-22T19:09:15.479429",
     "exception": false,
     "start_time": "2021-04-22T19:09:11.952898",
     "status": "completed"
    },
    "tags": []
   },
   "outputs": [
    {
     "data": {
      "image/png": "[encoded data removed]",
      "text/plain": [
       "<Figure size 1500x500 with 1 Axes>"
      ]
     },
     "metadata": {},
     "output_type": "display_data"
    },
    {
     "data": {
      "image/png": "[encoded data removed]",
      "text/plain": [
       "<Figure size 1500x500 with 1 Axes>"
      ]
     },
     "metadata": {},
     "output_type": "display_data"
    },
    {
     "data": {
      "image/png": "[encoded data removed]",
      "text/plain": [
       "<Figure size 1500x500 with 1 Axes>"
      ]
     },
     "metadata": {},
     "output_type": "display_data"
    },
    {
     "data": {
      "image/png": "[encoded data removed]",
      "text/plain": [
       "<Figure size 1500x500 with 1 Axes>"
      ]
     },
     "metadata": {},
     "output_type": "display_data"
    },
    {
     "data": {
      "image/png": "[encoded data removed]",
      "text/plain": [
       "<Figure size 1500x500 with 1 Axes>"
      ]
     },
     "metadata": {},
     "output_type": "display_data"
    }
   ],
   "source": [
    "##Plot graph comparing the increase in performance with the increase in variables\n",
    "for i in dict_performance.keys():\n",
    "    if i == list(dict_performance.keys())[0]:\n",
    "        df_performance = dict_performance[i]\n",
    "    else:\n",
    "        df_performance = df_performance.append(dict_performance[i], ignore_index=True)\n",
    "\n",
    "lista_metricas_perf = df_performance['medida'].unique()\n",
    "\n",
    "for i in range(len(lista_metricas_perf)):   \n",
    "    #selects only the metric to be analyzed\n",
    "    metrics_df_tmp = df_performance.query('medida == \"%s\"' % lista_metricas_perf[i])\n",
    "    metrics_df_tmp = metrics_df_tmp.set_index('qt_var')\n",
    "    del metrics_df_tmp['medida']\n",
    "    if lista_metricas_perf[i] == 'logloss':\n",
    "        max_oot = metrics_df_tmp[metrics_df_tmp['testset'] == metrics_df_tmp.testset.min()].index.values\n",
    "    else:\n",
    "        max_oot = metrics_df_tmp[metrics_df_tmp['testset'] == metrics_df_tmp.testset.max()].index.values\n",
    "        \n",
    "    if lista_metricas_perf[i] == sort_metric_best_model:\n",
    "        max_oot_filtro = max_oot[0]        \n",
    "    \n",
    "    ax=metrics_df_tmp.plot(figsize=(15,5), linewidth=2, fontsize=10, marker='D', ms=5,\\\n",
    "                            title='Best %s with %s Variables' % (lista_metricas_perf[i].upper(), str(max_oot[0])))\n",
    "    plt.xlabel('Variables Number')\n",
    "    plt.ylabel('%s' % lista_metricas_perf[i].upper())\n",
    "    plt.grid(axis='y')\n",
    "    plt.legend(loc=0, prop={'size': 12})\n",
    "    #display(ax)"
   ]
  },
  {
   "cell_type": "code",
   "execution_count": 38,
   "id": "de6a4619",
   "metadata": {
    "gather": {
     "logged": 1668729180126
    },
    "papermill": {
     "duration": 2.129296,
     "end_time": "2021-04-22T19:09:19.803949",
     "exception": false,
     "start_time": "2021-04-22T19:09:17.674653",
     "status": "completed"
    },
    "tags": []
   },
   "outputs": [
    {
     "name": "stdout",
     "output_type": "stream",
     "text": [
      "Consider using only the following variables: ['NameTitle', 'Pclass', 'Ticket_int', 'cabine_prefix', 'Fare', 'Embarked', 'Age_Mean', 'Parch', 'SibSp', 'Ticket_str']\n"
     ]
    }
   ],
   "source": [
    "print('Consider using only the following variables: '+ str(df_features_sorted[0:int(max_oot_filtro)]))"
   ]
  },
  {
   "cell_type": "markdown",
   "id": "c3681ca2",
   "metadata": {
    "papermill": {
     "duration": 2.252429,
     "end_time": "2021-04-22T19:09:24.187954",
     "exception": false,
     "start_time": "2021-04-22T19:09:21.935525",
     "status": "completed"
    },
    "tags": []
   },
   "source": [
    "# 5. Exporting the best model to Deploy (Usar o path_model_mojo para o código 3_Explaining_Model.ipynb)"
   ]
  },
  {
   "cell_type": "code",
   "execution_count": 46,
   "id": "f4f87587",
   "metadata": {
    "gather": {
     "logged": 1668729587777
    },
    "papermill": {
     "duration": 2.363826,
     "end_time": "2021-04-22T19:09:28.770800",
     "exception": false,
     "start_time": "2021-04-22T19:09:26.406974",
     "status": "completed"
    },
    "tags": []
   },
   "outputs": [
    {
     "name": "stdout",
     "output_type": "stream",
     "text": [
      "path_model_mojo: /mnt/batch/tasks/shared/LS_root/mounts/clusters/maxdez1/code/Users/maxdez/FIEP-Machine-Learning-e-Computacao-em-Nuvem/output_model/models/best/h2o_champion_titanic_propensity_survive_v1_20221117_234843.zip\n"
     ]
    }
   ],
   "source": [
    "try:\n",
    "    #Save the H2O model in MOJO format and all the variables of the best model\n",
    "    melhor_modelo = h2o.load_model('%s/models/candidates/%s' % (OutputPath, modelos_testados.iloc[posicao_melhor_modelo, 0]))\n",
    "    path_model_mojo = melhor_modelo.download_mojo('%s/models/best/' % OutputPath, get_genmodel_jar=True)\n",
    "    print('path_model_mojo: ' + str(path_model_mojo))\n",
    "    caminho_modelo_h2o = h2o.save_model(model=melhor_modelo, path='%s/models/best/' % OutputPath, force=True)\n",
    "except Exception as e:\n",
    "    print(e)"
   ]
  },
  {
   "cell_type": "code",
   "execution_count": 41,
   "id": "545ea64f",
   "metadata": {
    "gather": {
     "logged": 1668729245486
    }
   },
   "outputs": [
    {
     "name": "stdout",
     "output_type": "stream",
     "text": [
      "Detected 1 unused columns in the input data set: {}\n"
     ]
    },
    {
     "data": {
      "image/png": "[encoded data removed]",
      "text/plain": [
       "<Figure size 640x480 with 2 Axes>"
      ]
     },
     "metadata": {},
     "output_type": "display_data"
    },
    {
     "data": {
      "image/png": "[encoded data removed]",
      "text/plain": [
       "<Figure size 640x480 with 2 Axes>"
      ]
     },
     "metadata": {},
     "output_type": "display_data"
    }
   ],
   "source": [
    "#Confusion Matrix for the Champion\n",
    "df_predict_tmp = h2o.mojo_predict_pandas(dataprep_df.query('dataset == \"test\"').loc[:, (selected_features+[VarTarget])], mojo_zip_path=path_model_mojo, verbose=False)\n",
    "\n",
    "df_predict = pd.concat([df_predict_tmp.reset_index(drop=True), dataprep_df.query('dataset == \"test\"').loc[:, (selected_features+[VarTarget])].reset_index(drop=True)], axis=1)\n",
    "\n",
    "df_matrix = df_predict.reset_index().groupby([VarTarget, 'predict']).count()[['index']].reset_index().pivot(index=VarTarget, columns='predict', values='index').sort_values(by=[VarTarget], ascending=False).loc[:,(1,0)]\n",
    "\n",
    "sns.heatmap(df_matrix, annot=True, center=True,cmap='Blues', fmt='g')\n",
    "plt.show()\n",
    "sns.heatmap(df_matrix/np.sum(df_matrix), annot=True,\n",
    "            fmt='.2%', cmap='Blues')\n",
    "plt.show()"
   ]
  },
  {
   "cell_type": "markdown",
   "id": "29169849",
   "metadata": {},
   "source": [
    "# 6. Save final dataset with predictions to CSV"
   ]
  },
  {
   "cell_type": "code",
   "execution_count": 45,
   "id": "803923eb-e9b4-435d-af5f-2a663cb08339",
   "metadata": {
    "collapsed": false,
    "gather": {
     "logged": 1668729527793
    },
    "jupyter": {
     "outputs_hidden": false
    },
    "nteract": {
     "transient": {
      "deleting": false
     }
    }
   },
   "outputs": [],
   "source": [
    "df_predict.to_csv('./titanic/df_predict.csv', index=False, header=True)"
   ]
  },
  {
   "cell_type": "code",
   "execution_count": null,
   "id": "ba701cdc",
   "metadata": {},
   "outputs": [],
   "source": []
  },
  {
   "cell_type": "code",
   "execution_count": null,
   "id": "d161a664",
   "metadata": {},
   "outputs": [],
   "source": []
  },
  {
   "cell_type": "code",
   "execution_count": 13,
   "id": "1f819c30",
   "metadata": {},
   "outputs": [],
   "source": [
    "import torch\n",
    "dtype = torch.float\n",
    "device = torch.device(\"cpu\") # This executes all calculations on the CPU\n",
    "# device = torch.device(\"cuda:0\") # This executes all calculations on the GPU"
   ]
  },
  {
   "cell_type": "code",
   "execution_count": 3,
   "id": "653942d5",
   "metadata": {},
   "outputs": [
    {
     "name": "stdout",
     "output_type": "stream",
     "text": [
      "tensor([[ 0.1709, -1.7416, -0.8526],\n",
      "        [-0.8711,  2.4293, -2.4442]], device='cuda:0')\n"
     ]
    }
   ],
   "source": [
    "# Creation of a tensor and filling of a tensor with random numbers\n",
    "a = torch.randn(2, 3, device=device, dtype=dtype)\n",
    "print(a) # Output of tensor A\n",
    "# Output: tensor([[-1.1884,  0.8498, -1.7129],\n",
    "#                  [-0.8816,  0.1944,  0.5847]])\n"
   ]
  },
  {
   "cell_type": "code",
   "execution_count": 4,
   "id": "5a2059b1",
   "metadata": {},
   "outputs": [
    {
     "name": "stdout",
     "output_type": "stream",
     "text": [
      "tensor([[ 1.0110,  0.0760,  0.3938],\n",
      "        [ 0.4719, -1.3433,  1.2279]], device='cuda:0')\n"
     ]
    }
   ],
   "source": [
    "\n",
    "# Creation of a tensor and filling of a tensor with random numbers\n",
    "b = torch.randn(2, 3, device=device, dtype=dtype)\n",
    "print(b) # Output of tensor B\n",
    "# Output: tensor([[ 0.7178, -0.8453, -1.3403],\n",
    "#                  [ 1.3262,  1.1512, -1.7070]])"
   ]
  },
  {
   "cell_type": "code",
   "execution_count": 5,
   "id": "61532738",
   "metadata": {},
   "outputs": [
    {
     "name": "stdout",
     "output_type": "stream",
     "text": [
      "tensor([[ 0.1728, -0.1324, -0.3358],\n",
      "        [-0.4110, -3.2634, -3.0012]], device='cuda:0')\n"
     ]
    }
   ],
   "source": [
    "\n",
    "print(a*b) # Output of a multiplication of the two tensors\n",
    "# Output: tensor([[-0.8530, -0.7183,  2.58],\n",
    "#                  [-1.1692,  0.2238, -0.9981]])"
   ]
  },
  {
   "cell_type": "code",
   "execution_count": 6,
   "id": "704f868c",
   "metadata": {},
   "outputs": [
    {
     "name": "stdout",
     "output_type": "stream",
     "text": [
      "tensor(-3.3093, device='cuda:0')\n"
     ]
    }
   ],
   "source": [
    "\n",
    "print(a.sum()) # Output of the sum of all elements in tensor A\n",
    "# Output: tensor(-2.1540)\n"
   ]
  },
  {
   "cell_type": "code",
   "execution_count": 7,
   "id": "f9cefc62",
   "metadata": {},
   "outputs": [
    {
     "name": "stdout",
     "output_type": "stream",
     "text": [
      "tensor(-2.4442, device='cuda:0')\n"
     ]
    }
   ],
   "source": [
    "\n",
    "print(a[1,2]) # Output of the element in the third column of the second row (zero based)\n",
    "# Output: tensor(0.5847)"
   ]
  },
  {
   "cell_type": "code",
   "execution_count": 8,
   "id": "04901aee",
   "metadata": {},
   "outputs": [
    {
     "name": "stdout",
     "output_type": "stream",
     "text": [
      "tensor(2.4293, device='cuda:0')\n"
     ]
    }
   ],
   "source": [
    "\n",
    "print(a.max()) # Output of the maximum value in tensor A\n",
    "# Output: tensor(-1.7129)"
   ]
  },
  {
   "cell_type": "code",
   "execution_count": 9,
   "id": "8773547c",
   "metadata": {},
   "outputs": [],
   "source": [
    "from torch import nn # Import the nn sub-module from PyTorch"
   ]
  },
  {
   "cell_type": "code",
   "execution_count": 14,
   "id": "0a7be4bb",
   "metadata": {},
   "outputs": [],
   "source": [
    "class NeuralNetwork(nn.Module): # Neural networks are defined as classes\n",
    "    def __init__(self): # Layers and variables are defined in the __init__ method\n",
    "        super(NeuralNetwork, self).__init__() # Must be in every network.\n",
    "        self.flatten = nn.Flatten() # Defining a flattening layer.\n",
    "        self.linear_relu_stack = nn.Sequential( # Defining a stack of layers.\n",
    "            nn.Linear(28*28, 512), # Linear Layers have an input and output shape\n",
    "            nn.ReLU(), # ReLU is one of many activation functions provided by nn\n",
    "            nn.Linear(512, 512),\n",
    "            nn.ReLU(),\n",
    "            nn.Linear(512, 10), \n",
    "        )\n",
    "\n",
    "    def forward(self, x): # This function defines the forward pass.\n",
    "        x = self.flatten(x)\n",
    "        logits = self.linear_relu_stack(x)\n",
    "        return logits"
   ]
  },
  {
   "cell_type": "code",
   "execution_count": 15,
   "id": "b16dc04f",
   "metadata": {},
   "outputs": [],
   "source": [
    "testar = NeuralNetwork()"
   ]
  },
  {
   "cell_type": "code",
   "execution_count": 16,
   "id": "98ab20df",
   "metadata": {},
   "outputs": [
    {
     "ename": "RuntimeError",
     "evalue": "Expected all tensors to be on the same device, but found at least two devices, cpu and cuda:0! (when checking argument for argument mat1 in method wrapper_addmm)",
     "output_type": "error",
     "traceback": [
      "\u001b[0;31m---------------------------------------------------------------------------\u001b[0m",
      "\u001b[0;31mRuntimeError\u001b[0m                              Traceback (most recent call last)",
      "\u001b[1;32m/home/azureuser/cloudfiles/code/Users/maxreis86/FIEP-Machine-Learning-e-Computacao-em-Nuvem/aula_03_hr_analytics_keras/2_Fast_Machine_Learning.ipynb Cell 72\u001b[0m in \u001b[0;36m<cell line: 1>\u001b[0;34m()\u001b[0m\n\u001b[0;32m----> <a href='vscode-notebook-cell://amlext%2B2f737562736372697074696f6e732f62663031353034322d333634632d343738662d396461642d3661346635646332373139642f7265736f7572636547726f7570732f666965702d6d6c2d75732f70726f7669646572732f4d6963726f736f66742e4d616368696e654c6561726e696e6753657276696365732f776f726b7370616365732f464945502d4d4c2d55532f636f6d70757465732f6d617872656973383631/home/azureuser/cloudfiles/code/Users/maxreis86/FIEP-Machine-Learning-e-Computacao-em-Nuvem/aula_03_hr_analytics_keras/2_Fast_Machine_Learning.ipynb#Y202sdnNjb2RlLXJlbW90ZQ%3D%3D?line=0'>1</a>\u001b[0m testar\u001b[39m.\u001b[39;49mforward(a)\n",
      "\u001b[1;32m/home/azureuser/cloudfiles/code/Users/maxreis86/FIEP-Machine-Learning-e-Computacao-em-Nuvem/aula_03_hr_analytics_keras/2_Fast_Machine_Learning.ipynb Cell 72\u001b[0m in \u001b[0;36mNeuralNetwork.forward\u001b[0;34m(self, x)\u001b[0m\n\u001b[1;32m     <a href='vscode-notebook-cell://amlext%2B2f737562736372697074696f6e732f62663031353034322d333634632d343738662d396461642d3661346635646332373139642f7265736f7572636547726f7570732f666965702d6d6c2d75732f70726f7669646572732f4d6963726f736f66742e4d616368696e654c6561726e696e6753657276696365732f776f726b7370616365732f464945502d4d4c2d55532f636f6d70757465732f6d617872656973383631/home/azureuser/cloudfiles/code/Users/maxreis86/FIEP-Machine-Learning-e-Computacao-em-Nuvem/aula_03_hr_analytics_keras/2_Fast_Machine_Learning.ipynb#Y202sdnNjb2RlLXJlbW90ZQ%3D%3D?line=12'>13</a>\u001b[0m \u001b[39mdef\u001b[39;00m \u001b[39mforward\u001b[39m(\u001b[39mself\u001b[39m, x): \u001b[39m# This function defines the forward pass.\u001b[39;00m\n\u001b[1;32m     <a href='vscode-notebook-cell://amlext%2B2f737562736372697074696f6e732f62663031353034322d333634632d343738662d396461642d3661346635646332373139642f7265736f7572636547726f7570732f666965702d6d6c2d75732f70726f7669646572732f4d6963726f736f66742e4d616368696e654c6561726e696e6753657276696365732f776f726b7370616365732f464945502d4d4c2d55532f636f6d70757465732f6d617872656973383631/home/azureuser/cloudfiles/code/Users/maxreis86/FIEP-Machine-Learning-e-Computacao-em-Nuvem/aula_03_hr_analytics_keras/2_Fast_Machine_Learning.ipynb#Y202sdnNjb2RlLXJlbW90ZQ%3D%3D?line=13'>14</a>\u001b[0m     x \u001b[39m=\u001b[39m \u001b[39mself\u001b[39m\u001b[39m.\u001b[39mflatten(x)\n\u001b[0;32m---> <a href='vscode-notebook-cell://amlext%2B2f737562736372697074696f6e732f62663031353034322d333634632d343738662d396461642d3661346635646332373139642f7265736f7572636547726f7570732f666965702d6d6c2d75732f70726f7669646572732f4d6963726f736f66742e4d616368696e654c6561726e696e6753657276696365732f776f726b7370616365732f464945502d4d4c2d55532f636f6d70757465732f6d617872656973383631/home/azureuser/cloudfiles/code/Users/maxreis86/FIEP-Machine-Learning-e-Computacao-em-Nuvem/aula_03_hr_analytics_keras/2_Fast_Machine_Learning.ipynb#Y202sdnNjb2RlLXJlbW90ZQ%3D%3D?line=14'>15</a>\u001b[0m     logits \u001b[39m=\u001b[39m \u001b[39mself\u001b[39;49m\u001b[39m.\u001b[39;49mlinear_relu_stack(x)\n\u001b[1;32m     <a href='vscode-notebook-cell://amlext%2B2f737562736372697074696f6e732f62663031353034322d333634632d343738662d396461642d3661346635646332373139642f7265736f7572636547726f7570732f666965702d6d6c2d75732f70726f7669646572732f4d6963726f736f66742e4d616368696e654c6561726e696e6753657276696365732f776f726b7370616365732f464945502d4d4c2d55532f636f6d70757465732f6d617872656973383631/home/azureuser/cloudfiles/code/Users/maxreis86/FIEP-Machine-Learning-e-Computacao-em-Nuvem/aula_03_hr_analytics_keras/2_Fast_Machine_Learning.ipynb#Y202sdnNjb2RlLXJlbW90ZQ%3D%3D?line=15'>16</a>\u001b[0m     \u001b[39mreturn\u001b[39;00m logits\n",
      "File \u001b[0;32m/anaconda/envs/azureml_py38_PT_TF/lib/python3.8/site-packages/torch/nn/modules/module.py:1130\u001b[0m, in \u001b[0;36mModule._call_impl\u001b[0;34m(self, *input, **kwargs)\u001b[0m\n\u001b[1;32m   1126\u001b[0m \u001b[39m# If we don't have any hooks, we want to skip the rest of the logic in\u001b[39;00m\n\u001b[1;32m   1127\u001b[0m \u001b[39m# this function, and just call forward.\u001b[39;00m\n\u001b[1;32m   1128\u001b[0m \u001b[39mif\u001b[39;00m \u001b[39mnot\u001b[39;00m (\u001b[39mself\u001b[39m\u001b[39m.\u001b[39m_backward_hooks \u001b[39mor\u001b[39;00m \u001b[39mself\u001b[39m\u001b[39m.\u001b[39m_forward_hooks \u001b[39mor\u001b[39;00m \u001b[39mself\u001b[39m\u001b[39m.\u001b[39m_forward_pre_hooks \u001b[39mor\u001b[39;00m _global_backward_hooks\n\u001b[1;32m   1129\u001b[0m         \u001b[39mor\u001b[39;00m _global_forward_hooks \u001b[39mor\u001b[39;00m _global_forward_pre_hooks):\n\u001b[0;32m-> 1130\u001b[0m     \u001b[39mreturn\u001b[39;00m forward_call(\u001b[39m*\u001b[39;49m\u001b[39minput\u001b[39;49m, \u001b[39m*\u001b[39;49m\u001b[39m*\u001b[39;49mkwargs)\n\u001b[1;32m   1131\u001b[0m \u001b[39m# Do not call functions when jit is used\u001b[39;00m\n\u001b[1;32m   1132\u001b[0m full_backward_hooks, non_full_backward_hooks \u001b[39m=\u001b[39m [], []\n",
      "File \u001b[0;32m/anaconda/envs/azureml_py38_PT_TF/lib/python3.8/site-packages/torch/nn/modules/container.py:139\u001b[0m, in \u001b[0;36mSequential.forward\u001b[0;34m(self, input)\u001b[0m\n\u001b[1;32m    137\u001b[0m \u001b[39mdef\u001b[39;00m \u001b[39mforward\u001b[39m(\u001b[39mself\u001b[39m, \u001b[39minput\u001b[39m):\n\u001b[1;32m    138\u001b[0m     \u001b[39mfor\u001b[39;00m module \u001b[39min\u001b[39;00m \u001b[39mself\u001b[39m:\n\u001b[0;32m--> 139\u001b[0m         \u001b[39minput\u001b[39m \u001b[39m=\u001b[39m module(\u001b[39minput\u001b[39;49m)\n\u001b[1;32m    140\u001b[0m     \u001b[39mreturn\u001b[39;00m \u001b[39minput\u001b[39m\n",
      "File \u001b[0;32m/anaconda/envs/azureml_py38_PT_TF/lib/python3.8/site-packages/torch/nn/modules/module.py:1130\u001b[0m, in \u001b[0;36mModule._call_impl\u001b[0;34m(self, *input, **kwargs)\u001b[0m\n\u001b[1;32m   1126\u001b[0m \u001b[39m# If we don't have any hooks, we want to skip the rest of the logic in\u001b[39;00m\n\u001b[1;32m   1127\u001b[0m \u001b[39m# this function, and just call forward.\u001b[39;00m\n\u001b[1;32m   1128\u001b[0m \u001b[39mif\u001b[39;00m \u001b[39mnot\u001b[39;00m (\u001b[39mself\u001b[39m\u001b[39m.\u001b[39m_backward_hooks \u001b[39mor\u001b[39;00m \u001b[39mself\u001b[39m\u001b[39m.\u001b[39m_forward_hooks \u001b[39mor\u001b[39;00m \u001b[39mself\u001b[39m\u001b[39m.\u001b[39m_forward_pre_hooks \u001b[39mor\u001b[39;00m _global_backward_hooks\n\u001b[1;32m   1129\u001b[0m         \u001b[39mor\u001b[39;00m _global_forward_hooks \u001b[39mor\u001b[39;00m _global_forward_pre_hooks):\n\u001b[0;32m-> 1130\u001b[0m     \u001b[39mreturn\u001b[39;00m forward_call(\u001b[39m*\u001b[39;49m\u001b[39minput\u001b[39;49m, \u001b[39m*\u001b[39;49m\u001b[39m*\u001b[39;49mkwargs)\n\u001b[1;32m   1131\u001b[0m \u001b[39m# Do not call functions when jit is used\u001b[39;00m\n\u001b[1;32m   1132\u001b[0m full_backward_hooks, non_full_backward_hooks \u001b[39m=\u001b[39m [], []\n",
      "File \u001b[0;32m/anaconda/envs/azureml_py38_PT_TF/lib/python3.8/site-packages/torch/nn/modules/linear.py:114\u001b[0m, in \u001b[0;36mLinear.forward\u001b[0;34m(self, input)\u001b[0m\n\u001b[1;32m    113\u001b[0m \u001b[39mdef\u001b[39;00m \u001b[39mforward\u001b[39m(\u001b[39mself\u001b[39m, \u001b[39minput\u001b[39m: Tensor) \u001b[39m-\u001b[39m\u001b[39m>\u001b[39m Tensor:\n\u001b[0;32m--> 114\u001b[0m     \u001b[39mreturn\u001b[39;00m F\u001b[39m.\u001b[39;49mlinear(\u001b[39minput\u001b[39;49m, \u001b[39mself\u001b[39;49m\u001b[39m.\u001b[39;49mweight, \u001b[39mself\u001b[39;49m\u001b[39m.\u001b[39;49mbias)\n",
      "\u001b[0;31mRuntimeError\u001b[0m: Expected all tensors to be on the same device, but found at least two devices, cpu and cuda:0! (when checking argument for argument mat1 in method wrapper_addmm)"
     ]
    }
   ],
   "source": [
    "testar.forward(a)"
   ]
  },
  {
   "cell_type": "code",
   "execution_count": null,
   "id": "e7df6689",
   "metadata": {},
   "outputs": [],
   "source": []
  }
 ],
 "metadata": {
  "instance_type": "ml.t3.medium",
  "kernel_info": {
   "name": "python38-azureml-pt-tf"
  },
  "kernelspec": {
   "display_name": "Python 3.8 - Pytorch and Tensorflow",
   "language": "python",
   "name": "python38-azureml-pt-tf"
  },
  "language_info": {
   "codemirror_mode": {
    "name": "ipython",
    "version": 3
   },
   "file_extension": ".py",
   "mimetype": "text/x-python",
   "name": "python",
   "nbconvert_exporter": "python",
   "pygments_lexer": "ipython3",
   "version": "3.8.5"
  },
  "microsoft": {
   "host": {
    "AzureML": {
     "notebookHasBeenCompleted": true
    }
   }
  },
  "nteract": {
   "version": "nteract-front-end@1.0.0"
  },
  "papermill": {
   "default_parameters": {},
   "duration": 1824.891487,
   "end_time": "2021-04-22T19:12:51.593458",
   "environment_variables": {},
   "exception": null,
   "input_path": "__notebook__.ipynb",
   "output_path": "__notebook__.ipynb",
   "parameters": {},
   "start_time": "2021-04-22T18:42:26.701971",
   "version": "2.3.2"
  },
  "widgets": {
   "application/vnd.jupyter.widget-state+json": {
    "state": {
     "1367ae52c04143d8b569a2018607131f": {
      "model_module": "@jupyter-widgets/controls",
      "model_module_version": "1.5.0",
      "model_name": "HTMLModel",
      "state": {
       "_dom_classes": [],
       "_model_module": "@jupyter-widgets/controls",
       "_model_module_version": "1.5.0",
       "_model_name": "HTMLModel",
       "_view_count": null,
       "_view_module": "@jupyter-widgets/controls",
       "_view_module_version": "1.5.0",
       "_view_name": "HTMLView",
       "description": "",
       "description_tooltip": null,
       "layout": "IPY_MODEL_cf0f1a3dba55429b94630faccf8f142f",
       "placeholder": "​",
       "style": "IPY_MODEL_8003ac93421f49c0bcc8412a93783fdc",
       "value": " 20/20 [01:30&lt;00:00,  4.10s/it]"
      }
     },
     "1960307545e444afa597f3ae9e570980": {
      "model_module": "@jupyter-widgets/controls",
      "model_module_version": "1.5.0",
      "model_name": "DescriptionStyleModel",
      "state": {
       "_model_module": "@jupyter-widgets/controls",
       "_model_module_version": "1.5.0",
       "_model_name": "DescriptionStyleModel",
       "_view_count": null,
       "_view_module": "@jupyter-widgets/base",
       "_view_module_version": "1.2.0",
       "_view_name": "StyleView",
       "description_width": ""
      }
     },
     "19f5b02e6d3145de9146687274a9b90d": {
      "model_module": "@jupyter-widgets/controls",
      "model_module_version": "1.5.0",
      "model_name": "HTMLModel",
      "state": {
       "_dom_classes": [],
       "_model_module": "@jupyter-widgets/controls",
       "_model_module_version": "1.5.0",
       "_model_name": "HTMLModel",
       "_view_count": null,
       "_view_module": "@jupyter-widgets/controls",
       "_view_module_version": "1.5.0",
       "_view_name": "HTMLView",
       "description": "",
       "description_tooltip": null,
       "layout": "IPY_MODEL_72b6da2d33514ad78863f8abc472304d",
       "placeholder": "​",
       "style": "IPY_MODEL_7fa7a452971a43f893f67bea5d998d27",
       "value": "Export report to file: 100%"
      }
     },
     "1aaccbf8980a4a87b279c54c0cd6ecdd": {
      "model_module": "@jupyter-widgets/base",
      "model_module_version": "1.2.0",
      "model_name": "LayoutModel",
      "state": {
       "_model_module": "@jupyter-widgets/base",
       "_model_module_version": "1.2.0",
       "_model_name": "LayoutModel",
       "_view_count": null,
       "_view_module": "@jupyter-widgets/base",
       "_view_module_version": "1.2.0",
       "_view_name": "LayoutView",
       "align_content": null,
       "align_items": null,
       "align_self": null,
       "border": null,
       "bottom": null,
       "display": null,
       "flex": null,
       "flex_flow": null,
       "grid_area": null,
       "grid_auto_columns": null,
       "grid_auto_flow": null,
       "grid_auto_rows": null,
       "grid_column": null,
       "grid_gap": null,
       "grid_row": null,
       "grid_template_areas": null,
       "grid_template_columns": null,
       "grid_template_rows": null,
       "height": null,
       "justify_content": null,
       "justify_items": null,
       "left": null,
       "margin": null,
       "max_height": null,
       "max_width": null,
       "min_height": null,
       "min_width": null,
       "object_fit": null,
       "object_position": null,
       "order": null,
       "overflow": null,
       "overflow_x": null,
       "overflow_y": null,
       "padding": null,
       "right": null,
       "top": null,
       "visibility": null,
       "width": null
      }
     },
     "1c7de68230104c4995b47fa29a599fc3": {
      "model_module": "@jupyter-widgets/controls",
      "model_module_version": "1.5.0",
      "model_name": "DescriptionStyleModel",
      "state": {
       "_model_module": "@jupyter-widgets/controls",
       "_model_module_version": "1.5.0",
       "_model_name": "DescriptionStyleModel",
       "_view_count": null,
       "_view_module": "@jupyter-widgets/base",
       "_view_module_version": "1.2.0",
       "_view_name": "StyleView",
       "description_width": ""
      }
     },
     "1e1865bed82a4c90a94b4024f9c7b585": {
      "model_module": "@jupyter-widgets/base",
      "model_module_version": "1.2.0",
      "model_name": "LayoutModel",
      "state": {
       "_model_module": "@jupyter-widgets/base",
       "_model_module_version": "1.2.0",
       "_model_name": "LayoutModel",
       "_view_count": null,
       "_view_module": "@jupyter-widgets/base",
       "_view_module_version": "1.2.0",
       "_view_name": "LayoutView",
       "align_content": null,
       "align_items": null,
       "align_self": null,
       "border": null,
       "bottom": null,
       "display": null,
       "flex": null,
       "flex_flow": null,
       "grid_area": null,
       "grid_auto_columns": null,
       "grid_auto_flow": null,
       "grid_auto_rows": null,
       "grid_column": null,
       "grid_gap": null,
       "grid_row": null,
       "grid_template_areas": null,
       "grid_template_columns": null,
       "grid_template_rows": null,
       "height": null,
       "justify_content": null,
       "justify_items": null,
       "left": null,
       "margin": null,
       "max_height": null,
       "max_width": null,
       "min_height": null,
       "min_width": null,
       "object_fit": null,
       "object_position": null,
       "order": null,
       "overflow": null,
       "overflow_x": null,
       "overflow_y": null,
       "padding": null,
       "right": null,
       "top": null,
       "visibility": null,
       "width": null
      }
     },
     "1f6013e469f44bae906f8b8d796ddf03": {
      "model_module": "@jupyter-widgets/base",
      "model_module_version": "1.2.0",
      "model_name": "LayoutModel",
      "state": {
       "_model_module": "@jupyter-widgets/base",
       "_model_module_version": "1.2.0",
       "_model_name": "LayoutModel",
       "_view_count": null,
       "_view_module": "@jupyter-widgets/base",
       "_view_module_version": "1.2.0",
       "_view_name": "LayoutView",
       "align_content": null,
       "align_items": null,
       "align_self": null,
       "border": null,
       "bottom": null,
       "display": null,
       "flex": null,
       "flex_flow": null,
       "grid_area": null,
       "grid_auto_columns": null,
       "grid_auto_flow": null,
       "grid_auto_rows": null,
       "grid_column": null,
       "grid_gap": null,
       "grid_row": null,
       "grid_template_areas": null,
       "grid_template_columns": null,
       "grid_template_rows": null,
       "height": null,
       "justify_content": null,
       "justify_items": null,
       "left": null,
       "margin": null,
       "max_height": null,
       "max_width": null,
       "min_height": null,
       "min_width": null,
       "object_fit": null,
       "object_position": null,
       "order": null,
       "overflow": null,
       "overflow_x": null,
       "overflow_y": null,
       "padding": null,
       "right": null,
       "top": null,
       "visibility": null,
       "width": null
      }
     },
     "2816683bca8b403393d16ddce7f61451": {
      "model_module": "@jupyter-widgets/controls",
      "model_module_version": "1.5.0",
      "model_name": "DescriptionStyleModel",
      "state": {
       "_model_module": "@jupyter-widgets/controls",
       "_model_module_version": "1.5.0",
       "_model_name": "DescriptionStyleModel",
       "_view_count": null,
       "_view_module": "@jupyter-widgets/base",
       "_view_module_version": "1.2.0",
       "_view_name": "StyleView",
       "description_width": ""
      }
     },
     "350e60f28d9b48938c8cd3c7a65adfc8": {
      "model_module": "@jupyter-widgets/base",
      "model_module_version": "1.2.0",
      "model_name": "LayoutModel",
      "state": {
       "_model_module": "@jupyter-widgets/base",
       "_model_module_version": "1.2.0",
       "_model_name": "LayoutModel",
       "_view_count": null,
       "_view_module": "@jupyter-widgets/base",
       "_view_module_version": "1.2.0",
       "_view_name": "LayoutView",
       "align_content": null,
       "align_items": null,
       "align_self": null,
       "border": null,
       "bottom": null,
       "display": null,
       "flex": null,
       "flex_flow": null,
       "grid_area": null,
       "grid_auto_columns": null,
       "grid_auto_flow": null,
       "grid_auto_rows": null,
       "grid_column": null,
       "grid_gap": null,
       "grid_row": null,
       "grid_template_areas": null,
       "grid_template_columns": null,
       "grid_template_rows": null,
       "height": null,
       "justify_content": null,
       "justify_items": null,
       "left": null,
       "margin": null,
       "max_height": null,
       "max_width": null,
       "min_height": null,
       "min_width": null,
       "object_fit": null,
       "object_position": null,
       "order": null,
       "overflow": null,
       "overflow_x": null,
       "overflow_y": null,
       "padding": null,
       "right": null,
       "top": null,
       "visibility": null,
       "width": null
      }
     },
     "4f4eb35c26b1492798fee9d3c4e5bb03": {
      "model_module": "@jupyter-widgets/controls",
      "model_module_version": "1.5.0",
      "model_name": "HTMLModel",
      "state": {
       "_dom_classes": [],
       "_model_module": "@jupyter-widgets/controls",
       "_model_module_version": "1.5.0",
       "_model_name": "HTMLModel",
       "_view_count": null,
       "_view_module": "@jupyter-widgets/controls",
       "_view_module_version": "1.5.0",
       "_view_name": "HTMLView",
       "description": "",
       "description_tooltip": null,
       "layout": "IPY_MODEL_bd08b7d0ff3a427d89a418e30f1ab16c",
       "placeholder": "​",
       "style": "IPY_MODEL_74688d13d99042c0aa1f214ded632a98",
       "value": " 50/50 [01:24&lt;00:00,  4.61s/it, Completed]"
      }
     },
     "5474ed5e459a4b07973ac3c6de3ae6e4": {
      "model_module": "@jupyter-widgets/controls",
      "model_module_version": "1.5.0",
      "model_name": "HTMLModel",
      "state": {
       "_dom_classes": [],
       "_model_module": "@jupyter-widgets/controls",
       "_model_module_version": "1.5.0",
       "_model_name": "HTMLModel",
       "_view_count": null,
       "_view_module": "@jupyter-widgets/controls",
       "_view_module_version": "1.5.0",
       "_view_name": "HTMLView",
       "description": "",
       "description_tooltip": null,
       "layout": "IPY_MODEL_c4aa5744ad87433dbf595d79c833656c",
       "placeholder": "​",
       "style": "IPY_MODEL_1960307545e444afa597f3ae9e570980",
       "value": "Render HTML: 100%"
      }
     },
     "552e9ee63afb4e9f9437d29dadcbe0ee": {
      "model_module": "@jupyter-widgets/controls",
      "model_module_version": "1.5.0",
      "model_name": "DescriptionStyleModel",
      "state": {
       "_model_module": "@jupyter-widgets/controls",
       "_model_module_version": "1.5.0",
       "_model_name": "DescriptionStyleModel",
       "_view_count": null,
       "_view_module": "@jupyter-widgets/base",
       "_view_module_version": "1.2.0",
       "_view_name": "StyleView",
       "description_width": ""
      }
     },
     "55b5e671bdc54737914052f021be0b42": {
      "model_module": "@jupyter-widgets/controls",
      "model_module_version": "1.5.0",
      "model_name": "HTMLModel",
      "state": {
       "_dom_classes": [],
       "_model_module": "@jupyter-widgets/controls",
       "_model_module_version": "1.5.0",
       "_model_name": "HTMLModel",
       "_view_count": null,
       "_view_module": "@jupyter-widgets/controls",
       "_view_module_version": "1.5.0",
       "_view_name": "HTMLView",
       "description": "",
       "description_tooltip": null,
       "layout": "IPY_MODEL_1f6013e469f44bae906f8b8d796ddf03",
       "placeholder": "​",
       "style": "IPY_MODEL_1c7de68230104c4995b47fa29a599fc3",
       "value": " 1/1 [00:00&lt;00:00,  5.95it/s]"
      }
     },
     "6b28a19b4fc34c7a8e973878b6f7c0a9": {
      "model_module": "@jupyter-widgets/controls",
      "model_module_version": "1.5.0",
      "model_name": "ProgressStyleModel",
      "state": {
       "_model_module": "@jupyter-widgets/controls",
       "_model_module_version": "1.5.0",
       "_model_name": "ProgressStyleModel",
       "_view_count": null,
       "_view_module": "@jupyter-widgets/base",
       "_view_module_version": "1.2.0",
       "_view_name": "StyleView",
       "bar_color": null,
       "description_width": ""
      }
     },
     "6d4bcb70a3e940619712a90fd9ee4cef": {
      "model_module": "@jupyter-widgets/controls",
      "model_module_version": "1.5.0",
      "model_name": "DescriptionStyleModel",
      "state": {
       "_model_module": "@jupyter-widgets/controls",
       "_model_module_version": "1.5.0",
       "_model_name": "DescriptionStyleModel",
       "_view_count": null,
       "_view_module": "@jupyter-widgets/base",
       "_view_module_version": "1.2.0",
       "_view_name": "StyleView",
       "description_width": ""
      }
     },
     "6f17d9d9c82c4179a703e6b4b458dcb2": {
      "model_module": "@jupyter-widgets/base",
      "model_module_version": "1.2.0",
      "model_name": "LayoutModel",
      "state": {
       "_model_module": "@jupyter-widgets/base",
       "_model_module_version": "1.2.0",
       "_model_name": "LayoutModel",
       "_view_count": null,
       "_view_module": "@jupyter-widgets/base",
       "_view_module_version": "1.2.0",
       "_view_name": "LayoutView",
       "align_content": null,
       "align_items": null,
       "align_self": null,
       "border": null,
       "bottom": null,
       "display": null,
       "flex": null,
       "flex_flow": null,
       "grid_area": null,
       "grid_auto_columns": null,
       "grid_auto_flow": null,
       "grid_auto_rows": null,
       "grid_column": null,
       "grid_gap": null,
       "grid_row": null,
       "grid_template_areas": null,
       "grid_template_columns": null,
       "grid_template_rows": null,
       "height": null,
       "justify_content": null,
       "justify_items": null,
       "left": null,
       "margin": null,
       "max_height": null,
       "max_width": null,
       "min_height": null,
       "min_width": null,
       "object_fit": null,
       "object_position": null,
       "order": null,
       "overflow": null,
       "overflow_x": null,
       "overflow_y": null,
       "padding": null,
       "right": null,
       "top": null,
       "visibility": null,
       "width": null
      }
     },
     "72b6da2d33514ad78863f8abc472304d": {
      "model_module": "@jupyter-widgets/base",
      "model_module_version": "1.2.0",
      "model_name": "LayoutModel",
      "state": {
       "_model_module": "@jupyter-widgets/base",
       "_model_module_version": "1.2.0",
       "_model_name": "LayoutModel",
       "_view_count": null,
       "_view_module": "@jupyter-widgets/base",
       "_view_module_version": "1.2.0",
       "_view_name": "LayoutView",
       "align_content": null,
       "align_items": null,
       "align_self": null,
       "border": null,
       "bottom": null,
       "display": null,
       "flex": null,
       "flex_flow": null,
       "grid_area": null,
       "grid_auto_columns": null,
       "grid_auto_flow": null,
       "grid_auto_rows": null,
       "grid_column": null,
       "grid_gap": null,
       "grid_row": null,
       "grid_template_areas": null,
       "grid_template_columns": null,
       "grid_template_rows": null,
       "height": null,
       "justify_content": null,
       "justify_items": null,
       "left": null,
       "margin": null,
       "max_height": null,
       "max_width": null,
       "min_height": null,
       "min_width": null,
       "object_fit": null,
       "object_position": null,
       "order": null,
       "overflow": null,
       "overflow_x": null,
       "overflow_y": null,
       "padding": null,
       "right": null,
       "top": null,
       "visibility": null,
       "width": null
      }
     },
     "74688d13d99042c0aa1f214ded632a98": {
      "model_module": "@jupyter-widgets/controls",
      "model_module_version": "1.5.0",
      "model_name": "DescriptionStyleModel",
      "state": {
       "_model_module": "@jupyter-widgets/controls",
       "_model_module_version": "1.5.0",
       "_model_name": "DescriptionStyleModel",
       "_view_count": null,
       "_view_module": "@jupyter-widgets/base",
       "_view_module_version": "1.2.0",
       "_view_name": "StyleView",
       "description_width": ""
      }
     },
     "762e5b00a7ec49938287a92e9a580d19": {
      "model_module": "@jupyter-widgets/controls",
      "model_module_version": "1.5.0",
      "model_name": "DescriptionStyleModel",
      "state": {
       "_model_module": "@jupyter-widgets/controls",
       "_model_module_version": "1.5.0",
       "_model_name": "DescriptionStyleModel",
       "_view_count": null,
       "_view_module": "@jupyter-widgets/base",
       "_view_module_version": "1.2.0",
       "_view_name": "StyleView",
       "description_width": ""
      }
     },
     "76c56e1e33a7431492e707c94f679aca": {
      "model_module": "@jupyter-widgets/controls",
      "model_module_version": "1.5.0",
      "model_name": "HBoxModel",
      "state": {
       "_dom_classes": [],
       "_model_module": "@jupyter-widgets/controls",
       "_model_module_version": "1.5.0",
       "_model_name": "HBoxModel",
       "_view_count": null,
       "_view_module": "@jupyter-widgets/controls",
       "_view_module_version": "1.5.0",
       "_view_name": "HBoxView",
       "box_style": "",
       "children": [
        "IPY_MODEL_ede833cb0df046c5a6a4d4ccd16aa2e3",
        "IPY_MODEL_f56bfc6a11e948e28d78ea2301c2f477",
        "IPY_MODEL_1367ae52c04143d8b569a2018607131f"
       ],
       "layout": "IPY_MODEL_aa3e16338d604e4eb9a39e0299403146"
      }
     },
     "786c2267f8114517950e53245ae33022": {
      "model_module": "@jupyter-widgets/controls",
      "model_module_version": "1.5.0",
      "model_name": "HBoxModel",
      "state": {
       "_dom_classes": [],
       "_model_module": "@jupyter-widgets/controls",
       "_model_module_version": "1.5.0",
       "_model_name": "HBoxModel",
       "_view_count": null,
       "_view_module": "@jupyter-widgets/controls",
       "_view_module_version": "1.5.0",
       "_view_name": "HBoxView",
       "box_style": "",
       "children": [
        "IPY_MODEL_ba18d469602341cf9a58cf3b0b22aea9",
        "IPY_MODEL_a4c3d9944af64d68b4ebc01e5dd2437c",
        "IPY_MODEL_4f4eb35c26b1492798fee9d3c4e5bb03"
       ],
       "layout": "IPY_MODEL_b8b02491395045f5875ce167c0210c27"
      }
     },
     "7d988be3a23740abb4b092b50a7de2b0": {
      "model_module": "@jupyter-widgets/controls",
      "model_module_version": "1.5.0",
      "model_name": "HTMLModel",
      "state": {
       "_dom_classes": [],
       "_model_module": "@jupyter-widgets/controls",
       "_model_module_version": "1.5.0",
       "_model_name": "HTMLModel",
       "_view_count": null,
       "_view_module": "@jupyter-widgets/controls",
       "_view_module_version": "1.5.0",
       "_view_name": "HTMLView",
       "description": "",
       "description_tooltip": null,
       "layout": "IPY_MODEL_aac3cc7d1f2849cebbc45462095c0a48",
       "placeholder": "​",
       "style": "IPY_MODEL_552e9ee63afb4e9f9437d29dadcbe0ee",
       "value": "Generate report structure: 100%"
      }
     },
     "7dc03db759c64b779a38890f763846f6": {
      "model_module": "@jupyter-widgets/controls",
      "model_module_version": "1.5.0",
      "model_name": "FloatProgressModel",
      "state": {
       "_dom_classes": [],
       "_model_module": "@jupyter-widgets/controls",
       "_model_module_version": "1.5.0",
       "_model_name": "FloatProgressModel",
       "_view_count": null,
       "_view_module": "@jupyter-widgets/controls",
       "_view_module_version": "1.5.0",
       "_view_name": "ProgressView",
       "bar_style": "success",
       "description": "",
       "description_tooltip": null,
       "layout": "IPY_MODEL_f599ccf3d064469b90cc2bb818d0d8cb",
       "max": 1,
       "min": 0,
       "orientation": "horizontal",
       "style": "IPY_MODEL_d047c358579f42de823c513d8b87bd54",
       "value": 1
      }
     },
     "7fa7a452971a43f893f67bea5d998d27": {
      "model_module": "@jupyter-widgets/controls",
      "model_module_version": "1.5.0",
      "model_name": "DescriptionStyleModel",
      "state": {
       "_model_module": "@jupyter-widgets/controls",
       "_model_module_version": "1.5.0",
       "_model_name": "DescriptionStyleModel",
       "_view_count": null,
       "_view_module": "@jupyter-widgets/base",
       "_view_module_version": "1.2.0",
       "_view_name": "StyleView",
       "description_width": ""
      }
     },
     "7fc985fe271c400f8d922006f845e02d": {
      "model_module": "@jupyter-widgets/controls",
      "model_module_version": "1.5.0",
      "model_name": "ProgressStyleModel",
      "state": {
       "_model_module": "@jupyter-widgets/controls",
       "_model_module_version": "1.5.0",
       "_model_name": "ProgressStyleModel",
       "_view_count": null,
       "_view_module": "@jupyter-widgets/base",
       "_view_module_version": "1.2.0",
       "_view_name": "StyleView",
       "bar_color": null,
       "description_width": ""
      }
     },
     "8003ac93421f49c0bcc8412a93783fdc": {
      "model_module": "@jupyter-widgets/controls",
      "model_module_version": "1.5.0",
      "model_name": "DescriptionStyleModel",
      "state": {
       "_model_module": "@jupyter-widgets/controls",
       "_model_module_version": "1.5.0",
       "_model_name": "DescriptionStyleModel",
       "_view_count": null,
       "_view_module": "@jupyter-widgets/base",
       "_view_module_version": "1.2.0",
       "_view_name": "StyleView",
       "description_width": ""
      }
     },
     "8b62d842cd4f41b79aa6da6cec427083": {
      "model_module": "@jupyter-widgets/base",
      "model_module_version": "1.2.0",
      "model_name": "LayoutModel",
      "state": {
       "_model_module": "@jupyter-widgets/base",
       "_model_module_version": "1.2.0",
       "_model_name": "LayoutModel",
       "_view_count": null,
       "_view_module": "@jupyter-widgets/base",
       "_view_module_version": "1.2.0",
       "_view_name": "LayoutView",
       "align_content": null,
       "align_items": null,
       "align_self": null,
       "border": null,
       "bottom": null,
       "display": null,
       "flex": null,
       "flex_flow": null,
       "grid_area": null,
       "grid_auto_columns": null,
       "grid_auto_flow": null,
       "grid_auto_rows": null,
       "grid_column": null,
       "grid_gap": null,
       "grid_row": null,
       "grid_template_areas": null,
       "grid_template_columns": null,
       "grid_template_rows": null,
       "height": null,
       "justify_content": null,
       "justify_items": null,
       "left": null,
       "margin": null,
       "max_height": null,
       "max_width": null,
       "min_height": null,
       "min_width": null,
       "object_fit": null,
       "object_position": null,
       "order": null,
       "overflow": null,
       "overflow_x": null,
       "overflow_y": null,
       "padding": null,
       "right": null,
       "top": null,
       "visibility": null,
       "width": null
      }
     },
     "8b71ddb9a01d466b91484d1f3e7d96af": {
      "model_module": "@jupyter-widgets/base",
      "model_module_version": "1.2.0",
      "model_name": "LayoutModel",
      "state": {
       "_model_module": "@jupyter-widgets/base",
       "_model_module_version": "1.2.0",
       "_model_name": "LayoutModel",
       "_view_count": null,
       "_view_module": "@jupyter-widgets/base",
       "_view_module_version": "1.2.0",
       "_view_name": "LayoutView",
       "align_content": null,
       "align_items": null,
       "align_self": null,
       "border": null,
       "bottom": null,
       "display": null,
       "flex": null,
       "flex_flow": null,
       "grid_area": null,
       "grid_auto_columns": null,
       "grid_auto_flow": null,
       "grid_auto_rows": null,
       "grid_column": null,
       "grid_gap": null,
       "grid_row": null,
       "grid_template_areas": null,
       "grid_template_columns": null,
       "grid_template_rows": null,
       "height": null,
       "justify_content": null,
       "justify_items": null,
       "left": null,
       "margin": null,
       "max_height": null,
       "max_width": null,
       "min_height": null,
       "min_width": null,
       "object_fit": null,
       "object_position": null,
       "order": null,
       "overflow": null,
       "overflow_x": null,
       "overflow_y": null,
       "padding": null,
       "right": null,
       "top": null,
       "visibility": null,
       "width": null
      }
     },
     "8bc5b0e540704062bebfd2be22d96e03": {
      "model_module": "@jupyter-widgets/controls",
      "model_module_version": "1.5.0",
      "model_name": "ProgressStyleModel",
      "state": {
       "_model_module": "@jupyter-widgets/controls",
       "_model_module_version": "1.5.0",
       "_model_name": "ProgressStyleModel",
       "_view_count": null,
       "_view_module": "@jupyter-widgets/base",
       "_view_module_version": "1.2.0",
       "_view_name": "StyleView",
       "bar_color": null,
       "description_width": ""
      }
     },
     "8f4ad3ed9b624449bb3951c1b78206d7": {
      "model_module": "@jupyter-widgets/controls",
      "model_module_version": "1.5.0",
      "model_name": "HBoxModel",
      "state": {
       "_dom_classes": [],
       "_model_module": "@jupyter-widgets/controls",
       "_model_module_version": "1.5.0",
       "_model_name": "HBoxModel",
       "_view_count": null,
       "_view_module": "@jupyter-widgets/controls",
       "_view_module_version": "1.5.0",
       "_view_name": "HBoxView",
       "box_style": "",
       "children": [
        "IPY_MODEL_5474ed5e459a4b07973ac3c6de3ae6e4",
        "IPY_MODEL_90e6c04395594a2baea9e529efd6cafb",
        "IPY_MODEL_b1a09a450d25455fb7d6f0fda505bb00"
       ],
       "layout": "IPY_MODEL_8b62d842cd4f41b79aa6da6cec427083"
      }
     },
     "90e6c04395594a2baea9e529efd6cafb": {
      "model_module": "@jupyter-widgets/controls",
      "model_module_version": "1.5.0",
      "model_name": "FloatProgressModel",
      "state": {
       "_dom_classes": [],
       "_model_module": "@jupyter-widgets/controls",
       "_model_module_version": "1.5.0",
       "_model_name": "FloatProgressModel",
       "_view_count": null,
       "_view_module": "@jupyter-widgets/controls",
       "_view_module_version": "1.5.0",
       "_view_name": "ProgressView",
       "bar_style": "success",
       "description": "",
       "description_tooltip": null,
       "layout": "IPY_MODEL_a8d065cce96144b3abede928e48b70d6",
       "max": 1,
       "min": 0,
       "orientation": "horizontal",
       "style": "IPY_MODEL_6b28a19b4fc34c7a8e973878b6f7c0a9",
       "value": 1
      }
     },
     "98237f92a3e04185a26d148ebfd67b53": {
      "model_module": "@jupyter-widgets/base",
      "model_module_version": "1.2.0",
      "model_name": "LayoutModel",
      "state": {
       "_model_module": "@jupyter-widgets/base",
       "_model_module_version": "1.2.0",
       "_model_name": "LayoutModel",
       "_view_count": null,
       "_view_module": "@jupyter-widgets/base",
       "_view_module_version": "1.2.0",
       "_view_name": "LayoutView",
       "align_content": null,
       "align_items": null,
       "align_self": null,
       "border": null,
       "bottom": null,
       "display": null,
       "flex": null,
       "flex_flow": null,
       "grid_area": null,
       "grid_auto_columns": null,
       "grid_auto_flow": null,
       "grid_auto_rows": null,
       "grid_column": null,
       "grid_gap": null,
       "grid_row": null,
       "grid_template_areas": null,
       "grid_template_columns": null,
       "grid_template_rows": null,
       "height": null,
       "justify_content": null,
       "justify_items": null,
       "left": null,
       "margin": null,
       "max_height": null,
       "max_width": null,
       "min_height": null,
       "min_width": null,
       "object_fit": null,
       "object_position": null,
       "order": null,
       "overflow": null,
       "overflow_x": null,
       "overflow_y": null,
       "padding": null,
       "right": null,
       "top": null,
       "visibility": null,
       "width": null
      }
     },
     "a4c3d9944af64d68b4ebc01e5dd2437c": {
      "model_module": "@jupyter-widgets/controls",
      "model_module_version": "1.5.0",
      "model_name": "FloatProgressModel",
      "state": {
       "_dom_classes": [],
       "_model_module": "@jupyter-widgets/controls",
       "_model_module_version": "1.5.0",
       "_model_name": "FloatProgressModel",
       "_view_count": null,
       "_view_module": "@jupyter-widgets/controls",
       "_view_module_version": "1.5.0",
       "_view_name": "ProgressView",
       "bar_style": "success",
       "description": "",
       "description_tooltip": null,
       "layout": "IPY_MODEL_c46b4f3793fa4e229cb30cfb2db5b75b",
       "max": 50,
       "min": 0,
       "orientation": "horizontal",
       "style": "IPY_MODEL_7fc985fe271c400f8d922006f845e02d",
       "value": 50
      }
     },
     "a8d065cce96144b3abede928e48b70d6": {
      "model_module": "@jupyter-widgets/base",
      "model_module_version": "1.2.0",
      "model_name": "LayoutModel",
      "state": {
       "_model_module": "@jupyter-widgets/base",
       "_model_module_version": "1.2.0",
       "_model_name": "LayoutModel",
       "_view_count": null,
       "_view_module": "@jupyter-widgets/base",
       "_view_module_version": "1.2.0",
       "_view_name": "LayoutView",
       "align_content": null,
       "align_items": null,
       "align_self": null,
       "border": null,
       "bottom": null,
       "display": null,
       "flex": null,
       "flex_flow": null,
       "grid_area": null,
       "grid_auto_columns": null,
       "grid_auto_flow": null,
       "grid_auto_rows": null,
       "grid_column": null,
       "grid_gap": null,
       "grid_row": null,
       "grid_template_areas": null,
       "grid_template_columns": null,
       "grid_template_rows": null,
       "height": null,
       "justify_content": null,
       "justify_items": null,
       "left": null,
       "margin": null,
       "max_height": null,
       "max_width": null,
       "min_height": null,
       "min_width": null,
       "object_fit": null,
       "object_position": null,
       "order": null,
       "overflow": null,
       "overflow_x": null,
       "overflow_y": null,
       "padding": null,
       "right": null,
       "top": null,
       "visibility": null,
       "width": null
      }
     },
     "a9a926e54eb9475da96c6213bac01c20": {
      "model_module": "@jupyter-widgets/controls",
      "model_module_version": "1.5.0",
      "model_name": "HTMLModel",
      "state": {
       "_dom_classes": [],
       "_model_module": "@jupyter-widgets/controls",
       "_model_module_version": "1.5.0",
       "_model_name": "HTMLModel",
       "_view_count": null,
       "_view_module": "@jupyter-widgets/controls",
       "_view_module_version": "1.5.0",
       "_view_name": "HTMLView",
       "description": "",
       "description_tooltip": null,
       "layout": "IPY_MODEL_1e1865bed82a4c90a94b4024f9c7b585",
       "placeholder": "​",
       "style": "IPY_MODEL_e6074bcf78cb4f2eab2fd3728ecc3838",
       "value": " 1/1 [00:11&lt;00:00, 11.20s/it]"
      }
     },
     "a9f8a338fef14fa4822404f98c9e4b01": {
      "model_module": "@jupyter-widgets/controls",
      "model_module_version": "1.5.0",
      "model_name": "FloatProgressModel",
      "state": {
       "_dom_classes": [],
       "_model_module": "@jupyter-widgets/controls",
       "_model_module_version": "1.5.0",
       "_model_name": "FloatProgressModel",
       "_view_count": null,
       "_view_module": "@jupyter-widgets/controls",
       "_view_module_version": "1.5.0",
       "_view_name": "ProgressView",
       "bar_style": "success",
       "description": "",
       "description_tooltip": null,
       "layout": "IPY_MODEL_adf7c0b9f9ad4328a5caec0007d0d89c",
       "max": 1,
       "min": 0,
       "orientation": "horizontal",
       "style": "IPY_MODEL_8bc5b0e540704062bebfd2be22d96e03",
       "value": 1
      }
     },
     "aa3e16338d604e4eb9a39e0299403146": {
      "model_module": "@jupyter-widgets/base",
      "model_module_version": "1.2.0",
      "model_name": "LayoutModel",
      "state": {
       "_model_module": "@jupyter-widgets/base",
       "_model_module_version": "1.2.0",
       "_model_name": "LayoutModel",
       "_view_count": null,
       "_view_module": "@jupyter-widgets/base",
       "_view_module_version": "1.2.0",
       "_view_name": "LayoutView",
       "align_content": null,
       "align_items": null,
       "align_self": null,
       "border": null,
       "bottom": null,
       "display": null,
       "flex": null,
       "flex_flow": null,
       "grid_area": null,
       "grid_auto_columns": null,
       "grid_auto_flow": null,
       "grid_auto_rows": null,
       "grid_column": null,
       "grid_gap": null,
       "grid_row": null,
       "grid_template_areas": null,
       "grid_template_columns": null,
       "grid_template_rows": null,
       "height": null,
       "justify_content": null,
       "justify_items": null,
       "left": null,
       "margin": null,
       "max_height": null,
       "max_width": null,
       "min_height": null,
       "min_width": null,
       "object_fit": null,
       "object_position": null,
       "order": null,
       "overflow": null,
       "overflow_x": null,
       "overflow_y": null,
       "padding": null,
       "right": null,
       "top": null,
       "visibility": null,
       "width": null
      }
     },
     "aac3cc7d1f2849cebbc45462095c0a48": {
      "model_module": "@jupyter-widgets/base",
      "model_module_version": "1.2.0",
      "model_name": "LayoutModel",
      "state": {
       "_model_module": "@jupyter-widgets/base",
       "_model_module_version": "1.2.0",
       "_model_name": "LayoutModel",
       "_view_count": null,
       "_view_module": "@jupyter-widgets/base",
       "_view_module_version": "1.2.0",
       "_view_name": "LayoutView",
       "align_content": null,
       "align_items": null,
       "align_self": null,
       "border": null,
       "bottom": null,
       "display": null,
       "flex": null,
       "flex_flow": null,
       "grid_area": null,
       "grid_auto_columns": null,
       "grid_auto_flow": null,
       "grid_auto_rows": null,
       "grid_column": null,
       "grid_gap": null,
       "grid_row": null,
       "grid_template_areas": null,
       "grid_template_columns": null,
       "grid_template_rows": null,
       "height": null,
       "justify_content": null,
       "justify_items": null,
       "left": null,
       "margin": null,
       "max_height": null,
       "max_width": null,
       "min_height": null,
       "min_width": null,
       "object_fit": null,
       "object_position": null,
       "order": null,
       "overflow": null,
       "overflow_x": null,
       "overflow_y": null,
       "padding": null,
       "right": null,
       "top": null,
       "visibility": null,
       "width": null
      }
     },
     "adf7c0b9f9ad4328a5caec0007d0d89c": {
      "model_module": "@jupyter-widgets/base",
      "model_module_version": "1.2.0",
      "model_name": "LayoutModel",
      "state": {
       "_model_module": "@jupyter-widgets/base",
       "_model_module_version": "1.2.0",
       "_model_name": "LayoutModel",
       "_view_count": null,
       "_view_module": "@jupyter-widgets/base",
       "_view_module_version": "1.2.0",
       "_view_name": "LayoutView",
       "align_content": null,
       "align_items": null,
       "align_self": null,
       "border": null,
       "bottom": null,
       "display": null,
       "flex": null,
       "flex_flow": null,
       "grid_area": null,
       "grid_auto_columns": null,
       "grid_auto_flow": null,
       "grid_auto_rows": null,
       "grid_column": null,
       "grid_gap": null,
       "grid_row": null,
       "grid_template_areas": null,
       "grid_template_columns": null,
       "grid_template_rows": null,
       "height": null,
       "justify_content": null,
       "justify_items": null,
       "left": null,
       "margin": null,
       "max_height": null,
       "max_width": null,
       "min_height": null,
       "min_width": null,
       "object_fit": null,
       "object_position": null,
       "order": null,
       "overflow": null,
       "overflow_x": null,
       "overflow_y": null,
       "padding": null,
       "right": null,
       "top": null,
       "visibility": null,
       "width": null
      }
     },
     "b0790db729a74457b1d381473d748b8a": {
      "model_module": "@jupyter-widgets/base",
      "model_module_version": "1.2.0",
      "model_name": "LayoutModel",
      "state": {
       "_model_module": "@jupyter-widgets/base",
       "_model_module_version": "1.2.0",
       "_model_name": "LayoutModel",
       "_view_count": null,
       "_view_module": "@jupyter-widgets/base",
       "_view_module_version": "1.2.0",
       "_view_name": "LayoutView",
       "align_content": null,
       "align_items": null,
       "align_self": null,
       "border": null,
       "bottom": null,
       "display": null,
       "flex": null,
       "flex_flow": null,
       "grid_area": null,
       "grid_auto_columns": null,
       "grid_auto_flow": null,
       "grid_auto_rows": null,
       "grid_column": null,
       "grid_gap": null,
       "grid_row": null,
       "grid_template_areas": null,
       "grid_template_columns": null,
       "grid_template_rows": null,
       "height": null,
       "justify_content": null,
       "justify_items": null,
       "left": null,
       "margin": null,
       "max_height": null,
       "max_width": null,
       "min_height": null,
       "min_width": null,
       "object_fit": null,
       "object_position": null,
       "order": null,
       "overflow": null,
       "overflow_x": null,
       "overflow_y": null,
       "padding": null,
       "right": null,
       "top": null,
       "visibility": null,
       "width": null
      }
     },
     "b1a09a450d25455fb7d6f0fda505bb00": {
      "model_module": "@jupyter-widgets/controls",
      "model_module_version": "1.5.0",
      "model_name": "HTMLModel",
      "state": {
       "_dom_classes": [],
       "_model_module": "@jupyter-widgets/controls",
       "_model_module_version": "1.5.0",
       "_model_name": "HTMLModel",
       "_view_count": null,
       "_view_module": "@jupyter-widgets/controls",
       "_view_module_version": "1.5.0",
       "_view_name": "HTMLView",
       "description": "",
       "description_tooltip": null,
       "layout": "IPY_MODEL_6f17d9d9c82c4179a703e6b4b458dcb2",
       "placeholder": "​",
       "style": "IPY_MODEL_6d4bcb70a3e940619712a90fd9ee4cef",
       "value": " 1/1 [00:29&lt;00:00, 29.17s/it]"
      }
     },
     "b8b02491395045f5875ce167c0210c27": {
      "model_module": "@jupyter-widgets/base",
      "model_module_version": "1.2.0",
      "model_name": "LayoutModel",
      "state": {
       "_model_module": "@jupyter-widgets/base",
       "_model_module_version": "1.2.0",
       "_model_name": "LayoutModel",
       "_view_count": null,
       "_view_module": "@jupyter-widgets/base",
       "_view_module_version": "1.2.0",
       "_view_name": "LayoutView",
       "align_content": null,
       "align_items": null,
       "align_self": null,
       "border": null,
       "bottom": null,
       "display": null,
       "flex": null,
       "flex_flow": null,
       "grid_area": null,
       "grid_auto_columns": null,
       "grid_auto_flow": null,
       "grid_auto_rows": null,
       "grid_column": null,
       "grid_gap": null,
       "grid_row": null,
       "grid_template_areas": null,
       "grid_template_columns": null,
       "grid_template_rows": null,
       "height": null,
       "justify_content": null,
       "justify_items": null,
       "left": null,
       "margin": null,
       "max_height": null,
       "max_width": null,
       "min_height": null,
       "min_width": null,
       "object_fit": null,
       "object_position": null,
       "order": null,
       "overflow": null,
       "overflow_x": null,
       "overflow_y": null,
       "padding": null,
       "right": null,
       "top": null,
       "visibility": null,
       "width": null
      }
     },
     "ba18d469602341cf9a58cf3b0b22aea9": {
      "model_module": "@jupyter-widgets/controls",
      "model_module_version": "1.5.0",
      "model_name": "HTMLModel",
      "state": {
       "_dom_classes": [],
       "_model_module": "@jupyter-widgets/controls",
       "_model_module_version": "1.5.0",
       "_model_name": "HTMLModel",
       "_view_count": null,
       "_view_module": "@jupyter-widgets/controls",
       "_view_module_version": "1.5.0",
       "_view_name": "HTMLView",
       "description": "",
       "description_tooltip": null,
       "layout": "IPY_MODEL_8b71ddb9a01d466b91484d1f3e7d96af",
       "placeholder": "​",
       "style": "IPY_MODEL_2816683bca8b403393d16ddce7f61451",
       "value": "Summarize dataset: 100%"
      }
     },
     "bd08b7d0ff3a427d89a418e30f1ab16c": {
      "model_module": "@jupyter-widgets/base",
      "model_module_version": "1.2.0",
      "model_name": "LayoutModel",
      "state": {
       "_model_module": "@jupyter-widgets/base",
       "_model_module_version": "1.2.0",
       "_model_name": "LayoutModel",
       "_view_count": null,
       "_view_module": "@jupyter-widgets/base",
       "_view_module_version": "1.2.0",
       "_view_name": "LayoutView",
       "align_content": null,
       "align_items": null,
       "align_self": null,
       "border": null,
       "bottom": null,
       "display": null,
       "flex": null,
       "flex_flow": null,
       "grid_area": null,
       "grid_auto_columns": null,
       "grid_auto_flow": null,
       "grid_auto_rows": null,
       "grid_column": null,
       "grid_gap": null,
       "grid_row": null,
       "grid_template_areas": null,
       "grid_template_columns": null,
       "grid_template_rows": null,
       "height": null,
       "justify_content": null,
       "justify_items": null,
       "left": null,
       "margin": null,
       "max_height": null,
       "max_width": null,
       "min_height": null,
       "min_width": null,
       "object_fit": null,
       "object_position": null,
       "order": null,
       "overflow": null,
       "overflow_x": null,
       "overflow_y": null,
       "padding": null,
       "right": null,
       "top": null,
       "visibility": null,
       "width": null
      }
     },
     "c46b4f3793fa4e229cb30cfb2db5b75b": {
      "model_module": "@jupyter-widgets/base",
      "model_module_version": "1.2.0",
      "model_name": "LayoutModel",
      "state": {
       "_model_module": "@jupyter-widgets/base",
       "_model_module_version": "1.2.0",
       "_model_name": "LayoutModel",
       "_view_count": null,
       "_view_module": "@jupyter-widgets/base",
       "_view_module_version": "1.2.0",
       "_view_name": "LayoutView",
       "align_content": null,
       "align_items": null,
       "align_self": null,
       "border": null,
       "bottom": null,
       "display": null,
       "flex": null,
       "flex_flow": null,
       "grid_area": null,
       "grid_auto_columns": null,
       "grid_auto_flow": null,
       "grid_auto_rows": null,
       "grid_column": null,
       "grid_gap": null,
       "grid_row": null,
       "grid_template_areas": null,
       "grid_template_columns": null,
       "grid_template_rows": null,
       "height": null,
       "justify_content": null,
       "justify_items": null,
       "left": null,
       "margin": null,
       "max_height": null,
       "max_width": null,
       "min_height": null,
       "min_width": null,
       "object_fit": null,
       "object_position": null,
       "order": null,
       "overflow": null,
       "overflow_x": null,
       "overflow_y": null,
       "padding": null,
       "right": null,
       "top": null,
       "visibility": null,
       "width": null
      }
     },
     "c4aa5744ad87433dbf595d79c833656c": {
      "model_module": "@jupyter-widgets/base",
      "model_module_version": "1.2.0",
      "model_name": "LayoutModel",
      "state": {
       "_model_module": "@jupyter-widgets/base",
       "_model_module_version": "1.2.0",
       "_model_name": "LayoutModel",
       "_view_count": null,
       "_view_module": "@jupyter-widgets/base",
       "_view_module_version": "1.2.0",
       "_view_name": "LayoutView",
       "align_content": null,
       "align_items": null,
       "align_self": null,
       "border": null,
       "bottom": null,
       "display": null,
       "flex": null,
       "flex_flow": null,
       "grid_area": null,
       "grid_auto_columns": null,
       "grid_auto_flow": null,
       "grid_auto_rows": null,
       "grid_column": null,
       "grid_gap": null,
       "grid_row": null,
       "grid_template_areas": null,
       "grid_template_columns": null,
       "grid_template_rows": null,
       "height": null,
       "justify_content": null,
       "justify_items": null,
       "left": null,
       "margin": null,
       "max_height": null,
       "max_width": null,
       "min_height": null,
       "min_width": null,
       "object_fit": null,
       "object_position": null,
       "order": null,
       "overflow": null,
       "overflow_x": null,
       "overflow_y": null,
       "padding": null,
       "right": null,
       "top": null,
       "visibility": null,
       "width": null
      }
     },
     "cf0f1a3dba55429b94630faccf8f142f": {
      "model_module": "@jupyter-widgets/base",
      "model_module_version": "1.2.0",
      "model_name": "LayoutModel",
      "state": {
       "_model_module": "@jupyter-widgets/base",
       "_model_module_version": "1.2.0",
       "_model_name": "LayoutModel",
       "_view_count": null,
       "_view_module": "@jupyter-widgets/base",
       "_view_module_version": "1.2.0",
       "_view_name": "LayoutView",
       "align_content": null,
       "align_items": null,
       "align_self": null,
       "border": null,
       "bottom": null,
       "display": null,
       "flex": null,
       "flex_flow": null,
       "grid_area": null,
       "grid_auto_columns": null,
       "grid_auto_flow": null,
       "grid_auto_rows": null,
       "grid_column": null,
       "grid_gap": null,
       "grid_row": null,
       "grid_template_areas": null,
       "grid_template_columns": null,
       "grid_template_rows": null,
       "height": null,
       "justify_content": null,
       "justify_items": null,
       "left": null,
       "margin": null,
       "max_height": null,
       "max_width": null,
       "min_height": null,
       "min_width": null,
       "object_fit": null,
       "object_position": null,
       "order": null,
       "overflow": null,
       "overflow_x": null,
       "overflow_y": null,
       "padding": null,
       "right": null,
       "top": null,
       "visibility": null,
       "width": null
      }
     },
     "d047c358579f42de823c513d8b87bd54": {
      "model_module": "@jupyter-widgets/controls",
      "model_module_version": "1.5.0",
      "model_name": "ProgressStyleModel",
      "state": {
       "_model_module": "@jupyter-widgets/controls",
       "_model_module_version": "1.5.0",
       "_model_name": "ProgressStyleModel",
       "_view_count": null,
       "_view_module": "@jupyter-widgets/base",
       "_view_module_version": "1.2.0",
       "_view_name": "StyleView",
       "bar_color": null,
       "description_width": ""
      }
     },
     "e367d8585ece43f3a5a07d2baf9a7f18": {
      "model_module": "@jupyter-widgets/controls",
      "model_module_version": "1.5.0",
      "model_name": "HBoxModel",
      "state": {
       "_dom_classes": [],
       "_model_module": "@jupyter-widgets/controls",
       "_model_module_version": "1.5.0",
       "_model_name": "HBoxModel",
       "_view_count": null,
       "_view_module": "@jupyter-widgets/controls",
       "_view_module_version": "1.5.0",
       "_view_name": "HBoxView",
       "box_style": "",
       "children": [
        "IPY_MODEL_7d988be3a23740abb4b092b50a7de2b0",
        "IPY_MODEL_7dc03db759c64b779a38890f763846f6",
        "IPY_MODEL_a9a926e54eb9475da96c6213bac01c20"
       ],
       "layout": "IPY_MODEL_b0790db729a74457b1d381473d748b8a"
      }
     },
     "e4589928473345f786402b635e35a412": {
      "model_module": "@jupyter-widgets/controls",
      "model_module_version": "1.5.0",
      "model_name": "ProgressStyleModel",
      "state": {
       "_model_module": "@jupyter-widgets/controls",
       "_model_module_version": "1.5.0",
       "_model_name": "ProgressStyleModel",
       "_view_count": null,
       "_view_module": "@jupyter-widgets/base",
       "_view_module_version": "1.2.0",
       "_view_name": "StyleView",
       "bar_color": null,
       "description_width": ""
      }
     },
     "e6074bcf78cb4f2eab2fd3728ecc3838": {
      "model_module": "@jupyter-widgets/controls",
      "model_module_version": "1.5.0",
      "model_name": "DescriptionStyleModel",
      "state": {
       "_model_module": "@jupyter-widgets/controls",
       "_model_module_version": "1.5.0",
       "_model_name": "DescriptionStyleModel",
       "_view_count": null,
       "_view_module": "@jupyter-widgets/base",
       "_view_module_version": "1.2.0",
       "_view_name": "StyleView",
       "description_width": ""
      }
     },
     "ec581eeca781490e94efaccfad85d37b": {
      "model_module": "@jupyter-widgets/controls",
      "model_module_version": "1.5.0",
      "model_name": "HBoxModel",
      "state": {
       "_dom_classes": [],
       "_model_module": "@jupyter-widgets/controls",
       "_model_module_version": "1.5.0",
       "_model_name": "HBoxModel",
       "_view_count": null,
       "_view_module": "@jupyter-widgets/controls",
       "_view_module_version": "1.5.0",
       "_view_name": "HBoxView",
       "box_style": "",
       "children": [
        "IPY_MODEL_19f5b02e6d3145de9146687274a9b90d",
        "IPY_MODEL_a9f8a338fef14fa4822404f98c9e4b01",
        "IPY_MODEL_55b5e671bdc54737914052f021be0b42"
       ],
       "layout": "IPY_MODEL_1aaccbf8980a4a87b279c54c0cd6ecdd"
      }
     },
     "ede833cb0df046c5a6a4d4ccd16aa2e3": {
      "model_module": "@jupyter-widgets/controls",
      "model_module_version": "1.5.0",
      "model_name": "HTMLModel",
      "state": {
       "_dom_classes": [],
       "_model_module": "@jupyter-widgets/controls",
       "_model_module_version": "1.5.0",
       "_model_name": "HTMLModel",
       "_view_count": null,
       "_view_module": "@jupyter-widgets/controls",
       "_view_module_version": "1.5.0",
       "_view_name": "HTMLView",
       "description": "",
       "description_tooltip": null,
       "layout": "IPY_MODEL_98237f92a3e04185a26d148ebfd67b53",
       "placeholder": "​",
       "style": "IPY_MODEL_762e5b00a7ec49938287a92e9a580d19",
       "value": "100%"
      }
     },
     "f56bfc6a11e948e28d78ea2301c2f477": {
      "model_module": "@jupyter-widgets/controls",
      "model_module_version": "1.5.0",
      "model_name": "FloatProgressModel",
      "state": {
       "_dom_classes": [],
       "_model_module": "@jupyter-widgets/controls",
       "_model_module_version": "1.5.0",
       "_model_name": "FloatProgressModel",
       "_view_count": null,
       "_view_module": "@jupyter-widgets/controls",
       "_view_module_version": "1.5.0",
       "_view_name": "ProgressView",
       "bar_style": "success",
       "description": "",
       "description_tooltip": null,
       "layout": "IPY_MODEL_350e60f28d9b48938c8cd3c7a65adfc8",
       "max": 20,
       "min": 0,
       "orientation": "horizontal",
       "style": "IPY_MODEL_e4589928473345f786402b635e35a412",
       "value": 20
      }
     },
     "f599ccf3d064469b90cc2bb818d0d8cb": {
      "model_module": "@jupyter-widgets/base",
      "model_module_version": "1.2.0",
      "model_name": "LayoutModel",
      "state": {
       "_model_module": "@jupyter-widgets/base",
       "_model_module_version": "1.2.0",
       "_model_name": "LayoutModel",
       "_view_count": null,
       "_view_module": "@jupyter-widgets/base",
       "_view_module_version": "1.2.0",
       "_view_name": "LayoutView",
       "align_content": null,
       "align_items": null,
       "align_self": null,
       "border": null,
       "bottom": null,
       "display": null,
       "flex": null,
       "flex_flow": null,
       "grid_area": null,
       "grid_auto_columns": null,
       "grid_auto_flow": null,
       "grid_auto_rows": null,
       "grid_column": null,
       "grid_gap": null,
       "grid_row": null,
       "grid_template_areas": null,
       "grid_template_columns": null,
       "grid_template_rows": null,
       "height": null,
       "justify_content": null,
       "justify_items": null,
       "left": null,
       "margin": null,
       "max_height": null,
       "max_width": null,
       "min_height": null,
       "min_width": null,
       "object_fit": null,
       "object_position": null,
       "order": null,
       "overflow": null,
       "overflow_x": null,
       "overflow_y": null,
       "padding": null,
       "right": null,
       "top": null,
       "visibility": null,
       "width": null
      }
     }
    },
    "version_major": 2,
    "version_minor": 0
   }
  }
 },
 "nbformat": 4,
 "nbformat_minor": 5
}
