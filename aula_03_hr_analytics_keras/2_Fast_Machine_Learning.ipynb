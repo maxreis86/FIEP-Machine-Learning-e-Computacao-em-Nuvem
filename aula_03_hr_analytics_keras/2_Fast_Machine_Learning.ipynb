{
 "cells": [
  {
   "cell_type": "markdown",
   "id": "9b9a345b",
   "metadata": {
    "tags": []
   },
   "source": [
    "# Train and Compare Machine Learning Models\n",
    "* To succecfully run this notebook you need a python3.7 kernel with requirements in ./sagemaker-custom-image/requirements.txt"
   ]
  },
  {
   "cell_type": "markdown",
   "id": "7e1cd532",
   "metadata": {
    "papermill": {
     "duration": 0.04859,
     "end_time": "2021-04-22T18:42:32.131294",
     "exception": false,
     "start_time": "2021-04-22T18:42:32.082704",
     "status": "completed"
    },
    "tags": []
   },
   "source": [
    "## This notebook will help you to do:\n",
    "* Import train and test data\n",
    "* Run many ML algorithms using SageMaker Autopilot\n",
    "* Run many ML algorithms using H2O AutoML\n",
    "* Compare all model performance in test dataset\n",
    "* Choosing and save the best model"
   ]
  },
  {
   "cell_type": "markdown",
   "id": "bc9fc03d",
   "metadata": {
    "papermill": {
     "duration": 0.046916,
     "end_time": "2021-04-22T18:42:32.225806",
     "exception": false,
     "start_time": "2021-04-22T18:42:32.178890",
     "status": "completed"
    },
    "tags": []
   },
   "source": [
    "# 1. Parameters"
   ]
  },
  {
   "cell_type": "code",
   "execution_count": 80,
   "id": "066f3b3e",
   "metadata": {
    "papermill": {
     "duration": 0.055908,
     "end_time": "2021-04-22T18:42:32.329142",
     "exception": false,
     "start_time": "2021-04-22T18:42:32.273234",
     "status": "completed"
    },
    "tags": [],
    "vscode": {
     "languageId": "python"
    }
   },
   "outputs": [],
   "source": [
    "#Name\n",
    "ModelName = 'hr_analytics'\n",
    "#Version\n",
    "ModelVersion = 'v1'\n",
    "\n",
    "#Model ID\n",
    "ModelId = ModelName+'_'+ModelVersion\n",
    "\n",
    "#Setting the model target variable name\n",
    "VarTarget = 'is_promoted'\n",
    "VarId = 'employee_id'\n",
    "VarDate = 'reference_date'\n",
    "\n",
    "#process outputs such as MOJO model, images and performance of tested models\n",
    "OutputPath = './output_model/'\n",
    "\n",
    "#If you have a huge dataset, I should consider use a small sample for first execution\n",
    "PctSampleSize = 1\n",
    "\n",
    "CAT = ['department'\n",
    ",'region'\n",
    ",'education'\n",
    ",'gender'\n",
    ",'recruitment_channel'\n",
    ",'kpis_met_80']\n",
    "\n",
    "#float\n",
    "#Testar as variaveis no_of_trainings e previous_year_rating como categorcias e ver se melhora o modelo\n",
    "NUM = ['no_of_trainings'\n",
    ",'previous_year_rating'       \n",
    ",'age'\n",
    ",'length_of_service'\n",
    ",'avg_training_score'\n",
    "]\n",
    "selected_features = CAT + NUM"
   ]
  },
  {
   "cell_type": "markdown",
   "id": "194dae3d",
   "metadata": {
    "papermill": {
     "duration": 0.047515,
     "end_time": "2021-04-22T18:42:32.423393",
     "exception": false,
     "start_time": "2021-04-22T18:42:32.375878",
     "status": "completed"
    },
    "tags": []
   },
   "source": [
    "# 2. Import Libraries"
   ]
  },
  {
   "cell_type": "code",
   "execution_count": 81,
   "id": "d9fe0364",
   "metadata": {
    "papermill": {
     "duration": 9.765238,
     "end_time": "2021-04-22T18:42:42.235677",
     "exception": false,
     "start_time": "2021-04-22T18:42:32.470439",
     "status": "completed"
    },
    "tags": [],
    "vscode": {
     "languageId": "python"
    }
   },
   "outputs": [],
   "source": [
    "import sys\n",
    "sys.path.append('/anaconda/envs/azureml_py38/lib/python3.8/site-packages')\n",
    "\n",
    "import functools\n",
    "import os\n",
    "from time import gmtime, strftime, sleep\n",
    "import datetime as dt\n",
    "import pandas as pd\n",
    "import numpy as np\n",
    "import glob\n",
    "import boto3\n",
    "import h2o\n",
    "import matplotlib.pyplot as plt\n",
    "from sklearn import metrics\n",
    "import shutil\n",
    "import seaborn as sns\n",
    "from io import StringIO\n",
    "from sklearn.model_selection import train_test_split\n",
    "from keras import Sequential\n",
    "from keras.layers import Dense\n",
    "import warnings\n",
    "warnings.filterwarnings(\"ignore\", category=FutureWarning)"
   ]
  },
  {
   "cell_type": "markdown",
   "id": "31e39df3",
   "metadata": {
    "papermill": {
     "duration": 0.045874,
     "end_time": "2021-04-22T18:42:42.327994",
     "exception": false,
     "start_time": "2021-04-22T18:42:42.282120",
     "status": "completed"
    },
    "tags": []
   },
   "source": [
    "# 3. Importing Data for Modeling"
   ]
  },
  {
   "cell_type": "code",
   "execution_count": 82,
   "id": "9920ad81",
   "metadata": {
    "vscode": {
     "languageId": "python"
    }
   },
   "outputs": [],
   "source": [
    "dataprep_df_full = pd.read_csv('./HR_Analytics/dataprep_df.csv')\n",
    "normalized_and_dummy_df = pd.read_csv('./HR_Analytics/normalized_and_dummy_df.csv')"
   ]
  },
  {
   "cell_type": "code",
   "execution_count": 83,
   "id": "ff809ba1",
   "metadata": {
    "papermill": {
     "duration": 0.054085,
     "end_time": "2021-04-22T18:42:42.984342",
     "exception": false,
     "start_time": "2021-04-22T18:42:42.930257",
     "status": "completed"
    },
    "tags": [],
    "vscode": {
     "languageId": "python"
    }
   },
   "outputs": [],
   "source": [
    "#Work with a sample data if the PctSampleSize is less than 1\n",
    "if PctSampleSize == 1:\n",
    "    dataprep_df = dataprep_df_full.copy()\n",
    "else:\n",
    "    dataprep_df = dataprep_df_full.sample(frac=PctSampleSize, replace=False, random_state=1)\n",
    "del dataprep_df_full"
   ]
  },
  {
   "cell_type": "code",
   "execution_count": 84,
   "id": "10f40f8d",
   "metadata": {
    "papermill": {
     "duration": 1.860101,
     "end_time": "2021-04-22T18:45:15.821982",
     "exception": false,
     "start_time": "2021-04-22T18:45:13.961881",
     "status": "completed"
    },
    "tags": [],
    "vscode": {
     "languageId": "python"
    }
   },
   "outputs": [],
   "source": [
    "#Numeric features must be float type\n",
    "for col_name in NUM:\n",
    "    dataprep_df[col_name] = dataprep_df[col_name].astype(float)\n",
    "\n",
    "#Categorical features must be string type and null values will be filled with \"missing\"\n",
    "for col_name in CAT:\n",
    "    dataprep_df[col_name] = dataprep_df[col_name].astype(str)"
   ]
  },
  {
   "cell_type": "code",
   "execution_count": 85,
   "id": "db60d0ac",
   "metadata": {
    "vscode": {
     "languageId": "python"
    }
   },
   "outputs": [],
   "source": [
    "#Include the new variables\n",
    "normalized_and_dummy = []\n",
    "for i in normalized_and_dummy_df.columns:\n",
    "    if (i.startswith('dummy_')) or (i.startswith('normalized_')):\n",
    "        normalized_and_dummy.append(i)"
   ]
  },
  {
   "cell_type": "code",
   "execution_count": 86,
   "id": "a154fd86",
   "metadata": {
    "vscode": {
     "languageId": "python"
    }
   },
   "outputs": [
    {
     "data": {
      "image/png": "[encoded data removed]",
      "text/plain": [
       "<Figure size 1080x360 with 2 Axes>"
      ]
     },
     "metadata": {
      "needs_background": "light"
     },
     "output_type": "display_data"
    }
   ],
   "source": [
    "#plot the final dataset with time period, train and test definitions\n",
    "dataprep_target = dataprep_df[[VarDate, VarId, VarTarget, 'dataset']].groupby(by=[VarDate, 'dataset']).agg({VarId:'count', VarTarget:'sum'})\n",
    "dataprep_target['target_rate'] = dataprep_target[VarTarget] / dataprep_target[VarId]\n",
    "\n",
    "\n",
    "dataprep_target[VarId].plot(secondary_y=False, kind='bar', rot=90, figsize=(15,5), linewidth=2, fontsize=12, grid=True, legend=1, title=(\"# Observations / % Good Rate\"))\n",
    "ax = dataprep_target.target_rate.plot(secondary_y=True, kind=\"line\", rot=90, figsize=(15,5), linewidth=2, fontsize=12, marker=\"D\", ms=8, grid=True, color='r', legend=1)\n",
    "for p in range(len(dataprep_target)):\n",
    "    ax.annotate(str('{0:.1%}'.format(int(dataprep_target.reset_index().iloc[p,4]*1000)/1000)), (dataprep_target.reset_index().index.values[p], dataprep_target.reset_index().iloc[p,4]*1))"
   ]
  },
  {
   "cell_type": "markdown",
   "id": "6723de5a",
   "metadata": {},
   "source": [
    "## 3.1 Treatment of Numeric Missing Data"
   ]
  },
  {
   "cell_type": "code",
   "execution_count": 87,
   "id": "899aa941",
   "metadata": {
    "vscode": {
     "languageId": "python"
    }
   },
   "outputs": [],
   "source": [
    "#Create the \"Missing\" category for missing values in string vaviables\n",
    "# dataprep_df = dataprep_df.apply(lambda x: x.fillna(np.nan) if x.dtype.kind in 'biufc' else x.fillna('Missing'))"
   ]
  },
  {
   "cell_type": "code",
   "execution_count": 88,
   "id": "ecbf9803",
   "metadata": {
    "vscode": {
     "languageId": "python"
    }
   },
   "outputs": [],
   "source": [
    "#Tratamento da idade\n",
    "# dataprep_df['age_mean'] = dataprep_df['age'].fillna(dataprep_df['age'].mean())"
   ]
  },
  {
   "cell_type": "markdown",
   "id": "9ad40624",
   "metadata": {},
   "source": [
    "## 3.2 Outliers Removing"
   ]
  },
  {
   "cell_type": "code",
   "execution_count": 89,
   "id": "ed9f0165",
   "metadata": {
    "vscode": {
     "languageId": "python"
    }
   },
   "outputs": [],
   "source": [
    "# var = 'max_salary_offered_to_prev_application'\n",
    "\n",
    "# q_low = dataprep_df[var].quantile(0.00012)\n",
    "# q_hi  = dataprep_df[var].quantile(0.9999)\n",
    "# print('Low: ' + str(q_low))\n",
    "# print('High: ' + str(q_hi))\n",
    "# print('Reduction: '\n",
    "#       + \"{0:.2%}\".format(len(dataprep_df[(dataprep_df[var] <= q_hi) & (dataprep_df[var] >= q_low)])/len(dataprep_df)-1)\n",
    "#       + \" | \"\n",
    "#       + str(len(dataprep_df)-len(dataprep_df[(dataprep_df[var] <= q_hi) & (dataprep_df[var] >= q_low)])))\n",
    "\n",
    "# def plot_comparison(x, title, low, high):\n",
    "#     fig, ax = plt.subplots(3, 1, sharex=True, constrained_layout=True, figsize=(15,5))\n",
    "#     fig.suptitle(title, fontsize=16)\n",
    "#     sns.distplot(x.rename(\"\"), ax=ax[0])\n",
    "#     ax[0].set_title('Histogram + KDE')\n",
    "#     sns.boxplot(x.rename(\"\"), ax=ax[1])\n",
    "#     ax[1].set_title('Boxplot')\n",
    "#     sns.violinplot(x.rename(\"\"), ax=ax[2])\n",
    "#     ax[2].set_title('Violin plot')\n",
    "#     # only one line may be specified; full height\n",
    "#     ax[1].axvline(x = low, color = 'red')\n",
    "#     ax[1].axvline(x = high, color = 'red')\n",
    "#     plt.show()\n",
    "    \n",
    "# plot_comparison(dataprep_df[var], var, q_low, q_hi)\n",
    "\n",
    "# dataprep_df = dataprep_df[(dataprep_df[var] <= q_hi) & (dataprep_df[var] >= q_low)]"
   ]
  },
  {
   "cell_type": "markdown",
   "id": "96c5d9b2",
   "metadata": {
    "papermill": {
     "duration": 1.872284,
     "end_time": "2021-04-22T18:45:55.674812",
     "exception": false,
     "start_time": "2021-04-22T18:45:53.802528",
     "status": "completed"
    },
    "tags": []
   },
   "source": [
    "# 4. Modeling"
   ]
  },
  {
   "cell_type": "markdown",
   "id": "75140177",
   "metadata": {},
   "source": [
    "## 4.1 H2O AutoML"
   ]
  },
  {
   "cell_type": "markdown",
   "id": "60dfd052",
   "metadata": {
    "papermill": {
     "duration": 1.852401,
     "end_time": "2021-04-22T18:45:59.917491",
     "exception": false,
     "start_time": "2021-04-22T18:45:58.065090",
     "status": "completed"
    },
    "tags": []
   },
   "source": [
    "## 4.1.1 Creating context and H2O and Importing data into the H2O context"
   ]
  },
  {
   "cell_type": "code",
   "execution_count": 11,
   "id": "76d4da38",
   "metadata": {
    "papermill": {
     "duration": 9.429937,
     "end_time": "2021-04-22T18:46:11.178938",
     "exception": false,
     "start_time": "2021-04-22T18:46:01.749001",
     "status": "completed"
    },
    "tags": [],
    "vscode": {
     "languageId": "python"
    }
   },
   "outputs": [
    {
     "name": "stdout",
     "output_type": "stream",
     "text": [
      "Checking whether there is an H2O instance running at http://localhost:54321 ..... not found.\n",
      "Attempting to start a local H2O server...\n",
      "  Java Version: openjdk version \"11.0.17\" 2022-10-18; OpenJDK Runtime Environment (build 11.0.17+8-post-Ubuntu-1ubuntu220.04); OpenJDK 64-Bit Server VM (build 11.0.17+8-post-Ubuntu-1ubuntu220.04, mixed mode, sharing)\n",
      "  Starting server from /anaconda/envs/azureml_py38/lib/python3.8/site-packages/h2o/backend/bin/h2o.jar\n",
      "  Ice root: /tmp/tmpx723885p\n",
      "  JVM stdout: /tmp/tmpx723885p/h2o_azureuser_started_from_python.out\n",
      "  JVM stderr: /tmp/tmpx723885p/h2o_azureuser_started_from_python.err\n",
      "  Server is running at http://127.0.0.1:54321\n",
      "Connecting to H2O server at http://127.0.0.1:54321 ... successful.\n",
      "Warning: Your H2O cluster version is too old (5 months and 6 days)!Please download and install the latest version from http://h2o.ai/download/\n"
     ]
    },
    {
     "data": {
      "text/html": [
       "<div style=\"overflow:auto\"><table style=\"width:50%\"><tr><td>H2O_cluster_uptime:</td>\n",
       "<td>08 secs</td></tr>\n",
       "<tr><td>H2O_cluster_timezone:</td>\n",
       "<td>Etc/UTC</td></tr>\n",
       "<tr><td>H2O_data_parsing_timezone:</td>\n",
       "<td>UTC</td></tr>\n",
       "<tr><td>H2O_cluster_version:</td>\n",
       "<td>3.36.1.3</td></tr>\n",
       "<tr><td>H2O_cluster_version_age:</td>\n",
       "<td>5 months and 6 days !!!</td></tr>\n",
       "<tr><td>H2O_cluster_name:</td>\n",
       "<td>H2O_from_python_azureuser_yjvvps</td></tr>\n",
       "<tr><td>H2O_cluster_total_nodes:</td>\n",
       "<td>1</td></tr>\n",
       "<tr><td>H2O_cluster_free_memory:</td>\n",
       "<td>13.73 Gb</td></tr>\n",
       "<tr><td>H2O_cluster_total_cores:</td>\n",
       "<td>6</td></tr>\n",
       "<tr><td>H2O_cluster_allowed_cores:</td>\n",
       "<td>6</td></tr>\n",
       "<tr><td>H2O_cluster_status:</td>\n",
       "<td>locked, healthy</td></tr>\n",
       "<tr><td>H2O_connection_url:</td>\n",
       "<td>http://127.0.0.1:54321</td></tr>\n",
       "<tr><td>H2O_connection_proxy:</td>\n",
       "<td>{\"http\": null, \"https\": null}</td></tr>\n",
       "<tr><td>H2O_internal_security:</td>\n",
       "<td>False</td></tr>\n",
       "<tr><td>Python_version:</td>\n",
       "<td>3.8.5 final</td></tr></table></div>"
      ],
      "text/plain": [
       "--------------------------  --------------------------------\n",
       "H2O_cluster_uptime:         08 secs\n",
       "H2O_cluster_timezone:       Etc/UTC\n",
       "H2O_data_parsing_timezone:  UTC\n",
       "H2O_cluster_version:        3.36.1.3\n",
       "H2O_cluster_version_age:    5 months and 6 days !!!\n",
       "H2O_cluster_name:           H2O_from_python_azureuser_yjvvps\n",
       "H2O_cluster_total_nodes:    1\n",
       "H2O_cluster_free_memory:    13.73 Gb\n",
       "H2O_cluster_total_cores:    6\n",
       "H2O_cluster_allowed_cores:  6\n",
       "H2O_cluster_status:         locked, healthy\n",
       "H2O_connection_url:         http://127.0.0.1:54321\n",
       "H2O_connection_proxy:       {\"http\": null, \"https\": null}\n",
       "H2O_internal_security:      False\n",
       "Python_version:             3.8.5 final\n",
       "--------------------------  --------------------------------"
      ]
     },
     "metadata": {},
     "output_type": "display_data"
    }
   ],
   "source": [
    "# Number of threads, nthreads = -1, means use all cores on your machine\n",
    "# max_mem_size is the maximum memory (in GB) to allocate to H2O\n",
    "# h2o.init(nthreads = -1, max_mem_size = '4G')\n",
    "h2o.init(nthreads = -1)"
   ]
  },
  {
   "cell_type": "code",
   "execution_count": 46,
   "id": "02669d63",
   "metadata": {
    "papermill": {
     "duration": 6.347148,
     "end_time": "2021-04-22T18:46:19.457051",
     "exception": false,
     "start_time": "2021-04-22T18:46:13.109903",
     "status": "completed"
    },
    "tags": [],
    "vscode": {
     "languageId": "python"
    }
   },
   "outputs": [
    {
     "name": "stdout",
     "output_type": "stream",
     "text": [
      "Parse progress: |████████████████████████████████████████████████████████████████| (done) 100%\n",
      "Training: 38480\n",
      "Validation: 4338\n"
     ]
    }
   ],
   "source": [
    "#Import TRAINING base to the H20 context\n",
    "data_hdf = h2o.H2OFrame(dataprep_df.query('dataset == \"train\"').loc[:, (selected_features+[VarTarget])])\n",
    "\n",
    "# Conversion of Target variables and categorical features to factor (enum)\n",
    "#no H2O it is necessary that the categorical variables are transformed into a factor\n",
    "data_hdf[VarTarget] = data_hdf[VarTarget].asfactor()\n",
    "for col_name in CAT:\n",
    "    data_hdf[col_name] = data_hdf[col_name].asfactor()\n",
    "for col_name in NUM:\n",
    "    data_hdf[col_name] = data_hdf[col_name].asnumeric()\n",
    "    \n",
    "# Partition data into 90%, 10% chunks\n",
    "# Setting a seed will guarantee reproducibility\n",
    "train_hdf, valid_hdf = data_hdf.split_frame(ratios=[0.90], destination_frames=['train_hdf', 'valid_hdf'], seed=1)\n",
    "        \n",
    "#Notice that `split_frame()` uses approximate splitting not exact splitting (for efficiency), so these are not exactly 90%, 10% of the total rows.\n",
    "print('Training: ' + str(train_hdf.nrow))\n",
    "print('Validation: ' + str(valid_hdf.nrow))"
   ]
  },
  {
   "cell_type": "code",
   "execution_count": 47,
   "id": "d29d63d7",
   "metadata": {
    "papermill": {
     "duration": 2.207041,
     "end_time": "2021-04-22T18:46:25.310701",
     "exception": false,
     "start_time": "2021-04-22T18:46:23.103660",
     "status": "completed"
    },
    "tags": [],
    "vscode": {
     "languageId": "python"
    }
   },
   "outputs": [
    {
     "name": "stdout",
     "output_type": "stream",
     "text": [
      "Parse progress: |████████████████████████████████████████████████████████████████| (done) 100%\n",
      "Test: 10751\n"
     ]
    }
   ],
   "source": [
    "#Import TEST base to the H20 context\n",
    "test_hdf = h2o.H2OFrame(dataprep_df.query('dataset == \"test\"').loc[:, (selected_features+[VarTarget])])\n",
    "\n",
    "# Conversion of Target variables and categorical features to factor (enum)\n",
    "#no H2O it is necessary that the categorical variables are transformed into a factor\n",
    "test_hdf[VarTarget] = test_hdf[VarTarget].asfactor()\n",
    "for col_name in CAT:\n",
    "    test_hdf[col_name] = test_hdf[col_name].asfactor()\n",
    "for col_name in NUM:\n",
    "    test_hdf[col_name] = test_hdf[col_name].asnumeric()\n",
    "    \n",
    "print('Test: ' + str(test_hdf.nrow))"
   ]
  },
  {
   "cell_type": "markdown",
   "id": "9b486e68",
   "metadata": {
    "papermill": {
     "duration": 2.256133,
     "end_time": "2021-04-22T18:46:29.610706",
     "exception": false,
     "start_time": "2021-04-22T18:46:27.354573",
     "status": "completed"
    },
    "tags": []
   },
   "source": [
    "## 4.1.2 Using H2O AutoML to performe all algorithms"
   ]
  },
  {
   "cell_type": "code",
   "execution_count": null,
   "id": "bddbf265",
   "metadata": {
    "papermill": {
     "duration": 1235.649013,
     "end_time": "2021-04-22T19:08:07.242503",
     "exception": false,
     "start_time": "2021-04-22T18:47:31.593490",
     "status": "completed"
    },
    "tags": [],
    "vscode": {
     "languageId": "python"
    }
   },
   "outputs": [
    {
     "name": "stdout",
     "output_type": "stream",
     "text": [
      "AutoML progress: |\n",
      "02:11:56.388: User specified a validation frame with cross-validation still enabled. Please note that the models will still be validated using cross-validation only, the validation frame will be used to provide purely informative validation metrics on the trained models.\n",
      "\n",
      "████████████████████████████████"
     ]
    }
   ],
   "source": [
    "##H2O Parameters:\n",
    "\n",
    "vModel='AUTOML'\n",
    "\n",
    "#Set the maximum time in seconds for the H20 AutoML\n",
    "max_runtime_secs=60*60*8\n",
    "\n",
    "#Define metrics to select the best model in AutoML\n",
    "sort_metric = 'AUCPR'\n",
    "\n",
    "#Execution time of the model\n",
    "start = dt.datetime.now()\n",
    "\n",
    "from h2o.automl import H2OAutoML\n",
    "AUTOML = H2OAutoML(seed=1,\n",
    "#                    exclude_algos=[\"StackedEnsemble\"],\n",
    "                   max_runtime_secs = max_runtime_secs,\n",
    "                   stopping_metric = sort_metric,\n",
    "                   sort_metric = sort_metric)\n",
    "AUTOML.train(x=selected_features, y=VarTarget, training_frame = train_hdf, validation_frame = valid_hdf, leaderboard_frame=test_hdf)\n",
    "\n",
    "#Execution time of the model\n",
    "stop = dt.datetime.now()\n",
    "execution_time = stop-start\n",
    "print(\"\\n\"+ \"Execution time: \" + str(execution_time) + \"\\n\")"
   ]
  },
  {
   "cell_type": "code",
   "execution_count": null,
   "id": "2735c200",
   "metadata": {
    "tags": [],
    "vscode": {
     "languageId": "python"
    }
   },
   "outputs": [],
   "source": [
    "#View the AutoML Leaderboard\n",
    "lb = AUTOML.leaderboard\n",
    "print(lb.head(rows=lb.nrows))"
   ]
  },
  {
   "cell_type": "code",
   "execution_count": null,
   "id": "3cb6bf62",
   "metadata": {
    "papermill": {
     "duration": 2.774434,
     "end_time": "2021-04-22T19:08:12.096956",
     "exception": false,
     "start_time": "2021-04-22T19:08:09.322522",
     "status": "completed"
    },
    "tags": [],
    "vscode": {
     "languageId": "python"
    }
   },
   "outputs": [],
   "source": [
    "#Choose the desired AutoML model\n",
    "best_automl_position=0\n",
    "if len(AUTOML.leaderboard) > 0:\n",
    "    best_AutoML = h2o.get_model(AUTOML.leaderboard[best_automl_position, 0])\n",
    "    # print(best_AutoML)"
   ]
  },
  {
   "cell_type": "code",
   "execution_count": null,
   "id": "56a519c7",
   "metadata": {
    "vscode": {
     "languageId": "python"
    }
   },
   "outputs": [],
   "source": [
    "#Save all models in H20 format\n",
    "h2o.save_model(model=best_AutoML, path='%s/models/candidates/' % OutputPath, force=True)\n",
    "#calculate o KS in test dataset\n",
    "h2o_predict = best_AutoML.predict(test_hdf)\n",
    "data = h2o_predict.cbind(test_hdf[VarTarget]).as_data_frame()\n",
    "data['target0'] = 1 - data[VarTarget]\n",
    "data['bucket'] = pd.qcut(data['p1'], 10, duplicates='drop', labels=False)\n",
    "grouped = data.groupby('bucket', as_index=False)\n",
    "kstable = pd.DataFrame()\n",
    "kstable['min_prob'] = grouped.min()['p1']\n",
    "kstable['max_prob'] = grouped.max()['p1']\n",
    "kstable['events'] = grouped.sum()[VarTarget]\n",
    "kstable['nonevents'] = grouped.sum()['target0']    \n",
    "kstable = kstable.sort_values(by=\"min_prob\", ascending=False).reset_index(drop=True)\n",
    "kstable['event_rate'] = (kstable.events / data[VarTarget].sum()).apply('{0:.2%}'.format)\n",
    "kstable['nonevent_rate'] = (kstable.nonevents / data['target0'].sum()).apply('{0:.2%}'.format)\n",
    "kstable['cum_eventrate'] = (kstable.events / data[VarTarget].sum()).cumsum()\n",
    "kstable['cum_noneventrate'] = (kstable.nonevents / data['target0'].sum()).cumsum()\n",
    "kstable['KS'] = np.round(kstable['cum_eventrate'] - kstable['cum_noneventrate'], 3)\n",
    "ks = kstable['KS'].max()\n",
    "\n",
    "#Ascertain the performance of all models on the test base\n",
    "performance = best_AutoML.model_performance(test_hdf)\n",
    "\n",
    "#Salve metrics\n",
    "f=open(\"%s/models/candidates/performance_%s.csv\" % (OutputPath, best_AutoML.model_id), 'w')\n",
    "f.write(\n",
    "    str(best_AutoML.model_id) + \";\"\n",
    "    + str(performance.accuracy()[0][0]) + \";\"\n",
    "    + str(performance.auc()) + ';'\n",
    "    + str(performance.aucpr()) + ';'\n",
    "    + str(performance.logloss()) + ';'\n",
    "    + str(ks) + ';'\n",
    "    + str(performance.F1()[0][0]))\n",
    "f.write('\\n')\n",
    "f.close()\n",
    "\n",
    "#graph with the ROC curve of all models\n",
    "fpr = performance.fprs\n",
    "tpr = performance.tprs\n",
    "plt.plot(fpr, tpr, lw=2, label=best_AutoML.model_id.split(\"_\")[0]+\"_\"+best_AutoML.model_id.split(\"_\")[1]+\"_\"+best_AutoML.model_id.split(\"_\")[2])\n",
    "plt.title(\"ROC Curve for Model (Test dataset)\")"
   ]
  },
  {
   "cell_type": "code",
   "execution_count": null,
   "id": "755ffff0-f8fa-4db5-a22c-1004c2d0b2ac",
   "metadata": {},
   "outputs": [],
   "source": [
    "df_plot = pd.DataFrame({'Model_id': 'H2O AutoML',\n",
    "                        'AUC': int(performance.auc()*100)/100,\n",
    "                        'F1': int(performance.F1()[0][0]*100)/100,\n",
    "                        'Accuracy': int(performance.accuracy()[0][0]*100)/100\n",
    "                        }, index=[0])"
   ]
  },
  {
   "cell_type": "markdown",
   "id": "8056588e-1af0-4690-b530-02ef3987e5af",
   "metadata": {},
   "source": [
    "## 4.1.3 H2O Submision dataset"
   ]
  },
  {
   "cell_type": "code",
   "execution_count": null,
   "id": "ae627e11-e5e1-4dd8-b89d-29b736e13395",
   "metadata": {
    "tags": []
   },
   "outputs": [],
   "source": [
    "submission_df = pd.read_csv('./HR_Analytics/submission_df.csv')\n",
    "submission_df"
   ]
  },
  {
   "cell_type": "code",
   "execution_count": null,
   "id": "8da44ec8-06c0-4833-80f3-095a36a82a4c",
   "metadata": {},
   "outputs": [],
   "source": [
    "path_model_mojo = best_AutoML.download_mojo('%s/models/best/' % OutputPath, get_genmodel_jar=True)\n",
    "path_model_mojo"
   ]
  },
  {
   "cell_type": "code",
   "execution_count": null,
   "id": "43b48f56-73e5-410e-91ec-6e935ee263c6",
   "metadata": {},
   "outputs": [],
   "source": [
    "#Importar MOJO\n",
    "submission_df_tmp = h2o.mojo_predict_pandas(submission_df, path_model_mojo)    \n",
    "predict_df = submission_df.merge(submission_df_tmp, left_index=True, right_index=True)\n",
    "    \n",
    "predict_df.rename(columns={'predict':'is_promoted'}, inplace=True)\n",
    "predict_df = predict_df.reset_index(drop=True)"
   ]
  },
  {
   "cell_type": "code",
   "execution_count": null,
   "id": "c555514e-61fc-4074-b00e-28a94147c7d8",
   "metadata": {},
   "outputs": [],
   "source": [
    "predict_df.loc[:, (VarId, VarTarget)].to_csv('./HR_Analytics/results/H2O_AutoML_submission.csv', index=False)\n",
    "predict_df[VarTarget].value_counts()"
   ]
  },
  {
   "cell_type": "markdown",
   "id": "76626f6b",
   "metadata": {},
   "source": [
    "## 4.2 Keras"
   ]
  },
  {
   "cell_type": "code",
   "execution_count": 194,
   "id": "86d2fd06",
   "metadata": {
    "vscode": {
     "languageId": "python"
    }
   },
   "outputs": [
    {
     "name": "stdout",
     "output_type": "stream",
     "text": [
      "shape of x train: (46885, 53)\n",
      "shape of y train: (46885,)\n"
     ]
    }
   ],
   "source": [
    "x_train = normalized_and_dummy_df.query('dataset == \"train\"').loc[:, (normalized_and_dummy)].to_numpy()\n",
    "y_train = normalized_and_dummy_df.query('dataset == \"train\"').loc[:, (VarTarget)].to_numpy()\n",
    "print(\"shape of x train: {}\\nshape of y train: {}\".format(x_train.shape, y_train.shape))"
   ]
  },
  {
   "cell_type": "code",
   "execution_count": 195,
   "id": "9dec4371-cb8a-4b3c-9663-7d5f177310a0",
   "metadata": {},
   "outputs": [
    {
     "name": "stdout",
     "output_type": "stream",
     "text": [
      "shape of x test: (6684, 53)\n",
      "shape of y test: (6684,)\n"
     ]
    }
   ],
   "source": [
    "x_test = normalized_and_dummy_df.query('dataset == \"test\"').loc[:, (normalized_and_dummy)].to_numpy()\n",
    "y_test = normalized_and_dummy_df.query('dataset == \"test\"').loc[:, (VarTarget)].to_numpy()\n",
    "print(\"shape of x test: {}\\nshape of y test: {}\".format(x_test.shape,y_test.shape))"
   ]
  },
  {
   "cell_type": "code",
   "execution_count": 196,
   "id": "fa9fe098-b87d-495b-879b-4d810892387a",
   "metadata": {},
   "outputs": [],
   "source": [
    "from tensorflow.keras.models import Sequential\n",
    "from tensorflow.keras.layers import Input, Dense, Dropout\n",
    "from tensorflow.keras.optimizers import Adam, SGD"
   ]
  },
  {
   "cell_type": "code",
   "execution_count": 197,
   "id": "f1af05c6-4cfe-4181-a994-187670580696",
   "metadata": {},
   "outputs": [
    {
     "name": "stdout",
     "output_type": "stream",
     "text": [
      "GPU name:  [PhysicalDevice(name='/physical_device:GPU:0', device_type='GPU')]\n"
     ]
    }
   ],
   "source": [
    "print('GPU name: ', tensorflow.config.experimental.list_physical_devices('GPU'))"
   ]
  },
  {
   "cell_type": "code",
   "execution_count": 198,
   "id": "f04541eb-0143-4262-9580-017f0e376ab5",
   "metadata": {},
   "outputs": [
    {
     "name": "stdout",
     "output_type": "stream",
     "text": [
      "Model: \"sequential_7\"\n",
      "_________________________________________________________________\n",
      " Layer (type)                Output Shape              Param #   \n",
      "=================================================================\n",
      " dense_19 (Dense)            (None, 256)               13824     \n",
      "                                                                 \n",
      " dense_20 (Dense)            (None, 256)               65792     \n",
      "                                                                 \n",
      " dense_21 (Dense)            (None, 1)                 257       \n",
      "                                                                 \n",
      "=================================================================\n",
      "Total params: 79,873\n",
      "Trainable params: 79,873\n",
      "Non-trainable params: 0\n",
      "_________________________________________________________________\n"
     ]
    }
   ],
   "source": [
    "model_keras = Sequential()\n",
    "model_keras.add(Dense(256, activation = 'relu', input_dim = 53))\n",
    "model_keras.add(Dense(256, activation = 'relu'))\n",
    "model_keras.add(Dense(1))\n",
    "model_keras.compile(optimizer = 'adam', loss = 'mae', metrics = ['accuracy'])\n",
    "model_keras.summary()"
   ]
  },
  {
   "cell_type": "code",
   "execution_count": 199,
   "id": "35117732-b2f1-4e2d-acc9-890e78b78fd3",
   "metadata": {},
   "outputs": [
    {
     "name": "stdout",
     "output_type": "stream",
     "text": [
      "Epoch 1/10\n",
      "1117/1117 [==============================] - 3s 3ms/step - loss: 0.0907 - accuracy: 0.9146 - val_loss: 0.0896 - val_accuracy: 0.9116\n",
      "Epoch 2/10\n",
      "1117/1117 [==============================] - 3s 2ms/step - loss: 0.0862 - accuracy: 0.9146 - val_loss: 0.0891 - val_accuracy: 0.9116\n",
      "Epoch 3/10\n",
      "1117/1117 [==============================] - 3s 2ms/step - loss: 0.0846 - accuracy: 0.9154 - val_loss: 0.0805 - val_accuracy: 0.9218\n",
      "Epoch 4/10\n",
      "1117/1117 [==============================] - 3s 2ms/step - loss: 0.0765 - accuracy: 0.9242 - val_loss: 0.0754 - val_accuracy: 0.9265\n",
      "Epoch 5/10\n",
      "1117/1117 [==============================] - 3s 2ms/step - loss: 0.0728 - accuracy: 0.9295 - val_loss: 0.0719 - val_accuracy: 0.9354\n",
      "Epoch 6/10\n",
      "1117/1117 [==============================] - 3s 2ms/step - loss: 0.0685 - accuracy: 0.9355 - val_loss: 0.0656 - val_accuracy: 0.9370\n",
      "Epoch 7/10\n",
      "1117/1117 [==============================] - 3s 2ms/step - loss: 0.0646 - accuracy: 0.9386 - val_loss: 0.0640 - val_accuracy: 0.9424\n",
      "Epoch 8/10\n",
      "1117/1117 [==============================] - 3s 2ms/step - loss: 0.0632 - accuracy: 0.9395 - val_loss: 0.0642 - val_accuracy: 0.9388\n",
      "Epoch 9/10\n",
      "1117/1117 [==============================] - 3s 2ms/step - loss: 0.0622 - accuracy: 0.9405 - val_loss: 0.0631 - val_accuracy: 0.9418\n",
      "Epoch 10/10\n",
      "1117/1117 [==============================] - 3s 2ms/step - loss: 0.0618 - accuracy: 0.9404 - val_loss: 0.0614 - val_accuracy: 0.9408\n",
      "CPU times: user 41.8 s, sys: 8.17 s, total: 49.9 s\n",
      "Wall time: 27.4 s\n"
     ]
    },
    {
     "data": {
      "text/plain": [
       "<keras.callbacks.History at 0x7f91d4763820>"
      ]
     },
     "execution_count": 199,
     "metadata": {},
     "output_type": "execute_result"
    }
   ],
   "source": [
    "%%time\n",
    "model_keras.fit(x=x_train, y=y_train, batch_size=42, epochs=10, validation_data=(x_test, y_test))"
   ]
  },
  {
   "cell_type": "code",
   "execution_count": 173,
   "id": "63ebf1c7-8c4d-4441-9555-67e6febd0688",
   "metadata": {},
   "outputs": [
    {
     "name": "stdout",
     "output_type": "stream",
     "text": [
      "209/209 [==============================] - 0s 1ms/step\n"
     ]
    }
   ],
   "source": [
    "#predict using model.predict\n",
    "predictions = model_keras.predict(x_test)"
   ]
  },
  {
   "cell_type": "code",
   "execution_count": 182,
   "id": "95df0fe8-f73b-4d83-92f2-d3b218df8696",
   "metadata": {},
   "outputs": [],
   "source": [
    "#get the classes from the prediction\n",
    "y_predicted = predictions\n",
    "y_predicted[y_predicted <= 0.5] = 0\n",
    "y_predicted[y_predicted > 0.5] = 1"
   ]
  },
  {
   "cell_type": "code",
   "execution_count": 200,
   "id": "4768eb15-16d4-4acb-89e2-fd3176bc8257",
   "metadata": {},
   "outputs": [
    {
     "data": {
      "image/png": "[encoded data removed]",
      "text/plain": [
       "<Figure size 432x288 with 2 Axes>"
      ]
     },
     "metadata": {
      "needs_background": "light"
     },
     "output_type": "display_data"
    },
    {
     "data": {
      "image/png": "[encoded data removed]",
      "text/plain": [
       "<Figure size 432x288 with 2 Axes>"
      ]
     },
     "metadata": {
      "needs_background": "light"
     },
     "output_type": "display_data"
    }
   ],
   "source": [
    "keras_predict_df = pd.DataFrame(y_test, columns=['test_actual'])\n",
    "keras_predict_df['test_predicted'] = y_predicted\n",
    "keras_predict_df['test_predicted'] = keras_predict_df['test_predicted'].astype(int)\n",
    "keras_predict_df.reset_index().groupby(['test_actual', 'test_predicted']).count()[['index']].reset_index().pivot(index='test_actual', columns='test_predicted', values='index').sort_values(by=['test_actual'], ascending=False)\n",
    "df_matrix = keras_predict_df.reset_index().groupby(['test_actual', 'test_predicted']).count()[['index']].reset_index().pivot(index='test_actual', columns='test_predicted', values='index').sort_values(by=['test_actual'], ascending=False).loc[:,(1,0)]\n",
    "sns.heatmap(df_matrix, annot=True, center=True,cmap='Blues', fmt='g')\n",
    "plt.show()\n",
    "sns.heatmap(df_matrix/np.sum(df_matrix), annot=True,\n",
    "            fmt='.2%', cmap='Blues')\n",
    "plt.show()"
   ]
  },
  {
   "cell_type": "code",
   "execution_count": 203,
   "id": "5da1222e-c401-4ef2-b067-b564357aa64e",
   "metadata": {},
   "outputs": [],
   "source": [
    "from sklearn.metrics import accuracy_score, roc_auc_score, f1_score\n",
    "df_plot = df_plot.append(pd.DataFrame({'Model_id': 'Keras_GPU',\n",
    "                            'AUC': int(roc_auc_score(y_test, y_predicted)*100)/100,\n",
    "                            'F1': int(f1_score(y_test, y_predicted)*100)/100,\n",
    "                            'Accuracy': int(accuracy_score(y_test, y_predicted)*100)/100\n",
    "                            }, index=[0]))"
   ]
  },
  {
   "cell_type": "markdown",
   "id": "98fabbfa-6a47-4e02-8207-316e37260bf6",
   "metadata": {},
   "source": [
    "## 4.2.1 Keras Submision dataset"
   ]
  },
  {
   "cell_type": "code",
   "execution_count": 233,
   "id": "3c6acf5c-7b46-42a2-a309-f64b091b7479",
   "metadata": {
    "tags": []
   },
   "outputs": [],
   "source": [
    "submission_normalized_and_dummy_df = pd.read_csv('./HR_Analytics/submission_normalized_and_dummy_df.csv')\n",
    "x_submission = submission_normalized_and_dummy_df.loc[:, (normalized_and_dummy)].to_numpy()"
   ]
  },
  {
   "cell_type": "code",
   "execution_count": 234,
   "id": "73eb23a8-accb-497a-aa7c-c2a72b119d17",
   "metadata": {},
   "outputs": [
    {
     "name": "stdout",
     "output_type": "stream",
     "text": [
      "735/735 [==============================] - 1s 1ms/step\n"
     ]
    }
   ],
   "source": [
    "y_submission = model_keras.predict(x_submission)\n",
    "y_submission[y_submission <= 0.5] = 0\n",
    "y_submission[y_submission > 0.5] = 1"
   ]
  },
  {
   "cell_type": "code",
   "execution_count": 235,
   "id": "24a13446-53b8-42d6-94a8-0b8f2d8d1519",
   "metadata": {},
   "outputs": [
    {
     "data": {
      "text/plain": [
       "0    22900\n",
       "1      590\n",
       "Name: is_promoted, dtype: int64"
      ]
     },
     "execution_count": 235,
     "metadata": {},
     "output_type": "execute_result"
    }
   ],
   "source": [
    "submission_normalized_and_dummy_df[VarTarget] = y_submission\n",
    "submission_normalized_and_dummy_df[VarTarget] = submission_normalized_and_dummy_df[VarTarget].astype(int)\n",
    "submission_normalized_and_dummy_df.loc[:, (VarId, VarTarget)].loc[:, (VarId, VarTarget)].to_csv('./HR_Analytics/results/Keras_submission.csv', index=False)\n",
    "submission_normalized_and_dummy_df[VarTarget].value_counts()"
   ]
  },
  {
   "cell_type": "markdown",
   "id": "795c2ca5-5ef9-4074-a85d-d1a37396d561",
   "metadata": {},
   "source": [
    "## 4.3 XGBosst"
   ]
  },
  {
   "cell_type": "code",
   "execution_count": 91,
   "id": "51f23707-5050-4572-84a7-c4fc889a9039",
   "metadata": {},
   "outputs": [
    {
     "name": "stdout",
     "output_type": "stream",
     "text": [
      "[00:16:03] WARNING: /mnt/xgboost/src/learner.cc:1061: Starting in XGBoost 1.3.0, the default evaluation metric used with the objective 'multi:softprob' was changed from 'merror' to 'mlogloss'. Explicitly set eval_metric if you'd like to restore the old behavior.\n"
     ]
    },
    {
     "name": "stderr",
     "output_type": "stream",
     "text": [
      "/anaconda/envs/azureml_py38/lib/python3.8/site-packages/xgboost/sklearn.py:888: UserWarning: The use of label encoder in XGBClassifier is deprecated and will be removed in a future release. To remove this warning, do the following: 1) Pass option use_label_encoder=False when constructing XGBClassifier object; and 2) Encode your labels (y) as integers starting with 0, i.e. 0, 1, 2, ..., [num_class - 1].\n",
      "  warnings.warn(label_encoder_deprecation_msg, UserWarning)\n"
     ]
    }
   ],
   "source": [
    "from xgboost import XGBClassifier\n",
    "# read data\n",
    "from sklearn.datasets import load_iris\n",
    "from sklearn.model_selection import train_test_split\n",
    "data = load_iris()\n",
    "X_train, X_test, y_train, y_test = train_test_split(data['data'], data['target'], test_size=.2)\n",
    "# create model instance\n",
    "bst = XGBClassifier(n_estimators=2, max_depth=2, learning_rate=1, objective='binary:logistic')\n",
    "# fit model\n",
    "bst.fit(X_train, y_train)\n",
    "# make predictions\n",
    "preds = bst.predict(X_test)"
   ]
  },
  {
   "cell_type": "code",
   "execution_count": 93,
   "id": "e62f1b41-fe3a-4364-8c5b-ec350b342818",
   "metadata": {
    "collapsed": true,
    "jupyter": {
     "outputs_hidden": true
    },
    "tags": []
   },
   "outputs": [
    {
     "name": "stdout",
     "output_type": "stream",
     "text": [
      "Collecting hyperopt\n",
      "  Downloading hyperopt-0.2.7-py2.py3-none-any.whl (1.6 MB)\n",
      "\u001b[2K     \u001b[90m━━━━━━━━━━━━━━━━━━━━━━━━━━━━━━━━━━━━━━━━\u001b[0m \u001b[32m1.6/1.6 MB\u001b[0m \u001b[31m11.5 MB/s\u001b[0m eta \u001b[36m0:00:00\u001b[0m00:01\u001b[0m\n",
      "\u001b[?25hRequirement already satisfied: cloudpickle in /anaconda/envs/azureml_py38_PT_TF/lib/python3.8/site-packages (from hyperopt) (2.2.0)\n",
      "Requirement already satisfied: scipy in /anaconda/envs/azureml_py38_PT_TF/lib/python3.8/site-packages (from hyperopt) (1.9.3)\n",
      "Requirement already satisfied: tqdm in /anaconda/envs/azureml_py38_PT_TF/lib/python3.8/site-packages (from hyperopt) (4.64.1)\n",
      "Requirement already satisfied: six in /anaconda/envs/azureml_py38_PT_TF/lib/python3.8/site-packages (from hyperopt) (1.16.0)\n",
      "Collecting py4j\n",
      "  Downloading py4j-0.10.9.7-py2.py3-none-any.whl (200 kB)\n",
      "\u001b[2K     \u001b[90m━━━━━━━━━━━━━━━━━━━━━━━━━━━━━━━━━━━━━━━\u001b[0m \u001b[32m200.5/200.5 kB\u001b[0m \u001b[31m8.1 MB/s\u001b[0m eta \u001b[36m0:00:00\u001b[0m\n",
      "\u001b[?25hCollecting networkx>=2.2\n",
      "  Downloading networkx-2.8.8-py3-none-any.whl (2.0 MB)\n",
      "\u001b[2K     \u001b[90m━━━━━━━━━━━━━━━━━━━━━━━━━━━━━━━━━━━━━━━━\u001b[0m \u001b[32m2.0/2.0 MB\u001b[0m \u001b[31m18.5 MB/s\u001b[0m eta \u001b[36m0:00:00\u001b[0m:00:01\u001b[0m\n",
      "\u001b[?25hRequirement already satisfied: future in /anaconda/envs/azureml_py38_PT_TF/lib/python3.8/site-packages (from hyperopt) (0.18.2)\n",
      "Requirement already satisfied: numpy in /anaconda/envs/azureml_py38_PT_TF/lib/python3.8/site-packages (from hyperopt) (1.23.4)\n",
      "Installing collected packages: py4j, networkx, hyperopt\n",
      "Successfully installed hyperopt-0.2.7 networkx-2.8.8 py4j-0.10.9.7\n",
      "Note: you may need to restart the kernel to use updated packages.\n"
     ]
    }
   ],
   "source": [
    "%pip install hyperopt"
   ]
  },
  {
   "cell_type": "code",
   "execution_count": 116,
   "id": "d833fdd1-d57b-437d-8dfe-60006bfa525d",
   "metadata": {},
   "outputs": [],
   "source": [
    "# import pandas for data wrangling\n",
    "import pandas as pd\n",
    "\n",
    "\n",
    "# import numpy for Scientific computations\n",
    "import numpy as np\n",
    "\n",
    "\n",
    "# import machine learning libraries\n",
    "import xgboost as xgb\n",
    "from sklearn.metrics import accuracy_score\n",
    "\n",
    "\n",
    "# import packages for hyperparameters tuning\n",
    "from hyperopt import STATUS_OK, Trials, fmin, hp, tpe\n",
    "\n",
    "\n",
    "# Input data files are available in the \"../input/\" directory.\n",
    "# For example, running this (by clicking run or pressing Shift+Enter) will list all files under the input directory"
   ]
  },
  {
   "cell_type": "code",
   "execution_count": 117,
   "id": "a75732c5-67dc-45e8-95b7-6364961ec076",
   "metadata": {},
   "outputs": [],
   "source": [
    "space={'max_depth': hp.quniform(\"max_depth\", 3, 18, 1),\n",
    "        'gamma': hp.uniform ('gamma', 1,9),\n",
    "        'reg_alpha' : hp.quniform('reg_alpha', 40,180,1),\n",
    "        'reg_lambda' : hp.uniform('reg_lambda', 0,1),\n",
    "        'colsample_bytree' : hp.uniform('colsample_bytree', 0.5,1),\n",
    "        'min_child_weight' : hp.quniform('min_child_weight', 0, 10, 1),\n",
    "        'n_estimators': 180,\n",
    "        'seed': 0\n",
    "    }"
   ]
  },
  {
   "cell_type": "code",
   "execution_count": 118,
   "id": "7603ce3f-469b-4d82-a086-32ad08d70161",
   "metadata": {},
   "outputs": [],
   "source": [
    "def objective(space):\n",
    "    clf=xgb.XGBClassifier(use_label_encoder=False,\n",
    "                    n_estimators =space['n_estimators'], max_depth = int(space['max_depth']), gamma = space['gamma'],\n",
    "                    reg_alpha = int(space['reg_alpha']),min_child_weight=int(space['min_child_weight']),\n",
    "                    colsample_bytree=int(space['colsample_bytree']))\n",
    "    \n",
    "    evaluation = [( x_train, y_train), (x_test, y_test)]\n",
    "    \n",
    "    clf.fit(x_train, y_train,\n",
    "            eval_set=evaluation, eval_metric=\"auc\",\n",
    "            early_stopping_rounds=10,verbose=False)\n",
    "    \n",
    "\n",
    "    pred = clf.predict(x_test)\n",
    "    accuracy = accuracy_score(y_test, pred>0.5)\n",
    "    print (\"SCORE:\", accuracy)\n",
    "    return {'loss': -accuracy, 'status': STATUS_OK }"
   ]
  },
  {
   "cell_type": "code",
   "execution_count": 119,
   "id": "379c142e-f805-44e9-a0a8-4e1d349e4f78",
   "metadata": {
    "collapsed": true,
    "jupyter": {
     "outputs_hidden": true
    },
    "tags": []
   },
   "outputs": [
    {
     "name": "stdout",
     "output_type": "stream",
     "text": [
      "SCORE:                                                 \n",
      "0.9163798716398475                                     \n",
      "SCORE:                                                                            \n",
      "0.9163798716398475                                                                \n",
      "SCORE:                                                                            \n",
      "0.9163798716398475                                                                \n",
      "SCORE:                                                                            \n",
      "0.9163798716398475                                                                \n",
      "SCORE:                                                                            \n",
      "0.9163798716398475                                                                \n",
      "SCORE:                                                                            \n",
      "0.9163798716398475                                                                \n",
      "SCORE:                                                                            \n",
      "0.9163798716398475                                                                \n",
      "SCORE:                                                                            \n",
      "0.9163798716398475                                                                \n",
      "SCORE:                                                                            \n",
      "0.9163798716398475                                                                \n",
      "SCORE:                                                                            \n",
      "0.9163798716398475                                                                \n",
      "SCORE:                                                                             \n",
      "0.9163798716398475                                                                 \n",
      "SCORE:                                                                             \n",
      "0.9163798716398475                                                                 \n",
      "SCORE:                                                                             \n",
      "0.9163798716398475                                                                 \n",
      "SCORE:                                                                             \n",
      "0.9163798716398475                                                                 \n",
      "SCORE:                                                                             \n",
      "0.9163798716398475                                                                 \n",
      "SCORE:                                                                             \n",
      "0.9163798716398475                                                                 \n",
      "SCORE:                                                                             \n",
      "0.9163798716398475                                                                 \n",
      "SCORE:                                                                             \n",
      "0.9163798716398475                                                                 \n",
      "SCORE:                                                                             \n",
      "0.9163798716398475                                                                 \n",
      "SCORE:                                                                             \n",
      "0.9163798716398475                                                                 \n",
      "SCORE:                                                                             \n",
      "0.9163798716398475                                                                 \n",
      "SCORE:                                                                             \n",
      "0.9163798716398475                                                                 \n",
      "SCORE:                                                                             \n",
      "0.9163798716398475                                                                 \n",
      "SCORE:                                                                             \n",
      "0.9163798716398475                                                                 \n",
      "SCORE:                                                                             \n",
      "0.9163798716398475                                                                 \n",
      "SCORE:                                                                             \n",
      "0.9163798716398475                                                                 \n",
      "SCORE:                                                                             \n",
      "0.9163798716398475                                                                 \n",
      "SCORE:                                                                             \n",
      "0.9163798716398475                                                                 \n",
      "SCORE:                                                                             \n",
      "0.9163798716398475                                                                 \n",
      "SCORE:                                                                             \n",
      "0.9163798716398475                                                                 \n",
      "SCORE:                                                                             \n",
      "0.9163798716398475                                                                 \n",
      "SCORE:                                                                             \n",
      "0.9163798716398475                                                                 \n",
      "SCORE:                                                                             \n",
      "0.9163798716398475                                                                 \n",
      "SCORE:                                                                             \n",
      "0.9163798716398475                                                                 \n",
      "SCORE:                                                                             \n",
      "0.9163798716398475                                                                 \n",
      "SCORE:                                                                             \n",
      "0.9163798716398475                                                                 \n",
      "SCORE:                                                                             \n",
      "0.9163798716398475                                                                 \n",
      "SCORE:                                                                             \n",
      "0.9163798716398475                                                                 \n",
      "SCORE:                                                                             \n",
      "0.9163798716398475                                                                 \n",
      "SCORE:                                                                             \n",
      "0.9163798716398475                                                                 \n",
      "SCORE:                                                                             \n",
      "0.9163798716398475                                                                 \n",
      "SCORE:                                                                             \n",
      "0.9163798716398475                                                                 \n",
      "SCORE:                                                                             \n",
      "0.9163798716398475                                                                 \n",
      "SCORE:                                                                             \n",
      "0.9163798716398475                                                                 \n",
      "SCORE:                                                                             \n",
      "0.9163798716398475                                                                 \n",
      "SCORE:                                                                             \n",
      "0.9163798716398475                                                                 \n",
      "SCORE:                                                                             \n",
      "0.9163798716398475                                                                 \n",
      "SCORE:                                                                             \n",
      "0.9163798716398475                                                                 \n",
      "SCORE:                                                                             \n",
      "0.9163798716398475                                                                 \n",
      "SCORE:                                                                             \n",
      "0.9163798716398475                                                                 \n",
      "SCORE:                                                                             \n",
      "0.9163798716398475                                                                 \n",
      "SCORE:                                                                             \n",
      "0.9163798716398475                                                                 \n",
      "SCORE:                                                                             \n",
      "0.9163798716398475                                                                 \n",
      "SCORE:                                                                             \n",
      "0.9163798716398475                                                                 \n",
      "SCORE:                                                                             \n",
      "0.9163798716398475                                                                 \n",
      "SCORE:                                                                             \n",
      "0.9163798716398475                                                                 \n",
      "SCORE:                                                                             \n",
      "0.9163798716398475                                                                 \n",
      "SCORE:                                                                             \n",
      "0.9163798716398475                                                                 \n",
      "SCORE:                                                                             \n",
      "0.9163798716398475                                                                 \n",
      "SCORE:                                                                             \n",
      "0.9163798716398475                                                                 \n",
      "SCORE:                                                                             \n",
      "0.9163798716398475                                                                 \n",
      "SCORE:                                                                             \n",
      "0.9163798716398475                                                                 \n",
      "SCORE:                                                                             \n",
      "0.9163798716398475                                                                 \n",
      "SCORE:                                                                             \n",
      "0.9163798716398475                                                                 \n",
      "SCORE:                                                                             \n",
      "0.9163798716398475                                                                 \n",
      "SCORE:                                                                             \n",
      "0.9163798716398475                                                                 \n",
      "SCORE:                                                                             \n",
      "0.9163798716398475                                                                 \n",
      "SCORE:                                                                             \n",
      "0.9163798716398475                                                                 \n",
      "SCORE:                                                                             \n",
      "0.9163798716398475                                                                 \n",
      "SCORE:                                                                             \n",
      "0.9163798716398475                                                                 \n",
      "SCORE:                                                                             \n",
      "0.9163798716398475                                                                 \n",
      "SCORE:                                                                             \n",
      "0.9163798716398475                                                                 \n",
      "SCORE:                                                                             \n",
      "0.9163798716398475                                                                 \n",
      "SCORE:                                                                             \n",
      "0.9163798716398475                                                                 \n",
      "SCORE:                                                                             \n",
      "0.9163798716398475                                                                 \n",
      "SCORE:                                                                             \n",
      "0.9163798716398475                                                                 \n",
      "SCORE:                                                                             \n",
      "0.9163798716398475                                                                 \n",
      "SCORE:                                                                             \n",
      "0.9163798716398475                                                                 \n",
      "SCORE:                                                                             \n",
      "0.9163798716398475                                                                 \n",
      "SCORE:                                                                             \n",
      "0.9163798716398475                                                                 \n",
      "SCORE:                                                                             \n",
      "0.9163798716398475                                                                 \n",
      "SCORE:                                                                             \n",
      "0.9163798716398475                                                                 \n",
      "SCORE:                                                                             \n",
      "0.9163798716398475                                                                 \n",
      "SCORE:                                                                             \n",
      "0.9163798716398475                                                                 \n",
      "SCORE:                                                                             \n",
      "0.9163798716398475                                                                 \n",
      "SCORE:                                                                             \n",
      "0.9163798716398475                                                                 \n",
      "SCORE:                                                                             \n",
      "0.9163798716398475                                                                 \n",
      "SCORE:                                                                             \n",
      "0.9163798716398475                                                                 \n",
      "SCORE:                                                                             \n",
      "0.9163798716398475                                                                 \n",
      "SCORE:                                                                             \n",
      "0.9163798716398475                                                                 \n",
      "SCORE:                                                                             \n",
      "0.9163798716398475                                                                 \n",
      "SCORE:                                                                             \n",
      "0.9163798716398475                                                                 \n",
      "SCORE:                                                                             \n",
      "0.9163798716398475                                                                 \n",
      "SCORE:                                                                             \n",
      "0.9163798716398475                                                                 \n",
      "SCORE:                                                                             \n",
      "0.9163798716398475                                                                 \n",
      "SCORE:                                                                             \n",
      "0.9163798716398475                                                                 \n",
      "SCORE:                                                                             \n",
      "0.9163798716398475                                                                 \n",
      "SCORE:                                                                             \n",
      "0.9163798716398475                                                                 \n",
      "SCORE:                                                                             \n",
      "0.9163798716398475                                                                 \n",
      "SCORE:                                                                             \n",
      "0.9163798716398475                                                                 \n",
      "100%|██████████| 100/100 [00:17<00:00,  5.84trial/s, best loss: -0.9163798716398475]\n"
     ]
    }
   ],
   "source": [
    "trials = Trials()\n",
    "\n",
    "best_hyperparams = fmin(fn = objective,\n",
    "                        space = space,\n",
    "                        algo = tpe.suggest,\n",
    "                        max_evals = 100,\n",
    "                        trials = trials)"
   ]
  },
  {
   "cell_type": "code",
   "execution_count": 113,
   "id": "f7979eaf-d818-475f-b5f4-0cd64a1fb1a5",
   "metadata": {},
   "outputs": [
    {
     "name": "stdout",
     "output_type": "stream",
     "text": [
      "The best hyperparameters are :  \n",
      "\n",
      "{'colsample_bytree': 0.610488153507855, 'gamma': 7.414903050280333, 'max_depth': 3.0, 'min_child_weight': 4.0, 'reg_alpha': 73.0, 'reg_lambda': 0.22814961763224073}\n"
     ]
    }
   ],
   "source": [
    "print(\"The best hyperparameters are : \",\"\\n\")\n",
    "print(best_hyperparams)"
   ]
  },
  {
   "cell_type": "code",
   "execution_count": 123,
   "id": "f9fbf671-ced9-41ea-a641-00f6a4ad1c93",
   "metadata": {},
   "outputs": [],
   "source": [
    "clf=xgb.XGBClassifier(use_label_encoder=False,\n",
    "                      colsample_bytree=0.610488153507855,\n",
    "                      gamma=7.414903050280333,\n",
    "                      max_depth= 3,\n",
    "                      min_child_weight= 4,\n",
    "                      reg_alpha= 73,\n",
    "                      reg_lambda= 0.22814961763224073)\n",
    "evaluation = [( x_train, y_train), (x_test, y_test)]\n",
    "\n",
    "clf.fit(x_train, y_train,\n",
    "        eval_set=evaluation, eval_metric=\"aucpr\",\n",
    "        early_stopping_rounds=10,verbose=False)\n",
    "\n",
    "\n",
    "pred = clf.predict(x_test)"
   ]
  },
  {
   "cell_type": "code",
   "execution_count": 125,
   "id": "d63ceea8-da36-4727-a9f3-98f25cf49008",
   "metadata": {},
   "outputs": [
    {
     "data": {
      "text/plain": [
       "0.9320063249930239"
      ]
     },
     "execution_count": 125,
     "metadata": {},
     "output_type": "execute_result"
    }
   ],
   "source": [
    "pred = clf.predict(x_test)\n",
    "accuracy = accuracy_score(y_test, pred>0.5)\n",
    "accuracy"
   ]
  },
  {
   "cell_type": "markdown",
   "id": "21fc873e",
   "metadata": {
    "papermill": {
     "duration": 2.076548,
     "end_time": "2021-04-22T19:08:16.274849",
     "exception": false,
     "start_time": "2021-04-22T19:08:14.198301",
     "status": "completed"
    },
    "tags": []
   },
   "source": [
    "## 4.3 Compare performance on the TEST dataset for all trained models"
   ]
  },
  {
   "cell_type": "code",
   "execution_count": 42,
   "id": "19b0f87d",
   "metadata": {
    "papermill": {
     "duration": 2.092593,
     "end_time": "2021-04-22T19:08:20.691318",
     "exception": false,
     "start_time": "2021-04-22T19:08:18.598725",
     "status": "completed"
    },
    "tags": [],
    "vscode": {
     "languageId": "python"
    }
   },
   "outputs": [],
   "source": [
    "#Create empty model list\n",
    "list_models = []\n",
    "\n",
    "#Define the list of all models that have been executed and should be compared\n",
    "try:\n",
    "    list_models.append(sm_predictor)\n",
    "except NameError:\n",
    "    pass\n",
    "try:\n",
    "    list_models.append(h2o_champion)\n",
    "except NameError:\n",
    "    pass\n",
    "try:\n",
    "    list_models.append(best_AutoML)\n",
    "except NameError:\n",
    "    pass"
   ]
  },
  {
   "cell_type": "code",
   "execution_count": 43,
   "id": "c57e2270",
   "metadata": {
    "papermill": {
     "duration": 2.142011,
     "end_time": "2021-04-22T19:08:36.084630",
     "exception": false,
     "start_time": "2021-04-22T19:08:33.942619",
     "status": "completed"
    },
    "tags": [],
    "vscode": {
     "languageId": "python"
    }
   },
   "outputs": [],
   "source": [
    "#Consider all models in the history ./models/candidates/performance_*.csv. To disregard any old version, set erase_modelos = \"S\":\n",
    "apagar_modelos = 'N'\n",
    "if apagar_modelos == 'S':\n",
    "    os.system('rm %s/models/candidates/performance_*.csv' % OutputPath)"
   ]
  },
  {
   "cell_type": "code",
   "execution_count": 44,
   "id": "71dcea94",
   "metadata": {
    "vscode": {
     "languageId": "python"
    }
   },
   "outputs": [
    {
     "name": "stdout",
     "output_type": "stream",
     "text": [
      "gbm prediction progress: |███████████████████████████████████████████████████████| (done) 100%\n",
      "stackedensemble prediction progress: |███████████████████████████████████████████| (done) 100%\n"
     ]
    },
    {
     "data": {
      "image/png": "[encoded data removed]",
      "text/plain": [
       "<Figure size 1000x1000 with 1 Axes>"
      ]
     },
     "metadata": {},
     "output_type": "display_data"
    },
    {
     "data": {
      "text/plain": [
       "<matplotlib.legend.Legend at 0x7ff03936e590>"
      ]
     },
     "execution_count": 44,
     "metadata": {},
     "output_type": "execute_result"
    },
    {
     "data": {
      "image/png": "[encoded data removed]",
      "text/plain": [
       "<Figure size 1000x500 with 1 Axes>"
      ]
     },
     "metadata": {},
     "output_type": "display_data"
    }
   ],
   "source": [
    "#Compare performance on the TEST dataset for all trained models\n",
    "plt.rcParams.update({'font.size': 12})\n",
    "fig = plt.figure(figsize=(10, 10))\n",
    "for i in list_models:    \n",
    "    if (isinstance(i, h2o.estimators.gbm.H2OGradientBoostingEstimator)) | (isinstance(i, h2o.estimators.stackedensemble.H2OStackedEnsembleEstimator)):\n",
    "        #Save all models in H20 format\n",
    "        h2o.save_model(model=i, path='%s/models/candidates/' % OutputPath, force=True)\n",
    "        #calculate o KS in test dataset\n",
    "        h2o_predict = i.predict(test_hdf)\n",
    "        data = h2o_predict.cbind(test_hdf[VarTarget]).as_data_frame()\n",
    "        data['target0'] = 1 - data[VarTarget]\n",
    "        data['bucket'] = pd.qcut(data['p1'], 10, duplicates='drop', labels=False)\n",
    "        grouped = data.groupby('bucket', as_index=False)\n",
    "        kstable = pd.DataFrame()\n",
    "        kstable['min_prob'] = grouped.min()['p1']\n",
    "        kstable['max_prob'] = grouped.max()['p1']\n",
    "        kstable['events'] = grouped.sum()[VarTarget]\n",
    "        kstable['nonevents'] = grouped.sum()['target0']    \n",
    "        kstable = kstable.sort_values(by=\"min_prob\", ascending=False).reset_index(drop=True)\n",
    "        kstable['event_rate'] = (kstable.events / data[VarTarget].sum()).apply('{0:.2%}'.format)\n",
    "        kstable['nonevent_rate'] = (kstable.nonevents / data['target0'].sum()).apply('{0:.2%}'.format)\n",
    "        kstable['cum_eventrate'] = (kstable.events / data[VarTarget].sum()).cumsum()\n",
    "        kstable['cum_noneventrate'] = (kstable.nonevents / data['target0'].sum()).cumsum()\n",
    "        kstable['KS'] = np.round(kstable['cum_eventrate'] - kstable['cum_noneventrate'], 3)\n",
    "        ks = kstable['KS'].max()\n",
    "\n",
    "        #Ascertain the performance of all models on the test base\n",
    "        performance = i.model_performance(test_hdf)\n",
    "\n",
    "        #Salve metrics\n",
    "        f=open(\"%s/models/candidates/performance_%s.csv\" % (OutputPath, i.model_id), 'w')\n",
    "        f.write(\n",
    "            str(i.model_id) + \";\"\n",
    "            + str(performance.accuracy()[0][0]) + \";\"\n",
    "            + str(performance.auc()) + ';'\n",
    "            + str(performance.aucpr()) + ';'\n",
    "            + str(performance.logloss()) + ';'\n",
    "            + str(ks) + ';'\n",
    "            + str(performance.F1()[0][0]))\n",
    "        f.write('\\n')\n",
    "        f.close()\n",
    "\n",
    "        #graph with the ROC curve of all models\n",
    "        fpr = performance.fprs\n",
    "        tpr = performance.tprs\n",
    "        plt.plot(fpr, tpr, lw=2, label=i.model_id.split(\"_\")[0]+\"_\"+i.model_id.split(\"_\")[1]+\"_\"+i.model_id.split(\"_\")[2])\n",
    "        plt.title(\"ROC Curve for Model (Test dataset)\")    \n",
    "\n",
    "        if i == list_models[0]:\n",
    "            df_plot = pd.DataFrame({'Model_id': i.model_id.split(\"_\")[0]+\"_\"+i.model_id.split(\"_\")[1]+\"_\"+i.model_id.split(\"_\")[2],\n",
    "                                        'AUROC': int(performance.auc()*100)/100,\n",
    "                                        'AUCPR': int(performance.aucpr()*100)/100,\n",
    "                                        'KS': int(ks*100)/100\n",
    "                                        }, index=[0])\n",
    "        else:\n",
    "            df_plot = df_plot.append(pd.DataFrame({'Model_id': i.model_id.split(\"_\")[0]+\"_\"+i.model_id.split(\"_\")[1]+\"_\"+i.model_id.split(\"_\")[2],\n",
    "                                        'AUROC': int(performance.auc()*100)/100,\n",
    "                                        'AUCPR': int(performance.aucpr()*100)/100,\n",
    "                                        'KS': int(ks*100)/100\n",
    "                                        }, index=[0]))\n",
    "            \n",
    "    elif isinstance(i, sagemaker.predictor.Predictor):\n",
    "        #Save model\n",
    "        model_id = (sm.describe_endpoint_config(EndpointConfigName=sm.describe_endpoint(EndpointName=i.endpoint_name)['EndpointConfigName'])['ProductionVariants'][0]['ModelName'])\n",
    "        text_file = open(\"%s/models/candidates/%s.py\" % (OutputPath, model_id), \"w\")        \n",
    "        text_file.write(\"\"\"#recreate create_endpoint_config and create_endpoint for model %s\n",
    "epc_name = \"%s\"\n",
    "ep_config = sm.create_endpoint_config(\n",
    "    EndpointConfigName=epc_name,\n",
    "    ProductionVariants=[\n",
    "        {\n",
    "            \"InstanceType\": \"ml.m5.2xlarge\",\n",
    "            \"InitialInstanceCount\": 1,\n",
    "            \"ModelName\": \"%s\",\n",
    "            \"VariantName\": \"main\",\n",
    "        }\n",
    "    ],\n",
    ")\n",
    "\n",
    "#Create end endpoint\n",
    "ep_name = \"%s\"\n",
    "create_endpoint_response = sm.create_endpoint(EndpointName=ep_name, EndpointConfigName=epc_name)\n",
    "sm.get_waiter(\"endpoint_in_service\").wait(EndpointName=ep_name)\n",
    "print(\"ep_name: \" + str(ep_name))\n",
    "\n",
    "sm_predictor = Predictor(\n",
    "    endpoint_name=\"%s\",\n",
    "    sagemaker_session=session,\n",
    "    serializer=CSVSerializer(),\n",
    "    deserializer=CSVDeserializer(),)\"\"\" % (model_id,\n",
    "                                        model_id.replace('-model', '-epc'),\n",
    "                                        model_id,\n",
    "                                        model_id.replace('-model', '-ep'),\n",
    "                                        model_id.replace('-model', '-ep')       \n",
    "                                       )\n",
    "                       )\n",
    "        text_file.close()\n",
    "        \n",
    "        sm_predict = pd.DataFrame(i.predict(dataprep_df.query('partition_0 == \"test_data\"').loc[:, (selected_features)].to_csv(sep=\",\", header=False, index=False)))\n",
    "        sm_predict.columns = ['predict', 'p1', 'probabilities']\n",
    "        sm_predict['predict'] = sm_predict['predict'].astype(int)\n",
    "        sm_predict['p1'] = sm_predict['p1'].astype(float)\n",
    "\n",
    "        data = pd.concat([sm_predict.reset_index(drop=True), dataprep_df.query('partition_0 == \"test_data\"').reset_index(drop=True)[VarTarget]], axis=1)\n",
    "        data['target0'] = 1 - data[VarTarget]\n",
    "        data['bucket'] = pd.qcut(data['p1'], 10, duplicates='drop', labels=False)\n",
    "        grouped = data.groupby('bucket', as_index=False)\n",
    "        kstable = pd.DataFrame()\n",
    "        kstable['min_prob'] = grouped.min()['p1']\n",
    "        kstable['max_prob'] = grouped.max()['p1']\n",
    "        kstable['events'] = grouped.sum()[VarTarget]\n",
    "        kstable['nonevents'] = grouped.sum()['target0']\n",
    "        kstable = kstable.sort_values(by=\"min_prob\", ascending=False).reset_index(drop=True)\n",
    "        kstable['event_rate'] = (kstable.events / data[VarTarget].sum()).apply('{0:.2%}'.format)\n",
    "        kstable['nonevent_rate'] = (kstable.nonevents / data['target0'].sum()).apply('{0:.2%}'.format)\n",
    "        kstable['cum_eventrate'] = (kstable.events / data[VarTarget].sum()).cumsum()\n",
    "        kstable['cum_noneventrate'] = (kstable.nonevents / data['target0'].sum()).cumsum()\n",
    "        kstable['cum_eventrate'] = kstable['cum_eventrate'].astype(float)\n",
    "        kstable['cum_noneventrate'] = kstable['cum_noneventrate'].astype(float)\n",
    "        kstable['KS'] = np.round(kstable['cum_eventrate'] - kstable['cum_noneventrate'], 3)\n",
    "        ks = kstable['KS'].max()\n",
    "        \n",
    "        accuracy = metrics.accuracy_score(dataprep_df.query('partition_0 == \"test_data\"').reset_index(drop=True)[VarTarget].astype(str), sm_predict['predict'].astype(str))\n",
    "        fpr, tpr, thresholds = metrics.roc_curve(dataprep_df.query('partition_0 == \"test_data\"').reset_index(drop=True)[VarTarget].astype(int), sm_predict['predict'].astype(int), pos_label=1)\n",
    "        auc = metrics.auc(fpr, tpr)\n",
    "        aucpr = metrics.average_precision_score(dataprep_df.query('partition_0 == \"test_data\"').reset_index(drop=True)[VarTarget].astype(int), sm_predict['predict'].astype(int), pos_label=1)\n",
    "        f1 = metrics.f1_score(dataprep_df.query('partition_0 == \"test_data\"').reset_index(drop=True)[VarTarget].astype(str), sm_predict['predict'].astype(str), pos_label='1')\n",
    "        log_loss = metrics.log_loss(dataprep_df.query('partition_0 == \"test_data\"').reset_index(drop=True)[VarTarget].astype(str), sm_predict['predict'].astype(str))\n",
    "        \n",
    "        #Salve metrics\n",
    "        f=open(\"%s/models/candidates/performance_%s.csv\" % (OutputPath, model_id), 'w')\n",
    "        f.write(\n",
    "            str(model_id) + \";\"\n",
    "            + str(accuracy) + \";\"\n",
    "            + str(auc) + ';'\n",
    "            + str(aucpr) + ';'\n",
    "            + str(log_loss) + ';'\n",
    "            + str(ks) + ';'\n",
    "            + str(f1))\n",
    "        f.write('\\n')\n",
    "        f.close()\n",
    "        \n",
    "        plt.plot(fpr, tpr, lw=2, label=model_id.split(\"-\")[0]+\"-\"+model_id.split(\"-\")[1]+\"-\"+model_id.split(\"-\")[2])\n",
    "        plt.title(\"ROC Curve for Model (Test dataset)\")\n",
    "        \n",
    "        if i == list_models[0]:\n",
    "            df_plot = pd.DataFrame({'Model_id': model_id.split(\"-\")[0]+\"-\"+model_id.split(\"-\")[1]+\"-\"+model_id.split(\"-\")[2],\n",
    "                                        'AUROC': int(auc*100)/100,\n",
    "                                        'AUCPR': int(aucpr*100)/100,\n",
    "                                        'KS': int(ks*100)/100\n",
    "                                        }, index=[0])\n",
    "        else:\n",
    "            df_plot = df_plot.append(pd.DataFrame({'Model_id': model_id.split(\"-\")[0]+\"-\"+model_id.split(\"-\")[1]+\"-\"+model_id.split(\"-\")[2],\n",
    "                                        'AUROC': int(auc*100)/100,\n",
    "                                        'AUCPR': int(aucpr*100)/100,\n",
    "                                        'KS': int(ks*100)/100\n",
    "                                        }, index=[0]))\n",
    "        \n",
    "plt.plot([0, 1], [0, 1], color='red', lw=2, linestyle='--')\n",
    "plt.xlim([0.0, 1.05])\n",
    "plt.ylim([0.0, 1.05])\n",
    "plt.legend(loc=\"lower right\")\n",
    "plt.show()\n",
    "plt.close()\n",
    "ax = df_plot.plot(kind='bar', x=\"Model_id\", title=\"AUROC, AUCPR e KS for Model (Test dataset)\", grid=True, figsize=(10,5), legend=1)\n",
    "for p in ax.patches:\n",
    "    ax.annotate(str(p.get_height()), (p.get_x() * 1.005, p.get_height() * 1.005))\n",
    "plt.legend(loc=3, prop={'size': 10})"
   ]
  },
  {
   "cell_type": "markdown",
   "id": "3a9c2629",
   "metadata": {
    "papermill": {
     "duration": 2.131734,
     "end_time": "2021-04-22T19:08:31.870437",
     "exception": false,
     "start_time": "2021-04-22T19:08:29.738703",
     "status": "completed"
    },
    "tags": []
   },
   "source": [
    "## 4.4 Choose the best model among all tested"
   ]
  },
  {
   "cell_type": "code",
   "execution_count": 49,
   "id": "90a7eea1",
   "metadata": {
    "papermill": {
     "duration": 2.310282,
     "end_time": "2021-04-22T19:08:40.490479",
     "exception": false,
     "start_time": "2021-04-22T19:08:38.180197",
     "status": "completed"
    },
    "tags": [],
    "vscode": {
     "languageId": "python"
    }
   },
   "outputs": [
    {
     "name": "stdout",
     "output_type": "stream",
     "text": [
      "MBest Models. Sorted by : F1\n"
     ]
    },
    {
     "data": {
      "text/html": [
       "<div>\n",
       "<style scoped>\n",
       "    .dataframe tbody tr th:only-of-type {\n",
       "        vertical-align: middle;\n",
       "    }\n",
       "\n",
       "    .dataframe tbody tr th {\n",
       "        vertical-align: top;\n",
       "    }\n",
       "\n",
       "    .dataframe thead th {\n",
       "        text-align: right;\n",
       "    }\n",
       "</style>\n",
       "<table border=\"1\" class=\"dataframe\">\n",
       "  <thead>\n",
       "    <tr style=\"text-align: right;\">\n",
       "      <th></th>\n",
       "      <th>index</th>\n",
       "      <th>model_id</th>\n",
       "      <th>accuracy</th>\n",
       "      <th>AUC</th>\n",
       "      <th>AUCPR</th>\n",
       "      <th>logloss</th>\n",
       "      <th>KS</th>\n",
       "      <th>F1</th>\n",
       "    </tr>\n",
       "  </thead>\n",
       "  <tbody>\n",
       "    <tr>\n",
       "      <th>0</th>\n",
       "      <td>0</td>\n",
       "      <td>StackedEnsemble_BestOfFamily_1_AutoML_1_20221104_232231</td>\n",
       "      <td>0.605805</td>\n",
       "      <td>0.898887</td>\n",
       "      <td>0.573128</td>\n",
       "      <td>0.171703</td>\n",
       "      <td>0.618</td>\n",
       "      <td>0.348232</td>\n",
       "    </tr>\n",
       "    <tr>\n",
       "      <th>1</th>\n",
       "      <td>0</td>\n",
       "      <td>StackedEnsemble_BestOfFamily_3_AutoML_2_20221104_234313</td>\n",
       "      <td>0.495347</td>\n",
       "      <td>0.904213</td>\n",
       "      <td>0.591509</td>\n",
       "      <td>0.164896</td>\n",
       "      <td>0.620</td>\n",
       "      <td>0.261152</td>\n",
       "    </tr>\n",
       "    <tr>\n",
       "      <th>2</th>\n",
       "      <td>0</td>\n",
       "      <td>h2o_champion_hr_analytics_v1_20221104_234252</td>\n",
       "      <td>0.379686</td>\n",
       "      <td>0.891647</td>\n",
       "      <td>0.551111</td>\n",
       "      <td>0.181936</td>\n",
       "      <td>0.606</td>\n",
       "      <td>0.234451</td>\n",
       "    </tr>\n",
       "    <tr>\n",
       "      <th>3</th>\n",
       "      <td>0</td>\n",
       "      <td>h2o_champion_hr_analytics_v1_20221104_232202</td>\n",
       "      <td>0.379686</td>\n",
       "      <td>0.891647</td>\n",
       "      <td>0.551111</td>\n",
       "      <td>0.181936</td>\n",
       "      <td>0.606</td>\n",
       "      <td>0.234451</td>\n",
       "    </tr>\n",
       "  </tbody>\n",
       "</table>\n",
       "</div>"
      ],
      "text/plain": [
       "   index                                                 model_id  accuracy  \\\n",
       "0      0  StackedEnsemble_BestOfFamily_1_AutoML_1_20221104_232231  0.605805   \n",
       "1      0  StackedEnsemble_BestOfFamily_3_AutoML_2_20221104_234313  0.495347   \n",
       "2      0             h2o_champion_hr_analytics_v1_20221104_234252  0.379686   \n",
       "3      0             h2o_champion_hr_analytics_v1_20221104_232202  0.379686   \n",
       "\n",
       "        AUC     AUCPR   logloss     KS        F1  \n",
       "0  0.898887  0.573128  0.171703  0.618  0.348232  \n",
       "1  0.904213  0.591509  0.164896  0.620  0.261152  \n",
       "2  0.891647  0.551111  0.181936  0.606  0.234451  \n",
       "3  0.891647  0.551111  0.181936  0.606  0.234451  "
      ]
     },
     "execution_count": 49,
     "metadata": {},
     "output_type": "execute_result"
    }
   ],
   "source": [
    "sort_metric_best_model='F1'\n",
    "#import all tested models and print the 10 bests sorted by AUC on the screen\n",
    "modelos_testados = pd.concat(map(functools.partial(pd.read_csv, sep=';', header=None), glob.glob('%s/models/candidates/performance_*.csv' % OutputPath)))\n",
    "modelos_testados.columns = ('model_id', 'accuracy', 'AUC', 'AUCPR', 'logloss', 'KS', 'F1')\n",
    "modelos_testados = modelos_testados.sort_values(by=sort_metric_best_model, ascending=False)\n",
    "modelos_testados = modelos_testados.drop_duplicates(subset=[\"model_id\"])\n",
    "print('MBest Models. Sorted by : ' + str(sort_metric_best_model))\n",
    "modelos_testados.reset_index(0).head(30)"
   ]
  },
  {
   "cell_type": "code",
   "execution_count": 62,
   "id": "fe71412d",
   "metadata": {
    "vscode": {
     "languageId": "python"
    }
   },
   "outputs": [
    {
     "name": "stdout",
     "output_type": "stream",
     "text": [
      "\n",
      "BEST MODEL: StackedEnsemble_BestOfFamily_1_AutoML_1_20221104_232231\n",
      "\n",
      "Variable importance plot is not available for this type of model (stackedensemble).\n",
      "\n",
      "BEST MODEL: StackedEnsemble_BestOfFamily_1_AutoML_1_20221104_232231\n",
      "\n",
      "Warning: This model doesn't have variable importances\n"
     ]
    }
   ],
   "source": [
    "#If you want to choose a model other than the first one on the list. Choose the position number:\n",
    "posicao_melhor_modelo=0\n",
    "\n",
    "plt.rcParams.update({'font.size': 10})\n",
    "try:\n",
    "    melhor_modelo = h2o.load_model('%s/models/candidates/%s' % (OutputPath, modelos_testados.iloc[posicao_melhor_modelo, 0]))\n",
    "    (print(\"\\n\"+ \"BEST MODEL: \" + str(modelos_testados.iloc[posicao_melhor_modelo, 0]) + \"\\n\"))\n",
    "    \n",
    "    melhor_modelo.varimp_plot(50)\n",
    "except Exception as e:\n",
    "    print(e)    \n",
    "    (print(\"\\n\"+ \"BEST MODEL: \" + str(modelos_testados.iloc[posicao_melhor_modelo, 0]) + \"\\n\"))\n",
    "    print(\"Warning: This model doesn't have variable importances\")"
   ]
  },
  {
   "cell_type": "markdown",
   "id": "3a740dd3",
   "metadata": {
    "papermill": {
     "duration": 2.101093,
     "end_time": "2021-04-22T19:08:49.276346",
     "exception": false,
     "start_time": "2021-04-22T19:08:47.175253",
     "status": "completed"
    },
    "tags": []
   },
   "source": [
    "## 4.5 Stepwise for Analysis of the importance of variables and reduce the number of variables in the best model (Only for H2O)"
   ]
  },
  {
   "cell_type": "code",
   "execution_count": 52,
   "id": "04edba27",
   "metadata": {
    "papermill": {
     "duration": 2.090193,
     "end_time": "2021-04-22T19:08:53.688602",
     "exception": false,
     "start_time": "2021-04-22T19:08:51.598409",
     "status": "completed"
    },
    "tags": [],
    "vscode": {
     "languageId": "python"
    }
   },
   "outputs": [
    {
     "name": "stdout",
     "output_type": "stream",
     "text": [
      "Warning: This model doesn't have variable importances\n"
     ]
    }
   ],
   "source": [
    "#List all variables in the current model, ordered by variable importance\n",
    "#For variables defined as a factor (which possibly are like dummys), remove the category from the name and leave only the orifinal name of the variable\n",
    "try:\n",
    "    df_features_sorted = melhor_modelo.varimp(True).variable.str.split('.', expand=True).drop_duplicates(subset = 0)[0].reset_index(drop=True).to_list()\n",
    "except Exception as e:\n",
    "    #As the model with ensemble in H20 does not show the importance of variables, we will include variables in selected_features\n",
    "    df_features_sorted = selected_features"
   ]
  },
  {
   "cell_type": "code",
   "execution_count": 53,
   "id": "2aac8876",
   "metadata": {
    "papermill": {
     "duration": 14.013682,
     "end_time": "2021-04-22T19:09:09.811180",
     "exception": false,
     "start_time": "2021-04-22T19:08:55.797498",
     "status": "completed"
    },
    "tags": [],
    "vscode": {
     "languageId": "python"
    }
   },
   "outputs": [
    {
     "name": "stdout",
     "output_type": "stream",
     "text": [
      "gbm Model Build progress: |██████████████████████████████████████████████████████| (done) 100%\n",
      "gbm Model Build progress: |██████████████████████████████████████████████████████| (done) 100%\n",
      "gbm Model Build progress: |██████████████████████████████████████████████████████| (done) 100%\n",
      "gbm Model Build progress: |██████████████████████████████████████████████████████| (done) 100%\n",
      "gbm Model Build progress: |██████████████████████████████████████████████████████| (done) 100%\n",
      "gbm Model Build progress: |██████████████████████████████████████████████████████| (done) 100%\n",
      "gbm Model Build progress: |██████████████████████████████████████████████████████| (done) 100%\n",
      "gbm Model Build progress: |██████████████████████████████████████████████████████| (done) 100%\n",
      "gbm Model Build progress: |██████████████████████████████████████████████████████| (done) 100%\n",
      "gbm Model Build progress: |██████████████████████████████████████████████████████| (done) 100%\n",
      "gbm Model Build progress: |██████████████████████████████████████████████████████| (done) 100%\n"
     ]
    }
   ],
   "source": [
    "#Define the number of variables to be increased with each new model. Try to put 10% or 20% of the total, as it can take a long time\n",
    "qt_var=1\n",
    "qt_total_var = len(df_features_sorted)\n",
    "\n",
    "dict_model_tmp={}\n",
    "dict_performance={}\n",
    "\n",
    "for i in range(qt_var, qt_total_var+qt_var, qt_var):    \n",
    "    df_features_sorted[0:i]\n",
    "    \n",
    "    #If no model chosen is not an ensemble of models. Then use the same model for training with increment of variables\n",
    "    melhor_modelo_tmp = melhor_modelo\n",
    "    if melhor_modelo_tmp.model_id.lower().find(\"ensemble\") == -1:\n",
    "        dict_model_tmp[i] = melhor_modelo_tmp\n",
    "        dict_model_tmp[i].train(x = df_features_sorted[0:i],\n",
    "                                y = VarTarget,\n",
    "                                training_frame=train_hdf, \n",
    "                                validation_frame=valid_hdf)\n",
    "    ##If it is not possible, for the home of an ensemble of models, use GradientBoostingEstimator to make the assessment\n",
    "    else:\n",
    "        dict_model_tmp[i] = H2OGradientBoostingEstimator(seed=1, model_id=str('model_tmp_%s' % i))\n",
    "        dict_model_tmp[i].train(x = df_features_sorted[0:i],\n",
    "                                y = VarTarget,\n",
    "                                training_frame=train_hdf, \n",
    "                                validation_frame=valid_hdf)       \n",
    "\n",
    "\n",
    "    perform_oot = dict_model_tmp[i].model_performance(test_hdf)\n",
    "    dict_performance_tmp = {}\n",
    "    dict_performance_tmp['AUC'] = {'qt_var': i, 'medida': 'AUC', 'Validation_Dataset': dict_model_tmp[i].auc(valid=True), 'Test_Dataset': perform_oot.auc()}\n",
    "    dict_performance_tmp['accuracy'] = {'qt_var': i, 'medida': 'accuracy', 'Validation_Dataset': dict_model_tmp[i].accuracy(valid=True)[0][0], 'Test_Dataset': perform_oot.accuracy()[0][0]}\n",
    "    dict_performance_tmp['AUCPR'] = {'qt_var': i, 'medida': 'AUCPR', 'Validation_Dataset': dict_model_tmp[i].aucpr(valid=True), 'Test_Dataset': perform_oot.aucpr()}\n",
    "    dict_performance_tmp['F1'] = {'qt_var': i, 'medida': 'F1', 'Validation_Dataset': dict_model_tmp[i].F1(valid=True)[0][0], 'Test_Dataset': perform_oot.F1()[0][0]}\n",
    "    dict_performance_tmp['logloss'] = {'qt_var': i, 'medida': 'logloss', 'Validation_Dataset': dict_model_tmp[i].logloss(valid=True), 'Test_Dataset': perform_oot.logloss()}\n",
    "    dict_performance[i] = pd.DataFrame(dict_performance_tmp).transpose()"
   ]
  },
  {
   "cell_type": "code",
   "execution_count": 54,
   "id": "c5b6489d",
   "metadata": {
    "papermill": {
     "duration": 3.526531,
     "end_time": "2021-04-22T19:09:15.479429",
     "exception": false,
     "start_time": "2021-04-22T19:09:11.952898",
     "status": "completed"
    },
    "tags": [],
    "vscode": {
     "languageId": "python"
    }
   },
   "outputs": [
    {
     "data": {
      "image/png": "[encoded data removed]",
      "text/plain": [
       "<Figure size 1500x500 with 1 Axes>"
      ]
     },
     "metadata": {},
     "output_type": "display_data"
    },
    {
     "data": {
      "image/png": "[encoded data removed]",
      "text/plain": [
       "<Figure size 1500x500 with 1 Axes>"
      ]
     },
     "metadata": {},
     "output_type": "display_data"
    },
    {
     "data": {
      "image/png": "[encoded data removed]",
      "text/plain": [
       "<Figure size 1500x500 with 1 Axes>"
      ]
     },
     "metadata": {},
     "output_type": "display_data"
    },
    {
     "data": {
      "image/png": "[encoded data removed]",
      "text/plain": [
       "<Figure size 1500x500 with 1 Axes>"
      ]
     },
     "metadata": {},
     "output_type": "display_data"
    },
    {
     "data": {
      "image/png": "[encoded data removed]",
      "text/plain": [
       "<Figure size 1500x500 with 1 Axes>"
      ]
     },
     "metadata": {},
     "output_type": "display_data"
    }
   ],
   "source": [
    "##Plot graph comparing the increase in performance with the increase in variables\n",
    "for i in dict_performance.keys():\n",
    "    if i == list(dict_performance.keys())[0]:\n",
    "        df_performance = dict_performance[i]\n",
    "    else:\n",
    "        df_performance = df_performance.append(dict_performance[i], ignore_index=True)\n",
    "\n",
    "lista_metricas_perf = df_performance['medida'].unique()\n",
    "\n",
    "for i in range(len(lista_metricas_perf)):   \n",
    "    #selects only the metric to be analyzed\n",
    "    metrics_df_tmp = df_performance.query('medida == \"%s\"' % lista_metricas_perf[i])\n",
    "    metrics_df_tmp = metrics_df_tmp.set_index('qt_var')\n",
    "    del metrics_df_tmp['medida']\n",
    "    if lista_metricas_perf[i] == 'logloss':\n",
    "        max_oot = metrics_df_tmp[metrics_df_tmp['Test_Dataset'] == metrics_df_tmp.Test_Dataset.min()].index.values\n",
    "    else:\n",
    "        max_oot = metrics_df_tmp[metrics_df_tmp['Test_Dataset'] == metrics_df_tmp.Test_Dataset.max()].index.values\n",
    "        \n",
    "    if lista_metricas_perf[i] == sort_metric_best_model:\n",
    "        max_oot_filtro = max_oot[0]        \n",
    "    \n",
    "    ax=metrics_df_tmp.plot(figsize=(15,5), linewidth=2, fontsize=10, marker='D', ms=5,\\\n",
    "                            title='Best %s with %s Variables' % (lista_metricas_perf[i].upper(), str(max_oot[0])))\n",
    "    plt.xlabel('Variables Number')\n",
    "    plt.ylabel('%s' % lista_metricas_perf[i].upper())\n",
    "    plt.grid(axis='y')\n",
    "    plt.legend(loc=0, prop={'size': 12})\n",
    "    #display(ax)"
   ]
  },
  {
   "cell_type": "code",
   "execution_count": 55,
   "id": "de6a4619",
   "metadata": {
    "papermill": {
     "duration": 2.129296,
     "end_time": "2021-04-22T19:09:19.803949",
     "exception": false,
     "start_time": "2021-04-22T19:09:17.674653",
     "status": "completed"
    },
    "tags": [],
    "vscode": {
     "languageId": "python"
    }
   },
   "outputs": [
    {
     "name": "stdout",
     "output_type": "stream",
     "text": [
      "Consider using only the following variables: ['department', 'region', 'education', 'gender', 'recruitment_channel', 'kpis_met_80', 'no_of_trainings', 'previous_year_rating', 'age', 'length_of_service', 'avg_training_score']\n"
     ]
    }
   ],
   "source": [
    "print('Consider using only the following variables: '+ str(df_features_sorted[0:int(max_oot_filtro)]))"
   ]
  },
  {
   "cell_type": "markdown",
   "id": "c3681ca2",
   "metadata": {
    "papermill": {
     "duration": 2.252429,
     "end_time": "2021-04-22T19:09:24.187954",
     "exception": false,
     "start_time": "2021-04-22T19:09:21.935525",
     "status": "completed"
    },
    "tags": []
   },
   "source": [
    "# 5. Exporting the best model to Deploy (Usar o path_model_mojo para o código 3_Explaining_Model.ipynb)"
   ]
  },
  {
   "cell_type": "code",
   "execution_count": 56,
   "id": "f4f87587",
   "metadata": {
    "papermill": {
     "duration": 2.363826,
     "end_time": "2021-04-22T19:09:28.770800",
     "exception": false,
     "start_time": "2021-04-22T19:09:26.406974",
     "status": "completed"
    },
    "tags": [],
    "vscode": {
     "languageId": "python"
    }
   },
   "outputs": [
    {
     "name": "stdout",
     "output_type": "stream",
     "text": [
      "path_model_mojo: /home/sagemaker-user/FIEP-Modelos-de-Aprendizado-e-Arquiteturas-Cloud/projeto_final/output_model/models/best/StackedEnsemble_BestOfFamily_1_AutoML_1_20221104_232231.zip\n"
     ]
    }
   ],
   "source": [
    "try:\n",
    "    #Save the H2O model in MOJO format and all the variables of the best model\n",
    "    melhor_modelo = h2o.load_model('%s/models/candidates/%s' % (OutputPath, modelos_testados.iloc[posicao_melhor_modelo, 0]))\n",
    "    path_model_mojo = melhor_modelo.download_mojo('%s/models/best/' % OutputPath, get_genmodel_jar=True)\n",
    "    print('path_model_mojo: ' + str(path_model_mojo))\n",
    "    caminho_modelo_h2o = h2o.save_model(model=melhor_modelo, path='%s/models/best/' % OutputPath, force=True)\n",
    "except Exception as e:\n",
    "    src_path = \"%s/models/candidates/%s.py\" % (OutputPath, ModelId)\n",
    "    dst_path = \"%s/models/best/%s.py\" % (OutputPath, ModelId)\n",
    "    shutil.copy(src_path, dst_path)\n",
    "    print('path_sagemaker_model: ' + str(dst_path))"
   ]
  },
  {
   "cell_type": "code",
   "execution_count": 57,
   "id": "545ea64f",
   "metadata": {
    "vscode": {
     "languageId": "python"
    }
   },
   "outputs": [
    {
     "name": "stdout",
     "output_type": "stream",
     "text": [
      "Detected 1 unused columns in the input data set: {}\n"
     ]
    },
    {
     "data": {
      "image/png": "[encoded data removed]",
      "text/plain": [
       "<Figure size 640x480 with 2 Axes>"
      ]
     },
     "metadata": {},
     "output_type": "display_data"
    },
    {
     "data": {
      "image/png": "[encoded data removed]",
      "text/plain": [
       "<Figure size 640x480 with 2 Axes>"
      ]
     },
     "metadata": {},
     "output_type": "display_data"
    }
   ],
   "source": [
    "#Confusion Matrix for the Champion\n",
    "df_predict_tmp = h2o.mojo_predict_pandas(dataprep_df.query('partition_0 == \"test_data\"').loc[:, (selected_features+[VarTarget])], mojo_zip_path=path_model_mojo, verbose=False)\n",
    "\n",
    "df_predict = pd.concat([df_predict_tmp.reset_index(drop=True), dataprep_df.query('partition_0 == \"test_data\"').loc[:, (selected_features+[VarTarget])].reset_index(drop=True)], axis=1)\n",
    "\n",
    "df_matrix = df_predict.reset_index().groupby([VarTarget, 'predict']).count()[['index']].reset_index().pivot(index=VarTarget, columns='predict', values='index').sort_values(by=[VarTarget], ascending=False).loc[:,(1,0)]\n",
    "\n",
    "sns.heatmap(df_matrix, annot=True, center=True,cmap='Blues', fmt='g')\n",
    "plt.show()\n",
    "sns.heatmap(df_matrix/np.sum(df_matrix), annot=True,\n",
    "            fmt='.2%', cmap='Blues')\n",
    "plt.show()"
   ]
  },
  {
   "cell_type": "markdown",
   "id": "c6900e32",
   "metadata": {},
   "source": [
    "## 5.1 Cleaning Resources"
   ]
  },
  {
   "cell_type": "code",
   "execution_count": 58,
   "id": "ae5bf1f5",
   "metadata": {
    "vscode": {
     "languageId": "python"
    }
   },
   "outputs": [],
   "source": [
    "# sm.delete_endpoint(EndpointName=ep_name)\n",
    "# sm.delete_endpoint_config(EndpointConfigName=epc_name)"
   ]
  },
  {
   "cell_type": "markdown",
   "id": "29169849",
   "metadata": {},
   "source": [
    "# 6. Save final dataset with predictions into S3 to explain the model"
   ]
  },
  {
   "cell_type": "code",
   "execution_count": 59,
   "id": "9c9bfee2",
   "metadata": {
    "tags": [],
    "vscode": {
     "languageId": "python"
    }
   },
   "outputs": [],
   "source": [
    "csv_buffer = StringIO()\n",
    "df_predict.to_csv(csv_buffer, index=False, header=True)\n",
    "s3_resource = my_boto3_session.resource('s3')\n",
    "s3_resource.Object(bucket, 'databases/%s/%s.csv' % (ModelName+'_scored', ModelName+'_scored')).put(Body=csv_buffer.getvalue())\n",
    "del csv_buffer"
   ]
  },
  {
   "cell_type": "code",
   "execution_count": 60,
   "id": "3b98aaad",
   "metadata": {
    "vscode": {
     "languageId": "python"
    }
   },
   "outputs": [
    {
     "data": {
      "text/plain": [
       "{'ResponseMetadata': {'RequestId': '8afe291d-8965-4162-8316-f961ceb03d8b',\n",
       "  'HTTPStatusCode': 200,\n",
       "  'HTTPHeaders': {'date': 'Sat, 05 Nov 2022 00:38:14 GMT',\n",
       "   'content-type': 'application/x-amz-json-1.1',\n",
       "   'content-length': '2',\n",
       "   'connection': 'keep-alive',\n",
       "   'x-amzn-requestid': '8afe291d-8965-4162-8316-f961ceb03d8b'},\n",
       "  'RetryAttempts': 0}}"
      ]
     },
     "execution_count": 60,
     "metadata": {},
     "output_type": "execute_result"
    }
   ],
   "source": [
    "glue = my_boto3_session.client('glue', region_name=\"us-east-1\")\n",
    "\n",
    "try:\n",
    "    glue.delete_table(\n",
    "        DatabaseName='auladeploymodelos',\n",
    "        Name=ModelName+'_scored'\n",
    "    )\n",
    "except:\n",
    "    print(\"table does not exist e sera criada pela primeira vez\")\n",
    "\n",
    "glue.update_crawler(Name='aula-deploy-modelos',\n",
    "                    Targets={'S3Targets': [{'Path': 's3://%s/databases/%s' % (bucket, ModelName+'_scored'),\n",
    "                               'Exclusions': []}]})\n",
    "\n",
    "glue.start_crawler(Name='aula-deploy-modelos')"
   ]
  }
 ],
 "metadata": {
  "instance_type": "ml.t3.medium",
  "kernelspec": {
   "display_name": "Python 3.8 - Pytorch and Tensorflow",
   "language": "python",
   "name": "python38-azureml-pt-tf"
  },
  "language_info": {
   "codemirror_mode": {
    "name": "ipython",
    "version": 3
   },
   "file_extension": ".py",
   "mimetype": "text/x-python",
   "name": "python",
   "nbconvert_exporter": "python",
   "pygments_lexer": "ipython3",
   "version": "3.8.5"
  },
  "papermill": {
   "default_parameters": {},
   "duration": 1824.891487,
   "end_time": "2021-04-22T19:12:51.593458",
   "environment_variables": {},
   "exception": null,
   "input_path": "__notebook__.ipynb",
   "output_path": "__notebook__.ipynb",
   "parameters": {},
   "start_time": "2021-04-22T18:42:26.701971",
   "version": "2.3.2"
  },
  "widgets": {
   "application/vnd.jupyter.widget-state+json": {
    "state": {
     "1367ae52c04143d8b569a2018607131f": {
      "model_module": "@jupyter-widgets/controls",
      "model_module_version": "1.5.0",
      "model_name": "HTMLModel",
      "state": {
       "_dom_classes": [],
       "_model_module": "@jupyter-widgets/controls",
       "_model_module_version": "1.5.0",
       "_model_name": "HTMLModel",
       "_view_count": null,
       "_view_module": "@jupyter-widgets/controls",
       "_view_module_version": "1.5.0",
       "_view_name": "HTMLView",
       "description": "",
       "description_tooltip": null,
       "layout": "IPY_MODEL_cf0f1a3dba55429b94630faccf8f142f",
       "placeholder": "​",
       "style": "IPY_MODEL_8003ac93421f49c0bcc8412a93783fdc",
       "value": " 20/20 [01:30&lt;00:00,  4.10s/it]"
      }
     },
     "1960307545e444afa597f3ae9e570980": {
      "model_module": "@jupyter-widgets/controls",
      "model_module_version": "1.5.0",
      "model_name": "DescriptionStyleModel",
      "state": {
       "_model_module": "@jupyter-widgets/controls",
       "_model_module_version": "1.5.0",
       "_model_name": "DescriptionStyleModel",
       "_view_count": null,
       "_view_module": "@jupyter-widgets/base",
       "_view_module_version": "1.2.0",
       "_view_name": "StyleView",
       "description_width": ""
      }
     },
     "19f5b02e6d3145de9146687274a9b90d": {
      "model_module": "@jupyter-widgets/controls",
      "model_module_version": "1.5.0",
      "model_name": "HTMLModel",
      "state": {
       "_dom_classes": [],
       "_model_module": "@jupyter-widgets/controls",
       "_model_module_version": "1.5.0",
       "_model_name": "HTMLModel",
       "_view_count": null,
       "_view_module": "@jupyter-widgets/controls",
       "_view_module_version": "1.5.0",
       "_view_name": "HTMLView",
       "description": "",
       "description_tooltip": null,
       "layout": "IPY_MODEL_72b6da2d33514ad78863f8abc472304d",
       "placeholder": "​",
       "style": "IPY_MODEL_7fa7a452971a43f893f67bea5d998d27",
       "value": "Export report to file: 100%"
      }
     },
     "1aaccbf8980a4a87b279c54c0cd6ecdd": {
      "model_module": "@jupyter-widgets/base",
      "model_module_version": "1.2.0",
      "model_name": "LayoutModel",
      "state": {
       "_model_module": "@jupyter-widgets/base",
       "_model_module_version": "1.2.0",
       "_model_name": "LayoutModel",
       "_view_count": null,
       "_view_module": "@jupyter-widgets/base",
       "_view_module_version": "1.2.0",
       "_view_name": "LayoutView",
       "align_content": null,
       "align_items": null,
       "align_self": null,
       "border": null,
       "bottom": null,
       "display": null,
       "flex": null,
       "flex_flow": null,
       "grid_area": null,
       "grid_auto_columns": null,
       "grid_auto_flow": null,
       "grid_auto_rows": null,
       "grid_column": null,
       "grid_gap": null,
       "grid_row": null,
       "grid_template_areas": null,
       "grid_template_columns": null,
       "grid_template_rows": null,
       "height": null,
       "justify_content": null,
       "justify_items": null,
       "left": null,
       "margin": null,
       "max_height": null,
       "max_width": null,
       "min_height": null,
       "min_width": null,
       "object_fit": null,
       "object_position": null,
       "order": null,
       "overflow": null,
       "overflow_x": null,
       "overflow_y": null,
       "padding": null,
       "right": null,
       "top": null,
       "visibility": null,
       "width": null
      }
     },
     "1c7de68230104c4995b47fa29a599fc3": {
      "model_module": "@jupyter-widgets/controls",
      "model_module_version": "1.5.0",
      "model_name": "DescriptionStyleModel",
      "state": {
       "_model_module": "@jupyter-widgets/controls",
       "_model_module_version": "1.5.0",
       "_model_name": "DescriptionStyleModel",
       "_view_count": null,
       "_view_module": "@jupyter-widgets/base",
       "_view_module_version": "1.2.0",
       "_view_name": "StyleView",
       "description_width": ""
      }
     },
     "1e1865bed82a4c90a94b4024f9c7b585": {
      "model_module": "@jupyter-widgets/base",
      "model_module_version": "1.2.0",
      "model_name": "LayoutModel",
      "state": {
       "_model_module": "@jupyter-widgets/base",
       "_model_module_version": "1.2.0",
       "_model_name": "LayoutModel",
       "_view_count": null,
       "_view_module": "@jupyter-widgets/base",
       "_view_module_version": "1.2.0",
       "_view_name": "LayoutView",
       "align_content": null,
       "align_items": null,
       "align_self": null,
       "border": null,
       "bottom": null,
       "display": null,
       "flex": null,
       "flex_flow": null,
       "grid_area": null,
       "grid_auto_columns": null,
       "grid_auto_flow": null,
       "grid_auto_rows": null,
       "grid_column": null,
       "grid_gap": null,
       "grid_row": null,
       "grid_template_areas": null,
       "grid_template_columns": null,
       "grid_template_rows": null,
       "height": null,
       "justify_content": null,
       "justify_items": null,
       "left": null,
       "margin": null,
       "max_height": null,
       "max_width": null,
       "min_height": null,
       "min_width": null,
       "object_fit": null,
       "object_position": null,
       "order": null,
       "overflow": null,
       "overflow_x": null,
       "overflow_y": null,
       "padding": null,
       "right": null,
       "top": null,
       "visibility": null,
       "width": null
      }
     },
     "1f6013e469f44bae906f8b8d796ddf03": {
      "model_module": "@jupyter-widgets/base",
      "model_module_version": "1.2.0",
      "model_name": "LayoutModel",
      "state": {
       "_model_module": "@jupyter-widgets/base",
       "_model_module_version": "1.2.0",
       "_model_name": "LayoutModel",
       "_view_count": null,
       "_view_module": "@jupyter-widgets/base",
       "_view_module_version": "1.2.0",
       "_view_name": "LayoutView",
       "align_content": null,
       "align_items": null,
       "align_self": null,
       "border": null,
       "bottom": null,
       "display": null,
       "flex": null,
       "flex_flow": null,
       "grid_area": null,
       "grid_auto_columns": null,
       "grid_auto_flow": null,
       "grid_auto_rows": null,
       "grid_column": null,
       "grid_gap": null,
       "grid_row": null,
       "grid_template_areas": null,
       "grid_template_columns": null,
       "grid_template_rows": null,
       "height": null,
       "justify_content": null,
       "justify_items": null,
       "left": null,
       "margin": null,
       "max_height": null,
       "max_width": null,
       "min_height": null,
       "min_width": null,
       "object_fit": null,
       "object_position": null,
       "order": null,
       "overflow": null,
       "overflow_x": null,
       "overflow_y": null,
       "padding": null,
       "right": null,
       "top": null,
       "visibility": null,
       "width": null
      }
     },
     "2816683bca8b403393d16ddce7f61451": {
      "model_module": "@jupyter-widgets/controls",
      "model_module_version": "1.5.0",
      "model_name": "DescriptionStyleModel",
      "state": {
       "_model_module": "@jupyter-widgets/controls",
       "_model_module_version": "1.5.0",
       "_model_name": "DescriptionStyleModel",
       "_view_count": null,
       "_view_module": "@jupyter-widgets/base",
       "_view_module_version": "1.2.0",
       "_view_name": "StyleView",
       "description_width": ""
      }
     },
     "350e60f28d9b48938c8cd3c7a65adfc8": {
      "model_module": "@jupyter-widgets/base",
      "model_module_version": "1.2.0",
      "model_name": "LayoutModel",
      "state": {
       "_model_module": "@jupyter-widgets/base",
       "_model_module_version": "1.2.0",
       "_model_name": "LayoutModel",
       "_view_count": null,
       "_view_module": "@jupyter-widgets/base",
       "_view_module_version": "1.2.0",
       "_view_name": "LayoutView",
       "align_content": null,
       "align_items": null,
       "align_self": null,
       "border": null,
       "bottom": null,
       "display": null,
       "flex": null,
       "flex_flow": null,
       "grid_area": null,
       "grid_auto_columns": null,
       "grid_auto_flow": null,
       "grid_auto_rows": null,
       "grid_column": null,
       "grid_gap": null,
       "grid_row": null,
       "grid_template_areas": null,
       "grid_template_columns": null,
       "grid_template_rows": null,
       "height": null,
       "justify_content": null,
       "justify_items": null,
       "left": null,
       "margin": null,
       "max_height": null,
       "max_width": null,
       "min_height": null,
       "min_width": null,
       "object_fit": null,
       "object_position": null,
       "order": null,
       "overflow": null,
       "overflow_x": null,
       "overflow_y": null,
       "padding": null,
       "right": null,
       "top": null,
       "visibility": null,
       "width": null
      }
     },
     "4f4eb35c26b1492798fee9d3c4e5bb03": {
      "model_module": "@jupyter-widgets/controls",
      "model_module_version": "1.5.0",
      "model_name": "HTMLModel",
      "state": {
       "_dom_classes": [],
       "_model_module": "@jupyter-widgets/controls",
       "_model_module_version": "1.5.0",
       "_model_name": "HTMLModel",
       "_view_count": null,
       "_view_module": "@jupyter-widgets/controls",
       "_view_module_version": "1.5.0",
       "_view_name": "HTMLView",
       "description": "",
       "description_tooltip": null,
       "layout": "IPY_MODEL_bd08b7d0ff3a427d89a418e30f1ab16c",
       "placeholder": "​",
       "style": "IPY_MODEL_74688d13d99042c0aa1f214ded632a98",
       "value": " 50/50 [01:24&lt;00:00,  4.61s/it, Completed]"
      }
     },
     "5474ed5e459a4b07973ac3c6de3ae6e4": {
      "model_module": "@jupyter-widgets/controls",
      "model_module_version": "1.5.0",
      "model_name": "HTMLModel",
      "state": {
       "_dom_classes": [],
       "_model_module": "@jupyter-widgets/controls",
       "_model_module_version": "1.5.0",
       "_model_name": "HTMLModel",
       "_view_count": null,
       "_view_module": "@jupyter-widgets/controls",
       "_view_module_version": "1.5.0",
       "_view_name": "HTMLView",
       "description": "",
       "description_tooltip": null,
       "layout": "IPY_MODEL_c4aa5744ad87433dbf595d79c833656c",
       "placeholder": "​",
       "style": "IPY_MODEL_1960307545e444afa597f3ae9e570980",
       "value": "Render HTML: 100%"
      }
     },
     "552e9ee63afb4e9f9437d29dadcbe0ee": {
      "model_module": "@jupyter-widgets/controls",
      "model_module_version": "1.5.0",
      "model_name": "DescriptionStyleModel",
      "state": {
       "_model_module": "@jupyter-widgets/controls",
       "_model_module_version": "1.5.0",
       "_model_name": "DescriptionStyleModel",
       "_view_count": null,
       "_view_module": "@jupyter-widgets/base",
       "_view_module_version": "1.2.0",
       "_view_name": "StyleView",
       "description_width": ""
      }
     },
     "55b5e671bdc54737914052f021be0b42": {
      "model_module": "@jupyter-widgets/controls",
      "model_module_version": "1.5.0",
      "model_name": "HTMLModel",
      "state": {
       "_dom_classes": [],
       "_model_module": "@jupyter-widgets/controls",
       "_model_module_version": "1.5.0",
       "_model_name": "HTMLModel",
       "_view_count": null,
       "_view_module": "@jupyter-widgets/controls",
       "_view_module_version": "1.5.0",
       "_view_name": "HTMLView",
       "description": "",
       "description_tooltip": null,
       "layout": "IPY_MODEL_1f6013e469f44bae906f8b8d796ddf03",
       "placeholder": "​",
       "style": "IPY_MODEL_1c7de68230104c4995b47fa29a599fc3",
       "value": " 1/1 [00:00&lt;00:00,  5.95it/s]"
      }
     },
     "6b28a19b4fc34c7a8e973878b6f7c0a9": {
      "model_module": "@jupyter-widgets/controls",
      "model_module_version": "1.5.0",
      "model_name": "ProgressStyleModel",
      "state": {
       "_model_module": "@jupyter-widgets/controls",
       "_model_module_version": "1.5.0",
       "_model_name": "ProgressStyleModel",
       "_view_count": null,
       "_view_module": "@jupyter-widgets/base",
       "_view_module_version": "1.2.0",
       "_view_name": "StyleView",
       "bar_color": null,
       "description_width": ""
      }
     },
     "6d4bcb70a3e940619712a90fd9ee4cef": {
      "model_module": "@jupyter-widgets/controls",
      "model_module_version": "1.5.0",
      "model_name": "DescriptionStyleModel",
      "state": {
       "_model_module": "@jupyter-widgets/controls",
       "_model_module_version": "1.5.0",
       "_model_name": "DescriptionStyleModel",
       "_view_count": null,
       "_view_module": "@jupyter-widgets/base",
       "_view_module_version": "1.2.0",
       "_view_name": "StyleView",
       "description_width": ""
      }
     },
     "6f17d9d9c82c4179a703e6b4b458dcb2": {
      "model_module": "@jupyter-widgets/base",
      "model_module_version": "1.2.0",
      "model_name": "LayoutModel",
      "state": {
       "_model_module": "@jupyter-widgets/base",
       "_model_module_version": "1.2.0",
       "_model_name": "LayoutModel",
       "_view_count": null,
       "_view_module": "@jupyter-widgets/base",
       "_view_module_version": "1.2.0",
       "_view_name": "LayoutView",
       "align_content": null,
       "align_items": null,
       "align_self": null,
       "border": null,
       "bottom": null,
       "display": null,
       "flex": null,
       "flex_flow": null,
       "grid_area": null,
       "grid_auto_columns": null,
       "grid_auto_flow": null,
       "grid_auto_rows": null,
       "grid_column": null,
       "grid_gap": null,
       "grid_row": null,
       "grid_template_areas": null,
       "grid_template_columns": null,
       "grid_template_rows": null,
       "height": null,
       "justify_content": null,
       "justify_items": null,
       "left": null,
       "margin": null,
       "max_height": null,
       "max_width": null,
       "min_height": null,
       "min_width": null,
       "object_fit": null,
       "object_position": null,
       "order": null,
       "overflow": null,
       "overflow_x": null,
       "overflow_y": null,
       "padding": null,
       "right": null,
       "top": null,
       "visibility": null,
       "width": null
      }
     },
     "72b6da2d33514ad78863f8abc472304d": {
      "model_module": "@jupyter-widgets/base",
      "model_module_version": "1.2.0",
      "model_name": "LayoutModel",
      "state": {
       "_model_module": "@jupyter-widgets/base",
       "_model_module_version": "1.2.0",
       "_model_name": "LayoutModel",
       "_view_count": null,
       "_view_module": "@jupyter-widgets/base",
       "_view_module_version": "1.2.0",
       "_view_name": "LayoutView",
       "align_content": null,
       "align_items": null,
       "align_self": null,
       "border": null,
       "bottom": null,
       "display": null,
       "flex": null,
       "flex_flow": null,
       "grid_area": null,
       "grid_auto_columns": null,
       "grid_auto_flow": null,
       "grid_auto_rows": null,
       "grid_column": null,
       "grid_gap": null,
       "grid_row": null,
       "grid_template_areas": null,
       "grid_template_columns": null,
       "grid_template_rows": null,
       "height": null,
       "justify_content": null,
       "justify_items": null,
       "left": null,
       "margin": null,
       "max_height": null,
       "max_width": null,
       "min_height": null,
       "min_width": null,
       "object_fit": null,
       "object_position": null,
       "order": null,
       "overflow": null,
       "overflow_x": null,
       "overflow_y": null,
       "padding": null,
       "right": null,
       "top": null,
       "visibility": null,
       "width": null
      }
     },
     "74688d13d99042c0aa1f214ded632a98": {
      "model_module": "@jupyter-widgets/controls",
      "model_module_version": "1.5.0",
      "model_name": "DescriptionStyleModel",
      "state": {
       "_model_module": "@jupyter-widgets/controls",
       "_model_module_version": "1.5.0",
       "_model_name": "DescriptionStyleModel",
       "_view_count": null,
       "_view_module": "@jupyter-widgets/base",
       "_view_module_version": "1.2.0",
       "_view_name": "StyleView",
       "description_width": ""
      }
     },
     "762e5b00a7ec49938287a92e9a580d19": {
      "model_module": "@jupyter-widgets/controls",
      "model_module_version": "1.5.0",
      "model_name": "DescriptionStyleModel",
      "state": {
       "_model_module": "@jupyter-widgets/controls",
       "_model_module_version": "1.5.0",
       "_model_name": "DescriptionStyleModel",
       "_view_count": null,
       "_view_module": "@jupyter-widgets/base",
       "_view_module_version": "1.2.0",
       "_view_name": "StyleView",
       "description_width": ""
      }
     },
     "76c56e1e33a7431492e707c94f679aca": {
      "model_module": "@jupyter-widgets/controls",
      "model_module_version": "1.5.0",
      "model_name": "HBoxModel",
      "state": {
       "_dom_classes": [],
       "_model_module": "@jupyter-widgets/controls",
       "_model_module_version": "1.5.0",
       "_model_name": "HBoxModel",
       "_view_count": null,
       "_view_module": "@jupyter-widgets/controls",
       "_view_module_version": "1.5.0",
       "_view_name": "HBoxView",
       "box_style": "",
       "children": [
        "IPY_MODEL_ede833cb0df046c5a6a4d4ccd16aa2e3",
        "IPY_MODEL_f56bfc6a11e948e28d78ea2301c2f477",
        "IPY_MODEL_1367ae52c04143d8b569a2018607131f"
       ],
       "layout": "IPY_MODEL_aa3e16338d604e4eb9a39e0299403146"
      }
     },
     "786c2267f8114517950e53245ae33022": {
      "model_module": "@jupyter-widgets/controls",
      "model_module_version": "1.5.0",
      "model_name": "HBoxModel",
      "state": {
       "_dom_classes": [],
       "_model_module": "@jupyter-widgets/controls",
       "_model_module_version": "1.5.0",
       "_model_name": "HBoxModel",
       "_view_count": null,
       "_view_module": "@jupyter-widgets/controls",
       "_view_module_version": "1.5.0",
       "_view_name": "HBoxView",
       "box_style": "",
       "children": [
        "IPY_MODEL_ba18d469602341cf9a58cf3b0b22aea9",
        "IPY_MODEL_a4c3d9944af64d68b4ebc01e5dd2437c",
        "IPY_MODEL_4f4eb35c26b1492798fee9d3c4e5bb03"
       ],
       "layout": "IPY_MODEL_b8b02491395045f5875ce167c0210c27"
      }
     },
     "7d988be3a23740abb4b092b50a7de2b0": {
      "model_module": "@jupyter-widgets/controls",
      "model_module_version": "1.5.0",
      "model_name": "HTMLModel",
      "state": {
       "_dom_classes": [],
       "_model_module": "@jupyter-widgets/controls",
       "_model_module_version": "1.5.0",
       "_model_name": "HTMLModel",
       "_view_count": null,
       "_view_module": "@jupyter-widgets/controls",
       "_view_module_version": "1.5.0",
       "_view_name": "HTMLView",
       "description": "",
       "description_tooltip": null,
       "layout": "IPY_MODEL_aac3cc7d1f2849cebbc45462095c0a48",
       "placeholder": "​",
       "style": "IPY_MODEL_552e9ee63afb4e9f9437d29dadcbe0ee",
       "value": "Generate report structure: 100%"
      }
     },
     "7dc03db759c64b779a38890f763846f6": {
      "model_module": "@jupyter-widgets/controls",
      "model_module_version": "1.5.0",
      "model_name": "FloatProgressModel",
      "state": {
       "_dom_classes": [],
       "_model_module": "@jupyter-widgets/controls",
       "_model_module_version": "1.5.0",
       "_model_name": "FloatProgressModel",
       "_view_count": null,
       "_view_module": "@jupyter-widgets/controls",
       "_view_module_version": "1.5.0",
       "_view_name": "ProgressView",
       "bar_style": "success",
       "description": "",
       "description_tooltip": null,
       "layout": "IPY_MODEL_f599ccf3d064469b90cc2bb818d0d8cb",
       "max": 1,
       "min": 0,
       "orientation": "horizontal",
       "style": "IPY_MODEL_d047c358579f42de823c513d8b87bd54",
       "value": 1
      }
     },
     "7fa7a452971a43f893f67bea5d998d27": {
      "model_module": "@jupyter-widgets/controls",
      "model_module_version": "1.5.0",
      "model_name": "DescriptionStyleModel",
      "state": {
       "_model_module": "@jupyter-widgets/controls",
       "_model_module_version": "1.5.0",
       "_model_name": "DescriptionStyleModel",
       "_view_count": null,
       "_view_module": "@jupyter-widgets/base",
       "_view_module_version": "1.2.0",
       "_view_name": "StyleView",
       "description_width": ""
      }
     },
     "7fc985fe271c400f8d922006f845e02d": {
      "model_module": "@jupyter-widgets/controls",
      "model_module_version": "1.5.0",
      "model_name": "ProgressStyleModel",
      "state": {
       "_model_module": "@jupyter-widgets/controls",
       "_model_module_version": "1.5.0",
       "_model_name": "ProgressStyleModel",
       "_view_count": null,
       "_view_module": "@jupyter-widgets/base",
       "_view_module_version": "1.2.0",
       "_view_name": "StyleView",
       "bar_color": null,
       "description_width": ""
      }
     },
     "8003ac93421f49c0bcc8412a93783fdc": {
      "model_module": "@jupyter-widgets/controls",
      "model_module_version": "1.5.0",
      "model_name": "DescriptionStyleModel",
      "state": {
       "_model_module": "@jupyter-widgets/controls",
       "_model_module_version": "1.5.0",
       "_model_name": "DescriptionStyleModel",
       "_view_count": null,
       "_view_module": "@jupyter-widgets/base",
       "_view_module_version": "1.2.0",
       "_view_name": "StyleView",
       "description_width": ""
      }
     },
     "8b62d842cd4f41b79aa6da6cec427083": {
      "model_module": "@jupyter-widgets/base",
      "model_module_version": "1.2.0",
      "model_name": "LayoutModel",
      "state": {
       "_model_module": "@jupyter-widgets/base",
       "_model_module_version": "1.2.0",
       "_model_name": "LayoutModel",
       "_view_count": null,
       "_view_module": "@jupyter-widgets/base",
       "_view_module_version": "1.2.0",
       "_view_name": "LayoutView",
       "align_content": null,
       "align_items": null,
       "align_self": null,
       "border": null,
       "bottom": null,
       "display": null,
       "flex": null,
       "flex_flow": null,
       "grid_area": null,
       "grid_auto_columns": null,
       "grid_auto_flow": null,
       "grid_auto_rows": null,
       "grid_column": null,
       "grid_gap": null,
       "grid_row": null,
       "grid_template_areas": null,
       "grid_template_columns": null,
       "grid_template_rows": null,
       "height": null,
       "justify_content": null,
       "justify_items": null,
       "left": null,
       "margin": null,
       "max_height": null,
       "max_width": null,
       "min_height": null,
       "min_width": null,
       "object_fit": null,
       "object_position": null,
       "order": null,
       "overflow": null,
       "overflow_x": null,
       "overflow_y": null,
       "padding": null,
       "right": null,
       "top": null,
       "visibility": null,
       "width": null
      }
     },
     "8b71ddb9a01d466b91484d1f3e7d96af": {
      "model_module": "@jupyter-widgets/base",
      "model_module_version": "1.2.0",
      "model_name": "LayoutModel",
      "state": {
       "_model_module": "@jupyter-widgets/base",
       "_model_module_version": "1.2.0",
       "_model_name": "LayoutModel",
       "_view_count": null,
       "_view_module": "@jupyter-widgets/base",
       "_view_module_version": "1.2.0",
       "_view_name": "LayoutView",
       "align_content": null,
       "align_items": null,
       "align_self": null,
       "border": null,
       "bottom": null,
       "display": null,
       "flex": null,
       "flex_flow": null,
       "grid_area": null,
       "grid_auto_columns": null,
       "grid_auto_flow": null,
       "grid_auto_rows": null,
       "grid_column": null,
       "grid_gap": null,
       "grid_row": null,
       "grid_template_areas": null,
       "grid_template_columns": null,
       "grid_template_rows": null,
       "height": null,
       "justify_content": null,
       "justify_items": null,
       "left": null,
       "margin": null,
       "max_height": null,
       "max_width": null,
       "min_height": null,
       "min_width": null,
       "object_fit": null,
       "object_position": null,
       "order": null,
       "overflow": null,
       "overflow_x": null,
       "overflow_y": null,
       "padding": null,
       "right": null,
       "top": null,
       "visibility": null,
       "width": null
      }
     },
     "8bc5b0e540704062bebfd2be22d96e03": {
      "model_module": "@jupyter-widgets/controls",
      "model_module_version": "1.5.0",
      "model_name": "ProgressStyleModel",
      "state": {
       "_model_module": "@jupyter-widgets/controls",
       "_model_module_version": "1.5.0",
       "_model_name": "ProgressStyleModel",
       "_view_count": null,
       "_view_module": "@jupyter-widgets/base",
       "_view_module_version": "1.2.0",
       "_view_name": "StyleView",
       "bar_color": null,
       "description_width": ""
      }
     },
     "8f4ad3ed9b624449bb3951c1b78206d7": {
      "model_module": "@jupyter-widgets/controls",
      "model_module_version": "1.5.0",
      "model_name": "HBoxModel",
      "state": {
       "_dom_classes": [],
       "_model_module": "@jupyter-widgets/controls",
       "_model_module_version": "1.5.0",
       "_model_name": "HBoxModel",
       "_view_count": null,
       "_view_module": "@jupyter-widgets/controls",
       "_view_module_version": "1.5.0",
       "_view_name": "HBoxView",
       "box_style": "",
       "children": [
        "IPY_MODEL_5474ed5e459a4b07973ac3c6de3ae6e4",
        "IPY_MODEL_90e6c04395594a2baea9e529efd6cafb",
        "IPY_MODEL_b1a09a450d25455fb7d6f0fda505bb00"
       ],
       "layout": "IPY_MODEL_8b62d842cd4f41b79aa6da6cec427083"
      }
     },
     "90e6c04395594a2baea9e529efd6cafb": {
      "model_module": "@jupyter-widgets/controls",
      "model_module_version": "1.5.0",
      "model_name": "FloatProgressModel",
      "state": {
       "_dom_classes": [],
       "_model_module": "@jupyter-widgets/controls",
       "_model_module_version": "1.5.0",
       "_model_name": "FloatProgressModel",
       "_view_count": null,
       "_view_module": "@jupyter-widgets/controls",
       "_view_module_version": "1.5.0",
       "_view_name": "ProgressView",
       "bar_style": "success",
       "description": "",
       "description_tooltip": null,
       "layout": "IPY_MODEL_a8d065cce96144b3abede928e48b70d6",
       "max": 1,
       "min": 0,
       "orientation": "horizontal",
       "style": "IPY_MODEL_6b28a19b4fc34c7a8e973878b6f7c0a9",
       "value": 1
      }
     },
     "98237f92a3e04185a26d148ebfd67b53": {
      "model_module": "@jupyter-widgets/base",
      "model_module_version": "1.2.0",
      "model_name": "LayoutModel",
      "state": {
       "_model_module": "@jupyter-widgets/base",
       "_model_module_version": "1.2.0",
       "_model_name": "LayoutModel",
       "_view_count": null,
       "_view_module": "@jupyter-widgets/base",
       "_view_module_version": "1.2.0",
       "_view_name": "LayoutView",
       "align_content": null,
       "align_items": null,
       "align_self": null,
       "border": null,
       "bottom": null,
       "display": null,
       "flex": null,
       "flex_flow": null,
       "grid_area": null,
       "grid_auto_columns": null,
       "grid_auto_flow": null,
       "grid_auto_rows": null,
       "grid_column": null,
       "grid_gap": null,
       "grid_row": null,
       "grid_template_areas": null,
       "grid_template_columns": null,
       "grid_template_rows": null,
       "height": null,
       "justify_content": null,
       "justify_items": null,
       "left": null,
       "margin": null,
       "max_height": null,
       "max_width": null,
       "min_height": null,
       "min_width": null,
       "object_fit": null,
       "object_position": null,
       "order": null,
       "overflow": null,
       "overflow_x": null,
       "overflow_y": null,
       "padding": null,
       "right": null,
       "top": null,
       "visibility": null,
       "width": null
      }
     },
     "a4c3d9944af64d68b4ebc01e5dd2437c": {
      "model_module": "@jupyter-widgets/controls",
      "model_module_version": "1.5.0",
      "model_name": "FloatProgressModel",
      "state": {
       "_dom_classes": [],
       "_model_module": "@jupyter-widgets/controls",
       "_model_module_version": "1.5.0",
       "_model_name": "FloatProgressModel",
       "_view_count": null,
       "_view_module": "@jupyter-widgets/controls",
       "_view_module_version": "1.5.0",
       "_view_name": "ProgressView",
       "bar_style": "success",
       "description": "",
       "description_tooltip": null,
       "layout": "IPY_MODEL_c46b4f3793fa4e229cb30cfb2db5b75b",
       "max": 50,
       "min": 0,
       "orientation": "horizontal",
       "style": "IPY_MODEL_7fc985fe271c400f8d922006f845e02d",
       "value": 50
      }
     },
     "a8d065cce96144b3abede928e48b70d6": {
      "model_module": "@jupyter-widgets/base",
      "model_module_version": "1.2.0",
      "model_name": "LayoutModel",
      "state": {
       "_model_module": "@jupyter-widgets/base",
       "_model_module_version": "1.2.0",
       "_model_name": "LayoutModel",
       "_view_count": null,
       "_view_module": "@jupyter-widgets/base",
       "_view_module_version": "1.2.0",
       "_view_name": "LayoutView",
       "align_content": null,
       "align_items": null,
       "align_self": null,
       "border": null,
       "bottom": null,
       "display": null,
       "flex": null,
       "flex_flow": null,
       "grid_area": null,
       "grid_auto_columns": null,
       "grid_auto_flow": null,
       "grid_auto_rows": null,
       "grid_column": null,
       "grid_gap": null,
       "grid_row": null,
       "grid_template_areas": null,
       "grid_template_columns": null,
       "grid_template_rows": null,
       "height": null,
       "justify_content": null,
       "justify_items": null,
       "left": null,
       "margin": null,
       "max_height": null,
       "max_width": null,
       "min_height": null,
       "min_width": null,
       "object_fit": null,
       "object_position": null,
       "order": null,
       "overflow": null,
       "overflow_x": null,
       "overflow_y": null,
       "padding": null,
       "right": null,
       "top": null,
       "visibility": null,
       "width": null
      }
     },
     "a9a926e54eb9475da96c6213bac01c20": {
      "model_module": "@jupyter-widgets/controls",
      "model_module_version": "1.5.0",
      "model_name": "HTMLModel",
      "state": {
       "_dom_classes": [],
       "_model_module": "@jupyter-widgets/controls",
       "_model_module_version": "1.5.0",
       "_model_name": "HTMLModel",
       "_view_count": null,
       "_view_module": "@jupyter-widgets/controls",
       "_view_module_version": "1.5.0",
       "_view_name": "HTMLView",
       "description": "",
       "description_tooltip": null,
       "layout": "IPY_MODEL_1e1865bed82a4c90a94b4024f9c7b585",
       "placeholder": "​",
       "style": "IPY_MODEL_e6074bcf78cb4f2eab2fd3728ecc3838",
       "value": " 1/1 [00:11&lt;00:00, 11.20s/it]"
      }
     },
     "a9f8a338fef14fa4822404f98c9e4b01": {
      "model_module": "@jupyter-widgets/controls",
      "model_module_version": "1.5.0",
      "model_name": "FloatProgressModel",
      "state": {
       "_dom_classes": [],
       "_model_module": "@jupyter-widgets/controls",
       "_model_module_version": "1.5.0",
       "_model_name": "FloatProgressModel",
       "_view_count": null,
       "_view_module": "@jupyter-widgets/controls",
       "_view_module_version": "1.5.0",
       "_view_name": "ProgressView",
       "bar_style": "success",
       "description": "",
       "description_tooltip": null,
       "layout": "IPY_MODEL_adf7c0b9f9ad4328a5caec0007d0d89c",
       "max": 1,
       "min": 0,
       "orientation": "horizontal",
       "style": "IPY_MODEL_8bc5b0e540704062bebfd2be22d96e03",
       "value": 1
      }
     },
     "aa3e16338d604e4eb9a39e0299403146": {
      "model_module": "@jupyter-widgets/base",
      "model_module_version": "1.2.0",
      "model_name": "LayoutModel",
      "state": {
       "_model_module": "@jupyter-widgets/base",
       "_model_module_version": "1.2.0",
       "_model_name": "LayoutModel",
       "_view_count": null,
       "_view_module": "@jupyter-widgets/base",
       "_view_module_version": "1.2.0",
       "_view_name": "LayoutView",
       "align_content": null,
       "align_items": null,
       "align_self": null,
       "border": null,
       "bottom": null,
       "display": null,
       "flex": null,
       "flex_flow": null,
       "grid_area": null,
       "grid_auto_columns": null,
       "grid_auto_flow": null,
       "grid_auto_rows": null,
       "grid_column": null,
       "grid_gap": null,
       "grid_row": null,
       "grid_template_areas": null,
       "grid_template_columns": null,
       "grid_template_rows": null,
       "height": null,
       "justify_content": null,
       "justify_items": null,
       "left": null,
       "margin": null,
       "max_height": null,
       "max_width": null,
       "min_height": null,
       "min_width": null,
       "object_fit": null,
       "object_position": null,
       "order": null,
       "overflow": null,
       "overflow_x": null,
       "overflow_y": null,
       "padding": null,
       "right": null,
       "top": null,
       "visibility": null,
       "width": null
      }
     },
     "aac3cc7d1f2849cebbc45462095c0a48": {
      "model_module": "@jupyter-widgets/base",
      "model_module_version": "1.2.0",
      "model_name": "LayoutModel",
      "state": {
       "_model_module": "@jupyter-widgets/base",
       "_model_module_version": "1.2.0",
       "_model_name": "LayoutModel",
       "_view_count": null,
       "_view_module": "@jupyter-widgets/base",
       "_view_module_version": "1.2.0",
       "_view_name": "LayoutView",
       "align_content": null,
       "align_items": null,
       "align_self": null,
       "border": null,
       "bottom": null,
       "display": null,
       "flex": null,
       "flex_flow": null,
       "grid_area": null,
       "grid_auto_columns": null,
       "grid_auto_flow": null,
       "grid_auto_rows": null,
       "grid_column": null,
       "grid_gap": null,
       "grid_row": null,
       "grid_template_areas": null,
       "grid_template_columns": null,
       "grid_template_rows": null,
       "height": null,
       "justify_content": null,
       "justify_items": null,
       "left": null,
       "margin": null,
       "max_height": null,
       "max_width": null,
       "min_height": null,
       "min_width": null,
       "object_fit": null,
       "object_position": null,
       "order": null,
       "overflow": null,
       "overflow_x": null,
       "overflow_y": null,
       "padding": null,
       "right": null,
       "top": null,
       "visibility": null,
       "width": null
      }
     },
     "adf7c0b9f9ad4328a5caec0007d0d89c": {
      "model_module": "@jupyter-widgets/base",
      "model_module_version": "1.2.0",
      "model_name": "LayoutModel",
      "state": {
       "_model_module": "@jupyter-widgets/base",
       "_model_module_version": "1.2.0",
       "_model_name": "LayoutModel",
       "_view_count": null,
       "_view_module": "@jupyter-widgets/base",
       "_view_module_version": "1.2.0",
       "_view_name": "LayoutView",
       "align_content": null,
       "align_items": null,
       "align_self": null,
       "border": null,
       "bottom": null,
       "display": null,
       "flex": null,
       "flex_flow": null,
       "grid_area": null,
       "grid_auto_columns": null,
       "grid_auto_flow": null,
       "grid_auto_rows": null,
       "grid_column": null,
       "grid_gap": null,
       "grid_row": null,
       "grid_template_areas": null,
       "grid_template_columns": null,
       "grid_template_rows": null,
       "height": null,
       "justify_content": null,
       "justify_items": null,
       "left": null,
       "margin": null,
       "max_height": null,
       "max_width": null,
       "min_height": null,
       "min_width": null,
       "object_fit": null,
       "object_position": null,
       "order": null,
       "overflow": null,
       "overflow_x": null,
       "overflow_y": null,
       "padding": null,
       "right": null,
       "top": null,
       "visibility": null,
       "width": null
      }
     },
     "b0790db729a74457b1d381473d748b8a": {
      "model_module": "@jupyter-widgets/base",
      "model_module_version": "1.2.0",
      "model_name": "LayoutModel",
      "state": {
       "_model_module": "@jupyter-widgets/base",
       "_model_module_version": "1.2.0",
       "_model_name": "LayoutModel",
       "_view_count": null,
       "_view_module": "@jupyter-widgets/base",
       "_view_module_version": "1.2.0",
       "_view_name": "LayoutView",
       "align_content": null,
       "align_items": null,
       "align_self": null,
       "border": null,
       "bottom": null,
       "display": null,
       "flex": null,
       "flex_flow": null,
       "grid_area": null,
       "grid_auto_columns": null,
       "grid_auto_flow": null,
       "grid_auto_rows": null,
       "grid_column": null,
       "grid_gap": null,
       "grid_row": null,
       "grid_template_areas": null,
       "grid_template_columns": null,
       "grid_template_rows": null,
       "height": null,
       "justify_content": null,
       "justify_items": null,
       "left": null,
       "margin": null,
       "max_height": null,
       "max_width": null,
       "min_height": null,
       "min_width": null,
       "object_fit": null,
       "object_position": null,
       "order": null,
       "overflow": null,
       "overflow_x": null,
       "overflow_y": null,
       "padding": null,
       "right": null,
       "top": null,
       "visibility": null,
       "width": null
      }
     },
     "b1a09a450d25455fb7d6f0fda505bb00": {
      "model_module": "@jupyter-widgets/controls",
      "model_module_version": "1.5.0",
      "model_name": "HTMLModel",
      "state": {
       "_dom_classes": [],
       "_model_module": "@jupyter-widgets/controls",
       "_model_module_version": "1.5.0",
       "_model_name": "HTMLModel",
       "_view_count": null,
       "_view_module": "@jupyter-widgets/controls",
       "_view_module_version": "1.5.0",
       "_view_name": "HTMLView",
       "description": "",
       "description_tooltip": null,
       "layout": "IPY_MODEL_6f17d9d9c82c4179a703e6b4b458dcb2",
       "placeholder": "​",
       "style": "IPY_MODEL_6d4bcb70a3e940619712a90fd9ee4cef",
       "value": " 1/1 [00:29&lt;00:00, 29.17s/it]"
      }
     },
     "b8b02491395045f5875ce167c0210c27": {
      "model_module": "@jupyter-widgets/base",
      "model_module_version": "1.2.0",
      "model_name": "LayoutModel",
      "state": {
       "_model_module": "@jupyter-widgets/base",
       "_model_module_version": "1.2.0",
       "_model_name": "LayoutModel",
       "_view_count": null,
       "_view_module": "@jupyter-widgets/base",
       "_view_module_version": "1.2.0",
       "_view_name": "LayoutView",
       "align_content": null,
       "align_items": null,
       "align_self": null,
       "border": null,
       "bottom": null,
       "display": null,
       "flex": null,
       "flex_flow": null,
       "grid_area": null,
       "grid_auto_columns": null,
       "grid_auto_flow": null,
       "grid_auto_rows": null,
       "grid_column": null,
       "grid_gap": null,
       "grid_row": null,
       "grid_template_areas": null,
       "grid_template_columns": null,
       "grid_template_rows": null,
       "height": null,
       "justify_content": null,
       "justify_items": null,
       "left": null,
       "margin": null,
       "max_height": null,
       "max_width": null,
       "min_height": null,
       "min_width": null,
       "object_fit": null,
       "object_position": null,
       "order": null,
       "overflow": null,
       "overflow_x": null,
       "overflow_y": null,
       "padding": null,
       "right": null,
       "top": null,
       "visibility": null,
       "width": null
      }
     },
     "ba18d469602341cf9a58cf3b0b22aea9": {
      "model_module": "@jupyter-widgets/controls",
      "model_module_version": "1.5.0",
      "model_name": "HTMLModel",
      "state": {
       "_dom_classes": [],
       "_model_module": "@jupyter-widgets/controls",
       "_model_module_version": "1.5.0",
       "_model_name": "HTMLModel",
       "_view_count": null,
       "_view_module": "@jupyter-widgets/controls",
       "_view_module_version": "1.5.0",
       "_view_name": "HTMLView",
       "description": "",
       "description_tooltip": null,
       "layout": "IPY_MODEL_8b71ddb9a01d466b91484d1f3e7d96af",
       "placeholder": "​",
       "style": "IPY_MODEL_2816683bca8b403393d16ddce7f61451",
       "value": "Summarize dataset: 100%"
      }
     },
     "bd08b7d0ff3a427d89a418e30f1ab16c": {
      "model_module": "@jupyter-widgets/base",
      "model_module_version": "1.2.0",
      "model_name": "LayoutModel",
      "state": {
       "_model_module": "@jupyter-widgets/base",
       "_model_module_version": "1.2.0",
       "_model_name": "LayoutModel",
       "_view_count": null,
       "_view_module": "@jupyter-widgets/base",
       "_view_module_version": "1.2.0",
       "_view_name": "LayoutView",
       "align_content": null,
       "align_items": null,
       "align_self": null,
       "border": null,
       "bottom": null,
       "display": null,
       "flex": null,
       "flex_flow": null,
       "grid_area": null,
       "grid_auto_columns": null,
       "grid_auto_flow": null,
       "grid_auto_rows": null,
       "grid_column": null,
       "grid_gap": null,
       "grid_row": null,
       "grid_template_areas": null,
       "grid_template_columns": null,
       "grid_template_rows": null,
       "height": null,
       "justify_content": null,
       "justify_items": null,
       "left": null,
       "margin": null,
       "max_height": null,
       "max_width": null,
       "min_height": null,
       "min_width": null,
       "object_fit": null,
       "object_position": null,
       "order": null,
       "overflow": null,
       "overflow_x": null,
       "overflow_y": null,
       "padding": null,
       "right": null,
       "top": null,
       "visibility": null,
       "width": null
      }
     },
     "c46b4f3793fa4e229cb30cfb2db5b75b": {
      "model_module": "@jupyter-widgets/base",
      "model_module_version": "1.2.0",
      "model_name": "LayoutModel",
      "state": {
       "_model_module": "@jupyter-widgets/base",
       "_model_module_version": "1.2.0",
       "_model_name": "LayoutModel",
       "_view_count": null,
       "_view_module": "@jupyter-widgets/base",
       "_view_module_version": "1.2.0",
       "_view_name": "LayoutView",
       "align_content": null,
       "align_items": null,
       "align_self": null,
       "border": null,
       "bottom": null,
       "display": null,
       "flex": null,
       "flex_flow": null,
       "grid_area": null,
       "grid_auto_columns": null,
       "grid_auto_flow": null,
       "grid_auto_rows": null,
       "grid_column": null,
       "grid_gap": null,
       "grid_row": null,
       "grid_template_areas": null,
       "grid_template_columns": null,
       "grid_template_rows": null,
       "height": null,
       "justify_content": null,
       "justify_items": null,
       "left": null,
       "margin": null,
       "max_height": null,
       "max_width": null,
       "min_height": null,
       "min_width": null,
       "object_fit": null,
       "object_position": null,
       "order": null,
       "overflow": null,
       "overflow_x": null,
       "overflow_y": null,
       "padding": null,
       "right": null,
       "top": null,
       "visibility": null,
       "width": null
      }
     },
     "c4aa5744ad87433dbf595d79c833656c": {
      "model_module": "@jupyter-widgets/base",
      "model_module_version": "1.2.0",
      "model_name": "LayoutModel",
      "state": {
       "_model_module": "@jupyter-widgets/base",
       "_model_module_version": "1.2.0",
       "_model_name": "LayoutModel",
       "_view_count": null,
       "_view_module": "@jupyter-widgets/base",
       "_view_module_version": "1.2.0",
       "_view_name": "LayoutView",
       "align_content": null,
       "align_items": null,
       "align_self": null,
       "border": null,
       "bottom": null,
       "display": null,
       "flex": null,
       "flex_flow": null,
       "grid_area": null,
       "grid_auto_columns": null,
       "grid_auto_flow": null,
       "grid_auto_rows": null,
       "grid_column": null,
       "grid_gap": null,
       "grid_row": null,
       "grid_template_areas": null,
       "grid_template_columns": null,
       "grid_template_rows": null,
       "height": null,
       "justify_content": null,
       "justify_items": null,
       "left": null,
       "margin": null,
       "max_height": null,
       "max_width": null,
       "min_height": null,
       "min_width": null,
       "object_fit": null,
       "object_position": null,
       "order": null,
       "overflow": null,
       "overflow_x": null,
       "overflow_y": null,
       "padding": null,
       "right": null,
       "top": null,
       "visibility": null,
       "width": null
      }
     },
     "cf0f1a3dba55429b94630faccf8f142f": {
      "model_module": "@jupyter-widgets/base",
      "model_module_version": "1.2.0",
      "model_name": "LayoutModel",
      "state": {
       "_model_module": "@jupyter-widgets/base",
       "_model_module_version": "1.2.0",
       "_model_name": "LayoutModel",
       "_view_count": null,
       "_view_module": "@jupyter-widgets/base",
       "_view_module_version": "1.2.0",
       "_view_name": "LayoutView",
       "align_content": null,
       "align_items": null,
       "align_self": null,
       "border": null,
       "bottom": null,
       "display": null,
       "flex": null,
       "flex_flow": null,
       "grid_area": null,
       "grid_auto_columns": null,
       "grid_auto_flow": null,
       "grid_auto_rows": null,
       "grid_column": null,
       "grid_gap": null,
       "grid_row": null,
       "grid_template_areas": null,
       "grid_template_columns": null,
       "grid_template_rows": null,
       "height": null,
       "justify_content": null,
       "justify_items": null,
       "left": null,
       "margin": null,
       "max_height": null,
       "max_width": null,
       "min_height": null,
       "min_width": null,
       "object_fit": null,
       "object_position": null,
       "order": null,
       "overflow": null,
       "overflow_x": null,
       "overflow_y": null,
       "padding": null,
       "right": null,
       "top": null,
       "visibility": null,
       "width": null
      }
     },
     "d047c358579f42de823c513d8b87bd54": {
      "model_module": "@jupyter-widgets/controls",
      "model_module_version": "1.5.0",
      "model_name": "ProgressStyleModel",
      "state": {
       "_model_module": "@jupyter-widgets/controls",
       "_model_module_version": "1.5.0",
       "_model_name": "ProgressStyleModel",
       "_view_count": null,
       "_view_module": "@jupyter-widgets/base",
       "_view_module_version": "1.2.0",
       "_view_name": "StyleView",
       "bar_color": null,
       "description_width": ""
      }
     },
     "e367d8585ece43f3a5a07d2baf9a7f18": {
      "model_module": "@jupyter-widgets/controls",
      "model_module_version": "1.5.0",
      "model_name": "HBoxModel",
      "state": {
       "_dom_classes": [],
       "_model_module": "@jupyter-widgets/controls",
       "_model_module_version": "1.5.0",
       "_model_name": "HBoxModel",
       "_view_count": null,
       "_view_module": "@jupyter-widgets/controls",
       "_view_module_version": "1.5.0",
       "_view_name": "HBoxView",
       "box_style": "",
       "children": [
        "IPY_MODEL_7d988be3a23740abb4b092b50a7de2b0",
        "IPY_MODEL_7dc03db759c64b779a38890f763846f6",
        "IPY_MODEL_a9a926e54eb9475da96c6213bac01c20"
       ],
       "layout": "IPY_MODEL_b0790db729a74457b1d381473d748b8a"
      }
     },
     "e4589928473345f786402b635e35a412": {
      "model_module": "@jupyter-widgets/controls",
      "model_module_version": "1.5.0",
      "model_name": "ProgressStyleModel",
      "state": {
       "_model_module": "@jupyter-widgets/controls",
       "_model_module_version": "1.5.0",
       "_model_name": "ProgressStyleModel",
       "_view_count": null,
       "_view_module": "@jupyter-widgets/base",
       "_view_module_version": "1.2.0",
       "_view_name": "StyleView",
       "bar_color": null,
       "description_width": ""
      }
     },
     "e6074bcf78cb4f2eab2fd3728ecc3838": {
      "model_module": "@jupyter-widgets/controls",
      "model_module_version": "1.5.0",
      "model_name": "DescriptionStyleModel",
      "state": {
       "_model_module": "@jupyter-widgets/controls",
       "_model_module_version": "1.5.0",
       "_model_name": "DescriptionStyleModel",
       "_view_count": null,
       "_view_module": "@jupyter-widgets/base",
       "_view_module_version": "1.2.0",
       "_view_name": "StyleView",
       "description_width": ""
      }
     },
     "ec581eeca781490e94efaccfad85d37b": {
      "model_module": "@jupyter-widgets/controls",
      "model_module_version": "1.5.0",
      "model_name": "HBoxModel",
      "state": {
       "_dom_classes": [],
       "_model_module": "@jupyter-widgets/controls",
       "_model_module_version": "1.5.0",
       "_model_name": "HBoxModel",
       "_view_count": null,
       "_view_module": "@jupyter-widgets/controls",
       "_view_module_version": "1.5.0",
       "_view_name": "HBoxView",
       "box_style": "",
       "children": [
        "IPY_MODEL_19f5b02e6d3145de9146687274a9b90d",
        "IPY_MODEL_a9f8a338fef14fa4822404f98c9e4b01",
        "IPY_MODEL_55b5e671bdc54737914052f021be0b42"
       ],
       "layout": "IPY_MODEL_1aaccbf8980a4a87b279c54c0cd6ecdd"
      }
     },
     "ede833cb0df046c5a6a4d4ccd16aa2e3": {
      "model_module": "@jupyter-widgets/controls",
      "model_module_version": "1.5.0",
      "model_name": "HTMLModel",
      "state": {
       "_dom_classes": [],
       "_model_module": "@jupyter-widgets/controls",
       "_model_module_version": "1.5.0",
       "_model_name": "HTMLModel",
       "_view_count": null,
       "_view_module": "@jupyter-widgets/controls",
       "_view_module_version": "1.5.0",
       "_view_name": "HTMLView",
       "description": "",
       "description_tooltip": null,
       "layout": "IPY_MODEL_98237f92a3e04185a26d148ebfd67b53",
       "placeholder": "​",
       "style": "IPY_MODEL_762e5b00a7ec49938287a92e9a580d19",
       "value": "100%"
      }
     },
     "f56bfc6a11e948e28d78ea2301c2f477": {
      "model_module": "@jupyter-widgets/controls",
      "model_module_version": "1.5.0",
      "model_name": "FloatProgressModel",
      "state": {
       "_dom_classes": [],
       "_model_module": "@jupyter-widgets/controls",
       "_model_module_version": "1.5.0",
       "_model_name": "FloatProgressModel",
       "_view_count": null,
       "_view_module": "@jupyter-widgets/controls",
       "_view_module_version": "1.5.0",
       "_view_name": "ProgressView",
       "bar_style": "success",
       "description": "",
       "description_tooltip": null,
       "layout": "IPY_MODEL_350e60f28d9b48938c8cd3c7a65adfc8",
       "max": 20,
       "min": 0,
       "orientation": "horizontal",
       "style": "IPY_MODEL_e4589928473345f786402b635e35a412",
       "value": 20
      }
     },
     "f599ccf3d064469b90cc2bb818d0d8cb": {
      "model_module": "@jupyter-widgets/base",
      "model_module_version": "1.2.0",
      "model_name": "LayoutModel",
      "state": {
       "_model_module": "@jupyter-widgets/base",
       "_model_module_version": "1.2.0",
       "_model_name": "LayoutModel",
       "_view_count": null,
       "_view_module": "@jupyter-widgets/base",
       "_view_module_version": "1.2.0",
       "_view_name": "LayoutView",
       "align_content": null,
       "align_items": null,
       "align_self": null,
       "border": null,
       "bottom": null,
       "display": null,
       "flex": null,
       "flex_flow": null,
       "grid_area": null,
       "grid_auto_columns": null,
       "grid_auto_flow": null,
       "grid_auto_rows": null,
       "grid_column": null,
       "grid_gap": null,
       "grid_row": null,
       "grid_template_areas": null,
       "grid_template_columns": null,
       "grid_template_rows": null,
       "height": null,
       "justify_content": null,
       "justify_items": null,
       "left": null,
       "margin": null,
       "max_height": null,
       "max_width": null,
       "min_height": null,
       "min_width": null,
       "object_fit": null,
       "object_position": null,
       "order": null,
       "overflow": null,
       "overflow_x": null,
       "overflow_y": null,
       "padding": null,
       "right": null,
       "top": null,
       "visibility": null,
       "width": null
      }
     }
    },
    "version_major": 2,
    "version_minor": 0
   }
  }
 },
 "nbformat": 4,
 "nbformat_minor": 5
}
