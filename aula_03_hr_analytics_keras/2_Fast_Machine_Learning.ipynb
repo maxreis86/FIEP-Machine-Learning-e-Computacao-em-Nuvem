{
 "cells": [
  {
   "cell_type": "markdown",
   "id": "9b9a345b",
   "metadata": {
    "tags": []
   },
   "source": [
    "# Train and Compare Machine Learning Models\n",
    "* To succecfully run this notebook you need a python3.7 kernel with requirements in ./sagemaker-custom-image/requirements.txt"
   ]
  },
  {
   "cell_type": "markdown",
   "id": "7e1cd532",
   "metadata": {
    "papermill": {
     "duration": 0.04859,
     "end_time": "2021-04-22T18:42:32.131294",
     "exception": false,
     "start_time": "2021-04-22T18:42:32.082704",
     "status": "completed"
    },
    "tags": []
   },
   "source": [
    "## This notebook will help you to do:\n",
    "* Import train and test data\n",
    "* Run many ML algorithms using SageMaker Autopilot\n",
    "* Run many ML algorithms using H2O AutoML\n",
    "* Compare all model performance in test dataset\n",
    "* Choosing and save the best model"
   ]
  },
  {
   "cell_type": "markdown",
   "id": "bc9fc03d",
   "metadata": {
    "papermill": {
     "duration": 0.046916,
     "end_time": "2021-04-22T18:42:32.225806",
     "exception": false,
     "start_time": "2021-04-22T18:42:32.178890",
     "status": "completed"
    },
    "tags": []
   },
   "source": [
    "# 1. Parameters"
   ]
  },
  {
   "cell_type": "code",
   "execution_count": 245,
   "id": "066f3b3e",
   "metadata": {
    "papermill": {
     "duration": 0.055908,
     "end_time": "2021-04-22T18:42:32.329142",
     "exception": false,
     "start_time": "2021-04-22T18:42:32.273234",
     "status": "completed"
    },
    "tags": [],
    "vscode": {
     "languageId": "python"
    }
   },
   "outputs": [],
   "source": [
    "#Name\n",
    "ModelName = 'hr_analytics'\n",
    "#Version\n",
    "ModelVersion = 'v1'\n",
    "\n",
    "#Model ID\n",
    "ModelId = ModelName+'_'+ModelVersion\n",
    "\n",
    "#Setting the model target variable name\n",
    "VarTarget = 'is_promoted'\n",
    "VarId = 'employee_id'\n",
    "VarDate = 'reference_date'\n",
    "\n",
    "#process outputs such as MOJO model, images and performance of tested models\n",
    "OutputPath = './output_model/'\n",
    "\n",
    "#If you have a huge dataset, I should consider use a small sample for first execution\n",
    "PctSampleSize = 1\n",
    "\n",
    "CAT = ['department'\n",
    ",'region'\n",
    ",'education'\n",
    ",'gender'\n",
    ",'recruitment_channel'\n",
    ",'kpis_met_80']\n",
    "\n",
    "#float\n",
    "#Testar as variaveis no_of_trainings e previous_year_rating como categorcias e ver se melhora o modelo\n",
    "NUM = ['no_of_trainings'\n",
    ",'previous_year_rating'       \n",
    ",'age'\n",
    ",'length_of_service'\n",
    ",'avg_training_score'\n",
    "]\n",
    "selected_features = CAT + NUM"
   ]
  },
  {
   "cell_type": "markdown",
   "id": "194dae3d",
   "metadata": {
    "papermill": {
     "duration": 0.047515,
     "end_time": "2021-04-22T18:42:32.423393",
     "exception": false,
     "start_time": "2021-04-22T18:42:32.375878",
     "status": "completed"
    },
    "tags": []
   },
   "source": [
    "# 2. Import Libraries"
   ]
  },
  {
   "cell_type": "code",
   "execution_count": 246,
   "id": "d9fe0364",
   "metadata": {
    "papermill": {
     "duration": 9.765238,
     "end_time": "2021-04-22T18:42:42.235677",
     "exception": false,
     "start_time": "2021-04-22T18:42:32.470439",
     "status": "completed"
    },
    "tags": [],
    "vscode": {
     "languageId": "python"
    }
   },
   "outputs": [],
   "source": [
    "import sys\n",
    "sys.path.append('/anaconda/envs/azureml_py38/lib/python3.8/site-packages')\n",
    "\n",
    "import functools\n",
    "import os\n",
    "from time import gmtime, strftime, sleep\n",
    "import datetime as dt\n",
    "import pandas as pd\n",
    "import numpy as np\n",
    "import glob\n",
    "import boto3\n",
    "import h2o\n",
    "import matplotlib.pyplot as plt\n",
    "from sklearn import metrics\n",
    "import shutil\n",
    "import seaborn as sns\n",
    "from io import StringIO\n",
    "from sklearn.model_selection import train_test_split\n",
    "from keras import Sequential\n",
    "from keras.layers import Dense\n",
    "import warnings\n",
    "warnings.filterwarnings(\"ignore\", category=FutureWarning)"
   ]
  },
  {
   "cell_type": "markdown",
   "id": "31e39df3",
   "metadata": {
    "papermill": {
     "duration": 0.045874,
     "end_time": "2021-04-22T18:42:42.327994",
     "exception": false,
     "start_time": "2021-04-22T18:42:42.282120",
     "status": "completed"
    },
    "tags": []
   },
   "source": [
    "# 3. Importing Data for Modeling"
   ]
  },
  {
   "cell_type": "code",
   "execution_count": 82,
   "id": "9920ad81",
   "metadata": {
    "vscode": {
     "languageId": "python"
    }
   },
   "outputs": [],
   "source": [
    "dataprep_df_full = pd.read_csv('./HR_Analytics/dataprep_df.csv')\n",
    "normalized_and_dummy_df = pd.read_csv('./HR_Analytics/normalized_and_dummy_df.csv')"
   ]
  },
  {
   "cell_type": "code",
   "execution_count": 83,
   "id": "ff809ba1",
   "metadata": {
    "papermill": {
     "duration": 0.054085,
     "end_time": "2021-04-22T18:42:42.984342",
     "exception": false,
     "start_time": "2021-04-22T18:42:42.930257",
     "status": "completed"
    },
    "tags": [],
    "vscode": {
     "languageId": "python"
    }
   },
   "outputs": [],
   "source": [
    "#Work with a sample data if the PctSampleSize is less than 1\n",
    "if PctSampleSize == 1:\n",
    "    dataprep_df = dataprep_df_full.copy()\n",
    "else:\n",
    "    dataprep_df = dataprep_df_full.sample(frac=PctSampleSize, replace=False, random_state=1)\n",
    "del dataprep_df_full"
   ]
  },
  {
   "cell_type": "code",
   "execution_count": 84,
   "id": "10f40f8d",
   "metadata": {
    "papermill": {
     "duration": 1.860101,
     "end_time": "2021-04-22T18:45:15.821982",
     "exception": false,
     "start_time": "2021-04-22T18:45:13.961881",
     "status": "completed"
    },
    "tags": [],
    "vscode": {
     "languageId": "python"
    }
   },
   "outputs": [],
   "source": [
    "#Numeric features must be float type\n",
    "for col_name in NUM:\n",
    "    dataprep_df[col_name] = dataprep_df[col_name].astype(float)\n",
    "\n",
    "#Categorical features must be string type and null values will be filled with \"missing\"\n",
    "for col_name in CAT:\n",
    "    dataprep_df[col_name] = dataprep_df[col_name].astype(str)"
   ]
  },
  {
   "cell_type": "code",
   "execution_count": 85,
   "id": "db60d0ac",
   "metadata": {
    "vscode": {
     "languageId": "python"
    }
   },
   "outputs": [],
   "source": [
    "#Include the new variables\n",
    "normalized_and_dummy = []\n",
    "for i in normalized_and_dummy_df.columns:\n",
    "    if (i.startswith('dummy_')) or (i.startswith('normalized_')):\n",
    "        normalized_and_dummy.append(i)"
   ]
  },
  {
   "cell_type": "code",
   "execution_count": 86,
   "id": "a154fd86",
   "metadata": {
    "vscode": {
     "languageId": "python"
    }
   },
   "outputs": [
    {
     "data": {
      "image/png": "[encoded data removed]",
      "text/plain": [
       "<Figure size 1080x360 with 2 Axes>"
      ]
     },
     "metadata": {
      "needs_background": "light"
     },
     "output_type": "display_data"
    }
   ],
   "source": [
    "#plot the final dataset with time period, train and test definitions\n",
    "dataprep_target = dataprep_df[[VarDate, VarId, VarTarget, 'dataset']].groupby(by=[VarDate, 'dataset']).agg({VarId:'count', VarTarget:'sum'})\n",
    "dataprep_target['target_rate'] = dataprep_target[VarTarget] / dataprep_target[VarId]\n",
    "\n",
    "\n",
    "dataprep_target[VarId].plot(secondary_y=False, kind='bar', rot=90, figsize=(15,5), linewidth=2, fontsize=12, grid=True, legend=1, title=(\"# Observations / % Good Rate\"))\n",
    "ax = dataprep_target.target_rate.plot(secondary_y=True, kind=\"line\", rot=90, figsize=(15,5), linewidth=2, fontsize=12, marker=\"D\", ms=8, grid=True, color='r', legend=1)\n",
    "for p in range(len(dataprep_target)):\n",
    "    ax.annotate(str('{0:.1%}'.format(int(dataprep_target.reset_index().iloc[p,4]*1000)/1000)), (dataprep_target.reset_index().index.values[p], dataprep_target.reset_index().iloc[p,4]*1))"
   ]
  },
  {
   "cell_type": "markdown",
   "id": "6723de5a",
   "metadata": {},
   "source": [
    "## 3.1 Treatment of Numeric Missing Data"
   ]
  },
  {
   "cell_type": "code",
   "execution_count": 87,
   "id": "899aa941",
   "metadata": {
    "vscode": {
     "languageId": "python"
    }
   },
   "outputs": [],
   "source": [
    "#Create the \"Missing\" category for missing values in string vaviables\n",
    "# dataprep_df = dataprep_df.apply(lambda x: x.fillna(np.nan) if x.dtype.kind in 'biufc' else x.fillna('Missing'))"
   ]
  },
  {
   "cell_type": "code",
   "execution_count": 88,
   "id": "ecbf9803",
   "metadata": {
    "vscode": {
     "languageId": "python"
    }
   },
   "outputs": [],
   "source": [
    "#Tratamento da idade\n",
    "# dataprep_df['age_mean'] = dataprep_df['age'].fillna(dataprep_df['age'].mean())"
   ]
  },
  {
   "cell_type": "markdown",
   "id": "9ad40624",
   "metadata": {},
   "source": [
    "## 3.2 Outliers Removing"
   ]
  },
  {
   "cell_type": "code",
   "execution_count": 89,
   "id": "ed9f0165",
   "metadata": {
    "vscode": {
     "languageId": "python"
    }
   },
   "outputs": [],
   "source": [
    "# var = 'max_salary_offered_to_prev_application'\n",
    "\n",
    "# q_low = dataprep_df[var].quantile(0.00012)\n",
    "# q_hi  = dataprep_df[var].quantile(0.9999)\n",
    "# print('Low: ' + str(q_low))\n",
    "# print('High: ' + str(q_hi))\n",
    "# print('Reduction: '\n",
    "#       + \"{0:.2%}\".format(len(dataprep_df[(dataprep_df[var] <= q_hi) & (dataprep_df[var] >= q_low)])/len(dataprep_df)-1)\n",
    "#       + \" | \"\n",
    "#       + str(len(dataprep_df)-len(dataprep_df[(dataprep_df[var] <= q_hi) & (dataprep_df[var] >= q_low)])))\n",
    "\n",
    "# def plot_comparison(x, title, low, high):\n",
    "#     fig, ax = plt.subplots(3, 1, sharex=True, constrained_layout=True, figsize=(15,5))\n",
    "#     fig.suptitle(title, fontsize=16)\n",
    "#     sns.distplot(x.rename(\"\"), ax=ax[0])\n",
    "#     ax[0].set_title('Histogram + KDE')\n",
    "#     sns.boxplot(x.rename(\"\"), ax=ax[1])\n",
    "#     ax[1].set_title('Boxplot')\n",
    "#     sns.violinplot(x.rename(\"\"), ax=ax[2])\n",
    "#     ax[2].set_title('Violin plot')\n",
    "#     # only one line may be specified; full height\n",
    "#     ax[1].axvline(x = low, color = 'red')\n",
    "#     ax[1].axvline(x = high, color = 'red')\n",
    "#     plt.show()\n",
    "    \n",
    "# plot_comparison(dataprep_df[var], var, q_low, q_hi)\n",
    "\n",
    "# dataprep_df = dataprep_df[(dataprep_df[var] <= q_hi) & (dataprep_df[var] >= q_low)]"
   ]
  },
  {
   "cell_type": "markdown",
   "id": "96c5d9b2",
   "metadata": {
    "papermill": {
     "duration": 1.872284,
     "end_time": "2021-04-22T18:45:55.674812",
     "exception": false,
     "start_time": "2021-04-22T18:45:53.802528",
     "status": "completed"
    },
    "tags": []
   },
   "source": [
    "# 4. Modeling"
   ]
  },
  {
   "cell_type": "markdown",
   "id": "75140177",
   "metadata": {},
   "source": [
    "## 4.1 H2O AutoML"
   ]
  },
  {
   "cell_type": "markdown",
   "id": "60dfd052",
   "metadata": {
    "papermill": {
     "duration": 1.852401,
     "end_time": "2021-04-22T18:45:59.917491",
     "exception": false,
     "start_time": "2021-04-22T18:45:58.065090",
     "status": "completed"
    },
    "tags": []
   },
   "source": [
    "## 4.1.1 Creating context and H2O and Importing data into the H2O context"
   ]
  },
  {
   "cell_type": "code",
   "execution_count": 11,
   "id": "76d4da38",
   "metadata": {
    "papermill": {
     "duration": 9.429937,
     "end_time": "2021-04-22T18:46:11.178938",
     "exception": false,
     "start_time": "2021-04-22T18:46:01.749001",
     "status": "completed"
    },
    "tags": [],
    "vscode": {
     "languageId": "python"
    }
   },
   "outputs": [
    {
     "name": "stdout",
     "output_type": "stream",
     "text": [
      "Checking whether there is an H2O instance running at http://localhost:54321 ..... not found.\n",
      "Attempting to start a local H2O server...\n",
      "  Java Version: openjdk version \"11.0.17\" 2022-10-18; OpenJDK Runtime Environment (build 11.0.17+8-post-Ubuntu-1ubuntu220.04); OpenJDK 64-Bit Server VM (build 11.0.17+8-post-Ubuntu-1ubuntu220.04, mixed mode, sharing)\n",
      "  Starting server from /anaconda/envs/azureml_py38/lib/python3.8/site-packages/h2o/backend/bin/h2o.jar\n",
      "  Ice root: /tmp/tmpx723885p\n",
      "  JVM stdout: /tmp/tmpx723885p/h2o_azureuser_started_from_python.out\n",
      "  JVM stderr: /tmp/tmpx723885p/h2o_azureuser_started_from_python.err\n",
      "  Server is running at http://127.0.0.1:54321\n",
      "Connecting to H2O server at http://127.0.0.1:54321 ... successful.\n",
      "Warning: Your H2O cluster version is too old (5 months and 6 days)!Please download and install the latest version from http://h2o.ai/download/\n"
     ]
    },
    {
     "data": {
      "text/html": [
       "<div style=\"overflow:auto\"><table style=\"width:50%\"><tr><td>H2O_cluster_uptime:</td>\n",
       "<td>08 secs</td></tr>\n",
       "<tr><td>H2O_cluster_timezone:</td>\n",
       "<td>Etc/UTC</td></tr>\n",
       "<tr><td>H2O_data_parsing_timezone:</td>\n",
       "<td>UTC</td></tr>\n",
       "<tr><td>H2O_cluster_version:</td>\n",
       "<td>3.36.1.3</td></tr>\n",
       "<tr><td>H2O_cluster_version_age:</td>\n",
       "<td>5 months and 6 days !!!</td></tr>\n",
       "<tr><td>H2O_cluster_name:</td>\n",
       "<td>H2O_from_python_azureuser_yjvvps</td></tr>\n",
       "<tr><td>H2O_cluster_total_nodes:</td>\n",
       "<td>1</td></tr>\n",
       "<tr><td>H2O_cluster_free_memory:</td>\n",
       "<td>13.73 Gb</td></tr>\n",
       "<tr><td>H2O_cluster_total_cores:</td>\n",
       "<td>6</td></tr>\n",
       "<tr><td>H2O_cluster_allowed_cores:</td>\n",
       "<td>6</td></tr>\n",
       "<tr><td>H2O_cluster_status:</td>\n",
       "<td>locked, healthy</td></tr>\n",
       "<tr><td>H2O_connection_url:</td>\n",
       "<td>http://127.0.0.1:54321</td></tr>\n",
       "<tr><td>H2O_connection_proxy:</td>\n",
       "<td>{\"http\": null, \"https\": null}</td></tr>\n",
       "<tr><td>H2O_internal_security:</td>\n",
       "<td>False</td></tr>\n",
       "<tr><td>Python_version:</td>\n",
       "<td>3.8.5 final</td></tr></table></div>"
      ],
      "text/plain": [
       "--------------------------  --------------------------------\n",
       "H2O_cluster_uptime:         08 secs\n",
       "H2O_cluster_timezone:       Etc/UTC\n",
       "H2O_data_parsing_timezone:  UTC\n",
       "H2O_cluster_version:        3.36.1.3\n",
       "H2O_cluster_version_age:    5 months and 6 days !!!\n",
       "H2O_cluster_name:           H2O_from_python_azureuser_yjvvps\n",
       "H2O_cluster_total_nodes:    1\n",
       "H2O_cluster_free_memory:    13.73 Gb\n",
       "H2O_cluster_total_cores:    6\n",
       "H2O_cluster_allowed_cores:  6\n",
       "H2O_cluster_status:         locked, healthy\n",
       "H2O_connection_url:         http://127.0.0.1:54321\n",
       "H2O_connection_proxy:       {\"http\": null, \"https\": null}\n",
       "H2O_internal_security:      False\n",
       "Python_version:             3.8.5 final\n",
       "--------------------------  --------------------------------"
      ]
     },
     "metadata": {},
     "output_type": "display_data"
    }
   ],
   "source": [
    "# Number of threads, nthreads = -1, means use all cores on your machine\n",
    "# max_mem_size is the maximum memory (in GB) to allocate to H2O\n",
    "# h2o.init(nthreads = -1, max_mem_size = '4G')\n",
    "h2o.init(nthreads = -1)"
   ]
  },
  {
   "cell_type": "code",
   "execution_count": 46,
   "id": "02669d63",
   "metadata": {
    "papermill": {
     "duration": 6.347148,
     "end_time": "2021-04-22T18:46:19.457051",
     "exception": false,
     "start_time": "2021-04-22T18:46:13.109903",
     "status": "completed"
    },
    "tags": [],
    "vscode": {
     "languageId": "python"
    }
   },
   "outputs": [
    {
     "name": "stdout",
     "output_type": "stream",
     "text": [
      "Parse progress: |████████████████████████████████████████████████████████████████| (done) 100%\n",
      "Training: 38480\n",
      "Validation: 4338\n"
     ]
    }
   ],
   "source": [
    "#Import TRAINING base to the H20 context\n",
    "data_hdf = h2o.H2OFrame(dataprep_df.query('dataset == \"train\"').loc[:, (selected_features+[VarTarget])])\n",
    "\n",
    "# Conversion of Target variables and categorical features to factor (enum)\n",
    "#no H2O it is necessary that the categorical variables are transformed into a factor\n",
    "data_hdf[VarTarget] = data_hdf[VarTarget].asfactor()\n",
    "for col_name in CAT:\n",
    "    data_hdf[col_name] = data_hdf[col_name].asfactor()\n",
    "for col_name in NUM:\n",
    "    data_hdf[col_name] = data_hdf[col_name].asnumeric()\n",
    "    \n",
    "# Partition data into 90%, 10% chunks\n",
    "# Setting a seed will guarantee reproducibility\n",
    "train_hdf, valid_hdf = data_hdf.split_frame(ratios=[0.90], destination_frames=['train_hdf', 'valid_hdf'], seed=1)\n",
    "        \n",
    "#Notice that `split_frame()` uses approximate splitting not exact splitting (for efficiency), so these are not exactly 90%, 10% of the total rows.\n",
    "print('Training: ' + str(train_hdf.nrow))\n",
    "print('Validation: ' + str(valid_hdf.nrow))"
   ]
  },
  {
   "cell_type": "code",
   "execution_count": 47,
   "id": "d29d63d7",
   "metadata": {
    "papermill": {
     "duration": 2.207041,
     "end_time": "2021-04-22T18:46:25.310701",
     "exception": false,
     "start_time": "2021-04-22T18:46:23.103660",
     "status": "completed"
    },
    "tags": [],
    "vscode": {
     "languageId": "python"
    }
   },
   "outputs": [
    {
     "name": "stdout",
     "output_type": "stream",
     "text": [
      "Parse progress: |████████████████████████████████████████████████████████████████| (done) 100%\n",
      "Test: 10751\n"
     ]
    }
   ],
   "source": [
    "#Import TEST base to the H20 context\n",
    "test_hdf = h2o.H2OFrame(dataprep_df.query('dataset == \"test\"').loc[:, (selected_features+[VarTarget])])\n",
    "\n",
    "# Conversion of Target variables and categorical features to factor (enum)\n",
    "#no H2O it is necessary that the categorical variables are transformed into a factor\n",
    "test_hdf[VarTarget] = test_hdf[VarTarget].asfactor()\n",
    "for col_name in CAT:\n",
    "    test_hdf[col_name] = test_hdf[col_name].asfactor()\n",
    "for col_name in NUM:\n",
    "    test_hdf[col_name] = test_hdf[col_name].asnumeric()\n",
    "    \n",
    "print('Test: ' + str(test_hdf.nrow))"
   ]
  },
  {
   "cell_type": "markdown",
   "id": "9b486e68",
   "metadata": {
    "papermill": {
     "duration": 2.256133,
     "end_time": "2021-04-22T18:46:29.610706",
     "exception": false,
     "start_time": "2021-04-22T18:46:27.354573",
     "status": "completed"
    },
    "tags": []
   },
   "source": [
    "## 4.1.2 Using H2O AutoML to performe all algorithms"
   ]
  },
  {
   "cell_type": "code",
   "execution_count": null,
   "id": "bddbf265",
   "metadata": {
    "papermill": {
     "duration": 1235.649013,
     "end_time": "2021-04-22T19:08:07.242503",
     "exception": false,
     "start_time": "2021-04-22T18:47:31.593490",
     "status": "completed"
    },
    "tags": [],
    "vscode": {
     "languageId": "python"
    }
   },
   "outputs": [
    {
     "name": "stdout",
     "output_type": "stream",
     "text": [
      "AutoML progress: |\n",
      "02:11:56.388: User specified a validation frame with cross-validation still enabled. Please note that the models will still be validated using cross-validation only, the validation frame will be used to provide purely informative validation metrics on the trained models.\n",
      "\n",
      "████████████████████████████████████████"
     ]
    }
   ],
   "source": [
    "##H2O Parameters:\n",
    "\n",
    "vModel='AUTOML'\n",
    "\n",
    "#Set the maximum time in seconds for the H20 AutoML\n",
    "max_runtime_secs=60*1*2\n",
    "\n",
    "#Define metrics to select the best model in AutoML\n",
    "sort_metric = 'AUCPR'\n",
    "\n",
    "#Execution time of the model\n",
    "start = dt.datetime.now()\n",
    "\n",
    "from h2o.automl import H2OAutoML\n",
    "AUTOML = H2OAutoML(seed=1,\n",
    "#                    exclude_algos=[\"StackedEnsemble\"],\n",
    "                   max_runtime_secs = max_runtime_secs,\n",
    "                   stopping_metric = sort_metric,\n",
    "                   sort_metric = sort_metric)\n",
    "AUTOML.train(x=selected_features, y=VarTarget, training_frame = train_hdf, validation_frame = valid_hdf, leaderboard_frame=test_hdf)\n",
    "\n",
    "#Execution time of the model\n",
    "stop = dt.datetime.now()\n",
    "execution_time = stop-start\n",
    "print(\"\\n\"+ \"Execution time: \" + str(execution_time) + \"\\n\")"
   ]
  },
  {
   "cell_type": "code",
   "execution_count": 248,
   "id": "2735c200",
   "metadata": {
    "collapsed": true,
    "jupyter": {
     "outputs_hidden": true
    },
    "tags": [],
    "vscode": {
     "languageId": "python"
    }
   },
   "outputs": [
    {
     "data": {
      "text/html": [
       "<table>\n",
       "<thead>\n",
       "<tr><th>model_id                                              </th><th style=\"text-align: right;\">    aucpr</th><th style=\"text-align: right;\">     auc</th><th style=\"text-align: right;\">  logloss</th><th style=\"text-align: right;\">  mean_per_class_error</th><th style=\"text-align: right;\">    rmse</th><th style=\"text-align: right;\">      mse</th></tr>\n",
       "</thead>\n",
       "<tbody>\n",
       "<tr><td>StackedEnsemble_BestOfFamily_3_AutoML_3_20221215_21156</td><td style=\"text-align: right;\">0.591185 </td><td style=\"text-align: right;\">0.903549</td><td style=\"text-align: right;\"> 0.165542</td><td style=\"text-align: right;\">              0.306481</td><td style=\"text-align: right;\">0.220021</td><td style=\"text-align: right;\">0.0484093</td></tr>\n",
       "<tr><td>StackedEnsemble_AllModels_2_AutoML_3_20221215_21156   </td><td style=\"text-align: right;\">0.59053  </td><td style=\"text-align: right;\">0.903681</td><td style=\"text-align: right;\"> 0.165653</td><td style=\"text-align: right;\">              0.313453</td><td style=\"text-align: right;\">0.220154</td><td style=\"text-align: right;\">0.0484678</td></tr>\n",
       "<tr><td>StackedEnsemble_BestOfFamily_4_AutoML_3_20221215_21156</td><td style=\"text-align: right;\">0.589756 </td><td style=\"text-align: right;\">0.901114</td><td style=\"text-align: right;\"> 0.168121</td><td style=\"text-align: right;\">              0.305572</td><td style=\"text-align: right;\">0.220188</td><td style=\"text-align: right;\">0.0484826</td></tr>\n",
       "<tr><td>StackedEnsemble_BestOfFamily_6_AutoML_3_20221215_21156</td><td style=\"text-align: right;\">0.589674 </td><td style=\"text-align: right;\">0.901056</td><td style=\"text-align: right;\"> 0.168123</td><td style=\"text-align: right;\">              0.305724</td><td style=\"text-align: right;\">0.220188</td><td style=\"text-align: right;\">0.0484826</td></tr>\n",
       "<tr><td>GBM_5_AutoML_3_20221215_21156                         </td><td style=\"text-align: right;\">0.589104 </td><td style=\"text-align: right;\">0.902993</td><td style=\"text-align: right;\"> 0.169634</td><td style=\"text-align: right;\">              0.319362</td><td style=\"text-align: right;\">0.22083 </td><td style=\"text-align: right;\">0.0487661</td></tr>\n",
       "<tr><td>StackedEnsemble_AllModels_3_AutoML_3_20221215_21156   </td><td style=\"text-align: right;\">0.585899 </td><td style=\"text-align: right;\">0.901755</td><td style=\"text-align: right;\"> 0.165636</td><td style=\"text-align: right;\">              0.29533 </td><td style=\"text-align: right;\">0.22017 </td><td style=\"text-align: right;\">0.0484749</td></tr>\n",
       "<tr><td>GBM_grid_1_AutoML_3_20221215_21156_model_181          </td><td style=\"text-align: right;\">0.585799 </td><td style=\"text-align: right;\">0.902124</td><td style=\"text-align: right;\"> 0.169476</td><td style=\"text-align: right;\">              0.306688</td><td style=\"text-align: right;\">0.221373</td><td style=\"text-align: right;\">0.0490061</td></tr>\n",
       "<tr><td>StackedEnsemble_BestOfFamily_5_AutoML_3_20221215_21156</td><td style=\"text-align: right;\">0.585735 </td><td style=\"text-align: right;\">0.903093</td><td style=\"text-align: right;\"> 0.167524</td><td style=\"text-align: right;\">              0.325376</td><td style=\"text-align: right;\">0.22052 </td><td style=\"text-align: right;\">0.0486289</td></tr>\n",
       "<tr><td>StackedEnsemble_AllModels_4_AutoML_3_20221215_21156   </td><td style=\"text-align: right;\">0.585673 </td><td style=\"text-align: right;\">0.901705</td><td style=\"text-align: right;\"> 0.165647</td><td style=\"text-align: right;\">              0.294471</td><td style=\"text-align: right;\">0.22017 </td><td style=\"text-align: right;\">0.048475 </td></tr>\n",
       "<tr><td>StackedEnsemble_BestOfFamily_2_AutoML_3_20221215_21156</td><td style=\"text-align: right;\">0.585145 </td><td style=\"text-align: right;\">0.901258</td><td style=\"text-align: right;\"> 0.169155</td><td style=\"text-align: right;\">              0.309465</td><td style=\"text-align: right;\">0.221869</td><td style=\"text-align: right;\">0.049226 </td></tr>\n",
       "<tr><td>StackedEnsemble_AllModels_1_AutoML_3_20221215_21156   </td><td style=\"text-align: right;\">0.584694 </td><td style=\"text-align: right;\">0.901657</td><td style=\"text-align: right;\"> 0.168783</td><td style=\"text-align: right;\">              0.313407</td><td style=\"text-align: right;\">0.221733</td><td style=\"text-align: right;\">0.0491657</td></tr>\n",
       "<tr><td>GBM_2_AutoML_3_20221215_21156                         </td><td style=\"text-align: right;\">0.58425  </td><td style=\"text-align: right;\">0.900229</td><td style=\"text-align: right;\"> 0.171224</td><td style=\"text-align: right;\">              0.312142</td><td style=\"text-align: right;\">0.221788</td><td style=\"text-align: right;\">0.0491898</td></tr>\n",
       "<tr><td>GBM_3_AutoML_3_20221215_21156                         </td><td style=\"text-align: right;\">0.583812 </td><td style=\"text-align: right;\">0.90102 </td><td style=\"text-align: right;\"> 0.171531</td><td style=\"text-align: right;\">              0.301291</td><td style=\"text-align: right;\">0.22187 </td><td style=\"text-align: right;\">0.0492261</td></tr>\n",
       "<tr><td>GBM_grid_1_AutoML_3_20221215_21156_model_2            </td><td style=\"text-align: right;\">0.583682 </td><td style=\"text-align: right;\">0.9002  </td><td style=\"text-align: right;\"> 0.170621</td><td style=\"text-align: right;\">              0.302953</td><td style=\"text-align: right;\">0.221269</td><td style=\"text-align: right;\">0.0489599</td></tr>\n",
       "<tr><td>XGBoost_3_AutoML_3_20221215_21156                     </td><td style=\"text-align: right;\">0.583593 </td><td style=\"text-align: right;\">0.900254</td><td style=\"text-align: right;\"> 0.168776</td><td style=\"text-align: right;\">              0.317088</td><td style=\"text-align: right;\">0.221236</td><td style=\"text-align: right;\">0.0489452</td></tr>\n",
       "<tr><td>GBM_grid_1_AutoML_3_20221215_21156_model_231          </td><td style=\"text-align: right;\">0.583522 </td><td style=\"text-align: right;\">0.900082</td><td style=\"text-align: right;\"> 0.174393</td><td style=\"text-align: right;\">              0.30492 </td><td style=\"text-align: right;\">0.223407</td><td style=\"text-align: right;\">0.0499108</td></tr>\n",
       "<tr><td>GBM_grid_1_AutoML_3_20221215_21156_model_12           </td><td style=\"text-align: right;\">0.582923 </td><td style=\"text-align: right;\">0.900517</td><td style=\"text-align: right;\"> 0.170859</td><td style=\"text-align: right;\">              0.301945</td><td style=\"text-align: right;\">0.221856</td><td style=\"text-align: right;\">0.0492199</td></tr>\n",
       "<tr><td>GBM_grid_1_AutoML_3_20221215_21156_model_108          </td><td style=\"text-align: right;\">0.582774 </td><td style=\"text-align: right;\">0.90096 </td><td style=\"text-align: right;\"> 0.170034</td><td style=\"text-align: right;\">              0.306739</td><td style=\"text-align: right;\">0.221696</td><td style=\"text-align: right;\">0.0491491</td></tr>\n",
       "<tr><td>GBM_grid_1_AutoML_3_20221215_21156_model_104          </td><td style=\"text-align: right;\">0.582599 </td><td style=\"text-align: right;\">0.902719</td><td style=\"text-align: right;\"> 0.169766</td><td style=\"text-align: right;\">              0.322198</td><td style=\"text-align: right;\">0.222072</td><td style=\"text-align: right;\">0.0493158</td></tr>\n",
       "<tr><td>GBM_grid_1_AutoML_3_20221215_21156_model_125          </td><td style=\"text-align: right;\">0.582222 </td><td style=\"text-align: right;\">0.900251</td><td style=\"text-align: right;\"> 0.171485</td><td style=\"text-align: right;\">              0.300029</td><td style=\"text-align: right;\">0.222165</td><td style=\"text-align: right;\">0.0493571</td></tr>\n",
       "<tr><td>GBM_grid_1_AutoML_3_20221215_21156_model_214          </td><td style=\"text-align: right;\">0.581936 </td><td style=\"text-align: right;\">0.900623</td><td style=\"text-align: right;\"> 0.171749</td><td style=\"text-align: right;\">              0.291242</td><td style=\"text-align: right;\">0.221888</td><td style=\"text-align: right;\">0.0492344</td></tr>\n",
       "<tr><td>GBM_grid_1_AutoML_3_20221215_21156_model_174          </td><td style=\"text-align: right;\">0.581899 </td><td style=\"text-align: right;\">0.899793</td><td style=\"text-align: right;\"> 0.174026</td><td style=\"text-align: right;\">              0.298358</td><td style=\"text-align: right;\">0.223578</td><td style=\"text-align: right;\">0.0499871</td></tr>\n",
       "<tr><td>GBM_grid_1_AutoML_3_20221215_21156_model_195          </td><td style=\"text-align: right;\">0.581577 </td><td style=\"text-align: right;\">0.899692</td><td style=\"text-align: right;\"> 0.170279</td><td style=\"text-align: right;\">              0.31992 </td><td style=\"text-align: right;\">0.221616</td><td style=\"text-align: right;\">0.0491135</td></tr>\n",
       "<tr><td>GBM_grid_1_AutoML_3_20221215_21156_model_200          </td><td style=\"text-align: right;\">0.581341 </td><td style=\"text-align: right;\">0.900816</td><td style=\"text-align: right;\"> 0.17224 </td><td style=\"text-align: right;\">              0.295025</td><td style=\"text-align: right;\">0.222537</td><td style=\"text-align: right;\">0.0495229</td></tr>\n",
       "<tr><td>GBM_grid_1_AutoML_3_20221215_21156_model_170          </td><td style=\"text-align: right;\">0.581062 </td><td style=\"text-align: right;\">0.899388</td><td style=\"text-align: right;\"> 0.171417</td><td style=\"text-align: right;\">              0.305326</td><td style=\"text-align: right;\">0.222107</td><td style=\"text-align: right;\">0.0493316</td></tr>\n",
       "<tr><td>GBM_grid_1_AutoML_3_20221215_21156_model_42           </td><td style=\"text-align: right;\">0.5808   </td><td style=\"text-align: right;\">0.900501</td><td style=\"text-align: right;\"> 0.171104</td><td style=\"text-align: right;\">              0.296998</td><td style=\"text-align: right;\">0.222028</td><td style=\"text-align: right;\">0.0492966</td></tr>\n",
       "<tr><td>GBM_grid_1_AutoML_3_20221215_21156_model_150          </td><td style=\"text-align: right;\">0.580774 </td><td style=\"text-align: right;\">0.900572</td><td style=\"text-align: right;\"> 0.171481</td><td style=\"text-align: right;\">              0.305328</td><td style=\"text-align: right;\">0.222092</td><td style=\"text-align: right;\">0.049325 </td></tr>\n",
       "<tr><td>GBM_grid_1_AutoML_3_20221215_21156_model_178          </td><td style=\"text-align: right;\">0.580049 </td><td style=\"text-align: right;\">0.90045 </td><td style=\"text-align: right;\"> 0.174317</td><td style=\"text-align: right;\">              0.299777</td><td style=\"text-align: right;\">0.223581</td><td style=\"text-align: right;\">0.0499886</td></tr>\n",
       "<tr><td>GBM_grid_1_AutoML_3_20221215_21156_model_99           </td><td style=\"text-align: right;\">0.579269 </td><td style=\"text-align: right;\">0.898549</td><td style=\"text-align: right;\"> 0.17743 </td><td style=\"text-align: right;\">              0.304973</td><td style=\"text-align: right;\">0.224158</td><td style=\"text-align: right;\">0.0502467</td></tr>\n",
       "<tr><td>GBM_grid_1_AutoML_3_20221215_21156_model_130          </td><td style=\"text-align: right;\">0.579189 </td><td style=\"text-align: right;\">0.897859</td><td style=\"text-align: right;\"> 0.171398</td><td style=\"text-align: right;\">              0.307602</td><td style=\"text-align: right;\">0.221728</td><td style=\"text-align: right;\">0.0491633</td></tr>\n",
       "<tr><td>GBM_grid_1_AutoML_3_20221215_21156_model_141          </td><td style=\"text-align: right;\">0.579101 </td><td style=\"text-align: right;\">0.89987 </td><td style=\"text-align: right;\"> 0.172006</td><td style=\"text-align: right;\">              0.317752</td><td style=\"text-align: right;\">0.222286</td><td style=\"text-align: right;\">0.049411 </td></tr>\n",
       "<tr><td>GBM_grid_1_AutoML_3_20221215_21156_model_243          </td><td style=\"text-align: right;\">0.578963 </td><td style=\"text-align: right;\">0.899008</td><td style=\"text-align: right;\"> 0.173537</td><td style=\"text-align: right;\">              0.305178</td><td style=\"text-align: right;\">0.222732</td><td style=\"text-align: right;\">0.0496094</td></tr>\n",
       "<tr><td>GBM_grid_1_AutoML_3_20221215_21156_model_192          </td><td style=\"text-align: right;\">0.578949 </td><td style=\"text-align: right;\">0.900729</td><td style=\"text-align: right;\"> 0.173984</td><td style=\"text-align: right;\">              0.304831</td><td style=\"text-align: right;\">0.223728</td><td style=\"text-align: right;\">0.0500541</td></tr>\n",
       "<tr><td>GBM_grid_1_AutoML_3_20221215_21156_model_44           </td><td style=\"text-align: right;\">0.578917 </td><td style=\"text-align: right;\">0.899625</td><td style=\"text-align: right;\"> 0.171037</td><td style=\"text-align: right;\">              0.313965</td><td style=\"text-align: right;\">0.222207</td><td style=\"text-align: right;\">0.0493759</td></tr>\n",
       "<tr><td>GBM_grid_1_AutoML_3_20221215_21156_model_222          </td><td style=\"text-align: right;\">0.578832 </td><td style=\"text-align: right;\">0.898971</td><td style=\"text-align: right;\"> 0.172286</td><td style=\"text-align: right;\">              0.310076</td><td style=\"text-align: right;\">0.222266</td><td style=\"text-align: right;\">0.049402 </td></tr>\n",
       "<tr><td>GBM_grid_1_AutoML_3_20221215_21156_model_77           </td><td style=\"text-align: right;\">0.578284 </td><td style=\"text-align: right;\">0.898814</td><td style=\"text-align: right;\"> 0.176496</td><td style=\"text-align: right;\">              0.308807</td><td style=\"text-align: right;\">0.224421</td><td style=\"text-align: right;\">0.0503648</td></tr>\n",
       "<tr><td>GBM_grid_1_AutoML_3_20221215_21156_model_229          </td><td style=\"text-align: right;\">0.577937 </td><td style=\"text-align: right;\">0.900153</td><td style=\"text-align: right;\"> 0.17218 </td><td style=\"text-align: right;\">              0.320277</td><td style=\"text-align: right;\">0.222403</td><td style=\"text-align: right;\">0.049463 </td></tr>\n",
       "<tr><td>XGBoost_grid_1_AutoML_3_20221215_21156_model_13       </td><td style=\"text-align: right;\">0.577727 </td><td style=\"text-align: right;\">0.898501</td><td style=\"text-align: right;\"> 0.169671</td><td style=\"text-align: right;\">              0.32209 </td><td style=\"text-align: right;\">0.222222</td><td style=\"text-align: right;\">0.0493828</td></tr>\n",
       "<tr><td>StackedEnsemble_AllModels_5_AutoML_3_20221215_21156   </td><td style=\"text-align: right;\">0.577675 </td><td style=\"text-align: right;\">0.900585</td><td style=\"text-align: right;\"> 0.16887 </td><td style=\"text-align: right;\">              0.327095</td><td style=\"text-align: right;\">0.221301</td><td style=\"text-align: right;\">0.048974 </td></tr>\n",
       "<tr><td>GBM_grid_1_AutoML_3_20221215_21156_model_86           </td><td style=\"text-align: right;\">0.57762  </td><td style=\"text-align: right;\">0.899063</td><td style=\"text-align: right;\"> 0.174474</td><td style=\"text-align: right;\">              0.31119 </td><td style=\"text-align: right;\">0.223624</td><td style=\"text-align: right;\">0.0500075</td></tr>\n",
       "<tr><td>XGBoost_grid_1_AutoML_3_20221215_21156_model_3        </td><td style=\"text-align: right;\">0.577485 </td><td style=\"text-align: right;\">0.899841</td><td style=\"text-align: right;\"> 0.168932</td><td style=\"text-align: right;\">              0.32942 </td><td style=\"text-align: right;\">0.22213 </td><td style=\"text-align: right;\">0.0493418</td></tr>\n",
       "<tr><td>GBM_grid_1_AutoML_3_20221215_21156_model_101          </td><td style=\"text-align: right;\">0.577417 </td><td style=\"text-align: right;\">0.897883</td><td style=\"text-align: right;\"> 0.174124</td><td style=\"text-align: right;\">              0.300024</td><td style=\"text-align: right;\">0.223629</td><td style=\"text-align: right;\">0.0500097</td></tr>\n",
       "<tr><td>GBM_grid_1_AutoML_3_20221215_21156_model_40           </td><td style=\"text-align: right;\">0.577403 </td><td style=\"text-align: right;\">0.89914 </td><td style=\"text-align: right;\"> 0.173591</td><td style=\"text-align: right;\">              0.305028</td><td style=\"text-align: right;\">0.223489</td><td style=\"text-align: right;\">0.0499472</td></tr>\n",
       "<tr><td>GBM_grid_1_AutoML_3_20221215_21156_model_120          </td><td style=\"text-align: right;\">0.577365 </td><td style=\"text-align: right;\">0.89946 </td><td style=\"text-align: right;\"> 0.170654</td><td style=\"text-align: right;\">              0.295588</td><td style=\"text-align: right;\">0.222337</td><td style=\"text-align: right;\">0.0494339</td></tr>\n",
       "<tr><td>GBM_grid_1_AutoML_3_20221215_21156_model_126          </td><td style=\"text-align: right;\">0.576951 </td><td style=\"text-align: right;\">0.898727</td><td style=\"text-align: right;\"> 0.173331</td><td style=\"text-align: right;\">              0.306341</td><td style=\"text-align: right;\">0.222926</td><td style=\"text-align: right;\">0.049696 </td></tr>\n",
       "<tr><td>GBM_grid_1_AutoML_3_20221215_21156_model_85           </td><td style=\"text-align: right;\">0.576571 </td><td style=\"text-align: right;\">0.900252</td><td style=\"text-align: right;\"> 0.172689</td><td style=\"text-align: right;\">              0.303873</td><td style=\"text-align: right;\">0.224088</td><td style=\"text-align: right;\">0.0502155</td></tr>\n",
       "<tr><td>GBM_grid_1_AutoML_3_20221215_21156_model_230          </td><td style=\"text-align: right;\">0.576524 </td><td style=\"text-align: right;\">0.899179</td><td style=\"text-align: right;\"> 0.173878</td><td style=\"text-align: right;\">              0.316539</td><td style=\"text-align: right;\">0.223383</td><td style=\"text-align: right;\">0.0499001</td></tr>\n",
       "<tr><td>StackedEnsemble_BestOfFamily_1_AutoML_3_20221215_21156</td><td style=\"text-align: right;\">0.576443 </td><td style=\"text-align: right;\">0.898422</td><td style=\"text-align: right;\"> 0.17218 </td><td style=\"text-align: right;\">              0.310831</td><td style=\"text-align: right;\">0.223651</td><td style=\"text-align: right;\">0.0500196</td></tr>\n",
       "<tr><td>GBM_grid_1_AutoML_3_20221215_21156_model_247          </td><td style=\"text-align: right;\">0.576401 </td><td style=\"text-align: right;\">0.898668</td><td style=\"text-align: right;\"> 0.172385</td><td style=\"text-align: right;\">              0.32346 </td><td style=\"text-align: right;\">0.22244 </td><td style=\"text-align: right;\">0.0494797</td></tr>\n",
       "<tr><td>GBM_grid_1_AutoML_3_20221215_21156_model_52           </td><td style=\"text-align: right;\">0.576396 </td><td style=\"text-align: right;\">0.898567</td><td style=\"text-align: right;\"> 0.174341</td><td style=\"text-align: right;\">              0.308257</td><td style=\"text-align: right;\">0.224288</td><td style=\"text-align: right;\">0.0503053</td></tr>\n",
       "<tr><td>DeepLearning_grid_1_AutoML_3_20221215_21156_model_47  </td><td style=\"text-align: right;\">0.57623  </td><td style=\"text-align: right;\">0.888547</td><td style=\"text-align: right;\"> 0.203496</td><td style=\"text-align: right;\">              0.306591</td><td style=\"text-align: right;\">0.224046</td><td style=\"text-align: right;\">0.0501966</td></tr>\n",
       "<tr><td>GBM_grid_1_AutoML_3_20221215_21156_model_3            </td><td style=\"text-align: right;\">0.576168 </td><td style=\"text-align: right;\">0.898579</td><td style=\"text-align: right;\"> 0.174309</td><td style=\"text-align: right;\">              0.308919</td><td style=\"text-align: right;\">0.223904</td><td style=\"text-align: right;\">0.050133 </td></tr>\n",
       "<tr><td>XGBoost_grid_1_AutoML_3_20221215_21156_model_16       </td><td style=\"text-align: right;\">0.575964 </td><td style=\"text-align: right;\">0.899411</td><td style=\"text-align: right;\"> 0.171657</td><td style=\"text-align: right;\">              0.311899</td><td style=\"text-align: right;\">0.222869</td><td style=\"text-align: right;\">0.0496706</td></tr>\n",
       "<tr><td>GBM_grid_1_AutoML_3_20221215_21156_model_155          </td><td style=\"text-align: right;\">0.575871 </td><td style=\"text-align: right;\">0.898275</td><td style=\"text-align: right;\"> 0.176167</td><td style=\"text-align: right;\">              0.298214</td><td style=\"text-align: right;\">0.22433 </td><td style=\"text-align: right;\">0.0503241</td></tr>\n",
       "<tr><td>XGBoost_grid_1_AutoML_3_20221215_21156_model_28       </td><td style=\"text-align: right;\">0.575802 </td><td style=\"text-align: right;\">0.898017</td><td style=\"text-align: right;\"> 0.173319</td><td style=\"text-align: right;\">              0.308361</td><td style=\"text-align: right;\">0.223911</td><td style=\"text-align: right;\">0.0501362</td></tr>\n",
       "<tr><td>XGBoost_grid_1_AutoML_3_20221215_21156_model_7        </td><td style=\"text-align: right;\">0.575659 </td><td style=\"text-align: right;\">0.896375</td><td style=\"text-align: right;\"> 0.172456</td><td style=\"text-align: right;\">              0.323202</td><td style=\"text-align: right;\">0.223647</td><td style=\"text-align: right;\">0.0500178</td></tr>\n",
       "<tr><td>GBM_grid_1_AutoML_3_20221215_21156_model_160          </td><td style=\"text-align: right;\">0.5752   </td><td style=\"text-align: right;\">0.898621</td><td style=\"text-align: right;\"> 0.172261</td><td style=\"text-align: right;\">              0.305182</td><td style=\"text-align: right;\">0.223042</td><td style=\"text-align: right;\">0.0497479</td></tr>\n",
       "<tr><td>GBM_grid_1_AutoML_3_20221215_21156_model_209          </td><td style=\"text-align: right;\">0.575086 </td><td style=\"text-align: right;\">0.899625</td><td style=\"text-align: right;\"> 0.171038</td><td style=\"text-align: right;\">              0.326338</td><td style=\"text-align: right;\">0.222429</td><td style=\"text-align: right;\">0.0494748</td></tr>\n",
       "<tr><td>GBM_grid_1_AutoML_3_20221215_21156_model_164          </td><td style=\"text-align: right;\">0.57496  </td><td style=\"text-align: right;\">0.897875</td><td style=\"text-align: right;\"> 0.176842</td><td style=\"text-align: right;\">              0.306641</td><td style=\"text-align: right;\">0.224888</td><td style=\"text-align: right;\">0.0505746</td></tr>\n",
       "<tr><td>GBM_grid_1_AutoML_3_20221215_21156_model_239          </td><td style=\"text-align: right;\">0.574787 </td><td style=\"text-align: right;\">0.897375</td><td style=\"text-align: right;\"> 0.172581</td><td style=\"text-align: right;\">              0.297912</td><td style=\"text-align: right;\">0.22235 </td><td style=\"text-align: right;\">0.0494393</td></tr>\n",
       "<tr><td>GBM_grid_1_AutoML_3_20221215_21156_model_133          </td><td style=\"text-align: right;\">0.574711 </td><td style=\"text-align: right;\">0.899248</td><td style=\"text-align: right;\"> 0.171496</td><td style=\"text-align: right;\">              0.321085</td><td style=\"text-align: right;\">0.222973</td><td style=\"text-align: right;\">0.0497169</td></tr>\n",
       "<tr><td>GBM_grid_1_AutoML_3_20221215_21156_model_171          </td><td style=\"text-align: right;\">0.574508 </td><td style=\"text-align: right;\">0.897821</td><td style=\"text-align: right;\"> 0.176138</td><td style=\"text-align: right;\">              0.319119</td><td style=\"text-align: right;\">0.224401</td><td style=\"text-align: right;\">0.0503557</td></tr>\n",
       "<tr><td>GBM_grid_1_AutoML_3_20221215_21156_model_34           </td><td style=\"text-align: right;\">0.574458 </td><td style=\"text-align: right;\">0.896174</td><td style=\"text-align: right;\"> 0.174699</td><td style=\"text-align: right;\">              0.29286 </td><td style=\"text-align: right;\">0.22372 </td><td style=\"text-align: right;\">0.0500506</td></tr>\n",
       "<tr><td>XGBoost_grid_1_AutoML_3_20221215_21156_model_21       </td><td style=\"text-align: right;\">0.574328 </td><td style=\"text-align: right;\">0.898015</td><td style=\"text-align: right;\"> 0.17258 </td><td style=\"text-align: right;\">              0.282666</td><td style=\"text-align: right;\">0.223582</td><td style=\"text-align: right;\">0.0499887</td></tr>\n",
       "<tr><td>GBM_grid_1_AutoML_3_20221215_21156_model_29           </td><td style=\"text-align: right;\">0.574323 </td><td style=\"text-align: right;\">0.899022</td><td style=\"text-align: right;\"> 0.172458</td><td style=\"text-align: right;\">              0.313971</td><td style=\"text-align: right;\">0.223204</td><td style=\"text-align: right;\">0.0498202</td></tr>\n",
       "<tr><td>GBM_grid_1_AutoML_3_20221215_21156_model_148          </td><td style=\"text-align: right;\">0.574248 </td><td style=\"text-align: right;\">0.896084</td><td style=\"text-align: right;\"> 0.172717</td><td style=\"text-align: right;\">              0.306696</td><td style=\"text-align: right;\">0.222459</td><td style=\"text-align: right;\">0.0494882</td></tr>\n",
       "<tr><td>GBM_grid_1_AutoML_3_20221215_21156_model_217          </td><td style=\"text-align: right;\">0.574104 </td><td style=\"text-align: right;\">0.895893</td><td style=\"text-align: right;\"> 0.175815</td><td style=\"text-align: right;\">              0.314217</td><td style=\"text-align: right;\">0.22404 </td><td style=\"text-align: right;\">0.0501938</td></tr>\n",
       "<tr><td>GBM_grid_1_AutoML_3_20221215_21156_model_36           </td><td style=\"text-align: right;\">0.574051 </td><td style=\"text-align: right;\">0.896755</td><td style=\"text-align: right;\"> 0.174382</td><td style=\"text-align: right;\">              0.321085</td><td style=\"text-align: right;\">0.224026</td><td style=\"text-align: right;\">0.0501875</td></tr>\n",
       "<tr><td>GBM_grid_1_AutoML_3_20221215_21156_model_237          </td><td style=\"text-align: right;\">0.573925 </td><td style=\"text-align: right;\">0.897793</td><td style=\"text-align: right;\"> 0.172568</td><td style=\"text-align: right;\">              0.313212</td><td style=\"text-align: right;\">0.223245</td><td style=\"text-align: right;\">0.0498384</td></tr>\n",
       "<tr><td>GBM_grid_1_AutoML_3_20221215_21156_model_60           </td><td style=\"text-align: right;\">0.573854 </td><td style=\"text-align: right;\">0.896401</td><td style=\"text-align: right;\"> 0.173288</td><td style=\"text-align: right;\">              0.317298</td><td style=\"text-align: right;\">0.223928</td><td style=\"text-align: right;\">0.050144 </td></tr>\n",
       "<tr><td>GBM_grid_1_AutoML_3_20221215_21156_model_226          </td><td style=\"text-align: right;\">0.57384  </td><td style=\"text-align: right;\">0.898505</td><td style=\"text-align: right;\"> 0.172775</td><td style=\"text-align: right;\">              0.315836</td><td style=\"text-align: right;\">0.224033</td><td style=\"text-align: right;\">0.0501909</td></tr>\n",
       "<tr><td>GBM_grid_1_AutoML_3_20221215_21156_model_215          </td><td style=\"text-align: right;\">0.57353  </td><td style=\"text-align: right;\">0.8966  </td><td style=\"text-align: right;\"> 0.173311</td><td style=\"text-align: right;\">              0.31609 </td><td style=\"text-align: right;\">0.222708</td><td style=\"text-align: right;\">0.049599 </td></tr>\n",
       "<tr><td>GBM_grid_1_AutoML_3_20221215_21156_model_109          </td><td style=\"text-align: right;\">0.572949 </td><td style=\"text-align: right;\">0.897065</td><td style=\"text-align: right;\"> 0.175543</td><td style=\"text-align: right;\">              0.317097</td><td style=\"text-align: right;\">0.224484</td><td style=\"text-align: right;\">0.0503929</td></tr>\n",
       "<tr><td>GBM_grid_1_AutoML_3_20221215_21156_model_245          </td><td style=\"text-align: right;\">0.572873 </td><td style=\"text-align: right;\">0.898565</td><td style=\"text-align: right;\"> 0.177364</td><td style=\"text-align: right;\">              0.303717</td><td style=\"text-align: right;\">0.22546 </td><td style=\"text-align: right;\">0.0508321</td></tr>\n",
       "<tr><td>XGBoost_grid_1_AutoML_3_20221215_21156_model_19       </td><td style=\"text-align: right;\">0.572807 </td><td style=\"text-align: right;\">0.896992</td><td style=\"text-align: right;\"> 0.172682</td><td style=\"text-align: right;\">              0.326996</td><td style=\"text-align: right;\">0.22366 </td><td style=\"text-align: right;\">0.0500237</td></tr>\n",
       "<tr><td>GBM_grid_1_AutoML_3_20221215_21156_model_92           </td><td style=\"text-align: right;\">0.572806 </td><td style=\"text-align: right;\">0.895746</td><td style=\"text-align: right;\"> 0.174831</td><td style=\"text-align: right;\">              0.313563</td><td style=\"text-align: right;\">0.224259</td><td style=\"text-align: right;\">0.0502923</td></tr>\n",
       "<tr><td>XGBoost_grid_1_AutoML_3_20221215_21156_model_29       </td><td style=\"text-align: right;\">0.572788 </td><td style=\"text-align: right;\">0.896978</td><td style=\"text-align: right;\"> 0.172784</td><td style=\"text-align: right;\">              0.310892</td><td style=\"text-align: right;\">0.223373</td><td style=\"text-align: right;\">0.0498956</td></tr>\n",
       "<tr><td>GBM_grid_1_AutoML_3_20221215_21156_model_186          </td><td style=\"text-align: right;\">0.572741 </td><td style=\"text-align: right;\">0.896925</td><td style=\"text-align: right;\"> 0.174289</td><td style=\"text-align: right;\">              0.317245</td><td style=\"text-align: right;\">0.224127</td><td style=\"text-align: right;\">0.0502331</td></tr>\n",
       "<tr><td>GBM_grid_1_AutoML_3_20221215_21156_model_46           </td><td style=\"text-align: right;\">0.572342 </td><td style=\"text-align: right;\">0.898161</td><td style=\"text-align: right;\"> 0.176643</td><td style=\"text-align: right;\">              0.317355</td><td style=\"text-align: right;\">0.225227</td><td style=\"text-align: right;\">0.0507272</td></tr>\n",
       "<tr><td>GBM_grid_1_AutoML_3_20221215_21156_model_76           </td><td style=\"text-align: right;\">0.571924 </td><td style=\"text-align: right;\">0.897416</td><td style=\"text-align: right;\"> 0.18108 </td><td style=\"text-align: right;\">              0.323054</td><td style=\"text-align: right;\">0.226593</td><td style=\"text-align: right;\">0.0513445</td></tr>\n",
       "<tr><td>GBM_grid_1_AutoML_3_20221215_21156_model_223          </td><td style=\"text-align: right;\">0.571423 </td><td style=\"text-align: right;\">0.897705</td><td style=\"text-align: right;\"> 0.178383</td><td style=\"text-align: right;\">              0.314978</td><td style=\"text-align: right;\">0.224556</td><td style=\"text-align: right;\">0.0504254</td></tr>\n",
       "<tr><td>XGBoost_grid_1_AutoML_3_20221215_21156_model_15       </td><td style=\"text-align: right;\">0.571378 </td><td style=\"text-align: right;\">0.89579 </td><td style=\"text-align: right;\"> 0.173578</td><td style=\"text-align: right;\">              0.302909</td><td style=\"text-align: right;\">0.22408 </td><td style=\"text-align: right;\">0.0502117</td></tr>\n",
       "<tr><td>GBM_grid_1_AutoML_3_20221215_21156_model_26           </td><td style=\"text-align: right;\">0.571251 </td><td style=\"text-align: right;\">0.897301</td><td style=\"text-align: right;\"> 0.173654</td><td style=\"text-align: right;\">              0.324323</td><td style=\"text-align: right;\">0.223917</td><td style=\"text-align: right;\">0.0501386</td></tr>\n",
       "<tr><td>XGBoost_grid_1_AutoML_3_20221215_21156_model_24       </td><td style=\"text-align: right;\">0.571183 </td><td style=\"text-align: right;\">0.896494</td><td style=\"text-align: right;\"> 0.174169</td><td style=\"text-align: right;\">              0.326594</td><td style=\"text-align: right;\">0.224743</td><td style=\"text-align: right;\">0.0505096</td></tr>\n",
       "<tr><td>GBM_grid_1_AutoML_3_20221215_21156_model_196          </td><td style=\"text-align: right;\">0.571156 </td><td style=\"text-align: right;\">0.896739</td><td style=\"text-align: right;\"> 0.174467</td><td style=\"text-align: right;\">              0.313717</td><td style=\"text-align: right;\">0.223632</td><td style=\"text-align: right;\">0.0500115</td></tr>\n",
       "<tr><td>GBM_grid_1_AutoML_3_20221215_21156_model_70           </td><td style=\"text-align: right;\">0.57104  </td><td style=\"text-align: right;\">0.898064</td><td style=\"text-align: right;\"> 0.176483</td><td style=\"text-align: right;\">              0.325129</td><td style=\"text-align: right;\">0.22489 </td><td style=\"text-align: right;\">0.0505757</td></tr>\n",
       "<tr><td>GBM_grid_1_AutoML_3_20221215_21156_model_17           </td><td style=\"text-align: right;\">0.570772 </td><td style=\"text-align: right;\">0.89666 </td><td style=\"text-align: right;\"> 0.175959</td><td style=\"text-align: right;\">              0.319467</td><td style=\"text-align: right;\">0.224357</td><td style=\"text-align: right;\">0.0503359</td></tr>\n",
       "<tr><td>GBM_grid_1_AutoML_3_20221215_21156_model_96           </td><td style=\"text-align: right;\">0.570531 </td><td style=\"text-align: right;\">0.895461</td><td style=\"text-align: right;\"> 0.174988</td><td style=\"text-align: right;\">              0.329618</td><td style=\"text-align: right;\">0.224373</td><td style=\"text-align: right;\">0.0503431</td></tr>\n",
       "<tr><td>GBM_grid_1_AutoML_3_20221215_21156_model_210          </td><td style=\"text-align: right;\">0.570408 </td><td style=\"text-align: right;\">0.895981</td><td style=\"text-align: right;\"> 0.178465</td><td style=\"text-align: right;\">              0.308217</td><td style=\"text-align: right;\">0.224767</td><td style=\"text-align: right;\">0.0505202</td></tr>\n",
       "<tr><td>GBM_grid_1_AutoML_3_20221215_21156_model_50           </td><td style=\"text-align: right;\">0.570347 </td><td style=\"text-align: right;\">0.897291</td><td style=\"text-align: right;\"> 0.172163</td><td style=\"text-align: right;\">              0.299077</td><td style=\"text-align: right;\">0.223592</td><td style=\"text-align: right;\">0.0499935</td></tr>\n",
       "<tr><td>GBM_grid_1_AutoML_3_20221215_21156_model_176          </td><td style=\"text-align: right;\">0.570269 </td><td style=\"text-align: right;\">0.896318</td><td style=\"text-align: right;\"> 0.174205</td><td style=\"text-align: right;\">              0.3124  </td><td style=\"text-align: right;\">0.224542</td><td style=\"text-align: right;\">0.050419 </td></tr>\n",
       "<tr><td>XGBoost_grid_1_AutoML_3_20221215_21156_model_18       </td><td style=\"text-align: right;\">0.570191 </td><td style=\"text-align: right;\">0.894938</td><td style=\"text-align: right;\"> 0.172074</td><td style=\"text-align: right;\">              0.31841 </td><td style=\"text-align: right;\">0.223837</td><td style=\"text-align: right;\">0.0501029</td></tr>\n",
       "<tr><td>XGBoost_grid_1_AutoML_3_20221215_21156_model_20       </td><td style=\"text-align: right;\">0.570121 </td><td style=\"text-align: right;\">0.895996</td><td style=\"text-align: right;\"> 0.173713</td><td style=\"text-align: right;\">              0.277168</td><td style=\"text-align: right;\">0.224111</td><td style=\"text-align: right;\">0.0502259</td></tr>\n",
       "<tr><td>XGBoost_grid_1_AutoML_3_20221215_21156_model_4        </td><td style=\"text-align: right;\">0.570101 </td><td style=\"text-align: right;\">0.89602 </td><td style=\"text-align: right;\"> 0.172466</td><td style=\"text-align: right;\">              0.317653</td><td style=\"text-align: right;\">0.224277</td><td style=\"text-align: right;\">0.0503003</td></tr>\n",
       "<tr><td>GBM_grid_1_AutoML_3_20221215_21156_model_67           </td><td style=\"text-align: right;\">0.570019 </td><td style=\"text-align: right;\">0.89789 </td><td style=\"text-align: right;\"> 0.177803</td><td style=\"text-align: right;\">              0.288585</td><td style=\"text-align: right;\">0.225462</td><td style=\"text-align: right;\">0.050833 </td></tr>\n",
       "<tr><td>GBM_grid_1_AutoML_3_20221215_21156_model_151          </td><td style=\"text-align: right;\">0.57001  </td><td style=\"text-align: right;\">0.897271</td><td style=\"text-align: right;\"> 0.1839  </td><td style=\"text-align: right;\">              0.300287</td><td style=\"text-align: right;\">0.227374</td><td style=\"text-align: right;\">0.0516989</td></tr>\n",
       "<tr><td>GBM_grid_1_AutoML_3_20221215_21156_model_124          </td><td style=\"text-align: right;\">0.569995 </td><td style=\"text-align: right;\">0.897325</td><td style=\"text-align: right;\"> 0.177106</td><td style=\"text-align: right;\">              0.300695</td><td style=\"text-align: right;\">0.224355</td><td style=\"text-align: right;\">0.0503351</td></tr>\n",
       "<tr><td>GBM_grid_1_AutoML_3_20221215_21156_model_83           </td><td style=\"text-align: right;\">0.569773 </td><td style=\"text-align: right;\">0.898825</td><td style=\"text-align: right;\"> 0.176687</td><td style=\"text-align: right;\">              0.322555</td><td style=\"text-align: right;\">0.225619</td><td style=\"text-align: right;\">0.0509041</td></tr>\n",
       "<tr><td>GBM_grid_1_AutoML_3_20221215_21156_model_118          </td><td style=\"text-align: right;\">0.569553 </td><td style=\"text-align: right;\">0.89619 </td><td style=\"text-align: right;\"> 0.175334</td><td style=\"text-align: right;\">              0.301498</td><td style=\"text-align: right;\">0.224969</td><td style=\"text-align: right;\">0.0506111</td></tr>\n",
       "<tr><td>GBM_grid_1_AutoML_3_20221215_21156_model_236          </td><td style=\"text-align: right;\">0.569551 </td><td style=\"text-align: right;\">0.89669 </td><td style=\"text-align: right;\"> 0.176461</td><td style=\"text-align: right;\">              0.32124 </td><td style=\"text-align: right;\">0.224242</td><td style=\"text-align: right;\">0.0502847</td></tr>\n",
       "<tr><td>XGBoost_grid_1_AutoML_3_20221215_21156_model_2        </td><td style=\"text-align: right;\">0.569442 </td><td style=\"text-align: right;\">0.894233</td><td style=\"text-align: right;\"> 0.175014</td><td style=\"text-align: right;\">              0.31624 </td><td style=\"text-align: right;\">0.225345</td><td style=\"text-align: right;\">0.0507804</td></tr>\n",
       "<tr><td>GBM_grid_1_AutoML_3_20221215_21156_model_145          </td><td style=\"text-align: right;\">0.569305 </td><td style=\"text-align: right;\">0.896862</td><td style=\"text-align: right;\"> 0.17442 </td><td style=\"text-align: right;\">              0.306248</td><td style=\"text-align: right;\">0.224573</td><td style=\"text-align: right;\">0.0504332</td></tr>\n",
       "<tr><td>XGBoost_grid_1_AutoML_3_20221215_21156_model_5        </td><td style=\"text-align: right;\">0.569002 </td><td style=\"text-align: right;\">0.894493</td><td style=\"text-align: right;\"> 0.176478</td><td style=\"text-align: right;\">              0.305489</td><td style=\"text-align: right;\">0.226023</td><td style=\"text-align: right;\">0.0510862</td></tr>\n",
       "<tr><td>GBM_grid_1_AutoML_3_20221215_21156_model_71           </td><td style=\"text-align: right;\">0.568794 </td><td style=\"text-align: right;\">0.896259</td><td style=\"text-align: right;\"> 0.176327</td><td style=\"text-align: right;\">              0.293625</td><td style=\"text-align: right;\">0.225814</td><td style=\"text-align: right;\">0.0509919</td></tr>\n",
       "<tr><td>GBM_grid_1_AutoML_3_20221215_21156_model_185          </td><td style=\"text-align: right;\">0.568699 </td><td style=\"text-align: right;\">0.895852</td><td style=\"text-align: right;\"> 0.174436</td><td style=\"text-align: right;\">              0.308872</td><td style=\"text-align: right;\">0.224537</td><td style=\"text-align: right;\">0.0504169</td></tr>\n",
       "<tr><td>GBM_grid_1_AutoML_3_20221215_21156_model_152          </td><td style=\"text-align: right;\">0.568545 </td><td style=\"text-align: right;\">0.895911</td><td style=\"text-align: right;\"> 0.175974</td><td style=\"text-align: right;\">              0.301955</td><td style=\"text-align: right;\">0.225157</td><td style=\"text-align: right;\">0.0506957</td></tr>\n",
       "<tr><td>GBM_grid_1_AutoML_3_20221215_21156_model_6            </td><td style=\"text-align: right;\">0.56838  </td><td style=\"text-align: right;\">0.898368</td><td style=\"text-align: right;\"> 0.175844</td><td style=\"text-align: right;\">              0.304531</td><td style=\"text-align: right;\">0.225244</td><td style=\"text-align: right;\">0.0507351</td></tr>\n",
       "<tr><td>GBM_1_AutoML_3_20221215_21156                         </td><td style=\"text-align: right;\">0.568163 </td><td style=\"text-align: right;\">0.894881</td><td style=\"text-align: right;\"> 0.17526 </td><td style=\"text-align: right;\">              0.313313</td><td style=\"text-align: right;\">0.224852</td><td style=\"text-align: right;\">0.0505582</td></tr>\n",
       "<tr><td>GBM_grid_1_AutoML_3_20221215_21156_model_212          </td><td style=\"text-align: right;\">0.568023 </td><td style=\"text-align: right;\">0.895346</td><td style=\"text-align: right;\"> 0.17701 </td><td style=\"text-align: right;\">              0.306751</td><td style=\"text-align: right;\">0.225621</td><td style=\"text-align: right;\">0.0509048</td></tr>\n",
       "<tr><td>XGBoost_grid_1_AutoML_3_20221215_21156_model_30       </td><td style=\"text-align: right;\">0.567952 </td><td style=\"text-align: right;\">0.896517</td><td style=\"text-align: right;\"> 0.173595</td><td style=\"text-align: right;\">              0.3218  </td><td style=\"text-align: right;\">0.224571</td><td style=\"text-align: right;\">0.0504323</td></tr>\n",
       "<tr><td>GBM_grid_1_AutoML_3_20221215_21156_model_65           </td><td style=\"text-align: right;\">0.567895 </td><td style=\"text-align: right;\">0.896393</td><td style=\"text-align: right;\"> 0.174047</td><td style=\"text-align: right;\">              0.297064</td><td style=\"text-align: right;\">0.224532</td><td style=\"text-align: right;\">0.0504146</td></tr>\n",
       "<tr><td>StackedEnsemble_AllModels_6_AutoML_3_20221215_21156   </td><td style=\"text-align: right;\">0.56786  </td><td style=\"text-align: right;\">0.890403</td><td style=\"text-align: right;\"> 0.177198</td><td style=\"text-align: right;\">              0.315483</td><td style=\"text-align: right;\">0.224221</td><td style=\"text-align: right;\">0.050275 </td></tr>\n",
       "<tr><td>XGBoost_1_AutoML_3_20221215_21156                     </td><td style=\"text-align: right;\">0.567759 </td><td style=\"text-align: right;\">0.893791</td><td style=\"text-align: right;\"> 0.177755</td><td style=\"text-align: right;\">              0.302408</td><td style=\"text-align: right;\">0.226916</td><td style=\"text-align: right;\">0.0514911</td></tr>\n",
       "<tr><td>XGBoost_grid_1_AutoML_3_20221215_21156_model_12       </td><td style=\"text-align: right;\">0.56775  </td><td style=\"text-align: right;\">0.895378</td><td style=\"text-align: right;\"> 0.173632</td><td style=\"text-align: right;\">              0.327146</td><td style=\"text-align: right;\">0.224679</td><td style=\"text-align: right;\">0.0504805</td></tr>\n",
       "<tr><td>GBM_grid_1_AutoML_3_20221215_21156_model_9            </td><td style=\"text-align: right;\">0.56763  </td><td style=\"text-align: right;\">0.898341</td><td style=\"text-align: right;\"> 0.1791  </td><td style=\"text-align: right;\">              0.302706</td><td style=\"text-align: right;\">0.226486</td><td style=\"text-align: right;\">0.0512958</td></tr>\n",
       "<tr><td>GBM_grid_1_AutoML_3_20221215_21156_model_112          </td><td style=\"text-align: right;\">0.567537 </td><td style=\"text-align: right;\">0.89516 </td><td style=\"text-align: right;\"> 0.175723</td><td style=\"text-align: right;\">              0.324118</td><td style=\"text-align: right;\">0.224922</td><td style=\"text-align: right;\">0.0505898</td></tr>\n",
       "<tr><td>XGBoost_grid_1_AutoML_3_20221215_21156_model_25       </td><td style=\"text-align: right;\">0.567501 </td><td style=\"text-align: right;\">0.896526</td><td style=\"text-align: right;\"> 0.173838</td><td style=\"text-align: right;\">              0.314531</td><td style=\"text-align: right;\">0.223876</td><td style=\"text-align: right;\">0.0501206</td></tr>\n",
       "<tr><td>XGBoost_grid_1_AutoML_3_20221215_21156_model_17       </td><td style=\"text-align: right;\">0.567384 </td><td style=\"text-align: right;\">0.89438 </td><td style=\"text-align: right;\"> 0.177742</td><td style=\"text-align: right;\">              0.311497</td><td style=\"text-align: right;\">0.227061</td><td style=\"text-align: right;\">0.0515567</td></tr>\n",
       "<tr><td>GBM_grid_1_AutoML_3_20221215_21156_model_64           </td><td style=\"text-align: right;\">0.567318 </td><td style=\"text-align: right;\">0.895432</td><td style=\"text-align: right;\"> 0.176883</td><td style=\"text-align: right;\">              0.316494</td><td style=\"text-align: right;\">0.225947</td><td style=\"text-align: right;\">0.0510522</td></tr>\n",
       "<tr><td>GBM_grid_1_AutoML_3_20221215_21156_model_140          </td><td style=\"text-align: right;\">0.566889 </td><td style=\"text-align: right;\">0.896303</td><td style=\"text-align: right;\"> 0.179116</td><td style=\"text-align: right;\">              0.329219</td><td style=\"text-align: right;\">0.225872</td><td style=\"text-align: right;\">0.0510183</td></tr>\n",
       "<tr><td>GBM_grid_1_AutoML_3_20221215_21156_model_149          </td><td style=\"text-align: right;\">0.566829 </td><td style=\"text-align: right;\">0.893795</td><td style=\"text-align: right;\"> 0.17713 </td><td style=\"text-align: right;\">              0.309932</td><td style=\"text-align: right;\">0.226065</td><td style=\"text-align: right;\">0.0511055</td></tr>\n",
       "<tr><td>GBM_grid_1_AutoML_3_20221215_21156_model_225          </td><td style=\"text-align: right;\">0.566523 </td><td style=\"text-align: right;\">0.896467</td><td style=\"text-align: right;\"> 0.180126</td><td style=\"text-align: right;\">              0.316192</td><td style=\"text-align: right;\">0.226814</td><td style=\"text-align: right;\">0.0514445</td></tr>\n",
       "<tr><td>GBM_4_AutoML_3_20221215_21156                         </td><td style=\"text-align: right;\">0.566486 </td><td style=\"text-align: right;\">0.895264</td><td style=\"text-align: right;\"> 0.178307</td><td style=\"text-align: right;\">              0.330081</td><td style=\"text-align: right;\">0.224704</td><td style=\"text-align: right;\">0.0504917</td></tr>\n",
       "<tr><td>GBM_grid_1_AutoML_3_20221215_21156_model_97           </td><td style=\"text-align: right;\">0.56591  </td><td style=\"text-align: right;\">0.896623</td><td style=\"text-align: right;\"> 0.175552</td><td style=\"text-align: right;\">              0.311497</td><td style=\"text-align: right;\">0.225279</td><td style=\"text-align: right;\">0.0507507</td></tr>\n",
       "<tr><td>GBM_grid_1_AutoML_3_20221215_21156_model_90           </td><td style=\"text-align: right;\">0.565898 </td><td style=\"text-align: right;\">0.892479</td><td style=\"text-align: right;\"> 0.178156</td><td style=\"text-align: right;\">              0.327652</td><td style=\"text-align: right;\">0.226029</td><td style=\"text-align: right;\">0.0510891</td></tr>\n",
       "<tr><td>GBM_grid_1_AutoML_3_20221215_21156_model_158          </td><td style=\"text-align: right;\">0.565748 </td><td style=\"text-align: right;\">0.895729</td><td style=\"text-align: right;\"> 0.182184</td><td style=\"text-align: right;\">              0.301699</td><td style=\"text-align: right;\">0.227525</td><td style=\"text-align: right;\">0.0517678</td></tr>\n",
       "<tr><td>XGBoost_grid_1_AutoML_3_20221215_21156_model_22       </td><td style=\"text-align: right;\">0.565736 </td><td style=\"text-align: right;\">0.894176</td><td style=\"text-align: right;\"> 0.174104</td><td style=\"text-align: right;\">              0.316041</td><td style=\"text-align: right;\">0.225249</td><td style=\"text-align: right;\">0.0507372</td></tr>\n",
       "<tr><td>GBM_grid_1_AutoML_3_20221215_21156_model_121          </td><td style=\"text-align: right;\">0.565616 </td><td style=\"text-align: right;\">0.89556 </td><td style=\"text-align: right;\"> 0.177551</td><td style=\"text-align: right;\">              0.330684</td><td style=\"text-align: right;\">0.225399</td><td style=\"text-align: right;\">0.0508049</td></tr>\n",
       "<tr><td>GBM_grid_1_AutoML_3_20221215_21156_model_62           </td><td style=\"text-align: right;\">0.565604 </td><td style=\"text-align: right;\">0.896644</td><td style=\"text-align: right;\"> 0.177594</td><td style=\"text-align: right;\">              0.304831</td><td style=\"text-align: right;\">0.226265</td><td style=\"text-align: right;\">0.051196 </td></tr>\n",
       "<tr><td>XGBoost_grid_1_AutoML_3_20221215_21156_model_6        </td><td style=\"text-align: right;\">0.565569 </td><td style=\"text-align: right;\">0.894352</td><td style=\"text-align: right;\"> 0.1759  </td><td style=\"text-align: right;\">              0.317454</td><td style=\"text-align: right;\">0.226196</td><td style=\"text-align: right;\">0.0511644</td></tr>\n",
       "<tr><td>DeepLearning_grid_1_AutoML_3_20221215_21156_model_23  </td><td style=\"text-align: right;\">0.565324 </td><td style=\"text-align: right;\">0.888725</td><td style=\"text-align: right;\"> 0.176963</td><td style=\"text-align: right;\">              0.326239</td><td style=\"text-align: right;\">0.223486</td><td style=\"text-align: right;\">0.0499462</td></tr>\n",
       "<tr><td>GBM_grid_1_AutoML_3_20221215_21156_model_114          </td><td style=\"text-align: right;\">0.565093 </td><td style=\"text-align: right;\">0.894242</td><td style=\"text-align: right;\"> 0.178247</td><td style=\"text-align: right;\">              0.320992</td><td style=\"text-align: right;\">0.226628</td><td style=\"text-align: right;\">0.0513604</td></tr>\n",
       "<tr><td>XGBoost_grid_1_AutoML_3_20221215_21156_model_11       </td><td style=\"text-align: right;\">0.564946 </td><td style=\"text-align: right;\">0.895225</td><td style=\"text-align: right;\"> 0.172687</td><td style=\"text-align: right;\">              0.315487</td><td style=\"text-align: right;\">0.224606</td><td style=\"text-align: right;\">0.050448 </td></tr>\n",
       "<tr><td>GBM_grid_1_AutoML_3_20221215_21156_model_81           </td><td style=\"text-align: right;\">0.564704 </td><td style=\"text-align: right;\">0.894985</td><td style=\"text-align: right;\"> 0.176905</td><td style=\"text-align: right;\">              0.311343</td><td style=\"text-align: right;\">0.22637 </td><td style=\"text-align: right;\">0.0512434</td></tr>\n",
       "<tr><td>XGBoost_grid_1_AutoML_3_20221215_21156_model_9        </td><td style=\"text-align: right;\">0.56462  </td><td style=\"text-align: right;\">0.893117</td><td style=\"text-align: right;\"> 0.174194</td><td style=\"text-align: right;\">              0.310638</td><td style=\"text-align: right;\">0.225168</td><td style=\"text-align: right;\">0.0507008</td></tr>\n",
       "<tr><td>GBM_grid_1_AutoML_3_20221215_21156_model_107          </td><td style=\"text-align: right;\">0.564359 </td><td style=\"text-align: right;\">0.895644</td><td style=\"text-align: right;\"> 0.183268</td><td style=\"text-align: right;\">              0.323868</td><td style=\"text-align: right;\">0.22731 </td><td style=\"text-align: right;\">0.05167  </td></tr>\n",
       "<tr><td>XGBoost_grid_1_AutoML_3_20221215_21156_model_23       </td><td style=\"text-align: right;\">0.564125 </td><td style=\"text-align: right;\">0.896456</td><td style=\"text-align: right;\"> 0.174243</td><td style=\"text-align: right;\">              0.302067</td><td style=\"text-align: right;\">0.224702</td><td style=\"text-align: right;\">0.0504909</td></tr>\n",
       "<tr><td>GBM_grid_1_AutoML_3_20221215_21156_model_25           </td><td style=\"text-align: right;\">0.564083 </td><td style=\"text-align: right;\">0.895251</td><td style=\"text-align: right;\"> 0.176371</td><td style=\"text-align: right;\">              0.300041</td><td style=\"text-align: right;\">0.225999</td><td style=\"text-align: right;\">0.0510757</td></tr>\n",
       "<tr><td>XGBoost_grid_1_AutoML_3_20221215_21156_model_1        </td><td style=\"text-align: right;\">0.563989 </td><td style=\"text-align: right;\">0.895564</td><td style=\"text-align: right;\"> 0.174005</td><td style=\"text-align: right;\">              0.329931</td><td style=\"text-align: right;\">0.224896</td><td style=\"text-align: right;\">0.0505784</td></tr>\n",
       "<tr><td>GBM_grid_1_AutoML_3_20221215_21156_model_135          </td><td style=\"text-align: right;\">0.563823 </td><td style=\"text-align: right;\">0.895455</td><td style=\"text-align: right;\"> 0.175024</td><td style=\"text-align: right;\">              0.331547</td><td style=\"text-align: right;\">0.225515</td><td style=\"text-align: right;\">0.0508569</td></tr>\n",
       "<tr><td>GBM_grid_1_AutoML_3_20221215_21156_model_35           </td><td style=\"text-align: right;\">0.563667 </td><td style=\"text-align: right;\">0.891759</td><td style=\"text-align: right;\"> 0.179593</td><td style=\"text-align: right;\">              0.322807</td><td style=\"text-align: right;\">0.225868</td><td style=\"text-align: right;\">0.0510165</td></tr>\n",
       "<tr><td>XGBoost_grid_1_AutoML_3_20221215_21156_model_27       </td><td style=\"text-align: right;\">0.563275 </td><td style=\"text-align: right;\">0.893341</td><td style=\"text-align: right;\"> 0.182576</td><td style=\"text-align: right;\">              0.317809</td><td style=\"text-align: right;\">0.229282</td><td style=\"text-align: right;\">0.0525702</td></tr>\n",
       "<tr><td>GBM_grid_1_AutoML_3_20221215_21156_model_73           </td><td style=\"text-align: right;\">0.562793 </td><td style=\"text-align: right;\">0.892908</td><td style=\"text-align: right;\"> 0.177876</td><td style=\"text-align: right;\">              0.331695</td><td style=\"text-align: right;\">0.226089</td><td style=\"text-align: right;\">0.0511164</td></tr>\n",
       "<tr><td>GBM_grid_1_AutoML_3_20221215_21156_model_207          </td><td style=\"text-align: right;\">0.562749 </td><td style=\"text-align: right;\">0.894769</td><td style=\"text-align: right;\"> 0.183476</td><td style=\"text-align: right;\">              0.318621</td><td style=\"text-align: right;\">0.227477</td><td style=\"text-align: right;\">0.0517457</td></tr>\n",
       "<tr><td>GBM_grid_1_AutoML_3_20221215_21156_model_131          </td><td style=\"text-align: right;\">0.562731 </td><td style=\"text-align: right;\">0.894   </td><td style=\"text-align: right;\"> 0.187121</td><td style=\"text-align: right;\">              0.288632</td><td style=\"text-align: right;\">0.228974</td><td style=\"text-align: right;\">0.052429 </td></tr>\n",
       "<tr><td>XGBoost_2_AutoML_3_20221215_21156                     </td><td style=\"text-align: right;\">0.56265  </td><td style=\"text-align: right;\">0.893661</td><td style=\"text-align: right;\"> 0.175882</td><td style=\"text-align: right;\">              0.326144</td><td style=\"text-align: right;\">0.226121</td><td style=\"text-align: right;\">0.0511309</td></tr>\n",
       "<tr><td>GBM_grid_1_AutoML_3_20221215_21156_model_139          </td><td style=\"text-align: right;\">0.562585 </td><td style=\"text-align: right;\">0.895677</td><td style=\"text-align: right;\"> 0.179755</td><td style=\"text-align: right;\">              0.306607</td><td style=\"text-align: right;\">0.226704</td><td style=\"text-align: right;\">0.0513948</td></tr>\n",
       "<tr><td>GBM_grid_1_AutoML_3_20221215_21156_model_219          </td><td style=\"text-align: right;\">0.562217 </td><td style=\"text-align: right;\">0.894104</td><td style=\"text-align: right;\"> 0.177466</td><td style=\"text-align: right;\">              0.336345</td><td style=\"text-align: right;\">0.226528</td><td style=\"text-align: right;\">0.0513148</td></tr>\n",
       "<tr><td>GBM_grid_1_AutoML_3_20221215_21156_model_161          </td><td style=\"text-align: right;\">0.562076 </td><td style=\"text-align: right;\">0.894233</td><td style=\"text-align: right;\"> 0.178187</td><td style=\"text-align: right;\">              0.303473</td><td style=\"text-align: right;\">0.226662</td><td style=\"text-align: right;\">0.0513755</td></tr>\n",
       "<tr><td>GBM_grid_1_AutoML_3_20221215_21156_model_246          </td><td style=\"text-align: right;\">0.561916 </td><td style=\"text-align: right;\">0.891643</td><td style=\"text-align: right;\"> 0.181983</td><td style=\"text-align: right;\">              0.308517</td><td style=\"text-align: right;\">0.227317</td><td style=\"text-align: right;\">0.0516728</td></tr>\n",
       "<tr><td>GBM_grid_1_AutoML_3_20221215_21156_model_146          </td><td style=\"text-align: right;\">0.561614 </td><td style=\"text-align: right;\">0.894242</td><td style=\"text-align: right;\"> 0.178441</td><td style=\"text-align: right;\">              0.323265</td><td style=\"text-align: right;\">0.226748</td><td style=\"text-align: right;\">0.0514145</td></tr>\n",
       "<tr><td>GBM_grid_1_AutoML_3_20221215_21156_model_59           </td><td style=\"text-align: right;\">0.561416 </td><td style=\"text-align: right;\">0.891188</td><td style=\"text-align: right;\"> 0.183143</td><td style=\"text-align: right;\">              0.322807</td><td style=\"text-align: right;\">0.228417</td><td style=\"text-align: right;\">0.0521742</td></tr>\n",
       "<tr><td>XGBoost_grid_1_AutoML_3_20221215_21156_model_26       </td><td style=\"text-align: right;\">0.560893 </td><td style=\"text-align: right;\">0.890615</td><td style=\"text-align: right;\"> 0.17823 </td><td style=\"text-align: right;\">              0.312914</td><td style=\"text-align: right;\">0.227078</td><td style=\"text-align: right;\">0.0515642</td></tr>\n",
       "<tr><td>GBM_grid_1_AutoML_3_20221215_21156_model_227          </td><td style=\"text-align: right;\">0.560765 </td><td style=\"text-align: right;\">0.892006</td><td style=\"text-align: right;\"> 0.178699</td><td style=\"text-align: right;\">              0.318465</td><td style=\"text-align: right;\">0.226675</td><td style=\"text-align: right;\">0.0513817</td></tr>\n",
       "<tr><td>GBM_grid_1_AutoML_3_20221215_21156_model_7            </td><td style=\"text-align: right;\">0.560715 </td><td style=\"text-align: right;\">0.895408</td><td style=\"text-align: right;\"> 0.183056</td><td style=\"text-align: right;\">              0.312104</td><td style=\"text-align: right;\">0.228653</td><td style=\"text-align: right;\">0.0522823</td></tr>\n",
       "<tr><td>GBM_grid_1_AutoML_3_20221215_21156_model_228          </td><td style=\"text-align: right;\">0.560551 </td><td style=\"text-align: right;\">0.889824</td><td style=\"text-align: right;\"> 0.180997</td><td style=\"text-align: right;\">              0.324978</td><td style=\"text-align: right;\">0.227627</td><td style=\"text-align: right;\">0.0518142</td></tr>\n",
       "<tr><td>XGBoost_grid_1_AutoML_3_20221215_21156_model_10       </td><td style=\"text-align: right;\">0.55997  </td><td style=\"text-align: right;\">0.890779</td><td style=\"text-align: right;\"> 0.180102</td><td style=\"text-align: right;\">              0.33053 </td><td style=\"text-align: right;\">0.227956</td><td style=\"text-align: right;\">0.051964 </td></tr>\n",
       "<tr><td>GBM_grid_1_AutoML_3_20221215_21156_model_123          </td><td style=\"text-align: right;\">0.559784 </td><td style=\"text-align: right;\">0.896625</td><td style=\"text-align: right;\"> 0.178802</td><td style=\"text-align: right;\">              0.322513</td><td style=\"text-align: right;\">0.227114</td><td style=\"text-align: right;\">0.0515809</td></tr>\n",
       "<tr><td>DeepLearning_1_AutoML_3_20221215_21156                </td><td style=\"text-align: right;\">0.559706 </td><td style=\"text-align: right;\">0.891425</td><td style=\"text-align: right;\"> 0.173142</td><td style=\"text-align: right;\">              0.323365</td><td style=\"text-align: right;\">0.224844</td><td style=\"text-align: right;\">0.0505548</td></tr>\n",
       "<tr><td>DeepLearning_grid_1_AutoML_3_20221215_21156_model_58  </td><td style=\"text-align: right;\">0.559674 </td><td style=\"text-align: right;\">0.883724</td><td style=\"text-align: right;\"> 0.218355</td><td style=\"text-align: right;\">              0.320385</td><td style=\"text-align: right;\">0.227963</td><td style=\"text-align: right;\">0.0519673</td></tr>\n",
       "<tr><td>GBM_grid_1_AutoML_3_20221215_21156_model_138          </td><td style=\"text-align: right;\">0.559635 </td><td style=\"text-align: right;\">0.892718</td><td style=\"text-align: right;\"> 0.181557</td><td style=\"text-align: right;\">              0.302716</td><td style=\"text-align: right;\">0.227185</td><td style=\"text-align: right;\">0.051613 </td></tr>\n",
       "<tr><td>GBM_grid_1_AutoML_3_20221215_21156_model_47           </td><td style=\"text-align: right;\">0.55932  </td><td style=\"text-align: right;\">0.893939</td><td style=\"text-align: right;\"> 0.179914</td><td style=\"text-align: right;\">              0.323473</td><td style=\"text-align: right;\">0.227851</td><td style=\"text-align: right;\">0.051916 </td></tr>\n",
       "<tr><td>GBM_grid_1_AutoML_3_20221215_21156_model_183          </td><td style=\"text-align: right;\">0.559148 </td><td style=\"text-align: right;\">0.889319</td><td style=\"text-align: right;\"> 0.183607</td><td style=\"text-align: right;\">              0.33215 </td><td style=\"text-align: right;\">0.22736 </td><td style=\"text-align: right;\">0.0516926</td></tr>\n",
       "<tr><td>GBM_grid_1_AutoML_3_20221215_21156_model_119          </td><td style=\"text-align: right;\">0.559113 </td><td style=\"text-align: right;\">0.891274</td><td style=\"text-align: right;\"> 0.181465</td><td style=\"text-align: right;\">              0.324223</td><td style=\"text-align: right;\">0.227778</td><td style=\"text-align: right;\">0.0518829</td></tr>\n",
       "<tr><td>GBM_grid_1_AutoML_3_20221215_21156_model_54           </td><td style=\"text-align: right;\">0.558893 </td><td style=\"text-align: right;\">0.891779</td><td style=\"text-align: right;\"> 0.178452</td><td style=\"text-align: right;\">              0.314836</td><td style=\"text-align: right;\">0.227073</td><td style=\"text-align: right;\">0.051562 </td></tr>\n",
       "<tr><td>GBM_grid_1_AutoML_3_20221215_21156_model_95           </td><td style=\"text-align: right;\">0.558701 </td><td style=\"text-align: right;\">0.889527</td><td style=\"text-align: right;\"> 0.183134</td><td style=\"text-align: right;\">              0.301509</td><td style=\"text-align: right;\">0.228116</td><td style=\"text-align: right;\">0.052037 </td></tr>\n",
       "<tr><td>GBM_grid_1_AutoML_3_20221215_21156_model_39           </td><td style=\"text-align: right;\">0.558409 </td><td style=\"text-align: right;\">0.885355</td><td style=\"text-align: right;\"> 0.189887</td><td style=\"text-align: right;\">              0.325281</td><td style=\"text-align: right;\">0.228624</td><td style=\"text-align: right;\">0.0522692</td></tr>\n",
       "<tr><td>GBM_grid_1_AutoML_3_20221215_21156_model_156          </td><td style=\"text-align: right;\">0.558255 </td><td style=\"text-align: right;\">0.892777</td><td style=\"text-align: right;\"> 0.181701</td><td style=\"text-align: right;\">              0.315889</td><td style=\"text-align: right;\">0.227906</td><td style=\"text-align: right;\">0.0519411</td></tr>\n",
       "<tr><td>GBM_grid_1_AutoML_3_20221215_21156_model_51           </td><td style=\"text-align: right;\">0.558004 </td><td style=\"text-align: right;\">0.891537</td><td style=\"text-align: right;\"> 0.177737</td><td style=\"text-align: right;\">              0.334675</td><td style=\"text-align: right;\">0.226402</td><td style=\"text-align: right;\">0.0512579</td></tr>\n",
       "<tr><td>XGBoost_grid_1_AutoML_3_20221215_21156_model_61       </td><td style=\"text-align: right;\">0.557928 </td><td style=\"text-align: right;\">0.89095 </td><td style=\"text-align: right;\"> 0.176629</td><td style=\"text-align: right;\">              0.334321</td><td style=\"text-align: right;\">0.226418</td><td style=\"text-align: right;\">0.0512653</td></tr>\n",
       "<tr><td>GBM_grid_1_AutoML_3_20221215_21156_model_37           </td><td style=\"text-align: right;\">0.557911 </td><td style=\"text-align: right;\">0.893148</td><td style=\"text-align: right;\"> 0.178039</td><td style=\"text-align: right;\">              0.317412</td><td style=\"text-align: right;\">0.226822</td><td style=\"text-align: right;\">0.0514484</td></tr>\n",
       "<tr><td>GBM_grid_1_AutoML_3_20221215_21156_model_234          </td><td style=\"text-align: right;\">0.557813 </td><td style=\"text-align: right;\">0.894102</td><td style=\"text-align: right;\"> 0.179002</td><td style=\"text-align: right;\">              0.323572</td><td style=\"text-align: right;\">0.22776 </td><td style=\"text-align: right;\">0.0518745</td></tr>\n",
       "<tr><td>GBM_grid_1_AutoML_3_20221215_21156_model_43           </td><td style=\"text-align: right;\">0.557782 </td><td style=\"text-align: right;\">0.890609</td><td style=\"text-align: right;\"> 0.183203</td><td style=\"text-align: right;\">              0.314176</td><td style=\"text-align: right;\">0.22866 </td><td style=\"text-align: right;\">0.0522853</td></tr>\n",
       "<tr><td>GBM_grid_1_AutoML_3_20221215_21156_model_224          </td><td style=\"text-align: right;\">0.557535 </td><td style=\"text-align: right;\">0.892019</td><td style=\"text-align: right;\"> 0.181696</td><td style=\"text-align: right;\">              0.319281</td><td style=\"text-align: right;\">0.227766</td><td style=\"text-align: right;\">0.0518775</td></tr>\n",
       "<tr><td>DeepLearning_grid_1_AutoML_3_20221215_21156_model_36  </td><td style=\"text-align: right;\">0.557413 </td><td style=\"text-align: right;\">0.882506</td><td style=\"text-align: right;\"> 0.204649</td><td style=\"text-align: right;\">              0.325683</td><td style=\"text-align: right;\">0.224396</td><td style=\"text-align: right;\">0.0503536</td></tr>\n",
       "<tr><td>GBM_grid_1_AutoML_3_20221215_21156_model_93           </td><td style=\"text-align: right;\">0.557242 </td><td style=\"text-align: right;\">0.892563</td><td style=\"text-align: right;\"> 0.179525</td><td style=\"text-align: right;\">              0.322506</td><td style=\"text-align: right;\">0.226938</td><td style=\"text-align: right;\">0.0515008</td></tr>\n",
       "<tr><td>GBM_grid_1_AutoML_3_20221215_21156_model_163          </td><td style=\"text-align: right;\">0.557189 </td><td style=\"text-align: right;\">0.893172</td><td style=\"text-align: right;\"> 0.18314 </td><td style=\"text-align: right;\">              0.298829</td><td style=\"text-align: right;\">0.228855</td><td style=\"text-align: right;\">0.0523745</td></tr>\n",
       "<tr><td>GBM_grid_1_AutoML_3_20221215_21156_model_199          </td><td style=\"text-align: right;\">0.55714  </td><td style=\"text-align: right;\">0.892369</td><td style=\"text-align: right;\"> 0.183449</td><td style=\"text-align: right;\">              0.316352</td><td style=\"text-align: right;\">0.228678</td><td style=\"text-align: right;\">0.0522937</td></tr>\n",
       "<tr><td>GBM_grid_1_AutoML_3_20221215_21156_model_27           </td><td style=\"text-align: right;\">0.556754 </td><td style=\"text-align: right;\">0.894234</td><td style=\"text-align: right;\"> 0.183107</td><td style=\"text-align: right;\">              0.317414</td><td style=\"text-align: right;\">0.229376</td><td style=\"text-align: right;\">0.0526133</td></tr>\n",
       "<tr><td>XGBoost_grid_1_AutoML_3_20221215_21156_model_14       </td><td style=\"text-align: right;\">0.556439 </td><td style=\"text-align: right;\">0.890073</td><td style=\"text-align: right;\"> 0.178493</td><td style=\"text-align: right;\">              0.321292</td><td style=\"text-align: right;\">0.227423</td><td style=\"text-align: right;\">0.0517214</td></tr>\n",
       "<tr><td>GBM_grid_1_AutoML_3_20221215_21156_model_147          </td><td style=\"text-align: right;\">0.555753 </td><td style=\"text-align: right;\">0.89096 </td><td style=\"text-align: right;\"> 0.182357</td><td style=\"text-align: right;\">              0.337407</td><td style=\"text-align: right;\">0.228025</td><td style=\"text-align: right;\">0.0519956</td></tr>\n",
       "<tr><td>GBM_grid_1_AutoML_3_20221215_21156_model_132          </td><td style=\"text-align: right;\">0.555752 </td><td style=\"text-align: right;\">0.891003</td><td style=\"text-align: right;\"> 0.180496</td><td style=\"text-align: right;\">              0.3058  </td><td style=\"text-align: right;\">0.227896</td><td style=\"text-align: right;\">0.0519368</td></tr>\n",
       "<tr><td>GBM_grid_1_AutoML_3_20221215_21156_model_165          </td><td style=\"text-align: right;\">0.55539  </td><td style=\"text-align: right;\">0.889286</td><td style=\"text-align: right;\"> 0.182575</td><td style=\"text-align: right;\">              0.332249</td><td style=\"text-align: right;\">0.227865</td><td style=\"text-align: right;\">0.0519227</td></tr>\n",
       "<tr><td>GBM_grid_1_AutoML_3_20221215_21156_model_238          </td><td style=\"text-align: right;\">0.554507 </td><td style=\"text-align: right;\">0.8885  </td><td style=\"text-align: right;\"> 0.191447</td><td style=\"text-align: right;\">              0.321451</td><td style=\"text-align: right;\">0.229942</td><td style=\"text-align: right;\">0.0528731</td></tr>\n",
       "<tr><td>DeepLearning_grid_1_AutoML_3_20221215_21156_model_40  </td><td style=\"text-align: right;\">0.554434 </td><td style=\"text-align: right;\">0.88972 </td><td style=\"text-align: right;\"> 0.180435</td><td style=\"text-align: right;\">              0.309739</td><td style=\"text-align: right;\">0.227443</td><td style=\"text-align: right;\">0.0517303</td></tr>\n",
       "<tr><td>GBM_grid_1_AutoML_3_20221215_21156_model_233          </td><td style=\"text-align: right;\">0.554117 </td><td style=\"text-align: right;\">0.889989</td><td style=\"text-align: right;\"> 0.184979</td><td style=\"text-align: right;\">              0.315847</td><td style=\"text-align: right;\">0.228783</td><td style=\"text-align: right;\">0.0523417</td></tr>\n",
       "<tr><td>GBM_grid_1_AutoML_3_20221215_21156_model_55           </td><td style=\"text-align: right;\">0.553995 </td><td style=\"text-align: right;\">0.886878</td><td style=\"text-align: right;\"> 0.186273</td><td style=\"text-align: right;\">              0.31882 </td><td style=\"text-align: right;\">0.229092</td><td style=\"text-align: right;\">0.0524834</td></tr>\n",
       "<tr><td>GBM_grid_1_AutoML_3_20221215_21156_model_5            </td><td style=\"text-align: right;\">0.553818 </td><td style=\"text-align: right;\">0.887582</td><td style=\"text-align: right;\"> 0.188243</td><td style=\"text-align: right;\">              0.330989</td><td style=\"text-align: right;\">0.23022 </td><td style=\"text-align: right;\">0.0530012</td></tr>\n",
       "<tr><td>DeepLearning_grid_1_AutoML_3_20221215_21156_model_46  </td><td style=\"text-align: right;\">0.55379  </td><td style=\"text-align: right;\">0.884156</td><td style=\"text-align: right;\"> 0.196323</td><td style=\"text-align: right;\">              0.326905</td><td style=\"text-align: right;\">0.226878</td><td style=\"text-align: right;\">0.0514734</td></tr>\n",
       "<tr><td>GBM_grid_1_AutoML_3_20221215_21156_model_16           </td><td style=\"text-align: right;\">0.553178 </td><td style=\"text-align: right;\">0.892778</td><td style=\"text-align: right;\"> 0.184845</td><td style=\"text-align: right;\">              0.32423 </td><td style=\"text-align: right;\">0.229462</td><td style=\"text-align: right;\">0.052653 </td></tr>\n",
       "<tr><td>GBM_grid_1_AutoML_3_20221215_21156_model_167          </td><td style=\"text-align: right;\">0.553098 </td><td style=\"text-align: right;\">0.892523</td><td style=\"text-align: right;\"> 0.191226</td><td style=\"text-align: right;\">              0.319685</td><td style=\"text-align: right;\">0.231285</td><td style=\"text-align: right;\">0.0534927</td></tr>\n",
       "<tr><td>XGBoost_grid_1_AutoML_3_20221215_21156_model_8        </td><td style=\"text-align: right;\">0.553028 </td><td style=\"text-align: right;\">0.889143</td><td style=\"text-align: right;\"> 0.187069</td><td style=\"text-align: right;\">              0.336495</td><td style=\"text-align: right;\">0.231142</td><td style=\"text-align: right;\">0.0534267</td></tr>\n",
       "<tr><td>GBM_grid_1_AutoML_3_20221215_21156_model_74           </td><td style=\"text-align: right;\">0.553012 </td><td style=\"text-align: right;\">0.888407</td><td style=\"text-align: right;\"> 0.184668</td><td style=\"text-align: right;\">              0.308672</td><td style=\"text-align: right;\">0.228242</td><td style=\"text-align: right;\">0.0520944</td></tr>\n",
       "<tr><td>GBM_grid_1_AutoML_3_20221215_21156_model_88           </td><td style=\"text-align: right;\">0.552838 </td><td style=\"text-align: right;\">0.89477 </td><td style=\"text-align: right;\"> 0.189592</td><td style=\"text-align: right;\">              0.324987</td><td style=\"text-align: right;\">0.232455</td><td style=\"text-align: right;\">0.0540353</td></tr>\n",
       "<tr><td>GBM_grid_1_AutoML_3_20221215_21156_model_153          </td><td style=\"text-align: right;\">0.552701 </td><td style=\"text-align: right;\">0.893758</td><td style=\"text-align: right;\"> 0.184411</td><td style=\"text-align: right;\">              0.297675</td><td style=\"text-align: right;\">0.230076</td><td style=\"text-align: right;\">0.052935 </td></tr>\n",
       "<tr><td>GBM_grid_1_AutoML_3_20221215_21156_model_91           </td><td style=\"text-align: right;\">0.552621 </td><td style=\"text-align: right;\">0.885487</td><td style=\"text-align: right;\"> 0.187119</td><td style=\"text-align: right;\">              0.320639</td><td style=\"text-align: right;\">0.228557</td><td style=\"text-align: right;\">0.0522382</td></tr>\n",
       "<tr><td>GBM_grid_1_AutoML_3_20221215_21156_model_144          </td><td style=\"text-align: right;\">0.552258 </td><td style=\"text-align: right;\">0.889274</td><td style=\"text-align: right;\"> 0.186724</td><td style=\"text-align: right;\">              0.333065</td><td style=\"text-align: right;\">0.230675</td><td style=\"text-align: right;\">0.0532111</td></tr>\n",
       "<tr><td>GBM_grid_1_AutoML_3_20221215_21156_model_241          </td><td style=\"text-align: right;\">0.551227 </td><td style=\"text-align: right;\">0.890168</td><td style=\"text-align: right;\"> 0.189717</td><td style=\"text-align: right;\">              0.333975</td><td style=\"text-align: right;\">0.230631</td><td style=\"text-align: right;\">0.0531909</td></tr>\n",
       "<tr><td>GBM_grid_1_AutoML_3_20221215_21156_model_82           </td><td style=\"text-align: right;\">0.551199 </td><td style=\"text-align: right;\">0.890937</td><td style=\"text-align: right;\"> 0.184593</td><td style=\"text-align: right;\">              0.328975</td><td style=\"text-align: right;\">0.229792</td><td style=\"text-align: right;\">0.0528043</td></tr>\n",
       "<tr><td>DeepLearning_grid_1_AutoML_3_20221215_21156_model_56  </td><td style=\"text-align: right;\">0.550943 </td><td style=\"text-align: right;\">0.884126</td><td style=\"text-align: right;\"> 0.184873</td><td style=\"text-align: right;\">              0.317105</td><td style=\"text-align: right;\">0.224117</td><td style=\"text-align: right;\">0.0502283</td></tr>\n",
       "<tr><td>GBM_grid_1_AutoML_3_20221215_21156_model_232          </td><td style=\"text-align: right;\">0.550727 </td><td style=\"text-align: right;\">0.889531</td><td style=\"text-align: right;\"> 0.190023</td><td style=\"text-align: right;\">              0.317522</td><td style=\"text-align: right;\">0.231233</td><td style=\"text-align: right;\">0.0534688</td></tr>\n",
       "<tr><td>GBM_grid_1_AutoML_3_20221215_21156_model_117          </td><td style=\"text-align: right;\">0.550349 </td><td style=\"text-align: right;\">0.889775</td><td style=\"text-align: right;\"> 0.188078</td><td style=\"text-align: right;\">              0.306161</td><td style=\"text-align: right;\">0.230633</td><td style=\"text-align: right;\">0.0531915</td></tr>\n",
       "<tr><td>GBM_grid_1_AutoML_3_20221215_21156_model_193          </td><td style=\"text-align: right;\">0.550071 </td><td style=\"text-align: right;\">0.891325</td><td style=\"text-align: right;\"> 0.188306</td><td style=\"text-align: right;\">              0.319038</td><td style=\"text-align: right;\">0.231167</td><td style=\"text-align: right;\">0.0534384</td></tr>\n",
       "<tr><td>GBM_grid_1_AutoML_3_20221215_21156_model_21           </td><td style=\"text-align: right;\">0.549634 </td><td style=\"text-align: right;\">0.887575</td><td style=\"text-align: right;\"> 0.186643</td><td style=\"text-align: right;\">              0.334078</td><td style=\"text-align: right;\">0.229526</td><td style=\"text-align: right;\">0.0526823</td></tr>\n",
       "<tr><td>GBM_grid_1_AutoML_3_20221215_21156_model_201          </td><td style=\"text-align: right;\">0.549592 </td><td style=\"text-align: right;\">0.887957</td><td style=\"text-align: right;\"> 0.188986</td><td style=\"text-align: right;\">              0.328977</td><td style=\"text-align: right;\">0.230341</td><td style=\"text-align: right;\">0.0530568</td></tr>\n",
       "<tr><td>GBM_grid_1_AutoML_3_20221215_21156_model_23           </td><td style=\"text-align: right;\">0.54929  </td><td style=\"text-align: right;\">0.889117</td><td style=\"text-align: right;\"> 0.182914</td><td style=\"text-align: right;\">              0.331403</td><td style=\"text-align: right;\">0.228987</td><td style=\"text-align: right;\">0.0524352</td></tr>\n",
       "<tr><td>DeepLearning_grid_1_AutoML_3_20221215_21156_model_37  </td><td style=\"text-align: right;\">0.548843 </td><td style=\"text-align: right;\">0.878976</td><td style=\"text-align: right;\"> 0.221203</td><td style=\"text-align: right;\">              0.316653</td><td style=\"text-align: right;\">0.230024</td><td style=\"text-align: right;\">0.0529113</td></tr>\n",
       "<tr><td>GBM_grid_1_AutoML_3_20221215_21156_model_221          </td><td style=\"text-align: right;\">0.548566 </td><td style=\"text-align: right;\">0.891438</td><td style=\"text-align: right;\"> 0.186539</td><td style=\"text-align: right;\">              0.338268</td><td style=\"text-align: right;\">0.230284</td><td style=\"text-align: right;\">0.0530305</td></tr>\n",
       "<tr><td>GBM_grid_1_AutoML_3_20221215_21156_model_111          </td><td style=\"text-align: right;\">0.548177 </td><td style=\"text-align: right;\">0.886088</td><td style=\"text-align: right;\"> 0.191747</td><td style=\"text-align: right;\">              0.331553</td><td style=\"text-align: right;\">0.2311  </td><td style=\"text-align: right;\">0.0534073</td></tr>\n",
       "<tr><td>GBM_grid_1_AutoML_3_20221215_21156_model_159          </td><td style=\"text-align: right;\">0.547898 </td><td style=\"text-align: right;\">0.886539</td><td style=\"text-align: right;\"> 0.18717 </td><td style=\"text-align: right;\">              0.323172</td><td style=\"text-align: right;\">0.230118</td><td style=\"text-align: right;\">0.0529544</td></tr>\n",
       "<tr><td>GBM_grid_1_AutoML_3_20221215_21156_model_202          </td><td style=\"text-align: right;\">0.547828 </td><td style=\"text-align: right;\">0.889499</td><td style=\"text-align: right;\"> 0.192463</td><td style=\"text-align: right;\">              0.31853 </td><td style=\"text-align: right;\">0.232594</td><td style=\"text-align: right;\">0.0541   </td></tr>\n",
       "<tr><td>DRF_1_AutoML_3_20221215_21156                         </td><td style=\"text-align: right;\">0.547803 </td><td style=\"text-align: right;\">0.883156</td><td style=\"text-align: right;\"> 0.191506</td><td style=\"text-align: right;\">              0.300853</td><td style=\"text-align: right;\">0.231174</td><td style=\"text-align: right;\">0.0534415</td></tr>\n",
       "<tr><td>GBM_grid_1_AutoML_3_20221215_21156_model_190          </td><td style=\"text-align: right;\">0.546936 </td><td style=\"text-align: right;\">0.887719</td><td style=\"text-align: right;\"> 0.187552</td><td style=\"text-align: right;\">              0.340389</td><td style=\"text-align: right;\">0.230565</td><td style=\"text-align: right;\">0.0531603</td></tr>\n",
       "<tr><td>GBM_grid_1_AutoML_3_20221215_21156_model_31           </td><td style=\"text-align: right;\">0.546749 </td><td style=\"text-align: right;\">0.886048</td><td style=\"text-align: right;\"> 0.201348</td><td style=\"text-align: right;\">              0.32342 </td><td style=\"text-align: right;\">0.235043</td><td style=\"text-align: right;\">0.055245 </td></tr>\n",
       "<tr><td>GBM_grid_1_AutoML_3_20221215_21156_model_136          </td><td style=\"text-align: right;\">0.546272 </td><td style=\"text-align: right;\">0.889698</td><td style=\"text-align: right;\"> 0.185763</td><td style=\"text-align: right;\">              0.319135</td><td style=\"text-align: right;\">0.230449</td><td style=\"text-align: right;\">0.0531069</td></tr>\n",
       "<tr><td>GBM_grid_1_AutoML_3_20221215_21156_model_115          </td><td style=\"text-align: right;\">0.545508 </td><td style=\"text-align: right;\">0.886161</td><td style=\"text-align: right;\"> 0.188385</td><td style=\"text-align: right;\">              0.307466</td><td style=\"text-align: right;\">0.23119 </td><td style=\"text-align: right;\">0.0534486</td></tr>\n",
       "<tr><td>GBM_grid_1_AutoML_3_20221215_21156_model_110          </td><td style=\"text-align: right;\">0.544968 </td><td style=\"text-align: right;\">0.889001</td><td style=\"text-align: right;\"> 0.18833 </td><td style=\"text-align: right;\">              0.312922</td><td style=\"text-align: right;\">0.231576</td><td style=\"text-align: right;\">0.0536272</td></tr>\n",
       "<tr><td>GBM_grid_1_AutoML_3_20221215_21156_model_116          </td><td style=\"text-align: right;\">0.544757 </td><td style=\"text-align: right;\">0.887445</td><td style=\"text-align: right;\"> 0.186716</td><td style=\"text-align: right;\">              0.30747 </td><td style=\"text-align: right;\">0.23045 </td><td style=\"text-align: right;\">0.0531071</td></tr>\n",
       "<tr><td>GBM_grid_1_AutoML_3_20221215_21156_model_63           </td><td style=\"text-align: right;\">0.544449 </td><td style=\"text-align: right;\">0.88827 </td><td style=\"text-align: right;\"> 0.188563</td><td style=\"text-align: right;\">              0.310913</td><td style=\"text-align: right;\">0.231717</td><td style=\"text-align: right;\">0.0536929</td></tr>\n",
       "<tr><td>DeepLearning_grid_1_AutoML_3_20221215_21156_model_20  </td><td style=\"text-align: right;\">0.543296 </td><td style=\"text-align: right;\">0.887737</td><td style=\"text-align: right;\"> 0.188327</td><td style=\"text-align: right;\">              0.288856</td><td style=\"text-align: right;\">0.228596</td><td style=\"text-align: right;\">0.0522563</td></tr>\n",
       "<tr><td>DeepLearning_grid_1_AutoML_3_20221215_21156_model_61  </td><td style=\"text-align: right;\">0.543032 </td><td style=\"text-align: right;\">0.884079</td><td style=\"text-align: right;\"> 0.187334</td><td style=\"text-align: right;\">              0.305201</td><td style=\"text-align: right;\">0.228797</td><td style=\"text-align: right;\">0.052348 </td></tr>\n",
       "<tr><td>GBM_grid_1_AutoML_3_20221215_21156_model_188          </td><td style=\"text-align: right;\">0.542887 </td><td style=\"text-align: right;\">0.885274</td><td style=\"text-align: right;\"> 0.19464 </td><td style=\"text-align: right;\">              0.326103</td><td style=\"text-align: right;\">0.23265 </td><td style=\"text-align: right;\">0.0541259</td></tr>\n",
       "<tr><td>GBM_grid_1_AutoML_3_20221215_21156_model_98           </td><td style=\"text-align: right;\">0.542649 </td><td style=\"text-align: right;\">0.886291</td><td style=\"text-align: right;\"> 0.190111</td><td style=\"text-align: right;\">              0.336352</td><td style=\"text-align: right;\">0.231922</td><td style=\"text-align: right;\">0.0537879</td></tr>\n",
       "<tr><td>GBM_grid_1_AutoML_3_20221215_21156_model_94           </td><td style=\"text-align: right;\">0.542045 </td><td style=\"text-align: right;\">0.888079</td><td style=\"text-align: right;\"> 0.188746</td><td style=\"text-align: right;\">              0.315455</td><td style=\"text-align: right;\">0.231605</td><td style=\"text-align: right;\">0.0536408</td></tr>\n",
       "<tr><td>GBM_grid_1_AutoML_3_20221215_21156_model_68           </td><td style=\"text-align: right;\">0.54202  </td><td style=\"text-align: right;\">0.881359</td><td style=\"text-align: right;\"> 0.192274</td><td style=\"text-align: right;\">              0.33246 </td><td style=\"text-align: right;\">0.231078</td><td style=\"text-align: right;\">0.0533972</td></tr>\n",
       "<tr><td>GBM_grid_1_AutoML_3_20221215_21156_model_75           </td><td style=\"text-align: right;\">0.541774 </td><td style=\"text-align: right;\">0.870515</td><td style=\"text-align: right;\"> 0.194934</td><td style=\"text-align: right;\">              0.329128</td><td style=\"text-align: right;\">0.230717</td><td style=\"text-align: right;\">0.0532301</td></tr>\n",
       "<tr><td>GBM_grid_1_AutoML_3_20221215_21156_model_33           </td><td style=\"text-align: right;\">0.541767 </td><td style=\"text-align: right;\">0.885961</td><td style=\"text-align: right;\"> 0.209203</td><td style=\"text-align: right;\">              0.328929</td><td style=\"text-align: right;\">0.240623</td><td style=\"text-align: right;\">0.0578992</td></tr>\n",
       "<tr><td>GBM_grid_1_AutoML_3_20221215_21156_model_102          </td><td style=\"text-align: right;\">0.541619 </td><td style=\"text-align: right;\">0.886346</td><td style=\"text-align: right;\"> 0.188513</td><td style=\"text-align: right;\">              0.323984</td><td style=\"text-align: right;\">0.230992</td><td style=\"text-align: right;\">0.0533574</td></tr>\n",
       "<tr><td>GBM_grid_1_AutoML_3_20221215_21156_model_57           </td><td style=\"text-align: right;\">0.54145  </td><td style=\"text-align: right;\">0.889161</td><td style=\"text-align: right;\"> 0.189208</td><td style=\"text-align: right;\">              0.322622</td><td style=\"text-align: right;\">0.231473</td><td style=\"text-align: right;\">0.0535798</td></tr>\n",
       "<tr><td>DeepLearning_grid_1_AutoML_3_20221215_21156_model_51  </td><td style=\"text-align: right;\">0.54041  </td><td style=\"text-align: right;\">0.882085</td><td style=\"text-align: right;\"> 0.197874</td><td style=\"text-align: right;\">              0.310052</td><td style=\"text-align: right;\">0.229998</td><td style=\"text-align: right;\">0.0528992</td></tr>\n",
       "<tr><td>GBM_grid_1_AutoML_3_20221215_21156_model_166          </td><td style=\"text-align: right;\">0.540262 </td><td style=\"text-align: right;\">0.88696 </td><td style=\"text-align: right;\"> 0.188599</td><td style=\"text-align: right;\">              0.307178</td><td style=\"text-align: right;\">0.231167</td><td style=\"text-align: right;\">0.0534383</td></tr>\n",
       "<tr><td>GBM_grid_1_AutoML_3_20221215_21156_model_89           </td><td style=\"text-align: right;\">0.540064 </td><td style=\"text-align: right;\">0.887398</td><td style=\"text-align: right;\"> 0.208243</td><td style=\"text-align: right;\">              0.342417</td><td style=\"text-align: right;\">0.235805</td><td style=\"text-align: right;\">0.0556039</td></tr>\n",
       "<tr><td>GBM_grid_1_AutoML_3_20221215_21156_model_87           </td><td style=\"text-align: right;\">0.539612 </td><td style=\"text-align: right;\">0.887467</td><td style=\"text-align: right;\"> 0.216361</td><td style=\"text-align: right;\">              0.332718</td><td style=\"text-align: right;\">0.237376</td><td style=\"text-align: right;\">0.0563472</td></tr>\n",
       "<tr><td>GBM_grid_1_AutoML_3_20221215_21156_model_113          </td><td style=\"text-align: right;\">0.538998 </td><td style=\"text-align: right;\">0.889787</td><td style=\"text-align: right;\"> 0.189166</td><td style=\"text-align: right;\">              0.313793</td><td style=\"text-align: right;\">0.231668</td><td style=\"text-align: right;\">0.05367  </td></tr>\n",
       "<tr><td>GBM_grid_1_AutoML_3_20221215_21156_model_72           </td><td style=\"text-align: right;\">0.538364 </td><td style=\"text-align: right;\">0.887294</td><td style=\"text-align: right;\"> 0.193758</td><td style=\"text-align: right;\">              0.295467</td><td style=\"text-align: right;\">0.233732</td><td style=\"text-align: right;\">0.0546305</td></tr>\n",
       "<tr><td>DeepLearning_grid_1_AutoML_3_20221215_21156_model_52  </td><td style=\"text-align: right;\">0.538056 </td><td style=\"text-align: right;\">0.884341</td><td style=\"text-align: right;\"> 0.191861</td><td style=\"text-align: right;\">              0.320613</td><td style=\"text-align: right;\">0.22916 </td><td style=\"text-align: right;\">0.0525145</td></tr>\n",
       "<tr><td>GBM_grid_1_AutoML_3_20221215_21156_model_134          </td><td style=\"text-align: right;\">0.537165 </td><td style=\"text-align: right;\">0.887359</td><td style=\"text-align: right;\"> 0.198516</td><td style=\"text-align: right;\">              0.312326</td><td style=\"text-align: right;\">0.236777</td><td style=\"text-align: right;\">0.0560635</td></tr>\n",
       "<tr><td>GBM_grid_1_AutoML_3_20221215_21156_model_13           </td><td style=\"text-align: right;\">0.536749 </td><td style=\"text-align: right;\">0.875032</td><td style=\"text-align: right;\"> 0.272471</td><td style=\"text-align: right;\">              0.323523</td><td style=\"text-align: right;\">0.239749</td><td style=\"text-align: right;\">0.0574793</td></tr>\n",
       "<tr><td>GBM_grid_1_AutoML_3_20221215_21156_model_220          </td><td style=\"text-align: right;\">0.536516 </td><td style=\"text-align: right;\">0.879944</td><td style=\"text-align: right;\"> 0.197949</td><td style=\"text-align: right;\">              0.329935</td><td style=\"text-align: right;\">0.233487</td><td style=\"text-align: right;\">0.0545164</td></tr>\n",
       "<tr><td>DeepLearning_grid_1_AutoML_3_20221215_21156_model_57  </td><td style=\"text-align: right;\">0.536039 </td><td style=\"text-align: right;\">0.886754</td><td style=\"text-align: right;\"> 0.194695</td><td style=\"text-align: right;\">              0.338779</td><td style=\"text-align: right;\">0.233371</td><td style=\"text-align: right;\">0.0544621</td></tr>\n",
       "<tr><td>GBM_grid_1_AutoML_3_20221215_21156_model_235          </td><td style=\"text-align: right;\">0.535498 </td><td style=\"text-align: right;\">0.885617</td><td style=\"text-align: right;\"> 0.224874</td><td style=\"text-align: right;\">              0.317934</td><td style=\"text-align: right;\">0.237882</td><td style=\"text-align: right;\">0.0565877</td></tr>\n",
       "<tr><td>GBM_grid_1_AutoML_3_20221215_21156_model_127          </td><td style=\"text-align: right;\">0.534608 </td><td style=\"text-align: right;\">0.883864</td><td style=\"text-align: right;\"> 0.230264</td><td style=\"text-align: right;\">              0.320808</td><td style=\"text-align: right;\">0.239228</td><td style=\"text-align: right;\">0.0572301</td></tr>\n",
       "<tr><td>DeepLearning_grid_1_AutoML_3_20221215_21156_model_31  </td><td style=\"text-align: right;\">0.534339 </td><td style=\"text-align: right;\">0.884396</td><td style=\"text-align: right;\"> 0.18007 </td><td style=\"text-align: right;\">              0.294411</td><td style=\"text-align: right;\">0.229629</td><td style=\"text-align: right;\">0.0527293</td></tr>\n",
       "<tr><td>GBM_grid_1_AutoML_3_20221215_21156_model_58           </td><td style=\"text-align: right;\">0.53423  </td><td style=\"text-align: right;\">0.883529</td><td style=\"text-align: right;\"> 0.247553</td><td style=\"text-align: right;\">              0.329747</td><td style=\"text-align: right;\">0.241704</td><td style=\"text-align: right;\">0.0584207</td></tr>\n",
       "<tr><td>GBM_grid_1_AutoML_3_20221215_21156_model_154          </td><td style=\"text-align: right;\">0.533633 </td><td style=\"text-align: right;\">0.875466</td><td style=\"text-align: right;\"> 0.253425</td><td style=\"text-align: right;\">              0.31918 </td><td style=\"text-align: right;\">0.239125</td><td style=\"text-align: right;\">0.0571808</td></tr>\n",
       "<tr><td>GBM_grid_1_AutoML_3_20221215_21156_model_49           </td><td style=\"text-align: right;\">0.533575 </td><td style=\"text-align: right;\">0.883158</td><td style=\"text-align: right;\"> 0.200406</td><td style=\"text-align: right;\">              0.323276</td><td style=\"text-align: right;\">0.236456</td><td style=\"text-align: right;\">0.0559115</td></tr>\n",
       "<tr><td>GBM_grid_1_AutoML_3_20221215_21156_model_4            </td><td style=\"text-align: right;\">0.532904 </td><td style=\"text-align: right;\">0.882647</td><td style=\"text-align: right;\"> 0.198577</td><td style=\"text-align: right;\">              0.328381</td><td style=\"text-align: right;\">0.234999</td><td style=\"text-align: right;\">0.0552243</td></tr>\n",
       "<tr><td>DeepLearning_grid_1_AutoML_3_20221215_21156_model_27  </td><td style=\"text-align: right;\">0.532419 </td><td style=\"text-align: right;\">0.875416</td><td style=\"text-align: right;\"> 0.209576</td><td style=\"text-align: right;\">              0.337815</td><td style=\"text-align: right;\">0.232469</td><td style=\"text-align: right;\">0.0540418</td></tr>\n",
       "<tr><td>GBM_grid_1_AutoML_3_20221215_21156_model_197          </td><td style=\"text-align: right;\">0.531822 </td><td style=\"text-align: right;\">0.885082</td><td style=\"text-align: right;\"> 0.191078</td><td style=\"text-align: right;\">              0.311122</td><td style=\"text-align: right;\">0.233624</td><td style=\"text-align: right;\">0.05458  </td></tr>\n",
       "<tr><td>GBM_grid_1_AutoML_3_20221215_21156_model_66           </td><td style=\"text-align: right;\">0.531705 </td><td style=\"text-align: right;\">0.887034</td><td style=\"text-align: right;\"> 0.189946</td><td style=\"text-align: right;\">              0.315762</td><td style=\"text-align: right;\">0.233132</td><td style=\"text-align: right;\">0.0543504</td></tr>\n",
       "<tr><td>GBM_grid_1_AutoML_3_20221215_21156_model_244          </td><td style=\"text-align: right;\">0.531452 </td><td style=\"text-align: right;\">0.88703 </td><td style=\"text-align: right;\"> 0.251133</td><td style=\"text-align: right;\">              0.331367</td><td style=\"text-align: right;\">0.241217</td><td style=\"text-align: right;\">0.0581857</td></tr>\n",
       "<tr><td>DeepLearning_grid_1_AutoML_3_20221215_21156_model_34  </td><td style=\"text-align: right;\">0.530818 </td><td style=\"text-align: right;\">0.886794</td><td style=\"text-align: right;\"> 0.197075</td><td style=\"text-align: right;\">              0.331158</td><td style=\"text-align: right;\">0.235736</td><td style=\"text-align: right;\">0.0555714</td></tr>\n",
       "<tr><td>GBM_grid_1_AutoML_3_20221215_21156_model_194          </td><td style=\"text-align: right;\">0.5305   </td><td style=\"text-align: right;\">0.884479</td><td style=\"text-align: right;\"> 0.193938</td><td style=\"text-align: right;\">              0.296837</td><td style=\"text-align: right;\">0.234072</td><td style=\"text-align: right;\">0.0547897</td></tr>\n",
       "<tr><td>DeepLearning_grid_1_AutoML_3_20221215_21156_model_14  </td><td style=\"text-align: right;\">0.529551 </td><td style=\"text-align: right;\">0.883994</td><td style=\"text-align: right;\"> 0.186209</td><td style=\"text-align: right;\">              0.324098</td><td style=\"text-align: right;\">0.230077</td><td style=\"text-align: right;\">0.0529356</td></tr>\n",
       "<tr><td>GBM_grid_1_AutoML_3_20221215_21156_model_205          </td><td style=\"text-align: right;\">0.529293 </td><td style=\"text-align: right;\">0.88469 </td><td style=\"text-align: right;\"> 0.191711</td><td style=\"text-align: right;\">              0.310462</td><td style=\"text-align: right;\">0.233836</td><td style=\"text-align: right;\">0.0546792</td></tr>\n",
       "<tr><td>DeepLearning_grid_1_AutoML_3_20221215_21156_model_15  </td><td style=\"text-align: right;\">0.527997 </td><td style=\"text-align: right;\">0.878681</td><td style=\"text-align: right;\"> 0.196986</td><td style=\"text-align: right;\">              0.333279</td><td style=\"text-align: right;\">0.230385</td><td style=\"text-align: right;\">0.0530774</td></tr>\n",
       "<tr><td>GBM_grid_1_AutoML_3_20221215_21156_model_179          </td><td style=\"text-align: right;\">0.527069 </td><td style=\"text-align: right;\">0.881017</td><td style=\"text-align: right;\"> 0.201319</td><td style=\"text-align: right;\">              0.326313</td><td style=\"text-align: right;\">0.235803</td><td style=\"text-align: right;\">0.0556032</td></tr>\n",
       "<tr><td>DeepLearning_grid_1_AutoML_3_20221215_21156_model_33  </td><td style=\"text-align: right;\">0.526863 </td><td style=\"text-align: right;\">0.876584</td><td style=\"text-align: right;\"> 0.2227  </td><td style=\"text-align: right;\">              0.335755</td><td style=\"text-align: right;\">0.232062</td><td style=\"text-align: right;\">0.0538528</td></tr>\n",
       "<tr><td>GBM_grid_1_AutoML_3_20221215_21156_model_187          </td><td style=\"text-align: right;\">0.526713 </td><td style=\"text-align: right;\">0.88259 </td><td style=\"text-align: right;\"> 0.192067</td><td style=\"text-align: right;\">              0.338276</td><td style=\"text-align: right;\">0.233967</td><td style=\"text-align: right;\">0.0547405</td></tr>\n",
       "<tr><td>DeepLearning_grid_1_AutoML_3_20221215_21156_model_12  </td><td style=\"text-align: right;\">0.52572  </td><td style=\"text-align: right;\">0.880108</td><td style=\"text-align: right;\"> 0.192998</td><td style=\"text-align: right;\">              0.329246</td><td style=\"text-align: right;\">0.231924</td><td style=\"text-align: right;\">0.0537888</td></tr>\n",
       "<tr><td>DeepLearning_grid_1_AutoML_3_20221215_21156_model_62  </td><td style=\"text-align: right;\">0.525406 </td><td style=\"text-align: right;\">0.884807</td><td style=\"text-align: right;\"> 0.183065</td><td style=\"text-align: right;\">              0.332327</td><td style=\"text-align: right;\">0.231101</td><td style=\"text-align: right;\">0.0534079</td></tr>\n",
       "<tr><td>GBM_grid_1_AutoML_3_20221215_21156_model_184          </td><td style=\"text-align: right;\">0.524333 </td><td style=\"text-align: right;\">0.885106</td><td style=\"text-align: right;\"> 0.192911</td><td style=\"text-align: right;\">              0.321066</td><td style=\"text-align: right;\">0.234725</td><td style=\"text-align: right;\">0.0550958</td></tr>\n",
       "<tr><td>DeepLearning_grid_1_AutoML_3_20221215_21156_model_67  </td><td style=\"text-align: right;\">0.522011 </td><td style=\"text-align: right;\">0.877397</td><td style=\"text-align: right;\"> 0.194544</td><td style=\"text-align: right;\">              0.304668</td><td style=\"text-align: right;\">0.234576</td><td style=\"text-align: right;\">0.055026 </td></tr>\n",
       "<tr><td>DeepLearning_grid_1_AutoML_3_20221215_21156_model_13  </td><td style=\"text-align: right;\">0.521804 </td><td style=\"text-align: right;\">0.870204</td><td style=\"text-align: right;\"> 0.224415</td><td style=\"text-align: right;\">              0.330658</td><td style=\"text-align: right;\">0.235252</td><td style=\"text-align: right;\">0.0553433</td></tr>\n",
       "<tr><td>DeepLearning_grid_1_AutoML_3_20221215_21156_model_5   </td><td style=\"text-align: right;\">0.521649 </td><td style=\"text-align: right;\">0.878135</td><td style=\"text-align: right;\"> 0.194119</td><td style=\"text-align: right;\">              0.326076</td><td style=\"text-align: right;\">0.231534</td><td style=\"text-align: right;\">0.0536079</td></tr>\n",
       "<tr><td>DeepLearning_grid_1_AutoML_3_20221215_21156_model_59  </td><td style=\"text-align: right;\">0.521055 </td><td style=\"text-align: right;\">0.87626 </td><td style=\"text-align: right;\"> 0.198175</td><td style=\"text-align: right;\">              0.32243 </td><td style=\"text-align: right;\">0.232964</td><td style=\"text-align: right;\">0.0542722</td></tr>\n",
       "<tr><td>DeepLearning_grid_1_AutoML_3_20221215_21156_model_45  </td><td style=\"text-align: right;\">0.521002 </td><td style=\"text-align: right;\">0.879742</td><td style=\"text-align: right;\"> 0.18659 </td><td style=\"text-align: right;\">              0.341926</td><td style=\"text-align: right;\">0.230713</td><td style=\"text-align: right;\">0.0532287</td></tr>\n",
       "<tr><td>GBM_grid_1_AutoML_3_20221215_21156_model_8            </td><td style=\"text-align: right;\">0.520908 </td><td style=\"text-align: right;\">0.879608</td><td style=\"text-align: right;\"> 0.208628</td><td style=\"text-align: right;\">              0.334397</td><td style=\"text-align: right;\">0.23762 </td><td style=\"text-align: right;\">0.0564634</td></tr>\n",
       "<tr><td>DeepLearning_grid_1_AutoML_3_20221215_21156_model_26  </td><td style=\"text-align: right;\">0.520123 </td><td style=\"text-align: right;\">0.868752</td><td style=\"text-align: right;\"> 0.235113</td><td style=\"text-align: right;\">              0.338737</td><td style=\"text-align: right;\">0.235754</td><td style=\"text-align: right;\">0.0555802</td></tr>\n",
       "<tr><td>DeepLearning_grid_1_AutoML_3_20221215_21156_model_19  </td><td style=\"text-align: right;\">0.519874 </td><td style=\"text-align: right;\">0.876461</td><td style=\"text-align: right;\"> 0.211721</td><td style=\"text-align: right;\">              0.313353</td><td style=\"text-align: right;\">0.232759</td><td style=\"text-align: right;\">0.0541765</td></tr>\n",
       "<tr><td>GBM_grid_1_AutoML_3_20221215_21156_model_15           </td><td style=\"text-align: right;\">0.519254 </td><td style=\"text-align: right;\">0.884532</td><td style=\"text-align: right;\"> 0.201402</td><td style=\"text-align: right;\">              0.302293</td><td style=\"text-align: right;\">0.238145</td><td style=\"text-align: right;\">0.0567133</td></tr>\n",
       "<tr><td>DeepLearning_grid_1_AutoML_3_20221215_21156_model_42  </td><td style=\"text-align: right;\">0.51924  </td><td style=\"text-align: right;\">0.875363</td><td style=\"text-align: right;\"> 0.197115</td><td style=\"text-align: right;\">              0.322032</td><td style=\"text-align: right;\">0.231638</td><td style=\"text-align: right;\">0.0536562</td></tr>\n",
       "<tr><td>XRT_1_AutoML_3_20221215_21156                         </td><td style=\"text-align: right;\">0.518622 </td><td style=\"text-align: right;\">0.855   </td><td style=\"text-align: right;\"> 0.204805</td><td style=\"text-align: right;\">              0.310397</td><td style=\"text-align: right;\">0.237944</td><td style=\"text-align: right;\">0.0566173</td></tr>\n",
       "<tr><td>GBM_grid_1_AutoML_3_20221215_21156_model_172          </td><td style=\"text-align: right;\">0.518522 </td><td style=\"text-align: right;\">0.881256</td><td style=\"text-align: right;\"> 0.201407</td><td style=\"text-align: right;\">              0.325966</td><td style=\"text-align: right;\">0.236721</td><td style=\"text-align: right;\">0.0560367</td></tr>\n",
       "<tr><td>DeepLearning_grid_1_AutoML_3_20221215_21156_model_32  </td><td style=\"text-align: right;\">0.518365 </td><td style=\"text-align: right;\">0.874312</td><td style=\"text-align: right;\"> 0.193811</td><td style=\"text-align: right;\">              0.326425</td><td style=\"text-align: right;\">0.232025</td><td style=\"text-align: right;\">0.0538358</td></tr>\n",
       "<tr><td>GBM_grid_1_AutoML_3_20221215_21156_model_53           </td><td style=\"text-align: right;\">0.518331 </td><td style=\"text-align: right;\">0.884053</td><td style=\"text-align: right;\"> 0.197305</td><td style=\"text-align: right;\">              0.337478</td><td style=\"text-align: right;\">0.235887</td><td style=\"text-align: right;\">0.0556428</td></tr>\n",
       "<tr><td>DeepLearning_grid_3_AutoML_3_20221215_21156_model_5   </td><td style=\"text-align: right;\">0.518056 </td><td style=\"text-align: right;\">0.881481</td><td style=\"text-align: right;\"> 0.185832</td><td style=\"text-align: right;\">              0.322385</td><td style=\"text-align: right;\">0.234545</td><td style=\"text-align: right;\">0.0550113</td></tr>\n",
       "<tr><td>GBM_grid_1_AutoML_3_20221215_21156_model_162          </td><td style=\"text-align: right;\">0.517831 </td><td style=\"text-align: right;\">0.882276</td><td style=\"text-align: right;\"> 0.201472</td><td style=\"text-align: right;\">              0.315265</td><td style=\"text-align: right;\">0.237959</td><td style=\"text-align: right;\">0.0566245</td></tr>\n",
       "<tr><td>DeepLearning_grid_1_AutoML_3_20221215_21156_model_24  </td><td style=\"text-align: right;\">0.516947 </td><td style=\"text-align: right;\">0.873506</td><td style=\"text-align: right;\"> 0.200129</td><td style=\"text-align: right;\">              0.327992</td><td style=\"text-align: right;\">0.232706</td><td style=\"text-align: right;\">0.0541521</td></tr>\n",
       "<tr><td>XGBoost_grid_1_AutoML_3_20221215_21156_model_62       </td><td style=\"text-align: right;\">0.516483 </td><td style=\"text-align: right;\">0.884312</td><td style=\"text-align: right;\"> 0.231345</td><td style=\"text-align: right;\">              0.326329</td><td style=\"text-align: right;\">0.243258</td><td style=\"text-align: right;\">0.0591742</td></tr>\n",
       "<tr><td>DeepLearning_grid_1_AutoML_3_20221215_21156_model_35  </td><td style=\"text-align: right;\">0.516205 </td><td style=\"text-align: right;\">0.872729</td><td style=\"text-align: right;\"> 0.191748</td><td style=\"text-align: right;\">              0.336819</td><td style=\"text-align: right;\">0.23225 </td><td style=\"text-align: right;\">0.0539398</td></tr>\n",
       "<tr><td>GBM_grid_1_AutoML_3_20221215_21156_model_19           </td><td style=\"text-align: right;\">0.51586  </td><td style=\"text-align: right;\">0.88173 </td><td style=\"text-align: right;\"> 0.194853</td><td style=\"text-align: right;\">              0.287716</td><td style=\"text-align: right;\">0.235761</td><td style=\"text-align: right;\">0.055583 </td></tr>\n",
       "<tr><td>DeepLearning_grid_1_AutoML_3_20221215_21156_model_60  </td><td style=\"text-align: right;\">0.515357 </td><td style=\"text-align: right;\">0.867257</td><td style=\"text-align: right;\"> 0.248213</td><td style=\"text-align: right;\">              0.329908</td><td style=\"text-align: right;\">0.235738</td><td style=\"text-align: right;\">0.0555725</td></tr>\n",
       "<tr><td>GBM_grid_1_AutoML_3_20221215_21156_model_240          </td><td style=\"text-align: right;\">0.515211 </td><td style=\"text-align: right;\">0.879279</td><td style=\"text-align: right;\"> 0.197068</td><td style=\"text-align: right;\">              0.336413</td><td style=\"text-align: right;\">0.236551</td><td style=\"text-align: right;\">0.0559566</td></tr>\n",
       "<tr><td>GBM_grid_1_AutoML_3_20221215_21156_model_100          </td><td style=\"text-align: right;\">0.514684 </td><td style=\"text-align: right;\">0.882419</td><td style=\"text-align: right;\"> 0.196196</td><td style=\"text-align: right;\">              0.31632 </td><td style=\"text-align: right;\">0.236333</td><td style=\"text-align: right;\">0.0558531</td></tr>\n",
       "<tr><td>GBM_grid_1_AutoML_3_20221215_21156_model_189          </td><td style=\"text-align: right;\">0.514629 </td><td style=\"text-align: right;\">0.863803</td><td style=\"text-align: right;\"> 0.213615</td><td style=\"text-align: right;\">              0.320457</td><td style=\"text-align: right;\">0.24226 </td><td style=\"text-align: right;\">0.0586899</td></tr>\n",
       "<tr><td>GBM_grid_1_AutoML_3_20221215_21156_model_1            </td><td style=\"text-align: right;\">0.513076 </td><td style=\"text-align: right;\">0.877617</td><td style=\"text-align: right;\"> 0.194285</td><td style=\"text-align: right;\">              0.340361</td><td style=\"text-align: right;\">0.235496</td><td style=\"text-align: right;\">0.0554586</td></tr>\n",
       "<tr><td>DeepLearning_grid_1_AutoML_3_20221215_21156_model_1   </td><td style=\"text-align: right;\">0.512948 </td><td style=\"text-align: right;\">0.875083</td><td style=\"text-align: right;\"> 0.210348</td><td style=\"text-align: right;\">              0.346726</td><td style=\"text-align: right;\">0.23362 </td><td style=\"text-align: right;\">0.0545783</td></tr>\n",
       "<tr><td>DeepLearning_grid_1_AutoML_3_20221215_21156_model_38  </td><td style=\"text-align: right;\">0.512669 </td><td style=\"text-align: right;\">0.870341</td><td style=\"text-align: right;\"> 0.203343</td><td style=\"text-align: right;\">              0.325016</td><td style=\"text-align: right;\">0.233064</td><td style=\"text-align: right;\">0.0543186</td></tr>\n",
       "<tr><td>GBM_grid_1_AutoML_3_20221215_21156_model_129          </td><td style=\"text-align: right;\">0.512636 </td><td style=\"text-align: right;\">0.877073</td><td style=\"text-align: right;\"> 0.19509 </td><td style=\"text-align: right;\">              0.341313</td><td style=\"text-align: right;\">0.235647</td><td style=\"text-align: right;\">0.0555296</td></tr>\n",
       "<tr><td>DeepLearning_grid_1_AutoML_3_20221215_21156_model_2   </td><td style=\"text-align: right;\">0.512219 </td><td style=\"text-align: right;\">0.8708  </td><td style=\"text-align: right;\"> 0.205381</td><td style=\"text-align: right;\">              0.317498</td><td style=\"text-align: right;\">0.232801</td><td style=\"text-align: right;\">0.0541963</td></tr>\n",
       "<tr><td>DeepLearning_grid_1_AutoML_3_20221215_21156_model_39  </td><td style=\"text-align: right;\">0.512217 </td><td style=\"text-align: right;\">0.864416</td><td style=\"text-align: right;\"> 0.281661</td><td style=\"text-align: right;\">              0.346215</td><td style=\"text-align: right;\">0.252125</td><td style=\"text-align: right;\">0.0635671</td></tr>\n",
       "<tr><td>DeepLearning_grid_1_AutoML_3_20221215_21156_model_63  </td><td style=\"text-align: right;\">0.51218  </td><td style=\"text-align: right;\">0.878684</td><td style=\"text-align: right;\"> 0.183969</td><td style=\"text-align: right;\">              0.324318</td><td style=\"text-align: right;\">0.231266</td><td style=\"text-align: right;\">0.0534842</td></tr>\n",
       "<tr><td>DeepLearning_grid_1_AutoML_3_20221215_21156_model_69  </td><td style=\"text-align: right;\">0.511608 </td><td style=\"text-align: right;\">0.8784  </td><td style=\"text-align: right;\"> 0.193189</td><td style=\"text-align: right;\">              0.316382</td><td style=\"text-align: right;\">0.237163</td><td style=\"text-align: right;\">0.0562463</td></tr>\n",
       "<tr><td>DeepLearning_grid_1_AutoML_3_20221215_21156_model_55  </td><td style=\"text-align: right;\">0.509094 </td><td style=\"text-align: right;\">0.865559</td><td style=\"text-align: right;\"> 0.2314  </td><td style=\"text-align: right;\">              0.340211</td><td style=\"text-align: right;\">0.235767</td><td style=\"text-align: right;\">0.055586 </td></tr>\n",
       "<tr><td>DeepLearning_grid_1_AutoML_3_20221215_21156_model_64  </td><td style=\"text-align: right;\">0.508662 </td><td style=\"text-align: right;\">0.865587</td><td style=\"text-align: right;\"> 0.223825</td><td style=\"text-align: right;\">              0.343138</td><td style=\"text-align: right;\">0.236295</td><td style=\"text-align: right;\">0.0558351</td></tr>\n",
       "<tr><td>GBM_grid_1_AutoML_3_20221215_21156_model_497          </td><td style=\"text-align: right;\">0.508528 </td><td style=\"text-align: right;\">0.880966</td><td style=\"text-align: right;\"> 0.198057</td><td style=\"text-align: right;\">              0.29893 </td><td style=\"text-align: right;\">0.23699 </td><td style=\"text-align: right;\">0.0561645</td></tr>\n",
       "<tr><td>DeepLearning_grid_1_AutoML_3_20221215_21156_model_29  </td><td style=\"text-align: right;\">0.508156 </td><td style=\"text-align: right;\">0.869705</td><td style=\"text-align: right;\"> 0.206   </td><td style=\"text-align: right;\">              0.326386</td><td style=\"text-align: right;\">0.233023</td><td style=\"text-align: right;\">0.0542996</td></tr>\n",
       "<tr><td>DeepLearning_grid_1_AutoML_3_20221215_21156_model_44  </td><td style=\"text-align: right;\">0.507945 </td><td style=\"text-align: right;\">0.868092</td><td style=\"text-align: right;\"> 0.194785</td><td style=\"text-align: right;\">              0.341566</td><td style=\"text-align: right;\">0.233203</td><td style=\"text-align: right;\">0.0543835</td></tr>\n",
       "<tr><td>GBM_grid_1_AutoML_3_20221215_21156_model_182          </td><td style=\"text-align: right;\">0.507861 </td><td style=\"text-align: right;\">0.877399</td><td style=\"text-align: right;\"> 0.19464 </td><td style=\"text-align: right;\">              0.325974</td><td style=\"text-align: right;\">0.236138</td><td style=\"text-align: right;\">0.0557609</td></tr>\n",
       "<tr><td>DeepLearning_grid_1_AutoML_3_20221215_21156_model_25  </td><td style=\"text-align: right;\">0.507506 </td><td style=\"text-align: right;\">0.868697</td><td style=\"text-align: right;\"> 0.20279 </td><td style=\"text-align: right;\">              0.35051 </td><td style=\"text-align: right;\">0.233743</td><td style=\"text-align: right;\">0.0546358</td></tr>\n",
       "<tr><td>GBM_grid_1_AutoML_3_20221215_21156_model_122          </td><td style=\"text-align: right;\">0.506061 </td><td style=\"text-align: right;\">0.877915</td><td style=\"text-align: right;\"> 0.196483</td><td style=\"text-align: right;\">              0.329914</td><td style=\"text-align: right;\">0.236646</td><td style=\"text-align: right;\">0.0560013</td></tr>\n",
       "<tr><td>GBM_grid_1_AutoML_3_20221215_21156_model_56           </td><td style=\"text-align: right;\">0.506031 </td><td style=\"text-align: right;\">0.877296</td><td style=\"text-align: right;\"> 0.205218</td><td style=\"text-align: right;\">              0.326824</td><td style=\"text-align: right;\">0.239729</td><td style=\"text-align: right;\">0.0574699</td></tr>\n",
       "<tr><td>GBM_grid_1_AutoML_3_20221215_21156_model_32           </td><td style=\"text-align: right;\">0.50496  </td><td style=\"text-align: right;\">0.877544</td><td style=\"text-align: right;\"> 0.19817 </td><td style=\"text-align: right;\">              0.313345</td><td style=\"text-align: right;\">0.237122</td><td style=\"text-align: right;\">0.056227 </td></tr>\n",
       "<tr><td>DeepLearning_grid_1_AutoML_3_20221215_21156_model_18  </td><td style=\"text-align: right;\">0.504005 </td><td style=\"text-align: right;\">0.867596</td><td style=\"text-align: right;\"> 0.19638 </td><td style=\"text-align: right;\">              0.338151</td><td style=\"text-align: right;\">0.233053</td><td style=\"text-align: right;\">0.0543136</td></tr>\n",
       "<tr><td>DeepLearning_grid_1_AutoML_3_20221215_21156_model_6   </td><td style=\"text-align: right;\">0.503328 </td><td style=\"text-align: right;\">0.865589</td><td style=\"text-align: right;\"> 0.229126</td><td style=\"text-align: right;\">              0.352032</td><td style=\"text-align: right;\">0.23598 </td><td style=\"text-align: right;\">0.0556864</td></tr>\n",
       "<tr><td>DeepLearning_grid_1_AutoML_3_20221215_21156_model_3   </td><td style=\"text-align: right;\">0.50313  </td><td style=\"text-align: right;\">0.864731</td><td style=\"text-align: right;\"> 0.228625</td><td style=\"text-align: right;\">              0.347839</td><td style=\"text-align: right;\">0.236466</td><td style=\"text-align: right;\">0.0559161</td></tr>\n",
       "<tr><td>DeepLearning_grid_1_AutoML_3_20221215_21156_model_11  </td><td style=\"text-align: right;\">0.502961 </td><td style=\"text-align: right;\">0.865764</td><td style=\"text-align: right;\"> 0.210985</td><td style=\"text-align: right;\">              0.323764</td><td style=\"text-align: right;\">0.233129</td><td style=\"text-align: right;\">0.0543491</td></tr>\n",
       "<tr><td>GBM_grid_1_AutoML_3_20221215_21156_model_30           </td><td style=\"text-align: right;\">0.501928 </td><td style=\"text-align: right;\">0.883065</td><td style=\"text-align: right;\"> 0.197219</td><td style=\"text-align: right;\">              0.328706</td><td style=\"text-align: right;\">0.23745 </td><td style=\"text-align: right;\">0.0563825</td></tr>\n",
       "<tr><td>DeepLearning_grid_1_AutoML_3_20221215_21156_model_22  </td><td style=\"text-align: right;\">0.500774 </td><td style=\"text-align: right;\">0.867184</td><td style=\"text-align: right;\"> 0.23076 </td><td style=\"text-align: right;\">              0.360466</td><td style=\"text-align: right;\">0.23625 </td><td style=\"text-align: right;\">0.0558141</td></tr>\n",
       "<tr><td>DeepLearning_grid_1_AutoML_3_20221215_21156_model_28  </td><td style=\"text-align: right;\">0.500413 </td><td style=\"text-align: right;\">0.859754</td><td style=\"text-align: right;\"> 0.232706</td><td style=\"text-align: right;\">              0.342182</td><td style=\"text-align: right;\">0.236041</td><td style=\"text-align: right;\">0.0557155</td></tr>\n",
       "<tr><td>GBM_grid_1_AutoML_3_20221215_21156_model_10           </td><td style=\"text-align: right;\">0.500013 </td><td style=\"text-align: right;\">0.860874</td><td style=\"text-align: right;\"> 0.209728</td><td style=\"text-align: right;\">              0.327987</td><td style=\"text-align: right;\">0.240499</td><td style=\"text-align: right;\">0.0578399</td></tr>\n",
       "<tr><td>GBM_grid_1_AutoML_3_20221215_21156_model_175          </td><td style=\"text-align: right;\">0.499878 </td><td style=\"text-align: right;\">0.872057</td><td style=\"text-align: right;\"> 0.19907 </td><td style=\"text-align: right;\">              0.307167</td><td style=\"text-align: right;\">0.237585</td><td style=\"text-align: right;\">0.0564467</td></tr>\n",
       "<tr><td>DeepLearning_grid_1_AutoML_3_20221215_21156_model_9   </td><td style=\"text-align: right;\">0.499496 </td><td style=\"text-align: right;\">0.867994</td><td style=\"text-align: right;\"> 0.23822 </td><td style=\"text-align: right;\">              0.350975</td><td style=\"text-align: right;\">0.237802</td><td style=\"text-align: right;\">0.0565497</td></tr>\n",
       "<tr><td>DeepLearning_grid_1_AutoML_3_20221215_21156_model_30  </td><td style=\"text-align: right;\">0.498292 </td><td style=\"text-align: right;\">0.868883</td><td style=\"text-align: right;\"> 0.200887</td><td style=\"text-align: right;\">              0.351226</td><td style=\"text-align: right;\">0.233681</td><td style=\"text-align: right;\">0.0546067</td></tr>\n",
       "<tr><td>DeepLearning_grid_1_AutoML_3_20221215_21156_model_53  </td><td style=\"text-align: right;\">0.498206 </td><td style=\"text-align: right;\">0.86422 </td><td style=\"text-align: right;\"> 0.202805</td><td style=\"text-align: right;\">              0.357383</td><td style=\"text-align: right;\">0.233558</td><td style=\"text-align: right;\">0.0545495</td></tr>\n",
       "<tr><td>DeepLearning_grid_1_AutoML_3_20221215_21156_model_65  </td><td style=\"text-align: right;\">0.497408 </td><td style=\"text-align: right;\">0.865347</td><td style=\"text-align: right;\"> 0.222779</td><td style=\"text-align: right;\">              0.32483 </td><td style=\"text-align: right;\">0.235544</td><td style=\"text-align: right;\">0.0554811</td></tr>\n",
       "<tr><td>GBM_grid_1_AutoML_3_20221215_21156_model_61           </td><td style=\"text-align: right;\">0.496518 </td><td style=\"text-align: right;\">0.875373</td><td style=\"text-align: right;\"> 0.208685</td><td style=\"text-align: right;\">              0.312192</td><td style=\"text-align: right;\">0.241721</td><td style=\"text-align: right;\">0.058429 </td></tr>\n",
       "<tr><td>DeepLearning_grid_1_AutoML_3_20221215_21156_model_16  </td><td style=\"text-align: right;\">0.495277 </td><td style=\"text-align: right;\">0.860846</td><td style=\"text-align: right;\"> 0.253056</td><td style=\"text-align: right;\">              0.339616</td><td style=\"text-align: right;\">0.23812 </td><td style=\"text-align: right;\">0.056701 </td></tr>\n",
       "<tr><td>GBM_grid_1_AutoML_3_20221215_21156_model_14           </td><td style=\"text-align: right;\">0.495115 </td><td style=\"text-align: right;\">0.881642</td><td style=\"text-align: right;\"> 0.19736 </td><td style=\"text-align: right;\">              0.315785</td><td style=\"text-align: right;\">0.238409</td><td style=\"text-align: right;\">0.056839 </td></tr>\n",
       "<tr><td>GBM_grid_1_AutoML_3_20221215_21156_model_38           </td><td style=\"text-align: right;\">0.494455 </td><td style=\"text-align: right;\">0.879646</td><td style=\"text-align: right;\"> 0.208427</td><td style=\"text-align: right;\">              0.308066</td><td style=\"text-align: right;\">0.241721</td><td style=\"text-align: right;\">0.0584289</td></tr>\n",
       "<tr><td>GBM_grid_1_AutoML_3_20221215_21156_model_204          </td><td style=\"text-align: right;\">0.493502 </td><td style=\"text-align: right;\">0.8772  </td><td style=\"text-align: right;\"> 0.202263</td><td style=\"text-align: right;\">              0.303026</td><td style=\"text-align: right;\">0.239359</td><td style=\"text-align: right;\">0.0572926</td></tr>\n",
       "<tr><td>GLM_1_AutoML_3_20221215_21156                         </td><td style=\"text-align: right;\">0.493054 </td><td style=\"text-align: right;\">0.860688</td><td style=\"text-align: right;\"> 0.202096</td><td style=\"text-align: right;\">              0.327292</td><td style=\"text-align: right;\">0.238447</td><td style=\"text-align: right;\">0.056857 </td></tr>\n",
       "<tr><td>DeepLearning_grid_1_AutoML_3_20221215_21156_model_48  </td><td style=\"text-align: right;\">0.492517 </td><td style=\"text-align: right;\">0.858219</td><td style=\"text-align: right;\"> 0.218921</td><td style=\"text-align: right;\">              0.353339</td><td style=\"text-align: right;\">0.234215</td><td style=\"text-align: right;\">0.0548567</td></tr>\n",
       "<tr><td>DeepLearning_grid_1_AutoML_3_20221215_21156_model_50  </td><td style=\"text-align: right;\">0.492318 </td><td style=\"text-align: right;\">0.864709</td><td style=\"text-align: right;\"> 0.211362</td><td style=\"text-align: right;\">              0.358795</td><td style=\"text-align: right;\">0.235795</td><td style=\"text-align: right;\">0.0555995</td></tr>\n",
       "<tr><td>GBM_grid_1_AutoML_3_20221215_21156_model_180          </td><td style=\"text-align: right;\">0.491767 </td><td style=\"text-align: right;\">0.872383</td><td style=\"text-align: right;\"> 0.224985</td><td style=\"text-align: right;\">              0.339411</td><td style=\"text-align: right;\">0.249896</td><td style=\"text-align: right;\">0.0624482</td></tr>\n",
       "<tr><td>GBM_grid_1_AutoML_3_20221215_21156_model_103          </td><td style=\"text-align: right;\">0.490939 </td><td style=\"text-align: right;\">0.872433</td><td style=\"text-align: right;\"> 0.205447</td><td style=\"text-align: right;\">              0.322009</td><td style=\"text-align: right;\">0.239857</td><td style=\"text-align: right;\">0.0575316</td></tr>\n",
       "<tr><td>DeepLearning_grid_1_AutoML_3_20221215_21156_model_54  </td><td style=\"text-align: right;\">0.490418 </td><td style=\"text-align: right;\">0.864679</td><td style=\"text-align: right;\"> 0.213373</td><td style=\"text-align: right;\">              0.359506</td><td style=\"text-align: right;\">0.235805</td><td style=\"text-align: right;\">0.055604 </td></tr>\n",
       "<tr><td>DeepLearning_grid_1_AutoML_3_20221215_21156_model_17  </td><td style=\"text-align: right;\">0.490401 </td><td style=\"text-align: right;\">0.866379</td><td style=\"text-align: right;\"> 0.215236</td><td style=\"text-align: right;\">              0.360567</td><td style=\"text-align: right;\">0.235171</td><td style=\"text-align: right;\">0.0553055</td></tr>\n",
       "<tr><td>GBM_grid_1_AutoML_3_20221215_21156_model_211          </td><td style=\"text-align: right;\">0.489483 </td><td style=\"text-align: right;\">0.877731</td><td style=\"text-align: right;\"> 0.202014</td><td style=\"text-align: right;\">              0.318006</td><td style=\"text-align: right;\">0.240236</td><td style=\"text-align: right;\">0.0577132</td></tr>\n",
       "<tr><td>DeepLearning_grid_2_AutoML_3_20221215_21156_model_2   </td><td style=\"text-align: right;\">0.48677  </td><td style=\"text-align: right;\">0.866284</td><td style=\"text-align: right;\"> 0.218832</td><td style=\"text-align: right;\">              0.32343 </td><td style=\"text-align: right;\">0.240866</td><td style=\"text-align: right;\">0.0580162</td></tr>\n",
       "<tr><td>GBM_grid_1_AutoML_3_20221215_21156_model_173          </td><td style=\"text-align: right;\">0.486727 </td><td style=\"text-align: right;\">0.871213</td><td style=\"text-align: right;\"> 0.199735</td><td style=\"text-align: right;\">              0.323512</td><td style=\"text-align: right;\">0.239206</td><td style=\"text-align: right;\">0.0572195</td></tr>\n",
       "<tr><td>DeepLearning_grid_1_AutoML_3_20221215_21156_model_49  </td><td style=\"text-align: right;\">0.48605  </td><td style=\"text-align: right;\">0.856253</td><td style=\"text-align: right;\"> 0.240138</td><td style=\"text-align: right;\">              0.36066 </td><td style=\"text-align: right;\">0.236268</td><td style=\"text-align: right;\">0.0558227</td></tr>\n",
       "<tr><td>DeepLearning_grid_2_AutoML_3_20221215_21156_model_1   </td><td style=\"text-align: right;\">0.485626 </td><td style=\"text-align: right;\">0.862691</td><td style=\"text-align: right;\"> 0.24995 </td><td style=\"text-align: right;\">              0.36143 </td><td style=\"text-align: right;\">0.244608</td><td style=\"text-align: right;\">0.0598331</td></tr>\n",
       "<tr><td>GBM_grid_1_AutoML_3_20221215_21156_model_48           </td><td style=\"text-align: right;\">0.485262 </td><td style=\"text-align: right;\">0.874525</td><td style=\"text-align: right;\"> 0.200184</td><td style=\"text-align: right;\">              0.308542</td><td style=\"text-align: right;\">0.23896 </td><td style=\"text-align: right;\">0.0571017</td></tr>\n",
       "<tr><td>GBM_grid_1_AutoML_3_20221215_21156_model_128          </td><td style=\"text-align: right;\">0.483446 </td><td style=\"text-align: right;\">0.877352</td><td style=\"text-align: right;\"> 0.206684</td><td style=\"text-align: right;\">              0.278131</td><td style=\"text-align: right;\">0.242088</td><td style=\"text-align: right;\">0.0586067</td></tr>\n",
       "<tr><td>DeepLearning_grid_1_AutoML_3_20221215_21156_model_41  </td><td style=\"text-align: right;\">0.483172 </td><td style=\"text-align: right;\">0.858758</td><td style=\"text-align: right;\"> 0.233758</td><td style=\"text-align: right;\">              0.363245</td><td style=\"text-align: right;\">0.237007</td><td style=\"text-align: right;\">0.0561723</td></tr>\n",
       "<tr><td>GBM_grid_1_AutoML_3_20221215_21156_model_41           </td><td style=\"text-align: right;\">0.478796 </td><td style=\"text-align: right;\">0.87102 </td><td style=\"text-align: right;\"> 0.208338</td><td style=\"text-align: right;\">              0.285607</td><td style=\"text-align: right;\">0.242849</td><td style=\"text-align: right;\">0.0589757</td></tr>\n",
       "<tr><td>GBM_grid_1_AutoML_3_20221215_21156_model_191          </td><td style=\"text-align: right;\">0.476297 </td><td style=\"text-align: right;\">0.868621</td><td style=\"text-align: right;\"> 0.216632</td><td style=\"text-align: right;\">              0.334272</td><td style=\"text-align: right;\">0.244974</td><td style=\"text-align: right;\">0.0600122</td></tr>\n",
       "<tr><td>DeepLearning_grid_2_AutoML_3_20221215_21156_model_4   </td><td style=\"text-align: right;\">0.475986 </td><td style=\"text-align: right;\">0.861385</td><td style=\"text-align: right;\"> 0.405883</td><td style=\"text-align: right;\">              0.33766 </td><td style=\"text-align: right;\">0.366351</td><td style=\"text-align: right;\">0.134213 </td></tr>\n",
       "<tr><td>GBM_grid_1_AutoML_3_20221215_21156_model_496          </td><td style=\"text-align: right;\">0.475837 </td><td style=\"text-align: right;\">0.863733</td><td style=\"text-align: right;\"> 0.219859</td><td style=\"text-align: right;\">              0.314799</td><td style=\"text-align: right;\">0.246162</td><td style=\"text-align: right;\">0.0605959</td></tr>\n",
       "<tr><td>GBM_grid_1_AutoML_3_20221215_21156_model_242          </td><td style=\"text-align: right;\">0.475738 </td><td style=\"text-align: right;\">0.874908</td><td style=\"text-align: right;\"> 0.208092</td><td style=\"text-align: right;\">              0.289963</td><td style=\"text-align: right;\">0.242301</td><td style=\"text-align: right;\">0.0587096</td></tr>\n",
       "<tr><td>GBM_grid_1_AutoML_3_20221215_21156_model_137          </td><td style=\"text-align: right;\">0.474882 </td><td style=\"text-align: right;\">0.874515</td><td style=\"text-align: right;\"> 0.211267</td><td style=\"text-align: right;\">              0.331364</td><td style=\"text-align: right;\">0.243854</td><td style=\"text-align: right;\">0.059465 </td></tr>\n",
       "<tr><td>GBM_grid_1_AutoML_3_20221215_21156_model_45           </td><td style=\"text-align: right;\">0.473997 </td><td style=\"text-align: right;\">0.87406 </td><td style=\"text-align: right;\"> 0.206365</td><td style=\"text-align: right;\">              0.307148</td><td style=\"text-align: right;\">0.242148</td><td style=\"text-align: right;\">0.0586355</td></tr>\n",
       "<tr><td>GBM_grid_1_AutoML_3_20221215_21156_model_203          </td><td style=\"text-align: right;\">0.468199 </td><td style=\"text-align: right;\">0.873121</td><td style=\"text-align: right;\"> 0.213753</td><td style=\"text-align: right;\">              0.308237</td><td style=\"text-align: right;\">0.245134</td><td style=\"text-align: right;\">0.0600908</td></tr>\n",
       "<tr><td>DeepLearning_grid_1_AutoML_3_20221215_21156_model_21  </td><td style=\"text-align: right;\">0.465774 </td><td style=\"text-align: right;\">0.851063</td><td style=\"text-align: right;\"> 0.229187</td><td style=\"text-align: right;\">              0.358203</td><td style=\"text-align: right;\">0.255204</td><td style=\"text-align: right;\">0.065129 </td></tr>\n",
       "<tr><td>DeepLearning_grid_1_AutoML_3_20221215_21156_model_10  </td><td style=\"text-align: right;\">0.4636   </td><td style=\"text-align: right;\">0.845904</td><td style=\"text-align: right;\"> 0.306404</td><td style=\"text-align: right;\">              0.331172</td><td style=\"text-align: right;\">0.248329</td><td style=\"text-align: right;\">0.0616671</td></tr>\n",
       "<tr><td>GBM_grid_1_AutoML_3_20221215_21156_model_78           </td><td style=\"text-align: right;\">0.461935 </td><td style=\"text-align: right;\">0.860493</td><td style=\"text-align: right;\"> 0.213069</td><td style=\"text-align: right;\">              0.324223</td><td style=\"text-align: right;\">0.244682</td><td style=\"text-align: right;\">0.0598694</td></tr>\n",
       "<tr><td>GBM_grid_1_AutoML_3_20221215_21156_model_206          </td><td style=\"text-align: right;\">0.453872 </td><td style=\"text-align: right;\">0.869061</td><td style=\"text-align: right;\"> 0.208727</td><td style=\"text-align: right;\">              0.271017</td><td style=\"text-align: right;\">0.243861</td><td style=\"text-align: right;\">0.059468 </td></tr>\n",
       "<tr><td>GBM_grid_1_AutoML_3_20221215_21156_model_157          </td><td style=\"text-align: right;\">0.453436 </td><td style=\"text-align: right;\">0.849673</td><td style=\"text-align: right;\"> 0.215141</td><td style=\"text-align: right;\">              0.318982</td><td style=\"text-align: right;\">0.244757</td><td style=\"text-align: right;\">0.0599058</td></tr>\n",
       "<tr><td>GBM_grid_1_AutoML_3_20221215_21156_model_498          </td><td style=\"text-align: right;\">0.452487 </td><td style=\"text-align: right;\">0.822364</td><td style=\"text-align: right;\"> 0.261667</td><td style=\"text-align: right;\">              0.330216</td><td style=\"text-align: right;\">0.266354</td><td style=\"text-align: right;\">0.0709443</td></tr>\n",
       "<tr><td>DeepLearning_grid_1_AutoML_3_20221215_21156_model_4   </td><td style=\"text-align: right;\">0.452179 </td><td style=\"text-align: right;\">0.851746</td><td style=\"text-align: right;\"> 0.236046</td><td style=\"text-align: right;\">              0.33596 </td><td style=\"text-align: right;\">0.245942</td><td style=\"text-align: right;\">0.0604875</td></tr>\n",
       "<tr><td>GBM_grid_1_AutoML_3_20221215_21156_model_80           </td><td style=\"text-align: right;\">0.451997 </td><td style=\"text-align: right;\">0.870128</td><td style=\"text-align: right;\"> 0.212949</td><td style=\"text-align: right;\">              0.248739</td><td style=\"text-align: right;\">0.245806</td><td style=\"text-align: right;\">0.0604208</td></tr>\n",
       "<tr><td>GBM_grid_1_AutoML_3_20221215_21156_model_177          </td><td style=\"text-align: right;\">0.451769 </td><td style=\"text-align: right;\">0.868246</td><td style=\"text-align: right;\"> 0.220544</td><td style=\"text-align: right;\">              0.297086</td><td style=\"text-align: right;\">0.247613</td><td style=\"text-align: right;\">0.061312 </td></tr>\n",
       "<tr><td>DeepLearning_grid_2_AutoML_3_20221215_21156_model_5   </td><td style=\"text-align: right;\">0.447165 </td><td style=\"text-align: right;\">0.842774</td><td style=\"text-align: right;\"> 0.350167</td><td style=\"text-align: right;\">              0.369766</td><td style=\"text-align: right;\">0.330003</td><td style=\"text-align: right;\">0.108902 </td></tr>\n",
       "<tr><td>GBM_grid_1_AutoML_3_20221215_21156_model_69           </td><td style=\"text-align: right;\">0.443453 </td><td style=\"text-align: right;\">0.850075</td><td style=\"text-align: right;\"> 0.238806</td><td style=\"text-align: right;\">              0.344302</td><td style=\"text-align: right;\">0.255871</td><td style=\"text-align: right;\">0.0654699</td></tr>\n",
       "<tr><td>GBM_grid_1_AutoML_3_20221215_21156_model_24           </td><td style=\"text-align: right;\">0.442549 </td><td style=\"text-align: right;\">0.85382 </td><td style=\"text-align: right;\"> 0.219231</td><td style=\"text-align: right;\">              0.319787</td><td style=\"text-align: right;\">0.247522</td><td style=\"text-align: right;\">0.0612672</td></tr>\n",
       "<tr><td>DeepLearning_grid_3_AutoML_3_20221215_21156_model_4   </td><td style=\"text-align: right;\">0.43397  </td><td style=\"text-align: right;\">0.849357</td><td style=\"text-align: right;\"> 0.224831</td><td style=\"text-align: right;\">              0.332586</td><td style=\"text-align: right;\">0.244699</td><td style=\"text-align: right;\">0.0598776</td></tr>\n",
       "<tr><td>GBM_grid_1_AutoML_3_20221215_21156_model_84           </td><td style=\"text-align: right;\">0.433919 </td><td style=\"text-align: right;\">0.860376</td><td style=\"text-align: right;\"> 0.219458</td><td style=\"text-align: right;\">              0.340271</td><td style=\"text-align: right;\">0.247803</td><td style=\"text-align: right;\">0.0614065</td></tr>\n",
       "<tr><td>DeepLearning_grid_3_AutoML_3_20221215_21156_model_3   </td><td style=\"text-align: right;\">0.429661 </td><td style=\"text-align: right;\">0.845878</td><td style=\"text-align: right;\"> 0.25253 </td><td style=\"text-align: right;\">              0.387659</td><td style=\"text-align: right;\">0.247451</td><td style=\"text-align: right;\">0.061232 </td></tr>\n",
       "<tr><td>GBM_grid_1_AutoML_3_20221215_21156_model_28           </td><td style=\"text-align: right;\">0.426625 </td><td style=\"text-align: right;\">0.850522</td><td style=\"text-align: right;\"> 0.229075</td><td style=\"text-align: right;\">              0.337924</td><td style=\"text-align: right;\">0.250955</td><td style=\"text-align: right;\">0.0629782</td></tr>\n",
       "<tr><td>GBM_grid_1_AutoML_3_20221215_21156_model_79           </td><td style=\"text-align: right;\">0.425315 </td><td style=\"text-align: right;\">0.857697</td><td style=\"text-align: right;\"> 0.210936</td><td style=\"text-align: right;\">              0.31721 </td><td style=\"text-align: right;\">0.245717</td><td style=\"text-align: right;\">0.0603769</td></tr>\n",
       "<tr><td>GBM_grid_1_AutoML_3_20221215_21156_model_142          </td><td style=\"text-align: right;\">0.424075 </td><td style=\"text-align: right;\">0.849628</td><td style=\"text-align: right;\"> 0.226543</td><td style=\"text-align: right;\">              0.313727</td><td style=\"text-align: right;\">0.251359</td><td style=\"text-align: right;\">0.0631816</td></tr>\n",
       "<tr><td>DeepLearning_grid_1_AutoML_3_20221215_21156_model_7   </td><td style=\"text-align: right;\">0.419667 </td><td style=\"text-align: right;\">0.84502 </td><td style=\"text-align: right;\"> 0.236485</td><td style=\"text-align: right;\">              0.332425</td><td style=\"text-align: right;\">0.248115</td><td style=\"text-align: right;\">0.061561 </td></tr>\n",
       "<tr><td>GBM_grid_1_AutoML_3_20221215_21156_model_105          </td><td style=\"text-align: right;\">0.417041 </td><td style=\"text-align: right;\">0.812559</td><td style=\"text-align: right;\"> 0.228553</td><td style=\"text-align: right;\">              0.342632</td><td style=\"text-align: right;\">0.250921</td><td style=\"text-align: right;\">0.0629615</td></tr>\n",
       "<tr><td>DeepLearning_grid_3_AutoML_3_20221215_21156_model_2   </td><td style=\"text-align: right;\">0.410563 </td><td style=\"text-align: right;\">0.853943</td><td style=\"text-align: right;\"> 0.219855</td><td style=\"text-align: right;\">              0.275503</td><td style=\"text-align: right;\">0.250752</td><td style=\"text-align: right;\">0.0628768</td></tr>\n",
       "<tr><td>GBM_grid_1_AutoML_3_20221215_21156_model_218          </td><td style=\"text-align: right;\">0.408657 </td><td style=\"text-align: right;\">0.846602</td><td style=\"text-align: right;\"> 0.222132</td><td style=\"text-align: right;\">              0.310829</td><td style=\"text-align: right;\">0.249306</td><td style=\"text-align: right;\">0.0621532</td></tr>\n",
       "<tr><td>DeepLearning_grid_1_AutoML_3_20221215_21156_model_66  </td><td style=\"text-align: right;\">0.408373 </td><td style=\"text-align: right;\">0.84227 </td><td style=\"text-align: right;\"> 0.239897</td><td style=\"text-align: right;\">              0.268568</td><td style=\"text-align: right;\">0.252941</td><td style=\"text-align: right;\">0.0639794</td></tr>\n",
       "<tr><td>GBM_grid_1_AutoML_3_20221215_21156_model_216          </td><td style=\"text-align: right;\">0.400402 </td><td style=\"text-align: right;\">0.838586</td><td style=\"text-align: right;\"> 0.225097</td><td style=\"text-align: right;\">              0.328658</td><td style=\"text-align: right;\">0.250073</td><td style=\"text-align: right;\">0.0625366</td></tr>\n",
       "<tr><td>GBM_grid_1_AutoML_3_20221215_21156_model_495          </td><td style=\"text-align: right;\">0.399626 </td><td style=\"text-align: right;\">0.842327</td><td style=\"text-align: right;\"> 0.223884</td><td style=\"text-align: right;\">              0.280158</td><td style=\"text-align: right;\">0.250293</td><td style=\"text-align: right;\">0.0626463</td></tr>\n",
       "<tr><td>GBM_grid_1_AutoML_3_20221215_21156_model_20           </td><td style=\"text-align: right;\">0.397636 </td><td style=\"text-align: right;\">0.839006</td><td style=\"text-align: right;\"> 0.230437</td><td style=\"text-align: right;\">              0.333899</td><td style=\"text-align: right;\">0.25334 </td><td style=\"text-align: right;\">0.0641812</td></tr>\n",
       "<tr><td>GBM_grid_1_AutoML_3_20221215_21156_model_22           </td><td style=\"text-align: right;\">0.395628 </td><td style=\"text-align: right;\">0.829332</td><td style=\"text-align: right;\"> 0.241451</td><td style=\"text-align: right;\">              0.368562</td><td style=\"text-align: right;\">0.257213</td><td style=\"text-align: right;\">0.0661586</td></tr>\n",
       "<tr><td>GBM_grid_1_AutoML_3_20221215_21156_model_143          </td><td style=\"text-align: right;\">0.394127 </td><td style=\"text-align: right;\">0.836479</td><td style=\"text-align: right;\"> 0.236939</td><td style=\"text-align: right;\">              0.313216</td><td style=\"text-align: right;\">0.255893</td><td style=\"text-align: right;\">0.0654812</td></tr>\n",
       "<tr><td>GBM_grid_1_AutoML_3_20221215_21156_model_11           </td><td style=\"text-align: right;\">0.394122 </td><td style=\"text-align: right;\">0.835913</td><td style=\"text-align: right;\"> 0.221338</td><td style=\"text-align: right;\">              0.341332</td><td style=\"text-align: right;\">0.249586</td><td style=\"text-align: right;\">0.062293 </td></tr>\n",
       "<tr><td>GBM_grid_1_AutoML_3_20221215_21156_model_168          </td><td style=\"text-align: right;\">0.391191 </td><td style=\"text-align: right;\">0.843028</td><td style=\"text-align: right;\"> 0.228028</td><td style=\"text-align: right;\">              0.334493</td><td style=\"text-align: right;\">0.25257 </td><td style=\"text-align: right;\">0.0637918</td></tr>\n",
       "<tr><td>GBM_grid_1_AutoML_3_20221215_21156_model_208          </td><td style=\"text-align: right;\">0.382207 </td><td style=\"text-align: right;\">0.83646 </td><td style=\"text-align: right;\"> 0.224826</td><td style=\"text-align: right;\">              0.311729</td><td style=\"text-align: right;\">0.251166</td><td style=\"text-align: right;\">0.0630843</td></tr>\n",
       "<tr><td>GBM_grid_1_AutoML_3_20221215_21156_model_169          </td><td style=\"text-align: right;\">0.380318 </td><td style=\"text-align: right;\">0.834945</td><td style=\"text-align: right;\"> 0.226069</td><td style=\"text-align: right;\">              0.321123</td><td style=\"text-align: right;\">0.251533</td><td style=\"text-align: right;\">0.0632686</td></tr>\n",
       "<tr><td>GBM_grid_1_AutoML_3_20221215_21156_model_18           </td><td style=\"text-align: right;\">0.377312 </td><td style=\"text-align: right;\">0.838324</td><td style=\"text-align: right;\"> 0.227636</td><td style=\"text-align: right;\">              0.310974</td><td style=\"text-align: right;\">0.252783</td><td style=\"text-align: right;\">0.0638991</td></tr>\n",
       "<tr><td>GBM_grid_1_AutoML_3_20221215_21156_model_213          </td><td style=\"text-align: right;\">0.361899 </td><td style=\"text-align: right;\">0.832793</td><td style=\"text-align: right;\"> 0.236968</td><td style=\"text-align: right;\">              0.280315</td><td style=\"text-align: right;\">0.25639 </td><td style=\"text-align: right;\">0.0657359</td></tr>\n",
       "<tr><td>DeepLearning_grid_2_AutoML_3_20221215_21156_model_6   </td><td style=\"text-align: right;\">0.360658 </td><td style=\"text-align: right;\">0.835807</td><td style=\"text-align: right;\"> 0.237931</td><td style=\"text-align: right;\">              0.278988</td><td style=\"text-align: right;\">0.264482</td><td style=\"text-align: right;\">0.0699506</td></tr>\n",
       "<tr><td>DeepLearning_grid_1_AutoML_3_20221215_21156_model_8   </td><td style=\"text-align: right;\">0.347174 </td><td style=\"text-align: right;\">0.825033</td><td style=\"text-align: right;\"> 0.297473</td><td style=\"text-align: right;\">              0.291143</td><td style=\"text-align: right;\">0.259035</td><td style=\"text-align: right;\">0.0670993</td></tr>\n",
       "<tr><td>DeepLearning_grid_3_AutoML_3_20221215_21156_model_7   </td><td style=\"text-align: right;\">0.347031 </td><td style=\"text-align: right;\">0.819592</td><td style=\"text-align: right;\"> 0.251273</td><td style=\"text-align: right;\">              0.308445</td><td style=\"text-align: right;\">0.262817</td><td style=\"text-align: right;\">0.0690729</td></tr>\n",
       "<tr><td>DeepLearning_grid_1_AutoML_3_20221215_21156_model_43  </td><td style=\"text-align: right;\">0.343239 </td><td style=\"text-align: right;\">0.825095</td><td style=\"text-align: right;\"> 0.4043  </td><td style=\"text-align: right;\">              0.340364</td><td style=\"text-align: right;\">0.266758</td><td style=\"text-align: right;\">0.0711598</td></tr>\n",
       "<tr><td>GBM_grid_1_AutoML_3_20221215_21156_model_198          </td><td style=\"text-align: right;\">0.342388 </td><td style=\"text-align: right;\">0.805568</td><td style=\"text-align: right;\"> 0.235637</td><td style=\"text-align: right;\">              0.297916</td><td style=\"text-align: right;\">0.255492</td><td style=\"text-align: right;\">0.0652763</td></tr>\n",
       "<tr><td>GBM_grid_1_AutoML_3_20221215_21156_model_106          </td><td style=\"text-align: right;\">0.339541 </td><td style=\"text-align: right;\">0.8002  </td><td style=\"text-align: right;\"> 0.251332</td><td style=\"text-align: right;\">              0.326365</td><td style=\"text-align: right;\">0.262141</td><td style=\"text-align: right;\">0.0687178</td></tr>\n",
       "<tr><td>DeepLearning_grid_3_AutoML_3_20221215_21156_model_1   </td><td style=\"text-align: right;\">0.331389 </td><td style=\"text-align: right;\">0.829005</td><td style=\"text-align: right;\"> 0.254489</td><td style=\"text-align: right;\">              0.321154</td><td style=\"text-align: right;\">0.260977</td><td style=\"text-align: right;\">0.0681089</td></tr>\n",
       "<tr><td>DeepLearning_grid_2_AutoML_3_20221215_21156_model_7   </td><td style=\"text-align: right;\">0.32602  </td><td style=\"text-align: right;\">0.815833</td><td style=\"text-align: right;\"> 0.241606</td><td style=\"text-align: right;\">              0.320217</td><td style=\"text-align: right;\">0.260265</td><td style=\"text-align: right;\">0.0677378</td></tr>\n",
       "<tr><td>DeepLearning_grid_1_AutoML_3_20221215_21156_model_68  </td><td style=\"text-align: right;\">0.304871 </td><td style=\"text-align: right;\">0.817815</td><td style=\"text-align: right;\"> 0.241058</td><td style=\"text-align: right;\">              0.305022</td><td style=\"text-align: right;\">0.261393</td><td style=\"text-align: right;\">0.0683261</td></tr>\n",
       "<tr><td>DeepLearning_grid_2_AutoML_3_20221215_21156_model_8   </td><td style=\"text-align: right;\">0.302954 </td><td style=\"text-align: right;\">0.801724</td><td style=\"text-align: right;\"> 0.243125</td><td style=\"text-align: right;\">              0.289445</td><td style=\"text-align: right;\">0.261514</td><td style=\"text-align: right;\">0.0683896</td></tr>\n",
       "<tr><td>DeepLearning_grid_3_AutoML_3_20221215_21156_model_6   </td><td style=\"text-align: right;\">0.29187  </td><td style=\"text-align: right;\">0.813728</td><td style=\"text-align: right;\"> 0.239326</td><td style=\"text-align: right;\">              0.333056</td><td style=\"text-align: right;\">0.266077</td><td style=\"text-align: right;\">0.0707969</td></tr>\n",
       "<tr><td>DeepLearning_grid_2_AutoML_3_20221215_21156_model_3   </td><td style=\"text-align: right;\">0.184251 </td><td style=\"text-align: right;\">0.792478</td><td style=\"text-align: right;\"> 0.250781</td><td style=\"text-align: right;\">              0.263092</td><td style=\"text-align: right;\">0.26559 </td><td style=\"text-align: right;\">0.070538 </td></tr>\n",
       "<tr><td>StackedEnsemble_Best1000_1_AutoML_3_20221215_21156    </td><td style=\"text-align: right;\">0.0836201</td><td style=\"text-align: right;\">0.5     </td><td style=\"text-align: right;\"> 0.287554</td><td style=\"text-align: right;\">              0.5     </td><td style=\"text-align: right;\">0.276826</td><td style=\"text-align: right;\">0.0766326</td></tr>\n",
       "</tbody>\n",
       "</table>"
      ]
     },
     "metadata": {},
     "output_type": "display_data"
    },
    {
     "name": "stdout",
     "output_type": "stream",
     "text": [
      "\n"
     ]
    }
   ],
   "source": [
    "#View the AutoML Leaderboard\n",
    "lb = AUTOML.leaderboard\n",
    "print(lb.head(rows=lb.nrows))"
   ]
  },
  {
   "cell_type": "code",
   "execution_count": 249,
   "id": "3cb6bf62",
   "metadata": {
    "papermill": {
     "duration": 2.774434,
     "end_time": "2021-04-22T19:08:12.096956",
     "exception": false,
     "start_time": "2021-04-22T19:08:09.322522",
     "status": "completed"
    },
    "tags": [],
    "vscode": {
     "languageId": "python"
    }
   },
   "outputs": [],
   "source": [
    "#Choose the desired AutoML model\n",
    "best_automl_position=0\n",
    "if len(AUTOML.leaderboard) > 0:\n",
    "    best_AutoML = h2o.get_model(AUTOML.leaderboard[best_automl_position, 0])\n",
    "    # print(best_AutoML)"
   ]
  },
  {
   "cell_type": "code",
   "execution_count": 250,
   "id": "56a519c7",
   "metadata": {
    "vscode": {
     "languageId": "python"
    }
   },
   "outputs": [
    {
     "name": "stdout",
     "output_type": "stream",
     "text": [
      "stackedensemble prediction progress: |███████████████████████████████████████████| (done) 100%\n"
     ]
    },
    {
     "data": {
      "text/plain": [
       "Text(0.5, 1.0, 'ROC Curve for Model (Test dataset)')"
      ]
     },
     "execution_count": 250,
     "metadata": {},
     "output_type": "execute_result"
    },
    {
     "data": {
      "image/png": "[encoded data removed]",
      "text/plain": [
       "<Figure size 432x288 with 1 Axes>"
      ]
     },
     "metadata": {
      "needs_background": "light"
     },
     "output_type": "display_data"
    }
   ],
   "source": [
    "#Save all models in H20 format\n",
    "h2o.save_model(model=best_AutoML, path='%s/models/candidates/' % OutputPath, force=True)\n",
    "#calculate o KS in test dataset\n",
    "h2o_predict = best_AutoML.predict(test_hdf)\n",
    "data = h2o_predict.cbind(test_hdf[VarTarget]).as_data_frame()\n",
    "data['target0'] = 1 - data[VarTarget]\n",
    "data['bucket'] = pd.qcut(data['p1'], 10, duplicates='drop', labels=False)\n",
    "grouped = data.groupby('bucket', as_index=False)\n",
    "kstable = pd.DataFrame()\n",
    "kstable['min_prob'] = grouped.min()['p1']\n",
    "kstable['max_prob'] = grouped.max()['p1']\n",
    "kstable['events'] = grouped.sum()[VarTarget]\n",
    "kstable['nonevents'] = grouped.sum()['target0']    \n",
    "kstable = kstable.sort_values(by=\"min_prob\", ascending=False).reset_index(drop=True)\n",
    "kstable['event_rate'] = (kstable.events / data[VarTarget].sum()).apply('{0:.2%}'.format)\n",
    "kstable['nonevent_rate'] = (kstable.nonevents / data['target0'].sum()).apply('{0:.2%}'.format)\n",
    "kstable['cum_eventrate'] = (kstable.events / data[VarTarget].sum()).cumsum()\n",
    "kstable['cum_noneventrate'] = (kstable.nonevents / data['target0'].sum()).cumsum()\n",
    "kstable['KS'] = np.round(kstable['cum_eventrate'] - kstable['cum_noneventrate'], 3)\n",
    "ks = kstable['KS'].max()\n",
    "\n",
    "#Ascertain the performance of all models on the test base\n",
    "performance = best_AutoML.model_performance(test_hdf)\n",
    "\n",
    "#Salve metrics\n",
    "f=open(\"%s/models/candidates/performance_%s.csv\" % (OutputPath, best_AutoML.model_id), 'w')\n",
    "f.write(\n",
    "    str(best_AutoML.model_id) + \";\"\n",
    "    + str(performance.accuracy()[0][0]) + \";\"\n",
    "    + str(performance.auc()) + ';'\n",
    "    + str(performance.aucpr()) + ';'\n",
    "    + str(performance.logloss()) + ';'\n",
    "    + str(ks) + ';'\n",
    "    + str(performance.F1()[0][0]))\n",
    "f.write('\\n')\n",
    "f.close()\n",
    "\n",
    "#graph with the ROC curve of all models\n",
    "fpr = performance.fprs\n",
    "tpr = performance.tprs\n",
    "plt.plot(fpr, tpr, lw=2, label=best_AutoML.model_id.split(\"_\")[0]+\"_\"+best_AutoML.model_id.split(\"_\")[1]+\"_\"+best_AutoML.model_id.split(\"_\")[2])\n",
    "plt.title(\"ROC Curve for Model (Test dataset)\")"
   ]
  },
  {
   "cell_type": "code",
   "execution_count": 251,
   "id": "755ffff0-f8fa-4db5-a22c-1004c2d0b2ac",
   "metadata": {},
   "outputs": [],
   "source": [
    "df_plot = pd.DataFrame({'Model_id': 'H2O AutoML',\n",
    "                        'AUC': int(performance.auc()*100)/100,\n",
    "                        'F1': int(performance.F1()[0][0]*100)/100,\n",
    "                        'Accuracy': int(performance.accuracy()[0][0]*100)/100\n",
    "                        }, index=[0])"
   ]
  },
  {
   "cell_type": "code",
   "execution_count": 260,
   "id": "23ab6978-2f39-4a55-84d7-458b6a83931e",
   "metadata": {},
   "outputs": [
    {
     "data": {
      "text/html": [
       "<div>\n",
       "<style scoped>\n",
       "    .dataframe tbody tr th:only-of-type {\n",
       "        vertical-align: middle;\n",
       "    }\n",
       "\n",
       "    .dataframe tbody tr th {\n",
       "        vertical-align: top;\n",
       "    }\n",
       "\n",
       "    .dataframe thead th {\n",
       "        text-align: right;\n",
       "    }\n",
       "</style>\n",
       "<table border=\"1\" class=\"dataframe\">\n",
       "  <thead>\n",
       "    <tr style=\"text-align: right;\">\n",
       "      <th></th>\n",
       "      <th>test_actual</th>\n",
       "      <th>test_predicted</th>\n",
       "    </tr>\n",
       "  </thead>\n",
       "  <tbody>\n",
       "    <tr>\n",
       "      <th>0</th>\n",
       "      <td>0</td>\n",
       "      <td>0</td>\n",
       "    </tr>\n",
       "    <tr>\n",
       "      <th>1</th>\n",
       "      <td>0</td>\n",
       "      <td>0</td>\n",
       "    </tr>\n",
       "    <tr>\n",
       "      <th>2</th>\n",
       "      <td>0</td>\n",
       "      <td>0</td>\n",
       "    </tr>\n",
       "    <tr>\n",
       "      <th>3</th>\n",
       "      <td>0</td>\n",
       "      <td>0</td>\n",
       "    </tr>\n",
       "    <tr>\n",
       "      <th>4</th>\n",
       "      <td>0</td>\n",
       "      <td>0</td>\n",
       "    </tr>\n",
       "    <tr>\n",
       "      <th>...</th>\n",
       "      <td>...</td>\n",
       "      <td>...</td>\n",
       "    </tr>\n",
       "    <tr>\n",
       "      <th>10746</th>\n",
       "      <td>0</td>\n",
       "      <td>0</td>\n",
       "    </tr>\n",
       "    <tr>\n",
       "      <th>10747</th>\n",
       "      <td>0</td>\n",
       "      <td>0</td>\n",
       "    </tr>\n",
       "    <tr>\n",
       "      <th>10748</th>\n",
       "      <td>0</td>\n",
       "      <td>0</td>\n",
       "    </tr>\n",
       "    <tr>\n",
       "      <th>10749</th>\n",
       "      <td>0</td>\n",
       "      <td>0</td>\n",
       "    </tr>\n",
       "    <tr>\n",
       "      <th>10750</th>\n",
       "      <td>0</td>\n",
       "      <td>0</td>\n",
       "    </tr>\n",
       "  </tbody>\n",
       "</table>\n",
       "<p>10751 rows × 2 columns</p>\n",
       "</div>"
      ],
      "text/plain": [
       "       test_actual  test_predicted\n",
       "0                0               0\n",
       "1                0               0\n",
       "2                0               0\n",
       "3                0               0\n",
       "4                0               0\n",
       "...            ...             ...\n",
       "10746            0               0\n",
       "10747            0               0\n",
       "10748            0               0\n",
       "10749            0               0\n",
       "10750            0               0\n",
       "\n",
       "[10751 rows x 2 columns]"
      ]
     },
     "execution_count": 260,
     "metadata": {},
     "output_type": "execute_result"
    }
   ],
   "source": [
    "h2o_predict_df = data[[VarTarget, 'predict']].rename(columns={VarTarget:'test_actual', 'predict':'test_predicted'})\n",
    "h2o_predict_df"
   ]
  },
  {
   "cell_type": "code",
   "execution_count": 261,
   "id": "1643accb-be58-423c-baac-3f8981aecace",
   "metadata": {},
   "outputs": [
    {
     "data": {
      "image/png": "[encoded data removed]",
      "text/plain": [
       "<Figure size 432x288 with 2 Axes>"
      ]
     },
     "metadata": {
      "needs_background": "light"
     },
     "output_type": "display_data"
    },
    {
     "data": {
      "image/png": "[encoded data removed]",
      "text/plain": [
       "<Figure size 432x288 with 2 Axes>"
      ]
     },
     "metadata": {
      "needs_background": "light"
     },
     "output_type": "display_data"
    }
   ],
   "source": [
    "h2o_predict_df = data[[VarTarget, 'predict']].rename(columns={VarTarget:'test_actual', 'predict':'test_predicted'})\n",
    "\n",
    "h2o_predict_df.reset_index().groupby(['test_actual', 'test_predicted']).count()[['index']].reset_index().pivot(index='test_actual', columns='test_predicted', values='index').sort_values(by=['test_actual'], ascending=False)\n",
    "df_matrix = h2o_predict_df.reset_index().groupby(['test_actual', 'test_predicted']).count()[['index']].reset_index().pivot(index='test_actual', columns='test_predicted', values='index').sort_values(by=['test_actual'], ascending=False).loc[:,(1,0)]\n",
    "sns.heatmap(df_matrix, annot=True, center=True,cmap='Blues', fmt='g')\n",
    "plt.show()\n",
    "sns.heatmap(df_matrix/np.sum(df_matrix), annot=True,\n",
    "            fmt='.2%', cmap='Blues')\n",
    "plt.show()"
   ]
  },
  {
   "cell_type": "markdown",
   "id": "8056588e-1af0-4690-b530-02ef3987e5af",
   "metadata": {},
   "source": [
    "## 4.1.3 H2O Submision dataset"
   ]
  },
  {
   "cell_type": "code",
   "execution_count": 253,
   "id": "ae627e11-e5e1-4dd8-b89d-29b736e13395",
   "metadata": {
    "tags": []
   },
   "outputs": [
    {
     "data": {
      "text/html": [
       "<div>\n",
       "<style scoped>\n",
       "    .dataframe tbody tr th:only-of-type {\n",
       "        vertical-align: middle;\n",
       "    }\n",
       "\n",
       "    .dataframe tbody tr th {\n",
       "        vertical-align: top;\n",
       "    }\n",
       "\n",
       "    .dataframe thead th {\n",
       "        text-align: right;\n",
       "    }\n",
       "</style>\n",
       "<table border=\"1\" class=\"dataframe\">\n",
       "  <thead>\n",
       "    <tr style=\"text-align: right;\">\n",
       "      <th></th>\n",
       "      <th>employee_id</th>\n",
       "      <th>department</th>\n",
       "      <th>region</th>\n",
       "      <th>education</th>\n",
       "      <th>gender</th>\n",
       "      <th>recruitment_channel</th>\n",
       "      <th>kpis_met_80</th>\n",
       "      <th>no_of_trainings</th>\n",
       "      <th>previous_year_rating</th>\n",
       "      <th>age</th>\n",
       "      <th>length_of_service</th>\n",
       "      <th>avg_training_score</th>\n",
       "    </tr>\n",
       "  </thead>\n",
       "  <tbody>\n",
       "    <tr>\n",
       "      <th>0</th>\n",
       "      <td>8724</td>\n",
       "      <td>Technology</td>\n",
       "      <td>region_26</td>\n",
       "      <td>Bachelor's</td>\n",
       "      <td>m</td>\n",
       "      <td>sourcing</td>\n",
       "      <td>1</td>\n",
       "      <td>1</td>\n",
       "      <td>3.339146</td>\n",
       "      <td>24</td>\n",
       "      <td>1</td>\n",
       "      <td>77</td>\n",
       "    </tr>\n",
       "    <tr>\n",
       "      <th>1</th>\n",
       "      <td>74430</td>\n",
       "      <td>HR</td>\n",
       "      <td>region_4</td>\n",
       "      <td>Bachelor's</td>\n",
       "      <td>f</td>\n",
       "      <td>other</td>\n",
       "      <td>0</td>\n",
       "      <td>1</td>\n",
       "      <td>3.000000</td>\n",
       "      <td>31</td>\n",
       "      <td>5</td>\n",
       "      <td>51</td>\n",
       "    </tr>\n",
       "    <tr>\n",
       "      <th>2</th>\n",
       "      <td>72255</td>\n",
       "      <td>Sales &amp; Marketing</td>\n",
       "      <td>region_13</td>\n",
       "      <td>Bachelor's</td>\n",
       "      <td>m</td>\n",
       "      <td>other</td>\n",
       "      <td>0</td>\n",
       "      <td>1</td>\n",
       "      <td>1.000000</td>\n",
       "      <td>31</td>\n",
       "      <td>4</td>\n",
       "      <td>47</td>\n",
       "    </tr>\n",
       "    <tr>\n",
       "      <th>3</th>\n",
       "      <td>38562</td>\n",
       "      <td>Procurement</td>\n",
       "      <td>region_2</td>\n",
       "      <td>Bachelor's</td>\n",
       "      <td>f</td>\n",
       "      <td>other</td>\n",
       "      <td>0</td>\n",
       "      <td>3</td>\n",
       "      <td>2.000000</td>\n",
       "      <td>31</td>\n",
       "      <td>9</td>\n",
       "      <td>65</td>\n",
       "    </tr>\n",
       "    <tr>\n",
       "      <th>4</th>\n",
       "      <td>64486</td>\n",
       "      <td>Finance</td>\n",
       "      <td>region_29</td>\n",
       "      <td>Bachelor's</td>\n",
       "      <td>m</td>\n",
       "      <td>sourcing</td>\n",
       "      <td>0</td>\n",
       "      <td>1</td>\n",
       "      <td>4.000000</td>\n",
       "      <td>30</td>\n",
       "      <td>7</td>\n",
       "      <td>61</td>\n",
       "    </tr>\n",
       "    <tr>\n",
       "      <th>...</th>\n",
       "      <td>...</td>\n",
       "      <td>...</td>\n",
       "      <td>...</td>\n",
       "      <td>...</td>\n",
       "      <td>...</td>\n",
       "      <td>...</td>\n",
       "      <td>...</td>\n",
       "      <td>...</td>\n",
       "      <td>...</td>\n",
       "      <td>...</td>\n",
       "      <td>...</td>\n",
       "      <td>...</td>\n",
       "    </tr>\n",
       "    <tr>\n",
       "      <th>23485</th>\n",
       "      <td>53478</td>\n",
       "      <td>Legal</td>\n",
       "      <td>region_2</td>\n",
       "      <td>Below Secondary</td>\n",
       "      <td>m</td>\n",
       "      <td>sourcing</td>\n",
       "      <td>0</td>\n",
       "      <td>1</td>\n",
       "      <td>3.000000</td>\n",
       "      <td>24</td>\n",
       "      <td>1</td>\n",
       "      <td>61</td>\n",
       "    </tr>\n",
       "    <tr>\n",
       "      <th>23486</th>\n",
       "      <td>25600</td>\n",
       "      <td>Technology</td>\n",
       "      <td>region_25</td>\n",
       "      <td>Bachelor's</td>\n",
       "      <td>m</td>\n",
       "      <td>sourcing</td>\n",
       "      <td>0</td>\n",
       "      <td>1</td>\n",
       "      <td>3.000000</td>\n",
       "      <td>31</td>\n",
       "      <td>7</td>\n",
       "      <td>74</td>\n",
       "    </tr>\n",
       "    <tr>\n",
       "      <th>23487</th>\n",
       "      <td>45409</td>\n",
       "      <td>HR</td>\n",
       "      <td>region_16</td>\n",
       "      <td>Bachelor's</td>\n",
       "      <td>f</td>\n",
       "      <td>sourcing</td>\n",
       "      <td>0</td>\n",
       "      <td>1</td>\n",
       "      <td>4.000000</td>\n",
       "      <td>26</td>\n",
       "      <td>4</td>\n",
       "      <td>50</td>\n",
       "    </tr>\n",
       "    <tr>\n",
       "      <th>23488</th>\n",
       "      <td>1186</td>\n",
       "      <td>Procurement</td>\n",
       "      <td>region_31</td>\n",
       "      <td>Bachelor's</td>\n",
       "      <td>m</td>\n",
       "      <td>sourcing</td>\n",
       "      <td>0</td>\n",
       "      <td>3</td>\n",
       "      <td>3.339146</td>\n",
       "      <td>27</td>\n",
       "      <td>1</td>\n",
       "      <td>70</td>\n",
       "    </tr>\n",
       "    <tr>\n",
       "      <th>23489</th>\n",
       "      <td>5973</td>\n",
       "      <td>Technology</td>\n",
       "      <td>region_17</td>\n",
       "      <td>Master's &amp; above</td>\n",
       "      <td>m</td>\n",
       "      <td>other</td>\n",
       "      <td>1</td>\n",
       "      <td>3</td>\n",
       "      <td>5.000000</td>\n",
       "      <td>40</td>\n",
       "      <td>5</td>\n",
       "      <td>89</td>\n",
       "    </tr>\n",
       "  </tbody>\n",
       "</table>\n",
       "<p>23490 rows × 12 columns</p>\n",
       "</div>"
      ],
      "text/plain": [
       "       employee_id         department     region         education gender  \\\n",
       "0             8724         Technology  region_26        Bachelor's      m   \n",
       "1            74430                 HR   region_4        Bachelor's      f   \n",
       "2            72255  Sales & Marketing  region_13        Bachelor's      m   \n",
       "3            38562        Procurement   region_2        Bachelor's      f   \n",
       "4            64486            Finance  region_29        Bachelor's      m   \n",
       "...            ...                ...        ...               ...    ...   \n",
       "23485        53478              Legal   region_2   Below Secondary      m   \n",
       "23486        25600         Technology  region_25        Bachelor's      m   \n",
       "23487        45409                 HR  region_16        Bachelor's      f   \n",
       "23488         1186        Procurement  region_31        Bachelor's      m   \n",
       "23489         5973         Technology  region_17  Master's & above      m   \n",
       "\n",
       "      recruitment_channel  kpis_met_80  no_of_trainings  previous_year_rating  \\\n",
       "0                sourcing            1                1              3.339146   \n",
       "1                   other            0                1              3.000000   \n",
       "2                   other            0                1              1.000000   \n",
       "3                   other            0                3              2.000000   \n",
       "4                sourcing            0                1              4.000000   \n",
       "...                   ...          ...              ...                   ...   \n",
       "23485            sourcing            0                1              3.000000   \n",
       "23486            sourcing            0                1              3.000000   \n",
       "23487            sourcing            0                1              4.000000   \n",
       "23488            sourcing            0                3              3.339146   \n",
       "23489               other            1                3              5.000000   \n",
       "\n",
       "       age  length_of_service  avg_training_score  \n",
       "0       24                  1                  77  \n",
       "1       31                  5                  51  \n",
       "2       31                  4                  47  \n",
       "3       31                  9                  65  \n",
       "4       30                  7                  61  \n",
       "...    ...                ...                 ...  \n",
       "23485   24                  1                  61  \n",
       "23486   31                  7                  74  \n",
       "23487   26                  4                  50  \n",
       "23488   27                  1                  70  \n",
       "23489   40                  5                  89  \n",
       "\n",
       "[23490 rows x 12 columns]"
      ]
     },
     "execution_count": 253,
     "metadata": {},
     "output_type": "execute_result"
    }
   ],
   "source": [
    "submission_df = pd.read_csv('./HR_Analytics/submission_df.csv')\n",
    "submission_df"
   ]
  },
  {
   "cell_type": "code",
   "execution_count": 254,
   "id": "8da44ec8-06c0-4833-80f3-095a36a82a4c",
   "metadata": {},
   "outputs": [
    {
     "data": {
      "text/plain": [
       "'/mnt/batch/tasks/shared/LS_root/mounts/clusters/fiep-gpu/code/FIEP-Machine-Learning-e-Computacao-em-Nuvem/aula_03_hr_analytics_keras/output_model/models/best/StackedEnsemble_BestOfFamily_3_AutoML_3_20221215_21156.zip'"
      ]
     },
     "execution_count": 254,
     "metadata": {},
     "output_type": "execute_result"
    }
   ],
   "source": [
    "path_model_mojo = best_AutoML.download_mojo('%s/models/best/' % OutputPath, get_genmodel_jar=True)\n",
    "path_model_mojo"
   ]
  },
  {
   "cell_type": "code",
   "execution_count": 255,
   "id": "43b48f56-73e5-410e-91ec-6e935ee263c6",
   "metadata": {},
   "outputs": [
    {
     "name": "stdout",
     "output_type": "stream",
     "text": [
      "Detected 2 unused columns in the input data set: {,employee_id}\n"
     ]
    }
   ],
   "source": [
    "#Importar MOJO\n",
    "submission_df_tmp = h2o.mojo_predict_pandas(submission_df, path_model_mojo)    \n",
    "predict_df = submission_df.merge(submission_df_tmp, left_index=True, right_index=True)\n",
    "    \n",
    "predict_df.rename(columns={'predict':'is_promoted'}, inplace=True)\n",
    "predict_df = predict_df.reset_index(drop=True)"
   ]
  },
  {
   "cell_type": "code",
   "execution_count": 256,
   "id": "c555514e-61fc-4074-b00e-28a94147c7d8",
   "metadata": {},
   "outputs": [
    {
     "data": {
      "text/plain": [
       "0    22678\n",
       "1      812\n",
       "Name: is_promoted, dtype: int64"
      ]
     },
     "execution_count": 256,
     "metadata": {},
     "output_type": "execute_result"
    }
   ],
   "source": [
    "predict_df.loc[:, (VarId, VarTarget)].to_csv('./HR_Analytics/results/H2O_AutoML_submission.csv', index=False)\n",
    "predict_df[VarTarget].value_counts()"
   ]
  },
  {
   "cell_type": "markdown",
   "id": "76626f6b",
   "metadata": {},
   "source": [
    "## 4.2 Keras"
   ]
  },
  {
   "cell_type": "code",
   "execution_count": 194,
   "id": "86d2fd06",
   "metadata": {
    "vscode": {
     "languageId": "python"
    }
   },
   "outputs": [
    {
     "name": "stdout",
     "output_type": "stream",
     "text": [
      "shape of x train: (46885, 53)\n",
      "shape of y train: (46885,)\n"
     ]
    }
   ],
   "source": [
    "x_train = normalized_and_dummy_df.query('dataset == \"train\"').loc[:, (normalized_and_dummy)].to_numpy()\n",
    "y_train = normalized_and_dummy_df.query('dataset == \"train\"').loc[:, (VarTarget)].to_numpy()\n",
    "print(\"shape of x train: {}\\nshape of y train: {}\".format(x_train.shape, y_train.shape))"
   ]
  },
  {
   "cell_type": "code",
   "execution_count": 195,
   "id": "9dec4371-cb8a-4b3c-9663-7d5f177310a0",
   "metadata": {},
   "outputs": [
    {
     "name": "stdout",
     "output_type": "stream",
     "text": [
      "shape of x test: (6684, 53)\n",
      "shape of y test: (6684,)\n"
     ]
    }
   ],
   "source": [
    "x_test = normalized_and_dummy_df.query('dataset == \"test\"').loc[:, (normalized_and_dummy)].to_numpy()\n",
    "y_test = normalized_and_dummy_df.query('dataset == \"test\"').loc[:, (VarTarget)].to_numpy()\n",
    "print(\"shape of x test: {}\\nshape of y test: {}\".format(x_test.shape,y_test.shape))"
   ]
  },
  {
   "cell_type": "code",
   "execution_count": 196,
   "id": "fa9fe098-b87d-495b-879b-4d810892387a",
   "metadata": {},
   "outputs": [],
   "source": [
    "from tensorflow.keras.models import Sequential\n",
    "from tensorflow.keras.layers import Input, Dense, Dropout\n",
    "from tensorflow.keras.optimizers import Adam, SGD"
   ]
  },
  {
   "cell_type": "code",
   "execution_count": 197,
   "id": "f1af05c6-4cfe-4181-a994-187670580696",
   "metadata": {},
   "outputs": [
    {
     "name": "stdout",
     "output_type": "stream",
     "text": [
      "GPU name:  [PhysicalDevice(name='/physical_device:GPU:0', device_type='GPU')]\n"
     ]
    }
   ],
   "source": [
    "print('GPU name: ', tensorflow.config.experimental.list_physical_devices('GPU'))"
   ]
  },
  {
   "cell_type": "code",
   "execution_count": 198,
   "id": "f04541eb-0143-4262-9580-017f0e376ab5",
   "metadata": {},
   "outputs": [
    {
     "name": "stdout",
     "output_type": "stream",
     "text": [
      "Model: \"sequential_7\"\n",
      "_________________________________________________________________\n",
      " Layer (type)                Output Shape              Param #   \n",
      "=================================================================\n",
      " dense_19 (Dense)            (None, 256)               13824     \n",
      "                                                                 \n",
      " dense_20 (Dense)            (None, 256)               65792     \n",
      "                                                                 \n",
      " dense_21 (Dense)            (None, 1)                 257       \n",
      "                                                                 \n",
      "=================================================================\n",
      "Total params: 79,873\n",
      "Trainable params: 79,873\n",
      "Non-trainable params: 0\n",
      "_________________________________________________________________\n"
     ]
    }
   ],
   "source": [
    "model_keras = Sequential()\n",
    "model_keras.add(Dense(256, activation = 'relu', input_dim = 53))\n",
    "model_keras.add(Dense(256, activation = 'relu'))\n",
    "model_keras.add(Dense(1))\n",
    "model_keras.compile(optimizer = 'adam', loss = 'mae', metrics = ['accuracy'])\n",
    "model_keras.summary()"
   ]
  },
  {
   "cell_type": "code",
   "execution_count": 199,
   "id": "35117732-b2f1-4e2d-acc9-890e78b78fd3",
   "metadata": {},
   "outputs": [
    {
     "name": "stdout",
     "output_type": "stream",
     "text": [
      "Epoch 1/10\n",
      "1117/1117 [==============================] - 3s 3ms/step - loss: 0.0907 - accuracy: 0.9146 - val_loss: 0.0896 - val_accuracy: 0.9116\n",
      "Epoch 2/10\n",
      "1117/1117 [==============================] - 3s 2ms/step - loss: 0.0862 - accuracy: 0.9146 - val_loss: 0.0891 - val_accuracy: 0.9116\n",
      "Epoch 3/10\n",
      "1117/1117 [==============================] - 3s 2ms/step - loss: 0.0846 - accuracy: 0.9154 - val_loss: 0.0805 - val_accuracy: 0.9218\n",
      "Epoch 4/10\n",
      "1117/1117 [==============================] - 3s 2ms/step - loss: 0.0765 - accuracy: 0.9242 - val_loss: 0.0754 - val_accuracy: 0.9265\n",
      "Epoch 5/10\n",
      "1117/1117 [==============================] - 3s 2ms/step - loss: 0.0728 - accuracy: 0.9295 - val_loss: 0.0719 - val_accuracy: 0.9354\n",
      "Epoch 6/10\n",
      "1117/1117 [==============================] - 3s 2ms/step - loss: 0.0685 - accuracy: 0.9355 - val_loss: 0.0656 - val_accuracy: 0.9370\n",
      "Epoch 7/10\n",
      "1117/1117 [==============================] - 3s 2ms/step - loss: 0.0646 - accuracy: 0.9386 - val_loss: 0.0640 - val_accuracy: 0.9424\n",
      "Epoch 8/10\n",
      "1117/1117 [==============================] - 3s 2ms/step - loss: 0.0632 - accuracy: 0.9395 - val_loss: 0.0642 - val_accuracy: 0.9388\n",
      "Epoch 9/10\n",
      "1117/1117 [==============================] - 3s 2ms/step - loss: 0.0622 - accuracy: 0.9405 - val_loss: 0.0631 - val_accuracy: 0.9418\n",
      "Epoch 10/10\n",
      "1117/1117 [==============================] - 3s 2ms/step - loss: 0.0618 - accuracy: 0.9404 - val_loss: 0.0614 - val_accuracy: 0.9408\n",
      "CPU times: user 41.8 s, sys: 8.17 s, total: 49.9 s\n",
      "Wall time: 27.4 s\n"
     ]
    },
    {
     "data": {
      "text/plain": [
       "<keras.callbacks.History at 0x7f91d4763820>"
      ]
     },
     "execution_count": 199,
     "metadata": {},
     "output_type": "execute_result"
    }
   ],
   "source": [
    "%%time\n",
    "model_keras.fit(x=x_train, y=y_train, batch_size=42, epochs=10, validation_data=(x_test, y_test))"
   ]
  },
  {
   "cell_type": "code",
   "execution_count": 173,
   "id": "63ebf1c7-8c4d-4441-9555-67e6febd0688",
   "metadata": {},
   "outputs": [
    {
     "name": "stdout",
     "output_type": "stream",
     "text": [
      "209/209 [==============================] - 0s 1ms/step\n"
     ]
    }
   ],
   "source": [
    "#predict using model.predict\n",
    "predictions = model_keras.predict(x_test)"
   ]
  },
  {
   "cell_type": "code",
   "execution_count": 182,
   "id": "95df0fe8-f73b-4d83-92f2-d3b218df8696",
   "metadata": {},
   "outputs": [],
   "source": [
    "#get the classes from the prediction\n",
    "y_predicted = predictions\n",
    "y_predicted[y_predicted <= 0.5] = 0\n",
    "y_predicted[y_predicted > 0.5] = 1"
   ]
  },
  {
   "cell_type": "code",
   "execution_count": 200,
   "id": "4768eb15-16d4-4acb-89e2-fd3176bc8257",
   "metadata": {},
   "outputs": [
    {
     "data": {
      "image/png": "[encoded data removed]",
      "text/plain": [
       "<Figure size 432x288 with 2 Axes>"
      ]
     },
     "metadata": {
      "needs_background": "light"
     },
     "output_type": "display_data"
    },
    {
     "data": {
      "image/png": "[encoded data removed]",
      "text/plain": [
       "<Figure size 432x288 with 2 Axes>"
      ]
     },
     "metadata": {
      "needs_background": "light"
     },
     "output_type": "display_data"
    }
   ],
   "source": [
    "keras_predict_df = pd.DataFrame(y_test, columns=['test_actual'])\n",
    "keras_predict_df['test_predicted'] = y_predicted\n",
    "keras_predict_df['test_predicted'] = keras_predict_df['test_predicted'].astype(int)\n",
    "keras_predict_df.reset_index().groupby(['test_actual', 'test_predicted']).count()[['index']].reset_index().pivot(index='test_actual', columns='test_predicted', values='index').sort_values(by=['test_actual'], ascending=False)\n",
    "df_matrix = keras_predict_df.reset_index().groupby(['test_actual', 'test_predicted']).count()[['index']].reset_index().pivot(index='test_actual', columns='test_predicted', values='index').sort_values(by=['test_actual'], ascending=False).loc[:,(1,0)]\n",
    "sns.heatmap(df_matrix, annot=True, center=True,cmap='Blues', fmt='g')\n",
    "plt.show()\n",
    "sns.heatmap(df_matrix/np.sum(df_matrix), annot=True,\n",
    "            fmt='.2%', cmap='Blues')\n",
    "plt.show()"
   ]
  },
  {
   "cell_type": "code",
   "execution_count": 270,
   "id": "5da1222e-c401-4ef2-b067-b564357aa64e",
   "metadata": {},
   "outputs": [],
   "source": [
    "from sklearn.metrics import accuracy_score, roc_auc_score, f1_score\n",
    "df_plot = df_plot.append(pd.DataFrame({'Model_id': 'Keras_GPU',\n",
    "                            'AUC': int(roc_auc_score(y_test, y_predicted)*100)/100,\n",
    "                            'F1': int(f1_score(y_test, y_predicted)*100)/100,\n",
    "                            'Accuracy': int(accuracy_score(y_test, y_predicted)*100)/100\n",
    "                            }, index=[0]))"
   ]
  },
  {
   "cell_type": "markdown",
   "id": "98fabbfa-6a47-4e02-8207-316e37260bf6",
   "metadata": {},
   "source": [
    "## 4.2.1 Keras Submision dataset"
   ]
  },
  {
   "cell_type": "code",
   "execution_count": 233,
   "id": "3c6acf5c-7b46-42a2-a309-f64b091b7479",
   "metadata": {
    "tags": []
   },
   "outputs": [],
   "source": [
    "submission_normalized_and_dummy_df = pd.read_csv('./HR_Analytics/submission_normalized_and_dummy_df.csv')\n",
    "x_submission = submission_normalized_and_dummy_df.loc[:, (normalized_and_dummy)].to_numpy()"
   ]
  },
  {
   "cell_type": "code",
   "execution_count": 234,
   "id": "73eb23a8-accb-497a-aa7c-c2a72b119d17",
   "metadata": {},
   "outputs": [
    {
     "name": "stdout",
     "output_type": "stream",
     "text": [
      "735/735 [==============================] - 1s 1ms/step\n"
     ]
    }
   ],
   "source": [
    "y_submission = model_keras.predict(x_submission)\n",
    "y_submission[y_submission <= 0.5] = 0\n",
    "y_submission[y_submission > 0.5] = 1"
   ]
  },
  {
   "cell_type": "code",
   "execution_count": 235,
   "id": "24a13446-53b8-42d6-94a8-0b8f2d8d1519",
   "metadata": {},
   "outputs": [
    {
     "data": {
      "text/plain": [
       "0    22900\n",
       "1      590\n",
       "Name: is_promoted, dtype: int64"
      ]
     },
     "execution_count": 235,
     "metadata": {},
     "output_type": "execute_result"
    }
   ],
   "source": [
    "submission_normalized_and_dummy_df[VarTarget] = y_submission\n",
    "submission_normalized_and_dummy_df[VarTarget] = submission_normalized_and_dummy_df[VarTarget].astype(int)\n",
    "submission_normalized_and_dummy_df.loc[:, (VarId, VarTarget)].loc[:, (VarId, VarTarget)].to_csv('./HR_Analytics/results/Keras_submission.csv', index=False)\n",
    "submission_normalized_and_dummy_df[VarTarget].value_counts()"
   ]
  },
  {
   "cell_type": "markdown",
   "id": "795c2ca5-5ef9-4074-a85d-d1a37396d561",
   "metadata": {},
   "source": [
    "## 4.3 XGBosst"
   ]
  },
  {
   "cell_type": "code",
   "execution_count": 91,
   "id": "51f23707-5050-4572-84a7-c4fc889a9039",
   "metadata": {},
   "outputs": [
    {
     "name": "stdout",
     "output_type": "stream",
     "text": [
      "[00:16:03] WARNING: /mnt/xgboost/src/learner.cc:1061: Starting in XGBoost 1.3.0, the default evaluation metric used with the objective 'multi:softprob' was changed from 'merror' to 'mlogloss'. Explicitly set eval_metric if you'd like to restore the old behavior.\n"
     ]
    },
    {
     "name": "stderr",
     "output_type": "stream",
     "text": [
      "/anaconda/envs/azureml_py38/lib/python3.8/site-packages/xgboost/sklearn.py:888: UserWarning: The use of label encoder in XGBClassifier is deprecated and will be removed in a future release. To remove this warning, do the following: 1) Pass option use_label_encoder=False when constructing XGBClassifier object; and 2) Encode your labels (y) as integers starting with 0, i.e. 0, 1, 2, ..., [num_class - 1].\n",
      "  warnings.warn(label_encoder_deprecation_msg, UserWarning)\n"
     ]
    }
   ],
   "source": [
    "from xgboost import XGBClassifier\n",
    "# read data\n",
    "from sklearn.datasets import load_iris\n",
    "from sklearn.model_selection import train_test_split\n",
    "data = load_iris()\n",
    "X_train, X_test, y_train, y_test = train_test_split(data['data'], data['target'], test_size=.2)\n",
    "# create model instance\n",
    "bst = XGBClassifier(n_estimators=2, max_depth=2, learning_rate=1, objective='binary:logistic')\n",
    "# fit model\n",
    "bst.fit(X_train, y_train)\n",
    "# make predictions\n",
    "preds = bst.predict(X_test)"
   ]
  },
  {
   "cell_type": "code",
   "execution_count": 93,
   "id": "e62f1b41-fe3a-4364-8c5b-ec350b342818",
   "metadata": {
    "collapsed": true,
    "jupyter": {
     "outputs_hidden": true
    },
    "tags": []
   },
   "outputs": [
    {
     "name": "stdout",
     "output_type": "stream",
     "text": [
      "Collecting hyperopt\n",
      "  Downloading hyperopt-0.2.7-py2.py3-none-any.whl (1.6 MB)\n",
      "\u001b[2K     \u001b[90m━━━━━━━━━━━━━━━━━━━━━━━━━━━━━━━━━━━━━━━━\u001b[0m \u001b[32m1.6/1.6 MB\u001b[0m \u001b[31m11.5 MB/s\u001b[0m eta \u001b[36m0:00:00\u001b[0m00:01\u001b[0m\n",
      "\u001b[?25hRequirement already satisfied: cloudpickle in /anaconda/envs/azureml_py38_PT_TF/lib/python3.8/site-packages (from hyperopt) (2.2.0)\n",
      "Requirement already satisfied: scipy in /anaconda/envs/azureml_py38_PT_TF/lib/python3.8/site-packages (from hyperopt) (1.9.3)\n",
      "Requirement already satisfied: tqdm in /anaconda/envs/azureml_py38_PT_TF/lib/python3.8/site-packages (from hyperopt) (4.64.1)\n",
      "Requirement already satisfied: six in /anaconda/envs/azureml_py38_PT_TF/lib/python3.8/site-packages (from hyperopt) (1.16.0)\n",
      "Collecting py4j\n",
      "  Downloading py4j-0.10.9.7-py2.py3-none-any.whl (200 kB)\n",
      "\u001b[2K     \u001b[90m━━━━━━━━━━━━━━━━━━━━━━━━━━━━━━━━━━━━━━━\u001b[0m \u001b[32m200.5/200.5 kB\u001b[0m \u001b[31m8.1 MB/s\u001b[0m eta \u001b[36m0:00:00\u001b[0m\n",
      "\u001b[?25hCollecting networkx>=2.2\n",
      "  Downloading networkx-2.8.8-py3-none-any.whl (2.0 MB)\n",
      "\u001b[2K     \u001b[90m━━━━━━━━━━━━━━━━━━━━━━━━━━━━━━━━━━━━━━━━\u001b[0m \u001b[32m2.0/2.0 MB\u001b[0m \u001b[31m18.5 MB/s\u001b[0m eta \u001b[36m0:00:00\u001b[0m:00:01\u001b[0m\n",
      "\u001b[?25hRequirement already satisfied: future in /anaconda/envs/azureml_py38_PT_TF/lib/python3.8/site-packages (from hyperopt) (0.18.2)\n",
      "Requirement already satisfied: numpy in /anaconda/envs/azureml_py38_PT_TF/lib/python3.8/site-packages (from hyperopt) (1.23.4)\n",
      "Installing collected packages: py4j, networkx, hyperopt\n",
      "Successfully installed hyperopt-0.2.7 networkx-2.8.8 py4j-0.10.9.7\n",
      "Note: you may need to restart the kernel to use updated packages.\n"
     ]
    }
   ],
   "source": [
    "%pip install hyperopt"
   ]
  },
  {
   "cell_type": "code",
   "execution_count": 262,
   "id": "d833fdd1-d57b-437d-8dfe-60006bfa525d",
   "metadata": {},
   "outputs": [],
   "source": [
    "# import machine learning libraries\n",
    "import xgboost as xgb\n",
    "from sklearn.metrics import accuracy_score\n",
    "\n",
    "# import packages for hyperparameters tuning\n",
    "from hyperopt import STATUS_OK, Trials, fmin, hp, tpe\n",
    "\n",
    "# Input data files are available in the \"../input/\" directory.\n",
    "# For example, running this (by clicking run or pressing Shift+Enter) will list all files under the input directory"
   ]
  },
  {
   "cell_type": "code",
   "execution_count": 263,
   "id": "a75732c5-67dc-45e8-95b7-6364961ec076",
   "metadata": {},
   "outputs": [],
   "source": [
    "space={'max_depth': hp.quniform(\"max_depth\", 3, 18, 1),\n",
    "        'gamma': hp.uniform ('gamma', 1,9),\n",
    "        'reg_alpha' : hp.quniform('reg_alpha', 40,180,1),\n",
    "        'reg_lambda' : hp.uniform('reg_lambda', 0,1),\n",
    "        'colsample_bytree' : hp.uniform('colsample_bytree', 0.5,1),\n",
    "        'min_child_weight' : hp.quniform('min_child_weight', 0, 10, 1),\n",
    "        'n_estimators': 180,\n",
    "        'seed': 0\n",
    "    }"
   ]
  },
  {
   "cell_type": "code",
   "execution_count": 264,
   "id": "7603ce3f-469b-4d82-a086-32ad08d70161",
   "metadata": {},
   "outputs": [],
   "source": [
    "def objective(space):\n",
    "    clf=xgb.XGBClassifier(use_label_encoder=False,\n",
    "                    n_estimators =space['n_estimators'], max_depth = int(space['max_depth']), gamma = space['gamma'],\n",
    "                    reg_alpha = int(space['reg_alpha']),min_child_weight=int(space['min_child_weight']),\n",
    "                    colsample_bytree=int(space['colsample_bytree']))\n",
    "    \n",
    "    evaluation = [( x_train, y_train), (x_test, y_test)]\n",
    "    \n",
    "    clf.fit(x_train, y_train,\n",
    "            eval_set=evaluation, eval_metric=\"auc\",\n",
    "            early_stopping_rounds=10,verbose=False)\n",
    "    \n",
    "\n",
    "    pred = clf.predict(x_test)\n",
    "    accuracy = accuracy_score(y_test, pred>0.5)\n",
    "    print (\"SCORE:\", accuracy)\n",
    "    return {'loss': -accuracy, 'status': STATUS_OK }"
   ]
  },
  {
   "cell_type": "code",
   "execution_count": 265,
   "id": "379c142e-f805-44e9-a0a8-4e1d349e4f78",
   "metadata": {
    "collapsed": true,
    "jupyter": {
     "outputs_hidden": true
    },
    "tags": []
   },
   "outputs": [
    {
     "name": "stdout",
     "output_type": "stream",
     "text": [
      "SCORE:                                                 \n",
      "0.9115798922800719                                     \n",
      "SCORE:                                                                            \n",
      "0.9115798922800719                                                                \n",
      "SCORE:                                                                            \n",
      "0.9115798922800719                                                                \n",
      "SCORE:                                                                            \n",
      "0.9115798922800719                                                                \n",
      "SCORE:                                                                            \n",
      "0.9115798922800719                                                                \n",
      "SCORE:                                                                            \n",
      "0.9115798922800719                                                                \n",
      "SCORE:                                                                            \n",
      "0.9115798922800719                                                                \n",
      "SCORE:                                                                            \n",
      "0.9115798922800719                                                                \n",
      "SCORE:                                                                            \n",
      "0.9115798922800719                                                                \n",
      "SCORE:                                                                            \n",
      "0.9115798922800719                                                                \n",
      "SCORE:                                                                             \n",
      "0.9115798922800719                                                                 \n",
      "SCORE:                                                                             \n",
      "0.9115798922800719                                                                 \n",
      "SCORE:                                                                             \n",
      "0.9115798922800719                                                                 \n",
      "SCORE:                                                                             \n",
      "0.9115798922800719                                                                 \n",
      "SCORE:                                                                             \n",
      "0.9115798922800719                                                                 \n",
      "SCORE:                                                                             \n",
      "0.9115798922800719                                                                 \n",
      "SCORE:                                                                             \n",
      "0.9115798922800719                                                                 \n",
      "SCORE:                                                                             \n",
      "0.9115798922800719                                                                 \n",
      "SCORE:                                                                             \n",
      "0.9115798922800719                                                                 \n",
      "SCORE:                                                                             \n",
      "0.9115798922800719                                                                 \n",
      "SCORE:                                                                             \n",
      "0.9115798922800719                                                                 \n",
      "SCORE:                                                                             \n",
      "0.9115798922800719                                                                 \n",
      "SCORE:                                                                             \n",
      "0.9115798922800719                                                                 \n",
      "SCORE:                                                                             \n",
      "0.9115798922800719                                                                 \n",
      "SCORE:                                                                             \n",
      "0.9115798922800719                                                                 \n",
      "SCORE:                                                                             \n",
      "0.9115798922800719                                                                 \n",
      "SCORE:                                                                             \n",
      "0.9115798922800719                                                                 \n",
      "SCORE:                                                                             \n",
      "0.9115798922800719                                                                 \n",
      "SCORE:                                                                             \n",
      "0.9115798922800719                                                                 \n",
      "SCORE:                                                                             \n",
      "0.9115798922800719                                                                 \n",
      "SCORE:                                                                             \n",
      "0.9115798922800719                                                                 \n",
      "SCORE:                                                                             \n",
      "0.9115798922800719                                                                 \n",
      "SCORE:                                                                             \n",
      "0.9115798922800719                                                                 \n",
      "SCORE:                                                                             \n",
      "0.9115798922800719                                                                 \n",
      "SCORE:                                                                             \n",
      "0.9115798922800719                                                                 \n",
      "SCORE:                                                                             \n",
      "0.9115798922800719                                                                 \n",
      "SCORE:                                                                             \n",
      "0.9115798922800719                                                                 \n",
      "SCORE:                                                                             \n",
      "0.9115798922800719                                                                 \n",
      "SCORE:                                                                             \n",
      "0.9115798922800719                                                                 \n",
      "SCORE:                                                                             \n",
      "0.9115798922800719                                                                 \n",
      "SCORE:                                                                             \n",
      "0.9115798922800719                                                                 \n",
      "SCORE:                                                                             \n",
      "0.9115798922800719                                                                 \n",
      "SCORE:                                                                             \n",
      "0.9115798922800719                                                                 \n",
      "SCORE:                                                                             \n",
      "0.9115798922800719                                                                 \n",
      "SCORE:                                                                             \n",
      "0.9115798922800719                                                                 \n",
      "SCORE:                                                                             \n",
      "0.9115798922800719                                                                 \n",
      "SCORE:                                                                             \n",
      "0.9115798922800719                                                                 \n",
      "SCORE:                                                                             \n",
      "0.9115798922800719                                                                 \n",
      "SCORE:                                                                             \n",
      "0.9115798922800719                                                                 \n",
      "SCORE:                                                                             \n",
      "0.9115798922800719                                                                 \n",
      "SCORE:                                                                             \n",
      "0.9115798922800719                                                                 \n",
      "SCORE:                                                                             \n",
      "0.9115798922800719                                                                 \n",
      "SCORE:                                                                             \n",
      "0.9115798922800719                                                                 \n",
      "SCORE:                                                                             \n",
      "0.9115798922800719                                                                 \n",
      "SCORE:                                                                             \n",
      "0.9115798922800719                                                                 \n",
      "SCORE:                                                                             \n",
      "0.9115798922800719                                                                 \n",
      "SCORE:                                                                             \n",
      "0.9115798922800719                                                                 \n",
      "SCORE:                                                                             \n",
      "0.9115798922800719                                                                 \n",
      "SCORE:                                                                             \n",
      "0.9115798922800719                                                                 \n",
      "SCORE:                                                                             \n",
      "0.9115798922800719                                                                 \n",
      "SCORE:                                                                             \n",
      "0.9115798922800719                                                                 \n",
      "SCORE:                                                                             \n",
      "0.9115798922800719                                                                 \n",
      "SCORE:                                                                             \n",
      "0.9115798922800719                                                                 \n",
      "SCORE:                                                                             \n",
      "0.9115798922800719                                                                 \n",
      "SCORE:                                                                             \n",
      "0.9115798922800719                                                                 \n",
      "SCORE:                                                                             \n",
      "0.9115798922800719                                                                 \n",
      "SCORE:                                                                             \n",
      "0.9115798922800719                                                                 \n",
      "SCORE:                                                                             \n",
      "0.9115798922800719                                                                 \n",
      "SCORE:                                                                             \n",
      "0.9115798922800719                                                                 \n",
      "SCORE:                                                                             \n",
      "0.9115798922800719                                                                 \n",
      "SCORE:                                                                             \n",
      "0.9115798922800719                                                                 \n",
      "SCORE:                                                                             \n",
      "0.9115798922800719                                                                 \n",
      "SCORE:                                                                             \n",
      "0.9115798922800719                                                                 \n",
      "SCORE:                                                                             \n",
      "0.9115798922800719                                                                 \n",
      "SCORE:                                                                             \n",
      "0.9115798922800719                                                                 \n",
      "SCORE:                                                                             \n",
      "0.9115798922800719                                                                 \n",
      "SCORE:                                                                             \n",
      "0.9115798922800719                                                                 \n",
      "SCORE:                                                                             \n",
      "0.9115798922800719                                                                 \n",
      "SCORE:                                                                             \n",
      "0.9115798922800719                                                                 \n",
      "SCORE:                                                                             \n",
      "0.9115798922800719                                                                 \n",
      "SCORE:                                                                             \n",
      "0.9115798922800719                                                                 \n",
      "SCORE:                                                                             \n",
      "0.9115798922800719                                                                 \n",
      "SCORE:                                                                             \n",
      "0.9115798922800719                                                                 \n",
      "SCORE:                                                                             \n",
      "0.9115798922800719                                                                 \n",
      "SCORE:                                                                             \n",
      "0.9115798922800719                                                                 \n",
      "SCORE:                                                                             \n",
      "0.9115798922800719                                                                 \n",
      "SCORE:                                                                             \n",
      "0.9115798922800719                                                                 \n",
      "SCORE:                                                                             \n",
      "0.9115798922800719                                                                 \n",
      "SCORE:                                                                             \n",
      "0.9115798922800719                                                                 \n",
      "SCORE:                                                                             \n",
      "0.9115798922800719                                                                 \n",
      "SCORE:                                                                             \n",
      "0.9115798922800719                                                                 \n",
      "SCORE:                                                                             \n",
      "0.9115798922800719                                                                 \n",
      "SCORE:                                                                             \n",
      "0.9115798922800719                                                                 \n",
      "SCORE:                                                                             \n",
      "0.9115798922800719                                                                 \n",
      "SCORE:                                                                             \n",
      "0.9115798922800719                                                                 \n",
      "SCORE:                                                                             \n",
      "0.9115798922800719                                                                 \n",
      "SCORE:                                                                             \n",
      "0.9115798922800719                                                                 \n",
      "SCORE:                                                                             \n",
      "0.9115798922800719                                                                 \n",
      "SCORE:                                                                             \n",
      "0.9115798922800719                                                                 \n",
      "SCORE:                                                                             \n",
      "0.9115798922800719                                                                 \n",
      "100%|██████████| 100/100 [00:49<00:00,  2.02trial/s, best loss: -0.9115798922800719]\n"
     ]
    }
   ],
   "source": [
    "trials = Trials()\n",
    "\n",
    "best_hyperparams = fmin(fn = objective,\n",
    "                        space = space,\n",
    "                        algo = tpe.suggest,\n",
    "                        max_evals = 100,\n",
    "                        trials = trials)"
   ]
  },
  {
   "cell_type": "code",
   "execution_count": 266,
   "id": "f7979eaf-d818-475f-b5f4-0cd64a1fb1a5",
   "metadata": {},
   "outputs": [
    {
     "name": "stdout",
     "output_type": "stream",
     "text": [
      "The best hyperparameters are :  \n",
      "\n",
      "{'colsample_bytree': 0.9810072301528294, 'gamma': 6.460662839109729, 'max_depth': 3.0, 'min_child_weight': 2.0, 'reg_alpha': 98.0, 'reg_lambda': 0.08923086359211996}\n"
     ]
    }
   ],
   "source": [
    "print(\"The best hyperparameters are : \",\"\\n\")\n",
    "print(best_hyperparams)"
   ]
  },
  {
   "cell_type": "code",
   "execution_count": 267,
   "id": "f9fbf671-ced9-41ea-a641-00f6a4ad1c93",
   "metadata": {},
   "outputs": [],
   "source": [
    "clf=xgb.XGBClassifier(use_label_encoder=False,\n",
    "                      colsample_bytree=0.9810072301528294,\n",
    "                      gamma=6.460662839109729,\n",
    "                      max_depth= 3,\n",
    "                      min_child_weight= 2,\n",
    "                      reg_alpha= 98,\n",
    "                      reg_lambda= 0.08923086359211996)\n",
    "evaluation = [( x_train, y_train), (x_test, y_test)]\n",
    "\n",
    "clf.fit(x_train, y_train,\n",
    "        eval_set=evaluation, eval_metric=\"aucpr\",\n",
    "        early_stopping_rounds=10,verbose=False)\n",
    "\n",
    "\n",
    "pred = clf.predict(x_test)"
   ]
  },
  {
   "cell_type": "code",
   "execution_count": 272,
   "id": "d63ceea8-da36-4727-a9f3-98f25cf49008",
   "metadata": {},
   "outputs": [
    {
     "data": {
      "text/plain": [
       "0.9302812687013764"
      ]
     },
     "execution_count": 272,
     "metadata": {},
     "output_type": "execute_result"
    }
   ],
   "source": [
    "pred_gxboost = clf.predict(x_test)\n",
    "accuracy = accuracy_score(y_test, pred_gxboost>0.5)\n",
    "accuracy"
   ]
  },
  {
   "cell_type": "code",
   "execution_count": 273,
   "id": "722d9aaa-2b3e-49e7-91ef-bf5e560f8271",
   "metadata": {},
   "outputs": [],
   "source": [
    "from sklearn.metrics import accuracy_score, roc_auc_score, f1_score\n",
    "df_plot = df_plot.append(pd.DataFrame({'Model_id': 'XGBoost',\n",
    "                            'AUC': int(roc_auc_score(y_test, pred_gxboost)*100)/100,\n",
    "                            'F1': int(f1_score(y_test, pred_gxboost)*100)/100,\n",
    "                            'Accuracy': int(accuracy_score(y_test, pred_gxboost)*100)/100\n",
    "                            }, index=[0]))"
   ]
  },
  {
   "cell_type": "code",
   "execution_count": 275,
   "id": "b754bc27-cd3f-4222-a919-1dada572d4ec",
   "metadata": {},
   "outputs": [
    {
     "data": {
      "image/png": "[encoded data removed]",
      "text/plain": [
       "<Figure size 432x288 with 2 Axes>"
      ]
     },
     "metadata": {
      "needs_background": "light"
     },
     "output_type": "display_data"
    },
    {
     "data": {
      "image/png": "[encoded data removed]",
      "text/plain": [
       "<Figure size 432x288 with 2 Axes>"
      ]
     },
     "metadata": {
      "needs_background": "light"
     },
     "output_type": "display_data"
    }
   ],
   "source": [
    "xgboost_predict_df = pd.DataFrame(y_test, columns=['test_actual'])\n",
    "xgboost_predict_df['test_predicted'] = pred_gxboost\n",
    "xgboost_predict_df['test_predicted'] = xgboost_predict_df['test_predicted'].astype(int)\n",
    "xgboost_predict_df.reset_index().groupby(['test_actual', 'test_predicted']).count()[['index']].reset_index().pivot(index='test_actual', columns='test_predicted', values='index').sort_values(by=['test_actual'], ascending=False)\n",
    "df_matrix = xgboost_predict_df.reset_index().groupby(['test_actual', 'test_predicted']).count()[['index']].reset_index().pivot(index='test_actual', columns='test_predicted', values='index').sort_values(by=['test_actual'], ascending=False).loc[:,(1,0)]\n",
    "sns.heatmap(df_matrix, annot=True, center=True,cmap='Blues', fmt='g')\n",
    "plt.show()\n",
    "sns.heatmap(df_matrix/np.sum(df_matrix), annot=True,\n",
    "            fmt='.2%', cmap='Blues')\n",
    "plt.show()"
   ]
  },
  {
   "cell_type": "markdown",
   "id": "59b6a90d-9a3f-4d31-a967-90549bc8ec83",
   "metadata": {},
   "source": [
    "## 4.3.1 XGBoost Submision dataset"
   ]
  },
  {
   "cell_type": "code",
   "execution_count": 284,
   "id": "87647ac1-4e4f-42d8-9ac4-2cddf4f0235b",
   "metadata": {
    "tags": []
   },
   "outputs": [],
   "source": [
    "submission_normalized_and_dummy_df = pd.read_csv('./HR_Analytics/submission_normalized_and_dummy_df.csv')\n",
    "x_submission = submission_normalized_and_dummy_df.loc[:, (normalized_and_dummy)].to_numpy()"
   ]
  },
  {
   "cell_type": "code",
   "execution_count": 285,
   "id": "d45cd655-c448-4f46-84ca-3a49d857992b",
   "metadata": {},
   "outputs": [],
   "source": [
    "y_submission = clf.predict(x_submission)\n",
    "y_submission[y_submission <= 0.5] = 0\n",
    "y_submission[y_submission > 0.5] = 1"
   ]
  },
  {
   "cell_type": "code",
   "execution_count": 286,
   "id": "140e5fd7-5b88-4324-872c-832a7dfe5100",
   "metadata": {},
   "outputs": [
    {
     "data": {
      "text/plain": [
       "0    23090\n",
       "1      400\n",
       "Name: is_promoted, dtype: int64"
      ]
     },
     "execution_count": 286,
     "metadata": {},
     "output_type": "execute_result"
    }
   ],
   "source": [
    "submission_normalized_and_dummy_df[VarTarget] = y_submission\n",
    "submission_normalized_and_dummy_df[VarTarget] = submission_normalized_and_dummy_df[VarTarget].astype(int)\n",
    "submission_normalized_and_dummy_df.loc[:, (VarId, VarTarget)].loc[:, (VarId, VarTarget)].to_csv('./HR_Analytics/results/XGBoost_submission.csv', index=False)\n",
    "submission_normalized_and_dummy_df[VarTarget].value_counts()"
   ]
  },
  {
   "cell_type": "markdown",
   "id": "cf94f31b-f92b-406f-8815-bfc5175a10ef",
   "metadata": {},
   "source": [
    "# 5. Compare All the Models"
   ]
  },
  {
   "cell_type": "code",
   "execution_count": 289,
   "id": "caee8fcd-23da-4fe8-8efc-95d91ad11528",
   "metadata": {},
   "outputs": [
    {
     "data": {
      "text/plain": [
       "<matplotlib.legend.Legend at 0x7f91c5b500a0>"
      ]
     },
     "execution_count": 289,
     "metadata": {},
     "output_type": "execute_result"
    },
    {
     "data": {
      "image/png": "[encoded data removed]",
      "text/plain": [
       "<Figure size 720x360 with 1 Axes>"
      ]
     },
     "metadata": {
      "needs_background": "light"
     },
     "output_type": "display_data"
    }
   ],
   "source": [
    "ax = df_plot.plot(kind='bar', x=\"Model_id\", title=\"AUC, F1 and Accuracy\", grid=True, figsize=(10,5), legend=1)\n",
    "for p in ax.patches:\n",
    "    ax.annotate(str(p.get_height()), (p.get_x() * 1.005, p.get_height() * 1.005))\n",
    "plt.legend(loc=3, prop={'size': 10})"
   ]
  }
 ],
 "metadata": {
  "instance_type": "ml.t3.medium",
  "kernelspec": {
   "display_name": "Python 3.8 - Pytorch and Tensorflow",
   "language": "python",
   "name": "python38-azureml-pt-tf"
  },
  "language_info": {
   "codemirror_mode": {
    "name": "ipython",
    "version": 3
   },
   "file_extension": ".py",
   "mimetype": "text/x-python",
   "name": "python",
   "nbconvert_exporter": "python",
   "pygments_lexer": "ipython3",
   "version": "3.8.5"
  },
  "papermill": {
   "default_parameters": {},
   "duration": 1824.891487,
   "end_time": "2021-04-22T19:12:51.593458",
   "environment_variables": {},
   "exception": null,
   "input_path": "__notebook__.ipynb",
   "output_path": "__notebook__.ipynb",
   "parameters": {},
   "start_time": "2021-04-22T18:42:26.701971",
   "version": "2.3.2"
  },
  "widgets": {
   "application/vnd.jupyter.widget-state+json": {
    "state": {
     "1367ae52c04143d8b569a2018607131f": {
      "model_module": "@jupyter-widgets/controls",
      "model_module_version": "1.5.0",
      "model_name": "HTMLModel",
      "state": {
       "_dom_classes": [],
       "_model_module": "@jupyter-widgets/controls",
       "_model_module_version": "1.5.0",
       "_model_name": "HTMLModel",
       "_view_count": null,
       "_view_module": "@jupyter-widgets/controls",
       "_view_module_version": "1.5.0",
       "_view_name": "HTMLView",
       "description": "",
       "description_tooltip": null,
       "layout": "IPY_MODEL_cf0f1a3dba55429b94630faccf8f142f",
       "placeholder": "​",
       "style": "IPY_MODEL_8003ac93421f49c0bcc8412a93783fdc",
       "value": " 20/20 [01:30&lt;00:00,  4.10s/it]"
      }
     },
     "1960307545e444afa597f3ae9e570980": {
      "model_module": "@jupyter-widgets/controls",
      "model_module_version": "1.5.0",
      "model_name": "DescriptionStyleModel",
      "state": {
       "_model_module": "@jupyter-widgets/controls",
       "_model_module_version": "1.5.0",
       "_model_name": "DescriptionStyleModel",
       "_view_count": null,
       "_view_module": "@jupyter-widgets/base",
       "_view_module_version": "1.2.0",
       "_view_name": "StyleView",
       "description_width": ""
      }
     },
     "19f5b02e6d3145de9146687274a9b90d": {
      "model_module": "@jupyter-widgets/controls",
      "model_module_version": "1.5.0",
      "model_name": "HTMLModel",
      "state": {
       "_dom_classes": [],
       "_model_module": "@jupyter-widgets/controls",
       "_model_module_version": "1.5.0",
       "_model_name": "HTMLModel",
       "_view_count": null,
       "_view_module": "@jupyter-widgets/controls",
       "_view_module_version": "1.5.0",
       "_view_name": "HTMLView",
       "description": "",
       "description_tooltip": null,
       "layout": "IPY_MODEL_72b6da2d33514ad78863f8abc472304d",
       "placeholder": "​",
       "style": "IPY_MODEL_7fa7a452971a43f893f67bea5d998d27",
       "value": "Export report to file: 100%"
      }
     },
     "1aaccbf8980a4a87b279c54c0cd6ecdd": {
      "model_module": "@jupyter-widgets/base",
      "model_module_version": "1.2.0",
      "model_name": "LayoutModel",
      "state": {
       "_model_module": "@jupyter-widgets/base",
       "_model_module_version": "1.2.0",
       "_model_name": "LayoutModel",
       "_view_count": null,
       "_view_module": "@jupyter-widgets/base",
       "_view_module_version": "1.2.0",
       "_view_name": "LayoutView",
       "align_content": null,
       "align_items": null,
       "align_self": null,
       "border": null,
       "bottom": null,
       "display": null,
       "flex": null,
       "flex_flow": null,
       "grid_area": null,
       "grid_auto_columns": null,
       "grid_auto_flow": null,
       "grid_auto_rows": null,
       "grid_column": null,
       "grid_gap": null,
       "grid_row": null,
       "grid_template_areas": null,
       "grid_template_columns": null,
       "grid_template_rows": null,
       "height": null,
       "justify_content": null,
       "justify_items": null,
       "left": null,
       "margin": null,
       "max_height": null,
       "max_width": null,
       "min_height": null,
       "min_width": null,
       "object_fit": null,
       "object_position": null,
       "order": null,
       "overflow": null,
       "overflow_x": null,
       "overflow_y": null,
       "padding": null,
       "right": null,
       "top": null,
       "visibility": null,
       "width": null
      }
     },
     "1c7de68230104c4995b47fa29a599fc3": {
      "model_module": "@jupyter-widgets/controls",
      "model_module_version": "1.5.0",
      "model_name": "DescriptionStyleModel",
      "state": {
       "_model_module": "@jupyter-widgets/controls",
       "_model_module_version": "1.5.0",
       "_model_name": "DescriptionStyleModel",
       "_view_count": null,
       "_view_module": "@jupyter-widgets/base",
       "_view_module_version": "1.2.0",
       "_view_name": "StyleView",
       "description_width": ""
      }
     },
     "1e1865bed82a4c90a94b4024f9c7b585": {
      "model_module": "@jupyter-widgets/base",
      "model_module_version": "1.2.0",
      "model_name": "LayoutModel",
      "state": {
       "_model_module": "@jupyter-widgets/base",
       "_model_module_version": "1.2.0",
       "_model_name": "LayoutModel",
       "_view_count": null,
       "_view_module": "@jupyter-widgets/base",
       "_view_module_version": "1.2.0",
       "_view_name": "LayoutView",
       "align_content": null,
       "align_items": null,
       "align_self": null,
       "border": null,
       "bottom": null,
       "display": null,
       "flex": null,
       "flex_flow": null,
       "grid_area": null,
       "grid_auto_columns": null,
       "grid_auto_flow": null,
       "grid_auto_rows": null,
       "grid_column": null,
       "grid_gap": null,
       "grid_row": null,
       "grid_template_areas": null,
       "grid_template_columns": null,
       "grid_template_rows": null,
       "height": null,
       "justify_content": null,
       "justify_items": null,
       "left": null,
       "margin": null,
       "max_height": null,
       "max_width": null,
       "min_height": null,
       "min_width": null,
       "object_fit": null,
       "object_position": null,
       "order": null,
       "overflow": null,
       "overflow_x": null,
       "overflow_y": null,
       "padding": null,
       "right": null,
       "top": null,
       "visibility": null,
       "width": null
      }
     },
     "1f6013e469f44bae906f8b8d796ddf03": {
      "model_module": "@jupyter-widgets/base",
      "model_module_version": "1.2.0",
      "model_name": "LayoutModel",
      "state": {
       "_model_module": "@jupyter-widgets/base",
       "_model_module_version": "1.2.0",
       "_model_name": "LayoutModel",
       "_view_count": null,
       "_view_module": "@jupyter-widgets/base",
       "_view_module_version": "1.2.0",
       "_view_name": "LayoutView",
       "align_content": null,
       "align_items": null,
       "align_self": null,
       "border": null,
       "bottom": null,
       "display": null,
       "flex": null,
       "flex_flow": null,
       "grid_area": null,
       "grid_auto_columns": null,
       "grid_auto_flow": null,
       "grid_auto_rows": null,
       "grid_column": null,
       "grid_gap": null,
       "grid_row": null,
       "grid_template_areas": null,
       "grid_template_columns": null,
       "grid_template_rows": null,
       "height": null,
       "justify_content": null,
       "justify_items": null,
       "left": null,
       "margin": null,
       "max_height": null,
       "max_width": null,
       "min_height": null,
       "min_width": null,
       "object_fit": null,
       "object_position": null,
       "order": null,
       "overflow": null,
       "overflow_x": null,
       "overflow_y": null,
       "padding": null,
       "right": null,
       "top": null,
       "visibility": null,
       "width": null
      }
     },
     "2816683bca8b403393d16ddce7f61451": {
      "model_module": "@jupyter-widgets/controls",
      "model_module_version": "1.5.0",
      "model_name": "DescriptionStyleModel",
      "state": {
       "_model_module": "@jupyter-widgets/controls",
       "_model_module_version": "1.5.0",
       "_model_name": "DescriptionStyleModel",
       "_view_count": null,
       "_view_module": "@jupyter-widgets/base",
       "_view_module_version": "1.2.0",
       "_view_name": "StyleView",
       "description_width": ""
      }
     },
     "350e60f28d9b48938c8cd3c7a65adfc8": {
      "model_module": "@jupyter-widgets/base",
      "model_module_version": "1.2.0",
      "model_name": "LayoutModel",
      "state": {
       "_model_module": "@jupyter-widgets/base",
       "_model_module_version": "1.2.0",
       "_model_name": "LayoutModel",
       "_view_count": null,
       "_view_module": "@jupyter-widgets/base",
       "_view_module_version": "1.2.0",
       "_view_name": "LayoutView",
       "align_content": null,
       "align_items": null,
       "align_self": null,
       "border": null,
       "bottom": null,
       "display": null,
       "flex": null,
       "flex_flow": null,
       "grid_area": null,
       "grid_auto_columns": null,
       "grid_auto_flow": null,
       "grid_auto_rows": null,
       "grid_column": null,
       "grid_gap": null,
       "grid_row": null,
       "grid_template_areas": null,
       "grid_template_columns": null,
       "grid_template_rows": null,
       "height": null,
       "justify_content": null,
       "justify_items": null,
       "left": null,
       "margin": null,
       "max_height": null,
       "max_width": null,
       "min_height": null,
       "min_width": null,
       "object_fit": null,
       "object_position": null,
       "order": null,
       "overflow": null,
       "overflow_x": null,
       "overflow_y": null,
       "padding": null,
       "right": null,
       "top": null,
       "visibility": null,
       "width": null
      }
     },
     "4f4eb35c26b1492798fee9d3c4e5bb03": {
      "model_module": "@jupyter-widgets/controls",
      "model_module_version": "1.5.0",
      "model_name": "HTMLModel",
      "state": {
       "_dom_classes": [],
       "_model_module": "@jupyter-widgets/controls",
       "_model_module_version": "1.5.0",
       "_model_name": "HTMLModel",
       "_view_count": null,
       "_view_module": "@jupyter-widgets/controls",
       "_view_module_version": "1.5.0",
       "_view_name": "HTMLView",
       "description": "",
       "description_tooltip": null,
       "layout": "IPY_MODEL_bd08b7d0ff3a427d89a418e30f1ab16c",
       "placeholder": "​",
       "style": "IPY_MODEL_74688d13d99042c0aa1f214ded632a98",
       "value": " 50/50 [01:24&lt;00:00,  4.61s/it, Completed]"
      }
     },
     "5474ed5e459a4b07973ac3c6de3ae6e4": {
      "model_module": "@jupyter-widgets/controls",
      "model_module_version": "1.5.0",
      "model_name": "HTMLModel",
      "state": {
       "_dom_classes": [],
       "_model_module": "@jupyter-widgets/controls",
       "_model_module_version": "1.5.0",
       "_model_name": "HTMLModel",
       "_view_count": null,
       "_view_module": "@jupyter-widgets/controls",
       "_view_module_version": "1.5.0",
       "_view_name": "HTMLView",
       "description": "",
       "description_tooltip": null,
       "layout": "IPY_MODEL_c4aa5744ad87433dbf595d79c833656c",
       "placeholder": "​",
       "style": "IPY_MODEL_1960307545e444afa597f3ae9e570980",
       "value": "Render HTML: 100%"
      }
     },
     "552e9ee63afb4e9f9437d29dadcbe0ee": {
      "model_module": "@jupyter-widgets/controls",
      "model_module_version": "1.5.0",
      "model_name": "DescriptionStyleModel",
      "state": {
       "_model_module": "@jupyter-widgets/controls",
       "_model_module_version": "1.5.0",
       "_model_name": "DescriptionStyleModel",
       "_view_count": null,
       "_view_module": "@jupyter-widgets/base",
       "_view_module_version": "1.2.0",
       "_view_name": "StyleView",
       "description_width": ""
      }
     },
     "55b5e671bdc54737914052f021be0b42": {
      "model_module": "@jupyter-widgets/controls",
      "model_module_version": "1.5.0",
      "model_name": "HTMLModel",
      "state": {
       "_dom_classes": [],
       "_model_module": "@jupyter-widgets/controls",
       "_model_module_version": "1.5.0",
       "_model_name": "HTMLModel",
       "_view_count": null,
       "_view_module": "@jupyter-widgets/controls",
       "_view_module_version": "1.5.0",
       "_view_name": "HTMLView",
       "description": "",
       "description_tooltip": null,
       "layout": "IPY_MODEL_1f6013e469f44bae906f8b8d796ddf03",
       "placeholder": "​",
       "style": "IPY_MODEL_1c7de68230104c4995b47fa29a599fc3",
       "value": " 1/1 [00:00&lt;00:00,  5.95it/s]"
      }
     },
     "6b28a19b4fc34c7a8e973878b6f7c0a9": {
      "model_module": "@jupyter-widgets/controls",
      "model_module_version": "1.5.0",
      "model_name": "ProgressStyleModel",
      "state": {
       "_model_module": "@jupyter-widgets/controls",
       "_model_module_version": "1.5.0",
       "_model_name": "ProgressStyleModel",
       "_view_count": null,
       "_view_module": "@jupyter-widgets/base",
       "_view_module_version": "1.2.0",
       "_view_name": "StyleView",
       "bar_color": null,
       "description_width": ""
      }
     },
     "6d4bcb70a3e940619712a90fd9ee4cef": {
      "model_module": "@jupyter-widgets/controls",
      "model_module_version": "1.5.0",
      "model_name": "DescriptionStyleModel",
      "state": {
       "_model_module": "@jupyter-widgets/controls",
       "_model_module_version": "1.5.0",
       "_model_name": "DescriptionStyleModel",
       "_view_count": null,
       "_view_module": "@jupyter-widgets/base",
       "_view_module_version": "1.2.0",
       "_view_name": "StyleView",
       "description_width": ""
      }
     },
     "6f17d9d9c82c4179a703e6b4b458dcb2": {
      "model_module": "@jupyter-widgets/base",
      "model_module_version": "1.2.0",
      "model_name": "LayoutModel",
      "state": {
       "_model_module": "@jupyter-widgets/base",
       "_model_module_version": "1.2.0",
       "_model_name": "LayoutModel",
       "_view_count": null,
       "_view_module": "@jupyter-widgets/base",
       "_view_module_version": "1.2.0",
       "_view_name": "LayoutView",
       "align_content": null,
       "align_items": null,
       "align_self": null,
       "border": null,
       "bottom": null,
       "display": null,
       "flex": null,
       "flex_flow": null,
       "grid_area": null,
       "grid_auto_columns": null,
       "grid_auto_flow": null,
       "grid_auto_rows": null,
       "grid_column": null,
       "grid_gap": null,
       "grid_row": null,
       "grid_template_areas": null,
       "grid_template_columns": null,
       "grid_template_rows": null,
       "height": null,
       "justify_content": null,
       "justify_items": null,
       "left": null,
       "margin": null,
       "max_height": null,
       "max_width": null,
       "min_height": null,
       "min_width": null,
       "object_fit": null,
       "object_position": null,
       "order": null,
       "overflow": null,
       "overflow_x": null,
       "overflow_y": null,
       "padding": null,
       "right": null,
       "top": null,
       "visibility": null,
       "width": null
      }
     },
     "72b6da2d33514ad78863f8abc472304d": {
      "model_module": "@jupyter-widgets/base",
      "model_module_version": "1.2.0",
      "model_name": "LayoutModel",
      "state": {
       "_model_module": "@jupyter-widgets/base",
       "_model_module_version": "1.2.0",
       "_model_name": "LayoutModel",
       "_view_count": null,
       "_view_module": "@jupyter-widgets/base",
       "_view_module_version": "1.2.0",
       "_view_name": "LayoutView",
       "align_content": null,
       "align_items": null,
       "align_self": null,
       "border": null,
       "bottom": null,
       "display": null,
       "flex": null,
       "flex_flow": null,
       "grid_area": null,
       "grid_auto_columns": null,
       "grid_auto_flow": null,
       "grid_auto_rows": null,
       "grid_column": null,
       "grid_gap": null,
       "grid_row": null,
       "grid_template_areas": null,
       "grid_template_columns": null,
       "grid_template_rows": null,
       "height": null,
       "justify_content": null,
       "justify_items": null,
       "left": null,
       "margin": null,
       "max_height": null,
       "max_width": null,
       "min_height": null,
       "min_width": null,
       "object_fit": null,
       "object_position": null,
       "order": null,
       "overflow": null,
       "overflow_x": null,
       "overflow_y": null,
       "padding": null,
       "right": null,
       "top": null,
       "visibility": null,
       "width": null
      }
     },
     "74688d13d99042c0aa1f214ded632a98": {
      "model_module": "@jupyter-widgets/controls",
      "model_module_version": "1.5.0",
      "model_name": "DescriptionStyleModel",
      "state": {
       "_model_module": "@jupyter-widgets/controls",
       "_model_module_version": "1.5.0",
       "_model_name": "DescriptionStyleModel",
       "_view_count": null,
       "_view_module": "@jupyter-widgets/base",
       "_view_module_version": "1.2.0",
       "_view_name": "StyleView",
       "description_width": ""
      }
     },
     "762e5b00a7ec49938287a92e9a580d19": {
      "model_module": "@jupyter-widgets/controls",
      "model_module_version": "1.5.0",
      "model_name": "DescriptionStyleModel",
      "state": {
       "_model_module": "@jupyter-widgets/controls",
       "_model_module_version": "1.5.0",
       "_model_name": "DescriptionStyleModel",
       "_view_count": null,
       "_view_module": "@jupyter-widgets/base",
       "_view_module_version": "1.2.0",
       "_view_name": "StyleView",
       "description_width": ""
      }
     },
     "76c56e1e33a7431492e707c94f679aca": {
      "model_module": "@jupyter-widgets/controls",
      "model_module_version": "1.5.0",
      "model_name": "HBoxModel",
      "state": {
       "_dom_classes": [],
       "_model_module": "@jupyter-widgets/controls",
       "_model_module_version": "1.5.0",
       "_model_name": "HBoxModel",
       "_view_count": null,
       "_view_module": "@jupyter-widgets/controls",
       "_view_module_version": "1.5.0",
       "_view_name": "HBoxView",
       "box_style": "",
       "children": [
        "IPY_MODEL_ede833cb0df046c5a6a4d4ccd16aa2e3",
        "IPY_MODEL_f56bfc6a11e948e28d78ea2301c2f477",
        "IPY_MODEL_1367ae52c04143d8b569a2018607131f"
       ],
       "layout": "IPY_MODEL_aa3e16338d604e4eb9a39e0299403146"
      }
     },
     "786c2267f8114517950e53245ae33022": {
      "model_module": "@jupyter-widgets/controls",
      "model_module_version": "1.5.0",
      "model_name": "HBoxModel",
      "state": {
       "_dom_classes": [],
       "_model_module": "@jupyter-widgets/controls",
       "_model_module_version": "1.5.0",
       "_model_name": "HBoxModel",
       "_view_count": null,
       "_view_module": "@jupyter-widgets/controls",
       "_view_module_version": "1.5.0",
       "_view_name": "HBoxView",
       "box_style": "",
       "children": [
        "IPY_MODEL_ba18d469602341cf9a58cf3b0b22aea9",
        "IPY_MODEL_a4c3d9944af64d68b4ebc01e5dd2437c",
        "IPY_MODEL_4f4eb35c26b1492798fee9d3c4e5bb03"
       ],
       "layout": "IPY_MODEL_b8b02491395045f5875ce167c0210c27"
      }
     },
     "7d988be3a23740abb4b092b50a7de2b0": {
      "model_module": "@jupyter-widgets/controls",
      "model_module_version": "1.5.0",
      "model_name": "HTMLModel",
      "state": {
       "_dom_classes": [],
       "_model_module": "@jupyter-widgets/controls",
       "_model_module_version": "1.5.0",
       "_model_name": "HTMLModel",
       "_view_count": null,
       "_view_module": "@jupyter-widgets/controls",
       "_view_module_version": "1.5.0",
       "_view_name": "HTMLView",
       "description": "",
       "description_tooltip": null,
       "layout": "IPY_MODEL_aac3cc7d1f2849cebbc45462095c0a48",
       "placeholder": "​",
       "style": "IPY_MODEL_552e9ee63afb4e9f9437d29dadcbe0ee",
       "value": "Generate report structure: 100%"
      }
     },
     "7dc03db759c64b779a38890f763846f6": {
      "model_module": "@jupyter-widgets/controls",
      "model_module_version": "1.5.0",
      "model_name": "FloatProgressModel",
      "state": {
       "_dom_classes": [],
       "_model_module": "@jupyter-widgets/controls",
       "_model_module_version": "1.5.0",
       "_model_name": "FloatProgressModel",
       "_view_count": null,
       "_view_module": "@jupyter-widgets/controls",
       "_view_module_version": "1.5.0",
       "_view_name": "ProgressView",
       "bar_style": "success",
       "description": "",
       "description_tooltip": null,
       "layout": "IPY_MODEL_f599ccf3d064469b90cc2bb818d0d8cb",
       "max": 1,
       "min": 0,
       "orientation": "horizontal",
       "style": "IPY_MODEL_d047c358579f42de823c513d8b87bd54",
       "value": 1
      }
     },
     "7fa7a452971a43f893f67bea5d998d27": {
      "model_module": "@jupyter-widgets/controls",
      "model_module_version": "1.5.0",
      "model_name": "DescriptionStyleModel",
      "state": {
       "_model_module": "@jupyter-widgets/controls",
       "_model_module_version": "1.5.0",
       "_model_name": "DescriptionStyleModel",
       "_view_count": null,
       "_view_module": "@jupyter-widgets/base",
       "_view_module_version": "1.2.0",
       "_view_name": "StyleView",
       "description_width": ""
      }
     },
     "7fc985fe271c400f8d922006f845e02d": {
      "model_module": "@jupyter-widgets/controls",
      "model_module_version": "1.5.0",
      "model_name": "ProgressStyleModel",
      "state": {
       "_model_module": "@jupyter-widgets/controls",
       "_model_module_version": "1.5.0",
       "_model_name": "ProgressStyleModel",
       "_view_count": null,
       "_view_module": "@jupyter-widgets/base",
       "_view_module_version": "1.2.0",
       "_view_name": "StyleView",
       "bar_color": null,
       "description_width": ""
      }
     },
     "8003ac93421f49c0bcc8412a93783fdc": {
      "model_module": "@jupyter-widgets/controls",
      "model_module_version": "1.5.0",
      "model_name": "DescriptionStyleModel",
      "state": {
       "_model_module": "@jupyter-widgets/controls",
       "_model_module_version": "1.5.0",
       "_model_name": "DescriptionStyleModel",
       "_view_count": null,
       "_view_module": "@jupyter-widgets/base",
       "_view_module_version": "1.2.0",
       "_view_name": "StyleView",
       "description_width": ""
      }
     },
     "8b62d842cd4f41b79aa6da6cec427083": {
      "model_module": "@jupyter-widgets/base",
      "model_module_version": "1.2.0",
      "model_name": "LayoutModel",
      "state": {
       "_model_module": "@jupyter-widgets/base",
       "_model_module_version": "1.2.0",
       "_model_name": "LayoutModel",
       "_view_count": null,
       "_view_module": "@jupyter-widgets/base",
       "_view_module_version": "1.2.0",
       "_view_name": "LayoutView",
       "align_content": null,
       "align_items": null,
       "align_self": null,
       "border": null,
       "bottom": null,
       "display": null,
       "flex": null,
       "flex_flow": null,
       "grid_area": null,
       "grid_auto_columns": null,
       "grid_auto_flow": null,
       "grid_auto_rows": null,
       "grid_column": null,
       "grid_gap": null,
       "grid_row": null,
       "grid_template_areas": null,
       "grid_template_columns": null,
       "grid_template_rows": null,
       "height": null,
       "justify_content": null,
       "justify_items": null,
       "left": null,
       "margin": null,
       "max_height": null,
       "max_width": null,
       "min_height": null,
       "min_width": null,
       "object_fit": null,
       "object_position": null,
       "order": null,
       "overflow": null,
       "overflow_x": null,
       "overflow_y": null,
       "padding": null,
       "right": null,
       "top": null,
       "visibility": null,
       "width": null
      }
     },
     "8b71ddb9a01d466b91484d1f3e7d96af": {
      "model_module": "@jupyter-widgets/base",
      "model_module_version": "1.2.0",
      "model_name": "LayoutModel",
      "state": {
       "_model_module": "@jupyter-widgets/base",
       "_model_module_version": "1.2.0",
       "_model_name": "LayoutModel",
       "_view_count": null,
       "_view_module": "@jupyter-widgets/base",
       "_view_module_version": "1.2.0",
       "_view_name": "LayoutView",
       "align_content": null,
       "align_items": null,
       "align_self": null,
       "border": null,
       "bottom": null,
       "display": null,
       "flex": null,
       "flex_flow": null,
       "grid_area": null,
       "grid_auto_columns": null,
       "grid_auto_flow": null,
       "grid_auto_rows": null,
       "grid_column": null,
       "grid_gap": null,
       "grid_row": null,
       "grid_template_areas": null,
       "grid_template_columns": null,
       "grid_template_rows": null,
       "height": null,
       "justify_content": null,
       "justify_items": null,
       "left": null,
       "margin": null,
       "max_height": null,
       "max_width": null,
       "min_height": null,
       "min_width": null,
       "object_fit": null,
       "object_position": null,
       "order": null,
       "overflow": null,
       "overflow_x": null,
       "overflow_y": null,
       "padding": null,
       "right": null,
       "top": null,
       "visibility": null,
       "width": null
      }
     },
     "8bc5b0e540704062bebfd2be22d96e03": {
      "model_module": "@jupyter-widgets/controls",
      "model_module_version": "1.5.0",
      "model_name": "ProgressStyleModel",
      "state": {
       "_model_module": "@jupyter-widgets/controls",
       "_model_module_version": "1.5.0",
       "_model_name": "ProgressStyleModel",
       "_view_count": null,
       "_view_module": "@jupyter-widgets/base",
       "_view_module_version": "1.2.0",
       "_view_name": "StyleView",
       "bar_color": null,
       "description_width": ""
      }
     },
     "8f4ad3ed9b624449bb3951c1b78206d7": {
      "model_module": "@jupyter-widgets/controls",
      "model_module_version": "1.5.0",
      "model_name": "HBoxModel",
      "state": {
       "_dom_classes": [],
       "_model_module": "@jupyter-widgets/controls",
       "_model_module_version": "1.5.0",
       "_model_name": "HBoxModel",
       "_view_count": null,
       "_view_module": "@jupyter-widgets/controls",
       "_view_module_version": "1.5.0",
       "_view_name": "HBoxView",
       "box_style": "",
       "children": [
        "IPY_MODEL_5474ed5e459a4b07973ac3c6de3ae6e4",
        "IPY_MODEL_90e6c04395594a2baea9e529efd6cafb",
        "IPY_MODEL_b1a09a450d25455fb7d6f0fda505bb00"
       ],
       "layout": "IPY_MODEL_8b62d842cd4f41b79aa6da6cec427083"
      }
     },
     "90e6c04395594a2baea9e529efd6cafb": {
      "model_module": "@jupyter-widgets/controls",
      "model_module_version": "1.5.0",
      "model_name": "FloatProgressModel",
      "state": {
       "_dom_classes": [],
       "_model_module": "@jupyter-widgets/controls",
       "_model_module_version": "1.5.0",
       "_model_name": "FloatProgressModel",
       "_view_count": null,
       "_view_module": "@jupyter-widgets/controls",
       "_view_module_version": "1.5.0",
       "_view_name": "ProgressView",
       "bar_style": "success",
       "description": "",
       "description_tooltip": null,
       "layout": "IPY_MODEL_a8d065cce96144b3abede928e48b70d6",
       "max": 1,
       "min": 0,
       "orientation": "horizontal",
       "style": "IPY_MODEL_6b28a19b4fc34c7a8e973878b6f7c0a9",
       "value": 1
      }
     },
     "98237f92a3e04185a26d148ebfd67b53": {
      "model_module": "@jupyter-widgets/base",
      "model_module_version": "1.2.0",
      "model_name": "LayoutModel",
      "state": {
       "_model_module": "@jupyter-widgets/base",
       "_model_module_version": "1.2.0",
       "_model_name": "LayoutModel",
       "_view_count": null,
       "_view_module": "@jupyter-widgets/base",
       "_view_module_version": "1.2.0",
       "_view_name": "LayoutView",
       "align_content": null,
       "align_items": null,
       "align_self": null,
       "border": null,
       "bottom": null,
       "display": null,
       "flex": null,
       "flex_flow": null,
       "grid_area": null,
       "grid_auto_columns": null,
       "grid_auto_flow": null,
       "grid_auto_rows": null,
       "grid_column": null,
       "grid_gap": null,
       "grid_row": null,
       "grid_template_areas": null,
       "grid_template_columns": null,
       "grid_template_rows": null,
       "height": null,
       "justify_content": null,
       "justify_items": null,
       "left": null,
       "margin": null,
       "max_height": null,
       "max_width": null,
       "min_height": null,
       "min_width": null,
       "object_fit": null,
       "object_position": null,
       "order": null,
       "overflow": null,
       "overflow_x": null,
       "overflow_y": null,
       "padding": null,
       "right": null,
       "top": null,
       "visibility": null,
       "width": null
      }
     },
     "a4c3d9944af64d68b4ebc01e5dd2437c": {
      "model_module": "@jupyter-widgets/controls",
      "model_module_version": "1.5.0",
      "model_name": "FloatProgressModel",
      "state": {
       "_dom_classes": [],
       "_model_module": "@jupyter-widgets/controls",
       "_model_module_version": "1.5.0",
       "_model_name": "FloatProgressModel",
       "_view_count": null,
       "_view_module": "@jupyter-widgets/controls",
       "_view_module_version": "1.5.0",
       "_view_name": "ProgressView",
       "bar_style": "success",
       "description": "",
       "description_tooltip": null,
       "layout": "IPY_MODEL_c46b4f3793fa4e229cb30cfb2db5b75b",
       "max": 50,
       "min": 0,
       "orientation": "horizontal",
       "style": "IPY_MODEL_7fc985fe271c400f8d922006f845e02d",
       "value": 50
      }
     },
     "a8d065cce96144b3abede928e48b70d6": {
      "model_module": "@jupyter-widgets/base",
      "model_module_version": "1.2.0",
      "model_name": "LayoutModel",
      "state": {
       "_model_module": "@jupyter-widgets/base",
       "_model_module_version": "1.2.0",
       "_model_name": "LayoutModel",
       "_view_count": null,
       "_view_module": "@jupyter-widgets/base",
       "_view_module_version": "1.2.0",
       "_view_name": "LayoutView",
       "align_content": null,
       "align_items": null,
       "align_self": null,
       "border": null,
       "bottom": null,
       "display": null,
       "flex": null,
       "flex_flow": null,
       "grid_area": null,
       "grid_auto_columns": null,
       "grid_auto_flow": null,
       "grid_auto_rows": null,
       "grid_column": null,
       "grid_gap": null,
       "grid_row": null,
       "grid_template_areas": null,
       "grid_template_columns": null,
       "grid_template_rows": null,
       "height": null,
       "justify_content": null,
       "justify_items": null,
       "left": null,
       "margin": null,
       "max_height": null,
       "max_width": null,
       "min_height": null,
       "min_width": null,
       "object_fit": null,
       "object_position": null,
       "order": null,
       "overflow": null,
       "overflow_x": null,
       "overflow_y": null,
       "padding": null,
       "right": null,
       "top": null,
       "visibility": null,
       "width": null
      }
     },
     "a9a926e54eb9475da96c6213bac01c20": {
      "model_module": "@jupyter-widgets/controls",
      "model_module_version": "1.5.0",
      "model_name": "HTMLModel",
      "state": {
       "_dom_classes": [],
       "_model_module": "@jupyter-widgets/controls",
       "_model_module_version": "1.5.0",
       "_model_name": "HTMLModel",
       "_view_count": null,
       "_view_module": "@jupyter-widgets/controls",
       "_view_module_version": "1.5.0",
       "_view_name": "HTMLView",
       "description": "",
       "description_tooltip": null,
       "layout": "IPY_MODEL_1e1865bed82a4c90a94b4024f9c7b585",
       "placeholder": "​",
       "style": "IPY_MODEL_e6074bcf78cb4f2eab2fd3728ecc3838",
       "value": " 1/1 [00:11&lt;00:00, 11.20s/it]"
      }
     },
     "a9f8a338fef14fa4822404f98c9e4b01": {
      "model_module": "@jupyter-widgets/controls",
      "model_module_version": "1.5.0",
      "model_name": "FloatProgressModel",
      "state": {
       "_dom_classes": [],
       "_model_module": "@jupyter-widgets/controls",
       "_model_module_version": "1.5.0",
       "_model_name": "FloatProgressModel",
       "_view_count": null,
       "_view_module": "@jupyter-widgets/controls",
       "_view_module_version": "1.5.0",
       "_view_name": "ProgressView",
       "bar_style": "success",
       "description": "",
       "description_tooltip": null,
       "layout": "IPY_MODEL_adf7c0b9f9ad4328a5caec0007d0d89c",
       "max": 1,
       "min": 0,
       "orientation": "horizontal",
       "style": "IPY_MODEL_8bc5b0e540704062bebfd2be22d96e03",
       "value": 1
      }
     },
     "aa3e16338d604e4eb9a39e0299403146": {
      "model_module": "@jupyter-widgets/base",
      "model_module_version": "1.2.0",
      "model_name": "LayoutModel",
      "state": {
       "_model_module": "@jupyter-widgets/base",
       "_model_module_version": "1.2.0",
       "_model_name": "LayoutModel",
       "_view_count": null,
       "_view_module": "@jupyter-widgets/base",
       "_view_module_version": "1.2.0",
       "_view_name": "LayoutView",
       "align_content": null,
       "align_items": null,
       "align_self": null,
       "border": null,
       "bottom": null,
       "display": null,
       "flex": null,
       "flex_flow": null,
       "grid_area": null,
       "grid_auto_columns": null,
       "grid_auto_flow": null,
       "grid_auto_rows": null,
       "grid_column": null,
       "grid_gap": null,
       "grid_row": null,
       "grid_template_areas": null,
       "grid_template_columns": null,
       "grid_template_rows": null,
       "height": null,
       "justify_content": null,
       "justify_items": null,
       "left": null,
       "margin": null,
       "max_height": null,
       "max_width": null,
       "min_height": null,
       "min_width": null,
       "object_fit": null,
       "object_position": null,
       "order": null,
       "overflow": null,
       "overflow_x": null,
       "overflow_y": null,
       "padding": null,
       "right": null,
       "top": null,
       "visibility": null,
       "width": null
      }
     },
     "aac3cc7d1f2849cebbc45462095c0a48": {
      "model_module": "@jupyter-widgets/base",
      "model_module_version": "1.2.0",
      "model_name": "LayoutModel",
      "state": {
       "_model_module": "@jupyter-widgets/base",
       "_model_module_version": "1.2.0",
       "_model_name": "LayoutModel",
       "_view_count": null,
       "_view_module": "@jupyter-widgets/base",
       "_view_module_version": "1.2.0",
       "_view_name": "LayoutView",
       "align_content": null,
       "align_items": null,
       "align_self": null,
       "border": null,
       "bottom": null,
       "display": null,
       "flex": null,
       "flex_flow": null,
       "grid_area": null,
       "grid_auto_columns": null,
       "grid_auto_flow": null,
       "grid_auto_rows": null,
       "grid_column": null,
       "grid_gap": null,
       "grid_row": null,
       "grid_template_areas": null,
       "grid_template_columns": null,
       "grid_template_rows": null,
       "height": null,
       "justify_content": null,
       "justify_items": null,
       "left": null,
       "margin": null,
       "max_height": null,
       "max_width": null,
       "min_height": null,
       "min_width": null,
       "object_fit": null,
       "object_position": null,
       "order": null,
       "overflow": null,
       "overflow_x": null,
       "overflow_y": null,
       "padding": null,
       "right": null,
       "top": null,
       "visibility": null,
       "width": null
      }
     },
     "adf7c0b9f9ad4328a5caec0007d0d89c": {
      "model_module": "@jupyter-widgets/base",
      "model_module_version": "1.2.0",
      "model_name": "LayoutModel",
      "state": {
       "_model_module": "@jupyter-widgets/base",
       "_model_module_version": "1.2.0",
       "_model_name": "LayoutModel",
       "_view_count": null,
       "_view_module": "@jupyter-widgets/base",
       "_view_module_version": "1.2.0",
       "_view_name": "LayoutView",
       "align_content": null,
       "align_items": null,
       "align_self": null,
       "border": null,
       "bottom": null,
       "display": null,
       "flex": null,
       "flex_flow": null,
       "grid_area": null,
       "grid_auto_columns": null,
       "grid_auto_flow": null,
       "grid_auto_rows": null,
       "grid_column": null,
       "grid_gap": null,
       "grid_row": null,
       "grid_template_areas": null,
       "grid_template_columns": null,
       "grid_template_rows": null,
       "height": null,
       "justify_content": null,
       "justify_items": null,
       "left": null,
       "margin": null,
       "max_height": null,
       "max_width": null,
       "min_height": null,
       "min_width": null,
       "object_fit": null,
       "object_position": null,
       "order": null,
       "overflow": null,
       "overflow_x": null,
       "overflow_y": null,
       "padding": null,
       "right": null,
       "top": null,
       "visibility": null,
       "width": null
      }
     },
     "b0790db729a74457b1d381473d748b8a": {
      "model_module": "@jupyter-widgets/base",
      "model_module_version": "1.2.0",
      "model_name": "LayoutModel",
      "state": {
       "_model_module": "@jupyter-widgets/base",
       "_model_module_version": "1.2.0",
       "_model_name": "LayoutModel",
       "_view_count": null,
       "_view_module": "@jupyter-widgets/base",
       "_view_module_version": "1.2.0",
       "_view_name": "LayoutView",
       "align_content": null,
       "align_items": null,
       "align_self": null,
       "border": null,
       "bottom": null,
       "display": null,
       "flex": null,
       "flex_flow": null,
       "grid_area": null,
       "grid_auto_columns": null,
       "grid_auto_flow": null,
       "grid_auto_rows": null,
       "grid_column": null,
       "grid_gap": null,
       "grid_row": null,
       "grid_template_areas": null,
       "grid_template_columns": null,
       "grid_template_rows": null,
       "height": null,
       "justify_content": null,
       "justify_items": null,
       "left": null,
       "margin": null,
       "max_height": null,
       "max_width": null,
       "min_height": null,
       "min_width": null,
       "object_fit": null,
       "object_position": null,
       "order": null,
       "overflow": null,
       "overflow_x": null,
       "overflow_y": null,
       "padding": null,
       "right": null,
       "top": null,
       "visibility": null,
       "width": null
      }
     },
     "b1a09a450d25455fb7d6f0fda505bb00": {
      "model_module": "@jupyter-widgets/controls",
      "model_module_version": "1.5.0",
      "model_name": "HTMLModel",
      "state": {
       "_dom_classes": [],
       "_model_module": "@jupyter-widgets/controls",
       "_model_module_version": "1.5.0",
       "_model_name": "HTMLModel",
       "_view_count": null,
       "_view_module": "@jupyter-widgets/controls",
       "_view_module_version": "1.5.0",
       "_view_name": "HTMLView",
       "description": "",
       "description_tooltip": null,
       "layout": "IPY_MODEL_6f17d9d9c82c4179a703e6b4b458dcb2",
       "placeholder": "​",
       "style": "IPY_MODEL_6d4bcb70a3e940619712a90fd9ee4cef",
       "value": " 1/1 [00:29&lt;00:00, 29.17s/it]"
      }
     },
     "b8b02491395045f5875ce167c0210c27": {
      "model_module": "@jupyter-widgets/base",
      "model_module_version": "1.2.0",
      "model_name": "LayoutModel",
      "state": {
       "_model_module": "@jupyter-widgets/base",
       "_model_module_version": "1.2.0",
       "_model_name": "LayoutModel",
       "_view_count": null,
       "_view_module": "@jupyter-widgets/base",
       "_view_module_version": "1.2.0",
       "_view_name": "LayoutView",
       "align_content": null,
       "align_items": null,
       "align_self": null,
       "border": null,
       "bottom": null,
       "display": null,
       "flex": null,
       "flex_flow": null,
       "grid_area": null,
       "grid_auto_columns": null,
       "grid_auto_flow": null,
       "grid_auto_rows": null,
       "grid_column": null,
       "grid_gap": null,
       "grid_row": null,
       "grid_template_areas": null,
       "grid_template_columns": null,
       "grid_template_rows": null,
       "height": null,
       "justify_content": null,
       "justify_items": null,
       "left": null,
       "margin": null,
       "max_height": null,
       "max_width": null,
       "min_height": null,
       "min_width": null,
       "object_fit": null,
       "object_position": null,
       "order": null,
       "overflow": null,
       "overflow_x": null,
       "overflow_y": null,
       "padding": null,
       "right": null,
       "top": null,
       "visibility": null,
       "width": null
      }
     },
     "ba18d469602341cf9a58cf3b0b22aea9": {
      "model_module": "@jupyter-widgets/controls",
      "model_module_version": "1.5.0",
      "model_name": "HTMLModel",
      "state": {
       "_dom_classes": [],
       "_model_module": "@jupyter-widgets/controls",
       "_model_module_version": "1.5.0",
       "_model_name": "HTMLModel",
       "_view_count": null,
       "_view_module": "@jupyter-widgets/controls",
       "_view_module_version": "1.5.0",
       "_view_name": "HTMLView",
       "description": "",
       "description_tooltip": null,
       "layout": "IPY_MODEL_8b71ddb9a01d466b91484d1f3e7d96af",
       "placeholder": "​",
       "style": "IPY_MODEL_2816683bca8b403393d16ddce7f61451",
       "value": "Summarize dataset: 100%"
      }
     },
     "bd08b7d0ff3a427d89a418e30f1ab16c": {
      "model_module": "@jupyter-widgets/base",
      "model_module_version": "1.2.0",
      "model_name": "LayoutModel",
      "state": {
       "_model_module": "@jupyter-widgets/base",
       "_model_module_version": "1.2.0",
       "_model_name": "LayoutModel",
       "_view_count": null,
       "_view_module": "@jupyter-widgets/base",
       "_view_module_version": "1.2.0",
       "_view_name": "LayoutView",
       "align_content": null,
       "align_items": null,
       "align_self": null,
       "border": null,
       "bottom": null,
       "display": null,
       "flex": null,
       "flex_flow": null,
       "grid_area": null,
       "grid_auto_columns": null,
       "grid_auto_flow": null,
       "grid_auto_rows": null,
       "grid_column": null,
       "grid_gap": null,
       "grid_row": null,
       "grid_template_areas": null,
       "grid_template_columns": null,
       "grid_template_rows": null,
       "height": null,
       "justify_content": null,
       "justify_items": null,
       "left": null,
       "margin": null,
       "max_height": null,
       "max_width": null,
       "min_height": null,
       "min_width": null,
       "object_fit": null,
       "object_position": null,
       "order": null,
       "overflow": null,
       "overflow_x": null,
       "overflow_y": null,
       "padding": null,
       "right": null,
       "top": null,
       "visibility": null,
       "width": null
      }
     },
     "c46b4f3793fa4e229cb30cfb2db5b75b": {
      "model_module": "@jupyter-widgets/base",
      "model_module_version": "1.2.0",
      "model_name": "LayoutModel",
      "state": {
       "_model_module": "@jupyter-widgets/base",
       "_model_module_version": "1.2.0",
       "_model_name": "LayoutModel",
       "_view_count": null,
       "_view_module": "@jupyter-widgets/base",
       "_view_module_version": "1.2.0",
       "_view_name": "LayoutView",
       "align_content": null,
       "align_items": null,
       "align_self": null,
       "border": null,
       "bottom": null,
       "display": null,
       "flex": null,
       "flex_flow": null,
       "grid_area": null,
       "grid_auto_columns": null,
       "grid_auto_flow": null,
       "grid_auto_rows": null,
       "grid_column": null,
       "grid_gap": null,
       "grid_row": null,
       "grid_template_areas": null,
       "grid_template_columns": null,
       "grid_template_rows": null,
       "height": null,
       "justify_content": null,
       "justify_items": null,
       "left": null,
       "margin": null,
       "max_height": null,
       "max_width": null,
       "min_height": null,
       "min_width": null,
       "object_fit": null,
       "object_position": null,
       "order": null,
       "overflow": null,
       "overflow_x": null,
       "overflow_y": null,
       "padding": null,
       "right": null,
       "top": null,
       "visibility": null,
       "width": null
      }
     },
     "c4aa5744ad87433dbf595d79c833656c": {
      "model_module": "@jupyter-widgets/base",
      "model_module_version": "1.2.0",
      "model_name": "LayoutModel",
      "state": {
       "_model_module": "@jupyter-widgets/base",
       "_model_module_version": "1.2.0",
       "_model_name": "LayoutModel",
       "_view_count": null,
       "_view_module": "@jupyter-widgets/base",
       "_view_module_version": "1.2.0",
       "_view_name": "LayoutView",
       "align_content": null,
       "align_items": null,
       "align_self": null,
       "border": null,
       "bottom": null,
       "display": null,
       "flex": null,
       "flex_flow": null,
       "grid_area": null,
       "grid_auto_columns": null,
       "grid_auto_flow": null,
       "grid_auto_rows": null,
       "grid_column": null,
       "grid_gap": null,
       "grid_row": null,
       "grid_template_areas": null,
       "grid_template_columns": null,
       "grid_template_rows": null,
       "height": null,
       "justify_content": null,
       "justify_items": null,
       "left": null,
       "margin": null,
       "max_height": null,
       "max_width": null,
       "min_height": null,
       "min_width": null,
       "object_fit": null,
       "object_position": null,
       "order": null,
       "overflow": null,
       "overflow_x": null,
       "overflow_y": null,
       "padding": null,
       "right": null,
       "top": null,
       "visibility": null,
       "width": null
      }
     },
     "cf0f1a3dba55429b94630faccf8f142f": {
      "model_module": "@jupyter-widgets/base",
      "model_module_version": "1.2.0",
      "model_name": "LayoutModel",
      "state": {
       "_model_module": "@jupyter-widgets/base",
       "_model_module_version": "1.2.0",
       "_model_name": "LayoutModel",
       "_view_count": null,
       "_view_module": "@jupyter-widgets/base",
       "_view_module_version": "1.2.0",
       "_view_name": "LayoutView",
       "align_content": null,
       "align_items": null,
       "align_self": null,
       "border": null,
       "bottom": null,
       "display": null,
       "flex": null,
       "flex_flow": null,
       "grid_area": null,
       "grid_auto_columns": null,
       "grid_auto_flow": null,
       "grid_auto_rows": null,
       "grid_column": null,
       "grid_gap": null,
       "grid_row": null,
       "grid_template_areas": null,
       "grid_template_columns": null,
       "grid_template_rows": null,
       "height": null,
       "justify_content": null,
       "justify_items": null,
       "left": null,
       "margin": null,
       "max_height": null,
       "max_width": null,
       "min_height": null,
       "min_width": null,
       "object_fit": null,
       "object_position": null,
       "order": null,
       "overflow": null,
       "overflow_x": null,
       "overflow_y": null,
       "padding": null,
       "right": null,
       "top": null,
       "visibility": null,
       "width": null
      }
     },
     "d047c358579f42de823c513d8b87bd54": {
      "model_module": "@jupyter-widgets/controls",
      "model_module_version": "1.5.0",
      "model_name": "ProgressStyleModel",
      "state": {
       "_model_module": "@jupyter-widgets/controls",
       "_model_module_version": "1.5.0",
       "_model_name": "ProgressStyleModel",
       "_view_count": null,
       "_view_module": "@jupyter-widgets/base",
       "_view_module_version": "1.2.0",
       "_view_name": "StyleView",
       "bar_color": null,
       "description_width": ""
      }
     },
     "e367d8585ece43f3a5a07d2baf9a7f18": {
      "model_module": "@jupyter-widgets/controls",
      "model_module_version": "1.5.0",
      "model_name": "HBoxModel",
      "state": {
       "_dom_classes": [],
       "_model_module": "@jupyter-widgets/controls",
       "_model_module_version": "1.5.0",
       "_model_name": "HBoxModel",
       "_view_count": null,
       "_view_module": "@jupyter-widgets/controls",
       "_view_module_version": "1.5.0",
       "_view_name": "HBoxView",
       "box_style": "",
       "children": [
        "IPY_MODEL_7d988be3a23740abb4b092b50a7de2b0",
        "IPY_MODEL_7dc03db759c64b779a38890f763846f6",
        "IPY_MODEL_a9a926e54eb9475da96c6213bac01c20"
       ],
       "layout": "IPY_MODEL_b0790db729a74457b1d381473d748b8a"
      }
     },
     "e4589928473345f786402b635e35a412": {
      "model_module": "@jupyter-widgets/controls",
      "model_module_version": "1.5.0",
      "model_name": "ProgressStyleModel",
      "state": {
       "_model_module": "@jupyter-widgets/controls",
       "_model_module_version": "1.5.0",
       "_model_name": "ProgressStyleModel",
       "_view_count": null,
       "_view_module": "@jupyter-widgets/base",
       "_view_module_version": "1.2.0",
       "_view_name": "StyleView",
       "bar_color": null,
       "description_width": ""
      }
     },
     "e6074bcf78cb4f2eab2fd3728ecc3838": {
      "model_module": "@jupyter-widgets/controls",
      "model_module_version": "1.5.0",
      "model_name": "DescriptionStyleModel",
      "state": {
       "_model_module": "@jupyter-widgets/controls",
       "_model_module_version": "1.5.0",
       "_model_name": "DescriptionStyleModel",
       "_view_count": null,
       "_view_module": "@jupyter-widgets/base",
       "_view_module_version": "1.2.0",
       "_view_name": "StyleView",
       "description_width": ""
      }
     },
     "ec581eeca781490e94efaccfad85d37b": {
      "model_module": "@jupyter-widgets/controls",
      "model_module_version": "1.5.0",
      "model_name": "HBoxModel",
      "state": {
       "_dom_classes": [],
       "_model_module": "@jupyter-widgets/controls",
       "_model_module_version": "1.5.0",
       "_model_name": "HBoxModel",
       "_view_count": null,
       "_view_module": "@jupyter-widgets/controls",
       "_view_module_version": "1.5.0",
       "_view_name": "HBoxView",
       "box_style": "",
       "children": [
        "IPY_MODEL_19f5b02e6d3145de9146687274a9b90d",
        "IPY_MODEL_a9f8a338fef14fa4822404f98c9e4b01",
        "IPY_MODEL_55b5e671bdc54737914052f021be0b42"
       ],
       "layout": "IPY_MODEL_1aaccbf8980a4a87b279c54c0cd6ecdd"
      }
     },
     "ede833cb0df046c5a6a4d4ccd16aa2e3": {
      "model_module": "@jupyter-widgets/controls",
      "model_module_version": "1.5.0",
      "model_name": "HTMLModel",
      "state": {
       "_dom_classes": [],
       "_model_module": "@jupyter-widgets/controls",
       "_model_module_version": "1.5.0",
       "_model_name": "HTMLModel",
       "_view_count": null,
       "_view_module": "@jupyter-widgets/controls",
       "_view_module_version": "1.5.0",
       "_view_name": "HTMLView",
       "description": "",
       "description_tooltip": null,
       "layout": "IPY_MODEL_98237f92a3e04185a26d148ebfd67b53",
       "placeholder": "​",
       "style": "IPY_MODEL_762e5b00a7ec49938287a92e9a580d19",
       "value": "100%"
      }
     },
     "f56bfc6a11e948e28d78ea2301c2f477": {
      "model_module": "@jupyter-widgets/controls",
      "model_module_version": "1.5.0",
      "model_name": "FloatProgressModel",
      "state": {
       "_dom_classes": [],
       "_model_module": "@jupyter-widgets/controls",
       "_model_module_version": "1.5.0",
       "_model_name": "FloatProgressModel",
       "_view_count": null,
       "_view_module": "@jupyter-widgets/controls",
       "_view_module_version": "1.5.0",
       "_view_name": "ProgressView",
       "bar_style": "success",
       "description": "",
       "description_tooltip": null,
       "layout": "IPY_MODEL_350e60f28d9b48938c8cd3c7a65adfc8",
       "max": 20,
       "min": 0,
       "orientation": "horizontal",
       "style": "IPY_MODEL_e4589928473345f786402b635e35a412",
       "value": 20
      }
     },
     "f599ccf3d064469b90cc2bb818d0d8cb": {
      "model_module": "@jupyter-widgets/base",
      "model_module_version": "1.2.0",
      "model_name": "LayoutModel",
      "state": {
       "_model_module": "@jupyter-widgets/base",
       "_model_module_version": "1.2.0",
       "_model_name": "LayoutModel",
       "_view_count": null,
       "_view_module": "@jupyter-widgets/base",
       "_view_module_version": "1.2.0",
       "_view_name": "LayoutView",
       "align_content": null,
       "align_items": null,
       "align_self": null,
       "border": null,
       "bottom": null,
       "display": null,
       "flex": null,
       "flex_flow": null,
       "grid_area": null,
       "grid_auto_columns": null,
       "grid_auto_flow": null,
       "grid_auto_rows": null,
       "grid_column": null,
       "grid_gap": null,
       "grid_row": null,
       "grid_template_areas": null,
       "grid_template_columns": null,
       "grid_template_rows": null,
       "height": null,
       "justify_content": null,
       "justify_items": null,
       "left": null,
       "margin": null,
       "max_height": null,
       "max_width": null,
       "min_height": null,
       "min_width": null,
       "object_fit": null,
       "object_position": null,
       "order": null,
       "overflow": null,
       "overflow_x": null,
       "overflow_y": null,
       "padding": null,
       "right": null,
       "top": null,
       "visibility": null,
       "width": null
      }
     }
    },
    "version_major": 2,
    "version_minor": 0
   }
  }
 },
 "nbformat": 4,
 "nbformat_minor": 5
}
