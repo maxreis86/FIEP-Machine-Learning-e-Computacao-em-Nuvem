{
 "cells": [
  {
   "cell_type": "code",
   "execution_count": 1,
   "id": "c2db70c7-ff4b-4ce7-966e-dcfb1a831636",
   "metadata": {},
   "outputs": [],
   "source": [
    "import sys\n",
    "sys.path.append('/anaconda/envs/azureml_py38/lib/python3.8/site-packages')\n",
    "\n",
    "#importing the libraries\n",
    "import numpy as np\n",
    "import pandas as pd\n",
    "import seaborn as sns\n",
    "import matplotlib.pyplot as plt\n",
    "\n",
    "import torch\n",
    "import torch.nn as nn\n",
    "import torch.optim as optim\n",
    "from torch.utils.data import Dataset, DataLoader\n",
    "\n",
    "from sklearn.preprocessing import StandardScaler    \n",
    "from sklearn.model_selection import train_test_split\n",
    "from sklearn.metrics import confusion_matrix, classification_report"
   ]
  },
  {
   "cell_type": "code",
   "execution_count": 4,
   "id": "46509a4f-1acc-40e6-85c2-2987e8d8c5a8",
   "metadata": {},
   "outputs": [
    {
     "name": "stdout",
     "output_type": "stream",
     "text": [
      "shape of x: (569, 30)\n",
      "shape of y: (569,)\n"
     ]
    }
   ],
   "source": [
    "#importing the dataset\n",
    "from sklearn.datasets import load_breast_cancer\n",
    "data = load_breast_cancer()\n",
    "X = data['data']\n",
    "y = data['target']\n",
    "print(\"shape of x: {}\\nshape of y: {}\".format(X.shape,y.shape))"
   ]
  },
  {
   "cell_type": "code",
   "execution_count": 5,
   "id": "4e46ba4b-49ee-48b5-97f2-b280fdc0f115",
   "metadata": {},
   "outputs": [],
   "source": [
    "X_train, X_test, y_train, y_test = train_test_split(X, y, test_size=0.33, random_state=69)"
   ]
  },
  {
   "cell_type": "code",
   "execution_count": 6,
   "id": "e8b5fb7a-7c03-4e42-8dd9-d50999798523",
   "metadata": {},
   "outputs": [],
   "source": [
    "scaler = StandardScaler()\n",
    "X_train = scaler.fit_transform(X_train)\n",
    "X_test = scaler.transform(X_test)"
   ]
  },
  {
   "cell_type": "code",
   "execution_count": 7,
   "id": "4d6a0b88-c966-4384-b2a9-c28be7ab46d5",
   "metadata": {},
   "outputs": [],
   "source": [
    "EPOCHS = 50\n",
    "BATCH_SIZE = 64\n",
    "LEARNING_RATE = 0.001"
   ]
  },
  {
   "cell_type": "code",
   "execution_count": 8,
   "id": "e1d7d593-6544-40e8-ac00-1017fd30e2c9",
   "metadata": {},
   "outputs": [],
   "source": [
    "## train data\n",
    "class TrainData(Dataset):\n",
    "    \n",
    "    def __init__(self, X_data, y_data):\n",
    "        self.X_data = X_data\n",
    "        self.y_data = y_data\n",
    "        \n",
    "    def __getitem__(self, index):\n",
    "        return self.X_data[index], self.y_data[index]\n",
    "        \n",
    "    def __len__ (self):\n",
    "        return len(self.X_data)\n",
    "\n",
    "\n",
    "train_data = TrainData(torch.FloatTensor(X_train), \n",
    "                       torch.FloatTensor(y_train))\n",
    "## test data    \n",
    "class TestData(Dataset):\n",
    "    \n",
    "    def __init__(self, X_data):\n",
    "        self.X_data = X_data\n",
    "        \n",
    "    def __getitem__(self, index):\n",
    "        return self.X_data[index]\n",
    "        \n",
    "    def __len__ (self):\n",
    "        return len(self.X_data)\n",
    "    \n",
    "\n",
    "test_data = TestData(torch.FloatTensor(X_test))"
   ]
  },
  {
   "cell_type": "code",
   "execution_count": 9,
   "id": "ae8a98f2-cbe2-4c24-a52e-26e74d1bd4dc",
   "metadata": {},
   "outputs": [],
   "source": [
    "train_loader = DataLoader(dataset=train_data, batch_size=BATCH_SIZE, shuffle=True)\n",
    "test_loader = DataLoader(dataset=test_data, batch_size=1)"
   ]
  },
  {
   "cell_type": "code",
   "execution_count": 34,
   "id": "1dab93e2-ebf7-4ff8-8e88-ee363b80a5e4",
   "metadata": {},
   "outputs": [],
   "source": [
    "class BinaryClassification(nn.Module):\n",
    "    def __init__(self, features_number):\n",
    "        super(BinaryClassification, self).__init__()\n",
    "        # Number of input features is passed.\n",
    "        self.layer_1 = nn.Linear(features_number, 64) \n",
    "        self.layer_2 = nn.Linear(64, 64)\n",
    "        self.layer_out = nn.Linear(64, 1) \n",
    "        \n",
    "        self.relu = nn.ReLU()\n",
    "        self.dropout = nn.Dropout(p=0.1)\n",
    "        self.batchnorm1 = nn.BatchNorm1d(64)\n",
    "        self.batchnorm2 = nn.BatchNorm1d(64)\n",
    "        \n",
    "    def forward(self, inputs):\n",
    "        x = self.relu(self.layer_1(inputs))\n",
    "        x = self.batchnorm1(x)\n",
    "        x = self.relu(self.layer_2(x))\n",
    "        x = self.batchnorm2(x)\n",
    "        x = self.dropout(x)\n",
    "        x = self.layer_out(x)\n",
    "        \n",
    "        return x"
   ]
  },
  {
   "cell_type": "code",
   "execution_count": 21,
   "id": "f5198e44-e1ee-4cb7-8726-1452fe6eb28c",
   "metadata": {},
   "outputs": [
    {
     "name": "stdout",
     "output_type": "stream",
     "text": [
      "cuda:0\n"
     ]
    }
   ],
   "source": [
    "device = torch.device(\"cuda:0\" if torch.cuda.is_available() else \"cpu\")\n",
    "print(device)"
   ]
  },
  {
   "cell_type": "code",
   "execution_count": 30,
   "id": "0c1b1e23-2e92-4ee1-b1fd-344f4633f54d",
   "metadata": {},
   "outputs": [
    {
     "data": {
      "text/plain": [
       "30"
      ]
     },
     "execution_count": 30,
     "metadata": {},
     "output_type": "execute_result"
    }
   ],
   "source": [
    "len(X[0])"
   ]
  },
  {
   "cell_type": "code",
   "execution_count": 35,
   "id": "1d73f390-0b60-4a70-951e-11ae48542fb9",
   "metadata": {
    "tags": []
   },
   "outputs": [
    {
     "name": "stdout",
     "output_type": "stream",
     "text": [
      "BinaryClassification(\n",
      "  (layer_1): Linear(in_features=30, out_features=64, bias=True)\n",
      "  (layer_2): Linear(in_features=64, out_features=64, bias=True)\n",
      "  (layer_out): Linear(in_features=64, out_features=1, bias=True)\n",
      "  (relu): ReLU()\n",
      "  (dropout): Dropout(p=0.1, inplace=False)\n",
      "  (batchnorm1): BatchNorm1d(64, eps=1e-05, momentum=0.1, affine=True, track_running_stats=True)\n",
      "  (batchnorm2): BatchNorm1d(64, eps=1e-05, momentum=0.1, affine=True, track_running_stats=True)\n",
      ")\n"
     ]
    }
   ],
   "source": [
    "model = BinaryClassification(len(X[0]))\n",
    "model.to(device)\n",
    "print(model)\n",
    "criterion = nn.BCEWithLogitsLoss()\n",
    "optimizer = optim.Adam(model.parameters(), lr=LEARNING_RATE)"
   ]
  },
  {
   "cell_type": "code",
   "execution_count": 36,
   "id": "78950e14-8546-4735-8a3b-1f0897d43d9e",
   "metadata": {},
   "outputs": [],
   "source": [
    "def binary_acc(y_pred, y_test):\n",
    "    y_pred_tag = torch.round(torch.sigmoid(y_pred))\n",
    "\n",
    "    correct_results_sum = (y_pred_tag == y_test).sum().float()\n",
    "    acc = correct_results_sum/y_test.shape[0]\n",
    "    acc = torch.round(acc * 100)\n",
    "    \n",
    "    return acc"
   ]
  },
  {
   "cell_type": "code",
   "execution_count": 37,
   "id": "9b615228-adff-409f-bd9a-2bcc3471ac8d",
   "metadata": {},
   "outputs": [
    {
     "name": "stdout",
     "output_type": "stream",
     "text": [
      "Epoch 001: | Loss: 0.59750 | Acc: 67.333\n",
      "Epoch 002: | Loss: 0.38781 | Acc: 90.333\n",
      "Epoch 003: | Loss: 0.31255 | Acc: 91.167\n",
      "Epoch 004: | Loss: 0.24880 | Acc: 94.000\n",
      "Epoch 005: | Loss: 0.20793 | Acc: 95.500\n",
      "Epoch 006: | Loss: 0.20180 | Acc: 95.333\n",
      "Epoch 007: | Loss: 0.14928 | Acc: 97.667\n",
      "Epoch 008: | Loss: 0.12637 | Acc: 97.500\n",
      "Epoch 009: | Loss: 0.10578 | Acc: 98.833\n",
      "Epoch 010: | Loss: 0.10608 | Acc: 98.167\n",
      "Epoch 011: | Loss: 0.09037 | Acc: 99.000\n",
      "Epoch 012: | Loss: 0.08271 | Acc: 98.333\n",
      "Epoch 013: | Loss: 0.07255 | Acc: 99.000\n",
      "Epoch 014: | Loss: 0.06139 | Acc: 98.833\n",
      "Epoch 015: | Loss: 0.06914 | Acc: 98.167\n",
      "Epoch 016: | Loss: 0.05189 | Acc: 98.833\n",
      "Epoch 017: | Loss: 0.04808 | Acc: 99.000\n",
      "Epoch 018: | Loss: 0.04493 | Acc: 99.167\n",
      "Epoch 019: | Loss: 0.04264 | Acc: 98.833\n",
      "Epoch 020: | Loss: 0.03614 | Acc: 99.000\n",
      "Epoch 021: | Loss: 0.03890 | Acc: 98.833\n",
      "Epoch 022: | Loss: 0.03893 | Acc: 99.000\n",
      "Epoch 023: | Loss: 0.04398 | Acc: 98.667\n",
      "Epoch 024: | Loss: 0.03733 | Acc: 99.333\n",
      "Epoch 025: | Loss: 0.02998 | Acc: 99.167\n",
      "Epoch 026: | Loss: 0.03575 | Acc: 99.333\n",
      "Epoch 027: | Loss: 0.03074 | Acc: 99.333\n",
      "Epoch 028: | Loss: 0.02454 | Acc: 99.667\n",
      "Epoch 029: | Loss: 0.02683 | Acc: 99.500\n",
      "Epoch 030: | Loss: 0.01646 | Acc: 100.000\n",
      "Epoch 031: | Loss: 0.02061 | Acc: 99.667\n",
      "Epoch 032: | Loss: 0.02255 | Acc: 99.333\n",
      "Epoch 033: | Loss: 0.01850 | Acc: 99.667\n",
      "Epoch 034: | Loss: 0.02334 | Acc: 99.167\n",
      "Epoch 035: | Loss: 0.02752 | Acc: 99.167\n",
      "Epoch 036: | Loss: 0.01819 | Acc: 100.000\n",
      "Epoch 037: | Loss: 0.02215 | Acc: 99.167\n",
      "Epoch 038: | Loss: 0.01269 | Acc: 100.000\n",
      "Epoch 039: | Loss: 0.01761 | Acc: 99.667\n",
      "Epoch 040: | Loss: 0.01143 | Acc: 100.000\n",
      "Epoch 041: | Loss: 0.00948 | Acc: 100.000\n",
      "Epoch 042: | Loss: 0.01863 | Acc: 99.667\n",
      "Epoch 043: | Loss: 0.02929 | Acc: 99.167\n",
      "Epoch 044: | Loss: 0.01228 | Acc: 99.667\n",
      "Epoch 045: | Loss: 0.00863 | Acc: 100.000\n",
      "Epoch 046: | Loss: 0.00906 | Acc: 100.000\n",
      "Epoch 047: | Loss: 0.01382 | Acc: 100.000\n",
      "Epoch 048: | Loss: 0.01066 | Acc: 100.000\n",
      "Epoch 049: | Loss: 0.00757 | Acc: 100.000\n",
      "Epoch 050: | Loss: 0.01236 | Acc: 100.000\n"
     ]
    }
   ],
   "source": [
    "model.train()\n",
    "for e in range(1, EPOCHS+1):\n",
    "    epoch_loss = 0\n",
    "    epoch_acc = 0\n",
    "    for X_batch, y_batch in train_loader:\n",
    "        X_batch, y_batch = X_batch.to(device), y_batch.to(device)\n",
    "        optimizer.zero_grad()\n",
    "        \n",
    "        y_pred = model(X_batch)\n",
    "        \n",
    "        loss = criterion(y_pred, y_batch.unsqueeze(1))\n",
    "        acc = binary_acc(y_pred, y_batch.unsqueeze(1))\n",
    "        \n",
    "        loss.backward()\n",
    "        optimizer.step()\n",
    "        \n",
    "        epoch_loss += loss.item()\n",
    "        epoch_acc += acc.item()\n",
    "        \n",
    "\n",
    "    print(f'Epoch {e+0:03}: | Loss: {epoch_loss/len(train_loader):.5f} | Acc: {epoch_acc/len(train_loader):.3f}')"
   ]
  },
  {
   "cell_type": "code",
   "execution_count": 42,
   "id": "aca65d19-2e32-4072-acc6-514a881581ce",
   "metadata": {},
   "outputs": [
    {
     "data": {
      "text/plain": [
       "array([1.799e+01, 1.038e+01, 1.228e+02, 1.001e+03, 1.184e-01, 2.776e-01,\n",
       "       3.001e-01, 1.471e-01, 2.419e-01, 7.871e-02, 1.095e+00, 9.053e-01,\n",
       "       8.589e+00, 1.534e+02, 6.399e-03, 4.904e-02, 5.373e-02, 1.587e-02,\n",
       "       3.003e-02, 6.193e-03, 2.538e+01, 1.733e+01, 1.846e+02, 2.019e+03,\n",
       "       1.622e-01, 6.656e-01, 7.119e-01, 2.654e-01, 4.601e-01, 1.189e-01])"
      ]
     },
     "execution_count": 42,
     "metadata": {},
     "output_type": "execute_result"
    }
   ],
   "source": [
    "X[0]"
   ]
  },
  {
   "cell_type": "code",
   "execution_count": 43,
   "id": "70e2f3b5-d862-42fd-9ed5-6a789e607e8a",
   "metadata": {},
   "outputs": [
    {
     "data": {
      "text/plain": [
       "tensor([-0.1152, -0.3147, -0.1975, -0.1984, -1.2194, -1.1972, -0.8243, -0.8956,\n",
       "        -0.8758, -1.1265, -0.4829, -0.0973, -0.5380, -0.3511, -1.0614, -1.0820,\n",
       "        -0.7397, -1.1075, -0.9012, -1.0262, -0.1090,  0.1076, -0.1992, -0.2033,\n",
       "        -1.1716, -1.0890, -0.7442, -0.9210, -0.9479, -1.1503], device='cuda:0')"
      ]
     },
     "execution_count": 43,
     "metadata": {},
     "output_type": "execute_result"
    }
   ],
   "source": [
    "X_batch[0]"
   ]
  },
  {
   "cell_type": "code",
   "execution_count": 44,
   "id": "e563f65d-b123-4225-80a5-ecd5f4305b7c",
   "metadata": {},
   "outputs": [
    {
     "data": {
      "text/plain": [
       "tensor([[  4.2370],\n",
       "        [  3.8252],\n",
       "        [  6.5216],\n",
       "        [  5.1182],\n",
       "        [-14.5039],\n",
       "        [  4.8069],\n",
       "        [  4.8609],\n",
       "        [  4.8003],\n",
       "        [  5.3774],\n",
       "        [ -9.3326],\n",
       "        [  6.9971],\n",
       "        [ -6.0142],\n",
       "        [  6.3067],\n",
       "        [  7.8310],\n",
       "        [  4.4928],\n",
       "        [-10.7606],\n",
       "        [  4.7279],\n",
       "        [  6.4984],\n",
       "        [  7.5996],\n",
       "        [  7.4307],\n",
       "        [  6.9249],\n",
       "        [  5.1484],\n",
       "        [ -6.8333],\n",
       "        [ -7.3271],\n",
       "        [-11.0650],\n",
       "        [  7.2275],\n",
       "        [  7.0271],\n",
       "        [-10.8509],\n",
       "        [ -8.7718],\n",
       "        [ -8.7296],\n",
       "        [  7.3190],\n",
       "        [  5.0150],\n",
       "        [-12.9676],\n",
       "        [ -8.8649],\n",
       "        [  6.7360],\n",
       "        [  7.2112],\n",
       "        [  5.2709],\n",
       "        [  7.7155],\n",
       "        [-11.5559],\n",
       "        [  5.1562],\n",
       "        [ -9.3724],\n",
       "        [  4.4835],\n",
       "        [  2.1669],\n",
       "        [  6.0359],\n",
       "        [  6.6899],\n",
       "        [  5.0686],\n",
       "        [  6.1712],\n",
       "        [  3.3034],\n",
       "        [-10.0986],\n",
       "        [-10.4652],\n",
       "        [  5.0073],\n",
       "        [ -9.1658],\n",
       "        [-14.0623],\n",
       "        [  5.9469],\n",
       "        [  5.2574],\n",
       "        [ -9.3467],\n",
       "        [  7.2389],\n",
       "        [  4.0983],\n",
       "        [  4.2158],\n",
       "        [  7.9281],\n",
       "        [  6.2317]], device='cuda:0', grad_fn=<AddmmBackward0>)"
      ]
     },
     "execution_count": 44,
     "metadata": {},
     "output_type": "execute_result"
    }
   ],
   "source": [
    "model(X_batch)"
   ]
  },
  {
   "cell_type": "code",
   "execution_count": null,
   "id": "0285f03a-229c-406e-a06a-00d0ae7c2566",
   "metadata": {},
   "outputs": [],
   "source": []
  }
 ],
 "metadata": {
  "kernelspec": {
   "display_name": "Python 3.8 - Pytorch and Tensorflow",
   "language": "python",
   "name": "python38-azureml-pt-tf"
  },
  "language_info": {
   "codemirror_mode": {
    "name": "ipython",
    "version": 3
   },
   "file_extension": ".py",
   "mimetype": "text/x-python",
   "name": "python",
   "nbconvert_exporter": "python",
   "pygments_lexer": "ipython3",
   "version": "3.8.5"
  }
 },
 "nbformat": 4,
 "nbformat_minor": 5
}
