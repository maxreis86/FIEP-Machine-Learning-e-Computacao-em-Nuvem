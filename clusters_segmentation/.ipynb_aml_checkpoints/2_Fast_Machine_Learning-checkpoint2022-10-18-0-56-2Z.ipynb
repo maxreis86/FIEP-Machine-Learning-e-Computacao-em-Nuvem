{
  "cells": [
    {
      "cell_type": "code",
      "source": [
        "#cluster as string\n",
        "#Precision on kmeans\n",
        "#Kmeans++\n",
        "#Number of clusters\n",
        "#best model?\n",
        "#Explain kmenas\n",
        "#silhouette and elbow\n",
        "#normalizar as variáveis para não dar peso maior para variáveis com valores mais altos\n",
        "#como usar as categoricas no kmeans?"
      ],
      "outputs": [],
      "execution_count": 1,
      "metadata": {
        "gather": {
          "logged": 1668732653719
        }
      },
      "id": "21ed5382-726c-4435-901e-497332b58799"
    },
    {
      "cell_type": "markdown",
      "source": [
        "# Train and Compare Machine Learning Models\n",
        "* To succecfully run this notebook you need a python3.7 kernel with requirements in ./sagemaker-custom-image/requirements.txt"
      ],
      "metadata": {
        "tags": []
      },
      "id": "9b9a345b"
    },
    {
      "cell_type": "markdown",
      "source": [
        "## This notebook will help you to do:\n",
        "* Import train and test data\n",
        "* Run many ML algorithms using H2O AutoML\n",
        "* Compare all model performance in test dataset\n",
        "* Choosing and save the best model"
      ],
      "metadata": {
        "papermill": {
          "duration": 0.04859,
          "end_time": "2021-04-22T18:42:32.131294",
          "exception": false,
          "start_time": "2021-04-22T18:42:32.082704",
          "status": "completed"
        },
        "tags": []
      },
      "id": "7e1cd532"
    },
    {
      "cell_type": "markdown",
      "source": [
        "# 1. Parameters"
      ],
      "metadata": {
        "papermill": {
          "duration": 0.046916,
          "end_time": "2021-04-22T18:42:32.225806",
          "exception": false,
          "start_time": "2021-04-22T18:42:32.178890",
          "status": "completed"
        },
        "tags": []
      },
      "id": "bc9fc03d"
    },
    {
      "cell_type": "code",
      "source": [
        "#Name\n",
        "ModelName = 'titanic_segmentation_model'\n",
        "\n",
        "#Setting the VarId and VarDate parameters\n",
        "VarId = 'PassengerId'\n",
        "VarDate = 'ReferenceDate'\n",
        "\n",
        "#process outputs such as MOJO model, images and performance of tested models\n",
        "OutputPath = './output_model/'\n",
        "\n",
        "#If you have a huge dataset, I should consider use a small sample for first execution\n",
        "PctSampleSize = 1\n",
        "\n",
        "\n",
        "#Version\n",
        "ModelVersion = 'v1'\n",
        "\n",
        "#Model ID\n",
        "ModelId = ModelName+'_'+ModelVersion\n",
        "\n",
        "#It is necessary to define the types of variables (cageroric and numeric) to ensure that the type of data used in the modeling will be the most suitable.\n",
        "#For example, categorical variables need to be defined as a string because this prevents it from being treated as a numeric variable in H20 modeling\n",
        "#Another example is that the string variables will have a missing treatment by placing the missing category for all values found as 'null'\n",
        "CAT = ['Pclass'\n",
        ",'Embarked'\n",
        ",'cabine_prefix'\n",
        ",'Ticket_str'\n",
        ",'NameTitle']\n",
        "\n",
        "#float\n",
        "NUM = ['Fare'\n",
        ",'SibSp'\n",
        ",'Parch'\n",
        ",'Age_Mean'\n",
        ",'Ticket_int']\n",
        "selected_features = CAT + NUM"
      ],
      "outputs": [],
      "execution_count": 3,
      "metadata": {
        "papermill": {
          "duration": 0.055908,
          "end_time": "2021-04-22T18:42:32.329142",
          "exception": false,
          "start_time": "2021-04-22T18:42:32.273234",
          "status": "completed"
        },
        "tags": [],
        "gather": {
          "logged": 1668732689618
        }
      },
      "id": "066f3b3e"
    },
    {
      "cell_type": "markdown",
      "source": [
        "# 2. Import Libraries"
      ],
      "metadata": {
        "papermill": {
          "duration": 0.047515,
          "end_time": "2021-04-22T18:42:32.423393",
          "exception": false,
          "start_time": "2021-04-22T18:42:32.375878",
          "status": "completed"
        },
        "tags": []
      },
      "id": "194dae3d"
    },
    {
      "cell_type": "code",
      "source": [
        "import functools\n",
        "import os\n",
        "from time import gmtime, strftime, sleep\n",
        "import datetime as dt\n",
        "import pandas as pd\n",
        "import numpy as np\n",
        "import glob\n",
        "import h2o\n",
        "import matplotlib.pyplot as plt\n",
        "from sklearn import metrics\n",
        "import shutil\n",
        "import seaborn as sns\n",
        "from io import StringIO\n",
        "import warnings\n",
        "warnings.filterwarnings(\"ignore\", category=FutureWarning)"
      ],
      "outputs": [],
      "execution_count": 4,
      "metadata": {
        "papermill": {
          "duration": 9.765238,
          "end_time": "2021-04-22T18:42:42.235677",
          "exception": false,
          "start_time": "2021-04-22T18:42:32.470439",
          "status": "completed"
        },
        "tags": [],
        "gather": {
          "logged": 1668732707541
        }
      },
      "id": "d9fe0364"
    },
    {
      "cell_type": "markdown",
      "source": [
        "# 3. Importing Data for Modeling"
      ],
      "metadata": {
        "papermill": {
          "duration": 0.045874,
          "end_time": "2021-04-22T18:42:42.327994",
          "exception": false,
          "start_time": "2021-04-22T18:42:42.282120",
          "status": "completed"
        },
        "tags": []
      },
      "id": "31e39df3"
    },
    {
      "cell_type": "code",
      "source": [
        "dataprep_df_full = pd.read_csv('./titanic/dataprep_df.csv')"
      ],
      "outputs": [],
      "execution_count": 5,
      "metadata": {
        "gather": {
          "logged": 1668732734663
        }
      },
      "id": "b1365408"
    },
    {
      "cell_type": "code",
      "source": [
        "dataprep_df_full.head()"
      ],
      "outputs": [
        {
          "output_type": "execute_result",
          "execution_count": 6,
          "data": {
            "text/plain": "   Pclass Embarked cabine_prefix Ticket_str NameTitle     Fare  SibSp  Parch  \\\n0       3        S       missing          A        Mr   7.2500    1.0    0.0   \n1       1        C             C         PC       Mrs  71.2833    1.0    0.0   \n2       3        S       missing      STONO      Miss   7.9250    0.0    0.0   \n3       1        S             C    missing       Mrs  53.1000    1.0    0.0   \n4       3        S       missing    missing        Mr   8.0500    0.0    0.0   \n\n   Age_Mean  Ticket_int  PassengerId ReferenceDate dataset  \n0      22.0    521171.0            1       1912-05   train  \n1      38.0     17599.0            2       1912-04   train  \n2      26.0  23101282.0            3       1912-06   train  \n3      35.0    113803.0            4       1912-04   train  \n4      35.0    373450.0            5       1912-07    test  ",
            "text/html": "<div>\n<style scoped>\n    .dataframe tbody tr th:only-of-type {\n        vertical-align: middle;\n    }\n\n    .dataframe tbody tr th {\n        vertical-align: top;\n    }\n\n    .dataframe thead th {\n        text-align: right;\n    }\n</style>\n<table border=\"1\" class=\"dataframe\">\n  <thead>\n    <tr style=\"text-align: right;\">\n      <th></th>\n      <th>Pclass</th>\n      <th>Embarked</th>\n      <th>cabine_prefix</th>\n      <th>Ticket_str</th>\n      <th>NameTitle</th>\n      <th>Fare</th>\n      <th>SibSp</th>\n      <th>Parch</th>\n      <th>Age_Mean</th>\n      <th>Ticket_int</th>\n      <th>PassengerId</th>\n      <th>ReferenceDate</th>\n      <th>dataset</th>\n    </tr>\n  </thead>\n  <tbody>\n    <tr>\n      <th>0</th>\n      <td>3</td>\n      <td>S</td>\n      <td>missing</td>\n      <td>A</td>\n      <td>Mr</td>\n      <td>7.2500</td>\n      <td>1.0</td>\n      <td>0.0</td>\n      <td>22.0</td>\n      <td>521171.0</td>\n      <td>1</td>\n      <td>1912-05</td>\n      <td>train</td>\n    </tr>\n    <tr>\n      <th>1</th>\n      <td>1</td>\n      <td>C</td>\n      <td>C</td>\n      <td>PC</td>\n      <td>Mrs</td>\n      <td>71.2833</td>\n      <td>1.0</td>\n      <td>0.0</td>\n      <td>38.0</td>\n      <td>17599.0</td>\n      <td>2</td>\n      <td>1912-04</td>\n      <td>train</td>\n    </tr>\n    <tr>\n      <th>2</th>\n      <td>3</td>\n      <td>S</td>\n      <td>missing</td>\n      <td>STONO</td>\n      <td>Miss</td>\n      <td>7.9250</td>\n      <td>0.0</td>\n      <td>0.0</td>\n      <td>26.0</td>\n      <td>23101282.0</td>\n      <td>3</td>\n      <td>1912-06</td>\n      <td>train</td>\n    </tr>\n    <tr>\n      <th>3</th>\n      <td>1</td>\n      <td>S</td>\n      <td>C</td>\n      <td>missing</td>\n      <td>Mrs</td>\n      <td>53.1000</td>\n      <td>1.0</td>\n      <td>0.0</td>\n      <td>35.0</td>\n      <td>113803.0</td>\n      <td>4</td>\n      <td>1912-04</td>\n      <td>train</td>\n    </tr>\n    <tr>\n      <th>4</th>\n      <td>3</td>\n      <td>S</td>\n      <td>missing</td>\n      <td>missing</td>\n      <td>Mr</td>\n      <td>8.0500</td>\n      <td>0.0</td>\n      <td>0.0</td>\n      <td>35.0</td>\n      <td>373450.0</td>\n      <td>5</td>\n      <td>1912-07</td>\n      <td>test</td>\n    </tr>\n  </tbody>\n</table>\n</div>"
          },
          "metadata": {}
        }
      ],
      "execution_count": 6,
      "metadata": {
        "gather": {
          "logged": 1668732739146
        }
      },
      "id": "cb9a284f-c10b-4e3f-9749-d5894306c03b"
    },
    {
      "cell_type": "code",
      "source": [
        "#Work with a sample data if the PctSampleSize is less than 1\n",
        "if PctSampleSize == 1:\n",
        "    dataprep_df = dataprep_df_full.copy()\n",
        "else:\n",
        "    dataprep_df = dataprep_df_full.sample(frac=PctSampleSize, replace=False, random_state=1)\n",
        "del dataprep_df_full"
      ],
      "outputs": [],
      "execution_count": 7,
      "metadata": {
        "papermill": {
          "duration": 0.054085,
          "end_time": "2021-04-22T18:42:42.984342",
          "exception": false,
          "start_time": "2021-04-22T18:42:42.930257",
          "status": "completed"
        },
        "tags": [],
        "gather": {
          "logged": 1668732744978
        }
      },
      "id": "ff809ba1"
    },
    {
      "cell_type": "code",
      "source": [
        "#Numeric features must be float type\n",
        "for col_name in NUM:\n",
        "    dataprep_df[col_name] = dataprep_df[col_name].astype(float)\n",
        "\n",
        "#Categorical features must be string type and null values will be filled with \"missing\"\n",
        "for col_name in CAT:\n",
        "    dataprep_df[col_name] = dataprep_df[col_name].astype(str)"
      ],
      "outputs": [],
      "execution_count": 8,
      "metadata": {
        "papermill": {
          "duration": 1.860101,
          "end_time": "2021-04-22T18:45:15.821982",
          "exception": false,
          "start_time": "2021-04-22T18:45:13.961881",
          "status": "completed"
        },
        "tags": [],
        "gather": {
          "logged": 1668732748080
        }
      },
      "id": "10f40f8d"
    },
    {
      "cell_type": "code",
      "source": [
        "#plot the final dataset with time period, train and test definitions\n",
        "dataprep_target = dataprep_df[[VarDate, VarId, 'dataset']].groupby(by=[VarDate, 'dataset']).agg({VarId:'count'})\n",
        "dataprep_target[VarId].plot(secondary_y=False, kind='bar', rot=90, figsize=(15,5), linewidth=2, fontsize=12, grid=True, legend=1, title=(\"# Observations\"))"
      ],
      "outputs": [
        {
          "output_type": "execute_result",
          "execution_count": 10,
          "data": {
            "text/plain": "<matplotlib.axes._subplots.AxesSubplot at 0x7f146bb51f40>"
          },
          "metadata": {}
        },
        {
          "output_type": "display_data",
          "data": {
            "text/plain": "<Figure size 1500x500 with 1 Axes>",
            "image/png": "[encoded data removed]"
          },
          "metadata": {}
        }
      ],
      "execution_count": 10,
      "metadata": {
        "gather": {
          "logged": 1668732776959
        }
      },
      "id": "a154fd86"
    },
    {
      "cell_type": "markdown",
      "source": [
        "## 3.1 Treatment of Numeric Missing Data"
      ],
      "metadata": {},
      "id": "6723de5a"
    },
    {
      "cell_type": "code",
      "source": [
        "#Create the \"Missing\" category for missing values in string vaviables\n",
        "# dataprep_df = dataprep_df.apply(lambda x: x.fillna(np.nan) if x.dtype.kind in 'biufc' else x.fillna('Missing'))"
      ],
      "outputs": [],
      "execution_count": 11,
      "metadata": {
        "gather": {
          "logged": 1668732783221
        }
      },
      "id": "899aa941"
    },
    {
      "cell_type": "code",
      "source": [
        "#Tratamento da idade\n",
        "# dataprep_df['age_mean'] = dataprep_df['age'].fillna(dataprep_df['age'].mean())"
      ],
      "outputs": [],
      "execution_count": 12,
      "metadata": {
        "gather": {
          "logged": 1668732783631
        }
      },
      "id": "ecbf9803"
    },
    {
      "cell_type": "markdown",
      "source": [
        "## 3.2 Outliers Removing"
      ],
      "metadata": {},
      "id": "9ad40624"
    },
    {
      "cell_type": "code",
      "source": [
        "# var = 'max_salary_offered_to_prev_application'\n",
        "\n",
        "# q_low = dataprep_df[var].quantile(0.00012)\n",
        "# q_hi  = dataprep_df[var].quantile(0.9999)\n",
        "# print('Low: ' + str(q_low))\n",
        "# print('High: ' + str(q_hi))\n",
        "# print('Reduction: ' \n",
        "#       + \"{0:.2%}\".format(len(dataprep_df[(dataprep_df[var] <= q_hi) & (dataprep_df[var] >= q_low)])/len(dataprep_df)-1) \n",
        "#       + \" | \" \n",
        "#       + str(len(dataprep_df)-len(dataprep_df[(dataprep_df[var] <= q_hi) & (dataprep_df[var] >= q_low)])))\n",
        "\n",
        "# def plot_comparison(x, title, low, high):\n",
        "#     fig, ax = plt.subplots(3, 1, sharex=True, constrained_layout=True, figsize=(15,5))\n",
        "#     fig.suptitle(title, fontsize=16)\n",
        "#     sns.distplot(x.rename(\"\"), ax=ax[0])\n",
        "#     ax[0].set_title('Histogram + KDE')\n",
        "#     sns.boxplot(x.rename(\"\"), ax=ax[1])\n",
        "#     ax[1].set_title('Boxplot')\n",
        "#     sns.violinplot(x.rename(\"\"), ax=ax[2])\n",
        "#     ax[2].set_title('Violin plot')\n",
        "#     # only one line may be specified; full height\n",
        "#     ax[1].axvline(x = low, color = 'red')\n",
        "#     ax[1].axvline(x = high, color = 'red')\n",
        "#     plt.show()\n",
        "    \n",
        "# plot_comparison(dataprep_df[var], var, q_low, q_hi)\n",
        "\n",
        "# dataprep_df = dataprep_df[(dataprep_df[var] <= q_hi) & (dataprep_df[var] >= q_low)]"
      ],
      "outputs": [],
      "execution_count": 13,
      "metadata": {
        "gather": {
          "logged": 1668732784846
        }
      },
      "id": "ed9f0165"
    },
    {
      "cell_type": "markdown",
      "source": [
        "# 4. Modeling"
      ],
      "metadata": {
        "papermill": {
          "duration": 1.872284,
          "end_time": "2021-04-22T18:45:55.674812",
          "exception": false,
          "start_time": "2021-04-22T18:45:53.802528",
          "status": "completed"
        },
        "tags": []
      },
      "id": "96c5d9b2"
    },
    {
      "cell_type": "markdown",
      "source": [
        "## 4.1 Traning Models with H2O AutoML"
      ],
      "metadata": {},
      "id": "75140177"
    },
    {
      "cell_type": "markdown",
      "source": [
        "## 4.1.1 Creating context and H2O and Importing data into the H2O context"
      ],
      "metadata": {
        "papermill": {
          "duration": 1.852401,
          "end_time": "2021-04-22T18:45:59.917491",
          "exception": false,
          "start_time": "2021-04-22T18:45:58.065090",
          "status": "completed"
        },
        "tags": []
      },
      "id": "60dfd052"
    },
    {
      "cell_type": "code",
      "source": [
        "# Number of threads, nthreads = -1, means use all cores on your machine\n",
        "# max_mem_size is the maximum memory (in GB) to allocate to H2O\n",
        "h2o.init(nthreads = -1)"
      ],
      "outputs": [
        {
          "output_type": "stream",
          "name": "stdout",
          "text": "Checking whether there is an H2O instance running at http://localhost:54321 . connected.\nWarning: Your H2O cluster version is too old (4 months and 9 days)!Please download and install the latest version from http://h2o.ai/download/\n"
        },
        {
          "output_type": "display_data",
          "data": {
            "text/plain": "--------------------------  --------------------------------\nH2O_cluster_uptime:         1 hour 5 mins\nH2O_cluster_timezone:       Etc/UTC\nH2O_data_parsing_timezone:  UTC\nH2O_cluster_version:        3.36.1.3\nH2O_cluster_version_age:    4 months and 9 days !!!\nH2O_cluster_name:           H2O_from_python_azureuser_khend1\nH2O_cluster_total_nodes:    1\nH2O_cluster_free_memory:    879 Mb\nH2O_cluster_total_cores:    2\nH2O_cluster_allowed_cores:  2\nH2O_cluster_status:         locked, healthy\nH2O_connection_url:         http://localhost:54321\nH2O_connection_proxy:       {\"http\": null, \"https\": null}\nH2O_internal_security:      False\nPython_version:             3.8.5 final\n--------------------------  --------------------------------",
            "text/html": "<div style=\"overflow:auto\"><table style=\"width:50%\"><tr><td>H2O_cluster_uptime:</td>\n<td>1 hour 5 mins</td></tr>\n<tr><td>H2O_cluster_timezone:</td>\n<td>Etc/UTC</td></tr>\n<tr><td>H2O_data_parsing_timezone:</td>\n<td>UTC</td></tr>\n<tr><td>H2O_cluster_version:</td>\n<td>3.36.1.3</td></tr>\n<tr><td>H2O_cluster_version_age:</td>\n<td>4 months and 9 days !!!</td></tr>\n<tr><td>H2O_cluster_name:</td>\n<td>H2O_from_python_azureuser_khend1</td></tr>\n<tr><td>H2O_cluster_total_nodes:</td>\n<td>1</td></tr>\n<tr><td>H2O_cluster_free_memory:</td>\n<td>879 Mb</td></tr>\n<tr><td>H2O_cluster_total_cores:</td>\n<td>2</td></tr>\n<tr><td>H2O_cluster_allowed_cores:</td>\n<td>2</td></tr>\n<tr><td>H2O_cluster_status:</td>\n<td>locked, healthy</td></tr>\n<tr><td>H2O_connection_url:</td>\n<td>http://localhost:54321</td></tr>\n<tr><td>H2O_connection_proxy:</td>\n<td>{\"http\": null, \"https\": null}</td></tr>\n<tr><td>H2O_internal_security:</td>\n<td>False</td></tr>\n<tr><td>Python_version:</td>\n<td>3.8.5 final</td></tr></table></div>"
          },
          "metadata": {}
        }
      ],
      "execution_count": 14,
      "metadata": {
        "papermill": {
          "duration": 9.429937,
          "end_time": "2021-04-22T18:46:11.178938",
          "exception": false,
          "start_time": "2021-04-22T18:46:01.749001",
          "status": "completed"
        },
        "tags": [],
        "gather": {
          "logged": 1668732798079
        }
      },
      "id": "76d4da38"
    },
    {
      "cell_type": "code",
      "source": [
        "#Import TRAINING base to the H20 context\n",
        "data_hdf = h2o.H2OFrame(dataprep_df.query('dataset == \"train\"').loc[:, (selected_features)])\n",
        "\n",
        "# Conversion of Target variables and categorical features to factor (enum)\n",
        "#no H2O it is necessary that the categorical variables are transformed into a factor\n",
        "for col_name in CAT:\n",
        "    data_hdf[col_name] = data_hdf[col_name].asfactor()\n",
        "for col_name in NUM:\n",
        "    data_hdf[col_name] = data_hdf[col_name].asnumeric()\n",
        "    \n",
        "# Partition data into 90%, 10% chunks\n",
        "# Setting a seed will guarantee reproducibility\n",
        "train_hdf, valid_hdf = data_hdf.split_frame(ratios=[0.90], destination_frames=['train_hdf', 'valid_hdf'], seed=1)\n",
        "        \n",
        "#Notice that `split_frame()` uses approximate splitting not exact splitting (for efficiency), so these are not exactly 90%, 10% of the total rows.\n",
        "print('Training: ' + str(train_hdf.nrow))\n",
        "print('Validation: ' + str(valid_hdf.nrow))"
      ],
      "outputs": [
        {
          "output_type": "stream",
          "name": "stdout",
          "text": "Parse progress: |████████████████████████████████████████████████████████████████| (done) 100%\nTraining: 606\nValidation: 64\n"
        }
      ],
      "execution_count": 15,
      "metadata": {
        "papermill": {
          "duration": 6.347148,
          "end_time": "2021-04-22T18:46:19.457051",
          "exception": false,
          "start_time": "2021-04-22T18:46:13.109903",
          "status": "completed"
        },
        "tags": [],
        "gather": {
          "logged": 1668732815858
        }
      },
      "id": "02669d63"
    },
    {
      "cell_type": "code",
      "source": [
        "#Import TEST base to the H20 context\n",
        "test_hdf = h2o.H2OFrame(dataprep_df.query('dataset == \"test\"').loc[:, (selected_features)])\n",
        "\n",
        "# Conversion of Target variables and categorical features to factor (enum)\n",
        "#no H2O it is necessary that the categorical variables are transformed into a factor\n",
        "for col_name in CAT:\n",
        "    test_hdf[col_name] = test_hdf[col_name].asfactor()\n",
        "for col_name in NUM:\n",
        "    test_hdf[col_name] = test_hdf[col_name].asnumeric()\n",
        "    \n",
        "print('Test: ' + str(test_hdf.nrow))"
      ],
      "outputs": [
        {
          "output_type": "stream",
          "name": "stdout",
          "text": "Parse progress: |████████████████████████████████████████████████████████████████| (done) 100%\nTest: 221\n"
        }
      ],
      "execution_count": 16,
      "metadata": {
        "papermill": {
          "duration": 2.207041,
          "end_time": "2021-04-22T18:46:25.310701",
          "exception": false,
          "start_time": "2021-04-22T18:46:23.103660",
          "status": "completed"
        },
        "tags": [],
        "gather": {
          "logged": 1668732819634
        }
      },
      "id": "d29d63d7"
    },
    {
      "cell_type": "markdown",
      "source": [
        "## 4.2.2 Train the H2O Champion algorithm with new data"
      ],
      "metadata": {},
      "id": "285e288f"
    },
    {
      "cell_type": "code",
      "source": [
        "## This is the champion previous trained algorithms that will be used as comparison for the new experiments\n",
        "vModel='H2O_KMeans_'\n",
        "\n",
        "#Execution time of the model\n",
        "start = dt.datetime.now()\n",
        "\n",
        "from h2o.estimators import H2OKMeansEstimator\n",
        "kmeans = H2OKMeansEstimator(k=10,\n",
        "                                 estimate_k=True,\n",
        "                                 standardize=False,\n",
        "                                 seed=1)\n",
        "\n",
        "# The use of a validation_frame is recommended\n",
        "kmeans.train(x=selected_features,\n",
        "                  training_frame=train_hdf,\n",
        "                  validation_frame=valid_hdf)\n",
        "\n",
        "#Execution time of the model\n",
        "stop = dt.datetime.now()\n",
        "execution_time = stop-start\n",
        "print(\"\\n\"+ \"Execution time: \" + str(execution_time) + \"\\n\")\n",
        "print(kmeans)"
      ],
      "outputs": [
        {
          "output_type": "stream",
          "name": "stdout",
          "text": "kmeans Model Build progress: |███████████████████████████████████████████████████| (done) 100%\n\nExecution time: 0:00:00.403965\n\nModel Details\n=============\nH2OKMeansEstimator :  K-means\nModel Key:  KMeans_model_python_1668728855663_5048\n\n\nModel Summary: \n"
        },
        {
          "output_type": "display_data",
          "data": {
            "text/plain": "     number_of_rows  number_of_clusters  number_of_categorical_columns  \\\n0             606.0                10.0                            5.0   \n\n   number_of_iterations  within_cluster_sum_of_squares  total_sum_of_squares  \\\n0                  31.0                   4.468405e+10          8.299802e+15   \n\n   between_cluster_sum_of_squares  \n0                    8.299757e+15  ",
            "text/html": "<div>\n<style scoped>\n    .dataframe tbody tr th:only-of-type {\n        vertical-align: middle;\n    }\n\n    .dataframe tbody tr th {\n        vertical-align: top;\n    }\n\n    .dataframe thead th {\n        text-align: right;\n    }\n</style>\n<table border=\"1\" class=\"dataframe\">\n  <thead>\n    <tr style=\"text-align: right;\">\n      <th></th>\n      <th></th>\n      <th>number_of_rows</th>\n      <th>number_of_clusters</th>\n      <th>number_of_categorical_columns</th>\n      <th>number_of_iterations</th>\n      <th>within_cluster_sum_of_squares</th>\n      <th>total_sum_of_squares</th>\n      <th>between_cluster_sum_of_squares</th>\n    </tr>\n  </thead>\n  <tbody>\n    <tr>\n      <th>0</th>\n      <td></td>\n      <td>606.0</td>\n      <td>10.0</td>\n      <td>5.0</td>\n      <td>31.0</td>\n      <td>4.468405e+10</td>\n      <td>8.299802e+15</td>\n      <td>8.299757e+15</td>\n    </tr>\n  </tbody>\n</table>\n</div>"
          },
          "metadata": {}
        },
        {
          "output_type": "stream",
          "name": "stdout",
          "text": "\n\nModelMetricsClustering: kmeans\n** Reported on train data. **\n\nTotal Within Cluster Sum of Square Error: 44684050874.97753\nTotal Sum of Square Error to Grand Mean: 8299802181159371.0\nBetween Cluster Sum of Square Error: 8299757497108496.0\n\nCentroid Statistics: \n"
        },
        {
          "output_type": "display_data",
          "data": {
            "text/plain": "     centroid   size  within_cluster_sum_of_squares\n0         1.0  149.0                   3.006991e+09\n1         2.0   16.0                   1.542537e+03\n2         3.0   18.0                   1.078572e+04\n3         4.0   61.0                   6.029695e+09\n4         5.0  118.0                   1.277404e+10\n5         6.0   59.0                   6.106586e+09\n6         7.0    5.0                   7.235110e+08\n7         8.0   45.0                   7.066099e+07\n8         9.0    5.0                   1.140274e+08\n9        10.0  130.0                   1.585853e+10",
            "text/html": "<div>\n<style scoped>\n    .dataframe tbody tr th:only-of-type {\n        vertical-align: middle;\n    }\n\n    .dataframe tbody tr th {\n        vertical-align: top;\n    }\n\n    .dataframe thead th {\n        text-align: right;\n    }\n</style>\n<table border=\"1\" class=\"dataframe\">\n  <thead>\n    <tr style=\"text-align: right;\">\n      <th></th>\n      <th></th>\n      <th>centroid</th>\n      <th>size</th>\n      <th>within_cluster_sum_of_squares</th>\n    </tr>\n  </thead>\n  <tbody>\n    <tr>\n      <th>0</th>\n      <td></td>\n      <td>1.0</td>\n      <td>149.0</td>\n      <td>3.006991e+09</td>\n    </tr>\n    <tr>\n      <th>1</th>\n      <td></td>\n      <td>2.0</td>\n      <td>16.0</td>\n      <td>1.542537e+03</td>\n    </tr>\n    <tr>\n      <th>2</th>\n      <td></td>\n      <td>3.0</td>\n      <td>18.0</td>\n      <td>1.078572e+04</td>\n    </tr>\n    <tr>\n      <th>3</th>\n      <td></td>\n      <td>4.0</td>\n      <td>61.0</td>\n      <td>6.029695e+09</td>\n    </tr>\n    <tr>\n      <th>4</th>\n      <td></td>\n      <td>5.0</td>\n      <td>118.0</td>\n      <td>1.277404e+10</td>\n    </tr>\n    <tr>\n      <th>5</th>\n      <td></td>\n      <td>6.0</td>\n      <td>59.0</td>\n      <td>6.106586e+09</td>\n    </tr>\n    <tr>\n      <th>6</th>\n      <td></td>\n      <td>7.0</td>\n      <td>5.0</td>\n      <td>7.235110e+08</td>\n    </tr>\n    <tr>\n      <th>7</th>\n      <td></td>\n      <td>8.0</td>\n      <td>45.0</td>\n      <td>7.066099e+07</td>\n    </tr>\n    <tr>\n      <th>8</th>\n      <td></td>\n      <td>9.0</td>\n      <td>5.0</td>\n      <td>1.140274e+08</td>\n    </tr>\n    <tr>\n      <th>9</th>\n      <td></td>\n      <td>10.0</td>\n      <td>130.0</td>\n      <td>1.585853e+10</td>\n    </tr>\n  </tbody>\n</table>\n</div>"
          },
          "metadata": {}
        },
        {
          "output_type": "stream",
          "name": "stdout",
          "text": "\nModelMetricsClustering: kmeans\n** Reported on validation data. **\n\nTotal Within Cluster Sum of Square Error: 7659539640.780108\nTotal Sum of Square Error to Grand Mean: 1506660021580.7278\nBetween Cluster Sum of Square Error: 1499000481939.9478\n\nCentroid Statistics: \n"
        },
        {
          "output_type": "display_data",
          "data": {
            "text/plain": "     centroid  size  within_cluster_sum_of_squares\n0         1.0  15.0                   4.307627e+08\n1         2.0   0.0                   0.000000e+00\n2         3.0   0.0                   0.000000e+00\n3         4.0  10.0                   1.133207e+09\n4         5.0  15.0                   3.979717e+09\n5         6.0   3.0                   1.998292e+08\n6         7.0   1.0                   3.717801e+08\n7         8.0   6.0                   8.468624e+06\n8         9.0   1.0                   3.316612e+07\n9        10.0  13.0                   1.502609e+09",
            "text/html": "<div>\n<style scoped>\n    .dataframe tbody tr th:only-of-type {\n        vertical-align: middle;\n    }\n\n    .dataframe tbody tr th {\n        vertical-align: top;\n    }\n\n    .dataframe thead th {\n        text-align: right;\n    }\n</style>\n<table border=\"1\" class=\"dataframe\">\n  <thead>\n    <tr style=\"text-align: right;\">\n      <th></th>\n      <th></th>\n      <th>centroid</th>\n      <th>size</th>\n      <th>within_cluster_sum_of_squares</th>\n    </tr>\n  </thead>\n  <tbody>\n    <tr>\n      <th>0</th>\n      <td></td>\n      <td>1.0</td>\n      <td>15.0</td>\n      <td>4.307627e+08</td>\n    </tr>\n    <tr>\n      <th>1</th>\n      <td></td>\n      <td>2.0</td>\n      <td>0.0</td>\n      <td>0.000000e+00</td>\n    </tr>\n    <tr>\n      <th>2</th>\n      <td></td>\n      <td>3.0</td>\n      <td>0.0</td>\n      <td>0.000000e+00</td>\n    </tr>\n    <tr>\n      <th>3</th>\n      <td></td>\n      <td>4.0</td>\n      <td>10.0</td>\n      <td>1.133207e+09</td>\n    </tr>\n    <tr>\n      <th>4</th>\n      <td></td>\n      <td>5.0</td>\n      <td>15.0</td>\n      <td>3.979717e+09</td>\n    </tr>\n    <tr>\n      <th>5</th>\n      <td></td>\n      <td>6.0</td>\n      <td>3.0</td>\n      <td>1.998292e+08</td>\n    </tr>\n    <tr>\n      <th>6</th>\n      <td></td>\n      <td>7.0</td>\n      <td>1.0</td>\n      <td>3.717801e+08</td>\n    </tr>\n    <tr>\n      <th>7</th>\n      <td></td>\n      <td>8.0</td>\n      <td>6.0</td>\n      <td>8.468624e+06</td>\n    </tr>\n    <tr>\n      <th>8</th>\n      <td></td>\n      <td>9.0</td>\n      <td>1.0</td>\n      <td>3.316612e+07</td>\n    </tr>\n    <tr>\n      <th>9</th>\n      <td></td>\n      <td>10.0</td>\n      <td>13.0</td>\n      <td>1.502609e+09</td>\n    </tr>\n  </tbody>\n</table>\n</div>"
          },
          "metadata": {}
        },
        {
          "output_type": "stream",
          "name": "stdout",
          "text": "\nScoring History: \n"
        },
        {
          "output_type": "display_data",
          "data": {
            "text/plain": "                timestamp    duration  iterations  number_of_clusters  \\\n0     2022-11-18 00:54:04   0.028 sec         0.0                 0.0   \n1     2022-11-18 00:54:04   0.081 sec         1.0                 1.0   \n2     2022-11-18 00:54:04   0.091 sec         2.0                 1.0   \n3     2022-11-18 00:54:04   0.105 sec         3.0                 2.0   \n4     2022-11-18 00:54:04   0.113 sec         4.0                 2.0   \n5     2022-11-18 00:54:04   0.121 sec         5.0                 3.0   \n6     2022-11-18 00:54:04   0.123 sec         6.0                 3.0   \n7     2022-11-18 00:54:04   0.125 sec         7.0                 3.0   \n8     2022-11-18 00:54:04   0.127 sec         8.0                 3.0   \n9     2022-11-18 00:54:04   0.128 sec         9.0                 3.0   \n10    2022-11-18 00:54:04   0.133 sec        10.0                 4.0   \n11    2022-11-18 00:54:04   0.136 sec        11.0                 5.0   \n12    2022-11-18 00:54:04   0.138 sec        12.0                 5.0   \n13    2022-11-18 00:54:04   0.142 sec        13.0                 6.0   \n14    2022-11-18 00:54:04   0.144 sec        14.0                 6.0   \n15    2022-11-18 00:54:04   0.146 sec        15.0                 6.0   \n16    2022-11-18 00:54:04   0.148 sec        16.0                 6.0   \n17    2022-11-18 00:54:04   0.151 sec        17.0                 6.0   \n18    2022-11-18 00:54:04   0.154 sec        18.0                 6.0   \n19    2022-11-18 00:54:04   0.156 sec        19.0                 7.0   \n\n    number_of_reassigned_observations  within_cluster_sum_of_squares  \n0                                 NaN                            NaN  \n1                               606.0                   8.454791e+15  \n2                                 0.0                   8.299802e+15  \n3                                18.0                   1.963635e+15  \n4                                 0.0                   1.651138e+14  \n5                                19.0                   1.262178e+14  \n6                                10.0                   1.258677e+14  \n7                                96.0                   1.252469e+14  \n8                                71.0                   9.902435e+13  \n9                                 0.0                   1.411429e+13  \n10                                0.0                   1.315731e+12  \n11                               13.0                   6.498059e+11  \n12                                0.0                   6.363519e+11  \n13                               14.0                   5.437826e+11  \n14                               17.0                   5.378918e+11  \n15                               10.0                   5.256899e+11  \n16                                6.0                   5.194892e+11  \n17                                1.0                   5.164145e+11  \n18                                0.0                   5.163180e+11  \n19                               12.0                   4.665964e+11  ",
            "text/html": "<div>\n<style scoped>\n    .dataframe tbody tr th:only-of-type {\n        vertical-align: middle;\n    }\n\n    .dataframe tbody tr th {\n        vertical-align: top;\n    }\n\n    .dataframe thead th {\n        text-align: right;\n    }\n</style>\n<table border=\"1\" class=\"dataframe\">\n  <thead>\n    <tr style=\"text-align: right;\">\n      <th></th>\n      <th></th>\n      <th>timestamp</th>\n      <th>duration</th>\n      <th>iterations</th>\n      <th>number_of_clusters</th>\n      <th>number_of_reassigned_observations</th>\n      <th>within_cluster_sum_of_squares</th>\n    </tr>\n  </thead>\n  <tbody>\n    <tr>\n      <th>0</th>\n      <td></td>\n      <td>2022-11-18 00:54:04</td>\n      <td>0.028 sec</td>\n      <td>0.0</td>\n      <td>0.0</td>\n      <td>NaN</td>\n      <td>NaN</td>\n    </tr>\n    <tr>\n      <th>1</th>\n      <td></td>\n      <td>2022-11-18 00:54:04</td>\n      <td>0.081 sec</td>\n      <td>1.0</td>\n      <td>1.0</td>\n      <td>606.0</td>\n      <td>8.454791e+15</td>\n    </tr>\n    <tr>\n      <th>2</th>\n      <td></td>\n      <td>2022-11-18 00:54:04</td>\n      <td>0.091 sec</td>\n      <td>2.0</td>\n      <td>1.0</td>\n      <td>0.0</td>\n      <td>8.299802e+15</td>\n    </tr>\n    <tr>\n      <th>3</th>\n      <td></td>\n      <td>2022-11-18 00:54:04</td>\n      <td>0.105 sec</td>\n      <td>3.0</td>\n      <td>2.0</td>\n      <td>18.0</td>\n      <td>1.963635e+15</td>\n    </tr>\n    <tr>\n      <th>4</th>\n      <td></td>\n      <td>2022-11-18 00:54:04</td>\n      <td>0.113 sec</td>\n      <td>4.0</td>\n      <td>2.0</td>\n      <td>0.0</td>\n      <td>1.651138e+14</td>\n    </tr>\n    <tr>\n      <th>5</th>\n      <td></td>\n      <td>2022-11-18 00:54:04</td>\n      <td>0.121 sec</td>\n      <td>5.0</td>\n      <td>3.0</td>\n      <td>19.0</td>\n      <td>1.262178e+14</td>\n    </tr>\n    <tr>\n      <th>6</th>\n      <td></td>\n      <td>2022-11-18 00:54:04</td>\n      <td>0.123 sec</td>\n      <td>6.0</td>\n      <td>3.0</td>\n      <td>10.0</td>\n      <td>1.258677e+14</td>\n    </tr>\n    <tr>\n      <th>7</th>\n      <td></td>\n      <td>2022-11-18 00:54:04</td>\n      <td>0.125 sec</td>\n      <td>7.0</td>\n      <td>3.0</td>\n      <td>96.0</td>\n      <td>1.252469e+14</td>\n    </tr>\n    <tr>\n      <th>8</th>\n      <td></td>\n      <td>2022-11-18 00:54:04</td>\n      <td>0.127 sec</td>\n      <td>8.0</td>\n      <td>3.0</td>\n      <td>71.0</td>\n      <td>9.902435e+13</td>\n    </tr>\n    <tr>\n      <th>9</th>\n      <td></td>\n      <td>2022-11-18 00:54:04</td>\n      <td>0.128 sec</td>\n      <td>9.0</td>\n      <td>3.0</td>\n      <td>0.0</td>\n      <td>1.411429e+13</td>\n    </tr>\n    <tr>\n      <th>10</th>\n      <td></td>\n      <td>2022-11-18 00:54:04</td>\n      <td>0.133 sec</td>\n      <td>10.0</td>\n      <td>4.0</td>\n      <td>0.0</td>\n      <td>1.315731e+12</td>\n    </tr>\n    <tr>\n      <th>11</th>\n      <td></td>\n      <td>2022-11-18 00:54:04</td>\n      <td>0.136 sec</td>\n      <td>11.0</td>\n      <td>5.0</td>\n      <td>13.0</td>\n      <td>6.498059e+11</td>\n    </tr>\n    <tr>\n      <th>12</th>\n      <td></td>\n      <td>2022-11-18 00:54:04</td>\n      <td>0.138 sec</td>\n      <td>12.0</td>\n      <td>5.0</td>\n      <td>0.0</td>\n      <td>6.363519e+11</td>\n    </tr>\n    <tr>\n      <th>13</th>\n      <td></td>\n      <td>2022-11-18 00:54:04</td>\n      <td>0.142 sec</td>\n      <td>13.0</td>\n      <td>6.0</td>\n      <td>14.0</td>\n      <td>5.437826e+11</td>\n    </tr>\n    <tr>\n      <th>14</th>\n      <td></td>\n      <td>2022-11-18 00:54:04</td>\n      <td>0.144 sec</td>\n      <td>14.0</td>\n      <td>6.0</td>\n      <td>17.0</td>\n      <td>5.378918e+11</td>\n    </tr>\n    <tr>\n      <th>15</th>\n      <td></td>\n      <td>2022-11-18 00:54:04</td>\n      <td>0.146 sec</td>\n      <td>15.0</td>\n      <td>6.0</td>\n      <td>10.0</td>\n      <td>5.256899e+11</td>\n    </tr>\n    <tr>\n      <th>16</th>\n      <td></td>\n      <td>2022-11-18 00:54:04</td>\n      <td>0.148 sec</td>\n      <td>16.0</td>\n      <td>6.0</td>\n      <td>6.0</td>\n      <td>5.194892e+11</td>\n    </tr>\n    <tr>\n      <th>17</th>\n      <td></td>\n      <td>2022-11-18 00:54:04</td>\n      <td>0.151 sec</td>\n      <td>17.0</td>\n      <td>6.0</td>\n      <td>1.0</td>\n      <td>5.164145e+11</td>\n    </tr>\n    <tr>\n      <th>18</th>\n      <td></td>\n      <td>2022-11-18 00:54:04</td>\n      <td>0.154 sec</td>\n      <td>18.0</td>\n      <td>6.0</td>\n      <td>0.0</td>\n      <td>5.163180e+11</td>\n    </tr>\n    <tr>\n      <th>19</th>\n      <td></td>\n      <td>2022-11-18 00:54:04</td>\n      <td>0.156 sec</td>\n      <td>19.0</td>\n      <td>7.0</td>\n      <td>12.0</td>\n      <td>4.665964e+11</td>\n    </tr>\n  </tbody>\n</table>\n</div>"
          },
          "metadata": {}
        },
        {
          "output_type": "stream",
          "name": "stdout",
          "text": "\nSee the whole table with table.as_data_frame()\n\n"
        }
      ],
      "execution_count": 17,
      "metadata": {
        "tags": [],
        "gather": {
          "logged": 1668732843145
        }
      },
      "id": "cf961eb3"
    },
    {
      "cell_type": "code",
      "source": [
        "perf = kmeans.model_performance()\n",
        "perf"
      ],
      "outputs": [
        {
          "output_type": "stream",
          "name": "stdout",
          "text": "\nModelMetricsClustering: kmeans\n** Reported on train data. **\n\nTotal Within Cluster Sum of Square Error: 44684050874.97753\nTotal Sum of Square Error to Grand Mean: 8299802181159371.0\nBetween Cluster Sum of Square Error: 8299757497108496.0\n\nCentroid Statistics: \n"
        },
        {
          "output_type": "display_data",
          "data": {
            "text/plain": "     centroid   size  within_cluster_sum_of_squares\n0         1.0  149.0                   3.006991e+09\n1         2.0   16.0                   1.542537e+03\n2         3.0   18.0                   1.078572e+04\n3         4.0   61.0                   6.029695e+09\n4         5.0  118.0                   1.277404e+10\n5         6.0   59.0                   6.106586e+09\n6         7.0    5.0                   7.235110e+08\n7         8.0   45.0                   7.066099e+07\n8         9.0    5.0                   1.140274e+08\n9        10.0  130.0                   1.585853e+10",
            "text/html": "<div>\n<style scoped>\n    .dataframe tbody tr th:only-of-type {\n        vertical-align: middle;\n    }\n\n    .dataframe tbody tr th {\n        vertical-align: top;\n    }\n\n    .dataframe thead th {\n        text-align: right;\n    }\n</style>\n<table border=\"1\" class=\"dataframe\">\n  <thead>\n    <tr style=\"text-align: right;\">\n      <th></th>\n      <th></th>\n      <th>centroid</th>\n      <th>size</th>\n      <th>within_cluster_sum_of_squares</th>\n    </tr>\n  </thead>\n  <tbody>\n    <tr>\n      <th>0</th>\n      <td></td>\n      <td>1.0</td>\n      <td>149.0</td>\n      <td>3.006991e+09</td>\n    </tr>\n    <tr>\n      <th>1</th>\n      <td></td>\n      <td>2.0</td>\n      <td>16.0</td>\n      <td>1.542537e+03</td>\n    </tr>\n    <tr>\n      <th>2</th>\n      <td></td>\n      <td>3.0</td>\n      <td>18.0</td>\n      <td>1.078572e+04</td>\n    </tr>\n    <tr>\n      <th>3</th>\n      <td></td>\n      <td>4.0</td>\n      <td>61.0</td>\n      <td>6.029695e+09</td>\n    </tr>\n    <tr>\n      <th>4</th>\n      <td></td>\n      <td>5.0</td>\n      <td>118.0</td>\n      <td>1.277404e+10</td>\n    </tr>\n    <tr>\n      <th>5</th>\n      <td></td>\n      <td>6.0</td>\n      <td>59.0</td>\n      <td>6.106586e+09</td>\n    </tr>\n    <tr>\n      <th>6</th>\n      <td></td>\n      <td>7.0</td>\n      <td>5.0</td>\n      <td>7.235110e+08</td>\n    </tr>\n    <tr>\n      <th>7</th>\n      <td></td>\n      <td>8.0</td>\n      <td>45.0</td>\n      <td>7.066099e+07</td>\n    </tr>\n    <tr>\n      <th>8</th>\n      <td></td>\n      <td>9.0</td>\n      <td>5.0</td>\n      <td>1.140274e+08</td>\n    </tr>\n    <tr>\n      <th>9</th>\n      <td></td>\n      <td>10.0</td>\n      <td>130.0</td>\n      <td>1.585853e+10</td>\n    </tr>\n  </tbody>\n</table>\n</div>"
          },
          "metadata": {}
        },
        {
          "output_type": "execute_result",
          "execution_count": 18,
          "data": {
            "text/plain": ""
          },
          "metadata": {}
        }
      ],
      "execution_count": 18,
      "metadata": {
        "gather": {
          "logged": 1668732866840
        }
      },
      "id": "2f869b34-0297-4d1a-af69-916343869fb8"
    },
    {
      "cell_type": "code",
      "source": [
        "#Consider all models in the history ./models/candidates/performance_*.csv. To disregard any old version, set erase_modelos = \"S\":\n",
        "apagar_modelos = 'N'\n",
        "if apagar_modelos == 'S':\n",
        "    os.system('rm %s/models/candidates/performance_*.csv' % OutputPath)"
      ],
      "outputs": [],
      "execution_count": 19,
      "metadata": {
        "papermill": {
          "duration": 2.142011,
          "end_time": "2021-04-22T19:08:36.084630",
          "exception": false,
          "start_time": "2021-04-22T19:08:33.942619",
          "status": "completed"
        },
        "tags": [],
        "gather": {
          "logged": 1668732872884
        }
      },
      "id": "c57e2270"
    },
    {
      "cell_type": "code",
      "source": [
        "h2o.save_model(model=kmeans, path='%s/models/candidates/' % OutputPath, force=True)"
      ],
      "outputs": [
        {
          "output_type": "execute_result",
          "execution_count": 20,
          "data": {
            "text/plain": "'/mnt/batch/tasks/shared/LS_root/mounts/clusters/maxdez1/code/Users/maxdez/FIEP-Machine-Learning-e-Computacao-em-Nuvem/output_model/models/candidates/KMeans_model_python_1668728855663_5048'"
          },
          "metadata": {}
        }
      ],
      "execution_count": 20,
      "metadata": {
        "gather": {
          "logged": 1668732875954
        }
      },
      "id": "00b2d16d-2d1c-4845-b7f6-41c259082a42"
    },
    {
      "cell_type": "markdown",
      "source": [
        "# 5. Exporting the best model to Deploy (Usar o path_model_mojo para o código 3_Explaining_Model.ipynb)"
      ],
      "metadata": {
        "papermill": {
          "duration": 2.252429,
          "end_time": "2021-04-22T19:09:24.187954",
          "exception": false,
          "start_time": "2021-04-22T19:09:21.935525",
          "status": "completed"
        },
        "tags": []
      },
      "id": "c3681ca2"
    },
    {
      "cell_type": "code",
      "source": [
        "try:\n",
        "    #Save the H2O model in MOJO format and all the variables of the best model\n",
        "    melhor_modelo = h2o.load_model('%s/models/candidates/%s' % (OutputPath, kmeans.model_id))\n",
        "    path_model_mojo = melhor_modelo.download_mojo('%s/models/best/' % OutputPath, get_genmodel_jar=True)\n",
        "    print('path_model_mojo: ' + str(path_model_mojo))\n",
        "    caminho_modelo_h2o = h2o.save_model(model=melhor_modelo, path='%s/models/best/' % OutputPath, force=True)\n",
        "except Exception as e:\n",
        "    print(e)"
      ],
      "outputs": [
        {
          "output_type": "stream",
          "name": "stdout",
          "text": "path_model_mojo: /mnt/batch/tasks/shared/LS_root/mounts/clusters/maxdez1/code/Users/maxdez/FIEP-Machine-Learning-e-Computacao-em-Nuvem/clusters_segmentation/output_model/models/best/KMeans_model_python_1668728855663_5048.zip\n"
        }
      ],
      "execution_count": 21,
      "metadata": {
        "papermill": {
          "duration": 2.363826,
          "end_time": "2021-04-22T19:09:28.770800",
          "exception": false,
          "start_time": "2021-04-22T19:09:26.406974",
          "status": "completed"
        },
        "tags": [],
        "gather": {
          "logged": 1668732882627
        }
      },
      "id": "f4f87587"
    },
    {
      "cell_type": "code",
      "source": [
        "#Confusion Matrix for the Champion\n",
        "df_cluster_tmp = h2o.mojo_predict_pandas(dataprep_df.loc[:, (selected_features)], mojo_zip_path=path_model_mojo, verbose=False)\n",
        "\n",
        "df_cluster = pd.concat([df_cluster_tmp.reset_index(drop=True), dataprep_df.loc[:, (selected_features+['dataset'])].reset_index(drop=True)], axis=1)\n",
        "# df_cluster['cluster'] = df_cluster['cluster'] + 1\n",
        "df_cluster['cluster'] = df_cluster['cluster'].astype(int)\n",
        "\n",
        "df_cluster"
      ],
      "outputs": [
        {
          "output_type": "stream",
          "name": "stdout",
          "text": "Detected 1 unused columns in the input data set: {}\n"
        },
        {
          "output_type": "execute_result",
          "execution_count": 23,
          "data": {
            "text/plain": "     cluster Pclass Embarked cabine_prefix Ticket_str NameTitle     Fare  \\\n0          8      3        S       missing          A        Mr   7.2500   \n1          9      1        C             C         PC       Mrs  71.2833   \n2          1      3        S       missing      STONO      Miss   7.9250   \n3          7      1        S             C    missing       Mrs  53.1000   \n4          5      3        S       missing    missing        Mr   8.0500   \n..       ...    ...      ...           ...        ...       ...      ...   \n886        3      2        S       missing    missing       LOW  13.0000   \n887        7      1        S             B    missing      Miss  30.0000   \n888        0      3        S       missing         WC      Miss  23.4500   \n889        7      1        C             C    missing        Mr  30.0000   \n890        5      3        Q       missing    missing        Mr   7.7500   \n\n     SibSp  Parch   Age_Mean  Ticket_int dataset  \n0      1.0    0.0  22.000000    521171.0   train  \n1      1.0    0.0  38.000000     17599.0   train  \n2      0.0    0.0  26.000000  23101282.0   train  \n3      1.0    0.0  35.000000    113803.0   train  \n4      0.0    0.0  35.000000    373450.0    test  \n..     ...    ...        ...         ...     ...  \n886    0.0    0.0  27.000000    211536.0   train  \n887    0.0    0.0  19.000000    112053.0   train  \n888    1.0    2.0  29.699118      6607.0   train  \n889    0.0    0.0  26.000000    111369.0    test  \n890    0.0    0.0  32.000000    370376.0   train  \n\n[891 rows x 12 columns]",
            "text/html": "<div>\n<style scoped>\n    .dataframe tbody tr th:only-of-type {\n        vertical-align: middle;\n    }\n\n    .dataframe tbody tr th {\n        vertical-align: top;\n    }\n\n    .dataframe thead th {\n        text-align: right;\n    }\n</style>\n<table border=\"1\" class=\"dataframe\">\n  <thead>\n    <tr style=\"text-align: right;\">\n      <th></th>\n      <th>cluster</th>\n      <th>Pclass</th>\n      <th>Embarked</th>\n      <th>cabine_prefix</th>\n      <th>Ticket_str</th>\n      <th>NameTitle</th>\n      <th>Fare</th>\n      <th>SibSp</th>\n      <th>Parch</th>\n      <th>Age_Mean</th>\n      <th>Ticket_int</th>\n      <th>dataset</th>\n    </tr>\n  </thead>\n  <tbody>\n    <tr>\n      <th>0</th>\n      <td>8</td>\n      <td>3</td>\n      <td>S</td>\n      <td>missing</td>\n      <td>A</td>\n      <td>Mr</td>\n      <td>7.2500</td>\n      <td>1.0</td>\n      <td>0.0</td>\n      <td>22.000000</td>\n      <td>521171.0</td>\n      <td>train</td>\n    </tr>\n    <tr>\n      <th>1</th>\n      <td>9</td>\n      <td>1</td>\n      <td>C</td>\n      <td>C</td>\n      <td>PC</td>\n      <td>Mrs</td>\n      <td>71.2833</td>\n      <td>1.0</td>\n      <td>0.0</td>\n      <td>38.000000</td>\n      <td>17599.0</td>\n      <td>train</td>\n    </tr>\n    <tr>\n      <th>2</th>\n      <td>1</td>\n      <td>3</td>\n      <td>S</td>\n      <td>missing</td>\n      <td>STONO</td>\n      <td>Miss</td>\n      <td>7.9250</td>\n      <td>0.0</td>\n      <td>0.0</td>\n      <td>26.000000</td>\n      <td>23101282.0</td>\n      <td>train</td>\n    </tr>\n    <tr>\n      <th>3</th>\n      <td>7</td>\n      <td>1</td>\n      <td>S</td>\n      <td>C</td>\n      <td>missing</td>\n      <td>Mrs</td>\n      <td>53.1000</td>\n      <td>1.0</td>\n      <td>0.0</td>\n      <td>35.000000</td>\n      <td>113803.0</td>\n      <td>train</td>\n    </tr>\n    <tr>\n      <th>4</th>\n      <td>5</td>\n      <td>3</td>\n      <td>S</td>\n      <td>missing</td>\n      <td>missing</td>\n      <td>Mr</td>\n      <td>8.0500</td>\n      <td>0.0</td>\n      <td>0.0</td>\n      <td>35.000000</td>\n      <td>373450.0</td>\n      <td>test</td>\n    </tr>\n    <tr>\n      <th>...</th>\n      <td>...</td>\n      <td>...</td>\n      <td>...</td>\n      <td>...</td>\n      <td>...</td>\n      <td>...</td>\n      <td>...</td>\n      <td>...</td>\n      <td>...</td>\n      <td>...</td>\n      <td>...</td>\n      <td>...</td>\n    </tr>\n    <tr>\n      <th>886</th>\n      <td>3</td>\n      <td>2</td>\n      <td>S</td>\n      <td>missing</td>\n      <td>missing</td>\n      <td>LOW</td>\n      <td>13.0000</td>\n      <td>0.0</td>\n      <td>0.0</td>\n      <td>27.000000</td>\n      <td>211536.0</td>\n      <td>train</td>\n    </tr>\n    <tr>\n      <th>887</th>\n      <td>7</td>\n      <td>1</td>\n      <td>S</td>\n      <td>B</td>\n      <td>missing</td>\n      <td>Miss</td>\n      <td>30.0000</td>\n      <td>0.0</td>\n      <td>0.0</td>\n      <td>19.000000</td>\n      <td>112053.0</td>\n      <td>train</td>\n    </tr>\n    <tr>\n      <th>888</th>\n      <td>0</td>\n      <td>3</td>\n      <td>S</td>\n      <td>missing</td>\n      <td>WC</td>\n      <td>Miss</td>\n      <td>23.4500</td>\n      <td>1.0</td>\n      <td>2.0</td>\n      <td>29.699118</td>\n      <td>6607.0</td>\n      <td>train</td>\n    </tr>\n    <tr>\n      <th>889</th>\n      <td>7</td>\n      <td>1</td>\n      <td>C</td>\n      <td>C</td>\n      <td>missing</td>\n      <td>Mr</td>\n      <td>30.0000</td>\n      <td>0.0</td>\n      <td>0.0</td>\n      <td>26.000000</td>\n      <td>111369.0</td>\n      <td>test</td>\n    </tr>\n    <tr>\n      <th>890</th>\n      <td>5</td>\n      <td>3</td>\n      <td>Q</td>\n      <td>missing</td>\n      <td>missing</td>\n      <td>Mr</td>\n      <td>7.7500</td>\n      <td>0.0</td>\n      <td>0.0</td>\n      <td>32.000000</td>\n      <td>370376.0</td>\n      <td>train</td>\n    </tr>\n  </tbody>\n</table>\n<p>891 rows × 12 columns</p>\n</div>"
          },
          "metadata": {}
        }
      ],
      "execution_count": 23,
      "metadata": {
        "tags": [],
        "gather": {
          "logged": 1668732923693
        }
      },
      "id": "545ea64f"
    },
    {
      "cell_type": "code",
      "source": [
        "df_cluster_plot = df_cluster.reset_index().groupby(['cluster']).count()[['index']].rename(columns={'index': 'qty'})\n",
        "sns.heatmap(df_cluster_plot, annot=True, center=True,cmap='Blues', fmt='g')\n",
        "plt.show()\n",
        "sns.heatmap(df_cluster_plot/np.sum(df_cluster_plot), annot=True,\n",
        "            fmt='.2%', cmap='Blues')\n",
        "plt.show()"
      ],
      "outputs": [
        {
          "output_type": "display_data",
          "data": {
            "text/plain": "<Figure size 640x480 with 2 Axes>",
            "image/png": "[encoded data removed]"
          },
          "metadata": {}
        },
        {
          "output_type": "display_data",
          "data": {
            "text/plain": "<Figure size 640x480 with 2 Axes>",
            "image/png": "[encoded data removed]"
          },
          "metadata": {}
        }
      ],
      "execution_count": 24,
      "metadata": {
        "gather": {
          "logged": 1668732930614
        }
      },
      "id": "4bfd2e5e-e582-4fb1-8f95-99dd495df613"
    },
    {
      "cell_type": "markdown",
      "source": [
        "# 6. Save final dataset with predictions into S3 to explain the model"
      ],
      "metadata": {},
      "id": "29169849"
    },
    {
      "cell_type": "code",
      "source": [
        "csv_buffer = StringIO()\n",
        "df_cluster.to_csv(csv_buffer, index=False, header=True)\n",
        "s3_resource = my_boto3_session.resource('s3')\n",
        "s3_resource.Object(bucket, 'databases/%s/%s.csv' % (ModelName+'_scored', ModelName+'_scored')).put(Body=csv_buffer.getvalue())\n",
        "del csv_buffer"
      ],
      "outputs": [],
      "execution_count": 53,
      "metadata": {
        "tags": []
      },
      "id": "9c9bfee2"
    },
    {
      "cell_type": "code",
      "source": [
        "#Include Glue delete table before start the crawler\n",
        "glue = my_boto3_session.client('glue', region_name=\"us-east-1\")\n",
        "\n",
        "try:\n",
        "    glue.delete_table(\n",
        "        DatabaseName='nowapp',\n",
        "        Name=ModelName+'_scored'\n",
        "    )\n",
        "except:\n",
        "    print(\"OK: The table doesn't exist yet. It is not necessary to delete it.\")\n",
        "\n",
        "glue.update_crawler(Name='nowapp',\n",
        "                    Targets={'S3Targets': [{'Path': 's3://%s/databases/%s' % (bucket, ModelName+'_scored'),\n",
        "                               'Exclusions': []}]})\n",
        "\n",
        "glue.start_crawler(Name='nowapp')"
      ],
      "outputs": [
        {
          "output_type": "execute_result",
          "execution_count": 54,
          "data": {
            "text/plain": "{'ResponseMetadata': {'RequestId': '2d5c480a-8c82-4753-b116-cbe5f6505c54',\n  'HTTPStatusCode': 200,\n  'HTTPHeaders': {'date': 'Thu, 17 Nov 2022 20:00:53 GMT',\n   'content-type': 'application/x-amz-json-1.1',\n   'content-length': '2',\n   'connection': 'keep-alive',\n   'x-amzn-requestid': '2d5c480a-8c82-4753-b116-cbe5f6505c54'},\n  'RetryAttempts': 0}}"
          },
          "metadata": {}
        }
      ],
      "execution_count": 54,
      "metadata": {},
      "id": "3b98aaad"
    },
    {
      "cell_type": "code",
      "source": [],
      "outputs": [],
      "execution_count": null,
      "metadata": {},
      "id": "ef2f129c-4ed0-4b11-a9c5-e252c3ffa5c0"
    }
  ],
  "metadata": {
    "instance_type": "ml.t3.medium",
    "kernelspec": {
      "name": "python38-azureml",
      "language": "python",
      "display_name": "Python 3.8 - AzureML"
    },
    "language_info": {
      "name": "python",
      "version": "3.8.5",
      "mimetype": "text/x-python",
      "codemirror_mode": {
        "name": "ipython",
        "version": 3
      },
      "pygments_lexer": "ipython3",
      "nbconvert_exporter": "python",
      "file_extension": ".py"
    },
    "papermill": {
      "output_path": "__notebook__.ipynb",
      "default_parameters": {},
      "start_time": "2021-04-22T18:42:26.701971",
      "parameters": {},
      "environment_variables": {},
      "exception": null,
      "end_time": "2021-04-22T19:12:51.593458",
      "duration": 1824.891487,
      "version": "2.3.2",
      "input_path": "__notebook__.ipynb"
    },
    "widgets": {
      "application/vnd.jupyter.widget-state+json": {
        "state": {
          "a8d065cce96144b3abede928e48b70d6": {
            "model_module": "@jupyter-widgets/base",
            "model_module_version": "1.2.0",
            "model_name": "LayoutModel",
            "state": {
              "_view_module_version": "1.2.0",
              "_model_name": "LayoutModel",
              "grid_row": null,
              "_model_module": "@jupyter-widgets/base",
              "overflow": null,
              "max_height": null,
              "display": null,
              "grid_auto_flow": null,
              "grid_template_rows": null,
              "align_self": null,
              "grid_auto_columns": null,
              "width": null,
              "grid_area": null,
              "align_items": null,
              "_view_name": "LayoutView",
              "left": null,
              "height": null,
              "_view_module": "@jupyter-widgets/base",
              "object_position": null,
              "justify_content": null,
              "bottom": null,
              "max_width": null,
              "border": null,
              "margin": null,
              "order": null,
              "grid_column": null,
              "grid_auto_rows": null,
              "padding": null,
              "grid_template_columns": null,
              "justify_items": null,
              "object_fit": null,
              "visibility": null,
              "_view_count": null,
              "flex_flow": null,
              "min_height": null,
              "top": null,
              "min_width": null,
              "flex": null,
              "_model_module_version": "1.2.0",
              "grid_template_areas": null,
              "overflow_x": null,
              "right": null,
              "overflow_y": null,
              "grid_gap": null,
              "align_content": null
            }
          },
          "1e1865bed82a4c90a94b4024f9c7b585": {
            "model_module": "@jupyter-widgets/base",
            "model_module_version": "1.2.0",
            "model_name": "LayoutModel",
            "state": {
              "_view_module_version": "1.2.0",
              "_model_name": "LayoutModel",
              "grid_row": null,
              "_model_module": "@jupyter-widgets/base",
              "overflow": null,
              "max_height": null,
              "display": null,
              "grid_auto_flow": null,
              "grid_template_rows": null,
              "align_self": null,
              "grid_auto_columns": null,
              "width": null,
              "grid_area": null,
              "align_items": null,
              "_view_name": "LayoutView",
              "left": null,
              "height": null,
              "_view_module": "@jupyter-widgets/base",
              "object_position": null,
              "justify_content": null,
              "bottom": null,
              "max_width": null,
              "border": null,
              "margin": null,
              "order": null,
              "grid_column": null,
              "grid_auto_rows": null,
              "padding": null,
              "grid_template_columns": null,
              "justify_items": null,
              "object_fit": null,
              "visibility": null,
              "_view_count": null,
              "flex_flow": null,
              "min_height": null,
              "top": null,
              "min_width": null,
              "flex": null,
              "_model_module_version": "1.2.0",
              "grid_template_areas": null,
              "overflow_x": null,
              "right": null,
              "overflow_y": null,
              "grid_gap": null,
              "align_content": null
            }
          },
          "6b28a19b4fc34c7a8e973878b6f7c0a9": {
            "model_module": "@jupyter-widgets/controls",
            "model_module_version": "1.5.0",
            "model_name": "ProgressStyleModel",
            "state": {
              "_view_module_version": "1.2.0",
              "_model_name": "ProgressStyleModel",
              "_model_module": "@jupyter-widgets/controls",
              "description_width": "",
              "_view_name": "StyleView",
              "_view_module": "@jupyter-widgets/base",
              "_view_count": null,
              "bar_color": null,
              "_model_module_version": "1.5.0"
            }
          },
          "350e60f28d9b48938c8cd3c7a65adfc8": {
            "model_module": "@jupyter-widgets/base",
            "model_module_version": "1.2.0",
            "model_name": "LayoutModel",
            "state": {
              "_view_module_version": "1.2.0",
              "_model_name": "LayoutModel",
              "grid_row": null,
              "_model_module": "@jupyter-widgets/base",
              "overflow": null,
              "max_height": null,
              "display": null,
              "grid_auto_flow": null,
              "grid_template_rows": null,
              "align_self": null,
              "grid_auto_columns": null,
              "width": null,
              "grid_area": null,
              "align_items": null,
              "_view_name": "LayoutView",
              "left": null,
              "height": null,
              "_view_module": "@jupyter-widgets/base",
              "object_position": null,
              "justify_content": null,
              "bottom": null,
              "max_width": null,
              "border": null,
              "margin": null,
              "order": null,
              "grid_column": null,
              "grid_auto_rows": null,
              "padding": null,
              "grid_template_columns": null,
              "justify_items": null,
              "object_fit": null,
              "visibility": null,
              "_view_count": null,
              "flex_flow": null,
              "min_height": null,
              "top": null,
              "min_width": null,
              "flex": null,
              "_model_module_version": "1.2.0",
              "grid_template_areas": null,
              "overflow_x": null,
              "right": null,
              "overflow_y": null,
              "grid_gap": null,
              "align_content": null
            }
          },
          "6d4bcb70a3e940619712a90fd9ee4cef": {
            "model_module": "@jupyter-widgets/controls",
            "model_module_version": "1.5.0",
            "model_name": "DescriptionStyleModel",
            "state": {
              "_model_module": "@jupyter-widgets/controls",
              "_model_module_version": "1.5.0",
              "_model_name": "DescriptionStyleModel",
              "_view_count": null,
              "_view_module": "@jupyter-widgets/base",
              "_view_module_version": "1.2.0",
              "_view_name": "StyleView",
              "description_width": ""
            }
          },
          "72b6da2d33514ad78863f8abc472304d": {
            "model_module": "@jupyter-widgets/base",
            "model_module_version": "1.2.0",
            "model_name": "LayoutModel",
            "state": {
              "_view_module_version": "1.2.0",
              "_model_name": "LayoutModel",
              "grid_row": null,
              "_model_module": "@jupyter-widgets/base",
              "overflow": null,
              "max_height": null,
              "display": null,
              "grid_auto_flow": null,
              "grid_template_rows": null,
              "align_self": null,
              "grid_auto_columns": null,
              "width": null,
              "grid_area": null,
              "align_items": null,
              "_view_name": "LayoutView",
              "left": null,
              "height": null,
              "_view_module": "@jupyter-widgets/base",
              "object_position": null,
              "justify_content": null,
              "bottom": null,
              "max_width": null,
              "border": null,
              "margin": null,
              "order": null,
              "grid_column": null,
              "grid_auto_rows": null,
              "padding": null,
              "grid_template_columns": null,
              "justify_items": null,
              "object_fit": null,
              "visibility": null,
              "_view_count": null,
              "flex_flow": null,
              "min_height": null,
              "top": null,
              "min_width": null,
              "flex": null,
              "_model_module_version": "1.2.0",
              "grid_template_areas": null,
              "overflow_x": null,
              "right": null,
              "overflow_y": null,
              "grid_gap": null,
              "align_content": null
            }
          },
          "7fc985fe271c400f8d922006f845e02d": {
            "model_module": "@jupyter-widgets/controls",
            "model_module_version": "1.5.0",
            "model_name": "ProgressStyleModel",
            "state": {
              "_view_module_version": "1.2.0",
              "_model_name": "ProgressStyleModel",
              "_model_module": "@jupyter-widgets/controls",
              "description_width": "",
              "_view_name": "StyleView",
              "_view_module": "@jupyter-widgets/base",
              "_view_count": null,
              "bar_color": null,
              "_model_module_version": "1.5.0"
            }
          },
          "e6074bcf78cb4f2eab2fd3728ecc3838": {
            "model_module": "@jupyter-widgets/controls",
            "model_module_version": "1.5.0",
            "model_name": "DescriptionStyleModel",
            "state": {
              "_model_module": "@jupyter-widgets/controls",
              "_model_module_version": "1.5.0",
              "_model_name": "DescriptionStyleModel",
              "_view_count": null,
              "_view_module": "@jupyter-widgets/base",
              "_view_module_version": "1.2.0",
              "_view_name": "StyleView",
              "description_width": ""
            }
          },
          "1960307545e444afa597f3ae9e570980": {
            "model_module": "@jupyter-widgets/controls",
            "model_module_version": "1.5.0",
            "model_name": "DescriptionStyleModel",
            "state": {
              "_model_module": "@jupyter-widgets/controls",
              "_model_module_version": "1.5.0",
              "_model_name": "DescriptionStyleModel",
              "_view_count": null,
              "_view_module": "@jupyter-widgets/base",
              "_view_module_version": "1.2.0",
              "_view_name": "StyleView",
              "description_width": ""
            }
          },
          "4f4eb35c26b1492798fee9d3c4e5bb03": {
            "model_module": "@jupyter-widgets/controls",
            "model_module_version": "1.5.0",
            "model_name": "HTMLModel",
            "state": {
              "_view_module_version": "1.5.0",
              "description_tooltip": null,
              "_model_name": "HTMLModel",
              "_model_module": "@jupyter-widgets/controls",
              "_view_name": "HTMLView",
              "_view_module": "@jupyter-widgets/controls",
              "_dom_classes": [],
              "layout": "IPY_MODEL_bd08b7d0ff3a427d89a418e30f1ab16c",
              "value": " 50/50 [01:24&lt;00:00,  4.61s/it, Completed]",
              "style": "IPY_MODEL_74688d13d99042c0aa1f214ded632a98",
              "placeholder": "​",
              "_view_count": null,
              "_model_module_version": "1.5.0",
              "description": ""
            }
          },
          "6f17d9d9c82c4179a703e6b4b458dcb2": {
            "model_module": "@jupyter-widgets/base",
            "model_module_version": "1.2.0",
            "model_name": "LayoutModel",
            "state": {
              "_view_module_version": "1.2.0",
              "_model_name": "LayoutModel",
              "grid_row": null,
              "_model_module": "@jupyter-widgets/base",
              "overflow": null,
              "max_height": null,
              "display": null,
              "grid_auto_flow": null,
              "grid_template_rows": null,
              "align_self": null,
              "grid_auto_columns": null,
              "width": null,
              "grid_area": null,
              "align_items": null,
              "_view_name": "LayoutView",
              "left": null,
              "height": null,
              "_view_module": "@jupyter-widgets/base",
              "object_position": null,
              "justify_content": null,
              "bottom": null,
              "max_width": null,
              "border": null,
              "margin": null,
              "order": null,
              "grid_column": null,
              "grid_auto_rows": null,
              "padding": null,
              "grid_template_columns": null,
              "justify_items": null,
              "object_fit": null,
              "visibility": null,
              "_view_count": null,
              "flex_flow": null,
              "min_height": null,
              "top": null,
              "min_width": null,
              "flex": null,
              "_model_module_version": "1.2.0",
              "grid_template_areas": null,
              "overflow_x": null,
              "right": null,
              "overflow_y": null,
              "grid_gap": null,
              "align_content": null
            }
          },
          "7fa7a452971a43f893f67bea5d998d27": {
            "model_module": "@jupyter-widgets/controls",
            "model_module_version": "1.5.0",
            "model_name": "DescriptionStyleModel",
            "state": {
              "_model_module": "@jupyter-widgets/controls",
              "_model_module_version": "1.5.0",
              "_model_name": "DescriptionStyleModel",
              "_view_count": null,
              "_view_module": "@jupyter-widgets/base",
              "_view_module_version": "1.2.0",
              "_view_name": "StyleView",
              "description_width": ""
            }
          },
          "1367ae52c04143d8b569a2018607131f": {
            "model_module": "@jupyter-widgets/controls",
            "model_module_version": "1.5.0",
            "model_name": "HTMLModel",
            "state": {
              "_view_module_version": "1.5.0",
              "description_tooltip": null,
              "_model_name": "HTMLModel",
              "_model_module": "@jupyter-widgets/controls",
              "_view_name": "HTMLView",
              "_view_module": "@jupyter-widgets/controls",
              "_dom_classes": [],
              "layout": "IPY_MODEL_cf0f1a3dba55429b94630faccf8f142f",
              "value": " 20/20 [01:30&lt;00:00,  4.10s/it]",
              "style": "IPY_MODEL_8003ac93421f49c0bcc8412a93783fdc",
              "placeholder": "​",
              "_view_count": null,
              "_model_module_version": "1.5.0",
              "description": ""
            }
          },
          "8bc5b0e540704062bebfd2be22d96e03": {
            "model_module": "@jupyter-widgets/controls",
            "model_module_version": "1.5.0",
            "model_name": "ProgressStyleModel",
            "state": {
              "_view_module_version": "1.2.0",
              "_model_name": "ProgressStyleModel",
              "_model_module": "@jupyter-widgets/controls",
              "description_width": "",
              "_view_name": "StyleView",
              "_view_module": "@jupyter-widgets/base",
              "_view_count": null,
              "bar_color": null,
              "_model_module_version": "1.5.0"
            }
          },
          "55b5e671bdc54737914052f021be0b42": {
            "model_module": "@jupyter-widgets/controls",
            "model_module_version": "1.5.0",
            "model_name": "HTMLModel",
            "state": {
              "_view_module_version": "1.5.0",
              "description_tooltip": null,
              "_model_name": "HTMLModel",
              "_model_module": "@jupyter-widgets/controls",
              "_view_name": "HTMLView",
              "_view_module": "@jupyter-widgets/controls",
              "_dom_classes": [],
              "layout": "IPY_MODEL_1f6013e469f44bae906f8b8d796ddf03",
              "value": " 1/1 [00:00&lt;00:00,  5.95it/s]",
              "style": "IPY_MODEL_1c7de68230104c4995b47fa29a599fc3",
              "placeholder": "​",
              "_view_count": null,
              "_model_module_version": "1.5.0",
              "description": ""
            }
          },
          "5474ed5e459a4b07973ac3c6de3ae6e4": {
            "model_module": "@jupyter-widgets/controls",
            "model_module_version": "1.5.0",
            "model_name": "HTMLModel",
            "state": {
              "_view_module_version": "1.5.0",
              "description_tooltip": null,
              "_model_name": "HTMLModel",
              "_model_module": "@jupyter-widgets/controls",
              "_view_name": "HTMLView",
              "_view_module": "@jupyter-widgets/controls",
              "_dom_classes": [],
              "layout": "IPY_MODEL_c4aa5744ad87433dbf595d79c833656c",
              "value": "Render HTML: 100%",
              "style": "IPY_MODEL_1960307545e444afa597f3ae9e570980",
              "placeholder": "​",
              "_view_count": null,
              "_model_module_version": "1.5.0",
              "description": ""
            }
          },
          "e367d8585ece43f3a5a07d2baf9a7f18": {
            "model_module": "@jupyter-widgets/controls",
            "model_module_version": "1.5.0",
            "model_name": "HBoxModel",
            "state": {
              "_view_module_version": "1.5.0",
              "_model_name": "HBoxModel",
              "_model_module": "@jupyter-widgets/controls",
              "_view_name": "HBoxView",
              "_view_module": "@jupyter-widgets/controls",
              "_dom_classes": [],
              "layout": "IPY_MODEL_b0790db729a74457b1d381473d748b8a",
              "_view_count": null,
              "_model_module_version": "1.5.0",
              "box_style": "",
              "children": [
                "IPY_MODEL_7d988be3a23740abb4b092b50a7de2b0",
                "IPY_MODEL_7dc03db759c64b779a38890f763846f6",
                "IPY_MODEL_a9a926e54eb9475da96c6213bac01c20"
              ]
            }
          },
          "a9f8a338fef14fa4822404f98c9e4b01": {
            "model_module": "@jupyter-widgets/controls",
            "model_module_version": "1.5.0",
            "model_name": "FloatProgressModel",
            "state": {
              "_view_module_version": "1.5.0",
              "description_tooltip": null,
              "_model_name": "FloatProgressModel",
              "_model_module": "@jupyter-widgets/controls",
              "max": 1,
              "bar_style": "success",
              "_view_name": "ProgressView",
              "_view_module": "@jupyter-widgets/controls",
              "_dom_classes": [],
              "layout": "IPY_MODEL_adf7c0b9f9ad4328a5caec0007d0d89c",
              "orientation": "horizontal",
              "value": 1,
              "style": "IPY_MODEL_8bc5b0e540704062bebfd2be22d96e03",
              "min": 0,
              "_view_count": null,
              "_model_module_version": "1.5.0",
              "description": ""
            }
          },
          "c46b4f3793fa4e229cb30cfb2db5b75b": {
            "model_module": "@jupyter-widgets/base",
            "model_module_version": "1.2.0",
            "model_name": "LayoutModel",
            "state": {
              "_view_module_version": "1.2.0",
              "_model_name": "LayoutModel",
              "grid_row": null,
              "_model_module": "@jupyter-widgets/base",
              "overflow": null,
              "max_height": null,
              "display": null,
              "grid_auto_flow": null,
              "grid_template_rows": null,
              "align_self": null,
              "grid_auto_columns": null,
              "width": null,
              "grid_area": null,
              "align_items": null,
              "_view_name": "LayoutView",
              "left": null,
              "height": null,
              "_view_module": "@jupyter-widgets/base",
              "object_position": null,
              "justify_content": null,
              "bottom": null,
              "max_width": null,
              "border": null,
              "margin": null,
              "order": null,
              "grid_column": null,
              "grid_auto_rows": null,
              "padding": null,
              "grid_template_columns": null,
              "justify_items": null,
              "object_fit": null,
              "visibility": null,
              "_view_count": null,
              "flex_flow": null,
              "min_height": null,
              "top": null,
              "min_width": null,
              "flex": null,
              "_model_module_version": "1.2.0",
              "grid_template_areas": null,
              "overflow_x": null,
              "right": null,
              "overflow_y": null,
              "grid_gap": null,
              "align_content": null
            }
          },
          "8003ac93421f49c0bcc8412a93783fdc": {
            "model_module": "@jupyter-widgets/controls",
            "model_module_version": "1.5.0",
            "model_name": "DescriptionStyleModel",
            "state": {
              "_model_module": "@jupyter-widgets/controls",
              "_model_module_version": "1.5.0",
              "_model_name": "DescriptionStyleModel",
              "_view_count": null,
              "_view_module": "@jupyter-widgets/base",
              "_view_module_version": "1.2.0",
              "_view_name": "StyleView",
              "description_width": ""
            }
          },
          "8f4ad3ed9b624449bb3951c1b78206d7": {
            "model_module": "@jupyter-widgets/controls",
            "model_module_version": "1.5.0",
            "model_name": "HBoxModel",
            "state": {
              "_view_module_version": "1.5.0",
              "_model_name": "HBoxModel",
              "_model_module": "@jupyter-widgets/controls",
              "_view_name": "HBoxView",
              "_view_module": "@jupyter-widgets/controls",
              "_dom_classes": [],
              "layout": "IPY_MODEL_8b62d842cd4f41b79aa6da6cec427083",
              "_view_count": null,
              "_model_module_version": "1.5.0",
              "box_style": "",
              "children": [
                "IPY_MODEL_5474ed5e459a4b07973ac3c6de3ae6e4",
                "IPY_MODEL_90e6c04395594a2baea9e529efd6cafb",
                "IPY_MODEL_b1a09a450d25455fb7d6f0fda505bb00"
              ]
            }
          },
          "98237f92a3e04185a26d148ebfd67b53": {
            "model_module": "@jupyter-widgets/base",
            "model_module_version": "1.2.0",
            "model_name": "LayoutModel",
            "state": {
              "_view_module_version": "1.2.0",
              "_model_name": "LayoutModel",
              "grid_row": null,
              "_model_module": "@jupyter-widgets/base",
              "overflow": null,
              "max_height": null,
              "display": null,
              "grid_auto_flow": null,
              "grid_template_rows": null,
              "align_self": null,
              "grid_auto_columns": null,
              "width": null,
              "grid_area": null,
              "align_items": null,
              "_view_name": "LayoutView",
              "left": null,
              "height": null,
              "_view_module": "@jupyter-widgets/base",
              "object_position": null,
              "justify_content": null,
              "bottom": null,
              "max_width": null,
              "border": null,
              "margin": null,
              "order": null,
              "grid_column": null,
              "grid_auto_rows": null,
              "padding": null,
              "grid_template_columns": null,
              "justify_items": null,
              "object_fit": null,
              "visibility": null,
              "_view_count": null,
              "flex_flow": null,
              "min_height": null,
              "top": null,
              "min_width": null,
              "flex": null,
              "_model_module_version": "1.2.0",
              "grid_template_areas": null,
              "overflow_x": null,
              "right": null,
              "overflow_y": null,
              "grid_gap": null,
              "align_content": null
            }
          },
          "76c56e1e33a7431492e707c94f679aca": {
            "model_module": "@jupyter-widgets/controls",
            "model_module_version": "1.5.0",
            "model_name": "HBoxModel",
            "state": {
              "_view_module_version": "1.5.0",
              "_model_name": "HBoxModel",
              "_model_module": "@jupyter-widgets/controls",
              "_view_name": "HBoxView",
              "_view_module": "@jupyter-widgets/controls",
              "_dom_classes": [],
              "layout": "IPY_MODEL_aa3e16338d604e4eb9a39e0299403146",
              "_view_count": null,
              "_model_module_version": "1.5.0",
              "box_style": "",
              "children": [
                "IPY_MODEL_ede833cb0df046c5a6a4d4ccd16aa2e3",
                "IPY_MODEL_f56bfc6a11e948e28d78ea2301c2f477",
                "IPY_MODEL_1367ae52c04143d8b569a2018607131f"
              ]
            }
          },
          "b8b02491395045f5875ce167c0210c27": {
            "model_module": "@jupyter-widgets/base",
            "model_module_version": "1.2.0",
            "model_name": "LayoutModel",
            "state": {
              "_view_module_version": "1.2.0",
              "_model_name": "LayoutModel",
              "grid_row": null,
              "_model_module": "@jupyter-widgets/base",
              "overflow": null,
              "max_height": null,
              "display": null,
              "grid_auto_flow": null,
              "grid_template_rows": null,
              "align_self": null,
              "grid_auto_columns": null,
              "width": null,
              "grid_area": null,
              "align_items": null,
              "_view_name": "LayoutView",
              "left": null,
              "height": null,
              "_view_module": "@jupyter-widgets/base",
              "object_position": null,
              "justify_content": null,
              "bottom": null,
              "max_width": null,
              "border": null,
              "margin": null,
              "order": null,
              "grid_column": null,
              "grid_auto_rows": null,
              "padding": null,
              "grid_template_columns": null,
              "justify_items": null,
              "object_fit": null,
              "visibility": null,
              "_view_count": null,
              "flex_flow": null,
              "min_height": null,
              "top": null,
              "min_width": null,
              "flex": null,
              "_model_module_version": "1.2.0",
              "grid_template_areas": null,
              "overflow_x": null,
              "right": null,
              "overflow_y": null,
              "grid_gap": null,
              "align_content": null
            }
          },
          "8b71ddb9a01d466b91484d1f3e7d96af": {
            "model_module": "@jupyter-widgets/base",
            "model_module_version": "1.2.0",
            "model_name": "LayoutModel",
            "state": {
              "_view_module_version": "1.2.0",
              "_model_name": "LayoutModel",
              "grid_row": null,
              "_model_module": "@jupyter-widgets/base",
              "overflow": null,
              "max_height": null,
              "display": null,
              "grid_auto_flow": null,
              "grid_template_rows": null,
              "align_self": null,
              "grid_auto_columns": null,
              "width": null,
              "grid_area": null,
              "align_items": null,
              "_view_name": "LayoutView",
              "left": null,
              "height": null,
              "_view_module": "@jupyter-widgets/base",
              "object_position": null,
              "justify_content": null,
              "bottom": null,
              "max_width": null,
              "border": null,
              "margin": null,
              "order": null,
              "grid_column": null,
              "grid_auto_rows": null,
              "padding": null,
              "grid_template_columns": null,
              "justify_items": null,
              "object_fit": null,
              "visibility": null,
              "_view_count": null,
              "flex_flow": null,
              "min_height": null,
              "top": null,
              "min_width": null,
              "flex": null,
              "_model_module_version": "1.2.0",
              "grid_template_areas": null,
              "overflow_x": null,
              "right": null,
              "overflow_y": null,
              "grid_gap": null,
              "align_content": null
            }
          },
          "bd08b7d0ff3a427d89a418e30f1ab16c": {
            "model_module": "@jupyter-widgets/base",
            "model_module_version": "1.2.0",
            "model_name": "LayoutModel",
            "state": {
              "_view_module_version": "1.2.0",
              "_model_name": "LayoutModel",
              "grid_row": null,
              "_model_module": "@jupyter-widgets/base",
              "overflow": null,
              "max_height": null,
              "display": null,
              "grid_auto_flow": null,
              "grid_template_rows": null,
              "align_self": null,
              "grid_auto_columns": null,
              "width": null,
              "grid_area": null,
              "align_items": null,
              "_view_name": "LayoutView",
              "left": null,
              "height": null,
              "_view_module": "@jupyter-widgets/base",
              "object_position": null,
              "justify_content": null,
              "bottom": null,
              "max_width": null,
              "border": null,
              "margin": null,
              "order": null,
              "grid_column": null,
              "grid_auto_rows": null,
              "padding": null,
              "grid_template_columns": null,
              "justify_items": null,
              "object_fit": null,
              "visibility": null,
              "_view_count": null,
              "flex_flow": null,
              "min_height": null,
              "top": null,
              "min_width": null,
              "flex": null,
              "_model_module_version": "1.2.0",
              "grid_template_areas": null,
              "overflow_x": null,
              "right": null,
              "overflow_y": null,
              "grid_gap": null,
              "align_content": null
            }
          },
          "786c2267f8114517950e53245ae33022": {
            "model_module": "@jupyter-widgets/controls",
            "model_module_version": "1.5.0",
            "model_name": "HBoxModel",
            "state": {
              "_view_module_version": "1.5.0",
              "_model_name": "HBoxModel",
              "_model_module": "@jupyter-widgets/controls",
              "_view_name": "HBoxView",
              "_view_module": "@jupyter-widgets/controls",
              "_dom_classes": [],
              "layout": "IPY_MODEL_b8b02491395045f5875ce167c0210c27",
              "_view_count": null,
              "_model_module_version": "1.5.0",
              "box_style": "",
              "children": [
                "IPY_MODEL_ba18d469602341cf9a58cf3b0b22aea9",
                "IPY_MODEL_a4c3d9944af64d68b4ebc01e5dd2437c",
                "IPY_MODEL_4f4eb35c26b1492798fee9d3c4e5bb03"
              ]
            }
          },
          "f56bfc6a11e948e28d78ea2301c2f477": {
            "model_module": "@jupyter-widgets/controls",
            "model_module_version": "1.5.0",
            "model_name": "FloatProgressModel",
            "state": {
              "_view_module_version": "1.5.0",
              "description_tooltip": null,
              "_model_name": "FloatProgressModel",
              "_model_module": "@jupyter-widgets/controls",
              "max": 20,
              "bar_style": "success",
              "_view_name": "ProgressView",
              "_view_module": "@jupyter-widgets/controls",
              "_dom_classes": [],
              "layout": "IPY_MODEL_350e60f28d9b48938c8cd3c7a65adfc8",
              "orientation": "horizontal",
              "value": 20,
              "style": "IPY_MODEL_e4589928473345f786402b635e35a412",
              "min": 0,
              "_view_count": null,
              "_model_module_version": "1.5.0",
              "description": ""
            }
          },
          "d047c358579f42de823c513d8b87bd54": {
            "model_module": "@jupyter-widgets/controls",
            "model_module_version": "1.5.0",
            "model_name": "ProgressStyleModel",
            "state": {
              "_view_module_version": "1.2.0",
              "_model_name": "ProgressStyleModel",
              "_model_module": "@jupyter-widgets/controls",
              "description_width": "",
              "_view_name": "StyleView",
              "_view_module": "@jupyter-widgets/base",
              "_view_count": null,
              "bar_color": null,
              "_model_module_version": "1.5.0"
            }
          },
          "90e6c04395594a2baea9e529efd6cafb": {
            "model_module": "@jupyter-widgets/controls",
            "model_module_version": "1.5.0",
            "model_name": "FloatProgressModel",
            "state": {
              "_view_module_version": "1.5.0",
              "description_tooltip": null,
              "_model_name": "FloatProgressModel",
              "_model_module": "@jupyter-widgets/controls",
              "max": 1,
              "bar_style": "success",
              "_view_name": "ProgressView",
              "_view_module": "@jupyter-widgets/controls",
              "_dom_classes": [],
              "layout": "IPY_MODEL_a8d065cce96144b3abede928e48b70d6",
              "orientation": "horizontal",
              "value": 1,
              "style": "IPY_MODEL_6b28a19b4fc34c7a8e973878b6f7c0a9",
              "min": 0,
              "_view_count": null,
              "_model_module_version": "1.5.0",
              "description": ""
            }
          },
          "1c7de68230104c4995b47fa29a599fc3": {
            "model_module": "@jupyter-widgets/controls",
            "model_module_version": "1.5.0",
            "model_name": "DescriptionStyleModel",
            "state": {
              "_model_module": "@jupyter-widgets/controls",
              "_model_module_version": "1.5.0",
              "_model_name": "DescriptionStyleModel",
              "_view_count": null,
              "_view_module": "@jupyter-widgets/base",
              "_view_module_version": "1.2.0",
              "_view_name": "StyleView",
              "description_width": ""
            }
          },
          "74688d13d99042c0aa1f214ded632a98": {
            "model_module": "@jupyter-widgets/controls",
            "model_module_version": "1.5.0",
            "model_name": "DescriptionStyleModel",
            "state": {
              "_model_module": "@jupyter-widgets/controls",
              "_model_module_version": "1.5.0",
              "_model_name": "DescriptionStyleModel",
              "_view_count": null,
              "_view_module": "@jupyter-widgets/base",
              "_view_module_version": "1.2.0",
              "_view_name": "StyleView",
              "description_width": ""
            }
          },
          "ede833cb0df046c5a6a4d4ccd16aa2e3": {
            "model_module": "@jupyter-widgets/controls",
            "model_module_version": "1.5.0",
            "model_name": "HTMLModel",
            "state": {
              "_view_module_version": "1.5.0",
              "description_tooltip": null,
              "_model_name": "HTMLModel",
              "_model_module": "@jupyter-widgets/controls",
              "_view_name": "HTMLView",
              "_view_module": "@jupyter-widgets/controls",
              "_dom_classes": [],
              "layout": "IPY_MODEL_98237f92a3e04185a26d148ebfd67b53",
              "value": "100%",
              "style": "IPY_MODEL_762e5b00a7ec49938287a92e9a580d19",
              "placeholder": "​",
              "_view_count": null,
              "_model_module_version": "1.5.0",
              "description": ""
            }
          },
          "aa3e16338d604e4eb9a39e0299403146": {
            "model_module": "@jupyter-widgets/base",
            "model_module_version": "1.2.0",
            "model_name": "LayoutModel",
            "state": {
              "_view_module_version": "1.2.0",
              "_model_name": "LayoutModel",
              "grid_row": null,
              "_model_module": "@jupyter-widgets/base",
              "overflow": null,
              "max_height": null,
              "display": null,
              "grid_auto_flow": null,
              "grid_template_rows": null,
              "align_self": null,
              "grid_auto_columns": null,
              "width": null,
              "grid_area": null,
              "align_items": null,
              "_view_name": "LayoutView",
              "left": null,
              "height": null,
              "_view_module": "@jupyter-widgets/base",
              "object_position": null,
              "justify_content": null,
              "bottom": null,
              "max_width": null,
              "border": null,
              "margin": null,
              "order": null,
              "grid_column": null,
              "grid_auto_rows": null,
              "padding": null,
              "grid_template_columns": null,
              "justify_items": null,
              "object_fit": null,
              "visibility": null,
              "_view_count": null,
              "flex_flow": null,
              "min_height": null,
              "top": null,
              "min_width": null,
              "flex": null,
              "_model_module_version": "1.2.0",
              "grid_template_areas": null,
              "overflow_x": null,
              "right": null,
              "overflow_y": null,
              "grid_gap": null,
              "align_content": null
            }
          },
          "b0790db729a74457b1d381473d748b8a": {
            "model_module": "@jupyter-widgets/base",
            "model_module_version": "1.2.0",
            "model_name": "LayoutModel",
            "state": {
              "_view_module_version": "1.2.0",
              "_model_name": "LayoutModel",
              "grid_row": null,
              "_model_module": "@jupyter-widgets/base",
              "overflow": null,
              "max_height": null,
              "display": null,
              "grid_auto_flow": null,
              "grid_template_rows": null,
              "align_self": null,
              "grid_auto_columns": null,
              "width": null,
              "grid_area": null,
              "align_items": null,
              "_view_name": "LayoutView",
              "left": null,
              "height": null,
              "_view_module": "@jupyter-widgets/base",
              "object_position": null,
              "justify_content": null,
              "bottom": null,
              "max_width": null,
              "border": null,
              "margin": null,
              "order": null,
              "grid_column": null,
              "grid_auto_rows": null,
              "padding": null,
              "grid_template_columns": null,
              "justify_items": null,
              "object_fit": null,
              "visibility": null,
              "_view_count": null,
              "flex_flow": null,
              "min_height": null,
              "top": null,
              "min_width": null,
              "flex": null,
              "_model_module_version": "1.2.0",
              "grid_template_areas": null,
              "overflow_x": null,
              "right": null,
              "overflow_y": null,
              "grid_gap": null,
              "align_content": null
            }
          },
          "8b62d842cd4f41b79aa6da6cec427083": {
            "model_module": "@jupyter-widgets/base",
            "model_module_version": "1.2.0",
            "model_name": "LayoutModel",
            "state": {
              "_view_module_version": "1.2.0",
              "_model_name": "LayoutModel",
              "grid_row": null,
              "_model_module": "@jupyter-widgets/base",
              "overflow": null,
              "max_height": null,
              "display": null,
              "grid_auto_flow": null,
              "grid_template_rows": null,
              "align_self": null,
              "grid_auto_columns": null,
              "width": null,
              "grid_area": null,
              "align_items": null,
              "_view_name": "LayoutView",
              "left": null,
              "height": null,
              "_view_module": "@jupyter-widgets/base",
              "object_position": null,
              "justify_content": null,
              "bottom": null,
              "max_width": null,
              "border": null,
              "margin": null,
              "order": null,
              "grid_column": null,
              "grid_auto_rows": null,
              "padding": null,
              "grid_template_columns": null,
              "justify_items": null,
              "object_fit": null,
              "visibility": null,
              "_view_count": null,
              "flex_flow": null,
              "min_height": null,
              "top": null,
              "min_width": null,
              "flex": null,
              "_model_module_version": "1.2.0",
              "grid_template_areas": null,
              "overflow_x": null,
              "right": null,
              "overflow_y": null,
              "grid_gap": null,
              "align_content": null
            }
          },
          "adf7c0b9f9ad4328a5caec0007d0d89c": {
            "model_module": "@jupyter-widgets/base",
            "model_module_version": "1.2.0",
            "model_name": "LayoutModel",
            "state": {
              "_view_module_version": "1.2.0",
              "_model_name": "LayoutModel",
              "grid_row": null,
              "_model_module": "@jupyter-widgets/base",
              "overflow": null,
              "max_height": null,
              "display": null,
              "grid_auto_flow": null,
              "grid_template_rows": null,
              "align_self": null,
              "grid_auto_columns": null,
              "width": null,
              "grid_area": null,
              "align_items": null,
              "_view_name": "LayoutView",
              "left": null,
              "height": null,
              "_view_module": "@jupyter-widgets/base",
              "object_position": null,
              "justify_content": null,
              "bottom": null,
              "max_width": null,
              "border": null,
              "margin": null,
              "order": null,
              "grid_column": null,
              "grid_auto_rows": null,
              "padding": null,
              "grid_template_columns": null,
              "justify_items": null,
              "object_fit": null,
              "visibility": null,
              "_view_count": null,
              "flex_flow": null,
              "min_height": null,
              "top": null,
              "min_width": null,
              "flex": null,
              "_model_module_version": "1.2.0",
              "grid_template_areas": null,
              "overflow_x": null,
              "right": null,
              "overflow_y": null,
              "grid_gap": null,
              "align_content": null
            }
          },
          "f599ccf3d064469b90cc2bb818d0d8cb": {
            "model_module": "@jupyter-widgets/base",
            "model_module_version": "1.2.0",
            "model_name": "LayoutModel",
            "state": {
              "_view_module_version": "1.2.0",
              "_model_name": "LayoutModel",
              "grid_row": null,
              "_model_module": "@jupyter-widgets/base",
              "overflow": null,
              "max_height": null,
              "display": null,
              "grid_auto_flow": null,
              "grid_template_rows": null,
              "align_self": null,
              "grid_auto_columns": null,
              "width": null,
              "grid_area": null,
              "align_items": null,
              "_view_name": "LayoutView",
              "left": null,
              "height": null,
              "_view_module": "@jupyter-widgets/base",
              "object_position": null,
              "justify_content": null,
              "bottom": null,
              "max_width": null,
              "border": null,
              "margin": null,
              "order": null,
              "grid_column": null,
              "grid_auto_rows": null,
              "padding": null,
              "grid_template_columns": null,
              "justify_items": null,
              "object_fit": null,
              "visibility": null,
              "_view_count": null,
              "flex_flow": null,
              "min_height": null,
              "top": null,
              "min_width": null,
              "flex": null,
              "_model_module_version": "1.2.0",
              "grid_template_areas": null,
              "overflow_x": null,
              "right": null,
              "overflow_y": null,
              "grid_gap": null,
              "align_content": null
            }
          },
          "1f6013e469f44bae906f8b8d796ddf03": {
            "model_module": "@jupyter-widgets/base",
            "model_module_version": "1.2.0",
            "model_name": "LayoutModel",
            "state": {
              "_view_module_version": "1.2.0",
              "_model_name": "LayoutModel",
              "grid_row": null,
              "_model_module": "@jupyter-widgets/base",
              "overflow": null,
              "max_height": null,
              "display": null,
              "grid_auto_flow": null,
              "grid_template_rows": null,
              "align_self": null,
              "grid_auto_columns": null,
              "width": null,
              "grid_area": null,
              "align_items": null,
              "_view_name": "LayoutView",
              "left": null,
              "height": null,
              "_view_module": "@jupyter-widgets/base",
              "object_position": null,
              "justify_content": null,
              "bottom": null,
              "max_width": null,
              "border": null,
              "margin": null,
              "order": null,
              "grid_column": null,
              "grid_auto_rows": null,
              "padding": null,
              "grid_template_columns": null,
              "justify_items": null,
              "object_fit": null,
              "visibility": null,
              "_view_count": null,
              "flex_flow": null,
              "min_height": null,
              "top": null,
              "min_width": null,
              "flex": null,
              "_model_module_version": "1.2.0",
              "grid_template_areas": null,
              "overflow_x": null,
              "right": null,
              "overflow_y": null,
              "grid_gap": null,
              "align_content": null
            }
          },
          "2816683bca8b403393d16ddce7f61451": {
            "model_module": "@jupyter-widgets/controls",
            "model_module_version": "1.5.0",
            "model_name": "DescriptionStyleModel",
            "state": {
              "_model_module": "@jupyter-widgets/controls",
              "_model_module_version": "1.5.0",
              "_model_name": "DescriptionStyleModel",
              "_view_count": null,
              "_view_module": "@jupyter-widgets/base",
              "_view_module_version": "1.2.0",
              "_view_name": "StyleView",
              "description_width": ""
            }
          },
          "1aaccbf8980a4a87b279c54c0cd6ecdd": {
            "model_module": "@jupyter-widgets/base",
            "model_module_version": "1.2.0",
            "model_name": "LayoutModel",
            "state": {
              "_view_module_version": "1.2.0",
              "_model_name": "LayoutModel",
              "grid_row": null,
              "_model_module": "@jupyter-widgets/base",
              "overflow": null,
              "max_height": null,
              "display": null,
              "grid_auto_flow": null,
              "grid_template_rows": null,
              "align_self": null,
              "grid_auto_columns": null,
              "width": null,
              "grid_area": null,
              "align_items": null,
              "_view_name": "LayoutView",
              "left": null,
              "height": null,
              "_view_module": "@jupyter-widgets/base",
              "object_position": null,
              "justify_content": null,
              "bottom": null,
              "max_width": null,
              "border": null,
              "margin": null,
              "order": null,
              "grid_column": null,
              "grid_auto_rows": null,
              "padding": null,
              "grid_template_columns": null,
              "justify_items": null,
              "object_fit": null,
              "visibility": null,
              "_view_count": null,
              "flex_flow": null,
              "min_height": null,
              "top": null,
              "min_width": null,
              "flex": null,
              "_model_module_version": "1.2.0",
              "grid_template_areas": null,
              "overflow_x": null,
              "right": null,
              "overflow_y": null,
              "grid_gap": null,
              "align_content": null
            }
          },
          "aac3cc7d1f2849cebbc45462095c0a48": {
            "model_module": "@jupyter-widgets/base",
            "model_module_version": "1.2.0",
            "model_name": "LayoutModel",
            "state": {
              "_view_module_version": "1.2.0",
              "_model_name": "LayoutModel",
              "grid_row": null,
              "_model_module": "@jupyter-widgets/base",
              "overflow": null,
              "max_height": null,
              "display": null,
              "grid_auto_flow": null,
              "grid_template_rows": null,
              "align_self": null,
              "grid_auto_columns": null,
              "width": null,
              "grid_area": null,
              "align_items": null,
              "_view_name": "LayoutView",
              "left": null,
              "height": null,
              "_view_module": "@jupyter-widgets/base",
              "object_position": null,
              "justify_content": null,
              "bottom": null,
              "max_width": null,
              "border": null,
              "margin": null,
              "order": null,
              "grid_column": null,
              "grid_auto_rows": null,
              "padding": null,
              "grid_template_columns": null,
              "justify_items": null,
              "object_fit": null,
              "visibility": null,
              "_view_count": null,
              "flex_flow": null,
              "min_height": null,
              "top": null,
              "min_width": null,
              "flex": null,
              "_model_module_version": "1.2.0",
              "grid_template_areas": null,
              "overflow_x": null,
              "right": null,
              "overflow_y": null,
              "grid_gap": null,
              "align_content": null
            }
          },
          "ec581eeca781490e94efaccfad85d37b": {
            "model_module": "@jupyter-widgets/controls",
            "model_module_version": "1.5.0",
            "model_name": "HBoxModel",
            "state": {
              "_view_module_version": "1.5.0",
              "_model_name": "HBoxModel",
              "_model_module": "@jupyter-widgets/controls",
              "_view_name": "HBoxView",
              "_view_module": "@jupyter-widgets/controls",
              "_dom_classes": [],
              "layout": "IPY_MODEL_1aaccbf8980a4a87b279c54c0cd6ecdd",
              "_view_count": null,
              "_model_module_version": "1.5.0",
              "box_style": "",
              "children": [
                "IPY_MODEL_19f5b02e6d3145de9146687274a9b90d",
                "IPY_MODEL_a9f8a338fef14fa4822404f98c9e4b01",
                "IPY_MODEL_55b5e671bdc54737914052f021be0b42"
              ]
            }
          },
          "cf0f1a3dba55429b94630faccf8f142f": {
            "model_module": "@jupyter-widgets/base",
            "model_module_version": "1.2.0",
            "model_name": "LayoutModel",
            "state": {
              "_view_module_version": "1.2.0",
              "_model_name": "LayoutModel",
              "grid_row": null,
              "_model_module": "@jupyter-widgets/base",
              "overflow": null,
              "max_height": null,
              "display": null,
              "grid_auto_flow": null,
              "grid_template_rows": null,
              "align_self": null,
              "grid_auto_columns": null,
              "width": null,
              "grid_area": null,
              "align_items": null,
              "_view_name": "LayoutView",
              "left": null,
              "height": null,
              "_view_module": "@jupyter-widgets/base",
              "object_position": null,
              "justify_content": null,
              "bottom": null,
              "max_width": null,
              "border": null,
              "margin": null,
              "order": null,
              "grid_column": null,
              "grid_auto_rows": null,
              "padding": null,
              "grid_template_columns": null,
              "justify_items": null,
              "object_fit": null,
              "visibility": null,
              "_view_count": null,
              "flex_flow": null,
              "min_height": null,
              "top": null,
              "min_width": null,
              "flex": null,
              "_model_module_version": "1.2.0",
              "grid_template_areas": null,
              "overflow_x": null,
              "right": null,
              "overflow_y": null,
              "grid_gap": null,
              "align_content": null
            }
          },
          "b1a09a450d25455fb7d6f0fda505bb00": {
            "model_module": "@jupyter-widgets/controls",
            "model_module_version": "1.5.0",
            "model_name": "HTMLModel",
            "state": {
              "_view_module_version": "1.5.0",
              "description_tooltip": null,
              "_model_name": "HTMLModel",
              "_model_module": "@jupyter-widgets/controls",
              "_view_name": "HTMLView",
              "_view_module": "@jupyter-widgets/controls",
              "_dom_classes": [],
              "layout": "IPY_MODEL_6f17d9d9c82c4179a703e6b4b458dcb2",
              "value": " 1/1 [00:29&lt;00:00, 29.17s/it]",
              "style": "IPY_MODEL_6d4bcb70a3e940619712a90fd9ee4cef",
              "placeholder": "​",
              "_view_count": null,
              "_model_module_version": "1.5.0",
              "description": ""
            }
          },
          "a4c3d9944af64d68b4ebc01e5dd2437c": {
            "model_module": "@jupyter-widgets/controls",
            "model_module_version": "1.5.0",
            "model_name": "FloatProgressModel",
            "state": {
              "_view_module_version": "1.5.0",
              "description_tooltip": null,
              "_model_name": "FloatProgressModel",
              "_model_module": "@jupyter-widgets/controls",
              "max": 50,
              "bar_style": "success",
              "_view_name": "ProgressView",
              "_view_module": "@jupyter-widgets/controls",
              "_dom_classes": [],
              "layout": "IPY_MODEL_c46b4f3793fa4e229cb30cfb2db5b75b",
              "orientation": "horizontal",
              "value": 50,
              "style": "IPY_MODEL_7fc985fe271c400f8d922006f845e02d",
              "min": 0,
              "_view_count": null,
              "_model_module_version": "1.5.0",
              "description": ""
            }
          },
          "e4589928473345f786402b635e35a412": {
            "model_module": "@jupyter-widgets/controls",
            "model_module_version": "1.5.0",
            "model_name": "ProgressStyleModel",
            "state": {
              "_view_module_version": "1.2.0",
              "_model_name": "ProgressStyleModel",
              "_model_module": "@jupyter-widgets/controls",
              "description_width": "",
              "_view_name": "StyleView",
              "_view_module": "@jupyter-widgets/base",
              "_view_count": null,
              "bar_color": null,
              "_model_module_version": "1.5.0"
            }
          },
          "7d988be3a23740abb4b092b50a7de2b0": {
            "model_module": "@jupyter-widgets/controls",
            "model_module_version": "1.5.0",
            "model_name": "HTMLModel",
            "state": {
              "_view_module_version": "1.5.0",
              "description_tooltip": null,
              "_model_name": "HTMLModel",
              "_model_module": "@jupyter-widgets/controls",
              "_view_name": "HTMLView",
              "_view_module": "@jupyter-widgets/controls",
              "_dom_classes": [],
              "layout": "IPY_MODEL_aac3cc7d1f2849cebbc45462095c0a48",
              "value": "Generate report structure: 100%",
              "style": "IPY_MODEL_552e9ee63afb4e9f9437d29dadcbe0ee",
              "placeholder": "​",
              "_view_count": null,
              "_model_module_version": "1.5.0",
              "description": ""
            }
          },
          "19f5b02e6d3145de9146687274a9b90d": {
            "model_module": "@jupyter-widgets/controls",
            "model_module_version": "1.5.0",
            "model_name": "HTMLModel",
            "state": {
              "_view_module_version": "1.5.0",
              "description_tooltip": null,
              "_model_name": "HTMLModel",
              "_model_module": "@jupyter-widgets/controls",
              "_view_name": "HTMLView",
              "_view_module": "@jupyter-widgets/controls",
              "_dom_classes": [],
              "layout": "IPY_MODEL_72b6da2d33514ad78863f8abc472304d",
              "value": "Export report to file: 100%",
              "style": "IPY_MODEL_7fa7a452971a43f893f67bea5d998d27",
              "placeholder": "​",
              "_view_count": null,
              "_model_module_version": "1.5.0",
              "description": ""
            }
          },
          "552e9ee63afb4e9f9437d29dadcbe0ee": {
            "model_module": "@jupyter-widgets/controls",
            "model_module_version": "1.5.0",
            "model_name": "DescriptionStyleModel",
            "state": {
              "_model_module": "@jupyter-widgets/controls",
              "_model_module_version": "1.5.0",
              "_model_name": "DescriptionStyleModel",
              "_view_count": null,
              "_view_module": "@jupyter-widgets/base",
              "_view_module_version": "1.2.0",
              "_view_name": "StyleView",
              "description_width": ""
            }
          },
          "762e5b00a7ec49938287a92e9a580d19": {
            "model_module": "@jupyter-widgets/controls",
            "model_module_version": "1.5.0",
            "model_name": "DescriptionStyleModel",
            "state": {
              "_model_module": "@jupyter-widgets/controls",
              "_model_module_version": "1.5.0",
              "_model_name": "DescriptionStyleModel",
              "_view_count": null,
              "_view_module": "@jupyter-widgets/base",
              "_view_module_version": "1.2.0",
              "_view_name": "StyleView",
              "description_width": ""
            }
          },
          "a9a926e54eb9475da96c6213bac01c20": {
            "model_module": "@jupyter-widgets/controls",
            "model_module_version": "1.5.0",
            "model_name": "HTMLModel",
            "state": {
              "_view_module_version": "1.5.0",
              "description_tooltip": null,
              "_model_name": "HTMLModel",
              "_model_module": "@jupyter-widgets/controls",
              "_view_name": "HTMLView",
              "_view_module": "@jupyter-widgets/controls",
              "_dom_classes": [],
              "layout": "IPY_MODEL_1e1865bed82a4c90a94b4024f9c7b585",
              "value": " 1/1 [00:11&lt;00:00, 11.20s/it]",
              "style": "IPY_MODEL_e6074bcf78cb4f2eab2fd3728ecc3838",
              "placeholder": "​",
              "_view_count": null,
              "_model_module_version": "1.5.0",
              "description": ""
            }
          },
          "c4aa5744ad87433dbf595d79c833656c": {
            "model_module": "@jupyter-widgets/base",
            "model_module_version": "1.2.0",
            "model_name": "LayoutModel",
            "state": {
              "_view_module_version": "1.2.0",
              "_model_name": "LayoutModel",
              "grid_row": null,
              "_model_module": "@jupyter-widgets/base",
              "overflow": null,
              "max_height": null,
              "display": null,
              "grid_auto_flow": null,
              "grid_template_rows": null,
              "align_self": null,
              "grid_auto_columns": null,
              "width": null,
              "grid_area": null,
              "align_items": null,
              "_view_name": "LayoutView",
              "left": null,
              "height": null,
              "_view_module": "@jupyter-widgets/base",
              "object_position": null,
              "justify_content": null,
              "bottom": null,
              "max_width": null,
              "border": null,
              "margin": null,
              "order": null,
              "grid_column": null,
              "grid_auto_rows": null,
              "padding": null,
              "grid_template_columns": null,
              "justify_items": null,
              "object_fit": null,
              "visibility": null,
              "_view_count": null,
              "flex_flow": null,
              "min_height": null,
              "top": null,
              "min_width": null,
              "flex": null,
              "_model_module_version": "1.2.0",
              "grid_template_areas": null,
              "overflow_x": null,
              "right": null,
              "overflow_y": null,
              "grid_gap": null,
              "align_content": null
            }
          },
          "7dc03db759c64b779a38890f763846f6": {
            "model_module": "@jupyter-widgets/controls",
            "model_module_version": "1.5.0",
            "model_name": "FloatProgressModel",
            "state": {
              "_view_module_version": "1.5.0",
              "description_tooltip": null,
              "_model_name": "FloatProgressModel",
              "_model_module": "@jupyter-widgets/controls",
              "max": 1,
              "bar_style": "success",
              "_view_name": "ProgressView",
              "_view_module": "@jupyter-widgets/controls",
              "_dom_classes": [],
              "layout": "IPY_MODEL_f599ccf3d064469b90cc2bb818d0d8cb",
              "orientation": "horizontal",
              "value": 1,
              "style": "IPY_MODEL_d047c358579f42de823c513d8b87bd54",
              "min": 0,
              "_view_count": null,
              "_model_module_version": "1.5.0",
              "description": ""
            }
          },
          "ba18d469602341cf9a58cf3b0b22aea9": {
            "model_module": "@jupyter-widgets/controls",
            "model_module_version": "1.5.0",
            "model_name": "HTMLModel",
            "state": {
              "_view_module_version": "1.5.0",
              "description_tooltip": null,
              "_model_name": "HTMLModel",
              "_model_module": "@jupyter-widgets/controls",
              "_view_name": "HTMLView",
              "_view_module": "@jupyter-widgets/controls",
              "_dom_classes": [],
              "layout": "IPY_MODEL_8b71ddb9a01d466b91484d1f3e7d96af",
              "value": "Summarize dataset: 100%",
              "style": "IPY_MODEL_2816683bca8b403393d16ddce7f61451",
              "placeholder": "​",
              "_view_count": null,
              "_model_module_version": "1.5.0",
              "description": ""
            }
          }
        },
        "version_major": 2,
        "version_minor": 0
      }
    },
    "kernel_info": {
      "name": "python38-azureml"
    },
    "nteract": {
      "version": "nteract-front-end@1.0.0"
    }
  },
  "nbformat": 4,
  "nbformat_minor": 5
}